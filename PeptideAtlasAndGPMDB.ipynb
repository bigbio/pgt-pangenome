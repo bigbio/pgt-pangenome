{
 "cells": [
  {
   "cell_type": "code",
   "execution_count": 2,
   "metadata": {
    "collapsed": false,
    "jupyter": {
     "outputs_hidden": false
    },
    "pycharm": {
     "name": "#%%\n"
    }
   },
   "outputs": [],
   "source": [
    "import pandas as pd\n",
    "import requests\n",
    "from tqdm import tqdm"
   ]
  },
  {
   "cell_type": "markdown",
   "source": [
    "#### Read GCA"
   ],
   "metadata": {
    "collapsed": false,
    "pycharm": {
     "name": "#%% md\n"
    }
   }
  },
  {
   "cell_type": "code",
   "execution_count": 44,
   "metadata": {
    "collapsed": false,
    "jupyter": {
     "outputs_hidden": false
    },
    "pycharm": {
     "name": "#%%\n"
    }
   },
   "outputs": [],
   "source": [
    "blast_out = pd.read_table(\"/home1/wangd/project/PXD010154/GCA_blast/PXD010154-1de73bcb-ee3e-4d19-9d8d-da72f11d5fac.psm.parquet/blast_out.tsv\")"
   ]
  },
  {
   "cell_type": "code",
   "execution_count": 45,
   "metadata": {
    "collapsed": false,
    "jupyter": {
     "outputs_hidden": false
    },
    "pycharm": {
     "name": "#%%\n"
    }
   },
   "outputs": [],
   "source": [
    "GCA = blast_out[blast_out[\"isGCA\"]==\"GCA\"]"
   ]
  },
  {
   "cell_type": "code",
   "execution_count": 46,
   "metadata": {
    "collapsed": false,
    "jupyter": {
     "outputs_hidden": false
    },
    "pycharm": {
     "name": "#%%\n"
    }
   },
   "outputs": [],
   "source": [
    "GCA.to_csv('/home1/wangd/project/PXD010154/GCA_blast/PXD010154-1de73bcb-ee3e-4d19-9d8d-da72f11d5fac.psm.parquet/isGCA.tsv',sep='\\t', index=False)"
   ]
  },
  {
   "cell_type": "code",
   "execution_count": 3,
   "metadata": {
    "collapsed": false,
    "jupyter": {
     "outputs_hidden": false
    },
    "pycharm": {
     "name": "#%%\n"
    }
   },
   "outputs": [],
   "source": [
    "GCA = pd.read_table(r'C:\\Users\\wd\\Desktop\\isGCA.tsv')"
   ]
  },
  {
   "cell_type": "code",
   "execution_count": 4,
   "metadata": {
    "collapsed": false,
    "jupyter": {
     "outputs_hidden": false
    },
    "pycharm": {
     "name": "#%%\n"
    }
   },
   "outputs": [
    {
     "data": {
      "text/plain": "                                 sequence     protein_accessions  \\\n0                   DIGTAPFAPNLEEINNILESK  GCA_166623,GCA_181492   \n1               IFLVSVEEPLLVKLVSELTPLTVHK             GCA_248243   \n2                          TVMPATLNKLLNNK             GCA_283984   \n3          SKVPGVVSGAMSGAVLQNVPTSTVWVAGPK  GCA_122173,GCA_242828   \n4              NHSVAESLNYVASWNMSMLQTQDLVK              GCA_64056   \n...                                   ...                    ...   \n104474                    AMGIMNSFINDIFER             GCA_243854   \n104475              DVASLSSQIQDTQELLQEETR             GCA_293797   \n104476                    AMGIMNSFINDIFER             GCA_243854   \n104477  LGELTMTDATPDSLSLSWMVPEGQFDHFLVQYR             GCA_285753   \n104478                        LLNLLADLVER             GCA_168207   \n\n       protein_start_positions protein_end_positions  protein_global_qvalue  \\\n0                    [937 937]             [957 957]               0.000556   \n1                       [1349]                [1373]               0.000556   \n2                        [225]                 [238]               0.063686   \n3                    [272 272]             [301 301]               0.000556   \n4                        [284]                 [309]               0.000556   \n...                        ...                   ...                    ...   \n104474                    [59]                  [73]               0.000556   \n104475                  [1316]                [1336]               0.000556   \n104476                    [59]                  [73]               0.000556   \n104477                  [2878]                [2910]               0.000556   \n104478                   [104]                 [114]               0.000556   \n\n        unique                      modifications  retention_time  charge  \\\n0            0                                NaN       6080.6000       2   \n1            1                                NaN       5854.5000       3   \n2            1       ['3-UNIMOD:35' '8-UNIMOD:7']       4333.1000       3   \n3            0  ['11-UNIMOD:35' '17|18-UNIMOD:7']       4128.7000       3   \n4            1   ['1|15-UNIMOD:7' '16-UNIMOD:35']       5243.2000       3   \n...        ...                                ...             ...     ...   \n104474       1     ['2|5-UNIMOD:35' '6-UNIMOD:7']       4789.1636       2   \n104475       1                                NaN       5055.1770       2   \n104476       1     ['2|5-UNIMOD:35' '6-UNIMOD:7']       5820.5356       2   \n104477       1                   ['19-UNIMOD:35']       5644.5786       3   \n104478       1                                NaN       5904.1143       2   \n\n        exp_mass_to_charge  ...  consensus_support  \\\n0              1143.094299  ...                NaN   \n1               935.561462  ...                NaN   \n2               525.282653  ...                NaN   \n3               981.527770  ...                NaN   \n4               995.142455  ...                NaN   \n...                    ...  ...                ...   \n104474          896.406311  ...                NaN   \n104475         1195.597900  ...                NaN   \n104476          896.407410  ...                NaN   \n104477         1267.610718  ...                NaN   \n104478          634.882690  ...                NaN   \n\n                 reference_file_name  scan_number  mz_array  intensity_array  \\\n0       01524_A01_P015424_S00_N01_R1        41482       NaN              NaN   \n1       01524_A01_P015424_S00_N01_R1        39707       NaN              NaN   \n2       01524_A01_P015424_S00_N01_R1        24371       NaN              NaN   \n3       01524_A01_P015424_S00_N01_R1        22245       NaN              NaN   \n4       01524_A01_P015424_S00_N01_R1        33949       NaN              NaN   \n...                              ...          ...       ...              ...   \n104474  01307_D05_P013386_S00_N36_R1        36358       NaN              NaN   \n104475  01307_D05_P013386_S00_N36_R1        38639       NaN              NaN   \n104476  01307_D05_P013386_S00_N36_R1        45019       NaN              NaN   \n104477  01307_D05_P013386_S00_N36_R1        43573       NaN              NaN   \n104478  01307_D05_P013386_S00_N36_R1        45703       NaN              NaN   \n\n       num_peaks  gene_accessions gene_names  prot_source  isGCA  \n0            NaN              NaN        NaN          GCA    GCA  \n1            NaN              NaN        NaN          GCA    GCA  \n2            NaN              NaN        NaN          GCA    GCA  \n3            NaN              NaN        NaN          GCA    GCA  \n4            NaN              NaN        NaN          GCA    GCA  \n...          ...              ...        ...          ...    ...  \n104474       NaN              NaN        NaN          GCA    GCA  \n104475       NaN              NaN        NaN          GCA    GCA  \n104476       NaN              NaN        NaN          GCA    GCA  \n104477       NaN              NaN        NaN          GCA    GCA  \n104478       NaN              NaN        NaN          GCA    GCA  \n\n[104479 rows x 26 columns]",
      "text/html": "<div>\n<style scoped>\n    .dataframe tbody tr th:only-of-type {\n        vertical-align: middle;\n    }\n\n    .dataframe tbody tr th {\n        vertical-align: top;\n    }\n\n    .dataframe thead th {\n        text-align: right;\n    }\n</style>\n<table border=\"1\" class=\"dataframe\">\n  <thead>\n    <tr style=\"text-align: right;\">\n      <th></th>\n      <th>sequence</th>\n      <th>protein_accessions</th>\n      <th>protein_start_positions</th>\n      <th>protein_end_positions</th>\n      <th>protein_global_qvalue</th>\n      <th>unique</th>\n      <th>modifications</th>\n      <th>retention_time</th>\n      <th>charge</th>\n      <th>exp_mass_to_charge</th>\n      <th>...</th>\n      <th>consensus_support</th>\n      <th>reference_file_name</th>\n      <th>scan_number</th>\n      <th>mz_array</th>\n      <th>intensity_array</th>\n      <th>num_peaks</th>\n      <th>gene_accessions</th>\n      <th>gene_names</th>\n      <th>prot_source</th>\n      <th>isGCA</th>\n    </tr>\n  </thead>\n  <tbody>\n    <tr>\n      <th>0</th>\n      <td>DIGTAPFAPNLEEINNILESK</td>\n      <td>GCA_166623,GCA_181492</td>\n      <td>[937 937]</td>\n      <td>[957 957]</td>\n      <td>0.000556</td>\n      <td>0</td>\n      <td>NaN</td>\n      <td>6080.6000</td>\n      <td>2</td>\n      <td>1143.094299</td>\n      <td>...</td>\n      <td>NaN</td>\n      <td>01524_A01_P015424_S00_N01_R1</td>\n      <td>41482</td>\n      <td>NaN</td>\n      <td>NaN</td>\n      <td>NaN</td>\n      <td>NaN</td>\n      <td>NaN</td>\n      <td>GCA</td>\n      <td>GCA</td>\n    </tr>\n    <tr>\n      <th>1</th>\n      <td>IFLVSVEEPLLVKLVSELTPLTVHK</td>\n      <td>GCA_248243</td>\n      <td>[1349]</td>\n      <td>[1373]</td>\n      <td>0.000556</td>\n      <td>1</td>\n      <td>NaN</td>\n      <td>5854.5000</td>\n      <td>3</td>\n      <td>935.561462</td>\n      <td>...</td>\n      <td>NaN</td>\n      <td>01524_A01_P015424_S00_N01_R1</td>\n      <td>39707</td>\n      <td>NaN</td>\n      <td>NaN</td>\n      <td>NaN</td>\n      <td>NaN</td>\n      <td>NaN</td>\n      <td>GCA</td>\n      <td>GCA</td>\n    </tr>\n    <tr>\n      <th>2</th>\n      <td>TVMPATLNKLLNNK</td>\n      <td>GCA_283984</td>\n      <td>[225]</td>\n      <td>[238]</td>\n      <td>0.063686</td>\n      <td>1</td>\n      <td>['3-UNIMOD:35' '8-UNIMOD:7']</td>\n      <td>4333.1000</td>\n      <td>3</td>\n      <td>525.282653</td>\n      <td>...</td>\n      <td>NaN</td>\n      <td>01524_A01_P015424_S00_N01_R1</td>\n      <td>24371</td>\n      <td>NaN</td>\n      <td>NaN</td>\n      <td>NaN</td>\n      <td>NaN</td>\n      <td>NaN</td>\n      <td>GCA</td>\n      <td>GCA</td>\n    </tr>\n    <tr>\n      <th>3</th>\n      <td>SKVPGVVSGAMSGAVLQNVPTSTVWVAGPK</td>\n      <td>GCA_122173,GCA_242828</td>\n      <td>[272 272]</td>\n      <td>[301 301]</td>\n      <td>0.000556</td>\n      <td>0</td>\n      <td>['11-UNIMOD:35' '17|18-UNIMOD:7']</td>\n      <td>4128.7000</td>\n      <td>3</td>\n      <td>981.527770</td>\n      <td>...</td>\n      <td>NaN</td>\n      <td>01524_A01_P015424_S00_N01_R1</td>\n      <td>22245</td>\n      <td>NaN</td>\n      <td>NaN</td>\n      <td>NaN</td>\n      <td>NaN</td>\n      <td>NaN</td>\n      <td>GCA</td>\n      <td>GCA</td>\n    </tr>\n    <tr>\n      <th>4</th>\n      <td>NHSVAESLNYVASWNMSMLQTQDLVK</td>\n      <td>GCA_64056</td>\n      <td>[284]</td>\n      <td>[309]</td>\n      <td>0.000556</td>\n      <td>1</td>\n      <td>['1|15-UNIMOD:7' '16-UNIMOD:35']</td>\n      <td>5243.2000</td>\n      <td>3</td>\n      <td>995.142455</td>\n      <td>...</td>\n      <td>NaN</td>\n      <td>01524_A01_P015424_S00_N01_R1</td>\n      <td>33949</td>\n      <td>NaN</td>\n      <td>NaN</td>\n      <td>NaN</td>\n      <td>NaN</td>\n      <td>NaN</td>\n      <td>GCA</td>\n      <td>GCA</td>\n    </tr>\n    <tr>\n      <th>...</th>\n      <td>...</td>\n      <td>...</td>\n      <td>...</td>\n      <td>...</td>\n      <td>...</td>\n      <td>...</td>\n      <td>...</td>\n      <td>...</td>\n      <td>...</td>\n      <td>...</td>\n      <td>...</td>\n      <td>...</td>\n      <td>...</td>\n      <td>...</td>\n      <td>...</td>\n      <td>...</td>\n      <td>...</td>\n      <td>...</td>\n      <td>...</td>\n      <td>...</td>\n      <td>...</td>\n    </tr>\n    <tr>\n      <th>104474</th>\n      <td>AMGIMNSFINDIFER</td>\n      <td>GCA_243854</td>\n      <td>[59]</td>\n      <td>[73]</td>\n      <td>0.000556</td>\n      <td>1</td>\n      <td>['2|5-UNIMOD:35' '6-UNIMOD:7']</td>\n      <td>4789.1636</td>\n      <td>2</td>\n      <td>896.406311</td>\n      <td>...</td>\n      <td>NaN</td>\n      <td>01307_D05_P013386_S00_N36_R1</td>\n      <td>36358</td>\n      <td>NaN</td>\n      <td>NaN</td>\n      <td>NaN</td>\n      <td>NaN</td>\n      <td>NaN</td>\n      <td>GCA</td>\n      <td>GCA</td>\n    </tr>\n    <tr>\n      <th>104475</th>\n      <td>DVASLSSQIQDTQELLQEETR</td>\n      <td>GCA_293797</td>\n      <td>[1316]</td>\n      <td>[1336]</td>\n      <td>0.000556</td>\n      <td>1</td>\n      <td>NaN</td>\n      <td>5055.1770</td>\n      <td>2</td>\n      <td>1195.597900</td>\n      <td>...</td>\n      <td>NaN</td>\n      <td>01307_D05_P013386_S00_N36_R1</td>\n      <td>38639</td>\n      <td>NaN</td>\n      <td>NaN</td>\n      <td>NaN</td>\n      <td>NaN</td>\n      <td>NaN</td>\n      <td>GCA</td>\n      <td>GCA</td>\n    </tr>\n    <tr>\n      <th>104476</th>\n      <td>AMGIMNSFINDIFER</td>\n      <td>GCA_243854</td>\n      <td>[59]</td>\n      <td>[73]</td>\n      <td>0.000556</td>\n      <td>1</td>\n      <td>['2|5-UNIMOD:35' '6-UNIMOD:7']</td>\n      <td>5820.5356</td>\n      <td>2</td>\n      <td>896.407410</td>\n      <td>...</td>\n      <td>NaN</td>\n      <td>01307_D05_P013386_S00_N36_R1</td>\n      <td>45019</td>\n      <td>NaN</td>\n      <td>NaN</td>\n      <td>NaN</td>\n      <td>NaN</td>\n      <td>NaN</td>\n      <td>GCA</td>\n      <td>GCA</td>\n    </tr>\n    <tr>\n      <th>104477</th>\n      <td>LGELTMTDATPDSLSLSWMVPEGQFDHFLVQYR</td>\n      <td>GCA_285753</td>\n      <td>[2878]</td>\n      <td>[2910]</td>\n      <td>0.000556</td>\n      <td>1</td>\n      <td>['19-UNIMOD:35']</td>\n      <td>5644.5786</td>\n      <td>3</td>\n      <td>1267.610718</td>\n      <td>...</td>\n      <td>NaN</td>\n      <td>01307_D05_P013386_S00_N36_R1</td>\n      <td>43573</td>\n      <td>NaN</td>\n      <td>NaN</td>\n      <td>NaN</td>\n      <td>NaN</td>\n      <td>NaN</td>\n      <td>GCA</td>\n      <td>GCA</td>\n    </tr>\n    <tr>\n      <th>104478</th>\n      <td>LLNLLADLVER</td>\n      <td>GCA_168207</td>\n      <td>[104]</td>\n      <td>[114]</td>\n      <td>0.000556</td>\n      <td>1</td>\n      <td>NaN</td>\n      <td>5904.1143</td>\n      <td>2</td>\n      <td>634.882690</td>\n      <td>...</td>\n      <td>NaN</td>\n      <td>01307_D05_P013386_S00_N36_R1</td>\n      <td>45703</td>\n      <td>NaN</td>\n      <td>NaN</td>\n      <td>NaN</td>\n      <td>NaN</td>\n      <td>NaN</td>\n      <td>GCA</td>\n      <td>GCA</td>\n    </tr>\n  </tbody>\n</table>\n<p>104479 rows × 26 columns</p>\n</div>"
     },
     "execution_count": 4,
     "metadata": {},
     "output_type": "execute_result"
    }
   ],
   "source": [
    "GCA"
   ]
  },
  {
   "cell_type": "markdown",
   "metadata": {
    "collapsed": false,
    "jupyter": {
     "outputs_hidden": false
    },
    "pycharm": {
     "name": "#%% md\n"
    }
   },
   "source": [
    "#### PeptideAtlas"
   ]
  },
  {
   "cell_type": "code",
   "execution_count": 5,
   "metadata": {
    "collapsed": false,
    "jupyter": {
     "outputs_hidden": false
    },
    "pycharm": {
     "name": "#%%\n"
    }
   },
   "outputs": [],
   "source": [
    "column_names = ['PeptideAccession', 'observations', 'best score', 'peptide sequence','']\n",
    "PeptideAtlas = pd.read_table(r\"C:\\Users\\wd\\Desktop\\PeptideAtlasInput_concat.PAidentlist.peptideSummary\",header=None,names=column_names)"
   ]
  },
  {
   "cell_type": "code",
   "execution_count": 6,
   "metadata": {
    "collapsed": false,
    "jupyter": {
     "outputs_hidden": false
    },
    "pycharm": {
     "name": "#%%\n"
    }
   },
   "outputs": [],
   "source": [
    "PeptideAtlas_dict = dict(zip(PeptideAtlas['peptide sequence'], PeptideAtlas['observations']))"
   ]
  },
  {
   "cell_type": "code",
   "execution_count": 7,
   "metadata": {
    "collapsed": false,
    "jupyter": {
     "outputs_hidden": false
    },
    "pycharm": {
     "name": "#%%\n"
    }
   },
   "outputs": [
    {
     "data": {
      "text/plain": "{'PMKDETFGEYR': 14,\n 'GLGTDEDTLIEILAS': 188,\n 'MLFCSCQDQACAER': 260,\n 'ALQQRLQGAEE': 3,\n 'ALDWLALIYWDDDKR': 20,\n 'SAGRQMIDNSYQVEKLAKDLDF': 1,\n 'QASASYDSEEEEEGLPMS': 19,\n 'SDVEDHSVHLLFSAN': 10,\n 'NDDDKDDEIVFKQPISC': 3,\n 'TLNHKLQDASAEVERLRRE': 1,\n 'FSCGNGECIPR': 2,\n 'QAELLLPGAEFHHYVGGPTETHVVR': 1384,\n 'ATSAPAPGAPGGPQLA': 1,\n 'TLRILFRPVASQLPRIFTSIGEDYDER': 1,\n 'HLMHLELDISDSKIR': 43,\n 'NELLGAGIEK': 45,\n 'EETKFAQVVLQDLDKK': 3,\n 'NAASSEEAKAEETGGGK': 132,\n 'THVGMSIQTF': 7,\n 'IYDPVCGTDGNTYPNECVLCFEN': 505,\n 'SHMLTPFVEENLVSAAGGSISHQVSFSYFNAFNSLLNNMELVR': 43,\n 'SDLNEVK': 20,\n 'MKPAVDEMFPEGAGPYVDLDEAGGSTGL': 6,\n 'VATQLPESTSLR': 75,\n 'LTYLPYSMLNLK': 38,\n 'DNISFPKQGS': 38,\n 'ERTALFEEISRSGELAQEY': 2,\n 'VDAVHLLKDHVGR': 124,\n 'VKEVLFQHSGFQQS': 4,\n 'AQLSDGNVGSGATG': 1,\n 'SEAESLKGKLEEER': 3,\n 'SVEEVASEIQPFLRG': 1,\n 'DGCYCDSLENLADGYK': 24,\n 'GYLSEGLVTK': 86,\n 'RFEKPLEEKGEGGEFSV': 4,\n 'SATSVSSAGEQAAGDPEGR': 3,\n 'PQELVTAEVAAPSTSSSATSSPEGPSPARPPR': 8,\n 'FPDLGQEVAL': 6,\n 'DIAEFLIGQGAHVGAVNSEGDTPL': 16,\n 'PFACSWQDCNK': 6,\n 'LSELGWLH': 1,\n 'KRELKEVFGDDSEISKESSGVKKR': 1,\n 'RGLCVCSSFDQTVR': 74,\n 'ATSSSSGSLS': 1,\n 'ENLDQELLSLAK': 3,\n 'NLPHSGYSDSAVLK': 598,\n 'TGGYQCWNQSEDGSM': 1,\n 'QINHPELHMVLSNLAAVLMHR': 1633,\n 'KNSGQNLEEDMGQSEQ': 17,\n 'RKGSYNPVTH': 2,\n 'ERPGGNEITR': 1235,\n 'EAFSQLWELCCR': 9,\n 'SNPQQEVQNIFK': 2,\n 'MKNSCIVCNMGHSNTEIDVASLR': 6,\n 'KWCDDYFFIAHRGER': 10,\n 'LKENKISLESEYEK': 1,\n 'SESGSDSDVGSGGIRPK': 2,\n 'AGGTGITPMLQVIRAIMK': 1,\n 'EWFKQDLPKYLFPEDPSYSSTMIDDEALK': 1,\n 'LKERNPLKIFPSKRILRRH': 131,\n 'IMQVVDEKLPGLLGNFPGPFEEEMKG': 3,\n 'SRLDWPVRTL': 17,\n 'GTPVFVPEQGGYKEK': 10,\n 'DNEKRSESQGTAPAFK': 1,\n 'HRDRPTTGNTLK': 12,\n 'LKDRLGQSSMLGEQGARIQSVKTE': 3,\n 'KAPKIQRLVTPRVLQH': 9,\n 'LDQNLSEEESPIK': 6,\n 'AGREEEQDLDGEK': 1,\n 'EEEVQTVEDGVFDIHL': 70,\n 'ELQGDPGYPLGR': 1,\n 'NGFPPNFIHSLDSSHMMLTALHCYR': 2,\n 'RVFVVGVGMT': 5,\n 'GVSLTAQR': 8,\n 'AAADLMAYCEAHAKEDPLLTPVPASENPFR': 1137,\n 'AERYAPDKTSTVLTR': 1,\n 'HADTHVQRL': 2,\n 'TLSVSEEVPEDLAEEAPGGR': 1,\n 'ELPVDIILASVG': 1,\n 'RTSLSPAEILEEKEVEVAK': 5,\n 'YYCVRHGGYSFASAYFPFWGQGAPVTVSSASTK': 1,\n 'DDLVKTKEELHLVMTAPPPPPPPVYEPVSYHVQE': 5,\n 'SVLAPVPTHSTVSELSRSPVATATSC': 1,\n 'DSVSLEAEPRSEIPLQE': 1,\n 'NGDKKIVPKKKKPLKL': 8,\n 'EPVREGAPPNWK': 29,\n 'GSANLPLAK': 7,\n 'EMTPQHGDVYTCHVEHPS': 5,\n 'QILDLEEEIYK': 23,\n 'LDQEWVPYSTSASLYIR': 547,\n 'ALRPGGFQAHYR': 3,\n 'GANKEKLEATINELV': 3,\n 'FNNAWLYNRK': 2,\n 'GDSVDGPPDGR': 26,\n 'KNLHVVYLHNNNISVVGSSDFCPPGHNTK': 1,\n 'QEECVSTISSSK': 1,\n 'DDHYRVAGAQIQGAKEVLAS': 25,\n 'QGTLAATK': 21,\n 'SFNCSSLFK': 8,\n 'DLVSSDDEEPSTSYTDENIK': 71,\n 'APAYQQGQNQLYNELNLGR': 1,\n 'VYNVTQHAVGIVVNKQVKG': 135,\n 'NEDLGLPPLFPPREAFAEQFLR': 6,\n 'AHVSPHEMLQAVVLC': 91,\n 'HEQASQPTPEKAQQNPTLLAELR': 1,\n 'SMRKKVCDI': 1,\n 'QSPTLNLLPSSR': 398,\n 'SSHHPGIAEFPSRGKSSSYS': 3,\n 'QMSLQGAEFGQAESADIDASSAMDTSEPAK': 1,\n 'SHEGETSYIR': 5009,\n 'KEYLSSLQPRLNSIMQASLPVQEYLFMPFDQAH': 2,\n 'PNTCRGDSGGPL': 1,\n 'VATEPAGSRIVQE': 20,\n 'ELQMTQSPSSLPASVGDR': 21,\n 'LLGPNGPAV': 21,\n 'EEVEPEEAEEGISEQPCPADTEVVEDSLR': 672,\n 'SPSAPAATSSASSSTSSYK': 824,\n 'KVDINAPDVGVQGPDWH': 2,\n 'VVLAPQDVVVARYEE': 2,\n 'VLGDVPGACTPVVPTRIPAIV': 1,\n 'DMADPGQQF': 1,\n 'QIHPGFGSLPQPPLTLKPIR': 2,\n 'HGEEFFPTSN': 10,\n 'LSPVLYR': 16,\n 'EAVLYVDSQEA': 30,\n 'LNSLDEQEGVK': 1,\n 'NTMEALPACL': 1,\n 'WIEPPKRE': 3,\n 'KGFFEGTIAS': 5,\n 'GTDGRLLRGHDQSAYDGK': 1,\n 'GNNIHQWCGSNSNRYER': 10,\n 'TPQDLARASGRFGQDFS': 1,\n 'SASSELASLPLSPASPCHLTLLSNPWPQDT': 2,\n 'CAASGFTFSSYEMNWVRQAPGK': 1,\n 'AFSQSSSLIPHQR': 5,\n 'PPEPERPKEVEFDASKIK': 1,\n 'LPLNTNIRLAY': 6,\n 'LTSQDCTQNYLQLQDSPQGHGNSR': 1,\n 'QLFALYSGNDVTDISDDRFPK': 39,\n 'LKYPIEHGIVTNWDDMEKIWHHTFYNE': 4,\n 'PSNLPHEATR': 42,\n 'AITIASAVNCPLYIVHVMSK': 940,\n 'RELRRQVEVL': 1,\n 'TIDCDVITLMGTPSGTAEPYDGTK': 825,\n 'VFIGEFAY': 49,\n 'VGSFSQNVELLNLLPKRG': 2,\n 'RLLEEENQESLR': 22,\n 'ALEEGKGPGAEDSPPSK': 15,\n 'QTAQLIVGHVGNKGTPPPR': 5,\n 'GHAVGDIPGVRFKVVKVANVSLLALYKGKKERPRS': 1,\n 'LSVLYHHFIR': 129,\n 'LTCGANNIGSK': 45,\n 'ILESERFDTHEYRNESR': 3,\n 'MDSPKEISQAGFEWQR': 4,\n 'GQISGAQSFSPDGTHLTGTEFLGGWSWRPSQIR': 1,\n 'GKLSAEENPDDSEVPSSSGINST': 25,\n 'AAKNSEEEEEEKK': 412,\n 'INIIDGVLRDDDKNNDGYIDYAEF': 3,\n 'FTSAAFHEL': 1,\n 'LTNTSKKALKQYRAGPSFEE': 5,\n 'QCSLCNVLISSEVYLFSHVK': 5,\n 'SGAGEHLKTDLLLEPYNK': 5,\n 'GLVWNTWGPIQNSAR': 2,\n 'ESNPATINAATELDTPKDL': 1,\n 'LGTQPSLPHVR': 97,\n 'MVECQLETH': 1,\n 'TLFRLEQGYELQFR': 4,\n 'ETDKQILQNRK': 1,\n 'KYLELLGY': 1,\n 'MFEEHEMIR': 10,\n 'YNLACHR': 204,\n 'LSERADWQY': 66,\n 'QLQVRFLRAEGYPVDLYYLMDLSYSMK': 1,\n 'GFSAEQIAR': 3625,\n 'HGEGGHYHYDTTPDIVEYLGYFLPAEF': 17,\n 'ITGETKDQVANSAFVERLR': 11,\n 'FQVDITYTEGGEAQK': 21,\n 'VSGLERSQEQPPGPDPLLVPFPPK': 2,\n 'FFYSDQNVDS': 1,\n 'TRPLLINLSK': 77,\n 'SGTSASLAITGLQAEDEADYYCQSYDNSPEVV': 1,\n 'FGYVDFESAE': 4,\n 'TSILAAANPISGHYDR': 7420,\n 'ALHAELCQAGSSQGLSLCQFQNFSLHDPLYGK': 5,\n 'LEPVVFEKVK': 1,\n 'EKEWHQPDQFMPER': 1,\n 'NHTQFPPSR': 301,\n 'TPASPECDYSQYFK': 15,\n 'SSEVYNWTVDEVVQWLITYVELPQYEETFR': 71,\n 'FLHNQGKQKYTLPLYHAMMGGSE': 13,\n 'DAPANGNANEENGEQEADNEVDEEEEEGGEEEEEE': 16,\n 'GDPTGRFAIQTDPNSNDGLVTVVKPID': 1,\n 'DENGFINGVDGVIDKDFALAK': 3,\n 'ISWRSDYEDPA': 1,\n 'DQRRYSLIDPSSAPELLRLQHQLMSTE': 1,\n 'SVPESDFCCQEPCSK': 11,\n 'NLEDVQPHDL': 3,\n 'EAEAALGGLVNAVFLLAPCPH': 3,\n 'QLPQCALR': 36,\n 'TEQKFADHMK': 5,\n 'AGDPHLDYELLDTADLPQLESSLQPVSPGR': 52,\n 'LKEEERMVEMFLEYQNQISR': 1,\n 'RWLDLSHN': 1,\n 'NLEKKPRRTKAENIPAVVIEIKNMPNKQPESSL': 1,\n 'KVSTLPAITLKLG': 3,\n 'KPGGRESALPCQASPLH': 2,\n 'VFRQTVADQVLVG': 3,\n 'WAQSECR': 287,\n 'EVLPQQVTIDAIR': 1,\n 'SVEEDPLPQLLDGGFEQPLSK': 3,\n 'NITLGEPPGFLH': 1,\n 'AAVSSSSPLVPGTLEEVPAAE': 13,\n 'NNKIEDLEQEIK': 130,\n 'SDSWVPNSASGQDPGGR': 20,\n 'LRSPVISIDPPSSTVQQGQDASFK': 2457,\n 'KDENATLDGGDVLFTGREFFVGLS': 1,\n 'FPFVAVSIGFAVNKK': 34,\n 'IDTVGSFYCLCHTGFK': 1,\n 'VDEEFQSPFASQSR': 44,\n 'TGQALLTHLYQSSAR': 370,\n 'SLPAPQDNDFLS': 1,\n 'TIAPALVSK': 33686,\n 'LNMYVTSEHTYDFK': 4,\n 'EALFYNHALPLPGFV': 4,\n 'DGLTAVHCATR': 243,\n 'ADSLKAAVEQEK': 5,\n 'YVELSTFDIASDAFATFK': 329,\n 'NDEGEVVPRVTKKF': 2,\n 'VGPDDSAVDMDECKEPDVCK': 4,\n 'YFCTDQLGLEQDFEQK': 1,\n 'PELLGLEAGSR': 4,\n 'SDNELPLPSSPKPV': 1,\n 'PLCQLWAEK': 4,\n 'GGLLKDFTATDLSEF': 2,\n 'VYYVDHNTK': 302,\n 'QQIELDLKATQA': 2,\n 'MFFTCGPNE': 1,\n 'DFRKVVFCM': 1,\n 'FASGNTVADGYS': 18,\n 'SKDSTYSLSSTLTLSKADYEKHK': 4,\n 'AAALPPKPARPPAVSPALTQTPLLPQPPMAQPPQV': 3,\n 'HRQPKHLL': 1,\n 'EVLGDVLQLETLKQEAATLAANNTQLQAR': 2,\n 'NQEDTFAAELHRL': 1,\n 'DHGGIITAIAQGMET': 14,\n 'IDPTEFKFKLALINRK': 7,\n 'SDEEGKLVIDEPAKEKN': 3,\n 'YIEIFRSSRSEIKG': 1,\n 'GAEALHPLM': 1,\n 'KVEQCRDEYL': 2,\n 'EKQAFER': 21,\n 'NLKNGGTLYTCALRPMYIYGEGSRFLSASINEALNNNGILSSVGK': 1,\n 'NWQLLAVNHPGYMAFLTYDEVQER': 13,\n 'LTEEQKTVEIPDPVE': 4,\n 'RSSCSLFR': 19,\n 'ILDNYDLASEWAAK': 67,\n 'EENRVLLAMVNPTVFFDIAVDGEPLGR': 800,\n 'YTFFVPNDVDFSMQSSK': 39,\n 'YTQPFSHYGQALCVSFPQPCR': 36,\n 'WKTRWYSMKKTTMKIIPFNRLTIG': 12,\n 'RLITTQQWLIKLT': 2,\n 'LELQKVASSSSGNNFLSGSPASPMG': 2,\n 'MMNSSMSSGSGSLR': 17,\n 'ELASLLEGNDQQSCQKGLQLAK': 2,\n 'SSNPAKETFTTGLDAPR': 19,\n 'IVALDRSFHIGCYK': 88,\n 'SARFRYLMGERLGVH': 114,\n 'TKQDGECGTLSK': 1,\n 'MRAQMEPGSAVGAL': 1,\n 'GGEESEVTVGGLEPGRK': 7,\n 'LGNQEPGGQTALK': 22009,\n 'VYVAQLYHQVSK': 1,\n 'VATAQDDITGDGTTSN': 204,\n 'QEPHRHSIFTPETNPRAG': 154,\n 'EKNNPHYDPSSKEDNPKWSMVDVQF': 6,\n 'HILLGNYCVAVADAK': 3,\n 'LMDVTEEVWDK': 9,\n 'HILTHAK': 1,\n 'SQSVDINAPGFNPLAGAGK': 1224,\n 'VTAQIALQPALK': 114,\n 'DSDKYFIEDGRLVIHSL': 11,\n 'VPAGMETPELIELR': 3,\n 'AGGVEGAEWWATQAFHQR': 2,\n 'VALDYVLDADTDRR': 10,\n 'DGVHDIPEDAQLETAENSSVI': 3,\n 'AEKLGSLVENNE': 1,\n 'DGGLQNMELHGM': 288,\n 'LDTSSLTQSAPASPTNK': 49,\n 'QGEEPDYETYLHRIGRTGRFGKK': 1,\n 'GLLPEHFLFLAQK': 3722,\n 'VELGVIGDSVH': 6,\n 'ASDPLLSVLMWGVNH': 180,\n 'RITAKGQMAY': 4,\n 'SHYEEEHSGEDR': 39,\n 'MKGDYYRYL': 2,\n 'GGNFAAQYDGKGVGLGPGPMGLMGPR': 29,\n 'DRPVEPLDLAVFWV': 1,\n 'YEHSVQISR': 4,\n 'QEITQRLFF': 65,\n 'VTANNDKNR': 1098,\n 'TGLVTDAFKLKR': 1,\n 'SQQFVELINKCNSMQSEY': 1,\n 'LSSFYYHEAGVTAL': 1,\n 'MGPAMLRPALPAGPVGASSW': 1,\n 'DDILPLGKDSGPLS': 42,\n 'AYYPRPYPSEELSGPSPR': 1,\n 'SATVVDAVNAAPLSGSKE': 1,\n 'SVIQNNEHVY': 24,\n 'SCGKDGFHIR': 361,\n 'SQCLENSPFT': 253,\n 'QDQSNVQIAAAPTPEKEMMLQNLMTTSEDGK': 18,\n 'LKKSGKLKVPEWVD': 3,\n 'MEIVELEDHPFFVG': 5,\n 'EQNKPDSSPLYIQNPFETSLNISK': 2592,\n 'GIRHEVININLKNKPEWF': 6,\n 'LGISTPEELGLDK': 112,\n 'RLDLGEDYPSGK': 33,\n 'SLDSFLLSPEAAVGLLKGTALVLARL': 4,\n 'SSSSGMKSSSGLGSSGSLSQK': 1,\n 'EYAADPWVQDQMQR': 7,\n 'STSSHNLQSIFNIGSR': 164,\n 'GQISETLK': 1569,\n 'CLLGCGFSTGYGAAINNAKVTPGSTCAVFGLGGVGLSAVMGCK': 18,\n 'SHVFRKPANDITSQLE': 2,\n 'VIIIANHGDRIDIPP': 2,\n 'YPYESAQIHYTY': 1,\n 'VSYGIGDEEHDQEGRVI': 4,\n 'VKKLKVPVHVIRMEQ': 1,\n 'EGAAHAFA': 14,\n 'YGIENVKTY': 2,\n 'LDEATSALDTESEAEVQAALDK': 1,\n 'SVLTGGLDALEFI': 2,\n 'TKPFPWGDGNHTLFHN': 131,\n 'DNVSSPGGATI': 4,\n 'YSGRDSLIFLV': 2,\n 'GLLPNNSEESGICHK': 179,\n 'KTRSSRAGLQFPVGRVH': 113,\n 'LDPHLVLDQL': 353,\n 'GFYDECLRK': 3,\n 'ERCLKGEGEIEKLQTKVL': 1,\n 'PQTNVYDSLAK': 2,\n 'RNTTIPT': 6,\n 'FLHDKGFPYGHLHASNVMLDGDTCR': 4,\n 'CQSLQEELDF': 34,\n 'VILRLDQGNLHTSVSSAQGQDAAQSEEK': 5,\n 'STGSTVTIKGRPLACFLNEPYLQVDFHTEMK': 1,\n 'DYLNGAVSGSVQATDRLMKELR': 2,\n 'FPVPALHHPVFQQE': 5,\n 'KVAQYMADVLEDSKDK': 101,\n 'NLSGDLLDKDPYSFGR': 21,\n 'AVQNCCGISK': 1,\n 'VPLILGSPEDVQEYLT': 15,\n 'CQFYEGYGQTECTAGCCLTMPGDWTAGHVGAPMPCNLIK': 3,\n 'MKNYNKPWEPK': 176,\n 'TVETMQSALDAEVR': 32,\n 'TISQATPSSVSR': 99,\n 'APKVEPVGDVVSTRDPVKSQSKSNTSLPPLPFKR': 3,\n 'YGEDINSLLHAR': 1,\n 'FHVIVAECAPFCQGHEMAVNLSK': 1050,\n 'DLKEEGDVM': 4,\n 'FAQLQCLWK': 386,\n 'DQRLIYSGKLL': 1,\n 'TLSNRVCSQYAAYGEK': 5,\n 'LVGVHGPR': 7,\n 'FEELCHNYTQDR': 2,\n 'GIPEFKYVANMHGDET': 8,\n 'GTNFTHLVADR': 341,\n 'FATHGTAFDK': 2,\n 'KWREEQMERL': 1,\n 'SSSVEQKKGPTR': 36,\n 'RWAKKIEARERK': 45,\n 'PGQAPLLVMYGKNNRPSGIPDR': 5,\n 'AINNEMAHQLYVLQVLTF': 4,\n 'SIPYFQQTGVRGF': 2,\n 'VGVLVGKDRSSFYVNGLTLGGQKCS': 10,\n 'VDEQPQHPLHVTYAG': 1,\n 'PMAASAEYELEKR': 34,\n 'YELTQPLSVSVALGQAARITCGGN': 1,\n 'EQVPLVVEEYLDNVNEHDWK': 10,\n 'FLTQNLSLPNSTAQALLAAR': 73,\n 'DSECCGDQLCVWGHCTKMA': 1,\n 'DVLQSASGQLPATAALNEVGIYK': 1613,\n 'EKPSFPYQDRPSTQESF': 4,\n 'QLVASVIESESEILHHEK': 1,\n 'AQSSLCLRDETLAGGQRR': 5,\n 'DDELGKKQFKYGNQLVR': 1,\n 'EDWEDSVNIG': 1,\n 'IMQTFVTQQWK': 6,\n 'YVQDRGDGMY': 43,\n 'TLVLLLGVDPSRQLDHPLPTVHPQVTY': 1,\n 'KGVREVTEPLNLNPA': 7,\n 'DLMENCIPNNQLSKPDALVRLEQDIK': 4,\n 'VINYDYPNSSEDYVHRIGRTARSTN': 7,\n 'INHSIAMQNGK': 13,\n 'SMTSQSR': 95,\n 'VWSLASVPGTQPCK': 4,\n 'NLLVSEVYNQLK': 9,\n 'KEKFKECQRLQKQINK': 5,\n 'SLGYAYVNFQQPADAERAL': 1,\n 'VLAAGKQAAQKLEQFVSILMASIPLPDKAS': 5,\n 'EAVCGKPK': 37,\n 'EVQLVESGGGLVQPGRSLRLSCAASGF': 5,\n 'LLPDAHGHDAVQR': 3,\n 'SLTAGWHVELDPF': 1,\n 'AEYHAKATEHLSTLSEKAKPALE': 1,\n 'AHGLAEDENTQIALL': 2,\n 'AHPAYKLSIRATDSL': 13,\n 'GAVDALAAALAH': 632,\n 'NMDPLNDNVATLLHQSSDR': 8350,\n 'SSLFPFEDAFLDDSHGDQALSSGLSSPTR': 655,\n 'DQERFKGKEETEGFKI': 3,\n 'RETQEEAGIEAGQLTIIEGFKR': 3,\n 'TGPTLEWDNYDLREDALDDSVSSSSVHASPLASSPVRK': 10,\n 'KADTIDTIEKEI': 4,\n 'SFCSTVADEIR': 9,\n 'DFTNNDMNQGTSR': 117,\n 'VEAMLNDR': 2033,\n 'ACPDPSLSVWRPDIYFASVSETFETK': 4,\n 'GNVIEKMLTDR': 1,\n 'KFTVGDHSRFVNCVR': 2,\n 'AEPAVLQWIRENIAEWK': 2,\n 'VAPEEHPVLLTEAPLNPKANREEITQIMFETFNTPAMYVAIQ': 4,\n 'KVTTSQDMLSIME': 14,\n 'SSQVLHPGNKVTLTCVAPLSGVDFQLRRGE': 16,\n 'SLEEDMFDGLILHHLF': 12,\n 'PSVFGNDSDDDDETSVSESLQREAAKK': 1,\n 'ALIDSMSLA': 2,\n 'KAEGPLDSPSEGHSYQNSGLDHF': 1,\n 'KLMDGSLQRA': 1,\n 'DDWGAWQKFTASAGIQVVG': 129,\n 'QVHPDTGISSKAMGIMNSFVN': 105,\n 'LQAFSSPVPDPYR': 13,\n 'RWAAVVVPSGEEQR': 3,\n 'CELINALYPEGQAPVKKIQAS': 2,\n 'GCGVKYIPSRGPLDKW': 2,\n 'DLPSWMK': 2373,\n 'QGSLASSKPASNPKFSSR': 6,\n 'IQTVLSLYASGRTTGIVLDSGDGVTHNVPIYEGYALPHAIMR': 1,\n 'LLGPPGAGKGT': 6,\n 'GFGPTVGAAISSHPQINK': 6,\n 'LVTLISQQATLL': 1,\n 'MVVETEPSSAQR': 24,\n 'QKQLQATSVPHPVSRPLNNTQK': 5,\n 'GDQGEKYIDLR': 4,\n 'RQAVDTAVDGVFIR': 2727,\n 'SESGDWHCTA': 4,\n 'QAAQSEAKVVSQYHELVVQAR': 1,\n 'GPMKGGSF': 4,\n 'KRGIIDRGQYLQLQELECDWEEVTTSGPCGEESVLLDRKSG': 1,\n 'AGGIIGVKGAKIKELR': 1,\n 'LLKNGERIEKVEHSDLSFSKDWS': 10,\n 'QFFPISHVR': 39,\n 'SEAFVLLDGQELTPR': 48,\n 'SLVPVEEPIAFGGK': 375,\n 'FIVHKKGIKL': 1,\n 'NTPAMYVAIQA': 13,\n 'TELFSSSCPGGIMLNETGQ': 1,\n 'FVTSLPDDK': 117,\n 'CFSSHCQ': 6,\n 'KESDQACGK': 20,\n 'KTDAPQPDVKEEEE': 2,\n 'VSGNVEKK': 15,\n 'NYKDRLLAIGE': 1,\n 'SSSIISDSGIESEPSSVAWSEAR': 1,\n 'PPAPTSGMSHPPPAAR': 1,\n 'TETQLPWMLIGETLK': 8,\n 'EELRPVREDFEAK': 272,\n 'YFDTAVSR': 122,\n 'GYVHATFYTPEGLR': 2,\n 'MLLQPAPCAPSAGFPRPL': 3,\n 'SPDEGITTTEGEGECEQTPEELEPVEK': 3,\n 'TVRADHGEPIGRGTKVIL': 112,\n 'LQTNNGPSLTGLTTIAAHLVK': 15,\n 'CEISENIPGKWTK': 6,\n 'FRGGVNPFTNGCCNNVSR': 23,\n 'TDVKQDNGDLLENKHGEF': 1,\n 'EEGSASPTSPDYSLDSPGPEK': 4,\n 'TEIEKGSSYGNQEFKKKE': 1,\n 'GHYYMDVWGK': 1,\n 'QAEELIQQEHADQAEIR': 2771,\n 'LHGSAFRPSLPAPESPGLPAHPSNPQLPEAR': 341,\n 'LYYGDDEKYFR': 460,\n 'TDSAPDQQVETGKSPSLS': 1,\n 'WIREKEPIVDNTNY': 3,\n 'GRHMGIGK': 48,\n 'SPAPGPLGPPGPTGPPGPPGPPR': 75,\n 'LHHVGLELLVNHK': 1,\n 'DALDYLIGGLYHE': 6,\n 'SISREPSPALGPNLDGSGLLPRPIFYCSFPT': 23,\n 'HYGFQLYQSDPSGNY': 118,\n 'HEGYACTSIHGDR': 71,\n 'CASRLALGDDSPALKE': 1,\n 'YPAQITPKM': 61,\n 'LSVLIHNSDEHK': 976,\n 'IQCAAGYEQ': 1,\n 'DLTAESKKIYMGKQESK': 2,\n 'LEESLSIINEK': 766,\n 'AGMVDFQDEEQVKSFLE': 1,\n 'IINQNSVAVLQTPPDIQSEHSR': 157,\n 'VIKMGVAAHKKS': 3,\n 'DTFVVWDKLSVNHR': 4,\n 'LVNTLLANDPTSLR': 1,\n 'LYRLPETPK': 560,\n 'NADSVQAKV': 3,\n 'YVIDEDVKSGR': 2,\n 'KLKELPGVCNETMMALWEECKPCLK': 1,\n 'VNKMTPSNIAIVLGPNLLWPPEKE': 10,\n 'RWIHDVRTIAEVEGAGVK': 3,\n 'TLTSRLAALPENPPAIDWAYYKAN': 1,\n 'HGLYQDGVFK': 131,\n 'KVHEEEIAELQAQIQYAQISVEMDVTKPDLSAALK': 688,\n 'GVIDPVHSHR': 40,\n 'ADNEKLDNQRLKNFKN': 4,\n 'NGLIYFVDGTMIRK': 11,\n 'NVLVTLYER': 1137,\n 'LQQRVQELERELAQER': 1,\n 'NYLAWYLQKPGQAPR': 7,\n 'YWVGEDSTYKFFEVIL': 22,\n 'NANEPPLVFVGK': 8,\n 'EDIRNAAWHK': 23,\n 'SPSHIVNDTDSNVSEQQSF': 1,\n 'ITTEGVEDSYKGATIDQDR': 1,\n 'YDNCWLALTDPR': 524,\n 'DKILDDEAAQELMPVVAGAVFTLTAHLSQAVLTEQK': 4,\n 'TSGVQVICMK': 1,\n 'FTLHVPQDTER': 1,\n 'LLSHGTNIEECSKV': 1,\n 'QGSNPHESD': 1,\n 'TLIDQQVVYIHPSSAL': 1,\n 'YDKAWLLSMIQSK': 2,\n 'HVDSEGEIK': 272,\n 'ETPCLELEFDWFSSVVK': 1,\n 'DIVEDEDDDFL': 5,\n 'KNNPPTLVGDFT': 4,\n 'DSPEQLNEQLVTLSLLPESR': 6,\n 'LTNSFQPSLLGR': 1,\n 'KSQEVATNANYR': 65,\n 'TRKPVTVSPTTPTSPTEGEAS': 15,\n 'NASHEQAAIALK': 1126,\n 'IKKEKENGF': 3,\n 'ENTAYFQFFSDARELESFLR': 1,\n 'SDTSGDYEITLL': 26,\n 'SSTSSIDSNISSK': 232,\n 'KFGHGRFQTMEE': 22,\n 'NKEPILVDFKTDRKG': 8,\n 'HRWPSNMYLK': 9,\n 'TGLYEGNTYEFR': 2,\n 'LFGTQNTSPSSPAAPAASSASPM': 1,\n 'NGVAQEPVH': 2,\n 'EEGDTFFFQPR': 41,\n 'LEPEDFAVYYCQQYGGSPPWTFGQGTK': 37,\n 'SQEEFLENPWK': 12,\n 'QLLLNYAKKE': 19,\n 'KYHLGLCYGVMTSCSLK': 18,\n 'LNSNHDGADETSEKEQQEAIEHIDEVQNEIDRLNEQASEEILK': 3,\n 'RNSTHEGWVWSLAAQDHR': 34,\n 'PVQEAPSVAR': 46,\n 'GGGLGAGSPALSGGQGR': 2,\n 'FGYGGRASDYKSAHKG': 14,\n 'RYDHNHQELLSLVNLNNNFGEVVGSGNPADFIPI': 2,\n 'YFPSSLSPVTPSESLPR': 361,\n 'FLNLTSEK': 951,\n 'DKSTGKPTLYNVSLVMS': 2,\n 'SGYPDIGFPLFPL': 131,\n 'LNHTFNETQIEW': 1,\n 'MAKSKSKE': 1,\n 'CNISYLEEWLKDK': 33,\n 'LQSPEHPLDQHYR': 1,\n 'MGIMNFTTSGSSGTNSQGQTPQR': 19,\n 'FETFNTPAMYVAIQA': 30,\n 'GQCWVFAAVACTVLRCLGIPTRVVTNYNSAHDQNSNLLIEYFR': 1,\n 'ISVYYNEASSHKYVPRAILVDLEPGTMDSVR': 10,\n 'FLLNVTTAPEFRRWEV': 8,\n 'KTEGQFVDLTGNRLTYTN': 4,\n 'IDISQLVITKELTR': 69,\n 'INHIEQFLDTNETPY': 13,\n 'DGVPVPGSPFPLEAVAPTKPSKVKAF': 12,\n 'DVMLVQPRVEFIL': 2,\n 'GPVYVACQFPISL': 5,\n 'TLTSCFLSCVVCVEGIVTK': 2010,\n 'KLSDQCTGLQGFLVFHSF': 44,\n 'SHVPFLLIGGGTAAFAAAR': 2153,\n 'VTITCQASQDIGNSLIWYQQK': 26,\n 'TTQASMEFR': 28,\n 'DVQWNDLDYMDSR': 7,\n 'SFQKALEKGIEILTDMSRPVELSDR': 1,\n 'NSDGDLPLDLAESDAMEGLLK': 64,\n 'GFNQEDLEEEKGETQVK': 5,\n 'HSYAGEQPETVPY': 11,\n 'AQPESLCIVEMGGTEKQDELGER': 2,\n 'DYKNLVHIITHGEEK': 1,\n 'VADENPFAQGALKSEDCF': 64,\n 'NRQDAMLVDELR': 1,\n 'GPVIDGHFLREPPAR': 1,\n 'LRNQITHTVSVFSER': 3,\n 'ADLQKQVTDLEAEREQKQRDFD': 1,\n 'RGPPASAPRGDLM': 1,\n 'KETAEAFLGHPVTNAVITVPAYFNDSQRQAT': 1,\n 'KMDATANDVPSDRYK': 1,\n 'ALESYAFNMKSAVEDEGLK': 14,\n 'VTSTPQADSER': 288,\n 'KRPAPGSDEEEEEEDSEED': 34,\n 'VLVASATMDTAR': 1410,\n 'SIPTPPVTTPEGDDRPESPEYSGGNIVR': 6,\n 'IEDELITFVCE': 2,\n 'AAVAWVGQQVH': 4,\n 'YEQKITELRQKLAD': 1,\n 'MVFNGPFAHK': 77,\n 'ANGKTGEVLDTKYF': 1,\n 'SLPALPLAELQPPPPITEEDAQDMDAYTLAK': 185,\n 'GYDFPAVLR': 4183,\n 'KNIYTVTALPIGNER': 5,\n 'HTGKIKALKIHKNSSTYWEGKADMETLQR': 2,\n 'KATILISHSR': 17,\n 'PKPINVRVTTMDAEL': 1,\n 'WHRVTALRE': 1,\n 'MEVKPPPGRP': 18,\n 'DCGDYSDERDCPGVK': 1,\n 'AVDSTPQENSDGMYR': 13,\n 'EKIDLENTLEQEQEALVNR': 3186,\n 'SVNFNEELVALYGGSLQK': 4,\n 'FHPQDLSR': 4,\n 'GLSKHKQQRGTTE': 2,\n 'LGEGEPPAPAHWPPLSAGAR': 2,\n 'LYGLTEAIASHR': 27,\n 'TEQCLVALLHK': 1841,\n 'LVTGAQRPPDPAPAPLG': 6,\n 'KLPDGMDQLPEKWYCSNNPDPQFR': 11,\n 'VALKGPQMDVK': 21,\n 'YPDSSTLVIDIAERDDSGVYH': 1,\n 'EVTCINPTFICDHPQIMSPLAK': 11,\n 'VDPENFRLLG': 179,\n 'KVIQYLAVVASSHK': 1024,\n 'FGDDLYSGWLAAALGTNLQVQFWHK': 49,\n 'QQQQPPQYQQQR': 6,\n 'VDLERKETAW': 3,\n 'VNTYAGDLQKKLVPF': 1,\n 'AHNLPSCPM': 1,\n 'TGVSSSTNPFRPQK': 27,\n 'YYLQGAKIPKPGLDHTEASFSPR': 7,\n 'VSHFETEGPHVLLYFDSVPTSR': 34,\n 'LTDDSPVDLLCAPVPSCLPSPQLRPDPV': 72,\n 'HINIDQFVRKYRA': 1,\n 'YLWVGTGASEAEKTGAQEL': 8,\n 'SYNPRTGMESL': 1,\n 'KPEAPPPK': 284,\n 'EEPMATEPAPAGAPGDLGSQPPAAKDPSPSVQG': 2,\n 'DATGVGDGGAFAPNILENKEGLELLK': 8,\n 'VRGEVAPDAKSF': 23,\n 'SFLSTLPGQSLIDKLYN': 4,\n 'VLSAPPK': 64,\n 'KISQKHINSIKSVF': 3,\n 'YYCLNVPLRDGIDDQSY': 8,\n 'DHLESFIAEC': 2,\n 'KIHMPAAL': 2,\n 'ELTVEDRDTPDK': 5,\n 'RLCLTLGIPQATDPDKTYE': 1,\n 'KPTETQELVQQVLSLATQDSDNPDL': 9,\n 'DVGNHAMKPINDNKEPL': 7,\n 'VKWPRYIRLQRQRAIL': 1,\n 'RTFESYFPTPAALCEGLWSHSY': 6,\n 'DASKSGSLDDSFS': 1,\n 'LNQYSIPEINHR': 3,\n 'KLNAYKTKETLLDAIK': 20,\n 'KTKKEIKKVATPKKASKPK': 4,\n 'EAGTTPAK': 15,\n 'SGPGTSPEAQGK': 2,\n 'RLLDAQLATGGLVCPAR': 69,\n 'TLQEVVGIRSDLAVE': 7,\n 'ADTQTYQPYNKDWIKEKIYV': 1,\n 'DDSDSRYSPSFQGQVIISADKSISTAYLQWTSLK': 1,\n 'VMEVEVDGQKFQGAGSNK': 1,\n 'FSKYQLDKDGVVL': 2,\n 'IRLGPAPLNLEVPTYEFTSDDMVIVG': 4,\n 'SANAPPTSIALQVFFTAR': 3,\n 'SLGNWMVYFLR': 2,\n 'AAVIGTR': 42,\n 'KGADHSSAPPADGDDEEMMATKVTPSAMAELTDLGK': 35,\n 'AVAGANQYTFHLEATENPGALIKDIR': 1,\n 'AIPLFGNSLKPDSLRF': 4,\n 'KGVELKDIKRCLGYH': 10,\n 'FVQEHSSSQGMR': 351,\n 'FVSSDEMDLHLVMCLTKPR': 65,\n 'SAPEVTAPGAPAYRVLMEQLTSVSEELDVR': 3,\n 'AGFEYAFDQLQNSNITR': 45,\n 'KSKDASTSPPNRETIGSA': 1,\n 'TVSPEKLLEKAFAIR': 2,\n 'PDYIAPEIIAYQPYGK': 3,\n 'DYDKSKDSGLPSQGL': 2,\n 'EVQLHLYGQHYR': 8,\n 'LTPEQGFWLLR': 31,\n 'QIIANHHMQS': 17,\n 'FPTINIEPDIKR': 6,\n 'INYSYLEDTEHIDGTNNFVHK': 1,\n 'DLQRQPAEVR': 4,\n 'KTDKLSNMQKDLE': 2,\n 'RLAEYHAKATEH': 2,\n 'IRVFIGGK': 8,\n 'STSPEPSKIMLVEPPVAKVLEPSE': 26,\n 'MNQEDFQSRPILELK': 1281,\n 'CKSGYHPTKSHSFRA': 3,\n 'VIGQDHDFSESSEEEAPAEASSGA': 2,\n 'SQAASSDSAQGSDMSLT': 2,\n 'APDEETLIALLAHAKMLGLTVSLIQDAGR': 14,\n 'REPEELGKTQFGEIGETK': 1,\n 'MANAGPNTNGSQFFICTA': 9,\n 'THMTHHPISDH': 1,\n 'QGWPRPLTPPAAGGLQNHTVGIIV': 3,\n 'EVEQNTELPDYLPEDESPTK': 2,\n 'VAWSYDCTLLAYAESTGTVR': 9,\n 'FVDWCPTGFK': 974,\n 'LKGDQENVHPDVMLVQPR': 1,\n 'YLRAPSVALPVAQVPTDPGHFS': 1,\n 'KSQHADK': 16,\n 'TFSLSPDAPR': 502,\n 'KAALQGQLQHLEGQLGSLQGRAQELLLQSQRAQEHSSRLQAE': 2,\n 'SPFLVEQFQEY': 8,\n 'SPPPESMDTPTSTRRRPK': 5,\n 'NFIDETSDIENLLK': 1,\n 'QLRSVLNNLK': 7,\n 'DYPDFSPSVDAEAIQKA': 2,\n 'LDDQSEDEALELEGPLITPGSGSI': 58,\n 'VPSIMLLDVLYR': 19,\n 'AINAAGVGPASLPSDPATARDPIAPPGPPFPK': 2,\n 'VNILTDK': 381,\n 'LATWKDIPNENELQFQIK': 6,\n 'AVNQNGCTPLHYAAS': 2,\n 'DCEPGVLGSK': 1,\n 'LLVEHQAISFMLAEM': 24,\n 'AANPNGRYYWGGQYTWDMAK': 15,\n 'CDVDIRKDLY': 71,\n 'DDDKLEQIR': 1,\n 'HSGRQLTLQHHMGSADLNATFYGPVK': 36,\n 'ESGTDDFNVW': 3,\n 'REEITYDTPFKRE': 2,\n 'AQQAQQVEEWR': 5,\n 'AVVSTSDKK': 9,\n 'RFLPDEARSLPPPKLTDPRL': 3,\n 'SEPLYPVFRIL': 1,\n 'QEISIMNCLHHP': 6,\n 'GEIAEMLLNDLAMK': 2,\n 'FSSAQKNQEQL': 3,\n 'QIECHPYLTQEK': 545,\n 'TPSPDTWPTSHASTAGSESSLALR': 1,\n 'VHGPYWMHF': 443,\n 'TLQLLNQQEQEK': 37,\n 'KREFTESQLQEGKHVIGL': 35,\n 'MATTEDAQAAVDYYTTTPALVFGKPVRVHLSQK': 5,\n 'VTMSVDTSNNQFSLK': 65,\n 'VLANIKMLEIDPQK': 23,\n 'EDPDGEHAR': 921,\n 'HYLQSITPCLALGGELVYHR': 2,\n 'AMSIPQIR': 517,\n 'RALVAIGTH': 1,\n 'TETPSVSSSLYSYR': 61,\n 'SVGEGGSFGELALIYGTPR': 255,\n 'ITCMEYPNFEETK': 72,\n 'VYSFLDK': 155,\n 'VDEVDAALSDLEITLEGGK': 1,\n 'SDKEAILDIITSRSNR': 2,\n 'FCVENIR': 2,\n 'RDNWTDAEGYYR': 5,\n 'EVAEVVRITKQ': 2,\n 'LQMNSLRVDD': 1,\n 'QIKKQTALVELLK': 270,\n 'LNFAYTVSTQR': 1,\n 'KKSSHAVELAC': 2,\n 'LVLGIYSK': 36,\n 'GLVSNLTLS': 11,\n 'GGGGGGGLGSGGSIRSSYS': 5,\n 'RGPSASSVAVMTSSTSDHHLDAAAAR': 1677,\n 'QSNSDSTYEDLINK': 3,\n 'KSQETECTYFSTPL': 2,\n 'LDQTIARK': 6,\n 'VDDPYMMGR': 16,\n 'MLTPEPVLKT': 1,\n 'RGSLGNPEPVGRPAAE': 1,\n 'QLETPDAAGPGAGQASPLEGSEAEEEEDAEDPRRPR': 4,\n 'AQKQTPMASSPRPKMDAILTEAIKACFQKSGASVVAIR': 1,\n 'TEDEADYYCQSYDNSANWVFGGGTK': 3,\n 'SPEEGAETPVYLALLPPDAEGPHGQFVSEKRVEQW': 9,\n 'ILIEENR': 406,\n 'HLYTLDGGDIINALCFSPNRYWLCAATGPSIKIWDLEGK': 4,\n 'AQQEAPAVRK': 49,\n 'PIWTRNPDDITQEECGEFYK': 18,\n 'DAHSNLLAKKE': 11,\n 'LLPKFKLQEDY': 1,\n 'LVDSVLDVVRKECENCDCLQGFQLTHSLGGGTGSGMGTLLISK': 2,\n 'QAPGQGLEWVGR': 1396,\n 'NFTQGLVEDAPDGSDASQLLHQAEVAQQEFLEVK': 1604,\n 'NECDPALALLSDYVLHNSNT': 9,\n 'KELEEENMAL': 1,\n 'DQTIALEECNQEGEPGTPANSPSSTSQR': 68,\n 'SAKTSPAKQQAPPVRNLHQSG': 5,\n 'DRSEYTSLIPNLRN': 3,\n 'AAAASAGPFDSPVLHSLPGR': 2,\n 'YPEETLSLMTK': 9804,\n 'STHFQLQNQPPQKEFSIPR': 3,\n 'TFAPLPEFEQE': 2,\n 'DCPDEHWAMK': 1,\n 'DHRYPSSNPESPVVIF': 5,\n 'KSKVTVDTGVIPASEEKAETPTAAEDDNEGD': 1,\n 'KSNADSLIGLDLSSVSDTPCVSSTDHDSDTV': 1,\n 'RLLEDSDSEDEAAPSPLQPALRPNPTAILDEAPKPK': 478,\n 'GVGTFYNLGTALYYATQNCLGK': 1,\n 'DQVNCPKLS': 1,\n 'EFVEVFPMQDSGADGTAPAFDSTTANMNLDR': 606,\n 'GGSTSYGTGSETESPRNPSSAGSWNSGSSGPGSTG': 2,\n 'LDYITYLSIFD': 2,\n 'AVVGEEALTSDDL': 6,\n 'RFVKWPRYI': 21,\n 'FNGSGSGTDF': 1,\n 'ILVEDELSSPVVV': 52,\n 'TRDGKPSARML': 1,\n 'VDQKLELNIVPRTK': 102,\n 'AMYQYRPQNEDELELREGDRVDVMQQCDDGWFVGVSR': 57,\n 'IFDNFSNLHR': 65,\n 'LGDVEVNAGQNATFQCIATGR': 227,\n 'ALLEQTGDMSL': 4,\n 'AGDKFWRYNEVKKKMDPG': 20,\n 'SFRINIPGNMAHSSQLSSPGFCNTFRPVDDKE': 2,\n 'KDHPFGFVAVPTKNPDGTMNLMNWECAIPGKKGTPWEGGLF': 1,\n 'LHGELDVNFNPQLASR': 17,\n 'TQSPATLSVSPGDR': 4,\n 'CSFDTPDDSIRNK': 2,\n 'EPTPMDEMSTPR': 25,\n 'AILDIERPDLMIYEPHF': 39,\n 'EIVMTQSPATLSVSPGERATLSCRASQSVSN': 2,\n 'NKESPVFAPVYFPEEL': 1,\n 'QTMGFLEEALK': 670,\n 'VMLESFIDTQKFSVMR': 7,\n 'LREDNKTDEGPDTPSYNR': 348,\n 'VPFDAATLHTSTAMAAQHGMDDDGTGQKQI': 8,\n 'LVSQTGPVHAPIFTMSV': 25,\n 'QKVLEDSDLKKSDIDEI': 2,\n 'SLAGPGGQVEIEQNFLNNK': 21,\n 'ASPGHTPGCVTF': 294,\n 'AGTEQFTAMRDLYMKNGQG': 20,\n 'TGGYNPDLVRAYGPGLEK': 1,\n 'SVYAPSPNSDDFNR': 3,\n 'GKRVIQKALEEMESKEW': 1,\n 'MEKSDLEMQYETLQEELMALK': 2,\n 'VLQNTDGNNNDAWAK': 79,\n 'ADKVPKTAENFRALST': 17,\n 'IEAKKKDQVTAQ': 1,\n 'AAARHSTLDFMLGAKADGETILK': 1,\n 'FAESTEISELSHNFVMV': 103,\n 'LKPGGVGAPSSSSPSPSPSARPGPPPSEEAMD': 1,\n 'DNREKRGLALDGKLKHE': 1,\n 'IDIDECASNPCRKGATCINGVNGFR': 1,\n 'TVKWDPASGRVQKY': 2,\n 'YAADHFSVYITY': 1,\n 'FGQIVNMLDK': 1160,\n 'DSETGERVKRLK': 1,\n 'GRLLVVYPWTQRFF': 181,\n 'ALLLSEPSLLR': 3,\n 'MSDPNMEANSHYGHNDDVGNHAMKPINDNK': 23,\n 'ADDTVAPSSTFCK': 3,\n 'ARTTEGPVDSMPCLDRMPLLAK': 3,\n 'KEEEDDDMKELE': 3,\n 'PSESFCLAAQAR': 81,\n 'SFQMAGEWLK': 1,\n 'EHFRPTQSY': 2,\n 'EMVFVAEQGVMADK': 167,\n 'QEEKPEPVLEETAPEDAQK': 174,\n 'TAMTCDGK': 1,\n 'REKVETELQGVCDTVLGLLDSHLIKEAGDAESR': 2,\n 'DITTAPDGDYWR': 35,\n 'CDIIFLNGGKPANFLDLGGGVK': 42,\n 'IPSDGKGMISIIAAVQKQQQQSGN': 5,\n 'DAFITQAQEQQIELLEIPEHS': 24,\n 'MDMEQRDYDSRTALHVAAAEGHVEVVK': 2,\n 'PPTSAHGNVAEGETKPDPDVTERCS': 1,\n 'EHQEAENAVSSGNR': 1,\n 'DEYVGLPRNHPESY': 6,\n 'DNRIANPDQLLTQDVEKF': 3,\n 'GKSLESLDTSLFAK': 51,\n 'IGLDFCKY': 5,\n 'NQECGRPFPRPTSPR': 213,\n 'TAASFFHNVDVPFEE': 2,\n 'LEAQAYTAYLSGML': 19,\n 'GPGEEVSEEGFQIPATITER': 71,\n 'VTDANYGELQEHKAQAYLK': 1,\n 'QVQLQQWGAGLLKPSETL': 44,\n 'DSIYYIAGTCGNHQR': 36,\n 'FGVFGGGTKLTVLGQPKAAPSVTLFPPSSEELQANK': 1,\n 'GQALGKSGGGIVEPIPLNIKTGKSGIGHE': 3,\n 'EKSKEQLTPLIKKAGTELVNFLSY': 40,\n 'LREAMAALRK': 112,\n 'MPRQLSAAAAL': 29,\n 'SRQAKDDFLRHYTVSDPRTHPKGYTE': 1,\n 'KRFLDFIGH': 5,\n 'DTLKRRFFYDQAFAIYG': 4,\n 'LNESNADTYAGRPLPSK': 26,\n 'LIDIFYPGDQQSVTFGTKSR': 12,\n 'VQSLGAAIPTVDLQSRW': 3,\n 'HVANTDKKSYEPLEDPGVKSVTKIY': 22,\n 'HEEFEEGC': 54,\n 'EAGSGHMNYIQVTPQEKE': 1,\n 'GNGNEGEAEAHPR': 26,\n 'GLGDCLVKITKSDGIR': 17,\n 'GKNMACVQRTLMNLGGLAVARDDGLF': 4,\n 'QAPGQGLEWMGGVIPMFGTANYAQR': 6,\n 'KGAAAIEAEDREEEEGEEEKEAPTGR': 3,\n 'PGSSEPITVK': 1,\n 'SGEHWAESVGY': 2,\n 'ALNGMLYNLPGLRMYEQ': 3,\n 'AEDTAVYYCARQSGG': 1,\n 'QTPPTPTPRPPLPVK': 10,\n 'KIGSLRVGDPVYRMV': 2,\n 'FIAVGYVDDTQFARFDSDAASPR': 4,\n 'QAAPCVLFFDELDSIAK': 23322,\n 'SAELKQMVMSLRVSELQVLLGYAGR': 1,\n 'LFSTAEAAVYMF': 50,\n 'GVLRQITVNDLPVGRSVDEALRL': 2,\n 'KQSLQVIESAMERDRYMSPMEAQEFGILD': 5,\n 'ALSKAIESGDTDLVF': 1,\n 'EHSLSKPYQGVGTGSSSLWNLMGN': 10,\n 'LKTSTSNVEQY': 11,\n 'KFAEWCLEY': 2,\n 'LNGKQDEPKNEQ': 3,\n 'DEALPSLTQVRR': 1,\n 'HKSTSHFRTGEE': 1,\n 'VEHPSVTSP': 28,\n 'EELVDALR': 114,\n 'ISFKAEVNSSGK': 10,\n 'EGSLKLEDLPTVEAPGDPQEPQNNAHRDK': 1,\n 'KLIGVYTDF': 4,\n 'DSSFRLDSEYQSTSASASASPFQSAWYSESEITQGAR': 19,\n 'DDGKEALKFYTDPSYFFDLWKEKMLQDTKDIMKEKR': 5,\n 'DAKIYQIYEGTSQIQR': 48,\n 'ESQILSLLSDIGSGIRYLHENK': 7,\n 'GNRPVILTYHDIGLNHKS': 12,\n 'VLSFLSQMNVVNHFR': 2,\n 'TSEFLLR': 68,\n 'KFLTDLFAQLTDE': 5,\n 'QAAPCVLFF': 94,\n 'TCGEAPDYDRSQW': 23,\n 'SFDYGNLSHAPV': 7,\n 'CPPPSHTFEEPVYMKS': 2,\n 'GTLMELGISPI': 1,\n 'TVEKMSAEINEIIRVL': 18,\n 'AAPLQEAVPR': 274,\n 'TASGSSAMSPETTVSQIAVESDLGQMLEEGKKATNL': 6,\n 'VIGPPVVLNCSQK': 512,\n 'DELDSKLNYKPPPQK': 2,\n 'QELLTIAERW': 26,\n 'DFGEKQKNALGEAAR': 3,\n 'LPCLSPPTYTTF': 23,\n 'LRKLDEQQEFSAIILATAGLQR': 3,\n 'PAFKRKTL': 8,\n 'LVDPEQVVQR': 15,\n 'WEPAKAKYVFRD': 2,\n 'TIAEQAVAAGVPVEVIKESLGEEVFKI': 3,\n 'YSDKYFDEHYEY': 60,\n 'SMQEPDTK': 50,\n 'KEQESDEEEEEEEEDEPSGAT': 4,\n 'YPGYPQPGYGHPA': 6,\n 'APVIRPGGTLGLSEAADSDAHLFQDSTGRADVL': 254,\n 'ICSVAIISGGQGYRNFGSALGSSGRQAPCGE': 1,\n 'ASPSAFMAGPEGEDLGR': 142,\n 'IHLQHNRLKEDAVSAAFK': 4,\n 'VDRTRIVIVPSLNPD': 165,\n 'AACNPAWPPPGLAPHLTHYADLLPGSPFHVALPPPESE': 1,\n 'HNCDHAEDAGVIC': 3,\n 'NCAAYLKLR': 343,\n 'RRLDLEFHQR': 27,\n 'GEIDYEAIV': 1,\n 'ISQAYEVLSDAKKRE': 10,\n 'FCPEADSKTMLQCLK': 5,\n 'MENFQKVEKIGE': 12,\n 'KPGQAPVLVINYNSDRPSGIPER': 2,\n 'RGHGPQSFIHR': 1,\n 'HIAVSAAVFPTGTK': 6,\n 'KAQAEVEGL': 1,\n 'VYLNCVLK': 5,\n 'ALTQPASVSGSPGQSITISCTGTSSDIGSYNFVSWYQQHPGK': 2,\n 'SKKMVDPEKPQLGMIDRWY': 4,\n 'KCNNPRSVTLLIKGPN': 4,\n 'TTDAIALAMSR': 42,\n 'LVTLKDVEDGAFLLR': 170,\n 'NLEEKSDINVTVLIGSK': 1,\n 'RKQYTIPCHT': 1,\n 'KELRDFNLDGAPYGYTPF': 2,\n 'VAVDPETVFK': 322,\n 'TTQLTADSHPSYHTDG': 274,\n 'DPIPDELLCLICK': 4,\n 'QWKYDGEMLNR': 1,\n 'IRARRALDVNTRNPNYE': 2,\n 'EQAEGSEPTSGTEGPEHS': 5,\n 'SSVMLLDQMK': 83,\n 'SGFTPLHIAAH': 33,\n 'NAKQKEAVL': 39,\n 'RVIGAKKDQY': 5,\n 'PQPPPYGHCVTDSGVVYSVGMQWLK': 36,\n 'GGQYFNDKFIGLR': 345,\n 'YPEQLFGAAGVMAIEHADFAGVER': 20,\n 'LPNFLSVEPRPFD': 7,\n 'MMALDQSLASLFAEQK': 4,\n 'VIDGPHSG': 1,\n ...}"
     },
     "execution_count": 7,
     "metadata": {},
     "output_type": "execute_result"
    }
   ],
   "source": [
    "PeptideAtlas_dict"
   ]
  },
  {
   "cell_type": "code",
   "execution_count": 8,
   "metadata": {
    "collapsed": false,
    "jupyter": {
     "outputs_hidden": false
    },
    "pycharm": {
     "name": "#%%\n"
    }
   },
   "outputs": [],
   "source": [
    "def getPeptideAtlasObservations(seq):\n",
    "    if PeptideAtlas_dict.get(seq):\n",
    "        return PeptideAtlas_dict.get(seq)\n",
    "    else:\n",
    "        return 0"
   ]
  },
  {
   "cell_type": "code",
   "execution_count": 9,
   "metadata": {
    "collapsed": false,
    "jupyter": {
     "outputs_hidden": false
    },
    "pycharm": {
     "name": "#%%\n"
    }
   },
   "outputs": [],
   "source": [
    "GCA['PeptideAtlas_observations'] = GCA['sequence'].apply(getPeptideAtlasObservations)"
   ]
  },
  {
   "cell_type": "code",
   "execution_count": 10,
   "metadata": {
    "collapsed": false,
    "jupyter": {
     "outputs_hidden": false
    },
    "pycharm": {
     "name": "#%%\n"
    }
   },
   "outputs": [
    {
     "data": {
      "text/plain": "                                 sequence     protein_accessions  \\\n0                   DIGTAPFAPNLEEINNILESK  GCA_166623,GCA_181492   \n1               IFLVSVEEPLLVKLVSELTPLTVHK             GCA_248243   \n2                          TVMPATLNKLLNNK             GCA_283984   \n3          SKVPGVVSGAMSGAVLQNVPTSTVWVAGPK  GCA_122173,GCA_242828   \n4              NHSVAESLNYVASWNMSMLQTQDLVK              GCA_64056   \n...                                   ...                    ...   \n104474                    AMGIMNSFINDIFER             GCA_243854   \n104475              DVASLSSQIQDTQELLQEETR             GCA_293797   \n104476                    AMGIMNSFINDIFER             GCA_243854   \n104477  LGELTMTDATPDSLSLSWMVPEGQFDHFLVQYR             GCA_285753   \n104478                        LLNLLADLVER             GCA_168207   \n\n       protein_start_positions protein_end_positions  protein_global_qvalue  \\\n0                    [937 937]             [957 957]               0.000556   \n1                       [1349]                [1373]               0.000556   \n2                        [225]                 [238]               0.063686   \n3                    [272 272]             [301 301]               0.000556   \n4                        [284]                 [309]               0.000556   \n...                        ...                   ...                    ...   \n104474                    [59]                  [73]               0.000556   \n104475                  [1316]                [1336]               0.000556   \n104476                    [59]                  [73]               0.000556   \n104477                  [2878]                [2910]               0.000556   \n104478                   [104]                 [114]               0.000556   \n\n        unique                      modifications  retention_time  charge  \\\n0            0                                NaN       6080.6000       2   \n1            1                                NaN       5854.5000       3   \n2            1       ['3-UNIMOD:35' '8-UNIMOD:7']       4333.1000       3   \n3            0  ['11-UNIMOD:35' '17|18-UNIMOD:7']       4128.7000       3   \n4            1   ['1|15-UNIMOD:7' '16-UNIMOD:35']       5243.2000       3   \n...        ...                                ...             ...     ...   \n104474       1     ['2|5-UNIMOD:35' '6-UNIMOD:7']       4789.1636       2   \n104475       1                                NaN       5055.1770       2   \n104476       1     ['2|5-UNIMOD:35' '6-UNIMOD:7']       5820.5356       2   \n104477       1                   ['19-UNIMOD:35']       5644.5786       3   \n104478       1                                NaN       5904.1143       2   \n\n        exp_mass_to_charge  ...           reference_file_name scan_number  \\\n0              1143.094299  ...  01524_A01_P015424_S00_N01_R1       41482   \n1               935.561462  ...  01524_A01_P015424_S00_N01_R1       39707   \n2               525.282653  ...  01524_A01_P015424_S00_N01_R1       24371   \n3               981.527770  ...  01524_A01_P015424_S00_N01_R1       22245   \n4               995.142455  ...  01524_A01_P015424_S00_N01_R1       33949   \n...                    ...  ...                           ...         ...   \n104474          896.406311  ...  01307_D05_P013386_S00_N36_R1       36358   \n104475         1195.597900  ...  01307_D05_P013386_S00_N36_R1       38639   \n104476          896.407410  ...  01307_D05_P013386_S00_N36_R1       45019   \n104477         1267.610718  ...  01307_D05_P013386_S00_N36_R1       43573   \n104478          634.882690  ...  01307_D05_P013386_S00_N36_R1       45703   \n\n        mz_array  intensity_array  num_peaks gene_accessions  gene_names  \\\n0            NaN              NaN        NaN             NaN         NaN   \n1            NaN              NaN        NaN             NaN         NaN   \n2            NaN              NaN        NaN             NaN         NaN   \n3            NaN              NaN        NaN             NaN         NaN   \n4            NaN              NaN        NaN             NaN         NaN   \n...          ...              ...        ...             ...         ...   \n104474       NaN              NaN        NaN             NaN         NaN   \n104475       NaN              NaN        NaN             NaN         NaN   \n104476       NaN              NaN        NaN             NaN         NaN   \n104477       NaN              NaN        NaN             NaN         NaN   \n104478       NaN              NaN        NaN             NaN         NaN   \n\n       prot_source  isGCA  PeptideAtlas_observations  \n0              GCA    GCA                          0  \n1              GCA    GCA                          0  \n2              GCA    GCA                          0  \n3              GCA    GCA                          0  \n4              GCA    GCA                          0  \n...            ...    ...                        ...  \n104474         GCA    GCA                          0  \n104475         GCA    GCA                          0  \n104476         GCA    GCA                          0  \n104477         GCA    GCA                          0  \n104478         GCA    GCA                       4674  \n\n[104479 rows x 27 columns]",
      "text/html": "<div>\n<style scoped>\n    .dataframe tbody tr th:only-of-type {\n        vertical-align: middle;\n    }\n\n    .dataframe tbody tr th {\n        vertical-align: top;\n    }\n\n    .dataframe thead th {\n        text-align: right;\n    }\n</style>\n<table border=\"1\" class=\"dataframe\">\n  <thead>\n    <tr style=\"text-align: right;\">\n      <th></th>\n      <th>sequence</th>\n      <th>protein_accessions</th>\n      <th>protein_start_positions</th>\n      <th>protein_end_positions</th>\n      <th>protein_global_qvalue</th>\n      <th>unique</th>\n      <th>modifications</th>\n      <th>retention_time</th>\n      <th>charge</th>\n      <th>exp_mass_to_charge</th>\n      <th>...</th>\n      <th>reference_file_name</th>\n      <th>scan_number</th>\n      <th>mz_array</th>\n      <th>intensity_array</th>\n      <th>num_peaks</th>\n      <th>gene_accessions</th>\n      <th>gene_names</th>\n      <th>prot_source</th>\n      <th>isGCA</th>\n      <th>PeptideAtlas_observations</th>\n    </tr>\n  </thead>\n  <tbody>\n    <tr>\n      <th>0</th>\n      <td>DIGTAPFAPNLEEINNILESK</td>\n      <td>GCA_166623,GCA_181492</td>\n      <td>[937 937]</td>\n      <td>[957 957]</td>\n      <td>0.000556</td>\n      <td>0</td>\n      <td>NaN</td>\n      <td>6080.6000</td>\n      <td>2</td>\n      <td>1143.094299</td>\n      <td>...</td>\n      <td>01524_A01_P015424_S00_N01_R1</td>\n      <td>41482</td>\n      <td>NaN</td>\n      <td>NaN</td>\n      <td>NaN</td>\n      <td>NaN</td>\n      <td>NaN</td>\n      <td>GCA</td>\n      <td>GCA</td>\n      <td>0</td>\n    </tr>\n    <tr>\n      <th>1</th>\n      <td>IFLVSVEEPLLVKLVSELTPLTVHK</td>\n      <td>GCA_248243</td>\n      <td>[1349]</td>\n      <td>[1373]</td>\n      <td>0.000556</td>\n      <td>1</td>\n      <td>NaN</td>\n      <td>5854.5000</td>\n      <td>3</td>\n      <td>935.561462</td>\n      <td>...</td>\n      <td>01524_A01_P015424_S00_N01_R1</td>\n      <td>39707</td>\n      <td>NaN</td>\n      <td>NaN</td>\n      <td>NaN</td>\n      <td>NaN</td>\n      <td>NaN</td>\n      <td>GCA</td>\n      <td>GCA</td>\n      <td>0</td>\n    </tr>\n    <tr>\n      <th>2</th>\n      <td>TVMPATLNKLLNNK</td>\n      <td>GCA_283984</td>\n      <td>[225]</td>\n      <td>[238]</td>\n      <td>0.063686</td>\n      <td>1</td>\n      <td>['3-UNIMOD:35' '8-UNIMOD:7']</td>\n      <td>4333.1000</td>\n      <td>3</td>\n      <td>525.282653</td>\n      <td>...</td>\n      <td>01524_A01_P015424_S00_N01_R1</td>\n      <td>24371</td>\n      <td>NaN</td>\n      <td>NaN</td>\n      <td>NaN</td>\n      <td>NaN</td>\n      <td>NaN</td>\n      <td>GCA</td>\n      <td>GCA</td>\n      <td>0</td>\n    </tr>\n    <tr>\n      <th>3</th>\n      <td>SKVPGVVSGAMSGAVLQNVPTSTVWVAGPK</td>\n      <td>GCA_122173,GCA_242828</td>\n      <td>[272 272]</td>\n      <td>[301 301]</td>\n      <td>0.000556</td>\n      <td>0</td>\n      <td>['11-UNIMOD:35' '17|18-UNIMOD:7']</td>\n      <td>4128.7000</td>\n      <td>3</td>\n      <td>981.527770</td>\n      <td>...</td>\n      <td>01524_A01_P015424_S00_N01_R1</td>\n      <td>22245</td>\n      <td>NaN</td>\n      <td>NaN</td>\n      <td>NaN</td>\n      <td>NaN</td>\n      <td>NaN</td>\n      <td>GCA</td>\n      <td>GCA</td>\n      <td>0</td>\n    </tr>\n    <tr>\n      <th>4</th>\n      <td>NHSVAESLNYVASWNMSMLQTQDLVK</td>\n      <td>GCA_64056</td>\n      <td>[284]</td>\n      <td>[309]</td>\n      <td>0.000556</td>\n      <td>1</td>\n      <td>['1|15-UNIMOD:7' '16-UNIMOD:35']</td>\n      <td>5243.2000</td>\n      <td>3</td>\n      <td>995.142455</td>\n      <td>...</td>\n      <td>01524_A01_P015424_S00_N01_R1</td>\n      <td>33949</td>\n      <td>NaN</td>\n      <td>NaN</td>\n      <td>NaN</td>\n      <td>NaN</td>\n      <td>NaN</td>\n      <td>GCA</td>\n      <td>GCA</td>\n      <td>0</td>\n    </tr>\n    <tr>\n      <th>...</th>\n      <td>...</td>\n      <td>...</td>\n      <td>...</td>\n      <td>...</td>\n      <td>...</td>\n      <td>...</td>\n      <td>...</td>\n      <td>...</td>\n      <td>...</td>\n      <td>...</td>\n      <td>...</td>\n      <td>...</td>\n      <td>...</td>\n      <td>...</td>\n      <td>...</td>\n      <td>...</td>\n      <td>...</td>\n      <td>...</td>\n      <td>...</td>\n      <td>...</td>\n      <td>...</td>\n    </tr>\n    <tr>\n      <th>104474</th>\n      <td>AMGIMNSFINDIFER</td>\n      <td>GCA_243854</td>\n      <td>[59]</td>\n      <td>[73]</td>\n      <td>0.000556</td>\n      <td>1</td>\n      <td>['2|5-UNIMOD:35' '6-UNIMOD:7']</td>\n      <td>4789.1636</td>\n      <td>2</td>\n      <td>896.406311</td>\n      <td>...</td>\n      <td>01307_D05_P013386_S00_N36_R1</td>\n      <td>36358</td>\n      <td>NaN</td>\n      <td>NaN</td>\n      <td>NaN</td>\n      <td>NaN</td>\n      <td>NaN</td>\n      <td>GCA</td>\n      <td>GCA</td>\n      <td>0</td>\n    </tr>\n    <tr>\n      <th>104475</th>\n      <td>DVASLSSQIQDTQELLQEETR</td>\n      <td>GCA_293797</td>\n      <td>[1316]</td>\n      <td>[1336]</td>\n      <td>0.000556</td>\n      <td>1</td>\n      <td>NaN</td>\n      <td>5055.1770</td>\n      <td>2</td>\n      <td>1195.597900</td>\n      <td>...</td>\n      <td>01307_D05_P013386_S00_N36_R1</td>\n      <td>38639</td>\n      <td>NaN</td>\n      <td>NaN</td>\n      <td>NaN</td>\n      <td>NaN</td>\n      <td>NaN</td>\n      <td>GCA</td>\n      <td>GCA</td>\n      <td>0</td>\n    </tr>\n    <tr>\n      <th>104476</th>\n      <td>AMGIMNSFINDIFER</td>\n      <td>GCA_243854</td>\n      <td>[59]</td>\n      <td>[73]</td>\n      <td>0.000556</td>\n      <td>1</td>\n      <td>['2|5-UNIMOD:35' '6-UNIMOD:7']</td>\n      <td>5820.5356</td>\n      <td>2</td>\n      <td>896.407410</td>\n      <td>...</td>\n      <td>01307_D05_P013386_S00_N36_R1</td>\n      <td>45019</td>\n      <td>NaN</td>\n      <td>NaN</td>\n      <td>NaN</td>\n      <td>NaN</td>\n      <td>NaN</td>\n      <td>GCA</td>\n      <td>GCA</td>\n      <td>0</td>\n    </tr>\n    <tr>\n      <th>104477</th>\n      <td>LGELTMTDATPDSLSLSWMVPEGQFDHFLVQYR</td>\n      <td>GCA_285753</td>\n      <td>[2878]</td>\n      <td>[2910]</td>\n      <td>0.000556</td>\n      <td>1</td>\n      <td>['19-UNIMOD:35']</td>\n      <td>5644.5786</td>\n      <td>3</td>\n      <td>1267.610718</td>\n      <td>...</td>\n      <td>01307_D05_P013386_S00_N36_R1</td>\n      <td>43573</td>\n      <td>NaN</td>\n      <td>NaN</td>\n      <td>NaN</td>\n      <td>NaN</td>\n      <td>NaN</td>\n      <td>GCA</td>\n      <td>GCA</td>\n      <td>0</td>\n    </tr>\n    <tr>\n      <th>104478</th>\n      <td>LLNLLADLVER</td>\n      <td>GCA_168207</td>\n      <td>[104]</td>\n      <td>[114]</td>\n      <td>0.000556</td>\n      <td>1</td>\n      <td>NaN</td>\n      <td>5904.1143</td>\n      <td>2</td>\n      <td>634.882690</td>\n      <td>...</td>\n      <td>01307_D05_P013386_S00_N36_R1</td>\n      <td>45703</td>\n      <td>NaN</td>\n      <td>NaN</td>\n      <td>NaN</td>\n      <td>NaN</td>\n      <td>NaN</td>\n      <td>GCA</td>\n      <td>GCA</td>\n      <td>4674</td>\n    </tr>\n  </tbody>\n</table>\n<p>104479 rows × 27 columns</p>\n</div>"
     },
     "execution_count": 10,
     "metadata": {},
     "output_type": "execute_result"
    }
   ],
   "source": [
    "GCA"
   ]
  },
  {
   "cell_type": "markdown",
   "metadata": {
    "collapsed": false,
    "jupyter": {
     "outputs_hidden": false
    },
    "pycharm": {
     "name": "#%% md\n"
    }
   },
   "source": [
    "#### GPMDB"
   ]
  },
  {
   "cell_type": "code",
   "execution_count": 27,
   "metadata": {
    "pycharm": {
     "name": "#%%\n"
    }
   },
   "outputs": [
    {
     "data": {
      "text/plain": "15684"
     },
     "execution_count": 27,
     "metadata": {},
     "output_type": "execute_result"
    }
   ],
   "source": [
    "len(set(GCA['sequence']))"
   ]
  },
  {
   "cell_type": "code",
   "execution_count": 42,
   "metadata": {
    "collapsed": false,
    "jupyter": {
     "outputs_hidden": false
    },
    "pycharm": {
     "name": "#%%\n"
    }
   },
   "outputs": [],
   "source": [
    "session = requests.Session()\n",
    "def getApiRes(seq):\n",
    "    url = 'https://rest.thegpm.org/1/peptide/count/seq='+seq\n",
    "    response = session.get(url)\n",
    "    if response.status_code == 200:\n",
    "        if len(response.json()) == 1:\n",
    "            return response.json()[0]\n",
    "        else:\n",
    "            return response.json()\n",
    "    else:\n",
    "        return \"error\""
   ]
  },
  {
   "cell_type": "code",
   "execution_count": 29,
   "outputs": [
    {
     "data": {
      "text/plain": "0"
     },
     "execution_count": 29,
     "metadata": {},
     "output_type": "execute_result"
    }
   ],
   "source": [
    "getApiRes(\"SKVPGVVSGAMSGAVLQNVPTSTVWVAGPK\")"
   ],
   "metadata": {
    "collapsed": false,
    "pycharm": {
     "name": "#%%\n"
    }
   }
  },
  {
   "cell_type": "code",
   "execution_count": 30,
   "outputs": [
    {
     "name": "stderr",
     "output_type": "stream",
     "text": [
      " 95%|█████████▍| 14840/15684 [2:27:17<08:22,  1.68it/s]  \n"
     ]
    },
    {
     "ename": "ConnectionError",
     "evalue": "('Connection aborted.', RemoteDisconnected('Remote end closed connection without response'))",
     "output_type": "error",
     "traceback": [
      "\u001B[1;31m---------------------------------------------------------------------------\u001B[0m",
      "\u001B[1;31mRemoteDisconnected\u001B[0m                        Traceback (most recent call last)",
      "File \u001B[1;32mE:\\Pythoncode\\venv3.10.5\\lib\\site-packages\\urllib3\\connectionpool.py:791\u001B[0m, in \u001B[0;36mHTTPConnectionPool.urlopen\u001B[1;34m(self, method, url, body, headers, retries, redirect, assert_same_host, timeout, pool_timeout, release_conn, chunked, body_pos, preload_content, decode_content, **response_kw)\u001B[0m\n\u001B[0;32m    790\u001B[0m \u001B[38;5;66;03m# Make the request on the HTTPConnection object\u001B[39;00m\n\u001B[1;32m--> 791\u001B[0m response \u001B[38;5;241m=\u001B[39m \u001B[38;5;28mself\u001B[39m\u001B[38;5;241m.\u001B[39m_make_request(\n\u001B[0;32m    792\u001B[0m     conn,\n\u001B[0;32m    793\u001B[0m     method,\n\u001B[0;32m    794\u001B[0m     url,\n\u001B[0;32m    795\u001B[0m     timeout\u001B[38;5;241m=\u001B[39mtimeout_obj,\n\u001B[0;32m    796\u001B[0m     body\u001B[38;5;241m=\u001B[39mbody,\n\u001B[0;32m    797\u001B[0m     headers\u001B[38;5;241m=\u001B[39mheaders,\n\u001B[0;32m    798\u001B[0m     chunked\u001B[38;5;241m=\u001B[39mchunked,\n\u001B[0;32m    799\u001B[0m     retries\u001B[38;5;241m=\u001B[39mretries,\n\u001B[0;32m    800\u001B[0m     response_conn\u001B[38;5;241m=\u001B[39mresponse_conn,\n\u001B[0;32m    801\u001B[0m     preload_content\u001B[38;5;241m=\u001B[39mpreload_content,\n\u001B[0;32m    802\u001B[0m     decode_content\u001B[38;5;241m=\u001B[39mdecode_content,\n\u001B[0;32m    803\u001B[0m     \u001B[38;5;241m*\u001B[39m\u001B[38;5;241m*\u001B[39mresponse_kw,\n\u001B[0;32m    804\u001B[0m )\n\u001B[0;32m    806\u001B[0m \u001B[38;5;66;03m# Everything went great!\u001B[39;00m\n",
      "File \u001B[1;32mE:\\Pythoncode\\venv3.10.5\\lib\\site-packages\\urllib3\\connectionpool.py:537\u001B[0m, in \u001B[0;36mHTTPConnectionPool._make_request\u001B[1;34m(self, conn, method, url, body, headers, retries, timeout, chunked, response_conn, preload_content, decode_content, enforce_content_length)\u001B[0m\n\u001B[0;32m    536\u001B[0m \u001B[38;5;28;01mtry\u001B[39;00m:\n\u001B[1;32m--> 537\u001B[0m     response \u001B[38;5;241m=\u001B[39m \u001B[43mconn\u001B[49m\u001B[38;5;241;43m.\u001B[39;49m\u001B[43mgetresponse\u001B[49m\u001B[43m(\u001B[49m\u001B[43m)\u001B[49m\n\u001B[0;32m    538\u001B[0m \u001B[38;5;28;01mexcept\u001B[39;00m (BaseSSLError, \u001B[38;5;167;01mOSError\u001B[39;00m) \u001B[38;5;28;01mas\u001B[39;00m e:\n",
      "File \u001B[1;32mE:\\Pythoncode\\venv3.10.5\\lib\\site-packages\\urllib3\\connection.py:461\u001B[0m, in \u001B[0;36mHTTPConnection.getresponse\u001B[1;34m(self)\u001B[0m\n\u001B[0;32m    460\u001B[0m \u001B[38;5;66;03m# Get the response from http.client.HTTPConnection\u001B[39;00m\n\u001B[1;32m--> 461\u001B[0m httplib_response \u001B[38;5;241m=\u001B[39m \u001B[38;5;28;43msuper\u001B[39;49m\u001B[43m(\u001B[49m\u001B[43m)\u001B[49m\u001B[38;5;241;43m.\u001B[39;49m\u001B[43mgetresponse\u001B[49m\u001B[43m(\u001B[49m\u001B[43m)\u001B[49m\n\u001B[0;32m    463\u001B[0m \u001B[38;5;28;01mtry\u001B[39;00m:\n",
      "File \u001B[1;32mD:\\SoftWare\\python\\python3.10.5\\lib\\http\\client.py:1374\u001B[0m, in \u001B[0;36mHTTPConnection.getresponse\u001B[1;34m(self)\u001B[0m\n\u001B[0;32m   1373\u001B[0m \u001B[38;5;28;01mtry\u001B[39;00m:\n\u001B[1;32m-> 1374\u001B[0m     \u001B[43mresponse\u001B[49m\u001B[38;5;241;43m.\u001B[39;49m\u001B[43mbegin\u001B[49m\u001B[43m(\u001B[49m\u001B[43m)\u001B[49m\n\u001B[0;32m   1375\u001B[0m \u001B[38;5;28;01mexcept\u001B[39;00m \u001B[38;5;167;01mConnectionError\u001B[39;00m:\n",
      "File \u001B[1;32mD:\\SoftWare\\python\\python3.10.5\\lib\\http\\client.py:318\u001B[0m, in \u001B[0;36mHTTPResponse.begin\u001B[1;34m(self)\u001B[0m\n\u001B[0;32m    317\u001B[0m \u001B[38;5;28;01mwhile\u001B[39;00m \u001B[38;5;28;01mTrue\u001B[39;00m:\n\u001B[1;32m--> 318\u001B[0m     version, status, reason \u001B[38;5;241m=\u001B[39m \u001B[38;5;28;43mself\u001B[39;49m\u001B[38;5;241;43m.\u001B[39;49m\u001B[43m_read_status\u001B[49m\u001B[43m(\u001B[49m\u001B[43m)\u001B[49m\n\u001B[0;32m    319\u001B[0m     \u001B[38;5;28;01mif\u001B[39;00m status \u001B[38;5;241m!=\u001B[39m CONTINUE:\n",
      "File \u001B[1;32mD:\\SoftWare\\python\\python3.10.5\\lib\\http\\client.py:287\u001B[0m, in \u001B[0;36mHTTPResponse._read_status\u001B[1;34m(self)\u001B[0m\n\u001B[0;32m    284\u001B[0m \u001B[38;5;28;01mif\u001B[39;00m \u001B[38;5;129;01mnot\u001B[39;00m line:\n\u001B[0;32m    285\u001B[0m     \u001B[38;5;66;03m# Presumably, the server closed the connection before\u001B[39;00m\n\u001B[0;32m    286\u001B[0m     \u001B[38;5;66;03m# sending a valid response.\u001B[39;00m\n\u001B[1;32m--> 287\u001B[0m     \u001B[38;5;28;01mraise\u001B[39;00m RemoteDisconnected(\u001B[38;5;124m\"\u001B[39m\u001B[38;5;124mRemote end closed connection without\u001B[39m\u001B[38;5;124m\"\u001B[39m\n\u001B[0;32m    288\u001B[0m                              \u001B[38;5;124m\"\u001B[39m\u001B[38;5;124m response\u001B[39m\u001B[38;5;124m\"\u001B[39m)\n\u001B[0;32m    289\u001B[0m \u001B[38;5;28;01mtry\u001B[39;00m:\n",
      "\u001B[1;31mRemoteDisconnected\u001B[0m: Remote end closed connection without response",
      "\nDuring handling of the above exception, another exception occurred:\n",
      "\u001B[1;31mProtocolError\u001B[0m                             Traceback (most recent call last)",
      "File \u001B[1;32mE:\\Pythoncode\\venv3.10.5\\lib\\site-packages\\requests\\adapters.py:486\u001B[0m, in \u001B[0;36mHTTPAdapter.send\u001B[1;34m(self, request, stream, timeout, verify, cert, proxies)\u001B[0m\n\u001B[0;32m    485\u001B[0m \u001B[38;5;28;01mtry\u001B[39;00m:\n\u001B[1;32m--> 486\u001B[0m     resp \u001B[38;5;241m=\u001B[39m \u001B[43mconn\u001B[49m\u001B[38;5;241;43m.\u001B[39;49m\u001B[43murlopen\u001B[49m\u001B[43m(\u001B[49m\n\u001B[0;32m    487\u001B[0m \u001B[43m        \u001B[49m\u001B[43mmethod\u001B[49m\u001B[38;5;241;43m=\u001B[39;49m\u001B[43mrequest\u001B[49m\u001B[38;5;241;43m.\u001B[39;49m\u001B[43mmethod\u001B[49m\u001B[43m,\u001B[49m\n\u001B[0;32m    488\u001B[0m \u001B[43m        \u001B[49m\u001B[43murl\u001B[49m\u001B[38;5;241;43m=\u001B[39;49m\u001B[43murl\u001B[49m\u001B[43m,\u001B[49m\n\u001B[0;32m    489\u001B[0m \u001B[43m        \u001B[49m\u001B[43mbody\u001B[49m\u001B[38;5;241;43m=\u001B[39;49m\u001B[43mrequest\u001B[49m\u001B[38;5;241;43m.\u001B[39;49m\u001B[43mbody\u001B[49m\u001B[43m,\u001B[49m\n\u001B[0;32m    490\u001B[0m \u001B[43m        \u001B[49m\u001B[43mheaders\u001B[49m\u001B[38;5;241;43m=\u001B[39;49m\u001B[43mrequest\u001B[49m\u001B[38;5;241;43m.\u001B[39;49m\u001B[43mheaders\u001B[49m\u001B[43m,\u001B[49m\n\u001B[0;32m    491\u001B[0m \u001B[43m        \u001B[49m\u001B[43mredirect\u001B[49m\u001B[38;5;241;43m=\u001B[39;49m\u001B[38;5;28;43;01mFalse\u001B[39;49;00m\u001B[43m,\u001B[49m\n\u001B[0;32m    492\u001B[0m \u001B[43m        \u001B[49m\u001B[43massert_same_host\u001B[49m\u001B[38;5;241;43m=\u001B[39;49m\u001B[38;5;28;43;01mFalse\u001B[39;49;00m\u001B[43m,\u001B[49m\n\u001B[0;32m    493\u001B[0m \u001B[43m        \u001B[49m\u001B[43mpreload_content\u001B[49m\u001B[38;5;241;43m=\u001B[39;49m\u001B[38;5;28;43;01mFalse\u001B[39;49;00m\u001B[43m,\u001B[49m\n\u001B[0;32m    494\u001B[0m \u001B[43m        \u001B[49m\u001B[43mdecode_content\u001B[49m\u001B[38;5;241;43m=\u001B[39;49m\u001B[38;5;28;43;01mFalse\u001B[39;49;00m\u001B[43m,\u001B[49m\n\u001B[0;32m    495\u001B[0m \u001B[43m        \u001B[49m\u001B[43mretries\u001B[49m\u001B[38;5;241;43m=\u001B[39;49m\u001B[38;5;28;43mself\u001B[39;49m\u001B[38;5;241;43m.\u001B[39;49m\u001B[43mmax_retries\u001B[49m\u001B[43m,\u001B[49m\n\u001B[0;32m    496\u001B[0m \u001B[43m        \u001B[49m\u001B[43mtimeout\u001B[49m\u001B[38;5;241;43m=\u001B[39;49m\u001B[43mtimeout\u001B[49m\u001B[43m,\u001B[49m\n\u001B[0;32m    497\u001B[0m \u001B[43m        \u001B[49m\u001B[43mchunked\u001B[49m\u001B[38;5;241;43m=\u001B[39;49m\u001B[43mchunked\u001B[49m\u001B[43m,\u001B[49m\n\u001B[0;32m    498\u001B[0m \u001B[43m    \u001B[49m\u001B[43m)\u001B[49m\n\u001B[0;32m    500\u001B[0m \u001B[38;5;28;01mexcept\u001B[39;00m (ProtocolError, \u001B[38;5;167;01mOSError\u001B[39;00m) \u001B[38;5;28;01mas\u001B[39;00m err:\n",
      "File \u001B[1;32mE:\\Pythoncode\\venv3.10.5\\lib\\site-packages\\urllib3\\connectionpool.py:845\u001B[0m, in \u001B[0;36mHTTPConnectionPool.urlopen\u001B[1;34m(self, method, url, body, headers, retries, redirect, assert_same_host, timeout, pool_timeout, release_conn, chunked, body_pos, preload_content, decode_content, **response_kw)\u001B[0m\n\u001B[0;32m    843\u001B[0m     new_e \u001B[38;5;241m=\u001B[39m ProtocolError(\u001B[38;5;124m\"\u001B[39m\u001B[38;5;124mConnection aborted.\u001B[39m\u001B[38;5;124m\"\u001B[39m, new_e)\n\u001B[1;32m--> 845\u001B[0m retries \u001B[38;5;241m=\u001B[39m \u001B[43mretries\u001B[49m\u001B[38;5;241;43m.\u001B[39;49m\u001B[43mincrement\u001B[49m\u001B[43m(\u001B[49m\n\u001B[0;32m    846\u001B[0m \u001B[43m    \u001B[49m\u001B[43mmethod\u001B[49m\u001B[43m,\u001B[49m\u001B[43m \u001B[49m\u001B[43murl\u001B[49m\u001B[43m,\u001B[49m\u001B[43m \u001B[49m\u001B[43merror\u001B[49m\u001B[38;5;241;43m=\u001B[39;49m\u001B[43mnew_e\u001B[49m\u001B[43m,\u001B[49m\u001B[43m \u001B[49m\u001B[43m_pool\u001B[49m\u001B[38;5;241;43m=\u001B[39;49m\u001B[38;5;28;43mself\u001B[39;49m\u001B[43m,\u001B[49m\u001B[43m \u001B[49m\u001B[43m_stacktrace\u001B[49m\u001B[38;5;241;43m=\u001B[39;49m\u001B[43msys\u001B[49m\u001B[38;5;241;43m.\u001B[39;49m\u001B[43mexc_info\u001B[49m\u001B[43m(\u001B[49m\u001B[43m)\u001B[49m\u001B[43m[\u001B[49m\u001B[38;5;241;43m2\u001B[39;49m\u001B[43m]\u001B[49m\n\u001B[0;32m    847\u001B[0m \u001B[43m\u001B[49m\u001B[43m)\u001B[49m\n\u001B[0;32m    848\u001B[0m retries\u001B[38;5;241m.\u001B[39msleep()\n",
      "File \u001B[1;32mE:\\Pythoncode\\venv3.10.5\\lib\\site-packages\\urllib3\\util\\retry.py:470\u001B[0m, in \u001B[0;36mRetry.increment\u001B[1;34m(self, method, url, response, error, _pool, _stacktrace)\u001B[0m\n\u001B[0;32m    469\u001B[0m \u001B[38;5;28;01mif\u001B[39;00m read \u001B[38;5;129;01mis\u001B[39;00m \u001B[38;5;28;01mFalse\u001B[39;00m \u001B[38;5;129;01mor\u001B[39;00m method \u001B[38;5;129;01mis\u001B[39;00m \u001B[38;5;28;01mNone\u001B[39;00m \u001B[38;5;129;01mor\u001B[39;00m \u001B[38;5;129;01mnot\u001B[39;00m \u001B[38;5;28mself\u001B[39m\u001B[38;5;241m.\u001B[39m_is_method_retryable(method):\n\u001B[1;32m--> 470\u001B[0m     \u001B[38;5;28;01mraise\u001B[39;00m \u001B[43mreraise\u001B[49m\u001B[43m(\u001B[49m\u001B[38;5;28;43mtype\u001B[39;49m\u001B[43m(\u001B[49m\u001B[43merror\u001B[49m\u001B[43m)\u001B[49m\u001B[43m,\u001B[49m\u001B[43m \u001B[49m\u001B[43merror\u001B[49m\u001B[43m,\u001B[49m\u001B[43m \u001B[49m\u001B[43m_stacktrace\u001B[49m\u001B[43m)\u001B[49m\n\u001B[0;32m    471\u001B[0m \u001B[38;5;28;01melif\u001B[39;00m read \u001B[38;5;129;01mis\u001B[39;00m \u001B[38;5;129;01mnot\u001B[39;00m \u001B[38;5;28;01mNone\u001B[39;00m:\n",
      "File \u001B[1;32mE:\\Pythoncode\\venv3.10.5\\lib\\site-packages\\urllib3\\util\\util.py:38\u001B[0m, in \u001B[0;36mreraise\u001B[1;34m(tp, value, tb)\u001B[0m\n\u001B[0;32m     37\u001B[0m \u001B[38;5;28;01mif\u001B[39;00m value\u001B[38;5;241m.\u001B[39m__traceback__ \u001B[38;5;129;01mis\u001B[39;00m \u001B[38;5;129;01mnot\u001B[39;00m tb:\n\u001B[1;32m---> 38\u001B[0m     \u001B[38;5;28;01mraise\u001B[39;00m value\u001B[38;5;241m.\u001B[39mwith_traceback(tb)\n\u001B[0;32m     39\u001B[0m \u001B[38;5;28;01mraise\u001B[39;00m value\n",
      "File \u001B[1;32mE:\\Pythoncode\\venv3.10.5\\lib\\site-packages\\urllib3\\connectionpool.py:791\u001B[0m, in \u001B[0;36mHTTPConnectionPool.urlopen\u001B[1;34m(self, method, url, body, headers, retries, redirect, assert_same_host, timeout, pool_timeout, release_conn, chunked, body_pos, preload_content, decode_content, **response_kw)\u001B[0m\n\u001B[0;32m    790\u001B[0m \u001B[38;5;66;03m# Make the request on the HTTPConnection object\u001B[39;00m\n\u001B[1;32m--> 791\u001B[0m response \u001B[38;5;241m=\u001B[39m \u001B[38;5;28mself\u001B[39m\u001B[38;5;241m.\u001B[39m_make_request(\n\u001B[0;32m    792\u001B[0m     conn,\n\u001B[0;32m    793\u001B[0m     method,\n\u001B[0;32m    794\u001B[0m     url,\n\u001B[0;32m    795\u001B[0m     timeout\u001B[38;5;241m=\u001B[39mtimeout_obj,\n\u001B[0;32m    796\u001B[0m     body\u001B[38;5;241m=\u001B[39mbody,\n\u001B[0;32m    797\u001B[0m     headers\u001B[38;5;241m=\u001B[39mheaders,\n\u001B[0;32m    798\u001B[0m     chunked\u001B[38;5;241m=\u001B[39mchunked,\n\u001B[0;32m    799\u001B[0m     retries\u001B[38;5;241m=\u001B[39mretries,\n\u001B[0;32m    800\u001B[0m     response_conn\u001B[38;5;241m=\u001B[39mresponse_conn,\n\u001B[0;32m    801\u001B[0m     preload_content\u001B[38;5;241m=\u001B[39mpreload_content,\n\u001B[0;32m    802\u001B[0m     decode_content\u001B[38;5;241m=\u001B[39mdecode_content,\n\u001B[0;32m    803\u001B[0m     \u001B[38;5;241m*\u001B[39m\u001B[38;5;241m*\u001B[39mresponse_kw,\n\u001B[0;32m    804\u001B[0m )\n\u001B[0;32m    806\u001B[0m \u001B[38;5;66;03m# Everything went great!\u001B[39;00m\n",
      "File \u001B[1;32mE:\\Pythoncode\\venv3.10.5\\lib\\site-packages\\urllib3\\connectionpool.py:537\u001B[0m, in \u001B[0;36mHTTPConnectionPool._make_request\u001B[1;34m(self, conn, method, url, body, headers, retries, timeout, chunked, response_conn, preload_content, decode_content, enforce_content_length)\u001B[0m\n\u001B[0;32m    536\u001B[0m \u001B[38;5;28;01mtry\u001B[39;00m:\n\u001B[1;32m--> 537\u001B[0m     response \u001B[38;5;241m=\u001B[39m \u001B[43mconn\u001B[49m\u001B[38;5;241;43m.\u001B[39;49m\u001B[43mgetresponse\u001B[49m\u001B[43m(\u001B[49m\u001B[43m)\u001B[49m\n\u001B[0;32m    538\u001B[0m \u001B[38;5;28;01mexcept\u001B[39;00m (BaseSSLError, \u001B[38;5;167;01mOSError\u001B[39;00m) \u001B[38;5;28;01mas\u001B[39;00m e:\n",
      "File \u001B[1;32mE:\\Pythoncode\\venv3.10.5\\lib\\site-packages\\urllib3\\connection.py:461\u001B[0m, in \u001B[0;36mHTTPConnection.getresponse\u001B[1;34m(self)\u001B[0m\n\u001B[0;32m    460\u001B[0m \u001B[38;5;66;03m# Get the response from http.client.HTTPConnection\u001B[39;00m\n\u001B[1;32m--> 461\u001B[0m httplib_response \u001B[38;5;241m=\u001B[39m \u001B[38;5;28;43msuper\u001B[39;49m\u001B[43m(\u001B[49m\u001B[43m)\u001B[49m\u001B[38;5;241;43m.\u001B[39;49m\u001B[43mgetresponse\u001B[49m\u001B[43m(\u001B[49m\u001B[43m)\u001B[49m\n\u001B[0;32m    463\u001B[0m \u001B[38;5;28;01mtry\u001B[39;00m:\n",
      "File \u001B[1;32mD:\\SoftWare\\python\\python3.10.5\\lib\\http\\client.py:1374\u001B[0m, in \u001B[0;36mHTTPConnection.getresponse\u001B[1;34m(self)\u001B[0m\n\u001B[0;32m   1373\u001B[0m \u001B[38;5;28;01mtry\u001B[39;00m:\n\u001B[1;32m-> 1374\u001B[0m     \u001B[43mresponse\u001B[49m\u001B[38;5;241;43m.\u001B[39;49m\u001B[43mbegin\u001B[49m\u001B[43m(\u001B[49m\u001B[43m)\u001B[49m\n\u001B[0;32m   1375\u001B[0m \u001B[38;5;28;01mexcept\u001B[39;00m \u001B[38;5;167;01mConnectionError\u001B[39;00m:\n",
      "File \u001B[1;32mD:\\SoftWare\\python\\python3.10.5\\lib\\http\\client.py:318\u001B[0m, in \u001B[0;36mHTTPResponse.begin\u001B[1;34m(self)\u001B[0m\n\u001B[0;32m    317\u001B[0m \u001B[38;5;28;01mwhile\u001B[39;00m \u001B[38;5;28;01mTrue\u001B[39;00m:\n\u001B[1;32m--> 318\u001B[0m     version, status, reason \u001B[38;5;241m=\u001B[39m \u001B[38;5;28;43mself\u001B[39;49m\u001B[38;5;241;43m.\u001B[39;49m\u001B[43m_read_status\u001B[49m\u001B[43m(\u001B[49m\u001B[43m)\u001B[49m\n\u001B[0;32m    319\u001B[0m     \u001B[38;5;28;01mif\u001B[39;00m status \u001B[38;5;241m!=\u001B[39m CONTINUE:\n",
      "File \u001B[1;32mD:\\SoftWare\\python\\python3.10.5\\lib\\http\\client.py:287\u001B[0m, in \u001B[0;36mHTTPResponse._read_status\u001B[1;34m(self)\u001B[0m\n\u001B[0;32m    284\u001B[0m \u001B[38;5;28;01mif\u001B[39;00m \u001B[38;5;129;01mnot\u001B[39;00m line:\n\u001B[0;32m    285\u001B[0m     \u001B[38;5;66;03m# Presumably, the server closed the connection before\u001B[39;00m\n\u001B[0;32m    286\u001B[0m     \u001B[38;5;66;03m# sending a valid response.\u001B[39;00m\n\u001B[1;32m--> 287\u001B[0m     \u001B[38;5;28;01mraise\u001B[39;00m RemoteDisconnected(\u001B[38;5;124m\"\u001B[39m\u001B[38;5;124mRemote end closed connection without\u001B[39m\u001B[38;5;124m\"\u001B[39m\n\u001B[0;32m    288\u001B[0m                              \u001B[38;5;124m\"\u001B[39m\u001B[38;5;124m response\u001B[39m\u001B[38;5;124m\"\u001B[39m)\n\u001B[0;32m    289\u001B[0m \u001B[38;5;28;01mtry\u001B[39;00m:\n",
      "\u001B[1;31mProtocolError\u001B[0m: ('Connection aborted.', RemoteDisconnected('Remote end closed connection without response'))",
      "\nDuring handling of the above exception, another exception occurred:\n",
      "\u001B[1;31mConnectionError\u001B[0m                           Traceback (most recent call last)",
      "Cell \u001B[1;32mIn[30], line 3\u001B[0m\n\u001B[0;32m      1\u001B[0m gpmdb_dict \u001B[38;5;241m=\u001B[39m {}\n\u001B[0;32m      2\u001B[0m \u001B[38;5;28;01mfor\u001B[39;00m i \u001B[38;5;129;01min\u001B[39;00m tqdm(\u001B[38;5;28mset\u001B[39m(GCA[\u001B[38;5;124m'\u001B[39m\u001B[38;5;124msequence\u001B[39m\u001B[38;5;124m'\u001B[39m])):\n\u001B[1;32m----> 3\u001B[0m     gpmdb_dict[i] \u001B[38;5;241m=\u001B[39m \u001B[43mgetApiRes\u001B[49m\u001B[43m(\u001B[49m\u001B[43mi\u001B[49m\u001B[43m)\u001B[49m\n",
      "Cell \u001B[1;32mIn[28], line 4\u001B[0m, in \u001B[0;36mgetApiRes\u001B[1;34m(seq)\u001B[0m\n\u001B[0;32m      2\u001B[0m \u001B[38;5;28;01mdef\u001B[39;00m \u001B[38;5;21mgetApiRes\u001B[39m(seq):\n\u001B[0;32m      3\u001B[0m     url \u001B[38;5;241m=\u001B[39m \u001B[38;5;124m'\u001B[39m\u001B[38;5;124mhttps://rest.thegpm.org/1/peptide/count/seq=\u001B[39m\u001B[38;5;124m'\u001B[39m\u001B[38;5;241m+\u001B[39mseq\n\u001B[1;32m----> 4\u001B[0m     response \u001B[38;5;241m=\u001B[39m \u001B[43msession\u001B[49m\u001B[38;5;241;43m.\u001B[39;49m\u001B[43mget\u001B[49m\u001B[43m(\u001B[49m\u001B[43murl\u001B[49m\u001B[43m)\u001B[49m\n\u001B[0;32m      5\u001B[0m     \u001B[38;5;28;01mif\u001B[39;00m response\u001B[38;5;241m.\u001B[39mstatus_code \u001B[38;5;241m==\u001B[39m \u001B[38;5;241m200\u001B[39m:\n\u001B[0;32m      6\u001B[0m         \u001B[38;5;28;01mif\u001B[39;00m \u001B[38;5;28mlen\u001B[39m(response\u001B[38;5;241m.\u001B[39mjson()) \u001B[38;5;241m==\u001B[39m \u001B[38;5;241m1\u001B[39m:\n",
      "File \u001B[1;32mE:\\Pythoncode\\venv3.10.5\\lib\\site-packages\\requests\\sessions.py:602\u001B[0m, in \u001B[0;36mSession.get\u001B[1;34m(self, url, **kwargs)\u001B[0m\n\u001B[0;32m    594\u001B[0m \u001B[38;5;250m\u001B[39m\u001B[38;5;124mr\u001B[39m\u001B[38;5;124;03m\"\"\"Sends a GET request. Returns :class:`Response` object.\u001B[39;00m\n\u001B[0;32m    595\u001B[0m \n\u001B[0;32m    596\u001B[0m \u001B[38;5;124;03m:param url: URL for the new :class:`Request` object.\u001B[39;00m\n\u001B[0;32m    597\u001B[0m \u001B[38;5;124;03m:param \\*\\*kwargs: Optional arguments that ``request`` takes.\u001B[39;00m\n\u001B[0;32m    598\u001B[0m \u001B[38;5;124;03m:rtype: requests.Response\u001B[39;00m\n\u001B[0;32m    599\u001B[0m \u001B[38;5;124;03m\"\"\"\u001B[39;00m\n\u001B[0;32m    601\u001B[0m kwargs\u001B[38;5;241m.\u001B[39msetdefault(\u001B[38;5;124m\"\u001B[39m\u001B[38;5;124mallow_redirects\u001B[39m\u001B[38;5;124m\"\u001B[39m, \u001B[38;5;28;01mTrue\u001B[39;00m)\n\u001B[1;32m--> 602\u001B[0m \u001B[38;5;28;01mreturn\u001B[39;00m \u001B[38;5;28mself\u001B[39m\u001B[38;5;241m.\u001B[39mrequest(\u001B[38;5;124m\"\u001B[39m\u001B[38;5;124mGET\u001B[39m\u001B[38;5;124m\"\u001B[39m, url, \u001B[38;5;241m*\u001B[39m\u001B[38;5;241m*\u001B[39mkwargs)\n",
      "File \u001B[1;32mE:\\Pythoncode\\venv3.10.5\\lib\\site-packages\\requests\\sessions.py:589\u001B[0m, in \u001B[0;36mSession.request\u001B[1;34m(self, method, url, params, data, headers, cookies, files, auth, timeout, allow_redirects, proxies, hooks, stream, verify, cert, json)\u001B[0m\n\u001B[0;32m    584\u001B[0m send_kwargs \u001B[38;5;241m=\u001B[39m {\n\u001B[0;32m    585\u001B[0m     \u001B[38;5;124m\"\u001B[39m\u001B[38;5;124mtimeout\u001B[39m\u001B[38;5;124m\"\u001B[39m: timeout,\n\u001B[0;32m    586\u001B[0m     \u001B[38;5;124m\"\u001B[39m\u001B[38;5;124mallow_redirects\u001B[39m\u001B[38;5;124m\"\u001B[39m: allow_redirects,\n\u001B[0;32m    587\u001B[0m }\n\u001B[0;32m    588\u001B[0m send_kwargs\u001B[38;5;241m.\u001B[39mupdate(settings)\n\u001B[1;32m--> 589\u001B[0m resp \u001B[38;5;241m=\u001B[39m \u001B[38;5;28mself\u001B[39m\u001B[38;5;241m.\u001B[39msend(prep, \u001B[38;5;241m*\u001B[39m\u001B[38;5;241m*\u001B[39msend_kwargs)\n\u001B[0;32m    591\u001B[0m \u001B[38;5;28;01mreturn\u001B[39;00m resp\n",
      "File \u001B[1;32mE:\\Pythoncode\\venv3.10.5\\lib\\site-packages\\requests\\sessions.py:703\u001B[0m, in \u001B[0;36mSession.send\u001B[1;34m(self, request, **kwargs)\u001B[0m\n\u001B[0;32m    700\u001B[0m start \u001B[38;5;241m=\u001B[39m preferred_clock()\n\u001B[0;32m    702\u001B[0m \u001B[38;5;66;03m# Send the request\u001B[39;00m\n\u001B[1;32m--> 703\u001B[0m r \u001B[38;5;241m=\u001B[39m adapter\u001B[38;5;241m.\u001B[39msend(request, \u001B[38;5;241m*\u001B[39m\u001B[38;5;241m*\u001B[39mkwargs)\n\u001B[0;32m    705\u001B[0m \u001B[38;5;66;03m# Total elapsed time of the request (approximately)\u001B[39;00m\n\u001B[0;32m    706\u001B[0m elapsed \u001B[38;5;241m=\u001B[39m preferred_clock() \u001B[38;5;241m-\u001B[39m start\n",
      "File \u001B[1;32mE:\\Pythoncode\\venv3.10.5\\lib\\site-packages\\requests\\adapters.py:501\u001B[0m, in \u001B[0;36mHTTPAdapter.send\u001B[1;34m(self, request, stream, timeout, verify, cert, proxies)\u001B[0m\n\u001B[0;32m    486\u001B[0m     resp \u001B[38;5;241m=\u001B[39m conn\u001B[38;5;241m.\u001B[39murlopen(\n\u001B[0;32m    487\u001B[0m         method\u001B[38;5;241m=\u001B[39mrequest\u001B[38;5;241m.\u001B[39mmethod,\n\u001B[0;32m    488\u001B[0m         url\u001B[38;5;241m=\u001B[39murl,\n\u001B[1;32m   (...)\u001B[0m\n\u001B[0;32m    497\u001B[0m         chunked\u001B[38;5;241m=\u001B[39mchunked,\n\u001B[0;32m    498\u001B[0m     )\n\u001B[0;32m    500\u001B[0m \u001B[38;5;28;01mexcept\u001B[39;00m (ProtocolError, \u001B[38;5;167;01mOSError\u001B[39;00m) \u001B[38;5;28;01mas\u001B[39;00m err:\n\u001B[1;32m--> 501\u001B[0m     \u001B[38;5;28;01mraise\u001B[39;00m \u001B[38;5;167;01mConnectionError\u001B[39;00m(err, request\u001B[38;5;241m=\u001B[39mrequest)\n\u001B[0;32m    503\u001B[0m \u001B[38;5;28;01mexcept\u001B[39;00m MaxRetryError \u001B[38;5;28;01mas\u001B[39;00m e:\n\u001B[0;32m    504\u001B[0m     \u001B[38;5;28;01mif\u001B[39;00m \u001B[38;5;28misinstance\u001B[39m(e\u001B[38;5;241m.\u001B[39mreason, ConnectTimeoutError):\n\u001B[0;32m    505\u001B[0m         \u001B[38;5;66;03m# TODO: Remove this in 3.0.0: see #2811\u001B[39;00m\n",
      "\u001B[1;31mConnectionError\u001B[0m: ('Connection aborted.', RemoteDisconnected('Remote end closed connection without response'))"
     ]
    }
   ],
   "source": [
    "gpmdb_dict = {}\n",
    "for i in tqdm(set(GCA['sequence'])):\n",
    "    gpmdb_dict[i] = getApiRes(i)"
   ],
   "metadata": {
    "collapsed": false,
    "pycharm": {
     "name": "#%%\n"
    }
   }
  },
  {
   "cell_type": "code",
   "execution_count": 34,
   "outputs": [
    {
     "data": {
      "text/plain": "14840"
     },
     "execution_count": 34,
     "metadata": {},
     "output_type": "execute_result"
    }
   ],
   "source": [
    "len(gpmdb_dict)"
   ],
   "metadata": {
    "collapsed": false,
    "pycharm": {
     "name": "#%%\n"
    }
   }
  },
  {
   "cell_type": "code",
   "execution_count": 41,
   "outputs": [
    {
     "data": {
      "text/plain": "844"
     },
     "execution_count": 41,
     "metadata": {},
     "output_type": "execute_result"
    }
   ],
   "source": [
    "len(set(GCA['sequence']) - set(gpmdb_dict.keys()))"
   ],
   "metadata": {
    "collapsed": false,
    "pycharm": {
     "name": "#%%\n"
    }
   }
  },
  {
   "cell_type": "code",
   "execution_count": 43,
   "outputs": [
    {
     "name": "stderr",
     "output_type": "stream",
     "text": [
      "100%|██████████| 844/844 [08:56<00:00,  1.57it/s]\n"
     ]
    }
   ],
   "source": [
    "for i in tqdm(set(GCA['sequence']) - set(gpmdb_dict.keys())):\n",
    "    gpmdb_dict[i] = getApiRes(i)"
   ],
   "metadata": {
    "collapsed": false,
    "pycharm": {
     "name": "#%%\n"
    }
   }
  },
  {
   "cell_type": "code",
   "execution_count": 44,
   "outputs": [
    {
     "data": {
      "text/plain": "15684"
     },
     "execution_count": 44,
     "metadata": {},
     "output_type": "execute_result"
    }
   ],
   "source": [
    "len(gpmdb_dict)"
   ],
   "metadata": {
    "collapsed": false,
    "pycharm": {
     "name": "#%%\n"
    }
   }
  },
  {
   "cell_type": "code",
   "execution_count": 46,
   "metadata": {
    "collapsed": false,
    "jupyter": {
     "outputs_hidden": false
    },
    "pycharm": {
     "name": "#%%\n"
    }
   },
   "outputs": [],
   "source": [
    "GCA['GPMDB_observations'] = GCA['sequence'].apply(gpmdb_dict.get)"
   ]
  },
  {
   "cell_type": "code",
   "execution_count": 47,
   "outputs": [
    {
     "data": {
      "text/plain": "                                 sequence     protein_accessions  \\\n0                   DIGTAPFAPNLEEINNILESK  GCA_166623,GCA_181492   \n1               IFLVSVEEPLLVKLVSELTPLTVHK             GCA_248243   \n2                          TVMPATLNKLLNNK             GCA_283984   \n3          SKVPGVVSGAMSGAVLQNVPTSTVWVAGPK  GCA_122173,GCA_242828   \n4              NHSVAESLNYVASWNMSMLQTQDLVK              GCA_64056   \n...                                   ...                    ...   \n104474                    AMGIMNSFINDIFER             GCA_243854   \n104475              DVASLSSQIQDTQELLQEETR             GCA_293797   \n104476                    AMGIMNSFINDIFER             GCA_243854   \n104477  LGELTMTDATPDSLSLSWMVPEGQFDHFLVQYR             GCA_285753   \n104478                        LLNLLADLVER             GCA_168207   \n\n       protein_start_positions protein_end_positions  protein_global_qvalue  \\\n0                    [937 937]             [957 957]               0.000556   \n1                       [1349]                [1373]               0.000556   \n2                        [225]                 [238]               0.063686   \n3                    [272 272]             [301 301]               0.000556   \n4                        [284]                 [309]               0.000556   \n...                        ...                   ...                    ...   \n104474                    [59]                  [73]               0.000556   \n104475                  [1316]                [1336]               0.000556   \n104476                    [59]                  [73]               0.000556   \n104477                  [2878]                [2910]               0.000556   \n104478                   [104]                 [114]               0.000556   \n\n        unique                      modifications  retention_time  charge  \\\n0            0                                NaN       6080.6000       2   \n1            1                                NaN       5854.5000       3   \n2            1       ['3-UNIMOD:35' '8-UNIMOD:7']       4333.1000       3   \n3            0  ['11-UNIMOD:35' '17|18-UNIMOD:7']       4128.7000       3   \n4            1   ['1|15-UNIMOD:7' '16-UNIMOD:35']       5243.2000       3   \n...        ...                                ...             ...     ...   \n104474       1     ['2|5-UNIMOD:35' '6-UNIMOD:7']       4789.1636       2   \n104475       1                                NaN       5055.1770       2   \n104476       1     ['2|5-UNIMOD:35' '6-UNIMOD:7']       5820.5356       2   \n104477       1                   ['19-UNIMOD:35']       5644.5786       3   \n104478       1                                NaN       5904.1143       2   \n\n        exp_mass_to_charge  ...  scan_number mz_array  intensity_array  \\\n0              1143.094299  ...        41482      NaN              NaN   \n1               935.561462  ...        39707      NaN              NaN   \n2               525.282653  ...        24371      NaN              NaN   \n3               981.527770  ...        22245      NaN              NaN   \n4               995.142455  ...        33949      NaN              NaN   \n...                    ...  ...          ...      ...              ...   \n104474          896.406311  ...        36358      NaN              NaN   \n104475         1195.597900  ...        38639      NaN              NaN   \n104476          896.407410  ...        45019      NaN              NaN   \n104477         1267.610718  ...        43573      NaN              NaN   \n104478          634.882690  ...        45703      NaN              NaN   \n\n        num_peaks  gene_accessions gene_names  prot_source isGCA  \\\n0             NaN              NaN        NaN          GCA   GCA   \n1             NaN              NaN        NaN          GCA   GCA   \n2             NaN              NaN        NaN          GCA   GCA   \n3             NaN              NaN        NaN          GCA   GCA   \n4             NaN              NaN        NaN          GCA   GCA   \n...           ...              ...        ...          ...   ...   \n104474        NaN              NaN        NaN          GCA   GCA   \n104475        NaN              NaN        NaN          GCA   GCA   \n104476        NaN              NaN        NaN          GCA   GCA   \n104477        NaN              NaN        NaN          GCA   GCA   \n104478        NaN              NaN        NaN          GCA   GCA   \n\n        PeptideAtlas_observations  GPMDB_observations  \n0                               0                   0  \n1                               0                   0  \n2                               0                   0  \n3                               0                   0  \n4                               0                   0  \n...                           ...                 ...  \n104474                          0                 119  \n104475                          0                   0  \n104476                          0                 119  \n104477                          0                   0  \n104478                       4674                  60  \n\n[104479 rows x 28 columns]",
      "text/html": "<div>\n<style scoped>\n    .dataframe tbody tr th:only-of-type {\n        vertical-align: middle;\n    }\n\n    .dataframe tbody tr th {\n        vertical-align: top;\n    }\n\n    .dataframe thead th {\n        text-align: right;\n    }\n</style>\n<table border=\"1\" class=\"dataframe\">\n  <thead>\n    <tr style=\"text-align: right;\">\n      <th></th>\n      <th>sequence</th>\n      <th>protein_accessions</th>\n      <th>protein_start_positions</th>\n      <th>protein_end_positions</th>\n      <th>protein_global_qvalue</th>\n      <th>unique</th>\n      <th>modifications</th>\n      <th>retention_time</th>\n      <th>charge</th>\n      <th>exp_mass_to_charge</th>\n      <th>...</th>\n      <th>scan_number</th>\n      <th>mz_array</th>\n      <th>intensity_array</th>\n      <th>num_peaks</th>\n      <th>gene_accessions</th>\n      <th>gene_names</th>\n      <th>prot_source</th>\n      <th>isGCA</th>\n      <th>PeptideAtlas_observations</th>\n      <th>GPMDB_observations</th>\n    </tr>\n  </thead>\n  <tbody>\n    <tr>\n      <th>0</th>\n      <td>DIGTAPFAPNLEEINNILESK</td>\n      <td>GCA_166623,GCA_181492</td>\n      <td>[937 937]</td>\n      <td>[957 957]</td>\n      <td>0.000556</td>\n      <td>0</td>\n      <td>NaN</td>\n      <td>6080.6000</td>\n      <td>2</td>\n      <td>1143.094299</td>\n      <td>...</td>\n      <td>41482</td>\n      <td>NaN</td>\n      <td>NaN</td>\n      <td>NaN</td>\n      <td>NaN</td>\n      <td>NaN</td>\n      <td>GCA</td>\n      <td>GCA</td>\n      <td>0</td>\n      <td>0</td>\n    </tr>\n    <tr>\n      <th>1</th>\n      <td>IFLVSVEEPLLVKLVSELTPLTVHK</td>\n      <td>GCA_248243</td>\n      <td>[1349]</td>\n      <td>[1373]</td>\n      <td>0.000556</td>\n      <td>1</td>\n      <td>NaN</td>\n      <td>5854.5000</td>\n      <td>3</td>\n      <td>935.561462</td>\n      <td>...</td>\n      <td>39707</td>\n      <td>NaN</td>\n      <td>NaN</td>\n      <td>NaN</td>\n      <td>NaN</td>\n      <td>NaN</td>\n      <td>GCA</td>\n      <td>GCA</td>\n      <td>0</td>\n      <td>0</td>\n    </tr>\n    <tr>\n      <th>2</th>\n      <td>TVMPATLNKLLNNK</td>\n      <td>GCA_283984</td>\n      <td>[225]</td>\n      <td>[238]</td>\n      <td>0.063686</td>\n      <td>1</td>\n      <td>['3-UNIMOD:35' '8-UNIMOD:7']</td>\n      <td>4333.1000</td>\n      <td>3</td>\n      <td>525.282653</td>\n      <td>...</td>\n      <td>24371</td>\n      <td>NaN</td>\n      <td>NaN</td>\n      <td>NaN</td>\n      <td>NaN</td>\n      <td>NaN</td>\n      <td>GCA</td>\n      <td>GCA</td>\n      <td>0</td>\n      <td>0</td>\n    </tr>\n    <tr>\n      <th>3</th>\n      <td>SKVPGVVSGAMSGAVLQNVPTSTVWVAGPK</td>\n      <td>GCA_122173,GCA_242828</td>\n      <td>[272 272]</td>\n      <td>[301 301]</td>\n      <td>0.000556</td>\n      <td>0</td>\n      <td>['11-UNIMOD:35' '17|18-UNIMOD:7']</td>\n      <td>4128.7000</td>\n      <td>3</td>\n      <td>981.527770</td>\n      <td>...</td>\n      <td>22245</td>\n      <td>NaN</td>\n      <td>NaN</td>\n      <td>NaN</td>\n      <td>NaN</td>\n      <td>NaN</td>\n      <td>GCA</td>\n      <td>GCA</td>\n      <td>0</td>\n      <td>0</td>\n    </tr>\n    <tr>\n      <th>4</th>\n      <td>NHSVAESLNYVASWNMSMLQTQDLVK</td>\n      <td>GCA_64056</td>\n      <td>[284]</td>\n      <td>[309]</td>\n      <td>0.000556</td>\n      <td>1</td>\n      <td>['1|15-UNIMOD:7' '16-UNIMOD:35']</td>\n      <td>5243.2000</td>\n      <td>3</td>\n      <td>995.142455</td>\n      <td>...</td>\n      <td>33949</td>\n      <td>NaN</td>\n      <td>NaN</td>\n      <td>NaN</td>\n      <td>NaN</td>\n      <td>NaN</td>\n      <td>GCA</td>\n      <td>GCA</td>\n      <td>0</td>\n      <td>0</td>\n    </tr>\n    <tr>\n      <th>...</th>\n      <td>...</td>\n      <td>...</td>\n      <td>...</td>\n      <td>...</td>\n      <td>...</td>\n      <td>...</td>\n      <td>...</td>\n      <td>...</td>\n      <td>...</td>\n      <td>...</td>\n      <td>...</td>\n      <td>...</td>\n      <td>...</td>\n      <td>...</td>\n      <td>...</td>\n      <td>...</td>\n      <td>...</td>\n      <td>...</td>\n      <td>...</td>\n      <td>...</td>\n      <td>...</td>\n    </tr>\n    <tr>\n      <th>104474</th>\n      <td>AMGIMNSFINDIFER</td>\n      <td>GCA_243854</td>\n      <td>[59]</td>\n      <td>[73]</td>\n      <td>0.000556</td>\n      <td>1</td>\n      <td>['2|5-UNIMOD:35' '6-UNIMOD:7']</td>\n      <td>4789.1636</td>\n      <td>2</td>\n      <td>896.406311</td>\n      <td>...</td>\n      <td>36358</td>\n      <td>NaN</td>\n      <td>NaN</td>\n      <td>NaN</td>\n      <td>NaN</td>\n      <td>NaN</td>\n      <td>GCA</td>\n      <td>GCA</td>\n      <td>0</td>\n      <td>119</td>\n    </tr>\n    <tr>\n      <th>104475</th>\n      <td>DVASLSSQIQDTQELLQEETR</td>\n      <td>GCA_293797</td>\n      <td>[1316]</td>\n      <td>[1336]</td>\n      <td>0.000556</td>\n      <td>1</td>\n      <td>NaN</td>\n      <td>5055.1770</td>\n      <td>2</td>\n      <td>1195.597900</td>\n      <td>...</td>\n      <td>38639</td>\n      <td>NaN</td>\n      <td>NaN</td>\n      <td>NaN</td>\n      <td>NaN</td>\n      <td>NaN</td>\n      <td>GCA</td>\n      <td>GCA</td>\n      <td>0</td>\n      <td>0</td>\n    </tr>\n    <tr>\n      <th>104476</th>\n      <td>AMGIMNSFINDIFER</td>\n      <td>GCA_243854</td>\n      <td>[59]</td>\n      <td>[73]</td>\n      <td>0.000556</td>\n      <td>1</td>\n      <td>['2|5-UNIMOD:35' '6-UNIMOD:7']</td>\n      <td>5820.5356</td>\n      <td>2</td>\n      <td>896.407410</td>\n      <td>...</td>\n      <td>45019</td>\n      <td>NaN</td>\n      <td>NaN</td>\n      <td>NaN</td>\n      <td>NaN</td>\n      <td>NaN</td>\n      <td>GCA</td>\n      <td>GCA</td>\n      <td>0</td>\n      <td>119</td>\n    </tr>\n    <tr>\n      <th>104477</th>\n      <td>LGELTMTDATPDSLSLSWMVPEGQFDHFLVQYR</td>\n      <td>GCA_285753</td>\n      <td>[2878]</td>\n      <td>[2910]</td>\n      <td>0.000556</td>\n      <td>1</td>\n      <td>['19-UNIMOD:35']</td>\n      <td>5644.5786</td>\n      <td>3</td>\n      <td>1267.610718</td>\n      <td>...</td>\n      <td>43573</td>\n      <td>NaN</td>\n      <td>NaN</td>\n      <td>NaN</td>\n      <td>NaN</td>\n      <td>NaN</td>\n      <td>GCA</td>\n      <td>GCA</td>\n      <td>0</td>\n      <td>0</td>\n    </tr>\n    <tr>\n      <th>104478</th>\n      <td>LLNLLADLVER</td>\n      <td>GCA_168207</td>\n      <td>[104]</td>\n      <td>[114]</td>\n      <td>0.000556</td>\n      <td>1</td>\n      <td>NaN</td>\n      <td>5904.1143</td>\n      <td>2</td>\n      <td>634.882690</td>\n      <td>...</td>\n      <td>45703</td>\n      <td>NaN</td>\n      <td>NaN</td>\n      <td>NaN</td>\n      <td>NaN</td>\n      <td>NaN</td>\n      <td>GCA</td>\n      <td>GCA</td>\n      <td>4674</td>\n      <td>60</td>\n    </tr>\n  </tbody>\n</table>\n<p>104479 rows × 28 columns</p>\n</div>"
     },
     "execution_count": 47,
     "metadata": {},
     "output_type": "execute_result"
    }
   ],
   "source": [
    "GCA"
   ],
   "metadata": {
    "collapsed": false,
    "pycharm": {
     "name": "#%%\n"
    }
   }
  },
  {
   "cell_type": "code",
   "execution_count": 48,
   "metadata": {
    "collapsed": false,
    "jupyter": {
     "outputs_hidden": false
    },
    "pycharm": {
     "name": "#%%\n"
    }
   },
   "outputs": [],
   "source": [
    "GCA.to_csv('GCA_observations.tsv',sep='\\t', index=False)"
   ]
  },
  {
   "cell_type": "code",
   "execution_count": 55,
   "outputs": [
    {
     "data": {
      "text/plain": "                                 sequence     protein_accessions  \\\n0                   DIGTAPFAPNLEEINNILESK  GCA_166623,GCA_181492   \n1               IFLVSVEEPLLVKLVSELTPLTVHK             GCA_248243   \n2                          TVMPATLNKLLNNK             GCA_283984   \n3          SKVPGVVSGAMSGAVLQNVPTSTVWVAGPK  GCA_122173,GCA_242828   \n4              NHSVAESLNYVASWNMSMLQTQDLVK              GCA_64056   \n...                                   ...                    ...   \n104470              TPEVTCVVVDVSHQDPEVQFK             GCA_263327   \n104471                 VAPDEHPILLTKAPLNPK             GCA_190681   \n104472                   VVSVLTILHQDWLNGK             GCA_268986   \n104475              DVASLSSQIQDTQELLQEETR             GCA_293797   \n104477  LGELTMTDATPDSLSLSWMVPEGQFDHFLVQYR             GCA_285753   \n\n       protein_start_positions protein_end_positions  protein_global_qvalue  \\\n0                    [937 937]             [957 957]               0.000556   \n1                       [1349]                [1373]               0.000556   \n2                        [225]                 [238]               0.063686   \n3                    [272 272]             [301 301]               0.000556   \n4                        [284]                 [309]               0.000556   \n...                        ...                   ...                    ...   \n104470                   [186]                 [206]               0.000556   \n104471                    [97]                 [114]               0.000556   \n104472                   [182]                 [197]               0.000556   \n104475                  [1316]                [1336]               0.000556   \n104477                  [2878]                [2910]               0.000556   \n\n        unique                      modifications  retention_time  charge  \\\n0            0                                NaN       6080.6000       2   \n1            1                                NaN       5854.5000       3   \n2            1       ['3-UNIMOD:35' '8-UNIMOD:7']       4333.1000       3   \n3            0  ['11-UNIMOD:35' '17|18-UNIMOD:7']       4128.7000       3   \n4            1   ['1|15-UNIMOD:7' '16-UNIMOD:35']       5243.2000       3   \n...        ...                                ...             ...     ...   \n104470       1       ['6-UNIMOD:4' '14-UNIMOD:7']       4145.0625       3   \n104471       1                                NaN       3281.1985       3   \n104472       1                    ['10-UNIMOD:7']       4149.8230       3   \n104475       1                                NaN       5055.1770       2   \n104477       1                   ['19-UNIMOD:35']       5644.5786       3   \n\n        exp_mass_to_charge  ...  scan_number mz_array  intensity_array  \\\n0              1143.094299  ...        41482      NaN              NaN   \n1               935.561462  ...        39707      NaN              NaN   \n2               525.282653  ...        24371      NaN              NaN   \n3               981.527770  ...        22245      NaN              NaN   \n4               995.142455  ...        33949      NaN              NaN   \n...                    ...  ...          ...      ...              ...   \n104470          805.726135  ...        30903      NaN              NaN   \n104471          651.714417  ...        23713      NaN              NaN   \n104472          608.332336  ...        30938      NaN              NaN   \n104475         1195.597900  ...        38639      NaN              NaN   \n104477         1267.610718  ...        43573      NaN              NaN   \n\n        num_peaks  gene_accessions gene_names  prot_source isGCA  \\\n0             NaN              NaN        NaN          GCA   GCA   \n1             NaN              NaN        NaN          GCA   GCA   \n2             NaN              NaN        NaN          GCA   GCA   \n3             NaN              NaN        NaN          GCA   GCA   \n4             NaN              NaN        NaN          GCA   GCA   \n...           ...              ...        ...          ...   ...   \n104470        NaN              NaN        NaN          GCA   GCA   \n104471        NaN              NaN        NaN          GCA   GCA   \n104472        NaN              NaN        NaN          GCA   GCA   \n104475        NaN              NaN        NaN          GCA   GCA   \n104477        NaN              NaN        NaN          GCA   GCA   \n\n        PeptideAtlas_observations  GPMDB_observations  \n0                               0                   0  \n1                               0                   0  \n2                               0                   0  \n3                               0                   0  \n4                               0                   0  \n...                           ...                 ...  \n104470                          0                   0  \n104471                          0                   0  \n104472                          0                   0  \n104475                          0                   0  \n104477                          0                   0  \n\n[74952 rows x 28 columns]",
      "text/html": "<div>\n<style scoped>\n    .dataframe tbody tr th:only-of-type {\n        vertical-align: middle;\n    }\n\n    .dataframe tbody tr th {\n        vertical-align: top;\n    }\n\n    .dataframe thead th {\n        text-align: right;\n    }\n</style>\n<table border=\"1\" class=\"dataframe\">\n  <thead>\n    <tr style=\"text-align: right;\">\n      <th></th>\n      <th>sequence</th>\n      <th>protein_accessions</th>\n      <th>protein_start_positions</th>\n      <th>protein_end_positions</th>\n      <th>protein_global_qvalue</th>\n      <th>unique</th>\n      <th>modifications</th>\n      <th>retention_time</th>\n      <th>charge</th>\n      <th>exp_mass_to_charge</th>\n      <th>...</th>\n      <th>scan_number</th>\n      <th>mz_array</th>\n      <th>intensity_array</th>\n      <th>num_peaks</th>\n      <th>gene_accessions</th>\n      <th>gene_names</th>\n      <th>prot_source</th>\n      <th>isGCA</th>\n      <th>PeptideAtlas_observations</th>\n      <th>GPMDB_observations</th>\n    </tr>\n  </thead>\n  <tbody>\n    <tr>\n      <th>0</th>\n      <td>DIGTAPFAPNLEEINNILESK</td>\n      <td>GCA_166623,GCA_181492</td>\n      <td>[937 937]</td>\n      <td>[957 957]</td>\n      <td>0.000556</td>\n      <td>0</td>\n      <td>NaN</td>\n      <td>6080.6000</td>\n      <td>2</td>\n      <td>1143.094299</td>\n      <td>...</td>\n      <td>41482</td>\n      <td>NaN</td>\n      <td>NaN</td>\n      <td>NaN</td>\n      <td>NaN</td>\n      <td>NaN</td>\n      <td>GCA</td>\n      <td>GCA</td>\n      <td>0</td>\n      <td>0</td>\n    </tr>\n    <tr>\n      <th>1</th>\n      <td>IFLVSVEEPLLVKLVSELTPLTVHK</td>\n      <td>GCA_248243</td>\n      <td>[1349]</td>\n      <td>[1373]</td>\n      <td>0.000556</td>\n      <td>1</td>\n      <td>NaN</td>\n      <td>5854.5000</td>\n      <td>3</td>\n      <td>935.561462</td>\n      <td>...</td>\n      <td>39707</td>\n      <td>NaN</td>\n      <td>NaN</td>\n      <td>NaN</td>\n      <td>NaN</td>\n      <td>NaN</td>\n      <td>GCA</td>\n      <td>GCA</td>\n      <td>0</td>\n      <td>0</td>\n    </tr>\n    <tr>\n      <th>2</th>\n      <td>TVMPATLNKLLNNK</td>\n      <td>GCA_283984</td>\n      <td>[225]</td>\n      <td>[238]</td>\n      <td>0.063686</td>\n      <td>1</td>\n      <td>['3-UNIMOD:35' '8-UNIMOD:7']</td>\n      <td>4333.1000</td>\n      <td>3</td>\n      <td>525.282653</td>\n      <td>...</td>\n      <td>24371</td>\n      <td>NaN</td>\n      <td>NaN</td>\n      <td>NaN</td>\n      <td>NaN</td>\n      <td>NaN</td>\n      <td>GCA</td>\n      <td>GCA</td>\n      <td>0</td>\n      <td>0</td>\n    </tr>\n    <tr>\n      <th>3</th>\n      <td>SKVPGVVSGAMSGAVLQNVPTSTVWVAGPK</td>\n      <td>GCA_122173,GCA_242828</td>\n      <td>[272 272]</td>\n      <td>[301 301]</td>\n      <td>0.000556</td>\n      <td>0</td>\n      <td>['11-UNIMOD:35' '17|18-UNIMOD:7']</td>\n      <td>4128.7000</td>\n      <td>3</td>\n      <td>981.527770</td>\n      <td>...</td>\n      <td>22245</td>\n      <td>NaN</td>\n      <td>NaN</td>\n      <td>NaN</td>\n      <td>NaN</td>\n      <td>NaN</td>\n      <td>GCA</td>\n      <td>GCA</td>\n      <td>0</td>\n      <td>0</td>\n    </tr>\n    <tr>\n      <th>4</th>\n      <td>NHSVAESLNYVASWNMSMLQTQDLVK</td>\n      <td>GCA_64056</td>\n      <td>[284]</td>\n      <td>[309]</td>\n      <td>0.000556</td>\n      <td>1</td>\n      <td>['1|15-UNIMOD:7' '16-UNIMOD:35']</td>\n      <td>5243.2000</td>\n      <td>3</td>\n      <td>995.142455</td>\n      <td>...</td>\n      <td>33949</td>\n      <td>NaN</td>\n      <td>NaN</td>\n      <td>NaN</td>\n      <td>NaN</td>\n      <td>NaN</td>\n      <td>GCA</td>\n      <td>GCA</td>\n      <td>0</td>\n      <td>0</td>\n    </tr>\n    <tr>\n      <th>...</th>\n      <td>...</td>\n      <td>...</td>\n      <td>...</td>\n      <td>...</td>\n      <td>...</td>\n      <td>...</td>\n      <td>...</td>\n      <td>...</td>\n      <td>...</td>\n      <td>...</td>\n      <td>...</td>\n      <td>...</td>\n      <td>...</td>\n      <td>...</td>\n      <td>...</td>\n      <td>...</td>\n      <td>...</td>\n      <td>...</td>\n      <td>...</td>\n      <td>...</td>\n      <td>...</td>\n    </tr>\n    <tr>\n      <th>104470</th>\n      <td>TPEVTCVVVDVSHQDPEVQFK</td>\n      <td>GCA_263327</td>\n      <td>[186]</td>\n      <td>[206]</td>\n      <td>0.000556</td>\n      <td>1</td>\n      <td>['6-UNIMOD:4' '14-UNIMOD:7']</td>\n      <td>4145.0625</td>\n      <td>3</td>\n      <td>805.726135</td>\n      <td>...</td>\n      <td>30903</td>\n      <td>NaN</td>\n      <td>NaN</td>\n      <td>NaN</td>\n      <td>NaN</td>\n      <td>NaN</td>\n      <td>GCA</td>\n      <td>GCA</td>\n      <td>0</td>\n      <td>0</td>\n    </tr>\n    <tr>\n      <th>104471</th>\n      <td>VAPDEHPILLTKAPLNPK</td>\n      <td>GCA_190681</td>\n      <td>[97]</td>\n      <td>[114]</td>\n      <td>0.000556</td>\n      <td>1</td>\n      <td>NaN</td>\n      <td>3281.1985</td>\n      <td>3</td>\n      <td>651.714417</td>\n      <td>...</td>\n      <td>23713</td>\n      <td>NaN</td>\n      <td>NaN</td>\n      <td>NaN</td>\n      <td>NaN</td>\n      <td>NaN</td>\n      <td>GCA</td>\n      <td>GCA</td>\n      <td>0</td>\n      <td>0</td>\n    </tr>\n    <tr>\n      <th>104472</th>\n      <td>VVSVLTILHQDWLNGK</td>\n      <td>GCA_268986</td>\n      <td>[182]</td>\n      <td>[197]</td>\n      <td>0.000556</td>\n      <td>1</td>\n      <td>['10-UNIMOD:7']</td>\n      <td>4149.8230</td>\n      <td>3</td>\n      <td>608.332336</td>\n      <td>...</td>\n      <td>30938</td>\n      <td>NaN</td>\n      <td>NaN</td>\n      <td>NaN</td>\n      <td>NaN</td>\n      <td>NaN</td>\n      <td>GCA</td>\n      <td>GCA</td>\n      <td>0</td>\n      <td>0</td>\n    </tr>\n    <tr>\n      <th>104475</th>\n      <td>DVASLSSQIQDTQELLQEETR</td>\n      <td>GCA_293797</td>\n      <td>[1316]</td>\n      <td>[1336]</td>\n      <td>0.000556</td>\n      <td>1</td>\n      <td>NaN</td>\n      <td>5055.1770</td>\n      <td>2</td>\n      <td>1195.597900</td>\n      <td>...</td>\n      <td>38639</td>\n      <td>NaN</td>\n      <td>NaN</td>\n      <td>NaN</td>\n      <td>NaN</td>\n      <td>NaN</td>\n      <td>GCA</td>\n      <td>GCA</td>\n      <td>0</td>\n      <td>0</td>\n    </tr>\n    <tr>\n      <th>104477</th>\n      <td>LGELTMTDATPDSLSLSWMVPEGQFDHFLVQYR</td>\n      <td>GCA_285753</td>\n      <td>[2878]</td>\n      <td>[2910]</td>\n      <td>0.000556</td>\n      <td>1</td>\n      <td>['19-UNIMOD:35']</td>\n      <td>5644.5786</td>\n      <td>3</td>\n      <td>1267.610718</td>\n      <td>...</td>\n      <td>43573</td>\n      <td>NaN</td>\n      <td>NaN</td>\n      <td>NaN</td>\n      <td>NaN</td>\n      <td>NaN</td>\n      <td>GCA</td>\n      <td>GCA</td>\n      <td>0</td>\n      <td>0</td>\n    </tr>\n  </tbody>\n</table>\n<p>74952 rows × 28 columns</p>\n</div>"
     },
     "execution_count": 55,
     "metadata": {},
     "output_type": "execute_result"
    }
   ],
   "source": [
    "GCA[(GCA['PeptideAtlas_observations']<10) & (GCA['GPMDB_observations']<10)]"
   ],
   "metadata": {
    "collapsed": false,
    "pycharm": {
     "name": "#%%\n"
    }
   }
  },
  {
   "cell_type": "code",
   "execution_count": 56,
   "outputs": [],
   "source": [
    "GCA[(GCA['PeptideAtlas_observations']<10) & (GCA['GPMDB_observations']<10)].to_csv('GCA_observations_less10.tsv',sep='\\t', index=False)"
   ],
   "metadata": {
    "collapsed": false,
    "pycharm": {
     "name": "#%%\n"
    }
   }
  },
  {
   "cell_type": "code",
   "execution_count": null,
   "outputs": [],
   "source": [],
   "metadata": {
    "collapsed": false,
    "pycharm": {
     "name": "#%%\n"
    }
   }
  }
 ],
 "metadata": {
  "kernelspec": {
   "display_name": "Python 3 (ipykernel)",
   "language": "python",
   "name": "python3"
  },
  "language_info": {
   "codemirror_mode": {
    "name": "ipython",
    "version": 3
   },
   "file_extension": ".py",
   "mimetype": "text/x-python",
   "name": "python",
   "nbconvert_exporter": "python",
   "pygments_lexer": "ipython3",
   "version": "3.10.5"
  }
 },
 "nbformat": 4,
 "nbformat_minor": 4
}