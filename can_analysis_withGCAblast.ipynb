{
 "cells": [
  {
   "cell_type": "code",
   "execution_count": 19,
   "id": "683806bf",
   "metadata": {
    "pycharm": {
     "name": "#%%\n"
    }
   },
   "outputs": [],
   "source": [
    "import pyarrow as pa\n",
    "import pyarrow.parquet as pq\n",
    "import pandas as pd\n",
    "from Bio import SeqIO\n",
    "import seaborn as sns\n",
    "import matplotlib.pyplot as plt\n",
    "import pyarrow.compute as pc\n",
    "import pyarrow.dataset as ds\n",
    "import math\n",
    "import re\n",
    "import ahocorasick\n",
    "import datetime\n",
    "from tqdm import tqdm"
   ]
  },
  {
   "cell_type": "markdown",
   "id": "12808b4c",
   "metadata": {
    "pycharm": {
     "name": "#%% md\n"
    }
   },
   "source": [
    "## Analysis of Canonical Peptides"
   ]
  },
  {
   "cell_type": "code",
   "execution_count": 20,
   "id": "03ccdb24",
   "metadata": {
    "pycharm": {
     "name": "#%%\n"
    }
   },
   "outputs": [],
   "source": [
    "parq_file = \"/home1/wangd/project/PXD010154-pangenome-canonical-0.01.parquet\"\n",
    "table = pq.read_table(parq_file)\n",
    "df = table.to_pandas()"
   ]
  },
  {
   "cell_type": "code",
   "execution_count": 21,
   "outputs": [
    {
     "data": {
      "text/plain": "                                        sequence  \\\n0                    SLQQCQLGLNVLGSGTLVSPLQALTLR   \n1         LPPGVDPAAVTSALSPEGVLSIQAAPASAQAPPPAAAK   \n2                          IGAVLFTVVTPMINPFIYSLR   \n3                VDLLVFNPPYVVTPPQEVGSHGIEAAWAGGR   \n4                       AIQNSLVGEPILQNVLGSVTAVNR   \n...                                          ...   \n15590881       TPEVTCVVVDVSHEDPEVQFNWYVDGVEVHNAK   \n15590882                 FNEEHIPDSPFVVPVASPSGDAR   \n15590883                         ILFIFIDSDHTDNQR   \n15590884                         SIPAYLAETLYYAMK   \n15590885                              LFDQAFGLPR   \n\n                                         protein_accessions  \\\n0         [DECOY_GRCh38_81202, DECOY_GCA_41693, DECOY_GC...   \n1                                 [GRCh38_40238, GCA_63102]   \n2                                              [GCA_179778]   \n3                      [GRCh38_1991, GCA_56504, GCA_143784]   \n4                                              [GCA_271209]   \n...                                                     ...   \n15590881                                       [GCA_249239]   \n15590882                         [GRCh38_20624, GCA_120257]   \n15590883                          [GRCh38_56460, GCA_82927]   \n15590884                          [GRCh38_32181, GCA_15045]   \n15590885                          [GRCh38_40029, GCA_18345]   \n\n         protein_start_positions protein_end_positions  protein_global_qvalue  \\\n0           [241, 241, 241, 241]  [267, 267, 267, 267]               0.093415   \n1                     [123, 123]            [160, 160]               0.000503   \n2                          [273]                 [293]               0.435029   \n3                [116, 116, 116]       [146, 146, 146]               0.000503   \n4                           [42]                  [65]               0.351119   \n...                          ...                   ...                    ...   \n15590881                   [135]                 [167]               0.000503   \n15590882            [2303, 2303]          [2325, 2325]               0.000503   \n15590883              [286, 286]            [300, 300]               0.000503   \n15590884              [246, 246]            [260, 260]               0.000503   \n15590885                [28, 28]              [37, 37]               0.000503   \n\n          unique                modifications  retention_time  charge  \\\n0              0    [5-UNIMOD:4, 10-UNIMOD:7]       4653.9424       3   \n1              0                [23-UNIMOD:7]       5334.6455       3   \n2              1  [12-UNIMOD:35, 14-UNIMOD:7]       4935.0220       3   \n3              0                [16-UNIMOD:7]       5533.2837       3   \n4              1             [14|23-UNIMOD:7]       3774.0400       4   \n...          ...                          ...             ...     ...   \n15590881       1    [6-UNIMOD:4, 21-UNIMOD:7]       5355.9000       4   \n15590882       0                 [2-UNIMOD:7]       4207.4000       3   \n15590883       0                         None       4688.1000       3   \n15590884       0               [14-UNIMOD:35]       6118.2000       2   \n15590885       0                         None       4217.8000       2   \n\n          exp_mass_to_charge  ...  is_decoy  \\\n0                 956.525940  ...         1   \n1                1173.971558  ...         0   \n2                 790.451660  ...         0   \n3                1093.233154  ...         0   \n4                 624.347168  ...         0   \n...                      ...  ...       ...   \n15590881          950.705505  ...         0   \n15590882          823.739562  ...         0   \n15590883          611.978349  ...         0   \n15590884          875.947326  ...         0   \n15590885          582.816589  ...         0   \n\n                                                  id_scores  \\\n0         ['OpenMS:Target-decoy PSM q-value': 0.00405585...   \n1         ['OpenMS:Target-decoy PSM q-value': 0.00017559...   \n2         ['OpenMS:Target-decoy PSM q-value': 0.00978584...   \n3         ['OpenMS:Target-decoy PSM q-value': 0.00982226...   \n4         ['OpenMS:Target-decoy PSM q-value': 0.00648014...   \n...                                                     ...   \n15590881  ['OpenMS:Target-decoy PSM q-value': 3.70502765...   \n15590882  ['OpenMS:Target-decoy PSM q-value': 0.00033439...   \n15590883  ['OpenMS:Target-decoy PSM q-value': 3.14206487...   \n15590884  ['OpenMS:Target-decoy PSM q-value': 4.02448832...   \n15590885  ['OpenMS:Target-decoy PSM q-value': 0.00031202...   \n\n          consensus_support           reference_file_name  scan_number  \\\n0                       NaN  01524_A01_P015424_S00_N01_R1        27796   \n1                       NaN  01524_A01_P015424_S00_N01_R1        34850   \n2                       NaN  01524_A01_P015424_S00_N01_R1        30751   \n3                       NaN  01524_A01_P015424_S00_N01_R1        36751   \n4                       NaN  01524_A01_P015424_S00_N01_R1        18657   \n...                     ...                           ...          ...   \n15590881                NaN  01307_D05_P013386_S00_N36_R1        41181   \n15590882                NaN  01307_D05_P013386_S00_N36_R1        31404   \n15590883                NaN  01307_D05_P013386_S00_N36_R1        35481   \n15590884                NaN  01307_D05_P013386_S00_N36_R1        47417   \n15590885                NaN  01307_D05_P013386_S00_N36_R1        31494   \n\n         mz_array  intensity_array num_peaks gene_accessions gene_names  \n0            None             None       NaN            None       None  \n1            None             None       NaN            None       None  \n2            None             None       NaN            None       None  \n3            None             None       NaN            None       None  \n4            None             None       NaN            None       None  \n...           ...              ...       ...             ...        ...  \n15590881     None             None       NaN            None       None  \n15590882     None             None       NaN            None       None  \n15590883     None             None       NaN            None       None  \n15590884     None             None       NaN            None       None  \n15590885     None             None       NaN            None       None  \n\n[15590886 rows x 24 columns]",
      "text/html": "<div>\n<style scoped>\n    .dataframe tbody tr th:only-of-type {\n        vertical-align: middle;\n    }\n\n    .dataframe tbody tr th {\n        vertical-align: top;\n    }\n\n    .dataframe thead th {\n        text-align: right;\n    }\n</style>\n<table border=\"1\" class=\"dataframe\">\n  <thead>\n    <tr style=\"text-align: right;\">\n      <th></th>\n      <th>sequence</th>\n      <th>protein_accessions</th>\n      <th>protein_start_positions</th>\n      <th>protein_end_positions</th>\n      <th>protein_global_qvalue</th>\n      <th>unique</th>\n      <th>modifications</th>\n      <th>retention_time</th>\n      <th>charge</th>\n      <th>exp_mass_to_charge</th>\n      <th>...</th>\n      <th>is_decoy</th>\n      <th>id_scores</th>\n      <th>consensus_support</th>\n      <th>reference_file_name</th>\n      <th>scan_number</th>\n      <th>mz_array</th>\n      <th>intensity_array</th>\n      <th>num_peaks</th>\n      <th>gene_accessions</th>\n      <th>gene_names</th>\n    </tr>\n  </thead>\n  <tbody>\n    <tr>\n      <th>0</th>\n      <td>SLQQCQLGLNVLGSGTLVSPLQALTLR</td>\n      <td>[DECOY_GRCh38_81202, DECOY_GCA_41693, DECOY_GC...</td>\n      <td>[241, 241, 241, 241]</td>\n      <td>[267, 267, 267, 267]</td>\n      <td>0.093415</td>\n      <td>0</td>\n      <td>[5-UNIMOD:4, 10-UNIMOD:7]</td>\n      <td>4653.9424</td>\n      <td>3</td>\n      <td>956.525940</td>\n      <td>...</td>\n      <td>1</td>\n      <td>['OpenMS:Target-decoy PSM q-value': 0.00405585...</td>\n      <td>NaN</td>\n      <td>01524_A01_P015424_S00_N01_R1</td>\n      <td>27796</td>\n      <td>None</td>\n      <td>None</td>\n      <td>NaN</td>\n      <td>None</td>\n      <td>None</td>\n    </tr>\n    <tr>\n      <th>1</th>\n      <td>LPPGVDPAAVTSALSPEGVLSIQAAPASAQAPPPAAAK</td>\n      <td>[GRCh38_40238, GCA_63102]</td>\n      <td>[123, 123]</td>\n      <td>[160, 160]</td>\n      <td>0.000503</td>\n      <td>0</td>\n      <td>[23-UNIMOD:7]</td>\n      <td>5334.6455</td>\n      <td>3</td>\n      <td>1173.971558</td>\n      <td>...</td>\n      <td>0</td>\n      <td>['OpenMS:Target-decoy PSM q-value': 0.00017559...</td>\n      <td>NaN</td>\n      <td>01524_A01_P015424_S00_N01_R1</td>\n      <td>34850</td>\n      <td>None</td>\n      <td>None</td>\n      <td>NaN</td>\n      <td>None</td>\n      <td>None</td>\n    </tr>\n    <tr>\n      <th>2</th>\n      <td>IGAVLFTVVTPMINPFIYSLR</td>\n      <td>[GCA_179778]</td>\n      <td>[273]</td>\n      <td>[293]</td>\n      <td>0.435029</td>\n      <td>1</td>\n      <td>[12-UNIMOD:35, 14-UNIMOD:7]</td>\n      <td>4935.0220</td>\n      <td>3</td>\n      <td>790.451660</td>\n      <td>...</td>\n      <td>0</td>\n      <td>['OpenMS:Target-decoy PSM q-value': 0.00978584...</td>\n      <td>NaN</td>\n      <td>01524_A01_P015424_S00_N01_R1</td>\n      <td>30751</td>\n      <td>None</td>\n      <td>None</td>\n      <td>NaN</td>\n      <td>None</td>\n      <td>None</td>\n    </tr>\n    <tr>\n      <th>3</th>\n      <td>VDLLVFNPPYVVTPPQEVGSHGIEAAWAGGR</td>\n      <td>[GRCh38_1991, GCA_56504, GCA_143784]</td>\n      <td>[116, 116, 116]</td>\n      <td>[146, 146, 146]</td>\n      <td>0.000503</td>\n      <td>0</td>\n      <td>[16-UNIMOD:7]</td>\n      <td>5533.2837</td>\n      <td>3</td>\n      <td>1093.233154</td>\n      <td>...</td>\n      <td>0</td>\n      <td>['OpenMS:Target-decoy PSM q-value': 0.00982226...</td>\n      <td>NaN</td>\n      <td>01524_A01_P015424_S00_N01_R1</td>\n      <td>36751</td>\n      <td>None</td>\n      <td>None</td>\n      <td>NaN</td>\n      <td>None</td>\n      <td>None</td>\n    </tr>\n    <tr>\n      <th>4</th>\n      <td>AIQNSLVGEPILQNVLGSVTAVNR</td>\n      <td>[GCA_271209]</td>\n      <td>[42]</td>\n      <td>[65]</td>\n      <td>0.351119</td>\n      <td>1</td>\n      <td>[14|23-UNIMOD:7]</td>\n      <td>3774.0400</td>\n      <td>4</td>\n      <td>624.347168</td>\n      <td>...</td>\n      <td>0</td>\n      <td>['OpenMS:Target-decoy PSM q-value': 0.00648014...</td>\n      <td>NaN</td>\n      <td>01524_A01_P015424_S00_N01_R1</td>\n      <td>18657</td>\n      <td>None</td>\n      <td>None</td>\n      <td>NaN</td>\n      <td>None</td>\n      <td>None</td>\n    </tr>\n    <tr>\n      <th>...</th>\n      <td>...</td>\n      <td>...</td>\n      <td>...</td>\n      <td>...</td>\n      <td>...</td>\n      <td>...</td>\n      <td>...</td>\n      <td>...</td>\n      <td>...</td>\n      <td>...</td>\n      <td>...</td>\n      <td>...</td>\n      <td>...</td>\n      <td>...</td>\n      <td>...</td>\n      <td>...</td>\n      <td>...</td>\n      <td>...</td>\n      <td>...</td>\n      <td>...</td>\n      <td>...</td>\n    </tr>\n    <tr>\n      <th>15590881</th>\n      <td>TPEVTCVVVDVSHEDPEVQFNWYVDGVEVHNAK</td>\n      <td>[GCA_249239]</td>\n      <td>[135]</td>\n      <td>[167]</td>\n      <td>0.000503</td>\n      <td>1</td>\n      <td>[6-UNIMOD:4, 21-UNIMOD:7]</td>\n      <td>5355.9000</td>\n      <td>4</td>\n      <td>950.705505</td>\n      <td>...</td>\n      <td>0</td>\n      <td>['OpenMS:Target-decoy PSM q-value': 3.70502765...</td>\n      <td>NaN</td>\n      <td>01307_D05_P013386_S00_N36_R1</td>\n      <td>41181</td>\n      <td>None</td>\n      <td>None</td>\n      <td>NaN</td>\n      <td>None</td>\n      <td>None</td>\n    </tr>\n    <tr>\n      <th>15590882</th>\n      <td>FNEEHIPDSPFVVPVASPSGDAR</td>\n      <td>[GRCh38_20624, GCA_120257]</td>\n      <td>[2303, 2303]</td>\n      <td>[2325, 2325]</td>\n      <td>0.000503</td>\n      <td>0</td>\n      <td>[2-UNIMOD:7]</td>\n      <td>4207.4000</td>\n      <td>3</td>\n      <td>823.739562</td>\n      <td>...</td>\n      <td>0</td>\n      <td>['OpenMS:Target-decoy PSM q-value': 0.00033439...</td>\n      <td>NaN</td>\n      <td>01307_D05_P013386_S00_N36_R1</td>\n      <td>31404</td>\n      <td>None</td>\n      <td>None</td>\n      <td>NaN</td>\n      <td>None</td>\n      <td>None</td>\n    </tr>\n    <tr>\n      <th>15590883</th>\n      <td>ILFIFIDSDHTDNQR</td>\n      <td>[GRCh38_56460, GCA_82927]</td>\n      <td>[286, 286]</td>\n      <td>[300, 300]</td>\n      <td>0.000503</td>\n      <td>0</td>\n      <td>None</td>\n      <td>4688.1000</td>\n      <td>3</td>\n      <td>611.978349</td>\n      <td>...</td>\n      <td>0</td>\n      <td>['OpenMS:Target-decoy PSM q-value': 3.14206487...</td>\n      <td>NaN</td>\n      <td>01307_D05_P013386_S00_N36_R1</td>\n      <td>35481</td>\n      <td>None</td>\n      <td>None</td>\n      <td>NaN</td>\n      <td>None</td>\n      <td>None</td>\n    </tr>\n    <tr>\n      <th>15590884</th>\n      <td>SIPAYLAETLYYAMK</td>\n      <td>[GRCh38_32181, GCA_15045]</td>\n      <td>[246, 246]</td>\n      <td>[260, 260]</td>\n      <td>0.000503</td>\n      <td>0</td>\n      <td>[14-UNIMOD:35]</td>\n      <td>6118.2000</td>\n      <td>2</td>\n      <td>875.947326</td>\n      <td>...</td>\n      <td>0</td>\n      <td>['OpenMS:Target-decoy PSM q-value': 4.02448832...</td>\n      <td>NaN</td>\n      <td>01307_D05_P013386_S00_N36_R1</td>\n      <td>47417</td>\n      <td>None</td>\n      <td>None</td>\n      <td>NaN</td>\n      <td>None</td>\n      <td>None</td>\n    </tr>\n    <tr>\n      <th>15590885</th>\n      <td>LFDQAFGLPR</td>\n      <td>[GRCh38_40029, GCA_18345]</td>\n      <td>[28, 28]</td>\n      <td>[37, 37]</td>\n      <td>0.000503</td>\n      <td>0</td>\n      <td>None</td>\n      <td>4217.8000</td>\n      <td>2</td>\n      <td>582.816589</td>\n      <td>...</td>\n      <td>0</td>\n      <td>['OpenMS:Target-decoy PSM q-value': 0.00031202...</td>\n      <td>NaN</td>\n      <td>01307_D05_P013386_S00_N36_R1</td>\n      <td>31494</td>\n      <td>None</td>\n      <td>None</td>\n      <td>NaN</td>\n      <td>None</td>\n      <td>None</td>\n    </tr>\n  </tbody>\n</table>\n<p>15590886 rows × 24 columns</p>\n</div>"
     },
     "execution_count": 21,
     "metadata": {},
     "output_type": "execute_result"
    }
   ],
   "source": [
    "df"
   ],
   "metadata": {
    "collapsed": false,
    "pycharm": {
     "name": "#%%\n"
    }
   }
  },
  {
   "cell_type": "code",
   "execution_count": 22,
   "id": "c279e077-ba31-4b18-b674-97aff612d304",
   "metadata": {
    "pycharm": {
     "name": "#%%\n"
    }
   },
   "outputs": [],
   "source": [
    "#shorten accessions to save memory\n",
    "def get_source(accessions):\n",
    "    accessions = accessions.split(',')\n",
    "\n",
    "    for acc in accessions:\n",
    "        if acc.startswith('DECOY_CONTAMINANT'):\n",
    "            return 'DECOY_CONTAMINANT'\n",
    "    for acc in accessions:\n",
    "        if acc.startswith('CONTAMINANT'):\n",
    "            return 'CONTAMINANT'\n",
    "    \n",
    "    for acc in accessions:\n",
    "        if acc.startswith('DECOY_GRCh38'):\n",
    "            return 'DECOY_GRCh38'\n",
    "    \n",
    "    for acc in accessions:\n",
    "        if acc.startswith('DECOY_GCA'):\n",
    "            return 'DECOY_GCA'\n",
    "\n",
    "    for acc in accessions:\n",
    "        if acc.startswith('GRCh38'):\n",
    "            return 'GRCh38'\n",
    "    \n",
    "    for acc in accessions:\n",
    "        if acc.startswith('GCA'):\n",
    "            return 'GCA'\n",
    "    \n",
    "    return accessions"
   ]
  },
  {
   "cell_type": "code",
   "execution_count": 23,
   "id": "c8839a2a",
   "metadata": {
    "pycharm": {
     "name": "#%%\n"
    }
   },
   "outputs": [
    {
     "name": "stdout",
     "output_type": "stream",
     "text": [
      "Number of PSMs in the file =  15590886\n"
     ]
    }
   ],
   "source": [
    "print('Number of PSMs in the file = ', len(df))"
   ]
  },
  {
   "cell_type": "code",
   "execution_count": 24,
   "id": "0cc0923d-e240-4cd0-9a88-c76c71f331bc",
   "metadata": {
    "pycharm": {
     "name": "#%%\n"
    }
   },
   "outputs": [],
   "source": [
    "#Convert array values in the accession to list\n",
    "def join_vals(x):\n",
    "    return ','.join(x.astype(str).tolist())"
   ]
  },
  {
   "cell_type": "code",
   "execution_count": 25,
   "id": "3bc7770f-cbe2-4e4f-af67-fb89cd440ef4",
   "metadata": {
    "pycharm": {
     "name": "#%%\n"
    }
   },
   "outputs": [],
   "source": [
    "df['protein_accessions'] = df['protein_accessions'].apply(join_vals)"
   ]
  },
  {
   "cell_type": "code",
   "execution_count": 26,
   "outputs": [
    {
     "data": {
      "text/plain": "                                        sequence  \\\n0                    SLQQCQLGLNVLGSGTLVSPLQALTLR   \n1         LPPGVDPAAVTSALSPEGVLSIQAAPASAQAPPPAAAK   \n2                          IGAVLFTVVTPMINPFIYSLR   \n3                VDLLVFNPPYVVTPPQEVGSHGIEAAWAGGR   \n4                       AIQNSLVGEPILQNVLGSVTAVNR   \n...                                          ...   \n15590881       TPEVTCVVVDVSHEDPEVQFNWYVDGVEVHNAK   \n15590882                 FNEEHIPDSPFVVPVASPSGDAR   \n15590883                         ILFIFIDSDHTDNQR   \n15590884                         SIPAYLAETLYYAMK   \n15590885                              LFDQAFGLPR   \n\n                                         protein_accessions  \\\n0         DECOY_GRCh38_81202,DECOY_GCA_41693,DECOY_GCA_9...   \n1                                    GRCh38_40238,GCA_63102   \n2                                                GCA_179778   \n3                          GRCh38_1991,GCA_56504,GCA_143784   \n4                                                GCA_271209   \n...                                                     ...   \n15590881                                         GCA_249239   \n15590882                            GRCh38_20624,GCA_120257   \n15590883                             GRCh38_56460,GCA_82927   \n15590884                             GRCh38_32181,GCA_15045   \n15590885                             GRCh38_40029,GCA_18345   \n\n         protein_start_positions protein_end_positions  protein_global_qvalue  \\\n0           [241, 241, 241, 241]  [267, 267, 267, 267]               0.093415   \n1                     [123, 123]            [160, 160]               0.000503   \n2                          [273]                 [293]               0.435029   \n3                [116, 116, 116]       [146, 146, 146]               0.000503   \n4                           [42]                  [65]               0.351119   \n...                          ...                   ...                    ...   \n15590881                   [135]                 [167]               0.000503   \n15590882            [2303, 2303]          [2325, 2325]               0.000503   \n15590883              [286, 286]            [300, 300]               0.000503   \n15590884              [246, 246]            [260, 260]               0.000503   \n15590885                [28, 28]              [37, 37]               0.000503   \n\n          unique                modifications  retention_time  charge  \\\n0              0    [5-UNIMOD:4, 10-UNIMOD:7]       4653.9424       3   \n1              0                [23-UNIMOD:7]       5334.6455       3   \n2              1  [12-UNIMOD:35, 14-UNIMOD:7]       4935.0220       3   \n3              0                [16-UNIMOD:7]       5533.2837       3   \n4              1             [14|23-UNIMOD:7]       3774.0400       4   \n...          ...                          ...             ...     ...   \n15590881       1    [6-UNIMOD:4, 21-UNIMOD:7]       5355.9000       4   \n15590882       0                 [2-UNIMOD:7]       4207.4000       3   \n15590883       0                         None       4688.1000       3   \n15590884       0               [14-UNIMOD:35]       6118.2000       2   \n15590885       0                         None       4217.8000       2   \n\n          exp_mass_to_charge  ...  is_decoy  \\\n0                 956.525940  ...         1   \n1                1173.971558  ...         0   \n2                 790.451660  ...         0   \n3                1093.233154  ...         0   \n4                 624.347168  ...         0   \n...                      ...  ...       ...   \n15590881          950.705505  ...         0   \n15590882          823.739562  ...         0   \n15590883          611.978349  ...         0   \n15590884          875.947326  ...         0   \n15590885          582.816589  ...         0   \n\n                                                  id_scores  \\\n0         ['OpenMS:Target-decoy PSM q-value': 0.00405585...   \n1         ['OpenMS:Target-decoy PSM q-value': 0.00017559...   \n2         ['OpenMS:Target-decoy PSM q-value': 0.00978584...   \n3         ['OpenMS:Target-decoy PSM q-value': 0.00982226...   \n4         ['OpenMS:Target-decoy PSM q-value': 0.00648014...   \n...                                                     ...   \n15590881  ['OpenMS:Target-decoy PSM q-value': 3.70502765...   \n15590882  ['OpenMS:Target-decoy PSM q-value': 0.00033439...   \n15590883  ['OpenMS:Target-decoy PSM q-value': 3.14206487...   \n15590884  ['OpenMS:Target-decoy PSM q-value': 4.02448832...   \n15590885  ['OpenMS:Target-decoy PSM q-value': 0.00031202...   \n\n          consensus_support           reference_file_name  scan_number  \\\n0                       NaN  01524_A01_P015424_S00_N01_R1        27796   \n1                       NaN  01524_A01_P015424_S00_N01_R1        34850   \n2                       NaN  01524_A01_P015424_S00_N01_R1        30751   \n3                       NaN  01524_A01_P015424_S00_N01_R1        36751   \n4                       NaN  01524_A01_P015424_S00_N01_R1        18657   \n...                     ...                           ...          ...   \n15590881                NaN  01307_D05_P013386_S00_N36_R1        41181   \n15590882                NaN  01307_D05_P013386_S00_N36_R1        31404   \n15590883                NaN  01307_D05_P013386_S00_N36_R1        35481   \n15590884                NaN  01307_D05_P013386_S00_N36_R1        47417   \n15590885                NaN  01307_D05_P013386_S00_N36_R1        31494   \n\n         mz_array  intensity_array num_peaks gene_accessions gene_names  \n0            None             None       NaN            None       None  \n1            None             None       NaN            None       None  \n2            None             None       NaN            None       None  \n3            None             None       NaN            None       None  \n4            None             None       NaN            None       None  \n...           ...              ...       ...             ...        ...  \n15590881     None             None       NaN            None       None  \n15590882     None             None       NaN            None       None  \n15590883     None             None       NaN            None       None  \n15590884     None             None       NaN            None       None  \n15590885     None             None       NaN            None       None  \n\n[15590886 rows x 24 columns]",
      "text/html": "<div>\n<style scoped>\n    .dataframe tbody tr th:only-of-type {\n        vertical-align: middle;\n    }\n\n    .dataframe tbody tr th {\n        vertical-align: top;\n    }\n\n    .dataframe thead th {\n        text-align: right;\n    }\n</style>\n<table border=\"1\" class=\"dataframe\">\n  <thead>\n    <tr style=\"text-align: right;\">\n      <th></th>\n      <th>sequence</th>\n      <th>protein_accessions</th>\n      <th>protein_start_positions</th>\n      <th>protein_end_positions</th>\n      <th>protein_global_qvalue</th>\n      <th>unique</th>\n      <th>modifications</th>\n      <th>retention_time</th>\n      <th>charge</th>\n      <th>exp_mass_to_charge</th>\n      <th>...</th>\n      <th>is_decoy</th>\n      <th>id_scores</th>\n      <th>consensus_support</th>\n      <th>reference_file_name</th>\n      <th>scan_number</th>\n      <th>mz_array</th>\n      <th>intensity_array</th>\n      <th>num_peaks</th>\n      <th>gene_accessions</th>\n      <th>gene_names</th>\n    </tr>\n  </thead>\n  <tbody>\n    <tr>\n      <th>0</th>\n      <td>SLQQCQLGLNVLGSGTLVSPLQALTLR</td>\n      <td>DECOY_GRCh38_81202,DECOY_GCA_41693,DECOY_GCA_9...</td>\n      <td>[241, 241, 241, 241]</td>\n      <td>[267, 267, 267, 267]</td>\n      <td>0.093415</td>\n      <td>0</td>\n      <td>[5-UNIMOD:4, 10-UNIMOD:7]</td>\n      <td>4653.9424</td>\n      <td>3</td>\n      <td>956.525940</td>\n      <td>...</td>\n      <td>1</td>\n      <td>['OpenMS:Target-decoy PSM q-value': 0.00405585...</td>\n      <td>NaN</td>\n      <td>01524_A01_P015424_S00_N01_R1</td>\n      <td>27796</td>\n      <td>None</td>\n      <td>None</td>\n      <td>NaN</td>\n      <td>None</td>\n      <td>None</td>\n    </tr>\n    <tr>\n      <th>1</th>\n      <td>LPPGVDPAAVTSALSPEGVLSIQAAPASAQAPPPAAAK</td>\n      <td>GRCh38_40238,GCA_63102</td>\n      <td>[123, 123]</td>\n      <td>[160, 160]</td>\n      <td>0.000503</td>\n      <td>0</td>\n      <td>[23-UNIMOD:7]</td>\n      <td>5334.6455</td>\n      <td>3</td>\n      <td>1173.971558</td>\n      <td>...</td>\n      <td>0</td>\n      <td>['OpenMS:Target-decoy PSM q-value': 0.00017559...</td>\n      <td>NaN</td>\n      <td>01524_A01_P015424_S00_N01_R1</td>\n      <td>34850</td>\n      <td>None</td>\n      <td>None</td>\n      <td>NaN</td>\n      <td>None</td>\n      <td>None</td>\n    </tr>\n    <tr>\n      <th>2</th>\n      <td>IGAVLFTVVTPMINPFIYSLR</td>\n      <td>GCA_179778</td>\n      <td>[273]</td>\n      <td>[293]</td>\n      <td>0.435029</td>\n      <td>1</td>\n      <td>[12-UNIMOD:35, 14-UNIMOD:7]</td>\n      <td>4935.0220</td>\n      <td>3</td>\n      <td>790.451660</td>\n      <td>...</td>\n      <td>0</td>\n      <td>['OpenMS:Target-decoy PSM q-value': 0.00978584...</td>\n      <td>NaN</td>\n      <td>01524_A01_P015424_S00_N01_R1</td>\n      <td>30751</td>\n      <td>None</td>\n      <td>None</td>\n      <td>NaN</td>\n      <td>None</td>\n      <td>None</td>\n    </tr>\n    <tr>\n      <th>3</th>\n      <td>VDLLVFNPPYVVTPPQEVGSHGIEAAWAGGR</td>\n      <td>GRCh38_1991,GCA_56504,GCA_143784</td>\n      <td>[116, 116, 116]</td>\n      <td>[146, 146, 146]</td>\n      <td>0.000503</td>\n      <td>0</td>\n      <td>[16-UNIMOD:7]</td>\n      <td>5533.2837</td>\n      <td>3</td>\n      <td>1093.233154</td>\n      <td>...</td>\n      <td>0</td>\n      <td>['OpenMS:Target-decoy PSM q-value': 0.00982226...</td>\n      <td>NaN</td>\n      <td>01524_A01_P015424_S00_N01_R1</td>\n      <td>36751</td>\n      <td>None</td>\n      <td>None</td>\n      <td>NaN</td>\n      <td>None</td>\n      <td>None</td>\n    </tr>\n    <tr>\n      <th>4</th>\n      <td>AIQNSLVGEPILQNVLGSVTAVNR</td>\n      <td>GCA_271209</td>\n      <td>[42]</td>\n      <td>[65]</td>\n      <td>0.351119</td>\n      <td>1</td>\n      <td>[14|23-UNIMOD:7]</td>\n      <td>3774.0400</td>\n      <td>4</td>\n      <td>624.347168</td>\n      <td>...</td>\n      <td>0</td>\n      <td>['OpenMS:Target-decoy PSM q-value': 0.00648014...</td>\n      <td>NaN</td>\n      <td>01524_A01_P015424_S00_N01_R1</td>\n      <td>18657</td>\n      <td>None</td>\n      <td>None</td>\n      <td>NaN</td>\n      <td>None</td>\n      <td>None</td>\n    </tr>\n    <tr>\n      <th>...</th>\n      <td>...</td>\n      <td>...</td>\n      <td>...</td>\n      <td>...</td>\n      <td>...</td>\n      <td>...</td>\n      <td>...</td>\n      <td>...</td>\n      <td>...</td>\n      <td>...</td>\n      <td>...</td>\n      <td>...</td>\n      <td>...</td>\n      <td>...</td>\n      <td>...</td>\n      <td>...</td>\n      <td>...</td>\n      <td>...</td>\n      <td>...</td>\n      <td>...</td>\n      <td>...</td>\n    </tr>\n    <tr>\n      <th>15590881</th>\n      <td>TPEVTCVVVDVSHEDPEVQFNWYVDGVEVHNAK</td>\n      <td>GCA_249239</td>\n      <td>[135]</td>\n      <td>[167]</td>\n      <td>0.000503</td>\n      <td>1</td>\n      <td>[6-UNIMOD:4, 21-UNIMOD:7]</td>\n      <td>5355.9000</td>\n      <td>4</td>\n      <td>950.705505</td>\n      <td>...</td>\n      <td>0</td>\n      <td>['OpenMS:Target-decoy PSM q-value': 3.70502765...</td>\n      <td>NaN</td>\n      <td>01307_D05_P013386_S00_N36_R1</td>\n      <td>41181</td>\n      <td>None</td>\n      <td>None</td>\n      <td>NaN</td>\n      <td>None</td>\n      <td>None</td>\n    </tr>\n    <tr>\n      <th>15590882</th>\n      <td>FNEEHIPDSPFVVPVASPSGDAR</td>\n      <td>GRCh38_20624,GCA_120257</td>\n      <td>[2303, 2303]</td>\n      <td>[2325, 2325]</td>\n      <td>0.000503</td>\n      <td>0</td>\n      <td>[2-UNIMOD:7]</td>\n      <td>4207.4000</td>\n      <td>3</td>\n      <td>823.739562</td>\n      <td>...</td>\n      <td>0</td>\n      <td>['OpenMS:Target-decoy PSM q-value': 0.00033439...</td>\n      <td>NaN</td>\n      <td>01307_D05_P013386_S00_N36_R1</td>\n      <td>31404</td>\n      <td>None</td>\n      <td>None</td>\n      <td>NaN</td>\n      <td>None</td>\n      <td>None</td>\n    </tr>\n    <tr>\n      <th>15590883</th>\n      <td>ILFIFIDSDHTDNQR</td>\n      <td>GRCh38_56460,GCA_82927</td>\n      <td>[286, 286]</td>\n      <td>[300, 300]</td>\n      <td>0.000503</td>\n      <td>0</td>\n      <td>None</td>\n      <td>4688.1000</td>\n      <td>3</td>\n      <td>611.978349</td>\n      <td>...</td>\n      <td>0</td>\n      <td>['OpenMS:Target-decoy PSM q-value': 3.14206487...</td>\n      <td>NaN</td>\n      <td>01307_D05_P013386_S00_N36_R1</td>\n      <td>35481</td>\n      <td>None</td>\n      <td>None</td>\n      <td>NaN</td>\n      <td>None</td>\n      <td>None</td>\n    </tr>\n    <tr>\n      <th>15590884</th>\n      <td>SIPAYLAETLYYAMK</td>\n      <td>GRCh38_32181,GCA_15045</td>\n      <td>[246, 246]</td>\n      <td>[260, 260]</td>\n      <td>0.000503</td>\n      <td>0</td>\n      <td>[14-UNIMOD:35]</td>\n      <td>6118.2000</td>\n      <td>2</td>\n      <td>875.947326</td>\n      <td>...</td>\n      <td>0</td>\n      <td>['OpenMS:Target-decoy PSM q-value': 4.02448832...</td>\n      <td>NaN</td>\n      <td>01307_D05_P013386_S00_N36_R1</td>\n      <td>47417</td>\n      <td>None</td>\n      <td>None</td>\n      <td>NaN</td>\n      <td>None</td>\n      <td>None</td>\n    </tr>\n    <tr>\n      <th>15590885</th>\n      <td>LFDQAFGLPR</td>\n      <td>GRCh38_40029,GCA_18345</td>\n      <td>[28, 28]</td>\n      <td>[37, 37]</td>\n      <td>0.000503</td>\n      <td>0</td>\n      <td>None</td>\n      <td>4217.8000</td>\n      <td>2</td>\n      <td>582.816589</td>\n      <td>...</td>\n      <td>0</td>\n      <td>['OpenMS:Target-decoy PSM q-value': 0.00031202...</td>\n      <td>NaN</td>\n      <td>01307_D05_P013386_S00_N36_R1</td>\n      <td>31494</td>\n      <td>None</td>\n      <td>None</td>\n      <td>NaN</td>\n      <td>None</td>\n      <td>None</td>\n    </tr>\n  </tbody>\n</table>\n<p>15590886 rows × 24 columns</p>\n</div>"
     },
     "execution_count": 26,
     "metadata": {},
     "output_type": "execute_result"
    }
   ],
   "source": [
    "df"
   ],
   "metadata": {
    "collapsed": false,
    "pycharm": {
     "name": "#%%\n"
    }
   }
  },
  {
   "cell_type": "code",
   "execution_count": 27,
   "id": "0b74cb04-e0a7-41cd-ae01-b49df3695f96",
   "metadata": {
    "pycharm": {
     "name": "#%%\n"
    }
   },
   "outputs": [],
   "source": [
    "df['prot_source'] = df['protein_accessions'].apply(get_source)"
   ]
  },
  {
   "cell_type": "code",
   "execution_count": 28,
   "id": "023a7676-8298-4611-b252-0b6ce79451d7",
   "metadata": {
    "pycharm": {
     "name": "#%%\n"
    }
   },
   "outputs": [
    {
     "data": {
      "text/plain": "prot_source\nGRCh38               10378371\nGCA                   4486553\nCONTAMINANT            571594\nDECOY_GCA               99782\nDECOY_GRCh38            53403\nDECOY_CONTAMINANT        1183\nName: count, dtype: int64"
     },
     "execution_count": 28,
     "metadata": {},
     "output_type": "execute_result"
    }
   ],
   "source": [
    "df['prot_source'].value_counts()"
   ]
  },
  {
   "cell_type": "markdown",
   "source": [
    "#### blast GCA with canonical"
   ],
   "metadata": {
    "collapsed": false,
    "pycharm": {
     "name": "#%% md\n"
    }
   }
  },
  {
   "cell_type": "code",
   "execution_count": 29,
   "outputs": [],
   "source": [
    "fa_set = set()\n",
    "for j in SeqIO.parse(\"/home1/wangd/project/can_db/Homo_sapiens.GRCh38.pep.all.fa\", \"fasta\"):\n",
    "    fa_set.add(str(j.seq))\n",
    "for j in SeqIO.parse(\"/home1/wangd/project/can_db/uniprotkb_Homo_sapiens_AND_model_organi_2023_11_02.fasta\", \"fasta\"):\n",
    "    fa_set.add(str(j.seq))"
   ],
   "metadata": {
    "collapsed": false,
    "pycharm": {
     "name": "#%%\n"
    }
   }
  },
  {
   "cell_type": "code",
   "execution_count": 30,
   "outputs": [],
   "source": [
    "def blast_with_caonical_fasta(peptide):\n",
    "    for fasta in fa_set:\n",
    "        if peptide in fasta:\n",
    "            return \"GRCh38\"\n",
    "    return \"GCA\""
   ],
   "metadata": {
    "collapsed": false,
    "pycharm": {
     "name": "#%%\n"
    }
   }
  },
  {
   "cell_type": "code",
   "execution_count": 31,
   "outputs": [
    {
     "name": "stdout",
     "output_type": "stream",
     "text": [
      "2023-11-04 21:23:53.016981\n"
     ]
    },
    {
     "name": "stderr",
     "output_type": "stream",
     "text": [
      "100%|██████████| 496855/496855 [4:03:52<00:00, 33.96it/s]  \n",
      "pandas bar: 100%|██████████| 4486553/4486553 [00:02<00:00, 1589196.42it/s]\n"
     ]
    },
    {
     "name": "stdout",
     "output_type": "stream",
     "text": [
      "End time : 2023-11-05 01:27:56.422705\n",
      "Time consumption : 4:04:03.405724\n"
     ]
    },
    {
     "name": "stderr",
     "output_type": "stream",
     "text": [
      "/tmp/ipykernel_2837570/2264385784.py:10: SettingWithCopyWarning: \n",
      "A value is trying to be set on a copy of a slice from a DataFrame.\n",
      "Try using .loc[row_indexer,col_indexer] = value instead\n",
      "\n",
      "See the caveats in the documentation: https://pandas.pydata.org/pandas-docs/stable/user_guide/indexing.html#returning-a-view-versus-a-copy\n",
      "  df[df['prot_source']==\"GCA\"]['prot_source'] = df[df['prot_source']==\"GCA\"]['sequence'].progress_apply(lambda x: seq_dict.get(x))\n"
     ]
    }
   ],
   "source": [
    "start_time = datetime.datetime.now()\n",
    "print(start_time)\n",
    "\n",
    "seq_set = set(df[\"sequence\"].to_list())\n",
    "seq_dict = dict()\n",
    "for i in tqdm(seq_set):\n",
    "    seq_dict[i] = blast_with_caonical_fasta(i)\n",
    "\n",
    "tqdm.pandas(desc='pandas bar')\n",
    "df[df['prot_source']==\"GCA\"]['prot_source'] = df[df['prot_source']==\"GCA\"]['sequence'].progress_apply(lambda x: seq_dict.get(x))\n",
    "\n",
    "end_time = datetime.datetime.now()\n",
    "print(\"End time :\", end_time)\n",
    "set_time_taken = end_time - start_time\n",
    "print(\"Time consumption :\", set_time_taken)"
   ],
   "metadata": {
    "collapsed": false,
    "pycharm": {
     "name": "#%%\n"
    }
   }
  },
  {
   "cell_type": "code",
   "execution_count": 38,
   "outputs": [
    {
     "data": {
      "text/plain": "prot_source\nGRCh38               10378371\nGCA                   4486553\nCONTAMINANT            571594\nDECOY_GCA               99782\nDECOY_GRCh38            53403\nDECOY_CONTAMINANT        1183\nName: count, dtype: int64"
     },
     "execution_count": 38,
     "metadata": {},
     "output_type": "execute_result"
    }
   ],
   "source": [
    "df['prot_source'].value_counts()"
   ],
   "metadata": {
    "collapsed": false,
    "pycharm": {
     "name": "#%%\n"
    }
   }
  },
  {
   "cell_type": "code",
   "execution_count": 39,
   "outputs": [],
   "source": [
    "df['prot_source'] = df.apply(lambda x: seq_dict.get(x['sequence']) if x['prot_source'] == 'GCA' else x['prot_source'], axis=1)"
   ],
   "metadata": {
    "collapsed": false,
    "pycharm": {
     "name": "#%%\n"
    }
   }
  },
  {
   "cell_type": "code",
   "execution_count": 40,
   "outputs": [
    {
     "data": {
      "text/plain": "prot_source\nGRCh38               14763055\nCONTAMINANT            571594\nGCA                    101869\nDECOY_GCA               99782\nDECOY_GRCh38            53403\nDECOY_CONTAMINANT        1183\nName: count, dtype: int64"
     },
     "execution_count": 40,
     "metadata": {},
     "output_type": "execute_result"
    }
   ],
   "source": [
    "df['prot_source'].value_counts()"
   ],
   "metadata": {
    "collapsed": false,
    "pycharm": {
     "name": "#%%\n"
    }
   }
  },
  {
   "cell_type": "code",
   "execution_count": 70,
   "id": "2a143556-e62f-49e1-a1e6-26b60b96d9c2",
   "metadata": {
    "pycharm": {
     "name": "#%%\n"
    }
   },
   "outputs": [
    {
     "data": {
      "text/plain": "<matplotlib.legend.Legend at 0x7faaa38ca5f0>"
     },
     "execution_count": 70,
     "metadata": {},
     "output_type": "execute_result"
    }
   ],
   "source": [
    "df2 = df[df['posterior_error_probability']<0.01]\n",
    "\n",
    "gca = df2.loc[df2.prot_source.str.startswith(\"GCA\")==True]\n",
    "grch = df2.loc[df2.prot_source.str.startswith(\"GRCh38\")==True]\n",
    "decoy_grch = df2.loc[df2.prot_source.str.startswith(\"DECOY_GRCh38\")==True]\n",
    "decoy_gca = df2.loc[df2.prot_source.str.startswith(\"DECOY_GCA\")==True]\n",
    "\n",
    "#sns.df['posterior_error_probability']\n",
    "\n",
    "plt.figure(figsize=(20, 10))\n",
    "sns.distplot(gca['posterior_error_probability'], \n",
    "             hist=True, kde=True, label='GCA', color='blue')\n",
    "sns.distplot(grch['posterior_error_probability'], \n",
    "             hist=True, kde=True, label='GRCh38', color='green')\n",
    "sns.distplot(decoy_gca['posterior_error_probability'], \n",
    "             hist=True, kde=True, label='DECOY_GCA', color='red')\n",
    "sns.distplot(decoy_grch['posterior_error_probability'], \n",
    "             hist=True, kde=True, label='DECOY_GRCh38', color='yellow')\n",
    "\n",
    "plt.legend()"
   ]
  },
  {
   "cell_type": "code",
   "execution_count": 42,
   "id": "10b0c4f2-05d5-4d7a-8616-a58ea17e1231",
   "metadata": {
    "pycharm": {
     "name": "#%%\n"
    }
   },
   "outputs": [
    {
     "data": {
      "text/plain": "([0, 1, 2, 3, 4, 5],\n [Text(0, 0, 'GRCh38'),\n  Text(1, 0, 'CONTAMINANT'),\n  Text(2, 0, 'GCA'),\n  Text(3, 0, 'DECOY_GRCh38'),\n  Text(4, 0, 'DECOY_GCA'),\n  Text(5, 0, 'DECOY_CONTAMINANT')])"
     },
     "execution_count": 42,
     "metadata": {},
     "output_type": "execute_result"
    },
    {
     "data": {
      "text/plain": "<Figure size 2000x1000 with 1 Axes>",
      "image/png": "[encoded data removed]"
     },
     "metadata": {},
     "output_type": "display_data"
    }
   ],
   "source": [
    "plt.figure(figsize=(20, 10))\n",
    "\n",
    "sns.boxplot(\n",
    "    df2, x=\"prot_source\", y=\"posterior_error_probability\", hue=\"prot_source\",\n",
    "    whis=[0, 100], width=.6, palette=\"vlag\"\n",
    ")\n",
    "plt.xticks(rotation=90) "
   ]
  },
  {
   "cell_type": "code",
   "execution_count": 43,
   "id": "7660f38c-e9bb-4c64-adf9-0659ed5b06f6",
   "metadata": {
    "pycharm": {
     "name": "#%%\n"
    }
   },
   "outputs": [
    {
     "data": {
      "text/plain": "prot_source\nGRCh38               12528591\nCONTAMINANT            483633\nGCA                     66465\nDECOY_GCA                2125\nDECOY_GRCh38             1089\nDECOY_CONTAMINANT          47\nName: count, dtype: int64"
     },
     "execution_count": 43,
     "metadata": {},
     "output_type": "execute_result"
    }
   ],
   "source": [
    "df[df['posterior_error_probability']<0.01]['prot_source'].value_counts()"
   ]
  },
  {
   "cell_type": "code",
   "execution_count": 44,
   "id": "b151b59d-9049-4071-b2cc-a30f6e2c4c41",
   "metadata": {
    "pycharm": {
     "name": "#%%\n"
    }
   },
   "outputs": [
    {
     "name": "stdout",
     "output_type": "stream",
     "text": [
      "Number of unique peptide sequences from\n",
      " GCA: 4712\n",
      " canonical: 317430\n",
      "union 322142\n",
      "intesect 0\n"
     ]
    }
   ],
   "source": [
    "print('Number of unique peptide sequences from\\n GCA: {}\\n canonical: {}'.format(len(gca.sequence.unique()), len(grch.sequence.unique())))\n",
    "print('union', len(set(grch.sequence).union(set(gca.sequence))))\n",
    "print('intesect', len(set(grch.sequence).intersection(set(gca.sequence))))"
   ]
  },
  {
   "cell_type": "code",
   "execution_count": 45,
   "id": "d5151650-0110-4ad4-ac4d-1becbb3e4cd8",
   "metadata": {
    "pycharm": {
     "name": "#%%\n"
    }
   },
   "outputs": [],
   "source": [
    "def rep(x):\n",
    "    return re.sub('{[^}]*}', '', x.replace('(','{').replace(')', '}').replace('.',''))"
   ]
  },
  {
   "cell_type": "code",
   "execution_count": 46,
   "id": "6602bbbf-4763-458a-b4ff-6da86e162b9b",
   "metadata": {
    "pycharm": {
     "name": "#%%\n"
    }
   },
   "outputs": [],
   "source": [
    "gca_seqs = list(set([rep(x) for x in gca['sequence'].tolist()]))"
   ]
  },
  {
   "cell_type": "code",
   "execution_count": 47,
   "id": "8319ee33-589a-4021-955c-4c3f640bc891",
   "metadata": {
    "pycharm": {
     "name": "#%%\n"
    }
   },
   "outputs": [
    {
     "data": {
      "text/plain": "4712"
     },
     "execution_count": 47,
     "metadata": {},
     "output_type": "execute_result"
    }
   ],
   "source": [
    "len(gca_seqs)"
   ]
  },
  {
   "cell_type": "code",
   "execution_count": 48,
   "id": "251da9fe-c4d2-4169-bd87-39dc02567025",
   "metadata": {
    "pycharm": {
     "name": "#%%\n"
    }
   },
   "outputs": [
    {
     "name": "stdout",
     "output_type": "stream",
     "text": [
      "95816\n"
     ]
    }
   ],
   "source": [
    "#get all canonical sequences from fasta\n",
    "canonical_proteins_fasta = '/home1/wangd/project/can_db/Homo_sapiens.GRCh38.pep.all.fa'\n",
    "allcan_seqs = []\n",
    "parsed_file = SeqIO.parse(canonical_proteins_fasta,\"fasta\")\n",
    "for record in parsed_file:\n",
    "    allcan_seqs.append(str(record.seq))\n",
    "allcan_seqs = list(set(allcan_seqs))\n",
    "print(len(allcan_seqs))"
   ]
  },
  {
   "cell_type": "code",
   "execution_count": 49,
   "id": "bf741694-4994-4e97-8293-0e400948cd35",
   "metadata": {
    "pycharm": {
     "name": "#%%\n"
    }
   },
   "outputs": [],
   "source": [
    "#get non-canonical peptides that are found in canonical proteins\n",
    "gca_found_peps = []\n",
    "auto = ahocorasick.Automaton()\n",
    "for gca_seq in gca_seqs:\n",
    "    auto.add_word(gca_seq, gca_seq)\n",
    "auto.make_automaton()\n",
    "for canseq in allcan_seqs:\n",
    "    for end_ind, found in auto.iter(canseq):\n",
    "        gca_found_peps.append(found)"
   ]
  },
  {
   "cell_type": "code",
   "execution_count": 50,
   "id": "be0911dd-d205-4c2a-85be-94c4f25ea9fd",
   "metadata": {
    "pycharm": {
     "name": "#%%\n"
    }
   },
   "outputs": [
    {
     "name": "stdout",
     "output_type": "stream",
     "text": [
      "0\n"
     ]
    }
   ],
   "source": [
    "print(len(set(gca_found_peps)))"
   ]
  },
  {
   "cell_type": "code",
   "execution_count": 51,
   "id": "fce4c089-e639-47e1-984a-c7c741ba2317",
   "metadata": {
    "pycharm": {
     "name": "#%%\n"
    }
   },
   "outputs": [
    {
     "name": "stdout",
     "output_type": "stream",
     "text": [
      "66465\n"
     ]
    }
   ],
   "source": [
    "gca_novel = gca[gca['sequence'].apply(rep).isin(gca_found_peps)==False]\n",
    "print(len(gca_novel))"
   ]
  },
  {
   "cell_type": "code",
   "execution_count": 52,
   "outputs": [
    {
     "name": "stdout",
     "output_type": "stream",
     "text": [
      "4712\n"
     ]
    }
   ],
   "source": [
    "print(len(set(gca_novel['sequence'].apply(rep).to_list())))"
   ],
   "metadata": {
    "collapsed": false,
    "pycharm": {
     "name": "#%%\n"
    }
   }
  },
  {
   "cell_type": "markdown",
   "source": [
    "#### To DeepLC"
   ],
   "metadata": {
    "collapsed": false,
    "pycharm": {
     "name": "#%% md\n"
    }
   }
  },
  {
   "cell_type": "code",
   "execution_count": 71,
   "outputs": [
    {
     "data": {
      "text/plain": "                                 sequence   protein_accessions  \\\n84                   ADEPQWSLYPSNSQVSEEVK           GCA_160389   \n1725      MVAVQNYHGNPAPPGKPVLTFQTGDVLELLR           GCA_188144   \n1767                     QVTSTASTFVKPIFSR           GCA_276583   \n1956           NHSVAESLNYVASWNMSMLQTQDLVK            GCA_64056   \n2279                QSGGSSQAGAVTVSDVQELMR  GCA_5200,GCA_102666   \n...                                   ...                  ...   \n15588256               VELQDWAGNEAYAEYHFR           GCA_252999   \n15588923               HILELQEVYDYLYQPSYR           GCA_248020   \n15589073               HILELQEVYDYLYQPSYR           GCA_248020   \n15589545            DVASLSSQIQDTQELLQEETR           GCA_293797   \n15590861            TPEVTCVVVDVSHQDPEVQFK           GCA_263328   \n\n         protein_start_positions protein_end_positions  protein_global_qvalue  \\\n84                         [134]                 [153]               0.000503   \n1725                       [581]                 [611]               0.000503   \n1767                         [8]                  [23]               0.000503   \n1956                       [284]                 [309]               0.000503   \n2279                      [8, 8]              [28, 28]               0.000503   \n...                          ...                   ...                    ...   \n15588256                   [726]                 [743]               0.000503   \n15588923                  [1316]                [1333]               0.000503   \n15589073                  [1316]                [1333]               0.000503   \n15589545                  [1316]                [1336]               0.000503   \n15590861                   [186]                 [206]               0.000503   \n\n          unique                  modifications  retention_time  charge  \\\n84             1                  [12-UNIMOD:7]       3837.8252       2   \n1725           1                  [22-UNIMOD:7]       5076.4430       4   \n1767           1                           None       3641.3105       3   \n1956           1  [1|15-UNIMOD:7, 18-UNIMOD:35]       5138.0977       3   \n2279           0                           None       4081.6558       2   \n...          ...                            ...             ...     ...   \n15588256       1                   [4-UNIMOD:7]       3816.7000       3   \n15588923       1                   [6-UNIMOD:7]       4886.7000       3   \n15589073       1                           None       4881.5000       3   \n15589545       1                           None       5055.2000       2   \n15590861       1      [6-UNIMOD:4, 14-UNIMOD:7]       4145.1000       3   \n\n          exp_mass_to_charge  ...  \\\n84               1148.028809  ...   \n1725              841.701599  ...   \n1767              590.326721  ...   \n1956              995.479187  ...   \n2279             1054.513306  ...   \n...                      ...  ...   \n15588256          733.996032  ...   \n15588923          777.724853  ...   \n15589073          777.391235  ...   \n15589545         1195.598449  ...   \n15590861          805.726684  ...   \n\n                                                  id_scores consensus_support  \\\n84        ['OpenMS:Target-decoy PSM q-value': 7.46249466...               NaN   \n1725      ['OpenMS:Target-decoy PSM q-value': 3.01421824...               NaN   \n1767      ['OpenMS:Target-decoy PSM q-value': 4.22368967...               NaN   \n1956      ['OpenMS:Target-decoy PSM q-value': 8.79923317...               NaN   \n2279      ['OpenMS:Target-decoy PSM q-value': 3.14206487...               NaN   \n...                                                     ...               ...   \n15588256  ['OpenMS:Target-decoy PSM q-value': 4.33891917...               NaN   \n15588923  ['OpenMS:Target-decoy PSM q-value': 5.07460837...               NaN   \n15589073  ['OpenMS:Target-decoy PSM q-value': 4.86307472...               NaN   \n15589545  ['OpenMS:Target-decoy PSM q-value': 4.07343951...               NaN   \n15590861  ['OpenMS:Target-decoy PSM q-value': 3.14206487...               NaN   \n\n                   reference_file_name  scan_number  mz_array intensity_array  \\\n84        01524_A01_P015424_S00_N01_R1        19309      None            None   \n1725      01524_A01_P015424_S00_N01_R1        32236      None            None   \n1767      01524_A01_P015424_S00_N01_R1        17326      None            None   \n1956      01524_A01_P015424_S00_N01_R1        32873      None            None   \n2279      01524_A01_P015424_S00_N01_R1        21737      None            None   \n...                                ...          ...       ...             ...   \n15588256  01293_D05_P013196_S00_N36_R1        24710      None            None   \n15588923  01293_D05_P013196_S00_N36_R1        33159      None            None   \n15589073  01293_D05_P013196_S00_N36_R1        33113      None            None   \n15589545  01307_D05_P013386_S00_N36_R1        38639      None            None   \n15590861  01307_D05_P013386_S00_N36_R1        30903      None            None   \n\n          num_peaks gene_accessions gene_names prot_source  \n84              NaN            None       None         GCA  \n1725            NaN            None       None         GCA  \n1767            NaN            None       None         GCA  \n1956            NaN            None       None         GCA  \n2279            NaN            None       None         GCA  \n...             ...             ...        ...         ...  \n15588256        NaN            None       None         GCA  \n15588923        NaN            None       None         GCA  \n15589073        NaN            None       None         GCA  \n15589545        NaN            None       None         GCA  \n15590861        NaN            None       None         GCA  \n\n[66465 rows x 25 columns]",
      "text/html": "<div>\n<style scoped>\n    .dataframe tbody tr th:only-of-type {\n        vertical-align: middle;\n    }\n\n    .dataframe tbody tr th {\n        vertical-align: top;\n    }\n\n    .dataframe thead th {\n        text-align: right;\n    }\n</style>\n<table border=\"1\" class=\"dataframe\">\n  <thead>\n    <tr style=\"text-align: right;\">\n      <th></th>\n      <th>sequence</th>\n      <th>protein_accessions</th>\n      <th>protein_start_positions</th>\n      <th>protein_end_positions</th>\n      <th>protein_global_qvalue</th>\n      <th>unique</th>\n      <th>modifications</th>\n      <th>retention_time</th>\n      <th>charge</th>\n      <th>exp_mass_to_charge</th>\n      <th>...</th>\n      <th>id_scores</th>\n      <th>consensus_support</th>\n      <th>reference_file_name</th>\n      <th>scan_number</th>\n      <th>mz_array</th>\n      <th>intensity_array</th>\n      <th>num_peaks</th>\n      <th>gene_accessions</th>\n      <th>gene_names</th>\n      <th>prot_source</th>\n    </tr>\n  </thead>\n  <tbody>\n    <tr>\n      <th>84</th>\n      <td>ADEPQWSLYPSNSQVSEEVK</td>\n      <td>GCA_160389</td>\n      <td>[134]</td>\n      <td>[153]</td>\n      <td>0.000503</td>\n      <td>1</td>\n      <td>[12-UNIMOD:7]</td>\n      <td>3837.8252</td>\n      <td>2</td>\n      <td>1148.028809</td>\n      <td>...</td>\n      <td>['OpenMS:Target-decoy PSM q-value': 7.46249466...</td>\n      <td>NaN</td>\n      <td>01524_A01_P015424_S00_N01_R1</td>\n      <td>19309</td>\n      <td>None</td>\n      <td>None</td>\n      <td>NaN</td>\n      <td>None</td>\n      <td>None</td>\n      <td>GCA</td>\n    </tr>\n    <tr>\n      <th>1725</th>\n      <td>MVAVQNYHGNPAPPGKPVLTFQTGDVLELLR</td>\n      <td>GCA_188144</td>\n      <td>[581]</td>\n      <td>[611]</td>\n      <td>0.000503</td>\n      <td>1</td>\n      <td>[22-UNIMOD:7]</td>\n      <td>5076.4430</td>\n      <td>4</td>\n      <td>841.701599</td>\n      <td>...</td>\n      <td>['OpenMS:Target-decoy PSM q-value': 3.01421824...</td>\n      <td>NaN</td>\n      <td>01524_A01_P015424_S00_N01_R1</td>\n      <td>32236</td>\n      <td>None</td>\n      <td>None</td>\n      <td>NaN</td>\n      <td>None</td>\n      <td>None</td>\n      <td>GCA</td>\n    </tr>\n    <tr>\n      <th>1767</th>\n      <td>QVTSTASTFVKPIFSR</td>\n      <td>GCA_276583</td>\n      <td>[8]</td>\n      <td>[23]</td>\n      <td>0.000503</td>\n      <td>1</td>\n      <td>None</td>\n      <td>3641.3105</td>\n      <td>3</td>\n      <td>590.326721</td>\n      <td>...</td>\n      <td>['OpenMS:Target-decoy PSM q-value': 4.22368967...</td>\n      <td>NaN</td>\n      <td>01524_A01_P015424_S00_N01_R1</td>\n      <td>17326</td>\n      <td>None</td>\n      <td>None</td>\n      <td>NaN</td>\n      <td>None</td>\n      <td>None</td>\n      <td>GCA</td>\n    </tr>\n    <tr>\n      <th>1956</th>\n      <td>NHSVAESLNYVASWNMSMLQTQDLVK</td>\n      <td>GCA_64056</td>\n      <td>[284]</td>\n      <td>[309]</td>\n      <td>0.000503</td>\n      <td>1</td>\n      <td>[1|15-UNIMOD:7, 18-UNIMOD:35]</td>\n      <td>5138.0977</td>\n      <td>3</td>\n      <td>995.479187</td>\n      <td>...</td>\n      <td>['OpenMS:Target-decoy PSM q-value': 8.79923317...</td>\n      <td>NaN</td>\n      <td>01524_A01_P015424_S00_N01_R1</td>\n      <td>32873</td>\n      <td>None</td>\n      <td>None</td>\n      <td>NaN</td>\n      <td>None</td>\n      <td>None</td>\n      <td>GCA</td>\n    </tr>\n    <tr>\n      <th>2279</th>\n      <td>QSGGSSQAGAVTVSDVQELMR</td>\n      <td>GCA_5200,GCA_102666</td>\n      <td>[8, 8]</td>\n      <td>[28, 28]</td>\n      <td>0.000503</td>\n      <td>0</td>\n      <td>None</td>\n      <td>4081.6558</td>\n      <td>2</td>\n      <td>1054.513306</td>\n      <td>...</td>\n      <td>['OpenMS:Target-decoy PSM q-value': 3.14206487...</td>\n      <td>NaN</td>\n      <td>01524_A01_P015424_S00_N01_R1</td>\n      <td>21737</td>\n      <td>None</td>\n      <td>None</td>\n      <td>NaN</td>\n      <td>None</td>\n      <td>None</td>\n      <td>GCA</td>\n    </tr>\n    <tr>\n      <th>...</th>\n      <td>...</td>\n      <td>...</td>\n      <td>...</td>\n      <td>...</td>\n      <td>...</td>\n      <td>...</td>\n      <td>...</td>\n      <td>...</td>\n      <td>...</td>\n      <td>...</td>\n      <td>...</td>\n      <td>...</td>\n      <td>...</td>\n      <td>...</td>\n      <td>...</td>\n      <td>...</td>\n      <td>...</td>\n      <td>...</td>\n      <td>...</td>\n      <td>...</td>\n      <td>...</td>\n    </tr>\n    <tr>\n      <th>15588256</th>\n      <td>VELQDWAGNEAYAEYHFR</td>\n      <td>GCA_252999</td>\n      <td>[726]</td>\n      <td>[743]</td>\n      <td>0.000503</td>\n      <td>1</td>\n      <td>[4-UNIMOD:7]</td>\n      <td>3816.7000</td>\n      <td>3</td>\n      <td>733.996032</td>\n      <td>...</td>\n      <td>['OpenMS:Target-decoy PSM q-value': 4.33891917...</td>\n      <td>NaN</td>\n      <td>01293_D05_P013196_S00_N36_R1</td>\n      <td>24710</td>\n      <td>None</td>\n      <td>None</td>\n      <td>NaN</td>\n      <td>None</td>\n      <td>None</td>\n      <td>GCA</td>\n    </tr>\n    <tr>\n      <th>15588923</th>\n      <td>HILELQEVYDYLYQPSYR</td>\n      <td>GCA_248020</td>\n      <td>[1316]</td>\n      <td>[1333]</td>\n      <td>0.000503</td>\n      <td>1</td>\n      <td>[6-UNIMOD:7]</td>\n      <td>4886.7000</td>\n      <td>3</td>\n      <td>777.724853</td>\n      <td>...</td>\n      <td>['OpenMS:Target-decoy PSM q-value': 5.07460837...</td>\n      <td>NaN</td>\n      <td>01293_D05_P013196_S00_N36_R1</td>\n      <td>33159</td>\n      <td>None</td>\n      <td>None</td>\n      <td>NaN</td>\n      <td>None</td>\n      <td>None</td>\n      <td>GCA</td>\n    </tr>\n    <tr>\n      <th>15589073</th>\n      <td>HILELQEVYDYLYQPSYR</td>\n      <td>GCA_248020</td>\n      <td>[1316]</td>\n      <td>[1333]</td>\n      <td>0.000503</td>\n      <td>1</td>\n      <td>None</td>\n      <td>4881.5000</td>\n      <td>3</td>\n      <td>777.391235</td>\n      <td>...</td>\n      <td>['OpenMS:Target-decoy PSM q-value': 4.86307472...</td>\n      <td>NaN</td>\n      <td>01293_D05_P013196_S00_N36_R1</td>\n      <td>33113</td>\n      <td>None</td>\n      <td>None</td>\n      <td>NaN</td>\n      <td>None</td>\n      <td>None</td>\n      <td>GCA</td>\n    </tr>\n    <tr>\n      <th>15589545</th>\n      <td>DVASLSSQIQDTQELLQEETR</td>\n      <td>GCA_293797</td>\n      <td>[1316]</td>\n      <td>[1336]</td>\n      <td>0.000503</td>\n      <td>1</td>\n      <td>None</td>\n      <td>5055.2000</td>\n      <td>2</td>\n      <td>1195.598449</td>\n      <td>...</td>\n      <td>['OpenMS:Target-decoy PSM q-value': 4.07343951...</td>\n      <td>NaN</td>\n      <td>01307_D05_P013386_S00_N36_R1</td>\n      <td>38639</td>\n      <td>None</td>\n      <td>None</td>\n      <td>NaN</td>\n      <td>None</td>\n      <td>None</td>\n      <td>GCA</td>\n    </tr>\n    <tr>\n      <th>15590861</th>\n      <td>TPEVTCVVVDVSHQDPEVQFK</td>\n      <td>GCA_263328</td>\n      <td>[186]</td>\n      <td>[206]</td>\n      <td>0.000503</td>\n      <td>1</td>\n      <td>[6-UNIMOD:4, 14-UNIMOD:7]</td>\n      <td>4145.1000</td>\n      <td>3</td>\n      <td>805.726684</td>\n      <td>...</td>\n      <td>['OpenMS:Target-decoy PSM q-value': 3.14206487...</td>\n      <td>NaN</td>\n      <td>01307_D05_P013386_S00_N36_R1</td>\n      <td>30903</td>\n      <td>None</td>\n      <td>None</td>\n      <td>NaN</td>\n      <td>None</td>\n      <td>None</td>\n      <td>GCA</td>\n    </tr>\n  </tbody>\n</table>\n<p>66465 rows × 25 columns</p>\n</div>"
     },
     "execution_count": 71,
     "metadata": {},
     "output_type": "execute_result"
    }
   ],
   "source": [
    "gca"
   ],
   "metadata": {
    "collapsed": false,
    "pycharm": {
     "name": "#%%\n"
    }
   }
  },
  {
   "cell_type": "code",
   "execution_count": 72,
   "outputs": [
    {
     "data": {
      "text/plain": "                                        sequence      protein_accessions  \\\n1         LPPGVDPAAVTSALSPEGVLSIQAAPASAQAPPPAAAK  GRCh38_40238,GCA_63102   \n10                        QDLPNAMNAAEITDKLGLHSLR            GRCh38_94695   \n11             ETTFNSLLCPSGGEVSEELSLKLPPNVVEESAR     GCA_3619,GCA_135944   \n12                              LGIWGGNVALDNLQIK  GRCh38_62565,GCA_88022   \n13                             FLLSDQSLLLLPEYHQR              GCA_235408   \n...                                          ...                     ...   \n15590879               SYEDMIGEEVPSDQYYWAPLAQHER  GRCh38_65113,GCA_22717   \n15590880                            EWYGYHFPELVK   GRCh38_3800,GCA_67628   \n15590881       TPEVTCVVVDVSHEDPEVQFNWYVDGVEVHNAK              GCA_249239   \n15590883                         ILFIFIDSDHTDNQR  GRCh38_56460,GCA_82927   \n15590884                         SIPAYLAETLYYAMK  GRCh38_32181,GCA_15045   \n\n         protein_start_positions protein_end_positions  protein_global_qvalue  \\\n1                     [123, 123]            [160, 160]               0.000503   \n10                         [128]                 [149]               0.000503   \n11                    [913, 913]            [945, 945]               0.000503   \n12                      [29, 29]              [44, 44]               0.000503   \n13                        [1042]                [1058]               0.000503   \n...                          ...                   ...                    ...   \n15590879              [320, 320]            [344, 344]               0.000503   \n15590880              [191, 191]            [202, 202]               0.000503   \n15590881                   [135]                 [167]               0.000503   \n15590883              [286, 286]            [300, 300]               0.000503   \n15590884              [246, 246]            [260, 260]               0.000503   \n\n          unique              modifications  retention_time  charge  \\\n1              0              [23-UNIMOD:7]       5334.6455       3   \n10             1              [7-UNIMOD:35]       4054.5593       4   \n11             0               [9-UNIMOD:4]       5199.6940       3   \n12             0                       None       5091.0830       2   \n13             1               [6-UNIMOD:7]       5154.0034       3   \n...          ...                        ...             ...     ...   \n15590879       0              [5-UNIMOD:35]       4204.3000       3   \n15590880       0                       None       4205.7000       3   \n15590881       1  [6-UNIMOD:4, 21-UNIMOD:7]       5355.9000       4   \n15590883       0                       None       4688.1000       3   \n15590884       0             [14-UNIMOD:35]       6118.2000       2   \n\n          exp_mass_to_charge  ...  \\\n1                1173.971558  ...   \n10                606.564880  ...   \n11               1196.932739  ...   \n12                856.479858  ...   \n13                691.713501  ...   \n...                      ...  ...   \n15590879         1010.450349  ...   \n15590880          523.594421  ...   \n15590881          950.705505  ...   \n15590883          611.978349  ...   \n15590884          875.947326  ...   \n\n                                                  id_scores consensus_support  \\\n1         ['OpenMS:Target-decoy PSM q-value': 0.00017559...               NaN   \n10        ['OpenMS:Target-decoy PSM q-value': 3.62947179...               NaN   \n11        ['OpenMS:Target-decoy PSM q-value': 3.14206487...               NaN   \n12        ['OpenMS:Target-decoy PSM q-value': 4.33891917...               NaN   \n13        ['OpenMS:Target-decoy PSM q-value': 1.31840142...               NaN   \n...                                                     ...               ...   \n15590879  ['OpenMS:Target-decoy PSM q-value': 3.14206487...               NaN   \n15590880  ['OpenMS:Target-decoy PSM q-value': 0.00021070...               NaN   \n15590881  ['OpenMS:Target-decoy PSM q-value': 3.70502765...               NaN   \n15590883  ['OpenMS:Target-decoy PSM q-value': 3.14206487...               NaN   \n15590884  ['OpenMS:Target-decoy PSM q-value': 4.02448832...               NaN   \n\n                   reference_file_name  scan_number  mz_array intensity_array  \\\n1         01524_A01_P015424_S00_N01_R1        34850      None            None   \n10        01524_A01_P015424_S00_N01_R1        21451      None            None   \n11        01524_A01_P015424_S00_N01_R1        33504      None            None   \n12        01524_A01_P015424_S00_N01_R1        32388      None            None   \n13        01524_A01_P015424_S00_N01_R1        33038      None            None   \n...                                ...          ...       ...             ...   \n15590879  01307_D05_P013386_S00_N36_R1        31378      None            None   \n15590880  01307_D05_P013386_S00_N36_R1        31390      None            None   \n15590881  01307_D05_P013386_S00_N36_R1        41181      None            None   \n15590883  01307_D05_P013386_S00_N36_R1        35481      None            None   \n15590884  01307_D05_P013386_S00_N36_R1        47417      None            None   \n\n          num_peaks gene_accessions gene_names prot_source  \n1               NaN            None       None      GRCh38  \n10              NaN            None       None      GRCh38  \n11              NaN            None       None      GRCh38  \n12              NaN            None       None      GRCh38  \n13              NaN            None       None      GRCh38  \n...             ...             ...        ...         ...  \n15590879        NaN            None       None      GRCh38  \n15590880        NaN            None       None      GRCh38  \n15590881        NaN            None       None      GRCh38  \n15590883        NaN            None       None      GRCh38  \n15590884        NaN            None       None      GRCh38  \n\n[12528591 rows x 25 columns]",
      "text/html": "<div>\n<style scoped>\n    .dataframe tbody tr th:only-of-type {\n        vertical-align: middle;\n    }\n\n    .dataframe tbody tr th {\n        vertical-align: top;\n    }\n\n    .dataframe thead th {\n        text-align: right;\n    }\n</style>\n<table border=\"1\" class=\"dataframe\">\n  <thead>\n    <tr style=\"text-align: right;\">\n      <th></th>\n      <th>sequence</th>\n      <th>protein_accessions</th>\n      <th>protein_start_positions</th>\n      <th>protein_end_positions</th>\n      <th>protein_global_qvalue</th>\n      <th>unique</th>\n      <th>modifications</th>\n      <th>retention_time</th>\n      <th>charge</th>\n      <th>exp_mass_to_charge</th>\n      <th>...</th>\n      <th>id_scores</th>\n      <th>consensus_support</th>\n      <th>reference_file_name</th>\n      <th>scan_number</th>\n      <th>mz_array</th>\n      <th>intensity_array</th>\n      <th>num_peaks</th>\n      <th>gene_accessions</th>\n      <th>gene_names</th>\n      <th>prot_source</th>\n    </tr>\n  </thead>\n  <tbody>\n    <tr>\n      <th>1</th>\n      <td>LPPGVDPAAVTSALSPEGVLSIQAAPASAQAPPPAAAK</td>\n      <td>GRCh38_40238,GCA_63102</td>\n      <td>[123, 123]</td>\n      <td>[160, 160]</td>\n      <td>0.000503</td>\n      <td>0</td>\n      <td>[23-UNIMOD:7]</td>\n      <td>5334.6455</td>\n      <td>3</td>\n      <td>1173.971558</td>\n      <td>...</td>\n      <td>['OpenMS:Target-decoy PSM q-value': 0.00017559...</td>\n      <td>NaN</td>\n      <td>01524_A01_P015424_S00_N01_R1</td>\n      <td>34850</td>\n      <td>None</td>\n      <td>None</td>\n      <td>NaN</td>\n      <td>None</td>\n      <td>None</td>\n      <td>GRCh38</td>\n    </tr>\n    <tr>\n      <th>10</th>\n      <td>QDLPNAMNAAEITDKLGLHSLR</td>\n      <td>GRCh38_94695</td>\n      <td>[128]</td>\n      <td>[149]</td>\n      <td>0.000503</td>\n      <td>1</td>\n      <td>[7-UNIMOD:35]</td>\n      <td>4054.5593</td>\n      <td>4</td>\n      <td>606.564880</td>\n      <td>...</td>\n      <td>['OpenMS:Target-decoy PSM q-value': 3.62947179...</td>\n      <td>NaN</td>\n      <td>01524_A01_P015424_S00_N01_R1</td>\n      <td>21451</td>\n      <td>None</td>\n      <td>None</td>\n      <td>NaN</td>\n      <td>None</td>\n      <td>None</td>\n      <td>GRCh38</td>\n    </tr>\n    <tr>\n      <th>11</th>\n      <td>ETTFNSLLCPSGGEVSEELSLKLPPNVVEESAR</td>\n      <td>GCA_3619,GCA_135944</td>\n      <td>[913, 913]</td>\n      <td>[945, 945]</td>\n      <td>0.000503</td>\n      <td>0</td>\n      <td>[9-UNIMOD:4]</td>\n      <td>5199.6940</td>\n      <td>3</td>\n      <td>1196.932739</td>\n      <td>...</td>\n      <td>['OpenMS:Target-decoy PSM q-value': 3.14206487...</td>\n      <td>NaN</td>\n      <td>01524_A01_P015424_S00_N01_R1</td>\n      <td>33504</td>\n      <td>None</td>\n      <td>None</td>\n      <td>NaN</td>\n      <td>None</td>\n      <td>None</td>\n      <td>GRCh38</td>\n    </tr>\n    <tr>\n      <th>12</th>\n      <td>LGIWGGNVALDNLQIK</td>\n      <td>GRCh38_62565,GCA_88022</td>\n      <td>[29, 29]</td>\n      <td>[44, 44]</td>\n      <td>0.000503</td>\n      <td>0</td>\n      <td>None</td>\n      <td>5091.0830</td>\n      <td>2</td>\n      <td>856.479858</td>\n      <td>...</td>\n      <td>['OpenMS:Target-decoy PSM q-value': 4.33891917...</td>\n      <td>NaN</td>\n      <td>01524_A01_P015424_S00_N01_R1</td>\n      <td>32388</td>\n      <td>None</td>\n      <td>None</td>\n      <td>NaN</td>\n      <td>None</td>\n      <td>None</td>\n      <td>GRCh38</td>\n    </tr>\n    <tr>\n      <th>13</th>\n      <td>FLLSDQSLLLLPEYHQR</td>\n      <td>GCA_235408</td>\n      <td>[1042]</td>\n      <td>[1058]</td>\n      <td>0.000503</td>\n      <td>1</td>\n      <td>[6-UNIMOD:7]</td>\n      <td>5154.0034</td>\n      <td>3</td>\n      <td>691.713501</td>\n      <td>...</td>\n      <td>['OpenMS:Target-decoy PSM q-value': 1.31840142...</td>\n      <td>NaN</td>\n      <td>01524_A01_P015424_S00_N01_R1</td>\n      <td>33038</td>\n      <td>None</td>\n      <td>None</td>\n      <td>NaN</td>\n      <td>None</td>\n      <td>None</td>\n      <td>GRCh38</td>\n    </tr>\n    <tr>\n      <th>...</th>\n      <td>...</td>\n      <td>...</td>\n      <td>...</td>\n      <td>...</td>\n      <td>...</td>\n      <td>...</td>\n      <td>...</td>\n      <td>...</td>\n      <td>...</td>\n      <td>...</td>\n      <td>...</td>\n      <td>...</td>\n      <td>...</td>\n      <td>...</td>\n      <td>...</td>\n      <td>...</td>\n      <td>...</td>\n      <td>...</td>\n      <td>...</td>\n      <td>...</td>\n      <td>...</td>\n    </tr>\n    <tr>\n      <th>15590879</th>\n      <td>SYEDMIGEEVPSDQYYWAPLAQHER</td>\n      <td>GRCh38_65113,GCA_22717</td>\n      <td>[320, 320]</td>\n      <td>[344, 344]</td>\n      <td>0.000503</td>\n      <td>0</td>\n      <td>[5-UNIMOD:35]</td>\n      <td>4204.3000</td>\n      <td>3</td>\n      <td>1010.450349</td>\n      <td>...</td>\n      <td>['OpenMS:Target-decoy PSM q-value': 3.14206487...</td>\n      <td>NaN</td>\n      <td>01307_D05_P013386_S00_N36_R1</td>\n      <td>31378</td>\n      <td>None</td>\n      <td>None</td>\n      <td>NaN</td>\n      <td>None</td>\n      <td>None</td>\n      <td>GRCh38</td>\n    </tr>\n    <tr>\n      <th>15590880</th>\n      <td>EWYGYHFPELVK</td>\n      <td>GRCh38_3800,GCA_67628</td>\n      <td>[191, 191]</td>\n      <td>[202, 202]</td>\n      <td>0.000503</td>\n      <td>0</td>\n      <td>None</td>\n      <td>4205.7000</td>\n      <td>3</td>\n      <td>523.594421</td>\n      <td>...</td>\n      <td>['OpenMS:Target-decoy PSM q-value': 0.00021070...</td>\n      <td>NaN</td>\n      <td>01307_D05_P013386_S00_N36_R1</td>\n      <td>31390</td>\n      <td>None</td>\n      <td>None</td>\n      <td>NaN</td>\n      <td>None</td>\n      <td>None</td>\n      <td>GRCh38</td>\n    </tr>\n    <tr>\n      <th>15590881</th>\n      <td>TPEVTCVVVDVSHEDPEVQFNWYVDGVEVHNAK</td>\n      <td>GCA_249239</td>\n      <td>[135]</td>\n      <td>[167]</td>\n      <td>0.000503</td>\n      <td>1</td>\n      <td>[6-UNIMOD:4, 21-UNIMOD:7]</td>\n      <td>5355.9000</td>\n      <td>4</td>\n      <td>950.705505</td>\n      <td>...</td>\n      <td>['OpenMS:Target-decoy PSM q-value': 3.70502765...</td>\n      <td>NaN</td>\n      <td>01307_D05_P013386_S00_N36_R1</td>\n      <td>41181</td>\n      <td>None</td>\n      <td>None</td>\n      <td>NaN</td>\n      <td>None</td>\n      <td>None</td>\n      <td>GRCh38</td>\n    </tr>\n    <tr>\n      <th>15590883</th>\n      <td>ILFIFIDSDHTDNQR</td>\n      <td>GRCh38_56460,GCA_82927</td>\n      <td>[286, 286]</td>\n      <td>[300, 300]</td>\n      <td>0.000503</td>\n      <td>0</td>\n      <td>None</td>\n      <td>4688.1000</td>\n      <td>3</td>\n      <td>611.978349</td>\n      <td>...</td>\n      <td>['OpenMS:Target-decoy PSM q-value': 3.14206487...</td>\n      <td>NaN</td>\n      <td>01307_D05_P013386_S00_N36_R1</td>\n      <td>35481</td>\n      <td>None</td>\n      <td>None</td>\n      <td>NaN</td>\n      <td>None</td>\n      <td>None</td>\n      <td>GRCh38</td>\n    </tr>\n    <tr>\n      <th>15590884</th>\n      <td>SIPAYLAETLYYAMK</td>\n      <td>GRCh38_32181,GCA_15045</td>\n      <td>[246, 246]</td>\n      <td>[260, 260]</td>\n      <td>0.000503</td>\n      <td>0</td>\n      <td>[14-UNIMOD:35]</td>\n      <td>6118.2000</td>\n      <td>2</td>\n      <td>875.947326</td>\n      <td>...</td>\n      <td>['OpenMS:Target-decoy PSM q-value': 4.02448832...</td>\n      <td>NaN</td>\n      <td>01307_D05_P013386_S00_N36_R1</td>\n      <td>47417</td>\n      <td>None</td>\n      <td>None</td>\n      <td>NaN</td>\n      <td>None</td>\n      <td>None</td>\n      <td>GRCh38</td>\n    </tr>\n  </tbody>\n</table>\n<p>12528591 rows × 25 columns</p>\n</div>"
     },
     "execution_count": 72,
     "metadata": {},
     "output_type": "execute_result"
    }
   ],
   "source": [
    "grch"
   ],
   "metadata": {
    "collapsed": false,
    "pycharm": {
     "name": "#%%\n"
    }
   }
  },
  {
   "cell_type": "code",
   "execution_count": 74,
   "outputs": [],
   "source": [
    "mod_rep = {\"UNIMOD:4\":\"Carbamidomethyl\",\"UNIMOD:7\":\"Deamidated\",\"UNIMOD:35\":\"Oxidation\",\"UNIMOD:1\":\"Acetyl\"}\n",
    "def replace_mod(x):\n",
    "    s = \"\"\n",
    "    for mod in x:\n",
    "        nums = mod.split(\"-\")[0]\n",
    "        m = mod.split(\"-\")[1]\n",
    "        for n in nums.split(\"|\"):\n",
    "            if s:\n",
    "                s += \"|\"\n",
    "            s += n + \"|\" + mod_rep.get(m)\n",
    "    return s"
   ],
   "metadata": {
    "collapsed": false,
    "pycharm": {
     "name": "#%%\n"
    }
   }
  },
  {
   "cell_type": "code",
   "execution_count": 75,
   "outputs": [],
   "source": [
    "gca.loc[:,\"seq\"] = gca.apply(lambda x : x[\"sequence\"],axis = 1)\n",
    "gca.loc[:,\"modifications\"] = gca.apply(lambda x : replace_mod(x[\"modifications\"]) if x[\"modifications\"] is not None else \"\", axis = 1)\n",
    "gca.loc[:,\"tr\"] = gca.apply(lambda x : x[\"retention_time\"],axis = 1)"
   ],
   "metadata": {
    "collapsed": false,
    "pycharm": {
     "name": "#%%\n"
    }
   }
  },
  {
   "cell_type": "code",
   "execution_count": 76,
   "outputs": [],
   "source": [
    "grch.loc[:,\"seq\"] = grch.apply(lambda x : x[\"sequence\"],axis = 1)\n",
    "grch.loc[:,\"modifications\"] = grch.apply(lambda x : replace_mod(x[\"modifications\"]) if x[\"modifications\"] is not None else \"\", axis = 1)\n",
    "grch.loc[:,\"tr\"] = grch.apply(lambda x : x[\"retention_time\"],axis = 1)"
   ],
   "metadata": {
    "collapsed": false,
    "pycharm": {
     "name": "#%%\n"
    }
   }
  },
  {
   "cell_type": "code",
   "execution_count": 77,
   "outputs": [],
   "source": [
    "gca.drop_duplicates(subset=[\"seq\",\"modifications\"],keep=\"first\",inplace=True)\n",
    "grch.drop_duplicates(subset=[\"seq\",\"modifications\"],keep=\"first\",inplace=True)\n",
    "gca['modifications'] = gca['modifications'].fillna(\"\")\n",
    "grch['modifications'] = grch['modifications'].fillna(\"\")"
   ],
   "metadata": {
    "collapsed": false,
    "pycharm": {
     "name": "#%%\n"
    }
   }
  },
  {
   "cell_type": "code",
   "execution_count": 69,
   "outputs": [],
   "source": [
    "# import deeplc packages\n",
    "from deeplc import DeepLC\n",
    "from deeplcretrainer import deeplcretrainer\n",
    "\n",
    "# Default\n",
    "from collections import Counter\n",
    "import os\n",
    "import urllib.request\n",
    "\n",
    "# specific packages\n",
    "import pandas as pd\n",
    "from matplotlib import pyplot as plt\n",
    "from scipy.stats import pearsonr\n",
    "import numpy as np\n",
    "\n",
    "import tensorflow as tf\n",
    "from tensorflow.python.eager import context\n",
    "\n",
    "import warnings\n",
    "warnings.filterwarnings('ignore')"
   ],
   "metadata": {
    "collapsed": false,
    "pycharm": {
     "name": "#%%\n"
    }
   }
  },
  {
   "cell_type": "code",
   "execution_count": 68,
   "outputs": [
    {
     "data": {
      "text/plain": "                                        sequence      protein_accessions  \\\n1         LPPGVDPAAVTSALSPEGVLSIQAAPASAQAPPPAAAK  GRCh38_40238,GCA_63102   \n10                        QDLPNAMNAAEITDKLGLHSLR            GRCh38_94695   \n11             ETTFNSLLCPSGGEVSEELSLKLPPNVVEESAR     GCA_3619,GCA_135944   \n12                              LGIWGGNVALDNLQIK  GRCh38_62565,GCA_88022   \n13                             FLLSDQSLLLLPEYHQR              GCA_235408   \n...                                          ...                     ...   \n15587701                       MENEFYEFALEQFQFIR  GRCh38_92499,GCA_35387   \n15587737                            YMDEDGEWWIAK   GRCh38_7423,GCA_50544   \n15588175               LVNLYGLLHGLQAAVAQQDTLMEAR  GRCh38_93342,GCA_13456   \n15588726                      DYYFDSYAHFGIHEEMLK  GRCh38_51203,GCA_64989   \n15588952                         WGVFDEYNEDQPFYR              GCA_211083   \n\n         protein_start_positions protein_end_positions  protein_global_qvalue  \\\n1                     [123, 123]            [160, 160]               0.000503   \n10                         [128]                 [149]               0.000503   \n11                    [913, 913]            [945, 945]               0.000503   \n12                      [29, 29]              [44, 44]               0.000503   \n13                        [1042]                [1058]               0.000503   \n...                          ...                   ...                    ...   \n15587701              [312, 312]            [328, 328]               0.000503   \n15587737                [39, 39]              [50, 50]               0.000503   \n15588175              [885, 885]            [909, 909]               0.000503   \n15588726                [33, 33]              [50, 50]               0.000503   \n15588952                   [162]                 [176]               0.000503   \n\n          unique                 modifications  retention_time  charge  \\\n1              0                 23|Deamidated       5334.6455       3   \n10             1                   7|Oxidation       4054.5593       4   \n11             0             9|Carbamidomethyl       5199.6940       3   \n12             0                                     5091.0830       2   \n13             1                  6|Deamidated       5154.0034       3   \n...          ...                           ...             ...     ...   \n15587701       0   1|Oxidation|3|12|Deamidated       6196.9000       2   \n15587737       0                   2|Oxidation       3799.0000       2   \n15588175       0  3|17|Deamidated|22|Oxidation       5950.1000       3   \n15588726       0                  16|Oxidation       3690.0000       3   \n15588952       1                                     4380.8000       2   \n\n          exp_mass_to_charge  ...           reference_file_name scan_number  \\\n1                1173.971558  ...  01524_A01_P015424_S00_N01_R1       34850   \n10                606.564880  ...  01524_A01_P015424_S00_N01_R1       21451   \n11               1196.932739  ...  01524_A01_P015424_S00_N01_R1       33504   \n12                856.479858  ...  01524_A01_P015424_S00_N01_R1       32388   \n13                691.713501  ...  01524_A01_P015424_S00_N01_R1       33038   \n...                      ...  ...                           ...         ...   \n15587701         1130.523010  ...  01306_D05_P013385_S00_N36_R1       46251   \n15587737          779.831237  ...  01306_D05_P013385_S00_N36_R1       24855   \n15588175          915.158569  ...  01293_D05_P013196_S00_N36_R1       41152   \n15588726          761.337829  ...  01293_D05_P013196_S00_N36_R1       23740   \n15588952          983.429626  ...  01293_D05_P013196_S00_N36_R1       29194   \n\n          mz_array  intensity_array  num_peaks gene_accessions  gene_names  \\\n1             None             None        NaN            None        None   \n10            None             None        NaN            None        None   \n11            None             None        NaN            None        None   \n12            None             None        NaN            None        None   \n13            None             None        NaN            None        None   \n...            ...              ...        ...             ...         ...   \n15587701      None             None        NaN            None        None   \n15587737      None             None        NaN            None        None   \n15588175      None             None        NaN            None        None   \n15588726      None             None        NaN            None        None   \n15588952      None             None        NaN            None        None   \n\n         prot_source                                     seq         tr  \n1             GRCh38  LPPGVDPAAVTSALSPEGVLSIQAAPASAQAPPPAAAK  5334.6455  \n10            GRCh38                  QDLPNAMNAAEITDKLGLHSLR  4054.5593  \n11            GRCh38       ETTFNSLLCPSGGEVSEELSLKLPPNVVEESAR  5199.6940  \n12            GRCh38                        LGIWGGNVALDNLQIK  5091.0830  \n13            GRCh38                       FLLSDQSLLLLPEYHQR  5154.0034  \n...              ...                                     ...        ...  \n15587701      GRCh38                       MENEFYEFALEQFQFIR  6196.9000  \n15587737      GRCh38                            YMDEDGEWWIAK  3799.0000  \n15588175      GRCh38               LVNLYGLLHGLQAAVAQQDTLMEAR  5950.1000  \n15588726      GRCh38                      DYYFDSYAHFGIHEEMLK  3690.0000  \n15588952      GRCh38                         WGVFDEYNEDQPFYR  4380.8000  \n\n[612968 rows x 27 columns]",
      "text/html": "<div>\n<style scoped>\n    .dataframe tbody tr th:only-of-type {\n        vertical-align: middle;\n    }\n\n    .dataframe tbody tr th {\n        vertical-align: top;\n    }\n\n    .dataframe thead th {\n        text-align: right;\n    }\n</style>\n<table border=\"1\" class=\"dataframe\">\n  <thead>\n    <tr style=\"text-align: right;\">\n      <th></th>\n      <th>sequence</th>\n      <th>protein_accessions</th>\n      <th>protein_start_positions</th>\n      <th>protein_end_positions</th>\n      <th>protein_global_qvalue</th>\n      <th>unique</th>\n      <th>modifications</th>\n      <th>retention_time</th>\n      <th>charge</th>\n      <th>exp_mass_to_charge</th>\n      <th>...</th>\n      <th>reference_file_name</th>\n      <th>scan_number</th>\n      <th>mz_array</th>\n      <th>intensity_array</th>\n      <th>num_peaks</th>\n      <th>gene_accessions</th>\n      <th>gene_names</th>\n      <th>prot_source</th>\n      <th>seq</th>\n      <th>tr</th>\n    </tr>\n  </thead>\n  <tbody>\n    <tr>\n      <th>1</th>\n      <td>LPPGVDPAAVTSALSPEGVLSIQAAPASAQAPPPAAAK</td>\n      <td>GRCh38_40238,GCA_63102</td>\n      <td>[123, 123]</td>\n      <td>[160, 160]</td>\n      <td>0.000503</td>\n      <td>0</td>\n      <td>23|Deamidated</td>\n      <td>5334.6455</td>\n      <td>3</td>\n      <td>1173.971558</td>\n      <td>...</td>\n      <td>01524_A01_P015424_S00_N01_R1</td>\n      <td>34850</td>\n      <td>None</td>\n      <td>None</td>\n      <td>NaN</td>\n      <td>None</td>\n      <td>None</td>\n      <td>GRCh38</td>\n      <td>LPPGVDPAAVTSALSPEGVLSIQAAPASAQAPPPAAAK</td>\n      <td>5334.6455</td>\n    </tr>\n    <tr>\n      <th>10</th>\n      <td>QDLPNAMNAAEITDKLGLHSLR</td>\n      <td>GRCh38_94695</td>\n      <td>[128]</td>\n      <td>[149]</td>\n      <td>0.000503</td>\n      <td>1</td>\n      <td>7|Oxidation</td>\n      <td>4054.5593</td>\n      <td>4</td>\n      <td>606.564880</td>\n      <td>...</td>\n      <td>01524_A01_P015424_S00_N01_R1</td>\n      <td>21451</td>\n      <td>None</td>\n      <td>None</td>\n      <td>NaN</td>\n      <td>None</td>\n      <td>None</td>\n      <td>GRCh38</td>\n      <td>QDLPNAMNAAEITDKLGLHSLR</td>\n      <td>4054.5593</td>\n    </tr>\n    <tr>\n      <th>11</th>\n      <td>ETTFNSLLCPSGGEVSEELSLKLPPNVVEESAR</td>\n      <td>GCA_3619,GCA_135944</td>\n      <td>[913, 913]</td>\n      <td>[945, 945]</td>\n      <td>0.000503</td>\n      <td>0</td>\n      <td>9|Carbamidomethyl</td>\n      <td>5199.6940</td>\n      <td>3</td>\n      <td>1196.932739</td>\n      <td>...</td>\n      <td>01524_A01_P015424_S00_N01_R1</td>\n      <td>33504</td>\n      <td>None</td>\n      <td>None</td>\n      <td>NaN</td>\n      <td>None</td>\n      <td>None</td>\n      <td>GRCh38</td>\n      <td>ETTFNSLLCPSGGEVSEELSLKLPPNVVEESAR</td>\n      <td>5199.6940</td>\n    </tr>\n    <tr>\n      <th>12</th>\n      <td>LGIWGGNVALDNLQIK</td>\n      <td>GRCh38_62565,GCA_88022</td>\n      <td>[29, 29]</td>\n      <td>[44, 44]</td>\n      <td>0.000503</td>\n      <td>0</td>\n      <td></td>\n      <td>5091.0830</td>\n      <td>2</td>\n      <td>856.479858</td>\n      <td>...</td>\n      <td>01524_A01_P015424_S00_N01_R1</td>\n      <td>32388</td>\n      <td>None</td>\n      <td>None</td>\n      <td>NaN</td>\n      <td>None</td>\n      <td>None</td>\n      <td>GRCh38</td>\n      <td>LGIWGGNVALDNLQIK</td>\n      <td>5091.0830</td>\n    </tr>\n    <tr>\n      <th>13</th>\n      <td>FLLSDQSLLLLPEYHQR</td>\n      <td>GCA_235408</td>\n      <td>[1042]</td>\n      <td>[1058]</td>\n      <td>0.000503</td>\n      <td>1</td>\n      <td>6|Deamidated</td>\n      <td>5154.0034</td>\n      <td>3</td>\n      <td>691.713501</td>\n      <td>...</td>\n      <td>01524_A01_P015424_S00_N01_R1</td>\n      <td>33038</td>\n      <td>None</td>\n      <td>None</td>\n      <td>NaN</td>\n      <td>None</td>\n      <td>None</td>\n      <td>GRCh38</td>\n      <td>FLLSDQSLLLLPEYHQR</td>\n      <td>5154.0034</td>\n    </tr>\n    <tr>\n      <th>...</th>\n      <td>...</td>\n      <td>...</td>\n      <td>...</td>\n      <td>...</td>\n      <td>...</td>\n      <td>...</td>\n      <td>...</td>\n      <td>...</td>\n      <td>...</td>\n      <td>...</td>\n      <td>...</td>\n      <td>...</td>\n      <td>...</td>\n      <td>...</td>\n      <td>...</td>\n      <td>...</td>\n      <td>...</td>\n      <td>...</td>\n      <td>...</td>\n      <td>...</td>\n      <td>...</td>\n    </tr>\n    <tr>\n      <th>15587701</th>\n      <td>MENEFYEFALEQFQFIR</td>\n      <td>GRCh38_92499,GCA_35387</td>\n      <td>[312, 312]</td>\n      <td>[328, 328]</td>\n      <td>0.000503</td>\n      <td>0</td>\n      <td>1|Oxidation|3|12|Deamidated</td>\n      <td>6196.9000</td>\n      <td>2</td>\n      <td>1130.523010</td>\n      <td>...</td>\n      <td>01306_D05_P013385_S00_N36_R1</td>\n      <td>46251</td>\n      <td>None</td>\n      <td>None</td>\n      <td>NaN</td>\n      <td>None</td>\n      <td>None</td>\n      <td>GRCh38</td>\n      <td>MENEFYEFALEQFQFIR</td>\n      <td>6196.9000</td>\n    </tr>\n    <tr>\n      <th>15587737</th>\n      <td>YMDEDGEWWIAK</td>\n      <td>GRCh38_7423,GCA_50544</td>\n      <td>[39, 39]</td>\n      <td>[50, 50]</td>\n      <td>0.000503</td>\n      <td>0</td>\n      <td>2|Oxidation</td>\n      <td>3799.0000</td>\n      <td>2</td>\n      <td>779.831237</td>\n      <td>...</td>\n      <td>01306_D05_P013385_S00_N36_R1</td>\n      <td>24855</td>\n      <td>None</td>\n      <td>None</td>\n      <td>NaN</td>\n      <td>None</td>\n      <td>None</td>\n      <td>GRCh38</td>\n      <td>YMDEDGEWWIAK</td>\n      <td>3799.0000</td>\n    </tr>\n    <tr>\n      <th>15588175</th>\n      <td>LVNLYGLLHGLQAAVAQQDTLMEAR</td>\n      <td>GRCh38_93342,GCA_13456</td>\n      <td>[885, 885]</td>\n      <td>[909, 909]</td>\n      <td>0.000503</td>\n      <td>0</td>\n      <td>3|17|Deamidated|22|Oxidation</td>\n      <td>5950.1000</td>\n      <td>3</td>\n      <td>915.158569</td>\n      <td>...</td>\n      <td>01293_D05_P013196_S00_N36_R1</td>\n      <td>41152</td>\n      <td>None</td>\n      <td>None</td>\n      <td>NaN</td>\n      <td>None</td>\n      <td>None</td>\n      <td>GRCh38</td>\n      <td>LVNLYGLLHGLQAAVAQQDTLMEAR</td>\n      <td>5950.1000</td>\n    </tr>\n    <tr>\n      <th>15588726</th>\n      <td>DYYFDSYAHFGIHEEMLK</td>\n      <td>GRCh38_51203,GCA_64989</td>\n      <td>[33, 33]</td>\n      <td>[50, 50]</td>\n      <td>0.000503</td>\n      <td>0</td>\n      <td>16|Oxidation</td>\n      <td>3690.0000</td>\n      <td>3</td>\n      <td>761.337829</td>\n      <td>...</td>\n      <td>01293_D05_P013196_S00_N36_R1</td>\n      <td>23740</td>\n      <td>None</td>\n      <td>None</td>\n      <td>NaN</td>\n      <td>None</td>\n      <td>None</td>\n      <td>GRCh38</td>\n      <td>DYYFDSYAHFGIHEEMLK</td>\n      <td>3690.0000</td>\n    </tr>\n    <tr>\n      <th>15588952</th>\n      <td>WGVFDEYNEDQPFYR</td>\n      <td>GCA_211083</td>\n      <td>[162]</td>\n      <td>[176]</td>\n      <td>0.000503</td>\n      <td>1</td>\n      <td></td>\n      <td>4380.8000</td>\n      <td>2</td>\n      <td>983.429626</td>\n      <td>...</td>\n      <td>01293_D05_P013196_S00_N36_R1</td>\n      <td>29194</td>\n      <td>None</td>\n      <td>None</td>\n      <td>NaN</td>\n      <td>None</td>\n      <td>None</td>\n      <td>GRCh38</td>\n      <td>WGVFDEYNEDQPFYR</td>\n      <td>4380.8000</td>\n    </tr>\n  </tbody>\n</table>\n<p>612968 rows × 27 columns</p>\n</div>"
     },
     "execution_count": 68,
     "metadata": {},
     "output_type": "execute_result"
    }
   ],
   "source": [
    "# obtain three models for deeplc\n",
    "urllib.request.urlretrieve(\n",
    "    \"https://github.com/compomics/DeepLC/raw/master/deeplc/mods/full_hc_hela_hf_psms_aligned_1fd8363d9af9dcad3be7553c39396960.hdf5\",\n",
    "    \"full_hc_train_pxd001468_1fd8363d9af9dcad3be7553c39396960.hdf5\"\n",
    ")\n",
    "\n",
    "urllib.request.urlretrieve(\n",
    "    \"https://github.com/compomics/DeepLC/raw/master/deeplc/mods/full_hc_hela_hf_psms_aligned_8c22d89667368f2f02ad996469ba157e.hdf5\",\n",
    "    \"full_hc_train_pxd001468_8c22d89667368f2f02ad996469ba157e.hdf5\"\n",
    ")\n",
    "\n",
    "urllib.request.urlretrieve(\n",
    "    \"https://github.com/compomics/DeepLC/raw/master/deeplc/mods/full_hc_hela_hf_psms_aligned_cb975cfdd4105f97efa0b3afffe075cc.hdf5\",\n",
    "    \"full_hc_train_pxd001468_cb975cfdd4105f97efa0b3afffe075cc.hdf5\"\n",
    ")"
   ],
   "metadata": {
    "collapsed": false,
    "pycharm": {
     "name": "#%%\n"
    }
   }
  },
  {
   "cell_type": "markdown",
   "source": [
    "#### Transfer learning"
   ],
   "metadata": {
    "collapsed": false,
    "pycharm": {
     "name": "#%% md\n"
    }
   }
  },
  {
   "cell_type": "code",
   "execution_count": null,
   "outputs": [],
   "source": [
    "%%capture\n",
    "\n",
    "# The following code is not required in most cases, but here it is used to clear variables that might cause problems\n",
    "_ = tf.Variable([1])\n",
    "\n",
    "context._context = None\n",
    "context._create_context()\n",
    "\n",
    "tf.config.threading.set_inter_op_parallelism_threads(1)\n",
    "\n",
    "# For training new models we need to use a file, so write the train df to a file\n",
    "grch.to_csv(\"grch.csv\",index=False)\n",
    "df_train_file = \"grch.csv\"\n",
    "\n",
    "# Here we will apply transfer learning we specify previously trained models in the 'mods_transfer_learning'\n",
    "models = deeplcretrainer.retrain(\n",
    "    [df_train_file],\n",
    "    mods_transfer_learning=[\"full_hc_hela_hf_psms_aligned_1fd8363d9af9dcad3be7553c39396960.hdf5\",\n",
    "                            \"full_hc_hela_hf_psms_aligned_8c22d89667368f2f02ad996469ba157e.hdf5\",\"full_hc_hela_hf_psms_aligned_cb975cfdd4105f97efa0b3afffe075cc.hdf5\"],\n",
    "    freeze_layers=True,\n",
    "    n_epochs=10,\n",
    "    freeze_after_concat=1\n",
    ");\n",
    "\n",
    "# The following code is not required in most cases, but here it is used to clear variables that might cause problems\n",
    "_ = tf.Variable([1])\n",
    "\n",
    "context._context = None\n",
    "context._create_context()\n",
    "\n",
    "tf.config.threading.set_inter_op_parallelism_threads(1)\n",
    "\n",
    "# Make a DeepLC object with the models trained previously\n",
    "dlc = DeepLC(\n",
    "        path_model=models,\n",
    "        batch_num=1024000,\n",
    "        pygam_calibration=False\n",
    ")\n",
    "\n",
    "# Perform calibration, make predictions and calculate metrics\n",
    "dlc.calibrate_preds(seq_df=grch)\n",
    "preds_transflearn = dlc.make_preds(seq_df=gca)\n",
    "\n",
    "mae_transflearn = sum(abs(gca[\"tr\"]-preds_transflearn))/len(gca[\"tr\"].index)\n",
    "perc95_transflearn = np.percentile(abs(gca[\"tr\"]-preds_transflearn),95)*2\n",
    "cor_transflearn = pearsonr(gca[\"tr\"],preds_transflearn)[0]"
   ],
   "metadata": {
    "collapsed": false,
    "pycharm": {
     "name": "#%%\n"
    }
   }
  },
  {
   "cell_type": "code",
   "execution_count": null,
   "outputs": [],
   "source": [
    "gca['pred_rt'] = preds_transflearn"
   ],
   "metadata": {
    "collapsed": false,
    "pycharm": {
     "name": "#%%\n"
    }
   }
  },
  {
   "cell_type": "code",
   "execution_count": null,
   "outputs": [],
   "source": [
    "gca.to_csv('gca.tsv',sep='\\t', index=False)\n",
    "grch.to_csv('grch.tsv',sep='\\t', index=False)"
   ],
   "metadata": {
    "collapsed": false,
    "pycharm": {
     "name": "#%%\n"
    }
   }
  },
  {
   "cell_type": "markdown",
   "source": [],
   "metadata": {
    "collapsed": false,
    "pycharm": {
     "name": "#%% md\n"
    }
   }
  }
 ],
 "metadata": {
  "kernelspec": {
   "display_name": "Python 3 (ipykernel)",
   "language": "python",
   "name": "python3"
  },
  "language_info": {
   "codemirror_mode": {
    "name": "ipython",
    "version": 3
   },
   "file_extension": ".py",
   "mimetype": "text/x-python",
   "name": "python",
   "nbconvert_exporter": "python",
   "pygments_lexer": "ipython3",
   "version": "3.11.5"
  }
 },
 "nbformat": 4,
 "nbformat_minor": 5
}