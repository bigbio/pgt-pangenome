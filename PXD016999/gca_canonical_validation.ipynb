{
 "cells": [
  {
   "cell_type": "code",
   "execution_count": 1,
   "id": "683806bf",
   "metadata": {
    "pycharm": {
     "name": "#%%\n"
    }
   },
   "outputs": [],
   "source": [
    "import pyarrow.parquet as pq\n",
    "import pandas as pd\n",
    "import ahocorasick\n",
    "from Bio import SeqIO\n",
    "import seaborn as sns\n",
    "import matplotlib.pyplot as plt\n",
    "import re\n",
    "import datetime\n",
    "from tqdm import tqdm\n",
    "import warnings\n",
    "warnings.filterwarnings('ignore')\n",
    "tqdm.pandas()"
   ]
  },
  {
   "cell_type": "code",
   "execution_count": 2,
   "id": "03ccdb24",
   "metadata": {
    "pycharm": {
     "is_executing": true,
     "name": "#%%\n"
    }
   },
   "outputs": [],
   "source": [
    "parq_file = \"/home1/wangd/project/PXD016999/PXD016999-first-instrument-8b005cd8-d641-4d1e-a085-c92ed045b4da.psm.parquet\"\n",
    "table = pq.read_table(parq_file)\n",
    "original_df1 = table.to_pandas()\n",
    "\n",
    "parq_file = \"/home1/wangd/project/PXD016999/PXD016999-second-instrument-2739df94-8ceb-4033-a8d3-91adba121f3f.psm.parquet\"\n",
    "table = pq.read_table(parq_file)\n",
    "original_df2 = table.to_pandas()\n",
    "\n",
    "original_df = pd.concat([original_df1, original_df2], axis=0)"
   ]
  },
  {
   "cell_type": "code",
   "execution_count": 3,
   "id": "c8839a2a",
   "metadata": {
    "pycharm": {
     "is_executing": true,
     "name": "#%%\n"
    }
   },
   "outputs": [
    {
     "name": "stdout",
     "output_type": "stream",
     "text": [
      "Number of PSMs in the file =  7239144\n"
     ]
    }
   ],
   "source": [
    "print('Number of PSMs in the file = ', len(original_df))"
   ]
  },
  {
   "cell_type": "code",
   "execution_count": 4,
   "id": "0cc0923d-e240-4cd0-9a88-c76c71f331bc",
   "metadata": {
    "pycharm": {
     "is_executing": true,
     "name": "#%%\n"
    }
   },
   "outputs": [
    {
     "data": {
      "text/html": [
       "<div>\n",
       "<style scoped>\n",
       "    .dataframe tbody tr th:only-of-type {\n",
       "        vertical-align: middle;\n",
       "    }\n",
       "\n",
       "    .dataframe tbody tr th {\n",
       "        vertical-align: top;\n",
       "    }\n",
       "\n",
       "    .dataframe thead th {\n",
       "        text-align: right;\n",
       "    }\n",
       "</style>\n",
       "<table border=\"1\" class=\"dataframe\">\n",
       "  <thead>\n",
       "    <tr style=\"text-align: right;\">\n",
       "      <th></th>\n",
       "      <th>sequence</th>\n",
       "      <th>protein_accessions</th>\n",
       "      <th>protein_start_positions</th>\n",
       "      <th>protein_end_positions</th>\n",
       "      <th>protein_global_qvalue</th>\n",
       "      <th>unique</th>\n",
       "      <th>modifications</th>\n",
       "      <th>retention_time</th>\n",
       "      <th>charge</th>\n",
       "      <th>exp_mass_to_charge</th>\n",
       "      <th>...</th>\n",
       "      <th>is_decoy</th>\n",
       "      <th>id_scores</th>\n",
       "      <th>consensus_support</th>\n",
       "      <th>reference_file_name</th>\n",
       "      <th>scan_number</th>\n",
       "      <th>mz_array</th>\n",
       "      <th>intensity_array</th>\n",
       "      <th>num_peaks</th>\n",
       "      <th>gene_accessions</th>\n",
       "      <th>gene_names</th>\n",
       "    </tr>\n",
       "  </thead>\n",
       "  <tbody>\n",
       "    <tr>\n",
       "      <th>0</th>\n",
       "      <td>DSYVGDEAQSK</td>\n",
       "      <td>GCA_11383,GCA_11384,GCA_11385,GCA_215568,GCA_2...</td>\n",
       "      <td>[8, 53, 53, 51, 51, 51, 51, 53, 53, 52, 52, 52...</td>\n",
       "      <td>[18, 63, 63, 61, 61, 61, 61, 63, 63, 62, 62, 6...</td>\n",
       "      <td>NaN</td>\n",
       "      <td>0</td>\n",
       "      <td>[0|11-UNIMOD:737]</td>\n",
       "      <td>11.018846</td>\n",
       "      <td>3</td>\n",
       "      <td>552.953308</td>\n",
       "      <td>...</td>\n",
       "      <td>0</td>\n",
       "      <td>['OpenMS:Target-decoy PSM q-value':0.0, Best P...</td>\n",
       "      <td>1.0</td>\n",
       "      <td>Instrument1_sample01_121115_Fr03</td>\n",
       "      <td>37</td>\n",
       "      <td>None</td>\n",
       "      <td>None</td>\n",
       "      <td>NaN</td>\n",
       "      <td>None</td>\n",
       "      <td>None</td>\n",
       "    </tr>\n",
       "    <tr>\n",
       "      <th>1</th>\n",
       "      <td>QEYDEAGPSIVHR</td>\n",
       "      <td>GCA_11383,GCA_11384,GCA_11385,GCA_31297,GCA_42...</td>\n",
       "      <td>[317, 362, 336, 362, 362, 362, 362, 317, 362, ...</td>\n",
       "      <td>[329, 374, 348, 374, 374, 374, 374, 329, 374, ...</td>\n",
       "      <td>NaN</td>\n",
       "      <td>0</td>\n",
       "      <td>[0-UNIMOD:737]</td>\n",
       "      <td>15.146831</td>\n",
       "      <td>3</td>\n",
       "      <td>577.294373</td>\n",
       "      <td>...</td>\n",
       "      <td>0</td>\n",
       "      <td>['OpenMS:Target-decoy PSM q-value':0.0, Best P...</td>\n",
       "      <td>1.0</td>\n",
       "      <td>Instrument1_sample01_121115_Fr03</td>\n",
       "      <td>55</td>\n",
       "      <td>None</td>\n",
       "      <td>None</td>\n",
       "      <td>NaN</td>\n",
       "      <td>None</td>\n",
       "      <td>None</td>\n",
       "    </tr>\n",
       "    <tr>\n",
       "      <th>2</th>\n",
       "      <td>DSDMGSRPESMGCR</td>\n",
       "      <td>GCA_104542,GCA_104543,GCA_120051,GCA_124776,GC...</td>\n",
       "      <td>[1823, 279, 1823, 1823, 279, 1823, 279, 1, 182...</td>\n",
       "      <td>[1836, 292, 1836, 1836, 292, 1836, 292, 14, 18...</td>\n",
       "      <td>NaN</td>\n",
       "      <td>0</td>\n",
       "      <td>[0-UNIMOD:737, 4|11-UNIMOD:35, 13-UNIMOD:4]</td>\n",
       "      <td>264.042270</td>\n",
       "      <td>3</td>\n",
       "      <td>615.927490</td>\n",
       "      <td>...</td>\n",
       "      <td>0</td>\n",
       "      <td>['OpenMS:Target-decoy PSM q-value':0.002957931...</td>\n",
       "      <td>1.0</td>\n",
       "      <td>Instrument1_sample01_121115_Fr03</td>\n",
       "      <td>1145</td>\n",
       "      <td>None</td>\n",
       "      <td>None</td>\n",
       "      <td>NaN</td>\n",
       "      <td>None</td>\n",
       "      <td>None</td>\n",
       "    </tr>\n",
       "    <tr>\n",
       "      <th>3</th>\n",
       "      <td>SHEAQVQEMR</td>\n",
       "      <td>GCA_100434,GCA_100435,GCA_100436,GCA_100437,GC...</td>\n",
       "      <td>[1189, 1196, 1196, 1189, 1189, 1196, 1196, 118...</td>\n",
       "      <td>[1198, 1205, 1205, 1198, 1198, 1205, 1205, 119...</td>\n",
       "      <td>NaN</td>\n",
       "      <td>0</td>\n",
       "      <td>[0-UNIMOD:737, 9-UNIMOD:35]</td>\n",
       "      <td>272.818940</td>\n",
       "      <td>3</td>\n",
       "      <td>487.242310</td>\n",
       "      <td>...</td>\n",
       "      <td>0</td>\n",
       "      <td>['OpenMS:Target-decoy PSM q-value':0.0, Best P...</td>\n",
       "      <td>1.0</td>\n",
       "      <td>Instrument1_sample01_121115_Fr03</td>\n",
       "      <td>1192</td>\n",
       "      <td>None</td>\n",
       "      <td>None</td>\n",
       "      <td>NaN</td>\n",
       "      <td>None</td>\n",
       "      <td>None</td>\n",
       "    </tr>\n",
       "    <tr>\n",
       "      <th>4</th>\n",
       "      <td>VPENTMHAMQQK</td>\n",
       "      <td>GCA_116384,GCA_137052,GCA_137053,GCA_137054,GC...</td>\n",
       "      <td>[301, 301, 261, 301, 236, 236, 301, 301, 301, ...</td>\n",
       "      <td>[312, 312, 272, 312, 247, 247, 312, 312, 312, ...</td>\n",
       "      <td>NaN</td>\n",
       "      <td>0</td>\n",
       "      <td>[6|9-UNIMOD:35, 12-UNIMOD:737]</td>\n",
       "      <td>275.908330</td>\n",
       "      <td>3</td>\n",
       "      <td>558.940979</td>\n",
       "      <td>...</td>\n",
       "      <td>0</td>\n",
       "      <td>['OpenMS:Target-decoy PSM q-value':0.001260600...</td>\n",
       "      <td>1.0</td>\n",
       "      <td>Instrument1_sample01_121115_Fr03</td>\n",
       "      <td>1208</td>\n",
       "      <td>None</td>\n",
       "      <td>None</td>\n",
       "      <td>NaN</td>\n",
       "      <td>None</td>\n",
       "      <td>None</td>\n",
       "    </tr>\n",
       "    <tr>\n",
       "      <th>...</th>\n",
       "      <td>...</td>\n",
       "      <td>...</td>\n",
       "      <td>...</td>\n",
       "      <td>...</td>\n",
       "      <td>...</td>\n",
       "      <td>...</td>\n",
       "      <td>...</td>\n",
       "      <td>...</td>\n",
       "      <td>...</td>\n",
       "      <td>...</td>\n",
       "      <td>...</td>\n",
       "      <td>...</td>\n",
       "      <td>...</td>\n",
       "      <td>...</td>\n",
       "      <td>...</td>\n",
       "      <td>...</td>\n",
       "      <td>...</td>\n",
       "      <td>...</td>\n",
       "      <td>...</td>\n",
       "      <td>...</td>\n",
       "      <td>...</td>\n",
       "    </tr>\n",
       "    <tr>\n",
       "      <th>3708333</th>\n",
       "      <td>TCVADESAENCDK</td>\n",
       "      <td>CONTAMINANT_P02768-1,CONTAMINANT_sp|ALBU_HUMAN...</td>\n",
       "      <td>[76, 76, 76, 76, 78, 76, 76, 76, 76, 78, 76, 7...</td>\n",
       "      <td>[88, 88, 88, 88, 90, 88, 88, 88, 88, 90, 88, 8...</td>\n",
       "      <td>NaN</td>\n",
       "      <td>0</td>\n",
       "      <td>[0|13-UNIMOD:737, 2|11-UNIMOD:4]</td>\n",
       "      <td>10679.900000</td>\n",
       "      <td>3</td>\n",
       "      <td>652.972717</td>\n",
       "      <td>...</td>\n",
       "      <td>0</td>\n",
       "      <td>['OpenMS:Target-decoy PSM q-value':0.0, Best P...</td>\n",
       "      <td>1.0</td>\n",
       "      <td>SecondInstrument_Sample18_S2R20_040416_Fr02</td>\n",
       "      <td>67299</td>\n",
       "      <td>None</td>\n",
       "      <td>None</td>\n",
       "      <td>NaN</td>\n",
       "      <td>None</td>\n",
       "      <td>None</td>\n",
       "    </tr>\n",
       "    <tr>\n",
       "      <th>3708334</th>\n",
       "      <td>ETYGEMADCCAK</td>\n",
       "      <td>CONTAMINANT_P02768-1,CONTAMINANT_sp|ALBU_HUMAN...</td>\n",
       "      <td>[106, 106, 106, 106, 108, 106, 106, 106, 106, ...</td>\n",
       "      <td>[117, 117, 117, 117, 119, 117, 117, 117, 117, ...</td>\n",
       "      <td>NaN</td>\n",
       "      <td>0</td>\n",
       "      <td>[0|12-UNIMOD:737, 6-UNIMOD:35, 9|10-UNIMOD:4]</td>\n",
       "      <td>10705.300000</td>\n",
       "      <td>3</td>\n",
       "      <td>636.955932</td>\n",
       "      <td>...</td>\n",
       "      <td>0</td>\n",
       "      <td>['OpenMS:Target-decoy PSM q-value':0.0, Best P...</td>\n",
       "      <td>1.0</td>\n",
       "      <td>SecondInstrument_Sample18_S2R20_040416_Fr02</td>\n",
       "      <td>67435</td>\n",
       "      <td>None</td>\n",
       "      <td>None</td>\n",
       "      <td>NaN</td>\n",
       "      <td>None</td>\n",
       "      <td>None</td>\n",
       "    </tr>\n",
       "    <tr>\n",
       "      <th>3708335</th>\n",
       "      <td>TCVADESAENCDK</td>\n",
       "      <td>CONTAMINANT_P02768-1,CONTAMINANT_sp|ALBU_HUMAN...</td>\n",
       "      <td>[76, 76, 76, 76, 78, 76, 76, 76, 76, 78, 76, 7...</td>\n",
       "      <td>[88, 88, 88, 88, 90, 88, 88, 88, 88, 90, 88, 8...</td>\n",
       "      <td>NaN</td>\n",
       "      <td>0</td>\n",
       "      <td>[0|13-UNIMOD:737, 2|11-UNIMOD:4]</td>\n",
       "      <td>10760.000000</td>\n",
       "      <td>3</td>\n",
       "      <td>652.972961</td>\n",
       "      <td>...</td>\n",
       "      <td>0</td>\n",
       "      <td>['OpenMS:Target-decoy PSM q-value':0.0, Best P...</td>\n",
       "      <td>1.0</td>\n",
       "      <td>SecondInstrument_Sample18_S2R20_040416_Fr02</td>\n",
       "      <td>67731</td>\n",
       "      <td>None</td>\n",
       "      <td>None</td>\n",
       "      <td>NaN</td>\n",
       "      <td>None</td>\n",
       "      <td>None</td>\n",
       "    </tr>\n",
       "    <tr>\n",
       "      <th>3708336</th>\n",
       "      <td>TCVADESAENCDK</td>\n",
       "      <td>CONTAMINANT_P02768-1,CONTAMINANT_sp|ALBU_HUMAN...</td>\n",
       "      <td>[76, 76, 76, 76, 78, 76, 76, 76, 76, 78, 76, 7...</td>\n",
       "      <td>[88, 88, 88, 88, 90, 88, 88, 88, 88, 90, 88, 8...</td>\n",
       "      <td>NaN</td>\n",
       "      <td>0</td>\n",
       "      <td>[0|13-UNIMOD:737, 2|11-UNIMOD:4]</td>\n",
       "      <td>10760.900000</td>\n",
       "      <td>3</td>\n",
       "      <td>652.972533</td>\n",
       "      <td>...</td>\n",
       "      <td>0</td>\n",
       "      <td>['OpenMS:Target-decoy PSM q-value':0.0, Best P...</td>\n",
       "      <td>1.0</td>\n",
       "      <td>SecondInstrument_Sample18_S2R20_040416_Fr02</td>\n",
       "      <td>67735</td>\n",
       "      <td>None</td>\n",
       "      <td>None</td>\n",
       "      <td>NaN</td>\n",
       "      <td>None</td>\n",
       "      <td>None</td>\n",
       "    </tr>\n",
       "    <tr>\n",
       "      <th>3708337</th>\n",
       "      <td>GESGPSGPAGPTGAR</td>\n",
       "      <td>GCA_119756,GCA_143959,GCA_242553,GCA_51716,GRC...</td>\n",
       "      <td>[782, 782, 782, 782, 782]</td>\n",
       "      <td>[796, 796, 796, 796, 796]</td>\n",
       "      <td>NaN</td>\n",
       "      <td>0</td>\n",
       "      <td>[0-UNIMOD:737]</td>\n",
       "      <td>10774.700000</td>\n",
       "      <td>3</td>\n",
       "      <td>509.596587</td>\n",
       "      <td>...</td>\n",
       "      <td>0</td>\n",
       "      <td>['OpenMS:Target-decoy PSM q-value':0.007494004...</td>\n",
       "      <td>1.0</td>\n",
       "      <td>SecondInstrument_Sample18_S2R20_040416_Fr02</td>\n",
       "      <td>67809</td>\n",
       "      <td>None</td>\n",
       "      <td>None</td>\n",
       "      <td>NaN</td>\n",
       "      <td>None</td>\n",
       "      <td>None</td>\n",
       "    </tr>\n",
       "  </tbody>\n",
       "</table>\n",
       "<p>7239144 rows × 24 columns</p>\n",
       "</div>"
      ],
      "text/plain": [
       "                sequence                                 protein_accessions  \\\n",
       "0            DSYVGDEAQSK  GCA_11383,GCA_11384,GCA_11385,GCA_215568,GCA_2...   \n",
       "1          QEYDEAGPSIVHR  GCA_11383,GCA_11384,GCA_11385,GCA_31297,GCA_42...   \n",
       "2         DSDMGSRPESMGCR  GCA_104542,GCA_104543,GCA_120051,GCA_124776,GC...   \n",
       "3             SHEAQVQEMR  GCA_100434,GCA_100435,GCA_100436,GCA_100437,GC...   \n",
       "4           VPENTMHAMQQK  GCA_116384,GCA_137052,GCA_137053,GCA_137054,GC...   \n",
       "...                  ...                                                ...   \n",
       "3708333    TCVADESAENCDK  CONTAMINANT_P02768-1,CONTAMINANT_sp|ALBU_HUMAN...   \n",
       "3708334     ETYGEMADCCAK  CONTAMINANT_P02768-1,CONTAMINANT_sp|ALBU_HUMAN...   \n",
       "3708335    TCVADESAENCDK  CONTAMINANT_P02768-1,CONTAMINANT_sp|ALBU_HUMAN...   \n",
       "3708336    TCVADESAENCDK  CONTAMINANT_P02768-1,CONTAMINANT_sp|ALBU_HUMAN...   \n",
       "3708337  GESGPSGPAGPTGAR  GCA_119756,GCA_143959,GCA_242553,GCA_51716,GRC...   \n",
       "\n",
       "                                   protein_start_positions  \\\n",
       "0        [8, 53, 53, 51, 51, 51, 51, 53, 53, 52, 52, 52...   \n",
       "1        [317, 362, 336, 362, 362, 362, 362, 317, 362, ...   \n",
       "2        [1823, 279, 1823, 1823, 279, 1823, 279, 1, 182...   \n",
       "3        [1189, 1196, 1196, 1189, 1189, 1196, 1196, 118...   \n",
       "4        [301, 301, 261, 301, 236, 236, 301, 301, 301, ...   \n",
       "...                                                    ...   \n",
       "3708333  [76, 76, 76, 76, 78, 76, 76, 76, 76, 78, 76, 7...   \n",
       "3708334  [106, 106, 106, 106, 108, 106, 106, 106, 106, ...   \n",
       "3708335  [76, 76, 76, 76, 78, 76, 76, 76, 76, 78, 76, 7...   \n",
       "3708336  [76, 76, 76, 76, 78, 76, 76, 76, 76, 78, 76, 7...   \n",
       "3708337                          [782, 782, 782, 782, 782]   \n",
       "\n",
       "                                     protein_end_positions  \\\n",
       "0        [18, 63, 63, 61, 61, 61, 61, 63, 63, 62, 62, 6...   \n",
       "1        [329, 374, 348, 374, 374, 374, 374, 329, 374, ...   \n",
       "2        [1836, 292, 1836, 1836, 292, 1836, 292, 14, 18...   \n",
       "3        [1198, 1205, 1205, 1198, 1198, 1205, 1205, 119...   \n",
       "4        [312, 312, 272, 312, 247, 247, 312, 312, 312, ...   \n",
       "...                                                    ...   \n",
       "3708333  [88, 88, 88, 88, 90, 88, 88, 88, 88, 90, 88, 8...   \n",
       "3708334  [117, 117, 117, 117, 119, 117, 117, 117, 117, ...   \n",
       "3708335  [88, 88, 88, 88, 90, 88, 88, 88, 88, 90, 88, 8...   \n",
       "3708336  [88, 88, 88, 88, 90, 88, 88, 88, 88, 90, 88, 8...   \n",
       "3708337                          [796, 796, 796, 796, 796]   \n",
       "\n",
       "         protein_global_qvalue  unique  \\\n",
       "0                          NaN       0   \n",
       "1                          NaN       0   \n",
       "2                          NaN       0   \n",
       "3                          NaN       0   \n",
       "4                          NaN       0   \n",
       "...                        ...     ...   \n",
       "3708333                    NaN       0   \n",
       "3708334                    NaN       0   \n",
       "3708335                    NaN       0   \n",
       "3708336                    NaN       0   \n",
       "3708337                    NaN       0   \n",
       "\n",
       "                                         modifications  retention_time  \\\n",
       "0                                    [0|11-UNIMOD:737]       11.018846   \n",
       "1                                       [0-UNIMOD:737]       15.146831   \n",
       "2          [0-UNIMOD:737, 4|11-UNIMOD:35, 13-UNIMOD:4]      264.042270   \n",
       "3                          [0-UNIMOD:737, 9-UNIMOD:35]      272.818940   \n",
       "4                       [6|9-UNIMOD:35, 12-UNIMOD:737]      275.908330   \n",
       "...                                                ...             ...   \n",
       "3708333               [0|13-UNIMOD:737, 2|11-UNIMOD:4]    10679.900000   \n",
       "3708334  [0|12-UNIMOD:737, 6-UNIMOD:35, 9|10-UNIMOD:4]    10705.300000   \n",
       "3708335               [0|13-UNIMOD:737, 2|11-UNIMOD:4]    10760.000000   \n",
       "3708336               [0|13-UNIMOD:737, 2|11-UNIMOD:4]    10760.900000   \n",
       "3708337                                 [0-UNIMOD:737]    10774.700000   \n",
       "\n",
       "         charge  exp_mass_to_charge  ...  is_decoy  \\\n",
       "0             3          552.953308  ...         0   \n",
       "1             3          577.294373  ...         0   \n",
       "2             3          615.927490  ...         0   \n",
       "3             3          487.242310  ...         0   \n",
       "4             3          558.940979  ...         0   \n",
       "...         ...                 ...  ...       ...   \n",
       "3708333       3          652.972717  ...         0   \n",
       "3708334       3          636.955932  ...         0   \n",
       "3708335       3          652.972961  ...         0   \n",
       "3708336       3          652.972533  ...         0   \n",
       "3708337       3          509.596587  ...         0   \n",
       "\n",
       "                                                 id_scores  consensus_support  \\\n",
       "0        ['OpenMS:Target-decoy PSM q-value':0.0, Best P...                1.0   \n",
       "1        ['OpenMS:Target-decoy PSM q-value':0.0, Best P...                1.0   \n",
       "2        ['OpenMS:Target-decoy PSM q-value':0.002957931...                1.0   \n",
       "3        ['OpenMS:Target-decoy PSM q-value':0.0, Best P...                1.0   \n",
       "4        ['OpenMS:Target-decoy PSM q-value':0.001260600...                1.0   \n",
       "...                                                    ...                ...   \n",
       "3708333  ['OpenMS:Target-decoy PSM q-value':0.0, Best P...                1.0   \n",
       "3708334  ['OpenMS:Target-decoy PSM q-value':0.0, Best P...                1.0   \n",
       "3708335  ['OpenMS:Target-decoy PSM q-value':0.0, Best P...                1.0   \n",
       "3708336  ['OpenMS:Target-decoy PSM q-value':0.0, Best P...                1.0   \n",
       "3708337  ['OpenMS:Target-decoy PSM q-value':0.007494004...                1.0   \n",
       "\n",
       "                                 reference_file_name  scan_number mz_array  \\\n",
       "0                   Instrument1_sample01_121115_Fr03           37     None   \n",
       "1                   Instrument1_sample01_121115_Fr03           55     None   \n",
       "2                   Instrument1_sample01_121115_Fr03         1145     None   \n",
       "3                   Instrument1_sample01_121115_Fr03         1192     None   \n",
       "4                   Instrument1_sample01_121115_Fr03         1208     None   \n",
       "...                                              ...          ...      ...   \n",
       "3708333  SecondInstrument_Sample18_S2R20_040416_Fr02        67299     None   \n",
       "3708334  SecondInstrument_Sample18_S2R20_040416_Fr02        67435     None   \n",
       "3708335  SecondInstrument_Sample18_S2R20_040416_Fr02        67731     None   \n",
       "3708336  SecondInstrument_Sample18_S2R20_040416_Fr02        67735     None   \n",
       "3708337  SecondInstrument_Sample18_S2R20_040416_Fr02        67809     None   \n",
       "\n",
       "         intensity_array num_peaks gene_accessions gene_names  \n",
       "0                   None       NaN            None       None  \n",
       "1                   None       NaN            None       None  \n",
       "2                   None       NaN            None       None  \n",
       "3                   None       NaN            None       None  \n",
       "4                   None       NaN            None       None  \n",
       "...                  ...       ...             ...        ...  \n",
       "3708333             None       NaN            None       None  \n",
       "3708334             None       NaN            None       None  \n",
       "3708335             None       NaN            None       None  \n",
       "3708336             None       NaN            None       None  \n",
       "3708337             None       NaN            None       None  \n",
       "\n",
       "[7239144 rows x 24 columns]"
      ]
     },
     "execution_count": 4,
     "metadata": {},
     "output_type": "execute_result"
    }
   ],
   "source": [
    "#Convert array values in the accession to list\n",
    "def join_vals(x):\n",
    "    return ','.join(x.astype(str).tolist())\n",
    "\n",
    "original_df['protein_accessions'] = original_df['protein_accessions'].apply(join_vals)\n",
    "original_df"
   ]
  },
  {
   "cell_type": "markdown",
   "id": "80a9420a",
   "metadata": {
    "collapsed": false,
    "jupyter": {
     "outputs_hidden": false
    },
    "pycharm": {
     "name": "#%% md\n"
    }
   },
   "source": [
    "#### Blast GCA with canonical\n",
    "\n",
    "In this step, we need to take all the PSMs from the search and blast them against canonical databases including ENSEMBL protein database and Uniprot proteomes. This step is important because some non-canonical peptides may be identified in the GCA proteins but they also are found in reference databases. \n"
   ]
  },
  {
   "cell_type": "code",
   "execution_count": 5,
   "id": "44578bbd",
   "metadata": {
    "collapsed": false,
    "jupyter": {
     "outputs_hidden": false
    },
    "pycharm": {
     "is_executing": true,
     "name": "#%%\n"
    }
   },
   "outputs": [],
   "source": [
    "fa_set = set()\n",
    "for j in SeqIO.parse(\"/home1/wangd/project/can_db/Homo_sapiens.GRCh38.pep.all.fa\", \"fasta\"):\n",
    "    fa_set.add(str(j.seq))\n",
    "for j in SeqIO.parse(\"/home1/wangd/project/can_db/UP000005640_9606_additional.fasta\", \"fasta\"):\n",
    "    fa_set.add(str(j.seq))"
   ]
  },
  {
   "cell_type": "code",
   "execution_count": 6,
   "id": "7666883c",
   "metadata": {
    "collapsed": false,
    "jupyter": {
     "outputs_hidden": false
    },
    "pycharm": {
     "is_executing": true,
     "name": "#%%\n"
    }
   },
   "outputs": [],
   "source": [
    "def blast_with_canonical_fasta(peptide):\n",
    "    for fasta in fa_set:\n",
    "        if peptide in fasta:\n",
    "            return \"GRCh38\"\n",
    "    return \"GCA\""
   ]
  },
  {
   "cell_type": "code",
   "execution_count": 7,
   "id": "68b0cbe1",
   "metadata": {
    "collapsed": false,
    "jupyter": {
     "outputs_hidden": false
    },
    "pycharm": {
     "is_executing": true,
     "name": "#%%\n"
    }
   },
   "outputs": [
    {
     "name": "stdout",
     "output_type": "stream",
     "text": [
      "2024-04-13 12:42:25.703188\n"
     ]
    },
    {
     "name": "stderr",
     "output_type": "stream",
     "text": [
      "100%|██████████| 104157/104157 [00:04<00:00, 22944.27it/s]"
     ]
    },
    {
     "name": "stdout",
     "output_type": "stream",
     "text": [
      "End time : 2024-04-13 12:42:31.518435\n",
      "Time consumption : 0:00:05.815247\n",
      "GCA: 39545\n",
      "GRCh38: 245785\n"
     ]
    },
    {
     "name": "stderr",
     "output_type": "stream",
     "text": [
      "\n"
     ]
    }
   ],
   "source": [
    "start_time = datetime.datetime.now()\n",
    "print(start_time)\n",
    "\n",
    "seq_set = set(original_df[\"sequence\"].to_list())\n",
    "\n",
    "auto = ahocorasick.Automaton()\n",
    "seq_dict = dict()\n",
    "for seq_peptide in seq_set:\n",
    "    auto.add_word(seq_peptide, seq_peptide)\n",
    "    seq_dict[seq_peptide] = \"GCA\"\n",
    "\n",
    "auto.make_automaton()\n",
    "\n",
    "for protein_seq in tqdm(fa_set):\n",
    "    for end_ind, found in auto.iter(protein_seq):\n",
    "        seq_dict[found]= \"GRCh38\"\n",
    "\n",
    "end_time = datetime.datetime.now()\n",
    "print(\"End time :\", end_time)\n",
    "set_time_taken = end_time - start_time\n",
    "print(\"Time consumption :\", set_time_taken)\n",
    "\n",
    "print(\"GCA: {}\".format(sum(1 for v in seq_dict.values() if v == \"GCA\")))\n",
    "print(\"GRCh38: {}\".format(sum(1 for v in seq_dict.values() if v == \"GRCh38\")))"
   ]
  },
  {
   "cell_type": "code",
   "execution_count": 8,
   "id": "76ac0a28-213f-4fe6-9853-c7da5d3682ac",
   "metadata": {
    "pycharm": {
     "name": "#%%\n"
    }
   },
   "outputs": [],
   "source": [
    "#shorten accessions to save memory\n",
    "def get_source(accessions):\n",
    "    accessions = accessions.split(',')\n",
    "\n",
    "    for acc in accessions:\n",
    "        if acc.startswith('DECOY_CONTAMINANT'):\n",
    "            return 'DECOY_CONTAMINANT'\n",
    "    for acc in accessions:\n",
    "        if acc.startswith('CONTAMINANT'):\n",
    "            return 'CONTAMINANT'\n",
    "    \n",
    "    for acc in accessions:\n",
    "        if acc.startswith('DECOY_GRCh38'):\n",
    "            return 'DECOY_GRCh38'\n",
    "    \n",
    "    for acc in accessions:\n",
    "        if acc.startswith('DECOY_GCA'):\n",
    "            return 'DECOY_GCA'\n",
    "\n",
    "    for acc in accessions:\n",
    "        if acc.startswith('GRCh38'):\n",
    "            return 'GRCh38'\n",
    "    \n",
    "    for acc in accessions:\n",
    "        if acc.startswith('GCA'):\n",
    "            return 'GCA'\n",
    "    \n",
    "    return accessions"
   ]
  },
  {
   "cell_type": "code",
   "execution_count": 9,
   "id": "5711f6bf-204a-47b0-87df-20970e9865f0",
   "metadata": {
    "pycharm": {
     "name": "#%%\n"
    }
   },
   "outputs": [
    {
     "name": "stderr",
     "output_type": "stream",
     "text": [
      "100%|██████████| 7239144/7239144 [01:38<00:00, 73336.09it/s]\n"
     ]
    }
   ],
   "source": [
    "original_df['prot_source'] = original_df['protein_accessions'].progress_apply(get_source)"
   ]
  },
  {
   "cell_type": "code",
   "execution_count": 10,
   "id": "086e0e21",
   "metadata": {
    "collapsed": false,
    "jupyter": {
     "outputs_hidden": false
    },
    "pycharm": {
     "is_executing": true,
     "name": "#%%\n"
    }
   },
   "outputs": [
    {
     "name": "stderr",
     "output_type": "stream",
     "text": [
      "100%|██████████| 7239144/7239144 [00:55<00:00, 131395.16it/s]\n"
     ]
    }
   ],
   "source": [
    "original_df['prot_source'] = original_df.progress_apply(lambda x: seq_dict.get(x['sequence']) if x['prot_source'] == 'GCA' else x['prot_source'], axis=1)"
   ]
  },
  {
   "cell_type": "code",
   "execution_count": 11,
   "id": "b3dc6689",
   "metadata": {
    "collapsed": false,
    "jupyter": {
     "outputs_hidden": false
    },
    "pycharm": {
     "is_executing": true,
     "name": "#%%\n"
    }
   },
   "outputs": [
    {
     "data": {
      "text/plain": [
       "GRCh38               6629473\n",
       "CONTAMINANT           476829\n",
       "DECOY_GRCh38           69624\n",
       "GCA                    55569\n",
       "DECOY_GCA               6513\n",
       "DECOY_CONTAMINANT       1136\n",
       "Name: prot_source, dtype: int64"
      ]
     },
     "execution_count": 11,
     "metadata": {},
     "output_type": "execute_result"
    }
   ],
   "source": [
    "original_df['prot_source'].value_counts()"
   ]
  },
  {
   "cell_type": "code",
   "execution_count": 12,
   "id": "2a143556-e62f-49e1-a1e6-26b60b96d9c2",
   "metadata": {
    "pycharm": {
     "name": "#%%\n"
    }
   },
   "outputs": [
    {
     "data": {
      "text/plain": [
       "<matplotlib.legend.Legend at 0x7fb8167dba00>"
      ]
     },
     "execution_count": 12,
     "metadata": {},
     "output_type": "execute_result"
    },
    {
     "data": {
      "image/png": "[encoded data removed]",
      "text/plain": [
       "<Figure size 2000x1000 with 1 Axes>"
      ]
     },
     "metadata": {},
     "output_type": "display_data"
    }
   ],
   "source": [
    "df2 = original_df[original_df['posterior_error_probability']<0.01]\n",
    "\n",
    "gca = df2.loc[df2.prot_source.str.startswith(\"GCA\")==True]\n",
    "grch = df2.loc[df2.prot_source.str.startswith(\"GRCh38\")==True]\n",
    "decoy_grch = df2.loc[df2.prot_source.str.startswith(\"DECOY_GRCh38\")==True]\n",
    "decoy_gca = df2.loc[df2.prot_source.str.startswith(\"DECOY_GCA\")==True]\n",
    "\n",
    "#sns.df['posterior_error_probability']\n",
    "\n",
    "plt.figure(figsize=(20, 10))\n",
    "sns.distplot(gca['posterior_error_probability'], \n",
    "             hist=True, kde=True, label='GCA', color='blue')\n",
    "sns.distplot(grch['posterior_error_probability'], \n",
    "             hist=True, kde=True, label='GRCh38', color='green')\n",
    "sns.distplot(decoy_gca['posterior_error_probability'], \n",
    "             hist=True, kde=True, label='DECOY_GCA', color='red')\n",
    "sns.distplot(decoy_grch['posterior_error_probability'], \n",
    "             hist=True, kde=True, label='DECOY_GRCh38', color='yellow')\n",
    "\n",
    "plt.legend()"
   ]
  },
  {
   "cell_type": "code",
   "execution_count": 13,
   "id": "f16de313-de7a-402c-a93f-699f11aef13d",
   "metadata": {},
   "outputs": [
    {
     "data": {
      "image/png": "[encoded data removed]",
      "text/plain": [
       "<Figure size 1600x800 with 1 Axes>"
      ]
     },
     "metadata": {},
     "output_type": "display_data"
    }
   ],
   "source": [
    "plt.figure(figsize=(16, 8))\n",
    "\n",
    "sns.set_style(\"whitegrid\")\n",
    "\n",
    "sns.violinplot(\n",
    "    data=df2, x=\"prot_source\", y=\"posterior_error_probability\", fill=\"prot_source\",\n",
    "    width=.6, palette=\"vlag\"\n",
    ")\n",
    "\n",
    "count_data = df2[\"prot_source\"].value_counts()\n",
    "for idx, count in enumerate(count_data):\n",
    "    plt.text(idx, df2[\"posterior_error_probability\"].max() + 0.003, f'Count: {count}', \n",
    "             ha='center', va='bottom', fontsize=12) \n",
    "\n",
    "plt.xticks(rotation=0, fontsize=12)  \n",
    "plt.xlabel(\"prot_source\", fontsize=16)  \n",
    "plt.ylabel(\"posterior_error_probability\", fontsize=16)  \n",
    "plt.yticks(fontsize=14)  \n",
    "plt.tick_params(axis='both', which='both', labelsize=12) \n",
    "plt.grid(False) \n",
    "# plt.savefig(\"pep_violin_distributions.svg\", format=\"svg\")\n",
    "plt.show()"
   ]
  },
  {
   "cell_type": "code",
   "execution_count": 14,
   "id": "7660f38c-e9bb-4c64-adf9-0659ed5b06f6",
   "metadata": {
    "pycharm": {
     "name": "#%%\n"
    }
   },
   "outputs": [
    {
     "data": {
      "text/plain": [
       "GRCh38               5239261\n",
       "CONTAMINANT           370032\n",
       "GCA                    41227\n",
       "DECOY_GRCh38            5191\n",
       "DECOY_GCA                399\n",
       "DECOY_CONTAMINANT        255\n",
       "Name: prot_source, dtype: int64"
      ]
     },
     "execution_count": 14,
     "metadata": {},
     "output_type": "execute_result"
    }
   ],
   "source": [
    "original_df[original_df['posterior_error_probability']<0.01]['prot_source'].value_counts()"
   ]
  },
  {
   "cell_type": "code",
   "execution_count": 15,
   "id": "b151b59d-9049-4071-b2cc-a30f6e2c4c41",
   "metadata": {
    "pycharm": {
     "name": "#%%\n"
    }
   },
   "outputs": [
    {
     "name": "stdout",
     "output_type": "stream",
     "text": [
      "Number of unique peptide sequences from\n",
      " GCA: 2706\n",
      " canonical: 184690\n",
      "union 187396\n",
      "intesect 0\n"
     ]
    }
   ],
   "source": [
    "print('Number of unique peptide sequences from\\n GCA: {}\\n canonical: {}'.format(len(gca.sequence.unique()), len(grch.sequence.unique())))\n",
    "print('union', len(set(grch.sequence).union(set(gca.sequence))))\n",
    "print('intesect', len(set(grch.sequence).intersection(set(gca.sequence))))"
   ]
  },
  {
   "cell_type": "code",
   "execution_count": 16,
   "id": "d5151650-0110-4ad4-ac4d-1becbb3e4cd8",
   "metadata": {
    "pycharm": {
     "name": "#%%\n"
    }
   },
   "outputs": [
    {
     "data": {
      "text/plain": [
       "2706"
      ]
     },
     "execution_count": 16,
     "metadata": {},
     "output_type": "execute_result"
    }
   ],
   "source": [
    "def rep(x):\n",
    "    return re.sub('{[^}]*}', '', x.replace('(','{').replace(')', '}').replace('.',''))\n",
    "\n",
    "gca_seqs = list(set([rep(x) for x in gca['sequence'].tolist()]))\n",
    "\n",
    "len(gca_seqs)"
   ]
  },
  {
   "cell_type": "code",
   "execution_count": 17,
   "id": "378edf65",
   "metadata": {},
   "outputs": [
    {
     "data": {
      "text/plain": [
       "{'UNIMOD:1', 'UNIMOD:35', 'UNIMOD:4', 'UNIMOD:737'}"
      ]
     },
     "execution_count": 17,
     "metadata": {},
     "output_type": "execute_result"
    }
   ],
   "source": [
    "mods_df = gca['modifications'].apply(lambda x: x.tolist() if x is not None else \"\")\n",
    "\n",
    "mod_set = set()\n",
    "for mods in mods_df.to_list():\n",
    "    for mod in mods:\n",
    "        mod_set.add(mod.split(\"-\")[-1])\n",
    "        \n",
    "mod_set"
   ]
  },
  {
   "cell_type": "markdown",
   "id": "13d424af",
   "metadata": {
    "collapsed": false,
    "jupyter": {
     "outputs_hidden": false
    },
    "pycharm": {
     "name": "#%% md\n"
    }
   },
   "source": [
    "#### To DeepLC"
   ]
  },
  {
   "cell_type": "code",
   "execution_count": 18,
   "id": "7d1724c5-2811-4253-980c-028a4de93340",
   "metadata": {
    "pycharm": {
     "name": "#%%\n"
    }
   },
   "outputs": [],
   "source": [
    "mod_rep = {\"UNIMOD:4\":\"Carbamidomethyl\",\"UNIMOD:737\":\"TMT6plex\",\"UNIMOD:35\":\"Oxidation\",\"UNIMOD:1\":\"Acetyl\"}\n",
    "def replace_mod(x):\n",
    "    s = \"\"\n",
    "    for mod in x:\n",
    "        nums = mod.split(\"-\")[0]\n",
    "        m = mod.split(\"-\")[1]\n",
    "        for n in nums.split(\"|\"):\n",
    "            if s:\n",
    "                s += \"|\"\n",
    "            s += n + \"|\" + mod_rep.get(m)\n",
    "    return s\n",
    "\n",
    "# convert modifications and add the rt and sequence fields\n",
    "gca.loc[:,\"seq\"] = gca.apply(lambda x : x[\"sequence\"],axis = 1)\n",
    "gca.loc[:,\"modifications\"] = gca.apply(lambda x : replace_mod(x[\"modifications\"]) if x[\"modifications\"] is not None else \"\", axis = 1)\n",
    "gca.loc[:,\"tr\"] = gca.apply(lambda x : x[\"retention_time\"],axis = 1)\n",
    "\n",
    "grch.loc[:,\"seq\"] = grch.apply(lambda x : x[\"sequence\"],axis = 1)\n",
    "grch.loc[:,\"modifications\"] = grch.apply(lambda x : replace_mod(x[\"modifications\"]) if x[\"modifications\"] is not None else \"\", axis = 1)\n",
    "grch.loc[:,\"tr\"] = grch.apply(lambda x : x[\"retention_time\"],axis = 1)"
   ]
  },
  {
   "cell_type": "code",
   "execution_count": 19,
   "id": "d457814c-549d-4e8f-b4ae-88f0fc323c46",
   "metadata": {},
   "outputs": [],
   "source": [
    "# grch[['sequence','modifications','retention_time']].to_csv('all_grch_peptides_for_deeplc.csv', index=False)"
   ]
  },
  {
   "cell_type": "markdown",
   "id": "421f1365-c9f6-4e16-8496-7766b607d30e",
   "metadata": {},
   "source": [
    "#### Redundancy removal"
   ]
  },
  {
   "cell_type": "code",
   "execution_count": 20,
   "id": "cb503efc",
   "metadata": {
    "collapsed": false,
    "jupyter": {
     "outputs_hidden": false
    },
    "pycharm": {
     "name": "#%%\n"
    }
   },
   "outputs": [],
   "source": [
    "def extract_keys_values(id_scores):\n",
    "    # Split each pair by colon and create a dictionary\n",
    "    key_value_dict = {}\n",
    "    for kv in id_scores:\n",
    "       if kv is None:\n",
    "          print(\"The score is None\")\n",
    "       else:\n",
    "          score_string = kv.split(\":\")\n",
    "          if len(score_string) == 2:\n",
    "            key_value_dict[score_string[0]] = score_string[1]\n",
    "          elif len(score_string) > 2:\n",
    "            key_value_dict[\":\".join(score_string[:-1])] = score_string[-1]\n",
    "          else:\n",
    "            print.warning(\"The score is not in the right format score: value\")\n",
    "    return pd.Series(key_value_dict)  "
   ]
  },
  {
   "cell_type": "code",
   "execution_count": 21,
   "id": "f4b77dc5-c7b1-4c93-8aaa-0a1b28f8a968",
   "metadata": {
    "pycharm": {
     "name": "#%%\n"
    }
   },
   "outputs": [
    {
     "name": "stderr",
     "output_type": "stream",
     "text": [
      "100%|██████████| 5239261/5239261 [20:14<00:00, 4312.51it/s]  \n"
     ]
    }
   ],
   "source": [
    "new_columns = grch.progress_apply(lambda x: extract_keys_values(x[\"id_scores\"]), axis=1)\n",
    "\n",
    "# Concatenate the new columns with the original DataFrame\n",
    "grch_deeplc = pd.concat([grch[['seq', 'tr', 'modifications', 'reference_file_name','sequence','protein_accessions','charge','scan_number','peptidoform']], new_columns], axis=1)"
   ]
  },
  {
   "cell_type": "code",
   "execution_count": 22,
   "id": "f4c3eb04-5644-4ec1-9a43-77d559214dc7",
   "metadata": {},
   "outputs": [],
   "source": [
    "grch_deeplc[\"Best PSM PEP\"] = grch_deeplc[\"Best PSM PEP\"].astype(float)\n",
    "grch_deeplc.sort_values(\"Best PSM PEP\", inplace=True)"
   ]
  },
  {
   "cell_type": "code",
   "execution_count": 23,
   "id": "e9b4fc6f-c5fd-41f8-8036-35b73d813c89",
   "metadata": {
    "pycharm": {
     "name": "#%%\n"
    }
   },
   "outputs": [
    {
     "name": "stderr",
     "output_type": "stream",
     "text": [
      "100%|██████████| 41227/41227 [00:08<00:00, 4635.32it/s]\n"
     ]
    }
   ],
   "source": [
    "new_columns = gca.progress_apply(lambda x: extract_keys_values(x[\"id_scores\"]), axis=1)\n",
    "\n",
    "# Concatenate the new columns with the original DataFrame\n",
    "gca_deeplc = pd.concat([gca[['seq', 'tr', 'modifications', 'reference_file_name','sequence','protein_accessions','charge','scan_number','peptidoform']], new_columns], axis=1)"
   ]
  },
  {
   "cell_type": "code",
   "execution_count": 24,
   "id": "d8b31d25-168f-43cd-973e-93c55612e553",
   "metadata": {},
   "outputs": [],
   "source": [
    "gca_deeplc[\"Best PSM PEP\"] = gca_deeplc[\"Best PSM PEP\"].astype(float)\n",
    "gca_deeplc.sort_values(\"Best PSM PEP\", inplace=True)"
   ]
  },
  {
   "cell_type": "code",
   "execution_count": 25,
   "id": "47433220-89c9-4514-8cf5-16e0a7660b96",
   "metadata": {},
   "outputs": [],
   "source": [
    "grch_deeplc = grch_deeplc.drop_duplicates([\"seq\", \"modifications\"], keep=\"first\")\n",
    "gca_deeplc = gca_deeplc.drop_duplicates([\"seq\", \"modifications\"], keep=\"first\")"
   ]
  },
  {
   "cell_type": "code",
   "execution_count": 26,
   "id": "1c24f19b-96a9-4c63-981b-68365562654e",
   "metadata": {},
   "outputs": [],
   "source": [
    "grch_deeplc = grch_deeplc[['seq', 'tr', 'modifications']]"
   ]
  },
  {
   "cell_type": "markdown",
   "id": "660445f8-0fb7-4666-b72c-bbbe4ca22d9b",
   "metadata": {},
   "source": [
    "#### PeptideAtlas"
   ]
  },
  {
   "cell_type": "code",
   "execution_count": 27,
   "id": "e24ed490-7ab9-4f87-8a40-4e03cbaaa427",
   "metadata": {},
   "outputs": [],
   "source": [
    "column_names = ['PeptideAccession', 'observations', 'best score', 'peptide sequence','']\n",
    "PeptideAtlas = pd.read_table(\"/home1/wangd/project/can_db/PeptideAtlasInput_concat.PAidentlist.peptideSummary\",header=None,names=column_names)"
   ]
  },
  {
   "cell_type": "code",
   "execution_count": 28,
   "id": "64a33da2-cd13-403f-a9b0-09e98b106c9d",
   "metadata": {},
   "outputs": [],
   "source": [
    "PeptideAtlas_dict = dict(zip(PeptideAtlas['peptide sequence'], PeptideAtlas['observations']))"
   ]
  },
  {
   "cell_type": "code",
   "execution_count": 29,
   "id": "b97d6ddb-38a0-4501-959a-21e55b080f45",
   "metadata": {},
   "outputs": [],
   "source": [
    "def getPeptideAtlasObservations(seq):\n",
    "    if PeptideAtlas_dict.get(seq):\n",
    "        return PeptideAtlas_dict.get(seq)\n",
    "    else:\n",
    "        return 0"
   ]
  },
  {
   "cell_type": "code",
   "execution_count": 30,
   "id": "af09f710-2fc7-44ea-94e1-b352da096979",
   "metadata": {},
   "outputs": [],
   "source": [
    "gca_deeplc['PeptideAtlas_observations'] = gca_deeplc['sequence'].apply(getPeptideAtlasObservations)"
   ]
  },
  {
   "cell_type": "markdown",
   "id": "5123b7af-02a5-45dd-84ae-a1fa06103373",
   "metadata": {},
   "source": [
    "#### Final save"
   ]
  },
  {
   "cell_type": "code",
   "execution_count": 31,
   "id": "be57159c-cd98-4efa-9bec-44b781bf769f",
   "metadata": {
    "pycharm": {
     "name": "#%%\n"
    }
   },
   "outputs": [],
   "source": [
    "gca_deeplc.to_csv('gca_peptides_for_deeplc.csv', index=False)\n",
    "grch_deeplc.to_csv('grch_peptides_for_deeplc.csv', index=False)"
   ]
  }
 ],
 "metadata": {
  "kernelspec": {
   "display_name": "Python 3 (ipykernel)",
   "language": "python",
   "name": "python3"
  },
  "language_info": {
   "codemirror_mode": {
    "name": "ipython",
    "version": 3
   },
   "file_extension": ".py",
   "mimetype": "text/x-python",
   "name": "python",
   "nbconvert_exporter": "python",
   "pygments_lexer": "ipython3",
   "version": "3.10.13"
  }
 },
 "nbformat": 4,
 "nbformat_minor": 5
}
