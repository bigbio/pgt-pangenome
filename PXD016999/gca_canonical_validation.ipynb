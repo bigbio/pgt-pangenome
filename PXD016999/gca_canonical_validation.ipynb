{
 "cells": [
  {
   "cell_type": "code",
   "execution_count": 16,
   "id": "683806bf",
   "metadata": {
    "pycharm": {
     "name": "#%%\n"
    }
   },
   "outputs": [],
   "source": [
    "import pyarrow.parquet as pq\n",
    "import pandas as pd\n",
    "import ahocorasick\n",
    "from Bio import SeqIO\n",
    "import seaborn as sns\n",
    "import matplotlib.pyplot as plt\n",
    "import re\n",
    "import datetime\n",
    "from tqdm import tqdm\n",
    "import warnings\n",
    "warnings.filterwarnings('ignore')\n",
    "tqdm.pandas()"
   ]
  },
  {
   "cell_type": "code",
   "execution_count": 17,
   "id": "03ccdb24",
   "metadata": {
    "pycharm": {
     "is_executing": true,
     "name": "#%%\n"
    }
   },
   "outputs": [],
   "source": [
    "import wget\n",
    "import os\n",
    "\n",
    "parq_file = \"PXD016999-first-instrument-8b005cd8-d641-4d1e-a085-c92ed045b4da.psm.parquet\"\n",
    "\n",
    "if not os.path.isfile(parq_file):\n",
    "   wget.download(\"http://ftp.pride.ebi.ac.uk/pub/databases/pride/resources/proteomes/proteogenomics/noncanonical-tissues-2023/\" + parq_file)\n",
    "table = pq.read_table(parq_file)\n",
    "original_df1 = table.to_pandas()\n",
    "\n",
    "parq_file = \"PXD016999-second-instrument-2739df94-8ceb-4033-a8d3-91adba121f3f.psm.parquet\"\n",
    "if not os.path.isfile(parq_file):\n",
    "   wget.download(\"http://ftp.pride.ebi.ac.uk/pub/databases/pride/resources/proteomes/proteogenomics/noncanonical-tissues-2023/\" + parq_file)\n",
    "\n",
    "table = pq.read_table(parq_file)\n",
    "original_df2 = table.to_pandas()\n",
    "\n",
    "original_df = pd.concat([original_df1, original_df2], axis=0)"
   ]
  },
  {
   "cell_type": "code",
   "execution_count": 18,
   "id": "c8839a2a",
   "metadata": {
    "pycharm": {
     "is_executing": true,
     "name": "#%%\n"
    }
   },
   "outputs": [
    {
     "name": "stdout",
     "output_type": "stream",
     "text": [
      "Number of PSMs in the file =  7239144\n"
     ]
    }
   ],
   "source": [
    "print('Number of PSMs in the file = ', len(original_df))"
   ]
  },
  {
   "cell_type": "code",
   "execution_count": 19,
   "id": "0cc0923d-e240-4cd0-9a88-c76c71f331bc",
   "metadata": {
    "pycharm": {
     "is_executing": true,
     "name": "#%%\n"
    }
   },
   "outputs": [
    {
     "data": {
      "text/plain": [
       "Index(['sequence', 'protein_accessions', 'protein_start_positions',\n",
       "       'protein_end_positions', 'protein_global_qvalue', 'unique',\n",
       "       'modifications', 'retention_time', 'charge', 'exp_mass_to_charge',\n",
       "       'calc_mass_to_charge', 'peptidoform', 'posterior_error_probability',\n",
       "       'global_qvalue', 'is_decoy', 'id_scores', 'consensus_support',\n",
       "       'reference_file_name', 'scan_number', 'mz_array', 'intensity_array',\n",
       "       'num_peaks', 'gene_accessions', 'gene_names'],\n",
       "      dtype='object')"
      ]
     },
     "execution_count": 19,
     "metadata": {},
     "output_type": "execute_result"
    }
   ],
   "source": [
    "#Convert array values in the accession to list\n",
    "def join_vals(x):\n",
    "    return ','.join(x.astype(str).tolist())\n",
    "\n",
    "original_df['protein_accessions'] = original_df['protein_accessions'].apply(join_vals)\n",
    "original_df\n",
    "original_df.columns"
   ]
  },
  {
   "cell_type": "markdown",
   "id": "80a9420a",
   "metadata": {
    "jupyter": {
     "outputs_hidden": false
    },
    "pycharm": {
     "name": "#%% md\n"
    }
   },
   "source": [
    "#### Blast GCA with canonical\n",
    "\n",
    "In this step, we need to take all the PSMs from the search and blast them against canonical databases including ENSEMBL protein database and Uniprot proteomes. This step is important because some non-canonical peptides may be identified in the GCA proteins but they also are found in reference databases. \n"
   ]
  },
  {
   "cell_type": "code",
   "execution_count": 20,
   "id": "259c5622",
   "metadata": {},
   "outputs": [],
   "source": [
    "#Download the reference databases.\n",
    "import gzip, shutil\n",
    "\n",
    "ensembl_db = \"https://ftp.ensembl.org/pub/release-110/fasta/homo_sapiens/pep/Homo_sapiens.GRCh38.pep.all.fa.gz\"\n",
    "if not os.path.isfile(\"Homo_sapiens.GRCh38.pep.all.fa\"):\n",
    "   wget.download(ensembl_db)\n",
    "   with gzip.open(\"Homo_sapiens.GRCh38.pep.all.fa.gz\", 'r') as f_in, open('Homo_sapiens.GRCh38.pep.all.fa', 'wb') as f_out:\n",
    "      shutil.copyfileobj(f_in, f_out)\n",
    "\n",
    "uniprot_db = \"https://ftp.uniprot.org/pub/databases/uniprot/knowledgebase/reference_proteomes/Eukaryota/UP000005640/UP000005640_9606_additional.fasta.gz\"\n",
    "if not os.path.isfile(\"UP000005640_9606_additional.fasta\"):\n",
    "   wget.download(uniprot_db)\n",
    "   with gzip.open(\"UP000005640_9606_additional.fasta.gz\", 'r') as f_in, open('UP000005640_9606_additional.fasta', 'wb') as f_out:\n",
    "      shutil.copyfileobj(f_in, f_out)\n"
   ]
  },
  {
   "cell_type": "code",
   "execution_count": 21,
   "id": "44578bbd",
   "metadata": {
    "jupyter": {
     "outputs_hidden": false
    },
    "pycharm": {
     "is_executing": true,
     "name": "#%%\n"
    }
   },
   "outputs": [],
   "source": [
    "fa_set = set()\n",
    "for j in SeqIO.parse(\"Homo_sapiens.GRCh38.pep.all.fa\", \"fasta\"):\n",
    "    fa_set.add(str(j.seq))\n",
    "for j in SeqIO.parse(\"UP000005640_9606_additional.fasta\", \"fasta\"):\n",
    "    fa_set.add(str(j.seq))"
   ]
  },
  {
   "cell_type": "code",
   "execution_count": 22,
   "id": "7666883c",
   "metadata": {
    "jupyter": {
     "outputs_hidden": false
    },
    "pycharm": {
     "is_executing": true,
     "name": "#%%\n"
    }
   },
   "outputs": [],
   "source": [
    "def blast_with_canonical_fasta(peptide):\n",
    "    for fasta in fa_set:\n",
    "        if peptide in fasta:\n",
    "            return \"GRCh38\"\n",
    "    return \"GCA\""
   ]
  },
  {
   "cell_type": "code",
   "execution_count": 23,
   "id": "68b0cbe1",
   "metadata": {
    "jupyter": {
     "outputs_hidden": false
    },
    "pycharm": {
     "is_executing": true,
     "name": "#%%\n"
    }
   },
   "outputs": [
    {
     "name": "stdout",
     "output_type": "stream",
     "text": [
      "2024-04-22 09:26:23.265205\n"
     ]
    },
    {
     "name": "stderr",
     "output_type": "stream",
     "text": [
      "100%|██████████| 103747/103747 [00:05<00:00, 20613.18it/s]\n"
     ]
    },
    {
     "name": "stdout",
     "output_type": "stream",
     "text": [
      "End time : 2024-04-22 09:26:30.573214\n",
      "Time consumption : 0:00:07.308009\n",
      "GCA: 39557\n",
      "GRCh38: 245773\n"
     ]
    }
   ],
   "source": [
    "start_time = datetime.datetime.now()\n",
    "print(start_time)\n",
    "\n",
    "seq_set = set(original_df[\"sequence\"].to_list())\n",
    "\n",
    "auto = ahocorasick.Automaton()\n",
    "seq_dict = dict()\n",
    "for seq_peptide in seq_set:\n",
    "    auto.add_word(seq_peptide, seq_peptide)\n",
    "    seq_dict[seq_peptide] = \"GCA\"\n",
    "\n",
    "auto.make_automaton()\n",
    "\n",
    "for protein_seq in tqdm(fa_set):\n",
    "    for end_ind, found in auto.iter(protein_seq):\n",
    "        seq_dict[found]= \"GRCh38\"\n",
    "\n",
    "end_time = datetime.datetime.now()\n",
    "print(\"End time :\", end_time)\n",
    "set_time_taken = end_time - start_time\n",
    "print(\"Time consumption :\", set_time_taken)\n",
    "\n",
    "print(\"GCA: {}\".format(sum(1 for v in seq_dict.values() if v == \"GCA\")))\n",
    "print(\"GRCh38: {}\".format(sum(1 for v in seq_dict.values() if v == \"GRCh38\")))"
   ]
  },
  {
   "cell_type": "code",
   "execution_count": 24,
   "id": "76ac0a28-213f-4fe6-9853-c7da5d3682ac",
   "metadata": {
    "pycharm": {
     "name": "#%%\n"
    }
   },
   "outputs": [],
   "source": [
    "#shorten accessions to save memory\n",
    "def get_source(accessions):\n",
    "    accessions = accessions.split(',')\n",
    "\n",
    "    for acc in accessions:\n",
    "        if acc.startswith('DECOY_CONTAMINANT'):\n",
    "            return 'DECOY_CONTAMINANT'\n",
    "    for acc in accessions:\n",
    "        if acc.startswith('CONTAMINANT'):\n",
    "            return 'CONTAMINANT'\n",
    "    \n",
    "    for acc in accessions:\n",
    "        if acc.startswith('DECOY_GRCh38'):\n",
    "            return 'DECOY_GRCh38'\n",
    "    \n",
    "    for acc in accessions:\n",
    "        if acc.startswith('DECOY_GCA'):\n",
    "            return 'DECOY_GCA'\n",
    "\n",
    "    for acc in accessions:\n",
    "        if acc.startswith('GRCh38'):\n",
    "            return 'GRCh38'\n",
    "    \n",
    "    for acc in accessions:\n",
    "        if acc.startswith('GCA'):\n",
    "            return 'GCA'\n",
    "    \n",
    "    return accessions"
   ]
  },
  {
   "cell_type": "code",
   "execution_count": 25,
   "id": "5711f6bf-204a-47b0-87df-20970e9865f0",
   "metadata": {
    "pycharm": {
     "name": "#%%\n"
    }
   },
   "outputs": [
    {
     "name": "stderr",
     "output_type": "stream",
     "text": [
      "100%|██████████| 7239144/7239144 [02:08<00:00, 56149.92it/s]\n"
     ]
    }
   ],
   "source": [
    "original_df['prot_source'] = original_df['protein_accessions'].progress_apply(get_source)"
   ]
  },
  {
   "cell_type": "code",
   "execution_count": 26,
   "id": "086e0e21",
   "metadata": {
    "jupyter": {
     "outputs_hidden": false
    },
    "pycharm": {
     "is_executing": true,
     "name": "#%%\n"
    }
   },
   "outputs": [
    {
     "name": "stderr",
     "output_type": "stream",
     "text": [
      "100%|██████████| 7239144/7239144 [01:45<00:00, 68369.59it/s] \n"
     ]
    }
   ],
   "source": [
    "original_df['prot_source'] = original_df.progress_apply(lambda x: seq_dict.get(x['sequence']) if x['prot_source'] == 'GCA' else x['prot_source'], axis=1)"
   ]
  },
  {
   "cell_type": "code",
   "execution_count": 27,
   "id": "b3dc6689",
   "metadata": {
    "jupyter": {
     "outputs_hidden": false
    },
    "pycharm": {
     "is_executing": true,
     "name": "#%%\n"
    }
   },
   "outputs": [
    {
     "data": {
      "text/plain": [
       "GRCh38               6629454\n",
       "CONTAMINANT           476829\n",
       "DECOY_GRCh38           69624\n",
       "GCA                    55588\n",
       "DECOY_GCA               6513\n",
       "DECOY_CONTAMINANT       1136\n",
       "Name: prot_source, dtype: int64"
      ]
     },
     "execution_count": 27,
     "metadata": {},
     "output_type": "execute_result"
    }
   ],
   "source": [
    "original_df['prot_source'].value_counts()"
   ]
  },
  {
   "cell_type": "code",
   "execution_count": 28,
   "id": "2a143556-e62f-49e1-a1e6-26b60b96d9c2",
   "metadata": {
    "pycharm": {
     "name": "#%%\n"
    }
   },
   "outputs": [
    {
     "data": {
      "text/plain": [
       "<matplotlib.legend.Legend at 0x7fbe610f3310>"
      ]
     },
     "execution_count": 28,
     "metadata": {},
     "output_type": "execute_result"
    },
    {
     "data": {
      "image/png": "[encoded data removed]",
      "text/plain": [
       "<Figure size 1440x720 with 1 Axes>"
      ]
     },
     "metadata": {},
     "output_type": "display_data"
    }
   ],
   "source": [
    "df2 = original_df[original_df['posterior_error_probability']<0.01]\n",
    "\n",
    "gca = df2.loc[df2.prot_source.str.startswith(\"GCA\")==True]\n",
    "grch = df2.loc[df2.prot_source.str.startswith(\"GRCh38\")==True]\n",
    "decoy_grch = df2.loc[df2.prot_source.str.startswith(\"DECOY_GRCh38\")==True]\n",
    "decoy_gca = df2.loc[df2.prot_source.str.startswith(\"DECOY_GCA\")==True]\n",
    "\n",
    "#sns.df['posterior_error_probability']\n",
    "\n",
    "plt.figure(figsize=(20, 10))\n",
    "sns.distplot(gca['posterior_error_probability'], \n",
    "             hist=True, kde=True, label='GCA', color='blue')\n",
    "sns.distplot(grch['posterior_error_probability'], \n",
    "             hist=True, kde=True, label='GRCh38', color='green')\n",
    "sns.distplot(decoy_gca['posterior_error_probability'], \n",
    "             hist=True, kde=True, label='DECOY_GCA', color='red')\n",
    "sns.distplot(decoy_grch['posterior_error_probability'], \n",
    "             hist=True, kde=True, label='DECOY_GRCh38', color='yellow')\n",
    "\n",
    "plt.legend()"
   ]
  },
  {
   "cell_type": "code",
   "execution_count": 29,
   "id": "f16de313-de7a-402c-a93f-699f11aef13d",
   "metadata": {},
   "outputs": [
    {
     "data": {
      "image/png": "[encoded data removed]",
      "text/plain": [
       "<Figure size 1152x576 with 1 Axes>"
      ]
     },
     "metadata": {},
     "output_type": "display_data"
    }
   ],
   "source": [
    "plt.figure(figsize=(16, 8))\n",
    "\n",
    "sns.set_style(\"whitegrid\")\n",
    "\n",
    "sns.violinplot(\n",
    "    data=df2, x=\"prot_source\", y=\"posterior_error_probability\", fill=\"prot_source\",\n",
    "    width=.6, palette=\"vlag\"\n",
    ")\n",
    "\n",
    "count_data = df2[\"prot_source\"].value_counts()\n",
    "for idx, count in enumerate(count_data):\n",
    "    plt.text(idx, df2[\"posterior_error_probability\"].max() + 0.003, f'Count: {count}', \n",
    "             ha='center', va='bottom', fontsize=12) \n",
    "\n",
    "plt.xticks(rotation=0, fontsize=12)  \n",
    "plt.xlabel(\"prot_source\", fontsize=16)  \n",
    "plt.ylabel(\"posterior_error_probability\", fontsize=16)  \n",
    "plt.yticks(fontsize=14)  \n",
    "plt.tick_params(axis='both', which='both', labelsize=12) \n",
    "plt.grid(False) \n",
    "plt.savefig(\"plots/quantms-scores-plots/pep_violin_distributions.svg\", format=\"svg\")\n",
    "plt.show()"
   ]
  },
  {
   "cell_type": "code",
   "execution_count": 30,
   "id": "7660f38c-e9bb-4c64-adf9-0659ed5b06f6",
   "metadata": {
    "pycharm": {
     "name": "#%%\n"
    }
   },
   "outputs": [
    {
     "data": {
      "text/plain": [
       "GRCh38               5239256\n",
       "CONTAMINANT           370032\n",
       "GCA                    41232\n",
       "DECOY_GRCh38            5191\n",
       "DECOY_GCA                399\n",
       "DECOY_CONTAMINANT        255\n",
       "Name: prot_source, dtype: int64"
      ]
     },
     "execution_count": 30,
     "metadata": {},
     "output_type": "execute_result"
    }
   ],
   "source": [
    "original_df[original_df['posterior_error_probability']<0.01]['prot_source'].value_counts()"
   ]
  },
  {
   "cell_type": "code",
   "execution_count": 31,
   "id": "b151b59d-9049-4071-b2cc-a30f6e2c4c41",
   "metadata": {
    "pycharm": {
     "name": "#%%\n"
    }
   },
   "outputs": [
    {
     "name": "stdout",
     "output_type": "stream",
     "text": [
      "Number of unique peptide sequences from\n",
      " GCA: 2710\n",
      " canonical: 184686\n",
      "union 187396\n",
      "intesect 0\n"
     ]
    }
   ],
   "source": [
    "print('Number of unique peptide sequences from\\n GCA: {}\\n canonical: {}'.format(len(gca.sequence.unique()), len(grch.sequence.unique())))\n",
    "print('union', len(set(grch.sequence).union(set(gca.sequence))))\n",
    "print('intesect', len(set(grch.sequence).intersection(set(gca.sequence))))"
   ]
  },
  {
   "cell_type": "code",
   "execution_count": 32,
   "id": "d5151650-0110-4ad4-ac4d-1becbb3e4cd8",
   "metadata": {
    "pycharm": {
     "name": "#%%\n"
    }
   },
   "outputs": [
    {
     "data": {
      "text/plain": [
       "2710"
      ]
     },
     "execution_count": 32,
     "metadata": {},
     "output_type": "execute_result"
    }
   ],
   "source": [
    "def rep(x):\n",
    "    return re.sub('{[^}]*}', '', x.replace('(','{').replace(')', '}').replace('.',''))\n",
    "\n",
    "gca_seqs = list(set([rep(x) for x in gca['sequence'].tolist()]))\n",
    "\n",
    "len(gca_seqs)"
   ]
  },
  {
   "cell_type": "code",
   "execution_count": 33,
   "id": "378edf65",
   "metadata": {},
   "outputs": [
    {
     "data": {
      "text/plain": [
       "{'UNIMOD:1', 'UNIMOD:35', 'UNIMOD:4', 'UNIMOD:737'}"
      ]
     },
     "execution_count": 33,
     "metadata": {},
     "output_type": "execute_result"
    }
   ],
   "source": [
    "mods_df = gca['modifications'].apply(lambda x: x.tolist() if x is not None else \"\")\n",
    "\n",
    "mod_set = set()\n",
    "for mods in mods_df.to_list():\n",
    "    for mod in mods:\n",
    "        mod_set.add(mod.split(\"-\")[-1])\n",
    "        \n",
    "mod_set"
   ]
  },
  {
   "cell_type": "markdown",
   "id": "13d424af",
   "metadata": {
    "jupyter": {
     "outputs_hidden": false
    },
    "pycharm": {
     "name": "#%% md\n"
    }
   },
   "source": [
    "#### To DeepLC"
   ]
  },
  {
   "cell_type": "code",
   "execution_count": 34,
   "id": "7d1724c5-2811-4253-980c-028a4de93340",
   "metadata": {
    "pycharm": {
     "name": "#%%\n"
    }
   },
   "outputs": [],
   "source": [
    "mod_rep = {\"UNIMOD:4\":\"Carbamidomethyl\",\"UNIMOD:737\":\"TMT6plex\",\"UNIMOD:35\":\"Oxidation\",\"UNIMOD:1\":\"Acetyl\"}\n",
    "def replace_mod(x):\n",
    "    s = \"\"\n",
    "    for mod in x:\n",
    "        nums = mod.split(\"-\")[0]\n",
    "        m = mod.split(\"-\")[1]\n",
    "        for n in nums.split(\"|\"):\n",
    "            if s:\n",
    "                s += \"|\"\n",
    "            s += n + \"|\" + mod_rep.get(m)\n",
    "    return s\n",
    "\n",
    "# convert modifications and add the rt and sequence fields\n",
    "gca.loc[:,\"seq\"] = gca.apply(lambda x : x[\"sequence\"],axis = 1)\n",
    "gca.loc[:,\"modifications\"] = gca.apply(lambda x : replace_mod(x[\"modifications\"]) if x[\"modifications\"] is not None else \"\", axis = 1)\n",
    "gca.loc[:,\"tr\"] = gca.apply(lambda x : x[\"retention_time\"],axis = 1)\n",
    "\n",
    "grch.loc[:,\"seq\"] = grch.apply(lambda x : x[\"sequence\"],axis = 1)\n",
    "grch.loc[:,\"modifications\"] = grch.apply(lambda x : replace_mod(x[\"modifications\"]) if x[\"modifications\"] is not None else \"\", axis = 1)\n",
    "grch.loc[:,\"tr\"] = grch.apply(lambda x : x[\"retention_time\"],axis = 1)"
   ]
  },
  {
   "cell_type": "markdown",
   "id": "421f1365-c9f6-4e16-8496-7766b607d30e",
   "metadata": {},
   "source": [
    "#### Redundancy removal"
   ]
  },
  {
   "cell_type": "code",
   "execution_count": 35,
   "id": "cb503efc",
   "metadata": {
    "jupyter": {
     "outputs_hidden": false
    },
    "pycharm": {
     "name": "#%%\n"
    }
   },
   "outputs": [],
   "source": [
    "def extract_keys_values(id_scores):\n",
    "    # Split each pair by colon and create a dictionary\n",
    "    key_value_dict = {}\n",
    "    for kv in id_scores:\n",
    "       if kv is None:\n",
    "          print(\"The score is None\")\n",
    "       else:\n",
    "          score_string = kv.split(\":\")\n",
    "          if len(score_string) == 2:\n",
    "            key_value_dict[score_string[0]] = score_string[1]\n",
    "          elif len(score_string) > 2:\n",
    "            key_value_dict[\":\".join(score_string[:-1])] = score_string[-1]\n",
    "          else:\n",
    "            print.warning(\"The score is not in the right format score: value\")\n",
    "    return pd.Series(key_value_dict)  "
   ]
  },
  {
   "cell_type": "code",
   "execution_count": 36,
   "id": "f4b77dc5-c7b1-4c93-8aaa-0a1b28f8a968",
   "metadata": {
    "pycharm": {
     "name": "#%%\n"
    }
   },
   "outputs": [
    {
     "name": "stderr",
     "output_type": "stream",
     "text": [
      "100%|██████████| 5239256/5239256 [28:32<00:00, 3059.11it/s]  \n"
     ]
    }
   ],
   "source": [
    "new_columns = grch.progress_apply(lambda x: extract_keys_values(x[\"id_scores\"]), axis=1)\n",
    "grch_deeplc = pd.concat([grch[['seq', 'tr', 'modifications', 'reference_file_name','sequence','protein_accessions','charge','scan_number','peptidoform', 'posterior_error_probability']], new_columns], axis=1)\n",
    "grch_deeplc[\"posterior_error_probability\"] = grch_deeplc[\"posterior_error_probability\"].astype(float)\n",
    "grch_deeplc.sort_values(\"posterior_error_probability\", inplace=True)\n",
    "project = \"PXD016999\"\n",
    "grch_deeplc[\"usi\"] = \"mzspec:\" + project + \":\" + grch_deeplc[\"reference_file_name\"] + \":scan:\" + grch_deeplc[\"scan_number\"].astype(str) + \":\" + grch_deeplc[\"peptidoform\"] + \"/\" + grch_deeplc[\"charge\"].astype(str)"
   ]
  },
  {
   "cell_type": "code",
   "execution_count": 37,
   "id": "e9b4fc6f-c5fd-41f8-8036-35b73d813c89",
   "metadata": {
    "pycharm": {
     "name": "#%%\n"
    }
   },
   "outputs": [
    {
     "name": "stderr",
     "output_type": "stream",
     "text": [
      "100%|██████████| 41232/41232 [00:14<00:00, 2887.19it/s]\n"
     ]
    },
    {
     "data": {
      "text/html": [
       "<div>\n",
       "<style scoped>\n",
       "    .dataframe tbody tr th:only-of-type {\n",
       "        vertical-align: middle;\n",
       "    }\n",
       "\n",
       "    .dataframe tbody tr th {\n",
       "        vertical-align: top;\n",
       "    }\n",
       "\n",
       "    .dataframe thead th {\n",
       "        text-align: right;\n",
       "    }\n",
       "</style>\n",
       "<table border=\"1\" class=\"dataframe\">\n",
       "  <thead>\n",
       "    <tr style=\"text-align: right;\">\n",
       "      <th></th>\n",
       "      <th>seq</th>\n",
       "      <th>tr</th>\n",
       "      <th>modifications</th>\n",
       "      <th>reference_file_name</th>\n",
       "      <th>sequence</th>\n",
       "      <th>protein_accessions</th>\n",
       "      <th>charge</th>\n",
       "      <th>scan_number</th>\n",
       "      <th>peptidoform</th>\n",
       "      <th>posterior_error_probability</th>\n",
       "      <th>'OpenMS:Target-decoy PSM q-value'</th>\n",
       "      <th>Best PSM PEP</th>\n",
       "      <th>usi</th>\n",
       "    </tr>\n",
       "  </thead>\n",
       "  <tbody>\n",
       "    <tr>\n",
       "      <th>2697304</th>\n",
       "      <td>GSYGSGGGSYGSGGGGGGHGSYGSGSSSGGYR</td>\n",
       "      <td>1458.1931</td>\n",
       "      <td>0|TMT6plex</td>\n",
       "      <td>Instrument1_sample28_S1R4_082316_Fr11</td>\n",
       "      <td>GSYGSGGGSYGSGGGGGGHGSYGSGSSSGGYR</td>\n",
       "      <td>GCA_296777,GCA_87078</td>\n",
       "      <td>3</td>\n",
       "      <td>7760</td>\n",
       "      <td>[TMT6plex]-GSYGSGGGSYGSGGGGGGHGSYGSGSSSGGYR</td>\n",
       "      <td>3.874760e-20</td>\n",
       "      <td>0.0</td>\n",
       "      <td>3.874759999999999e-20</td>\n",
       "      <td>mzspec:PXD016999:Instrument1_sample28_S1R4_082...</td>\n",
       "    </tr>\n",
       "    <tr>\n",
       "      <th>155312</th>\n",
       "      <td>TPEVTCVVVDVSHEDPEVQFNWYVDGMEVHNAK</td>\n",
       "      <td>11869.7980</td>\n",
       "      <td>6|Carbamidomethyl|27|Oxidation|33|TMT6plex</td>\n",
       "      <td>Instrument1_sample02_S1R5_020116_Fr04</td>\n",
       "      <td>TPEVTCVVVDVSHEDPEVQFNWYVDGMEVHNAK</td>\n",
       "      <td>GCA_22305,GCA_22306</td>\n",
       "      <td>4</td>\n",
       "      <td>91832</td>\n",
       "      <td>TPEVTC[Carbamidomethyl]VVVDVSHEDPEVQFNWYVDGM[O...</td>\n",
       "      <td>9.331320e-20</td>\n",
       "      <td>0.0</td>\n",
       "      <td>9.33132e-20</td>\n",
       "      <td>mzspec:PXD016999:Instrument1_sample02_S1R5_020...</td>\n",
       "    </tr>\n",
       "    <tr>\n",
       "      <th>3564691</th>\n",
       "      <td>ELSGLPSGPSAGSGPPPPPPGPPPPPVSTSSGSDESASR</td>\n",
       "      <td>8716.8000</td>\n",
       "      <td>0|TMT6plex</td>\n",
       "      <td>SecondInstrument_Sample8_S2R26_012016_Fr06</td>\n",
       "      <td>ELSGLPSGPSAGSGPPPPPPGPPPPPVSTSSGSDESASR</td>\n",
       "      <td>GCA_189267,GCA_189268,GCA_57633,GCA_57634,GCA_...</td>\n",
       "      <td>3</td>\n",
       "      <td>50172</td>\n",
       "      <td>[TMT6plex]-ELSGLPSGPSAGSGPPPPPPGPPPPPVSTSSGSDE...</td>\n",
       "      <td>1.194830e-19</td>\n",
       "      <td>0.0</td>\n",
       "      <td>1.1948300000000001e-19</td>\n",
       "      <td>mzspec:PXD016999:SecondInstrument_Sample8_S2R2...</td>\n",
       "    </tr>\n",
       "    <tr>\n",
       "      <th>1156497</th>\n",
       "      <td>ELSGLPSGPSAGSGPPPPPPGPPPPPVSTSSGSDESASR</td>\n",
       "      <td>8070.4000</td>\n",
       "      <td>0|TMT6plex</td>\n",
       "      <td>SecondInstrument_Sample19_S2R21_040216_Fr07</td>\n",
       "      <td>ELSGLPSGPSAGSGPPPPPPGPPPPPVSTSSGSDESASR</td>\n",
       "      <td>GCA_189267,GCA_189268,GCA_57633,GCA_57634,GCA_...</td>\n",
       "      <td>3</td>\n",
       "      <td>56418</td>\n",
       "      <td>[TMT6plex]-ELSGLPSGPSAGSGPPPPPPGPPPPPVSTSSGSDE...</td>\n",
       "      <td>1.241250e-19</td>\n",
       "      <td>0.0</td>\n",
       "      <td>1.24125e-19</td>\n",
       "      <td>mzspec:PXD016999:SecondInstrument_Sample19_S2R...</td>\n",
       "    </tr>\n",
       "    <tr>\n",
       "      <th>1923567</th>\n",
       "      <td>TPEVTCVVVDVSHEDPEVQFNWYVDGMEVHNAK</td>\n",
       "      <td>12280.0000</td>\n",
       "      <td>0|TMT6plex|33|TMT6plex|6|Carbamidomethyl</td>\n",
       "      <td>SecondInstrument_Sample9_S2R28_020216_Fr08</td>\n",
       "      <td>TPEVTCVVVDVSHEDPEVQFNWYVDGMEVHNAK</td>\n",
       "      <td>GCA_22305,GCA_22306</td>\n",
       "      <td>4</td>\n",
       "      <td>76517</td>\n",
       "      <td>[TMT6plex]-TPEVTC[Carbamidomethyl]VVVDVSHEDPEV...</td>\n",
       "      <td>1.871840e-19</td>\n",
       "      <td>0.0</td>\n",
       "      <td>1.8718400000000001e-19</td>\n",
       "      <td>mzspec:PXD016999:SecondInstrument_Sample9_S2R2...</td>\n",
       "    </tr>\n",
       "    <tr>\n",
       "      <th>...</th>\n",
       "      <td>...</td>\n",
       "      <td>...</td>\n",
       "      <td>...</td>\n",
       "      <td>...</td>\n",
       "      <td>...</td>\n",
       "      <td>...</td>\n",
       "      <td>...</td>\n",
       "      <td>...</td>\n",
       "      <td>...</td>\n",
       "      <td>...</td>\n",
       "      <td>...</td>\n",
       "      <td>...</td>\n",
       "      <td>...</td>\n",
       "    </tr>\n",
       "    <tr>\n",
       "      <th>606873</th>\n",
       "      <td>AKLPDATPK</td>\n",
       "      <td>3301.3848</td>\n",
       "      <td>0|TMT6plex|2|TMT6plex|9|TMT6plex</td>\n",
       "      <td>SecondInstrument_Sample1_S2R1_070416_Fr11</td>\n",
       "      <td>AKLPDATPK</td>\n",
       "      <td>GCA_130727,GCA_130728,GCA_130729</td>\n",
       "      <td>3</td>\n",
       "      <td>19834</td>\n",
       "      <td>[TMT6plex]-AK[TMT6plex]LPDATPK[TMT6plex]</td>\n",
       "      <td>9.988560e-03</td>\n",
       "      <td>0.00131369053204467</td>\n",
       "      <td>0.009988560000000002</td>\n",
       "      <td>mzspec:PXD016999:SecondInstrument_Sample1_S2R1...</td>\n",
       "    </tr>\n",
       "    <tr>\n",
       "      <th>1472575</th>\n",
       "      <td>AAGGPGPEQEASFTVTVPPSEGSSYR</td>\n",
       "      <td>7827.4000</td>\n",
       "      <td>0|TMT6plex</td>\n",
       "      <td>SecondInstrument_Sample15_S2R9_061016_Fr05</td>\n",
       "      <td>AAGGPGPEQEASFTVTVPPSEGSSYR</td>\n",
       "      <td>GCA_123899,GCA_155607,GCA_187186,GCA_230730,GC...</td>\n",
       "      <td>3</td>\n",
       "      <td>49537</td>\n",
       "      <td>[TMT6plex]-AAGGPGPEQEASFTVTVPPSEGSSYR</td>\n",
       "      <td>9.991130e-03</td>\n",
       "      <td>0.00125904941768964</td>\n",
       "      <td>0.009991130000000003</td>\n",
       "      <td>mzspec:PXD016999:SecondInstrument_Sample15_S2R...</td>\n",
       "    </tr>\n",
       "    <tr>\n",
       "      <th>591650</th>\n",
       "      <td>ETVWHLEEFGR</td>\n",
       "      <td>8107.3604</td>\n",
       "      <td>0|TMT6plex</td>\n",
       "      <td>Instrument1_sample05_S1R11_020516_Fr06</td>\n",
       "      <td>ETVWHLEEFGR</td>\n",
       "      <td>GCA_248823,GCA_248825,GCA_62051,GCA_62053,GCA_...</td>\n",
       "      <td>3</td>\n",
       "      <td>56257</td>\n",
       "      <td>[TMT6plex]-ETVWHLEEFGR</td>\n",
       "      <td>9.991500e-03</td>\n",
       "      <td>0.00127601099332548</td>\n",
       "      <td>0.0099915</td>\n",
       "      <td>mzspec:PXD016999:Instrument1_sample05_S1R11_02...</td>\n",
       "    </tr>\n",
       "    <tr>\n",
       "      <th>1705850</th>\n",
       "      <td>ESYPHVK</td>\n",
       "      <td>3671.7026</td>\n",
       "      <td>0|TMT6plex|7|TMT6plex</td>\n",
       "      <td>Instrument1_sample15_S1R13_042416_Fr07</td>\n",
       "      <td>ESYPHVK</td>\n",
       "      <td>GCA_101096,GCA_101097,GCA_101098,GCA_101099,GC...</td>\n",
       "      <td>3</td>\n",
       "      <td>19706</td>\n",
       "      <td>[TMT6plex]-ESYPHVK[TMT6plex]</td>\n",
       "      <td>9.992330e-03</td>\n",
       "      <td>0.00110452856712521</td>\n",
       "      <td>0.00999233</td>\n",
       "      <td>mzspec:PXD016999:Instrument1_sample15_S1R13_04...</td>\n",
       "    </tr>\n",
       "    <tr>\n",
       "      <th>2843104</th>\n",
       "      <td>YAMAWGVVEK</td>\n",
       "      <td>6628.6000</td>\n",
       "      <td>0|TMT6plex|10|TMT6plex|3|Oxidation</td>\n",
       "      <td>SecondInstrument_Sample23_S2R7_041716_Fr11</td>\n",
       "      <td>YAMAWGVVEK</td>\n",
       "      <td>GCA_126331,GCA_228076,GCA_245091,GCA_251324,GC...</td>\n",
       "      <td>3</td>\n",
       "      <td>51356</td>\n",
       "      <td>[TMT6plex]-YAM[Oxidation]AWGVVEK[TMT6plex]</td>\n",
       "      <td>9.999230e-03</td>\n",
       "      <td>0.000565839463260852</td>\n",
       "      <td>0.00999923</td>\n",
       "      <td>mzspec:PXD016999:SecondInstrument_Sample23_S2R...</td>\n",
       "    </tr>\n",
       "  </tbody>\n",
       "</table>\n",
       "<p>41232 rows × 13 columns</p>\n",
       "</div>"
      ],
      "text/plain": [
       "                                             seq          tr  \\\n",
       "2697304         GSYGSGGGSYGSGGGGGGHGSYGSGSSSGGYR   1458.1931   \n",
       "155312         TPEVTCVVVDVSHEDPEVQFNWYVDGMEVHNAK  11869.7980   \n",
       "3564691  ELSGLPSGPSAGSGPPPPPPGPPPPPVSTSSGSDESASR   8716.8000   \n",
       "1156497  ELSGLPSGPSAGSGPPPPPPGPPPPPVSTSSGSDESASR   8070.4000   \n",
       "1923567        TPEVTCVVVDVSHEDPEVQFNWYVDGMEVHNAK  12280.0000   \n",
       "...                                          ...         ...   \n",
       "606873                                 AKLPDATPK   3301.3848   \n",
       "1472575               AAGGPGPEQEASFTVTVPPSEGSSYR   7827.4000   \n",
       "591650                               ETVWHLEEFGR   8107.3604   \n",
       "1705850                                  ESYPHVK   3671.7026   \n",
       "2843104                               YAMAWGVVEK   6628.6000   \n",
       "\n",
       "                                      modifications  \\\n",
       "2697304                                  0|TMT6plex   \n",
       "155312   6|Carbamidomethyl|27|Oxidation|33|TMT6plex   \n",
       "3564691                                  0|TMT6plex   \n",
       "1156497                                  0|TMT6plex   \n",
       "1923567    0|TMT6plex|33|TMT6plex|6|Carbamidomethyl   \n",
       "...                                             ...   \n",
       "606873             0|TMT6plex|2|TMT6plex|9|TMT6plex   \n",
       "1472575                                  0|TMT6plex   \n",
       "591650                                   0|TMT6plex   \n",
       "1705850                       0|TMT6plex|7|TMT6plex   \n",
       "2843104          0|TMT6plex|10|TMT6plex|3|Oxidation   \n",
       "\n",
       "                                 reference_file_name  \\\n",
       "2697304        Instrument1_sample28_S1R4_082316_Fr11   \n",
       "155312         Instrument1_sample02_S1R5_020116_Fr04   \n",
       "3564691   SecondInstrument_Sample8_S2R26_012016_Fr06   \n",
       "1156497  SecondInstrument_Sample19_S2R21_040216_Fr07   \n",
       "1923567   SecondInstrument_Sample9_S2R28_020216_Fr08   \n",
       "...                                              ...   \n",
       "606873     SecondInstrument_Sample1_S2R1_070416_Fr11   \n",
       "1472575   SecondInstrument_Sample15_S2R9_061016_Fr05   \n",
       "591650        Instrument1_sample05_S1R11_020516_Fr06   \n",
       "1705850       Instrument1_sample15_S1R13_042416_Fr07   \n",
       "2843104   SecondInstrument_Sample23_S2R7_041716_Fr11   \n",
       "\n",
       "                                        sequence  \\\n",
       "2697304         GSYGSGGGSYGSGGGGGGHGSYGSGSSSGGYR   \n",
       "155312         TPEVTCVVVDVSHEDPEVQFNWYVDGMEVHNAK   \n",
       "3564691  ELSGLPSGPSAGSGPPPPPPGPPPPPVSTSSGSDESASR   \n",
       "1156497  ELSGLPSGPSAGSGPPPPPPGPPPPPVSTSSGSDESASR   \n",
       "1923567        TPEVTCVVVDVSHEDPEVQFNWYVDGMEVHNAK   \n",
       "...                                          ...   \n",
       "606873                                 AKLPDATPK   \n",
       "1472575               AAGGPGPEQEASFTVTVPPSEGSSYR   \n",
       "591650                               ETVWHLEEFGR   \n",
       "1705850                                  ESYPHVK   \n",
       "2843104                               YAMAWGVVEK   \n",
       "\n",
       "                                        protein_accessions  charge  \\\n",
       "2697304                               GCA_296777,GCA_87078       3   \n",
       "155312                                 GCA_22305,GCA_22306       4   \n",
       "3564691  GCA_189267,GCA_189268,GCA_57633,GCA_57634,GCA_...       3   \n",
       "1156497  GCA_189267,GCA_189268,GCA_57633,GCA_57634,GCA_...       3   \n",
       "1923567                                GCA_22305,GCA_22306       4   \n",
       "...                                                    ...     ...   \n",
       "606873                    GCA_130727,GCA_130728,GCA_130729       3   \n",
       "1472575  GCA_123899,GCA_155607,GCA_187186,GCA_230730,GC...       3   \n",
       "591650   GCA_248823,GCA_248825,GCA_62051,GCA_62053,GCA_...       3   \n",
       "1705850  GCA_101096,GCA_101097,GCA_101098,GCA_101099,GC...       3   \n",
       "2843104  GCA_126331,GCA_228076,GCA_245091,GCA_251324,GC...       3   \n",
       "\n",
       "        scan_number                                        peptidoform  \\\n",
       "2697304        7760        [TMT6plex]-GSYGSGGGSYGSGGGGGGHGSYGSGSSSGGYR   \n",
       "155312        91832  TPEVTC[Carbamidomethyl]VVVDVSHEDPEVQFNWYVDGM[O...   \n",
       "3564691       50172  [TMT6plex]-ELSGLPSGPSAGSGPPPPPPGPPPPPVSTSSGSDE...   \n",
       "1156497       56418  [TMT6plex]-ELSGLPSGPSAGSGPPPPPPGPPPPPVSTSSGSDE...   \n",
       "1923567       76517  [TMT6plex]-TPEVTC[Carbamidomethyl]VVVDVSHEDPEV...   \n",
       "...             ...                                                ...   \n",
       "606873        19834           [TMT6plex]-AK[TMT6plex]LPDATPK[TMT6plex]   \n",
       "1472575       49537              [TMT6plex]-AAGGPGPEQEASFTVTVPPSEGSSYR   \n",
       "591650        56257                             [TMT6plex]-ETVWHLEEFGR   \n",
       "1705850       19706                       [TMT6plex]-ESYPHVK[TMT6plex]   \n",
       "2843104       51356         [TMT6plex]-YAM[Oxidation]AWGVVEK[TMT6plex]   \n",
       "\n",
       "         posterior_error_probability 'OpenMS:Target-decoy PSM q-value'  \\\n",
       "2697304                 3.874760e-20                               0.0   \n",
       "155312                  9.331320e-20                               0.0   \n",
       "3564691                 1.194830e-19                               0.0   \n",
       "1156497                 1.241250e-19                               0.0   \n",
       "1923567                 1.871840e-19                               0.0   \n",
       "...                              ...                               ...   \n",
       "606873                  9.988560e-03               0.00131369053204467   \n",
       "1472575                 9.991130e-03               0.00125904941768964   \n",
       "591650                  9.991500e-03               0.00127601099332548   \n",
       "1705850                 9.992330e-03               0.00110452856712521   \n",
       "2843104                 9.999230e-03              0.000565839463260852   \n",
       "\n",
       "                   Best PSM PEP  \\\n",
       "2697304   3.874759999999999e-20   \n",
       "155312              9.33132e-20   \n",
       "3564691  1.1948300000000001e-19   \n",
       "1156497             1.24125e-19   \n",
       "1923567  1.8718400000000001e-19   \n",
       "...                         ...   \n",
       "606873     0.009988560000000002   \n",
       "1472575    0.009991130000000003   \n",
       "591650                0.0099915   \n",
       "1705850              0.00999233   \n",
       "2843104              0.00999923   \n",
       "\n",
       "                                                       usi  \n",
       "2697304  mzspec:PXD016999:Instrument1_sample28_S1R4_082...  \n",
       "155312   mzspec:PXD016999:Instrument1_sample02_S1R5_020...  \n",
       "3564691  mzspec:PXD016999:SecondInstrument_Sample8_S2R2...  \n",
       "1156497  mzspec:PXD016999:SecondInstrument_Sample19_S2R...  \n",
       "1923567  mzspec:PXD016999:SecondInstrument_Sample9_S2R2...  \n",
       "...                                                    ...  \n",
       "606873   mzspec:PXD016999:SecondInstrument_Sample1_S2R1...  \n",
       "1472575  mzspec:PXD016999:SecondInstrument_Sample15_S2R...  \n",
       "591650   mzspec:PXD016999:Instrument1_sample05_S1R11_02...  \n",
       "1705850  mzspec:PXD016999:Instrument1_sample15_S1R13_04...  \n",
       "2843104  mzspec:PXD016999:SecondInstrument_Sample23_S2R...  \n",
       "\n",
       "[41232 rows x 13 columns]"
      ]
     },
     "execution_count": 37,
     "metadata": {},
     "output_type": "execute_result"
    }
   ],
   "source": [
    "new_columns = gca.progress_apply(lambda x: extract_keys_values(x[\"id_scores\"]), axis=1)\n",
    "# Concatenate the new columns with the original DataFrame\n",
    "gca_deeplc = pd.concat([gca[['seq', 'tr', 'modifications', 'reference_file_name','sequence','protein_accessions','charge','scan_number','peptidoform', 'posterior_error_probability']], new_columns], axis=1)\n",
    "gca_deeplc[\"posterior_error_probability\"] = gca_deeplc[\"posterior_error_probability\"].astype(float)\n",
    "gca_deeplc.sort_values(\"posterior_error_probability\", inplace=True)\n",
    "project = \"PXD016999\"\n",
    "gca_deeplc[\"usi\"] = \"mzspec:\" + project + \":\" + gca_deeplc[\"reference_file_name\"] + \":scan:\" + gca_deeplc[\"scan_number\"].astype(str) + \":\" + gca_deeplc['peptidoform'] + \"/\" + gca_deeplc[\"charge\"].astype(str)\n",
    "gca_deeplc"
   ]
  },
  {
   "cell_type": "markdown",
   "id": "5123b7af-02a5-45dd-84ae-a1fa06103373",
   "metadata": {},
   "source": [
    "#### Final save"
   ]
  },
  {
   "cell_type": "code",
   "execution_count": 38,
   "id": "be57159c-cd98-4efa-9bec-44b781bf769f",
   "metadata": {
    "pycharm": {
     "name": "#%%\n"
    }
   },
   "outputs": [],
   "source": [
    "gca_deeplc.to_csv('tables/to-ms2pip-snr-tables/gca_peptides_for_deeplc.csv.gz', index=False, compression=\"gzip\")\n",
    "grch_deeplc.to_csv('tables/to-ms2pip-snr-tables/grch_peptides_for_deeplc.csv.gz', index=False, compression=\"gzip\")"
   ]
  },
  {
   "cell_type": "markdown",
   "id": "a8aad490",
   "metadata": {},
   "source": [
    "**Remove Redundancy**"
   ]
  },
  {
   "cell_type": "code",
   "execution_count": null,
   "id": "47433220-89c9-4514-8cf5-16e0a7660b96",
   "metadata": {},
   "outputs": [],
   "source": [
    "# grch_deeplc = grch_deeplc.drop_duplicates([\"seq\", \"modifications\"], keep=\"first\")\n",
    "# gca_deeplc = gca_deeplc.drop_duplicates([\"seq\", \"modifications\"], keep=\"first\")\n",
    "\n",
    "# gca_deeplc.to_csv('tables/to-ms2pip-snr-tables/gca_peptides_for_deeplc_unique.csv.gz', index=False, compression=\"gzip\")\n",
    "# grch_deeplc.to_csv('tables/to-ms2pip-snr-tables/grch_peptides_for_deeplc_unique.csv.gz', index=False, compression=\"gzip\")"
   ]
  }
 ],
 "metadata": {
  "kernelspec": {
   "display_name": "Python 3",
   "language": "python",
   "name": "python3"
  },
  "language_info": {
   "codemirror_mode": {
    "name": "ipython",
    "version": 3
   },
   "file_extension": ".py",
   "mimetype": "text/x-python",
   "name": "python",
   "nbconvert_exporter": "python",
   "pygments_lexer": "ipython3",
   "version": "3.7.12"
  }
 },
 "nbformat": 4,
 "nbformat_minor": 5
}
