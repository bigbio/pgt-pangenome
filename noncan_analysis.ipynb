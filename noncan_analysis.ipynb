{
 "cells": [
  {
   "cell_type": "code",
   "execution_count": 26,
   "id": "683806bf",
   "metadata": {},
   "outputs": [],
   "source": [
    "import pyarrow as pa\n",
    "import pyarrow.parquet as pq\n",
    "import pandas as pd\n",
    "from Bio import SeqIO\n",
    "import seaborn as sns\n",
    "import matplotlib.pyplot as plt"
   ]
  },
  {
   "cell_type": "markdown",
   "id": "e827dbf1",
   "metadata": {},
   "source": [
    "## Analysis of Canonical and Non-canonical Peptides"
   ]
  },
  {
   "cell_type": "code",
   "execution_count": 62,
   "id": "a3052b05",
   "metadata": {},
   "outputs": [],
   "source": [
    "noncan_parq_file = \"../PXD010154-pangenome-noncanonical-0.01.parquet\"\n",
    "noncan_table = pq.read_table(noncan_parq_file)\n",
    "noncan_df = noncan_table.to_pandas()"
   ]
  },
  {
   "cell_type": "code",
   "execution_count": 63,
   "id": "8c4315c0",
   "metadata": {},
   "outputs": [
    {
     "data": {
      "text/plain": [
       "14650219"
      ]
     },
     "execution_count": 63,
     "metadata": {},
     "output_type": "execute_result"
    }
   ],
   "source": [
    "len(noncan_df)"
   ]
  },
  {
   "cell_type": "code",
   "execution_count": 64,
   "id": "f8ca1f1b-0f89-42c1-ab17-3c256d12bd0c",
   "metadata": {},
   "outputs": [],
   "source": [
    "noncan_df.to_csv('noncan.tsv',sep='\\t', index=False)"
   ]
  }
 ],
 "metadata": {
  "kernelspec": {
   "display_name": "Python 3 (ipykernel)",
   "language": "python",
   "name": "python3"
  },
  "language_info": {
   "codemirror_mode": {
    "name": "ipython",
    "version": 3
   },
   "file_extension": ".py",
   "mimetype": "text/x-python",
   "name": "python",
   "nbconvert_exporter": "python",
   "pygments_lexer": "ipython3",
   "version": "3.11.5"
  }
 },
 "nbformat": 4,
 "nbformat_minor": 5
}
