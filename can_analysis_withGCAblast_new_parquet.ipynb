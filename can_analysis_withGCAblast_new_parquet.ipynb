{
 "cells": [
  {
   "cell_type": "code",
   "execution_count": 3,
   "id": "683806bf",
   "metadata": {
    "pycharm": {
     "name": "#%%\n"
    }
   },
   "outputs": [],
   "source": [
    "import pyarrow as pa\n",
    "import pyarrow.parquet as pq\n",
    "import pandas as pd\n",
    "from Bio import SeqIO\n",
    "import seaborn as sns\n",
    "import matplotlib.pyplot as plt\n",
    "import pyarrow.compute as pc\n",
    "import pyarrow.dataset as ds\n",
    "import math\n",
    "import re\n",
    "import ahocorasick\n",
    "import datetime\n",
    "from tqdm import tqdm"
   ]
  },
  {
   "cell_type": "markdown",
   "id": "12808b4c",
   "metadata": {
    "pycharm": {
     "name": "#%% md\n"
    }
   },
   "source": [
    "## Analysis of Canonical Peptides"
   ]
  },
  {
   "cell_type": "code",
   "execution_count": 4,
   "id": "03ccdb24",
   "metadata": {
    "pycharm": {
     "name": "#%%\n"
    }
   },
   "outputs": [],
   "source": [
    "parq_file = \"/home1/wangd/project/PXD010154-1de73bcb-ee3e-4d19-9d8d-da72f11d5fac.psm.parquet\"\n",
    "table = pq.read_table(parq_file)\n",
    "df = table.to_pandas()"
   ]
  },
  {
   "cell_type": "code",
   "execution_count": 5,
   "outputs": [
    {
     "data": {
      "text/plain": "                                         sequence  \\\n0         GAGGAGSGGCCCCVLGWLGVALCGLALLSGLVLGLLVGR   \n1                                EYLGAICSCTCFGGQR   \n2                                   TCVADESAENCDK   \n3                                 AAAFEEQENETVVVK   \n4                  KVADALTNAVAHVDDMPNALSALSDLHAHK   \n...                                           ...   \n16294594                     YFEITEEPPYIHFLNTFTSK   \n16294595                           SGKLDAFLVLEQLR   \n16294596                QVYEEEYGSSLEDDVVGDTSGYYQR   \n16294597            LTRPGSSYFNLNPFEVLQIDPEVTDEEIK   \n16294598                         YFEEYALVNQDILENK   \n\n                                         protein_accessions  \\\n0                                        [DECOY_GCA_315848]   \n1                                              [GCA_131462]   \n2         [GRCh38_78290, GCA_14814, CONTAMINANT_P02768-1...   \n3                                            [GRCh38_64703]   \n4                                 [GRCh38_28602, GCA_72537]   \n...                                                     ...   \n16294594                          [GRCh38_46198, GCA_99552]   \n16294595              [GRCh38_7521, GCA_100434, GCA_246681]   \n16294596                          [GRCh38_32181, GCA_15045]   \n16294597                          [GRCh38_25113, GCA_58373]   \n16294598                                       [GCA_308872]   \n\n         protein_start_positions protein_end_positions  protein_global_qvalue  \\\n0                          [115]                 [153]               0.383534   \n1                         [2311]                [2326]               0.000556   \n2               [76, 76, 76, 76]      [88, 88, 88, 88]               0.000556   \n3                         [2494]                [2508]               0.000556   \n4                       [62, 62]              [91, 91]               0.000556   \n...                          ...                   ...                    ...   \n16294594              [294, 294]            [313, 313]               0.000556   \n16294595         [687, 687, 687]       [700, 700, 700]               0.000556   \n16294596              [127, 127]            [151, 151]               0.000556   \n16294597                [46, 46]              [74, 74]               0.000556   \n16294598                   [222]                 [237]               0.000556   \n\n          unique              modifications  retention_time  charge  \\\n0              1  [10|11|12|13|23-UNIMOD:4]     182368.1280       4   \n1              1          [7|9|11-UNIMOD:4]     200494.1280       2   \n2              0            [2|11-UNIMOD:4]      83191.5960       2   \n3              1                       None     158287.7040       2   \n4              0            [8|18-UNIMOD:7]       4640.3813       6   \n...          ...                        ...             ...     ...   \n16294594       0                       None       5652.1924       3   \n16294595       0                       None       5012.8022       3   \n16294596       0                       None       4054.3008       3   \n16294597       0                       None       6023.4970       3   \n16294598       1         [9|10|15-UNIMOD:7]       4669.2130       2   \n\n          exp_mass_to_charge  ...  is_decoy  \\\n0                 958.501276  ...         1   \n1                 939.900626  ...         0   \n2                 749.796626  ...         0   \n3                 832.412626  ...         0   \n4                 522.103821  ...         0   \n...                      ...  ...       ...   \n16294594          826.076477  ...         0   \n16294595          530.308350  ...         0   \n16294596          963.751770  ...         0   \n16294597         1117.563232  ...         0   \n16294598          995.959290  ...         0   \n\n                                                  id_scores  \\\n0         ['OpenMS:Target-decoy PSM q-value': 0.00704929...   \n1         ['OpenMS:Target-decoy PSM q-value': 0.00366430...   \n2         ['OpenMS:Target-decoy PSM q-value': 0.00383706...   \n3         ['OpenMS:Target-decoy PSM q-value': 0.00106247...   \n4         ['OpenMS:Target-decoy PSM q-value': 0.00055787...   \n...                                                     ...   \n16294594  ['OpenMS:Target-decoy PSM q-value': 2.65999930...   \n16294595  ['OpenMS:Target-decoy PSM q-value': 0.00012527...   \n16294596  ['OpenMS:Target-decoy PSM q-value': 1.82972572...   \n16294597  ['OpenMS:Target-decoy PSM q-value': 0.00108037...   \n16294598  ['OpenMS:Target-decoy PSM q-value': 0.00737441...   \n\n          consensus_support           reference_file_name  scan_number  \\\n0                       NaN  01524_A01_P015424_S00_N01_R1        12179   \n1                       NaN  01524_A01_P015424_S00_N01_R1        14522   \n2                       NaN  01524_A01_P015424_S00_N01_R1         4604   \n3                       NaN  01524_A01_P015424_S00_N01_R1         9826   \n4                       NaN  01524_A01_P015424_S00_N01_R1        27647   \n...                     ...                           ...          ...   \n16294594                NaN  01307_D05_P013386_S00_N36_R1        43638   \n16294595                NaN  01307_D05_P013386_S00_N36_R1        38274   \n16294596                NaN  01307_D05_P013386_S00_N36_R1        30154   \n16294597                NaN  01307_D05_P013386_S00_N36_R1        46678   \n16294598                NaN  01307_D05_P013386_S00_N36_R1        35313   \n\n         mz_array  intensity_array num_peaks gene_accessions gene_names  \n0            None             None       NaN            None       None  \n1            None             None       NaN            None       None  \n2            None             None       NaN            None       None  \n3            None             None       NaN            None       None  \n4            None             None       NaN            None       None  \n...           ...              ...       ...             ...        ...  \n16294594     None             None       NaN            None       None  \n16294595     None             None       NaN            None       None  \n16294596     None             None       NaN            None       None  \n16294597     None             None       NaN            None       None  \n16294598     None             None       NaN            None       None  \n\n[16294599 rows x 24 columns]",
      "text/html": "<div>\n<style scoped>\n    .dataframe tbody tr th:only-of-type {\n        vertical-align: middle;\n    }\n\n    .dataframe tbody tr th {\n        vertical-align: top;\n    }\n\n    .dataframe thead th {\n        text-align: right;\n    }\n</style>\n<table border=\"1\" class=\"dataframe\">\n  <thead>\n    <tr style=\"text-align: right;\">\n      <th></th>\n      <th>sequence</th>\n      <th>protein_accessions</th>\n      <th>protein_start_positions</th>\n      <th>protein_end_positions</th>\n      <th>protein_global_qvalue</th>\n      <th>unique</th>\n      <th>modifications</th>\n      <th>retention_time</th>\n      <th>charge</th>\n      <th>exp_mass_to_charge</th>\n      <th>...</th>\n      <th>is_decoy</th>\n      <th>id_scores</th>\n      <th>consensus_support</th>\n      <th>reference_file_name</th>\n      <th>scan_number</th>\n      <th>mz_array</th>\n      <th>intensity_array</th>\n      <th>num_peaks</th>\n      <th>gene_accessions</th>\n      <th>gene_names</th>\n    </tr>\n  </thead>\n  <tbody>\n    <tr>\n      <th>0</th>\n      <td>GAGGAGSGGCCCCVLGWLGVALCGLALLSGLVLGLLVGR</td>\n      <td>[DECOY_GCA_315848]</td>\n      <td>[115]</td>\n      <td>[153]</td>\n      <td>0.383534</td>\n      <td>1</td>\n      <td>[10|11|12|13|23-UNIMOD:4]</td>\n      <td>182368.1280</td>\n      <td>4</td>\n      <td>958.501276</td>\n      <td>...</td>\n      <td>1</td>\n      <td>['OpenMS:Target-decoy PSM q-value': 0.00704929...</td>\n      <td>NaN</td>\n      <td>01524_A01_P015424_S00_N01_R1</td>\n      <td>12179</td>\n      <td>None</td>\n      <td>None</td>\n      <td>NaN</td>\n      <td>None</td>\n      <td>None</td>\n    </tr>\n    <tr>\n      <th>1</th>\n      <td>EYLGAICSCTCFGGQR</td>\n      <td>[GCA_131462]</td>\n      <td>[2311]</td>\n      <td>[2326]</td>\n      <td>0.000556</td>\n      <td>1</td>\n      <td>[7|9|11-UNIMOD:4]</td>\n      <td>200494.1280</td>\n      <td>2</td>\n      <td>939.900626</td>\n      <td>...</td>\n      <td>0</td>\n      <td>['OpenMS:Target-decoy PSM q-value': 0.00366430...</td>\n      <td>NaN</td>\n      <td>01524_A01_P015424_S00_N01_R1</td>\n      <td>14522</td>\n      <td>None</td>\n      <td>None</td>\n      <td>NaN</td>\n      <td>None</td>\n      <td>None</td>\n    </tr>\n    <tr>\n      <th>2</th>\n      <td>TCVADESAENCDK</td>\n      <td>[GRCh38_78290, GCA_14814, CONTAMINANT_P02768-1...</td>\n      <td>[76, 76, 76, 76]</td>\n      <td>[88, 88, 88, 88]</td>\n      <td>0.000556</td>\n      <td>0</td>\n      <td>[2|11-UNIMOD:4]</td>\n      <td>83191.5960</td>\n      <td>2</td>\n      <td>749.796626</td>\n      <td>...</td>\n      <td>0</td>\n      <td>['OpenMS:Target-decoy PSM q-value': 0.00383706...</td>\n      <td>NaN</td>\n      <td>01524_A01_P015424_S00_N01_R1</td>\n      <td>4604</td>\n      <td>None</td>\n      <td>None</td>\n      <td>NaN</td>\n      <td>None</td>\n      <td>None</td>\n    </tr>\n    <tr>\n      <th>3</th>\n      <td>AAAFEEQENETVVVK</td>\n      <td>[GRCh38_64703]</td>\n      <td>[2494]</td>\n      <td>[2508]</td>\n      <td>0.000556</td>\n      <td>1</td>\n      <td>None</td>\n      <td>158287.7040</td>\n      <td>2</td>\n      <td>832.412626</td>\n      <td>...</td>\n      <td>0</td>\n      <td>['OpenMS:Target-decoy PSM q-value': 0.00106247...</td>\n      <td>NaN</td>\n      <td>01524_A01_P015424_S00_N01_R1</td>\n      <td>9826</td>\n      <td>None</td>\n      <td>None</td>\n      <td>NaN</td>\n      <td>None</td>\n      <td>None</td>\n    </tr>\n    <tr>\n      <th>4</th>\n      <td>KVADALTNAVAHVDDMPNALSALSDLHAHK</td>\n      <td>[GRCh38_28602, GCA_72537]</td>\n      <td>[62, 62]</td>\n      <td>[91, 91]</td>\n      <td>0.000556</td>\n      <td>0</td>\n      <td>[8|18-UNIMOD:7]</td>\n      <td>4640.3813</td>\n      <td>6</td>\n      <td>522.103821</td>\n      <td>...</td>\n      <td>0</td>\n      <td>['OpenMS:Target-decoy PSM q-value': 0.00055787...</td>\n      <td>NaN</td>\n      <td>01524_A01_P015424_S00_N01_R1</td>\n      <td>27647</td>\n      <td>None</td>\n      <td>None</td>\n      <td>NaN</td>\n      <td>None</td>\n      <td>None</td>\n    </tr>\n    <tr>\n      <th>...</th>\n      <td>...</td>\n      <td>...</td>\n      <td>...</td>\n      <td>...</td>\n      <td>...</td>\n      <td>...</td>\n      <td>...</td>\n      <td>...</td>\n      <td>...</td>\n      <td>...</td>\n      <td>...</td>\n      <td>...</td>\n      <td>...</td>\n      <td>...</td>\n      <td>...</td>\n      <td>...</td>\n      <td>...</td>\n      <td>...</td>\n      <td>...</td>\n      <td>...</td>\n      <td>...</td>\n    </tr>\n    <tr>\n      <th>16294594</th>\n      <td>YFEITEEPPYIHFLNTFTSK</td>\n      <td>[GRCh38_46198, GCA_99552]</td>\n      <td>[294, 294]</td>\n      <td>[313, 313]</td>\n      <td>0.000556</td>\n      <td>0</td>\n      <td>None</td>\n      <td>5652.1924</td>\n      <td>3</td>\n      <td>826.076477</td>\n      <td>...</td>\n      <td>0</td>\n      <td>['OpenMS:Target-decoy PSM q-value': 2.65999930...</td>\n      <td>NaN</td>\n      <td>01307_D05_P013386_S00_N36_R1</td>\n      <td>43638</td>\n      <td>None</td>\n      <td>None</td>\n      <td>NaN</td>\n      <td>None</td>\n      <td>None</td>\n    </tr>\n    <tr>\n      <th>16294595</th>\n      <td>SGKLDAFLVLEQLR</td>\n      <td>[GRCh38_7521, GCA_100434, GCA_246681]</td>\n      <td>[687, 687, 687]</td>\n      <td>[700, 700, 700]</td>\n      <td>0.000556</td>\n      <td>0</td>\n      <td>None</td>\n      <td>5012.8022</td>\n      <td>3</td>\n      <td>530.308350</td>\n      <td>...</td>\n      <td>0</td>\n      <td>['OpenMS:Target-decoy PSM q-value': 0.00012527...</td>\n      <td>NaN</td>\n      <td>01307_D05_P013386_S00_N36_R1</td>\n      <td>38274</td>\n      <td>None</td>\n      <td>None</td>\n      <td>NaN</td>\n      <td>None</td>\n      <td>None</td>\n    </tr>\n    <tr>\n      <th>16294596</th>\n      <td>QVYEEEYGSSLEDDVVGDTSGYYQR</td>\n      <td>[GRCh38_32181, GCA_15045]</td>\n      <td>[127, 127]</td>\n      <td>[151, 151]</td>\n      <td>0.000556</td>\n      <td>0</td>\n      <td>None</td>\n      <td>4054.3008</td>\n      <td>3</td>\n      <td>963.751770</td>\n      <td>...</td>\n      <td>0</td>\n      <td>['OpenMS:Target-decoy PSM q-value': 1.82972572...</td>\n      <td>NaN</td>\n      <td>01307_D05_P013386_S00_N36_R1</td>\n      <td>30154</td>\n      <td>None</td>\n      <td>None</td>\n      <td>NaN</td>\n      <td>None</td>\n      <td>None</td>\n    </tr>\n    <tr>\n      <th>16294597</th>\n      <td>LTRPGSSYFNLNPFEVLQIDPEVTDEEIK</td>\n      <td>[GRCh38_25113, GCA_58373]</td>\n      <td>[46, 46]</td>\n      <td>[74, 74]</td>\n      <td>0.000556</td>\n      <td>0</td>\n      <td>None</td>\n      <td>6023.4970</td>\n      <td>3</td>\n      <td>1117.563232</td>\n      <td>...</td>\n      <td>0</td>\n      <td>['OpenMS:Target-decoy PSM q-value': 0.00108037...</td>\n      <td>NaN</td>\n      <td>01307_D05_P013386_S00_N36_R1</td>\n      <td>46678</td>\n      <td>None</td>\n      <td>None</td>\n      <td>NaN</td>\n      <td>None</td>\n      <td>None</td>\n    </tr>\n    <tr>\n      <th>16294598</th>\n      <td>YFEEYALVNQDILENK</td>\n      <td>[GCA_308872]</td>\n      <td>[222]</td>\n      <td>[237]</td>\n      <td>0.000556</td>\n      <td>1</td>\n      <td>[9|10|15-UNIMOD:7]</td>\n      <td>4669.2130</td>\n      <td>2</td>\n      <td>995.959290</td>\n      <td>...</td>\n      <td>0</td>\n      <td>['OpenMS:Target-decoy PSM q-value': 0.00737441...</td>\n      <td>NaN</td>\n      <td>01307_D05_P013386_S00_N36_R1</td>\n      <td>35313</td>\n      <td>None</td>\n      <td>None</td>\n      <td>NaN</td>\n      <td>None</td>\n      <td>None</td>\n    </tr>\n  </tbody>\n</table>\n<p>16294599 rows × 24 columns</p>\n</div>"
     },
     "execution_count": 5,
     "metadata": {},
     "output_type": "execute_result"
    }
   ],
   "source": [
    "df"
   ],
   "metadata": {
    "collapsed": false,
    "pycharm": {
     "name": "#%%\n"
    }
   }
  },
  {
   "cell_type": "code",
   "execution_count": 6,
   "id": "c279e077-ba31-4b18-b674-97aff612d304",
   "metadata": {
    "pycharm": {
     "name": "#%%\n"
    }
   },
   "outputs": [],
   "source": [
    "#shorten accessions to save memory\n",
    "def get_source(accessions):\n",
    "    accessions = accessions.split(',')\n",
    "\n",
    "    for acc in accessions:\n",
    "        if acc.startswith('DECOY_CONTAMINANT'):\n",
    "            return 'DECOY_CONTAMINANT'\n",
    "    for acc in accessions:\n",
    "        if acc.startswith('CONTAMINANT'):\n",
    "            return 'CONTAMINANT'\n",
    "    \n",
    "    for acc in accessions:\n",
    "        if acc.startswith('DECOY_GRCh38'):\n",
    "            return 'DECOY_GRCh38'\n",
    "    \n",
    "    for acc in accessions:\n",
    "        if acc.startswith('DECOY_GCA'):\n",
    "            return 'DECOY_GCA'\n",
    "\n",
    "    for acc in accessions:\n",
    "        if acc.startswith('GRCh38'):\n",
    "            return 'GRCh38'\n",
    "    \n",
    "    for acc in accessions:\n",
    "        if acc.startswith('GCA'):\n",
    "            return 'GCA'\n",
    "    \n",
    "    return accessions"
   ]
  },
  {
   "cell_type": "code",
   "execution_count": 7,
   "id": "c8839a2a",
   "metadata": {
    "pycharm": {
     "name": "#%%\n"
    }
   },
   "outputs": [
    {
     "name": "stdout",
     "output_type": "stream",
     "text": [
      "Number of PSMs in the file =  16294599\n"
     ]
    }
   ],
   "source": [
    "print('Number of PSMs in the file = ', len(df))"
   ]
  },
  {
   "cell_type": "code",
   "execution_count": 8,
   "id": "0cc0923d-e240-4cd0-9a88-c76c71f331bc",
   "metadata": {
    "pycharm": {
     "name": "#%%\n"
    }
   },
   "outputs": [],
   "source": [
    "#Convert array values in the accession to list\n",
    "def join_vals(x):\n",
    "    return ','.join(x.astype(str).tolist())"
   ]
  },
  {
   "cell_type": "code",
   "execution_count": 9,
   "id": "3bc7770f-cbe2-4e4f-af67-fb89cd440ef4",
   "metadata": {
    "pycharm": {
     "name": "#%%\n"
    }
   },
   "outputs": [],
   "source": [
    "df['protein_accessions'] = df['protein_accessions'].apply(join_vals)"
   ]
  },
  {
   "cell_type": "code",
   "execution_count": 10,
   "outputs": [
    {
     "data": {
      "text/plain": "                                         sequence  \\\n0         GAGGAGSGGCCCCVLGWLGVALCGLALLSGLVLGLLVGR   \n1                                EYLGAICSCTCFGGQR   \n2                                   TCVADESAENCDK   \n3                                 AAAFEEQENETVVVK   \n4                  KVADALTNAVAHVDDMPNALSALSDLHAHK   \n...                                           ...   \n16294594                     YFEITEEPPYIHFLNTFTSK   \n16294595                           SGKLDAFLVLEQLR   \n16294596                QVYEEEYGSSLEDDVVGDTSGYYQR   \n16294597            LTRPGSSYFNLNPFEVLQIDPEVTDEEIK   \n16294598                         YFEEYALVNQDILENK   \n\n                                         protein_accessions  \\\n0                                          DECOY_GCA_315848   \n1                                                GCA_131462   \n2         GRCh38_78290,GCA_14814,CONTAMINANT_P02768-1,CO...   \n3                                              GRCh38_64703   \n4                                    GRCh38_28602,GCA_72537   \n...                                                     ...   \n16294594                             GRCh38_46198,GCA_99552   \n16294595                  GRCh38_7521,GCA_100434,GCA_246681   \n16294596                             GRCh38_32181,GCA_15045   \n16294597                             GRCh38_25113,GCA_58373   \n16294598                                         GCA_308872   \n\n         protein_start_positions protein_end_positions  protein_global_qvalue  \\\n0                          [115]                 [153]               0.383534   \n1                         [2311]                [2326]               0.000556   \n2               [76, 76, 76, 76]      [88, 88, 88, 88]               0.000556   \n3                         [2494]                [2508]               0.000556   \n4                       [62, 62]              [91, 91]               0.000556   \n...                          ...                   ...                    ...   \n16294594              [294, 294]            [313, 313]               0.000556   \n16294595         [687, 687, 687]       [700, 700, 700]               0.000556   \n16294596              [127, 127]            [151, 151]               0.000556   \n16294597                [46, 46]              [74, 74]               0.000556   \n16294598                   [222]                 [237]               0.000556   \n\n          unique              modifications  retention_time  charge  \\\n0              1  [10|11|12|13|23-UNIMOD:4]     182368.1280       4   \n1              1          [7|9|11-UNIMOD:4]     200494.1280       2   \n2              0            [2|11-UNIMOD:4]      83191.5960       2   \n3              1                       None     158287.7040       2   \n4              0            [8|18-UNIMOD:7]       4640.3813       6   \n...          ...                        ...             ...     ...   \n16294594       0                       None       5652.1924       3   \n16294595       0                       None       5012.8022       3   \n16294596       0                       None       4054.3008       3   \n16294597       0                       None       6023.4970       3   \n16294598       1         [9|10|15-UNIMOD:7]       4669.2130       2   \n\n          exp_mass_to_charge  ...  is_decoy  \\\n0                 958.501276  ...         1   \n1                 939.900626  ...         0   \n2                 749.796626  ...         0   \n3                 832.412626  ...         0   \n4                 522.103821  ...         0   \n...                      ...  ...       ...   \n16294594          826.076477  ...         0   \n16294595          530.308350  ...         0   \n16294596          963.751770  ...         0   \n16294597         1117.563232  ...         0   \n16294598          995.959290  ...         0   \n\n                                                  id_scores  \\\n0         ['OpenMS:Target-decoy PSM q-value': 0.00704929...   \n1         ['OpenMS:Target-decoy PSM q-value': 0.00366430...   \n2         ['OpenMS:Target-decoy PSM q-value': 0.00383706...   \n3         ['OpenMS:Target-decoy PSM q-value': 0.00106247...   \n4         ['OpenMS:Target-decoy PSM q-value': 0.00055787...   \n...                                                     ...   \n16294594  ['OpenMS:Target-decoy PSM q-value': 2.65999930...   \n16294595  ['OpenMS:Target-decoy PSM q-value': 0.00012527...   \n16294596  ['OpenMS:Target-decoy PSM q-value': 1.82972572...   \n16294597  ['OpenMS:Target-decoy PSM q-value': 0.00108037...   \n16294598  ['OpenMS:Target-decoy PSM q-value': 0.00737441...   \n\n          consensus_support           reference_file_name  scan_number  \\\n0                       NaN  01524_A01_P015424_S00_N01_R1        12179   \n1                       NaN  01524_A01_P015424_S00_N01_R1        14522   \n2                       NaN  01524_A01_P015424_S00_N01_R1         4604   \n3                       NaN  01524_A01_P015424_S00_N01_R1         9826   \n4                       NaN  01524_A01_P015424_S00_N01_R1        27647   \n...                     ...                           ...          ...   \n16294594                NaN  01307_D05_P013386_S00_N36_R1        43638   \n16294595                NaN  01307_D05_P013386_S00_N36_R1        38274   \n16294596                NaN  01307_D05_P013386_S00_N36_R1        30154   \n16294597                NaN  01307_D05_P013386_S00_N36_R1        46678   \n16294598                NaN  01307_D05_P013386_S00_N36_R1        35313   \n\n         mz_array  intensity_array num_peaks gene_accessions gene_names  \n0            None             None       NaN            None       None  \n1            None             None       NaN            None       None  \n2            None             None       NaN            None       None  \n3            None             None       NaN            None       None  \n4            None             None       NaN            None       None  \n...           ...              ...       ...             ...        ...  \n16294594     None             None       NaN            None       None  \n16294595     None             None       NaN            None       None  \n16294596     None             None       NaN            None       None  \n16294597     None             None       NaN            None       None  \n16294598     None             None       NaN            None       None  \n\n[16294599 rows x 24 columns]",
      "text/html": "<div>\n<style scoped>\n    .dataframe tbody tr th:only-of-type {\n        vertical-align: middle;\n    }\n\n    .dataframe tbody tr th {\n        vertical-align: top;\n    }\n\n    .dataframe thead th {\n        text-align: right;\n    }\n</style>\n<table border=\"1\" class=\"dataframe\">\n  <thead>\n    <tr style=\"text-align: right;\">\n      <th></th>\n      <th>sequence</th>\n      <th>protein_accessions</th>\n      <th>protein_start_positions</th>\n      <th>protein_end_positions</th>\n      <th>protein_global_qvalue</th>\n      <th>unique</th>\n      <th>modifications</th>\n      <th>retention_time</th>\n      <th>charge</th>\n      <th>exp_mass_to_charge</th>\n      <th>...</th>\n      <th>is_decoy</th>\n      <th>id_scores</th>\n      <th>consensus_support</th>\n      <th>reference_file_name</th>\n      <th>scan_number</th>\n      <th>mz_array</th>\n      <th>intensity_array</th>\n      <th>num_peaks</th>\n      <th>gene_accessions</th>\n      <th>gene_names</th>\n    </tr>\n  </thead>\n  <tbody>\n    <tr>\n      <th>0</th>\n      <td>GAGGAGSGGCCCCVLGWLGVALCGLALLSGLVLGLLVGR</td>\n      <td>DECOY_GCA_315848</td>\n      <td>[115]</td>\n      <td>[153]</td>\n      <td>0.383534</td>\n      <td>1</td>\n      <td>[10|11|12|13|23-UNIMOD:4]</td>\n      <td>182368.1280</td>\n      <td>4</td>\n      <td>958.501276</td>\n      <td>...</td>\n      <td>1</td>\n      <td>['OpenMS:Target-decoy PSM q-value': 0.00704929...</td>\n      <td>NaN</td>\n      <td>01524_A01_P015424_S00_N01_R1</td>\n      <td>12179</td>\n      <td>None</td>\n      <td>None</td>\n      <td>NaN</td>\n      <td>None</td>\n      <td>None</td>\n    </tr>\n    <tr>\n      <th>1</th>\n      <td>EYLGAICSCTCFGGQR</td>\n      <td>GCA_131462</td>\n      <td>[2311]</td>\n      <td>[2326]</td>\n      <td>0.000556</td>\n      <td>1</td>\n      <td>[7|9|11-UNIMOD:4]</td>\n      <td>200494.1280</td>\n      <td>2</td>\n      <td>939.900626</td>\n      <td>...</td>\n      <td>0</td>\n      <td>['OpenMS:Target-decoy PSM q-value': 0.00366430...</td>\n      <td>NaN</td>\n      <td>01524_A01_P015424_S00_N01_R1</td>\n      <td>14522</td>\n      <td>None</td>\n      <td>None</td>\n      <td>NaN</td>\n      <td>None</td>\n      <td>None</td>\n    </tr>\n    <tr>\n      <th>2</th>\n      <td>TCVADESAENCDK</td>\n      <td>GRCh38_78290,GCA_14814,CONTAMINANT_P02768-1,CO...</td>\n      <td>[76, 76, 76, 76]</td>\n      <td>[88, 88, 88, 88]</td>\n      <td>0.000556</td>\n      <td>0</td>\n      <td>[2|11-UNIMOD:4]</td>\n      <td>83191.5960</td>\n      <td>2</td>\n      <td>749.796626</td>\n      <td>...</td>\n      <td>0</td>\n      <td>['OpenMS:Target-decoy PSM q-value': 0.00383706...</td>\n      <td>NaN</td>\n      <td>01524_A01_P015424_S00_N01_R1</td>\n      <td>4604</td>\n      <td>None</td>\n      <td>None</td>\n      <td>NaN</td>\n      <td>None</td>\n      <td>None</td>\n    </tr>\n    <tr>\n      <th>3</th>\n      <td>AAAFEEQENETVVVK</td>\n      <td>GRCh38_64703</td>\n      <td>[2494]</td>\n      <td>[2508]</td>\n      <td>0.000556</td>\n      <td>1</td>\n      <td>None</td>\n      <td>158287.7040</td>\n      <td>2</td>\n      <td>832.412626</td>\n      <td>...</td>\n      <td>0</td>\n      <td>['OpenMS:Target-decoy PSM q-value': 0.00106247...</td>\n      <td>NaN</td>\n      <td>01524_A01_P015424_S00_N01_R1</td>\n      <td>9826</td>\n      <td>None</td>\n      <td>None</td>\n      <td>NaN</td>\n      <td>None</td>\n      <td>None</td>\n    </tr>\n    <tr>\n      <th>4</th>\n      <td>KVADALTNAVAHVDDMPNALSALSDLHAHK</td>\n      <td>GRCh38_28602,GCA_72537</td>\n      <td>[62, 62]</td>\n      <td>[91, 91]</td>\n      <td>0.000556</td>\n      <td>0</td>\n      <td>[8|18-UNIMOD:7]</td>\n      <td>4640.3813</td>\n      <td>6</td>\n      <td>522.103821</td>\n      <td>...</td>\n      <td>0</td>\n      <td>['OpenMS:Target-decoy PSM q-value': 0.00055787...</td>\n      <td>NaN</td>\n      <td>01524_A01_P015424_S00_N01_R1</td>\n      <td>27647</td>\n      <td>None</td>\n      <td>None</td>\n      <td>NaN</td>\n      <td>None</td>\n      <td>None</td>\n    </tr>\n    <tr>\n      <th>...</th>\n      <td>...</td>\n      <td>...</td>\n      <td>...</td>\n      <td>...</td>\n      <td>...</td>\n      <td>...</td>\n      <td>...</td>\n      <td>...</td>\n      <td>...</td>\n      <td>...</td>\n      <td>...</td>\n      <td>...</td>\n      <td>...</td>\n      <td>...</td>\n      <td>...</td>\n      <td>...</td>\n      <td>...</td>\n      <td>...</td>\n      <td>...</td>\n      <td>...</td>\n      <td>...</td>\n    </tr>\n    <tr>\n      <th>16294594</th>\n      <td>YFEITEEPPYIHFLNTFTSK</td>\n      <td>GRCh38_46198,GCA_99552</td>\n      <td>[294, 294]</td>\n      <td>[313, 313]</td>\n      <td>0.000556</td>\n      <td>0</td>\n      <td>None</td>\n      <td>5652.1924</td>\n      <td>3</td>\n      <td>826.076477</td>\n      <td>...</td>\n      <td>0</td>\n      <td>['OpenMS:Target-decoy PSM q-value': 2.65999930...</td>\n      <td>NaN</td>\n      <td>01307_D05_P013386_S00_N36_R1</td>\n      <td>43638</td>\n      <td>None</td>\n      <td>None</td>\n      <td>NaN</td>\n      <td>None</td>\n      <td>None</td>\n    </tr>\n    <tr>\n      <th>16294595</th>\n      <td>SGKLDAFLVLEQLR</td>\n      <td>GRCh38_7521,GCA_100434,GCA_246681</td>\n      <td>[687, 687, 687]</td>\n      <td>[700, 700, 700]</td>\n      <td>0.000556</td>\n      <td>0</td>\n      <td>None</td>\n      <td>5012.8022</td>\n      <td>3</td>\n      <td>530.308350</td>\n      <td>...</td>\n      <td>0</td>\n      <td>['OpenMS:Target-decoy PSM q-value': 0.00012527...</td>\n      <td>NaN</td>\n      <td>01307_D05_P013386_S00_N36_R1</td>\n      <td>38274</td>\n      <td>None</td>\n      <td>None</td>\n      <td>NaN</td>\n      <td>None</td>\n      <td>None</td>\n    </tr>\n    <tr>\n      <th>16294596</th>\n      <td>QVYEEEYGSSLEDDVVGDTSGYYQR</td>\n      <td>GRCh38_32181,GCA_15045</td>\n      <td>[127, 127]</td>\n      <td>[151, 151]</td>\n      <td>0.000556</td>\n      <td>0</td>\n      <td>None</td>\n      <td>4054.3008</td>\n      <td>3</td>\n      <td>963.751770</td>\n      <td>...</td>\n      <td>0</td>\n      <td>['OpenMS:Target-decoy PSM q-value': 1.82972572...</td>\n      <td>NaN</td>\n      <td>01307_D05_P013386_S00_N36_R1</td>\n      <td>30154</td>\n      <td>None</td>\n      <td>None</td>\n      <td>NaN</td>\n      <td>None</td>\n      <td>None</td>\n    </tr>\n    <tr>\n      <th>16294597</th>\n      <td>LTRPGSSYFNLNPFEVLQIDPEVTDEEIK</td>\n      <td>GRCh38_25113,GCA_58373</td>\n      <td>[46, 46]</td>\n      <td>[74, 74]</td>\n      <td>0.000556</td>\n      <td>0</td>\n      <td>None</td>\n      <td>6023.4970</td>\n      <td>3</td>\n      <td>1117.563232</td>\n      <td>...</td>\n      <td>0</td>\n      <td>['OpenMS:Target-decoy PSM q-value': 0.00108037...</td>\n      <td>NaN</td>\n      <td>01307_D05_P013386_S00_N36_R1</td>\n      <td>46678</td>\n      <td>None</td>\n      <td>None</td>\n      <td>NaN</td>\n      <td>None</td>\n      <td>None</td>\n    </tr>\n    <tr>\n      <th>16294598</th>\n      <td>YFEEYALVNQDILENK</td>\n      <td>GCA_308872</td>\n      <td>[222]</td>\n      <td>[237]</td>\n      <td>0.000556</td>\n      <td>1</td>\n      <td>[9|10|15-UNIMOD:7]</td>\n      <td>4669.2130</td>\n      <td>2</td>\n      <td>995.959290</td>\n      <td>...</td>\n      <td>0</td>\n      <td>['OpenMS:Target-decoy PSM q-value': 0.00737441...</td>\n      <td>NaN</td>\n      <td>01307_D05_P013386_S00_N36_R1</td>\n      <td>35313</td>\n      <td>None</td>\n      <td>None</td>\n      <td>NaN</td>\n      <td>None</td>\n      <td>None</td>\n    </tr>\n  </tbody>\n</table>\n<p>16294599 rows × 24 columns</p>\n</div>"
     },
     "execution_count": 10,
     "metadata": {},
     "output_type": "execute_result"
    }
   ],
   "source": [
    "df"
   ],
   "metadata": {
    "collapsed": false,
    "pycharm": {
     "name": "#%%\n"
    }
   }
  },
  {
   "cell_type": "code",
   "execution_count": 11,
   "id": "0b74cb04-e0a7-41cd-ae01-b49df3695f96",
   "metadata": {
    "pycharm": {
     "name": "#%%\n"
    }
   },
   "outputs": [],
   "source": [
    "df['prot_source'] = df['protein_accessions'].apply(get_source)"
   ]
  },
  {
   "cell_type": "code",
   "execution_count": 12,
   "id": "023a7676-8298-4611-b252-0b6ce79451d7",
   "metadata": {
    "pycharm": {
     "name": "#%%\n"
    }
   },
   "outputs": [
    {
     "data": {
      "text/plain": "prot_source\nGRCh38               10856612\nGCA                   4669970\nCONTAMINANT            606683\nDECOY_GCA              107166\nDECOY_GRCh38            53107\nDECOY_CONTAMINANT        1061\nName: count, dtype: int64"
     },
     "execution_count": 12,
     "metadata": {},
     "output_type": "execute_result"
    }
   ],
   "source": [
    "df['prot_source'].value_counts()"
   ]
  },
  {
   "cell_type": "markdown",
   "source": [
    "#### blast GCA with canonical"
   ],
   "metadata": {
    "collapsed": false,
    "pycharm": {
     "name": "#%% md\n"
    }
   }
  },
  {
   "cell_type": "code",
   "execution_count": 13,
   "outputs": [],
   "source": [
    "fa_set = set()\n",
    "for j in SeqIO.parse(\"/home1/wangd/project/can_db/Homo_sapiens.GRCh38.pep.all.fa\", \"fasta\"):\n",
    "    fa_set.add(str(j.seq))\n",
    "for j in SeqIO.parse(\"/home1/wangd/project/can_db/uniprotkb_Homo_sapiens_AND_model_organi_2023_11_02.fasta\", \"fasta\"):\n",
    "    fa_set.add(str(j.seq))"
   ],
   "metadata": {
    "collapsed": false,
    "pycharm": {
     "name": "#%%\n"
    }
   }
  },
  {
   "cell_type": "code",
   "execution_count": 14,
   "outputs": [],
   "source": [
    "def blast_with_caonical_fasta(peptide):\n",
    "    for fasta in fa_set:\n",
    "        if peptide in fasta:\n",
    "            return \"GRCh38\"\n",
    "    return \"GCA\""
   ],
   "metadata": {
    "collapsed": false,
    "pycharm": {
     "name": "#%%\n"
    }
   }
  },
  {
   "cell_type": "code",
   "execution_count": 15,
   "outputs": [
    {
     "name": "stdout",
     "output_type": "stream",
     "text": [
      "2023-11-06 15:44:04.031733\n"
     ]
    },
    {
     "name": "stderr",
     "output_type": "stream",
     "text": [
      "100%|██████████| 508840/508840 [4:05:36<00:00, 34.53it/s]  "
     ]
    },
    {
     "name": "stdout",
     "output_type": "stream",
     "text": [
      "End time : 2023-11-06 19:49:41.701224\n",
      "Time consumption : 4:05:37.669491\n"
     ]
    },
    {
     "name": "stderr",
     "output_type": "stream",
     "text": [
      "\n"
     ]
    }
   ],
   "source": [
    "start_time = datetime.datetime.now()\n",
    "print(start_time)\n",
    "\n",
    "seq_set = set(df[\"sequence\"].to_list())\n",
    "seq_dict = dict()\n",
    "for i in tqdm(seq_set):\n",
    "    seq_dict[i] = blast_with_caonical_fasta(i)\n",
    "\n",
    "end_time = datetime.datetime.now()\n",
    "print(\"End time :\", end_time)\n",
    "set_time_taken = end_time - start_time\n",
    "print(\"Time consumption :\", set_time_taken)"
   ],
   "metadata": {
    "collapsed": false,
    "pycharm": {
     "name": "#%%\n"
    }
   }
  },
  {
   "cell_type": "code",
   "execution_count": 16,
   "outputs": [],
   "source": [
    "df['prot_source'] = df.apply(lambda x: seq_dict.get(x['sequence']) if x['prot_source'] == 'GCA' else x['prot_source'], axis=1)"
   ],
   "metadata": {
    "collapsed": false,
    "pycharm": {
     "name": "#%%\n"
    }
   }
  },
  {
   "cell_type": "code",
   "execution_count": 17,
   "outputs": [
    {
     "data": {
      "text/plain": "prot_source\nGRCh38               15422103\nCONTAMINANT            606683\nDECOY_GCA              107166\nGCA                    104479\nDECOY_GRCh38            53107\nDECOY_CONTAMINANT        1061\nName: count, dtype: int64"
     },
     "execution_count": 17,
     "metadata": {},
     "output_type": "execute_result"
    }
   ],
   "source": [
    "df['prot_source'].value_counts()"
   ],
   "metadata": {
    "collapsed": false,
    "pycharm": {
     "name": "#%%\n"
    }
   }
  },
  {
   "cell_type": "code",
   "execution_count": 18,
   "id": "2a143556-e62f-49e1-a1e6-26b60b96d9c2",
   "metadata": {
    "pycharm": {
     "name": "#%%\n"
    }
   },
   "outputs": [
    {
     "name": "stderr",
     "output_type": "stream",
     "text": [
      "/tmp/ipykernel_2460053/4138984441.py:11: UserWarning: \n",
      "\n",
      "`distplot` is a deprecated function and will be removed in seaborn v0.14.0.\n",
      "\n",
      "Please adapt your code to use either `displot` (a figure-level function with\n",
      "similar flexibility) or `histplot` (an axes-level function for histograms).\n",
      "\n",
      "For a guide to updating your code to use the new functions, please see\n",
      "https://gist.github.com/mwaskom/de44147ed2974457ad6372750bbe5751\n",
      "\n",
      "  sns.distplot(gca['posterior_error_probability'],\n",
      "/tmp/ipykernel_2460053/4138984441.py:13: UserWarning: \n",
      "\n",
      "`distplot` is a deprecated function and will be removed in seaborn v0.14.0.\n",
      "\n",
      "Please adapt your code to use either `displot` (a figure-level function with\n",
      "similar flexibility) or `histplot` (an axes-level function for histograms).\n",
      "\n",
      "For a guide to updating your code to use the new functions, please see\n",
      "https://gist.github.com/mwaskom/de44147ed2974457ad6372750bbe5751\n",
      "\n",
      "  sns.distplot(grch['posterior_error_probability'],\n",
      "/tmp/ipykernel_2460053/4138984441.py:15: UserWarning: \n",
      "\n",
      "`distplot` is a deprecated function and will be removed in seaborn v0.14.0.\n",
      "\n",
      "Please adapt your code to use either `displot` (a figure-level function with\n",
      "similar flexibility) or `histplot` (an axes-level function for histograms).\n",
      "\n",
      "For a guide to updating your code to use the new functions, please see\n",
      "https://gist.github.com/mwaskom/de44147ed2974457ad6372750bbe5751\n",
      "\n",
      "  sns.distplot(decoy_gca['posterior_error_probability'],\n",
      "/tmp/ipykernel_2460053/4138984441.py:17: UserWarning: \n",
      "\n",
      "`distplot` is a deprecated function and will be removed in seaborn v0.14.0.\n",
      "\n",
      "Please adapt your code to use either `displot` (a figure-level function with\n",
      "similar flexibility) or `histplot` (an axes-level function for histograms).\n",
      "\n",
      "For a guide to updating your code to use the new functions, please see\n",
      "https://gist.github.com/mwaskom/de44147ed2974457ad6372750bbe5751\n",
      "\n",
      "  sns.distplot(decoy_grch['posterior_error_probability'],\n"
     ]
    },
    {
     "data": {
      "text/plain": "<matplotlib.legend.Legend at 0x7fe8b9b8ee00>"
     },
     "execution_count": 18,
     "metadata": {},
     "output_type": "execute_result"
    },
    {
     "data": {
      "text/plain": "<Figure size 2000x1000 with 1 Axes>",
      "image/png": "[encoded data removed]"
     },
     "metadata": {},
     "output_type": "display_data"
    }
   ],
   "source": [
    "df2 = df[df['posterior_error_probability']<0.01]\n",
    "\n",
    "gca = df2.loc[df2.prot_source.str.startswith(\"GCA\")==True]\n",
    "grch = df2.loc[df2.prot_source.str.startswith(\"GRCh38\")==True]\n",
    "decoy_grch = df2.loc[df2.prot_source.str.startswith(\"DECOY_GRCh38\")==True]\n",
    "decoy_gca = df2.loc[df2.prot_source.str.startswith(\"DECOY_GCA\")==True]\n",
    "\n",
    "#sns.df['posterior_error_probability']\n",
    "\n",
    "plt.figure(figsize=(20, 10))\n",
    "sns.distplot(gca['posterior_error_probability'], \n",
    "             hist=True, kde=True, label='GCA', color='blue')\n",
    "sns.distplot(grch['posterior_error_probability'], \n",
    "             hist=True, kde=True, label='GRCh38', color='green')\n",
    "sns.distplot(decoy_gca['posterior_error_probability'], \n",
    "             hist=True, kde=True, label='DECOY_GCA', color='red')\n",
    "sns.distplot(decoy_grch['posterior_error_probability'], \n",
    "             hist=True, kde=True, label='DECOY_GRCh38', color='yellow')\n",
    "\n",
    "plt.legend()"
   ]
  },
  {
   "cell_type": "code",
   "execution_count": 19,
   "id": "10b0c4f2-05d5-4d7a-8616-a58ea17e1231",
   "metadata": {
    "pycharm": {
     "name": "#%%\n"
    }
   },
   "outputs": [
    {
     "data": {
      "text/plain": "([0, 1, 2, 3, 4, 5],\n [Text(0, 0, 'GRCh38'),\n  Text(1, 0, 'CONTAMINANT'),\n  Text(2, 0, 'GCA'),\n  Text(3, 0, 'DECOY_GCA'),\n  Text(4, 0, 'DECOY_GRCh38'),\n  Text(5, 0, 'DECOY_CONTAMINANT')])"
     },
     "execution_count": 19,
     "metadata": {},
     "output_type": "execute_result"
    },
    {
     "data": {
      "text/plain": "<Figure size 2000x1000 with 1 Axes>",
      "image/png": "[encoded data removed]"
     },
     "metadata": {},
     "output_type": "display_data"
    }
   ],
   "source": [
    "plt.figure(figsize=(20, 10))\n",
    "\n",
    "sns.boxplot(\n",
    "    df2, x=\"prot_source\", y=\"posterior_error_probability\", hue=\"prot_source\",\n",
    "    whis=[0, 100], width=.6, palette=\"vlag\"\n",
    ")\n",
    "plt.xticks(rotation=90) "
   ]
  },
  {
   "cell_type": "code",
   "execution_count": 20,
   "id": "7660f38c-e9bb-4c64-adf9-0659ed5b06f6",
   "metadata": {
    "pycharm": {
     "name": "#%%\n"
    }
   },
   "outputs": [
    {
     "data": {
      "text/plain": "prot_source\nGRCh38               13754880\nCONTAMINANT            542514\nGCA                     70820\nDECOY_GCA                6711\nDECOY_GRCh38             3148\nDECOY_CONTAMINANT          46\nName: count, dtype: int64"
     },
     "execution_count": 20,
     "metadata": {},
     "output_type": "execute_result"
    }
   ],
   "source": [
    "df[df['posterior_error_probability']<0.01]['prot_source'].value_counts()"
   ]
  },
  {
   "cell_type": "code",
   "execution_count": 21,
   "id": "b151b59d-9049-4071-b2cc-a30f6e2c4c41",
   "metadata": {
    "pycharm": {
     "name": "#%%\n"
    }
   },
   "outputs": [
    {
     "name": "stdout",
     "output_type": "stream",
     "text": [
      "Number of unique peptide sequences from\n",
      " GCA: 5382\n",
      " canonical: 342674\n",
      "union 348056\n",
      "intesect 0\n"
     ]
    }
   ],
   "source": [
    "print('Number of unique peptide sequences from\\n GCA: {}\\n canonical: {}'.format(len(gca.sequence.unique()), len(grch.sequence.unique())))\n",
    "print('union', len(set(grch.sequence).union(set(gca.sequence))))\n",
    "print('intesect', len(set(grch.sequence).intersection(set(gca.sequence))))"
   ]
  },
  {
   "cell_type": "code",
   "execution_count": 22,
   "id": "d5151650-0110-4ad4-ac4d-1becbb3e4cd8",
   "metadata": {
    "pycharm": {
     "name": "#%%\n"
    }
   },
   "outputs": [],
   "source": [
    "def rep(x):\n",
    "    return re.sub('{[^}]*}', '', x.replace('(','{').replace(')', '}').replace('.',''))"
   ]
  },
  {
   "cell_type": "code",
   "execution_count": 23,
   "id": "6602bbbf-4763-458a-b4ff-6da86e162b9b",
   "metadata": {
    "pycharm": {
     "name": "#%%\n"
    }
   },
   "outputs": [],
   "source": [
    "gca_seqs = list(set([rep(x) for x in gca['sequence'].tolist()]))"
   ]
  },
  {
   "cell_type": "code",
   "execution_count": 24,
   "id": "8319ee33-589a-4021-955c-4c3f640bc891",
   "metadata": {
    "pycharm": {
     "name": "#%%\n"
    }
   },
   "outputs": [
    {
     "data": {
      "text/plain": "5382"
     },
     "execution_count": 24,
     "metadata": {},
     "output_type": "execute_result"
    }
   ],
   "source": [
    "len(gca_seqs)"
   ]
  },
  {
   "cell_type": "code",
   "execution_count": 25,
   "id": "251da9fe-c4d2-4169-bd87-39dc02567025",
   "metadata": {
    "pycharm": {
     "name": "#%%\n"
    }
   },
   "outputs": [
    {
     "name": "stdout",
     "output_type": "stream",
     "text": [
      "95816\n"
     ]
    }
   ],
   "source": [
    "#get all canonical sequences from fasta\n",
    "canonical_proteins_fasta = '/home1/wangd/project/can_db/Homo_sapiens.GRCh38.pep.all.fa'\n",
    "allcan_seqs = []\n",
    "parsed_file = SeqIO.parse(canonical_proteins_fasta,\"fasta\")\n",
    "for record in parsed_file:\n",
    "    allcan_seqs.append(str(record.seq))\n",
    "allcan_seqs = list(set(allcan_seqs))\n",
    "print(len(allcan_seqs))"
   ]
  },
  {
   "cell_type": "code",
   "execution_count": 26,
   "id": "bf741694-4994-4e97-8293-0e400948cd35",
   "metadata": {
    "pycharm": {
     "name": "#%%\n"
    }
   },
   "outputs": [],
   "source": [
    "#get non-canonical peptides that are found in canonical proteins\n",
    "gca_found_peps = []\n",
    "auto = ahocorasick.Automaton()\n",
    "for gca_seq in gca_seqs:\n",
    "    auto.add_word(gca_seq, gca_seq)\n",
    "auto.make_automaton()\n",
    "for canseq in allcan_seqs:\n",
    "    for end_ind, found in auto.iter(canseq):\n",
    "        gca_found_peps.append(found)"
   ]
  },
  {
   "cell_type": "code",
   "execution_count": 27,
   "id": "be0911dd-d205-4c2a-85be-94c4f25ea9fd",
   "metadata": {
    "pycharm": {
     "name": "#%%\n"
    }
   },
   "outputs": [
    {
     "name": "stdout",
     "output_type": "stream",
     "text": [
      "0\n"
     ]
    }
   ],
   "source": [
    "print(len(set(gca_found_peps)))"
   ]
  },
  {
   "cell_type": "code",
   "execution_count": 28,
   "id": "fce4c089-e639-47e1-984a-c7c741ba2317",
   "metadata": {
    "pycharm": {
     "name": "#%%\n"
    }
   },
   "outputs": [
    {
     "name": "stdout",
     "output_type": "stream",
     "text": [
      "70820\n"
     ]
    }
   ],
   "source": [
    "gca_novel = gca[gca['sequence'].apply(rep).isin(gca_found_peps)==False]\n",
    "print(len(gca_novel))"
   ]
  },
  {
   "cell_type": "code",
   "execution_count": 29,
   "outputs": [
    {
     "name": "stdout",
     "output_type": "stream",
     "text": [
      "5382\n"
     ]
    }
   ],
   "source": [
    "print(len(set(gca_novel['sequence'].apply(rep).to_list())))"
   ],
   "metadata": {
    "collapsed": false,
    "pycharm": {
     "name": "#%%\n"
    }
   }
  },
  {
   "cell_type": "markdown",
   "source": [
    "#### To DeepLC"
   ],
   "metadata": {
    "collapsed": false,
    "pycharm": {
     "name": "#%% md\n"
    }
   }
  },
  {
   "cell_type": "code",
   "execution_count": 30,
   "outputs": [
    {
     "data": {
      "text/plain": "                                 sequence  \\\n784            NHSVAESLNYVASWNMSMLQTQDLVK   \n862                 QSGGSSQAGAVTVSDVQELMR   \n1106               LGMIVDKIDVDKDGFVTEGELK   \n1293      MVAVQNYHGNPAPPGKPVLTFQTGDVLELLR   \n1608                     VVSVLTILHQDWLNGK   \n...                                   ...   \n16292783   LLPNLNDIVAVGPEHFYGTNDHYFLDPYLR   \n16293735            TPEVTCVVVDVSHQDPEVQFK   \n16294014                      LLNLLADLVER   \n16294322            DVASLSSQIQDTQELLQEETR   \n16294583                      LLNLLADLVER   \n\n                               protein_accessions protein_start_positions  \\\n784                                     GCA_64056                   [284]   \n862       GCA_5200,GCA_5203,GCA_102666,GCA_102667            [8, 8, 8, 8]   \n1106                        GCA_118448,GCA_118449                [81, 73]   \n1293                                   GCA_180777                   [581]   \n1608                                   GCA_268986                   [182]   \n...                                           ...                     ...   \n16292783                               GCA_304161                   [163]   \n16293735                               GCA_263327                   [186]   \n16294014                               GCA_168207                   [104]   \n16294322                               GCA_293797                  [1316]   \n16294583                               GCA_168207                   [104]   \n\n         protein_end_positions  protein_global_qvalue  unique  \\\n784                      [309]               0.000556       1   \n862           [28, 28, 28, 28]               0.000556       0   \n1106                 [102, 94]               0.000556       0   \n1293                     [611]               0.000556       1   \n1608                     [197]               0.000556       1   \n...                        ...                    ...     ...   \n16292783                 [192]               0.000556       1   \n16293735                 [206]               0.000556       1   \n16294014                 [114]               0.000556       1   \n16294322                [1336]               0.000556       1   \n16294583                 [114]               0.000556       1   \n\n                          modifications  retention_time  charge  \\\n784       [1|15-UNIMOD:7, 16-UNIMOD:35]       5243.2000       3   \n862                                None       4081.7000       2   \n1106                               None       4128.1000       4   \n1293                       [6-UNIMOD:7]       5076.4000       4   \n1608                   [10|14-UNIMOD:7]       4782.1000       3   \n...                                 ...             ...     ...   \n16292783                   [6-UNIMOD:7]       5305.5790       4   \n16293735      [6-UNIMOD:4, 14-UNIMOD:7]       4145.0625       3   \n16294014                           None       5940.1720       2   \n16294322                           None       5055.1770       2   \n16294583                           None       5904.1143       2   \n\n          exp_mass_to_charge  ...  \\\n784               995.142455  ...   \n862              1054.513854  ...   \n1106              606.070749  ...   \n1293              841.702148  ...   \n1608              608.674349  ...   \n...                      ...  ...   \n16292783          876.693420  ...   \n16293735          805.726135  ...   \n16294014          634.883789  ...   \n16294322         1195.597900  ...   \n16294583          634.882690  ...   \n\n                                                  id_scores consensus_support  \\\n784       ['OpenMS:Target-decoy PSM q-value': 2.65999930...               NaN   \n862       ['OpenMS:Target-decoy PSM q-value': 2.65999930...               NaN   \n1106      ['OpenMS:Target-decoy PSM q-value': 2.69298479...               NaN   \n1293      ['OpenMS:Target-decoy PSM q-value': 5.68388783...               NaN   \n1608      ['OpenMS:Target-decoy PSM q-value': 0.00011536...               NaN   \n...                                                     ...               ...   \n16292783  ['OpenMS:Target-decoy PSM q-value': 0.00062140...               NaN   \n16293735  ['OpenMS:Target-decoy PSM q-value': 2.65999930...               NaN   \n16294014  ['OpenMS:Target-decoy PSM q-value': 4.30711710...               NaN   \n16294322  ['OpenMS:Target-decoy PSM q-value': 0.00016379...               NaN   \n16294583  ['OpenMS:Target-decoy PSM q-value': 5.79280414...               NaN   \n\n                   reference_file_name  scan_number  mz_array intensity_array  \\\n784       01524_A01_P015424_S00_N01_R1        33949      None            None   \n862       01524_A01_P015424_S00_N01_R1        21737      None            None   \n1106      01524_A01_P015424_S00_N01_R1        22238      None            None   \n1293      01524_A01_P015424_S00_N01_R1        32236      None            None   \n1608      01524_A01_P015424_S00_N01_R1        29128      None            None   \n...                                ...          ...       ...             ...   \n16292783  01293_D05_P013196_S00_N36_R1        36388      None            None   \n16293735  01307_D05_P013386_S00_N36_R1        30903      None            None   \n16294014  01307_D05_P013386_S00_N36_R1        46006      None            None   \n16294322  01307_D05_P013386_S00_N36_R1        38639      None            None   \n16294583  01307_D05_P013386_S00_N36_R1        45703      None            None   \n\n          num_peaks gene_accessions gene_names prot_source  \n784             NaN            None       None         GCA  \n862             NaN            None       None         GCA  \n1106            NaN            None       None         GCA  \n1293            NaN            None       None         GCA  \n1608            NaN            None       None         GCA  \n...             ...             ...        ...         ...  \n16292783        NaN            None       None         GCA  \n16293735        NaN            None       None         GCA  \n16294014        NaN            None       None         GCA  \n16294322        NaN            None       None         GCA  \n16294583        NaN            None       None         GCA  \n\n[70820 rows x 25 columns]",
      "text/html": "<div>\n<style scoped>\n    .dataframe tbody tr th:only-of-type {\n        vertical-align: middle;\n    }\n\n    .dataframe tbody tr th {\n        vertical-align: top;\n    }\n\n    .dataframe thead th {\n        text-align: right;\n    }\n</style>\n<table border=\"1\" class=\"dataframe\">\n  <thead>\n    <tr style=\"text-align: right;\">\n      <th></th>\n      <th>sequence</th>\n      <th>protein_accessions</th>\n      <th>protein_start_positions</th>\n      <th>protein_end_positions</th>\n      <th>protein_global_qvalue</th>\n      <th>unique</th>\n      <th>modifications</th>\n      <th>retention_time</th>\n      <th>charge</th>\n      <th>exp_mass_to_charge</th>\n      <th>...</th>\n      <th>id_scores</th>\n      <th>consensus_support</th>\n      <th>reference_file_name</th>\n      <th>scan_number</th>\n      <th>mz_array</th>\n      <th>intensity_array</th>\n      <th>num_peaks</th>\n      <th>gene_accessions</th>\n      <th>gene_names</th>\n      <th>prot_source</th>\n    </tr>\n  </thead>\n  <tbody>\n    <tr>\n      <th>784</th>\n      <td>NHSVAESLNYVASWNMSMLQTQDLVK</td>\n      <td>GCA_64056</td>\n      <td>[284]</td>\n      <td>[309]</td>\n      <td>0.000556</td>\n      <td>1</td>\n      <td>[1|15-UNIMOD:7, 16-UNIMOD:35]</td>\n      <td>5243.2000</td>\n      <td>3</td>\n      <td>995.142455</td>\n      <td>...</td>\n      <td>['OpenMS:Target-decoy PSM q-value': 2.65999930...</td>\n      <td>NaN</td>\n      <td>01524_A01_P015424_S00_N01_R1</td>\n      <td>33949</td>\n      <td>None</td>\n      <td>None</td>\n      <td>NaN</td>\n      <td>None</td>\n      <td>None</td>\n      <td>GCA</td>\n    </tr>\n    <tr>\n      <th>862</th>\n      <td>QSGGSSQAGAVTVSDVQELMR</td>\n      <td>GCA_5200,GCA_5203,GCA_102666,GCA_102667</td>\n      <td>[8, 8, 8, 8]</td>\n      <td>[28, 28, 28, 28]</td>\n      <td>0.000556</td>\n      <td>0</td>\n      <td>None</td>\n      <td>4081.7000</td>\n      <td>2</td>\n      <td>1054.513854</td>\n      <td>...</td>\n      <td>['OpenMS:Target-decoy PSM q-value': 2.65999930...</td>\n      <td>NaN</td>\n      <td>01524_A01_P015424_S00_N01_R1</td>\n      <td>21737</td>\n      <td>None</td>\n      <td>None</td>\n      <td>NaN</td>\n      <td>None</td>\n      <td>None</td>\n      <td>GCA</td>\n    </tr>\n    <tr>\n      <th>1106</th>\n      <td>LGMIVDKIDVDKDGFVTEGELK</td>\n      <td>GCA_118448,GCA_118449</td>\n      <td>[81, 73]</td>\n      <td>[102, 94]</td>\n      <td>0.000556</td>\n      <td>0</td>\n      <td>None</td>\n      <td>4128.1000</td>\n      <td>4</td>\n      <td>606.070749</td>\n      <td>...</td>\n      <td>['OpenMS:Target-decoy PSM q-value': 2.69298479...</td>\n      <td>NaN</td>\n      <td>01524_A01_P015424_S00_N01_R1</td>\n      <td>22238</td>\n      <td>None</td>\n      <td>None</td>\n      <td>NaN</td>\n      <td>None</td>\n      <td>None</td>\n      <td>GCA</td>\n    </tr>\n    <tr>\n      <th>1293</th>\n      <td>MVAVQNYHGNPAPPGKPVLTFQTGDVLELLR</td>\n      <td>GCA_180777</td>\n      <td>[581]</td>\n      <td>[611]</td>\n      <td>0.000556</td>\n      <td>1</td>\n      <td>[6-UNIMOD:7]</td>\n      <td>5076.4000</td>\n      <td>4</td>\n      <td>841.702148</td>\n      <td>...</td>\n      <td>['OpenMS:Target-decoy PSM q-value': 5.68388783...</td>\n      <td>NaN</td>\n      <td>01524_A01_P015424_S00_N01_R1</td>\n      <td>32236</td>\n      <td>None</td>\n      <td>None</td>\n      <td>NaN</td>\n      <td>None</td>\n      <td>None</td>\n      <td>GCA</td>\n    </tr>\n    <tr>\n      <th>1608</th>\n      <td>VVSVLTILHQDWLNGK</td>\n      <td>GCA_268986</td>\n      <td>[182]</td>\n      <td>[197]</td>\n      <td>0.000556</td>\n      <td>1</td>\n      <td>[10|14-UNIMOD:7]</td>\n      <td>4782.1000</td>\n      <td>3</td>\n      <td>608.674349</td>\n      <td>...</td>\n      <td>['OpenMS:Target-decoy PSM q-value': 0.00011536...</td>\n      <td>NaN</td>\n      <td>01524_A01_P015424_S00_N01_R1</td>\n      <td>29128</td>\n      <td>None</td>\n      <td>None</td>\n      <td>NaN</td>\n      <td>None</td>\n      <td>None</td>\n      <td>GCA</td>\n    </tr>\n    <tr>\n      <th>...</th>\n      <td>...</td>\n      <td>...</td>\n      <td>...</td>\n      <td>...</td>\n      <td>...</td>\n      <td>...</td>\n      <td>...</td>\n      <td>...</td>\n      <td>...</td>\n      <td>...</td>\n      <td>...</td>\n      <td>...</td>\n      <td>...</td>\n      <td>...</td>\n      <td>...</td>\n      <td>...</td>\n      <td>...</td>\n      <td>...</td>\n      <td>...</td>\n      <td>...</td>\n      <td>...</td>\n    </tr>\n    <tr>\n      <th>16292783</th>\n      <td>LLPNLNDIVAVGPEHFYGTNDHYFLDPYLR</td>\n      <td>GCA_304161</td>\n      <td>[163]</td>\n      <td>[192]</td>\n      <td>0.000556</td>\n      <td>1</td>\n      <td>[6-UNIMOD:7]</td>\n      <td>5305.5790</td>\n      <td>4</td>\n      <td>876.693420</td>\n      <td>...</td>\n      <td>['OpenMS:Target-decoy PSM q-value': 0.00062140...</td>\n      <td>NaN</td>\n      <td>01293_D05_P013196_S00_N36_R1</td>\n      <td>36388</td>\n      <td>None</td>\n      <td>None</td>\n      <td>NaN</td>\n      <td>None</td>\n      <td>None</td>\n      <td>GCA</td>\n    </tr>\n    <tr>\n      <th>16293735</th>\n      <td>TPEVTCVVVDVSHQDPEVQFK</td>\n      <td>GCA_263327</td>\n      <td>[186]</td>\n      <td>[206]</td>\n      <td>0.000556</td>\n      <td>1</td>\n      <td>[6-UNIMOD:4, 14-UNIMOD:7]</td>\n      <td>4145.0625</td>\n      <td>3</td>\n      <td>805.726135</td>\n      <td>...</td>\n      <td>['OpenMS:Target-decoy PSM q-value': 2.65999930...</td>\n      <td>NaN</td>\n      <td>01307_D05_P013386_S00_N36_R1</td>\n      <td>30903</td>\n      <td>None</td>\n      <td>None</td>\n      <td>NaN</td>\n      <td>None</td>\n      <td>None</td>\n      <td>GCA</td>\n    </tr>\n    <tr>\n      <th>16294014</th>\n      <td>LLNLLADLVER</td>\n      <td>GCA_168207</td>\n      <td>[104]</td>\n      <td>[114]</td>\n      <td>0.000556</td>\n      <td>1</td>\n      <td>None</td>\n      <td>5940.1720</td>\n      <td>2</td>\n      <td>634.883789</td>\n      <td>...</td>\n      <td>['OpenMS:Target-decoy PSM q-value': 4.30711710...</td>\n      <td>NaN</td>\n      <td>01307_D05_P013386_S00_N36_R1</td>\n      <td>46006</td>\n      <td>None</td>\n      <td>None</td>\n      <td>NaN</td>\n      <td>None</td>\n      <td>None</td>\n      <td>GCA</td>\n    </tr>\n    <tr>\n      <th>16294322</th>\n      <td>DVASLSSQIQDTQELLQEETR</td>\n      <td>GCA_293797</td>\n      <td>[1316]</td>\n      <td>[1336]</td>\n      <td>0.000556</td>\n      <td>1</td>\n      <td>None</td>\n      <td>5055.1770</td>\n      <td>2</td>\n      <td>1195.597900</td>\n      <td>...</td>\n      <td>['OpenMS:Target-decoy PSM q-value': 0.00016379...</td>\n      <td>NaN</td>\n      <td>01307_D05_P013386_S00_N36_R1</td>\n      <td>38639</td>\n      <td>None</td>\n      <td>None</td>\n      <td>NaN</td>\n      <td>None</td>\n      <td>None</td>\n      <td>GCA</td>\n    </tr>\n    <tr>\n      <th>16294583</th>\n      <td>LLNLLADLVER</td>\n      <td>GCA_168207</td>\n      <td>[104]</td>\n      <td>[114]</td>\n      <td>0.000556</td>\n      <td>1</td>\n      <td>None</td>\n      <td>5904.1143</td>\n      <td>2</td>\n      <td>634.882690</td>\n      <td>...</td>\n      <td>['OpenMS:Target-decoy PSM q-value': 5.79280414...</td>\n      <td>NaN</td>\n      <td>01307_D05_P013386_S00_N36_R1</td>\n      <td>45703</td>\n      <td>None</td>\n      <td>None</td>\n      <td>NaN</td>\n      <td>None</td>\n      <td>None</td>\n      <td>GCA</td>\n    </tr>\n  </tbody>\n</table>\n<p>70820 rows × 25 columns</p>\n</div>"
     },
     "execution_count": 30,
     "metadata": {},
     "output_type": "execute_result"
    }
   ],
   "source": [
    "gca"
   ],
   "metadata": {
    "collapsed": false,
    "pycharm": {
     "name": "#%%\n"
    }
   }
  },
  {
   "cell_type": "code",
   "execution_count": 31,
   "outputs": [
    {
     "data": {
      "text/plain": "                                sequence  \\\n4         KVADALTNAVAHVDDMPNALSALSDLHAHK   \n5         KVADALTNAVAHVDDMPNALSALSDLHAHK   \n6                       SLLSLPLVGSLPFLPR   \n7          VGETAPPNAYTVTDLVEYSIVIQQLSNGK   \n8                  STAAMSTYTGIFTDQVLSVLK   \n...                                  ...   \n16294591                 DSDWPFCSDEDWNYK   \n16294593            AFVHWYVGEGMEEGEFSEAR   \n16294594            YFEITEEPPYIHFLNTFTSK   \n16294595                  SGKLDAFLVLEQLR   \n16294596       QVYEEEYGSSLEDDVVGDTSGYYQR   \n\n                                         protein_accessions  \\\n4                                    GRCh38_28602,GCA_72537   \n5                                    GRCh38_28602,GCA_72537   \n6                                    GRCh38_51683,GCA_29982   \n7         GRCh38_57249,GRCh38_57250,GCA_58596,GCA_58597,...   \n8                                              GRCh38_60780   \n...                                                     ...   \n16294591                                         GCA_252999   \n16294593                              GRCh38_43584,GCA_1722   \n16294594                             GRCh38_46198,GCA_99552   \n16294595                  GRCh38_7521,GCA_100434,GCA_246681   \n16294596                             GRCh38_32181,GCA_15045   \n\n            protein_start_positions      protein_end_positions  \\\n4                          [62, 62]                   [91, 91]   \n5                          [62, 62]                   [91, 91]   \n6                          [30, 30]                   [45, 45]   \n7         [316, 299, 316, 299, 316]  [344, 327, 344, 327, 344]   \n8                             [155]                      [175]   \n...                             ...                        ...   \n16294591                       [49]                       [63]   \n16294593                 [403, 403]                 [422, 422]   \n16294594                 [294, 294]                 [313, 313]   \n16294595            [687, 687, 687]            [700, 700, 700]   \n16294596                 [127, 127]                 [151, 151]   \n\n          protein_global_qvalue  unique                modifications  \\\n4                      0.000556       0              [8|18-UNIMOD:7]   \n5                      0.000556       0  [16-UNIMOD:35, 18-UNIMOD:7]   \n6                      0.000556       0                         None   \n7                      0.000556       0                         None   \n8                      0.000556       1                         None   \n...                         ...     ...                          ...   \n16294591               0.000556       1                 [7-UNIMOD:4]   \n16294593               0.000556       0                         None   \n16294594               0.000556       0                         None   \n16294595               0.000556       0                         None   \n16294596               0.000556       0                         None   \n\n          retention_time  charge  exp_mass_to_charge  ...  \\\n4              4640.3813       6          522.103821  ...   \n5              4303.0024       6          524.601990  ...   \n6              6315.2000       2          855.024475  ...   \n7              6285.5000       3         1036.204528  ...   \n8              6281.9000       2         1117.574523  ...   \n...                  ...     ...                 ...  ...   \n16294591       4547.4233       2          982.378723  ...   \n16294593       6564.6610       3          777.681580  ...   \n16294594       5652.1924       3          826.076477  ...   \n16294595       5012.8022       3          530.308350  ...   \n16294596       4054.3008       3          963.751770  ...   \n\n                                                  id_scores consensus_support  \\\n4         ['OpenMS:Target-decoy PSM q-value': 0.00055787...               NaN   \n5         ['OpenMS:Target-decoy PSM q-value': 0.00037007...               NaN   \n6         ['OpenMS:Target-decoy PSM q-value': 0.00037979...               NaN   \n7         ['OpenMS:Target-decoy PSM q-value': 7.00719686...               NaN   \n8         ['OpenMS:Target-decoy PSM q-value': 0.00018626...               NaN   \n...                                                     ...               ...   \n16294591  ['OpenMS:Target-decoy PSM q-value': 3.80555515...               NaN   \n16294593  ['OpenMS:Target-decoy PSM q-value': 4.12148276...               NaN   \n16294594  ['OpenMS:Target-decoy PSM q-value': 2.65999930...               NaN   \n16294595  ['OpenMS:Target-decoy PSM q-value': 0.00012527...               NaN   \n16294596  ['OpenMS:Target-decoy PSM q-value': 1.82972572...               NaN   \n\n                   reference_file_name  scan_number  mz_array intensity_array  \\\n4         01524_A01_P015424_S00_N01_R1        27647      None            None   \n5         01524_A01_P015424_S00_N01_R1        24056      None            None   \n6         01524_A01_P015424_S00_N01_R1        43295      None            None   \n7         01524_A01_P015424_S00_N01_R1        43055      None            None   \n8         01524_A01_P015424_S00_N01_R1        43025      None            None   \n...                                ...          ...       ...             ...   \n16294591  01307_D05_P013386_S00_N36_R1        34237      None            None   \n16294593  01307_D05_P013386_S00_N36_R1        50165      None            None   \n16294594  01307_D05_P013386_S00_N36_R1        43638      None            None   \n16294595  01307_D05_P013386_S00_N36_R1        38274      None            None   \n16294596  01307_D05_P013386_S00_N36_R1        30154      None            None   \n\n          num_peaks gene_accessions gene_names prot_source  \n4               NaN            None       None      GRCh38  \n5               NaN            None       None      GRCh38  \n6               NaN            None       None      GRCh38  \n7               NaN            None       None      GRCh38  \n8               NaN            None       None      GRCh38  \n...             ...             ...        ...         ...  \n16294591        NaN            None       None      GRCh38  \n16294593        NaN            None       None      GRCh38  \n16294594        NaN            None       None      GRCh38  \n16294595        NaN            None       None      GRCh38  \n16294596        NaN            None       None      GRCh38  \n\n[13754880 rows x 25 columns]",
      "text/html": "<div>\n<style scoped>\n    .dataframe tbody tr th:only-of-type {\n        vertical-align: middle;\n    }\n\n    .dataframe tbody tr th {\n        vertical-align: top;\n    }\n\n    .dataframe thead th {\n        text-align: right;\n    }\n</style>\n<table border=\"1\" class=\"dataframe\">\n  <thead>\n    <tr style=\"text-align: right;\">\n      <th></th>\n      <th>sequence</th>\n      <th>protein_accessions</th>\n      <th>protein_start_positions</th>\n      <th>protein_end_positions</th>\n      <th>protein_global_qvalue</th>\n      <th>unique</th>\n      <th>modifications</th>\n      <th>retention_time</th>\n      <th>charge</th>\n      <th>exp_mass_to_charge</th>\n      <th>...</th>\n      <th>id_scores</th>\n      <th>consensus_support</th>\n      <th>reference_file_name</th>\n      <th>scan_number</th>\n      <th>mz_array</th>\n      <th>intensity_array</th>\n      <th>num_peaks</th>\n      <th>gene_accessions</th>\n      <th>gene_names</th>\n      <th>prot_source</th>\n    </tr>\n  </thead>\n  <tbody>\n    <tr>\n      <th>4</th>\n      <td>KVADALTNAVAHVDDMPNALSALSDLHAHK</td>\n      <td>GRCh38_28602,GCA_72537</td>\n      <td>[62, 62]</td>\n      <td>[91, 91]</td>\n      <td>0.000556</td>\n      <td>0</td>\n      <td>[8|18-UNIMOD:7]</td>\n      <td>4640.3813</td>\n      <td>6</td>\n      <td>522.103821</td>\n      <td>...</td>\n      <td>['OpenMS:Target-decoy PSM q-value': 0.00055787...</td>\n      <td>NaN</td>\n      <td>01524_A01_P015424_S00_N01_R1</td>\n      <td>27647</td>\n      <td>None</td>\n      <td>None</td>\n      <td>NaN</td>\n      <td>None</td>\n      <td>None</td>\n      <td>GRCh38</td>\n    </tr>\n    <tr>\n      <th>5</th>\n      <td>KVADALTNAVAHVDDMPNALSALSDLHAHK</td>\n      <td>GRCh38_28602,GCA_72537</td>\n      <td>[62, 62]</td>\n      <td>[91, 91]</td>\n      <td>0.000556</td>\n      <td>0</td>\n      <td>[16-UNIMOD:35, 18-UNIMOD:7]</td>\n      <td>4303.0024</td>\n      <td>6</td>\n      <td>524.601990</td>\n      <td>...</td>\n      <td>['OpenMS:Target-decoy PSM q-value': 0.00037007...</td>\n      <td>NaN</td>\n      <td>01524_A01_P015424_S00_N01_R1</td>\n      <td>24056</td>\n      <td>None</td>\n      <td>None</td>\n      <td>NaN</td>\n      <td>None</td>\n      <td>None</td>\n      <td>GRCh38</td>\n    </tr>\n    <tr>\n      <th>6</th>\n      <td>SLLSLPLVGSLPFLPR</td>\n      <td>GRCh38_51683,GCA_29982</td>\n      <td>[30, 30]</td>\n      <td>[45, 45]</td>\n      <td>0.000556</td>\n      <td>0</td>\n      <td>None</td>\n      <td>6315.2000</td>\n      <td>2</td>\n      <td>855.024475</td>\n      <td>...</td>\n      <td>['OpenMS:Target-decoy PSM q-value': 0.00037979...</td>\n      <td>NaN</td>\n      <td>01524_A01_P015424_S00_N01_R1</td>\n      <td>43295</td>\n      <td>None</td>\n      <td>None</td>\n      <td>NaN</td>\n      <td>None</td>\n      <td>None</td>\n      <td>GRCh38</td>\n    </tr>\n    <tr>\n      <th>7</th>\n      <td>VGETAPPNAYTVTDLVEYSIVIQQLSNGK</td>\n      <td>GRCh38_57249,GRCh38_57250,GCA_58596,GCA_58597,...</td>\n      <td>[316, 299, 316, 299, 316]</td>\n      <td>[344, 327, 344, 327, 344]</td>\n      <td>0.000556</td>\n      <td>0</td>\n      <td>None</td>\n      <td>6285.5000</td>\n      <td>3</td>\n      <td>1036.204528</td>\n      <td>...</td>\n      <td>['OpenMS:Target-decoy PSM q-value': 7.00719686...</td>\n      <td>NaN</td>\n      <td>01524_A01_P015424_S00_N01_R1</td>\n      <td>43055</td>\n      <td>None</td>\n      <td>None</td>\n      <td>NaN</td>\n      <td>None</td>\n      <td>None</td>\n      <td>GRCh38</td>\n    </tr>\n    <tr>\n      <th>8</th>\n      <td>STAAMSTYTGIFTDQVLSVLK</td>\n      <td>GRCh38_60780</td>\n      <td>[155]</td>\n      <td>[175]</td>\n      <td>0.000556</td>\n      <td>1</td>\n      <td>None</td>\n      <td>6281.9000</td>\n      <td>2</td>\n      <td>1117.574523</td>\n      <td>...</td>\n      <td>['OpenMS:Target-decoy PSM q-value': 0.00018626...</td>\n      <td>NaN</td>\n      <td>01524_A01_P015424_S00_N01_R1</td>\n      <td>43025</td>\n      <td>None</td>\n      <td>None</td>\n      <td>NaN</td>\n      <td>None</td>\n      <td>None</td>\n      <td>GRCh38</td>\n    </tr>\n    <tr>\n      <th>...</th>\n      <td>...</td>\n      <td>...</td>\n      <td>...</td>\n      <td>...</td>\n      <td>...</td>\n      <td>...</td>\n      <td>...</td>\n      <td>...</td>\n      <td>...</td>\n      <td>...</td>\n      <td>...</td>\n      <td>...</td>\n      <td>...</td>\n      <td>...</td>\n      <td>...</td>\n      <td>...</td>\n      <td>...</td>\n      <td>...</td>\n      <td>...</td>\n      <td>...</td>\n      <td>...</td>\n    </tr>\n    <tr>\n      <th>16294591</th>\n      <td>DSDWPFCSDEDWNYK</td>\n      <td>GCA_252999</td>\n      <td>[49]</td>\n      <td>[63]</td>\n      <td>0.000556</td>\n      <td>1</td>\n      <td>[7-UNIMOD:4]</td>\n      <td>4547.4233</td>\n      <td>2</td>\n      <td>982.378723</td>\n      <td>...</td>\n      <td>['OpenMS:Target-decoy PSM q-value': 3.80555515...</td>\n      <td>NaN</td>\n      <td>01307_D05_P013386_S00_N36_R1</td>\n      <td>34237</td>\n      <td>None</td>\n      <td>None</td>\n      <td>NaN</td>\n      <td>None</td>\n      <td>None</td>\n      <td>GRCh38</td>\n    </tr>\n    <tr>\n      <th>16294593</th>\n      <td>AFVHWYVGEGMEEGEFSEAR</td>\n      <td>GRCh38_43584,GCA_1722</td>\n      <td>[403, 403]</td>\n      <td>[422, 422]</td>\n      <td>0.000556</td>\n      <td>0</td>\n      <td>None</td>\n      <td>6564.6610</td>\n      <td>3</td>\n      <td>777.681580</td>\n      <td>...</td>\n      <td>['OpenMS:Target-decoy PSM q-value': 4.12148276...</td>\n      <td>NaN</td>\n      <td>01307_D05_P013386_S00_N36_R1</td>\n      <td>50165</td>\n      <td>None</td>\n      <td>None</td>\n      <td>NaN</td>\n      <td>None</td>\n      <td>None</td>\n      <td>GRCh38</td>\n    </tr>\n    <tr>\n      <th>16294594</th>\n      <td>YFEITEEPPYIHFLNTFTSK</td>\n      <td>GRCh38_46198,GCA_99552</td>\n      <td>[294, 294]</td>\n      <td>[313, 313]</td>\n      <td>0.000556</td>\n      <td>0</td>\n      <td>None</td>\n      <td>5652.1924</td>\n      <td>3</td>\n      <td>826.076477</td>\n      <td>...</td>\n      <td>['OpenMS:Target-decoy PSM q-value': 2.65999930...</td>\n      <td>NaN</td>\n      <td>01307_D05_P013386_S00_N36_R1</td>\n      <td>43638</td>\n      <td>None</td>\n      <td>None</td>\n      <td>NaN</td>\n      <td>None</td>\n      <td>None</td>\n      <td>GRCh38</td>\n    </tr>\n    <tr>\n      <th>16294595</th>\n      <td>SGKLDAFLVLEQLR</td>\n      <td>GRCh38_7521,GCA_100434,GCA_246681</td>\n      <td>[687, 687, 687]</td>\n      <td>[700, 700, 700]</td>\n      <td>0.000556</td>\n      <td>0</td>\n      <td>None</td>\n      <td>5012.8022</td>\n      <td>3</td>\n      <td>530.308350</td>\n      <td>...</td>\n      <td>['OpenMS:Target-decoy PSM q-value': 0.00012527...</td>\n      <td>NaN</td>\n      <td>01307_D05_P013386_S00_N36_R1</td>\n      <td>38274</td>\n      <td>None</td>\n      <td>None</td>\n      <td>NaN</td>\n      <td>None</td>\n      <td>None</td>\n      <td>GRCh38</td>\n    </tr>\n    <tr>\n      <th>16294596</th>\n      <td>QVYEEEYGSSLEDDVVGDTSGYYQR</td>\n      <td>GRCh38_32181,GCA_15045</td>\n      <td>[127, 127]</td>\n      <td>[151, 151]</td>\n      <td>0.000556</td>\n      <td>0</td>\n      <td>None</td>\n      <td>4054.3008</td>\n      <td>3</td>\n      <td>963.751770</td>\n      <td>...</td>\n      <td>['OpenMS:Target-decoy PSM q-value': 1.82972572...</td>\n      <td>NaN</td>\n      <td>01307_D05_P013386_S00_N36_R1</td>\n      <td>30154</td>\n      <td>None</td>\n      <td>None</td>\n      <td>NaN</td>\n      <td>None</td>\n      <td>None</td>\n      <td>GRCh38</td>\n    </tr>\n  </tbody>\n</table>\n<p>13754880 rows × 25 columns</p>\n</div>"
     },
     "execution_count": 31,
     "metadata": {},
     "output_type": "execute_result"
    }
   ],
   "source": [
    "grch"
   ],
   "metadata": {
    "collapsed": false,
    "pycharm": {
     "name": "#%%\n"
    }
   }
  },
  {
   "cell_type": "code",
   "execution_count": 32,
   "outputs": [],
   "source": [
    "mod_rep = {\"UNIMOD:4\":\"Carbamidomethyl\",\"UNIMOD:7\":\"Deamidated\",\"UNIMOD:35\":\"Oxidation\",\"UNIMOD:1\":\"Acetyl\"}\n",
    "def replace_mod(x):\n",
    "    s = \"\"\n",
    "    for mod in x:\n",
    "        nums = mod.split(\"-\")[0]\n",
    "        m = mod.split(\"-\")[1]\n",
    "        for n in nums.split(\"|\"):\n",
    "            if s:\n",
    "                s += \"|\"\n",
    "            s += n + \"|\" + mod_rep.get(m)\n",
    "    return s"
   ],
   "metadata": {
    "collapsed": false,
    "pycharm": {
     "name": "#%%\n"
    }
   }
  },
  {
   "cell_type": "code",
   "execution_count": 33,
   "outputs": [
    {
     "name": "stderr",
     "output_type": "stream",
     "text": [
      "/tmp/ipykernel_2460053/1059345756.py:1: SettingWithCopyWarning: \n",
      "A value is trying to be set on a copy of a slice from a DataFrame.\n",
      "Try using .loc[row_indexer,col_indexer] = value instead\n",
      "\n",
      "See the caveats in the documentation: https://pandas.pydata.org/pandas-docs/stable/user_guide/indexing.html#returning-a-view-versus-a-copy\n",
      "  gca.loc[:,\"seq\"] = gca.apply(lambda x : x[\"sequence\"],axis = 1)\n",
      "/tmp/ipykernel_2460053/1059345756.py:3: SettingWithCopyWarning: \n",
      "A value is trying to be set on a copy of a slice from a DataFrame.\n",
      "Try using .loc[row_indexer,col_indexer] = value instead\n",
      "\n",
      "See the caveats in the documentation: https://pandas.pydata.org/pandas-docs/stable/user_guide/indexing.html#returning-a-view-versus-a-copy\n",
      "  gca.loc[:,\"tr\"] = gca.apply(lambda x : x[\"retention_time\"],axis = 1)\n"
     ]
    }
   ],
   "source": [
    "gca.loc[:,\"seq\"] = gca.apply(lambda x : x[\"sequence\"],axis = 1)\n",
    "gca.loc[:,\"modifications\"] = gca.apply(lambda x : replace_mod(x[\"modifications\"]) if x[\"modifications\"] is not None else \"\", axis = 1)\n",
    "gca.loc[:,\"tr\"] = gca.apply(lambda x : x[\"retention_time\"],axis = 1)"
   ],
   "metadata": {
    "collapsed": false,
    "pycharm": {
     "name": "#%%\n"
    }
   }
  },
  {
   "cell_type": "code",
   "execution_count": 34,
   "outputs": [
    {
     "name": "stderr",
     "output_type": "stream",
     "text": [
      "/tmp/ipykernel_2460053/2314920632.py:1: SettingWithCopyWarning: \n",
      "A value is trying to be set on a copy of a slice from a DataFrame.\n",
      "Try using .loc[row_indexer,col_indexer] = value instead\n",
      "\n",
      "See the caveats in the documentation: https://pandas.pydata.org/pandas-docs/stable/user_guide/indexing.html#returning-a-view-versus-a-copy\n",
      "  grch.loc[:,\"seq\"] = grch.apply(lambda x : x[\"sequence\"],axis = 1)\n",
      "/tmp/ipykernel_2460053/2314920632.py:3: SettingWithCopyWarning: \n",
      "A value is trying to be set on a copy of a slice from a DataFrame.\n",
      "Try using .loc[row_indexer,col_indexer] = value instead\n",
      "\n",
      "See the caveats in the documentation: https://pandas.pydata.org/pandas-docs/stable/user_guide/indexing.html#returning-a-view-versus-a-copy\n",
      "  grch.loc[:,\"tr\"] = grch.apply(lambda x : x[\"retention_time\"],axis = 1)\n"
     ]
    }
   ],
   "source": [
    "grch.loc[:,\"seq\"] = grch.apply(lambda x : x[\"sequence\"],axis = 1)\n",
    "grch.loc[:,\"modifications\"] = grch.apply(lambda x : replace_mod(x[\"modifications\"]) if x[\"modifications\"] is not None else \"\", axis = 1)\n",
    "grch.loc[:,\"tr\"] = grch.apply(lambda x : x[\"retention_time\"],axis = 1)"
   ],
   "metadata": {
    "collapsed": false,
    "pycharm": {
     "name": "#%%\n"
    }
   }
  },
  {
   "cell_type": "code",
   "execution_count": 35,
   "outputs": [
    {
     "name": "stderr",
     "output_type": "stream",
     "text": [
      "/tmp/ipykernel_2460053/1255792564.py:1: SettingWithCopyWarning: \n",
      "A value is trying to be set on a copy of a slice from a DataFrame\n",
      "\n",
      "See the caveats in the documentation: https://pandas.pydata.org/pandas-docs/stable/user_guide/indexing.html#returning-a-view-versus-a-copy\n",
      "  gca.drop_duplicates(subset=[\"seq\",\"modifications\"],keep=\"first\",inplace=True)\n",
      "/tmp/ipykernel_2460053/1255792564.py:2: SettingWithCopyWarning: \n",
      "A value is trying to be set on a copy of a slice from a DataFrame\n",
      "\n",
      "See the caveats in the documentation: https://pandas.pydata.org/pandas-docs/stable/user_guide/indexing.html#returning-a-view-versus-a-copy\n",
      "  grch.drop_duplicates(subset=[\"seq\",\"modifications\"],keep=\"first\",inplace=True)\n",
      "/tmp/ipykernel_2460053/1255792564.py:3: SettingWithCopyWarning: \n",
      "A value is trying to be set on a copy of a slice from a DataFrame.\n",
      "Try using .loc[row_indexer,col_indexer] = value instead\n",
      "\n",
      "See the caveats in the documentation: https://pandas.pydata.org/pandas-docs/stable/user_guide/indexing.html#returning-a-view-versus-a-copy\n",
      "  gca['modifications'] = gca['modifications'].fillna(\"\")\n",
      "/tmp/ipykernel_2460053/1255792564.py:4: SettingWithCopyWarning: \n",
      "A value is trying to be set on a copy of a slice from a DataFrame.\n",
      "Try using .loc[row_indexer,col_indexer] = value instead\n",
      "\n",
      "See the caveats in the documentation: https://pandas.pydata.org/pandas-docs/stable/user_guide/indexing.html#returning-a-view-versus-a-copy\n",
      "  grch['modifications'] = grch['modifications'].fillna(\"\")\n"
     ]
    }
   ],
   "source": [
    "gca.drop_duplicates(subset=[\"seq\",\"modifications\"],keep=\"first\",inplace=True)\n",
    "grch.drop_duplicates(subset=[\"seq\",\"modifications\"],keep=\"first\",inplace=True)\n",
    "gca['modifications'] = gca['modifications'].fillna(\"\")\n",
    "grch['modifications'] = grch['modifications'].fillna(\"\")"
   ],
   "metadata": {
    "collapsed": false,
    "pycharm": {
     "name": "#%%\n"
    }
   }
  },
  {
   "cell_type": "code",
   "execution_count": 36,
   "outputs": [],
   "source": [
    "# import deeplc packages\n",
    "from deeplc import DeepLC\n",
    "from deeplcretrainer import deeplcretrainer\n",
    "\n",
    "# Default\n",
    "from collections import Counter\n",
    "import os\n",
    "import urllib.request\n",
    "\n",
    "# specific packages\n",
    "import pandas as pd\n",
    "from matplotlib import pyplot as plt\n",
    "from scipy.stats import pearsonr\n",
    "import numpy as np\n",
    "\n",
    "import tensorflow as tf\n",
    "from tensorflow.python.eager import context\n",
    "\n",
    "import warnings\n",
    "warnings.filterwarnings('ignore')"
   ],
   "metadata": {
    "collapsed": false,
    "pycharm": {
     "name": "#%%\n"
    }
   }
  },
  {
   "cell_type": "code",
   "execution_count": 37,
   "outputs": [
    {
     "ename": "URLError",
     "evalue": "<urlopen error [Errno 110] Connection timed out>",
     "output_type": "error",
     "traceback": [
      "\u001B[0;31m---------------------------------------------------------------------------\u001B[0m",
      "\u001B[0;31mTimeoutError\u001B[0m                              Traceback (most recent call last)",
      "File \u001B[0;32m/home1/wangd/miniconda3/envs/deeplc/lib/python3.10/urllib/request.py:1348\u001B[0m, in \u001B[0;36mAbstractHTTPHandler.do_open\u001B[0;34m(self, http_class, req, **http_conn_args)\u001B[0m\n\u001B[1;32m   1347\u001B[0m \u001B[38;5;28;01mtry\u001B[39;00m:\n\u001B[0;32m-> 1348\u001B[0m     \u001B[43mh\u001B[49m\u001B[38;5;241;43m.\u001B[39;49m\u001B[43mrequest\u001B[49m\u001B[43m(\u001B[49m\u001B[43mreq\u001B[49m\u001B[38;5;241;43m.\u001B[39;49m\u001B[43mget_method\u001B[49m\u001B[43m(\u001B[49m\u001B[43m)\u001B[49m\u001B[43m,\u001B[49m\u001B[43m \u001B[49m\u001B[43mreq\u001B[49m\u001B[38;5;241;43m.\u001B[39;49m\u001B[43mselector\u001B[49m\u001B[43m,\u001B[49m\u001B[43m \u001B[49m\u001B[43mreq\u001B[49m\u001B[38;5;241;43m.\u001B[39;49m\u001B[43mdata\u001B[49m\u001B[43m,\u001B[49m\u001B[43m \u001B[49m\u001B[43mheaders\u001B[49m\u001B[43m,\u001B[49m\n\u001B[1;32m   1349\u001B[0m \u001B[43m              \u001B[49m\u001B[43mencode_chunked\u001B[49m\u001B[38;5;241;43m=\u001B[39;49m\u001B[43mreq\u001B[49m\u001B[38;5;241;43m.\u001B[39;49m\u001B[43mhas_header\u001B[49m\u001B[43m(\u001B[49m\u001B[38;5;124;43m'\u001B[39;49m\u001B[38;5;124;43mTransfer-encoding\u001B[39;49m\u001B[38;5;124;43m'\u001B[39;49m\u001B[43m)\u001B[49m\u001B[43m)\u001B[49m\n\u001B[1;32m   1350\u001B[0m \u001B[38;5;28;01mexcept\u001B[39;00m \u001B[38;5;167;01mOSError\u001B[39;00m \u001B[38;5;28;01mas\u001B[39;00m err: \u001B[38;5;66;03m# timeout error\u001B[39;00m\n",
      "File \u001B[0;32m/home1/wangd/miniconda3/envs/deeplc/lib/python3.10/http/client.py:1283\u001B[0m, in \u001B[0;36mHTTPConnection.request\u001B[0;34m(self, method, url, body, headers, encode_chunked)\u001B[0m\n\u001B[1;32m   1282\u001B[0m \u001B[38;5;250m\u001B[39m\u001B[38;5;124;03m\"\"\"Send a complete request to the server.\"\"\"\u001B[39;00m\n\u001B[0;32m-> 1283\u001B[0m \u001B[38;5;28;43mself\u001B[39;49m\u001B[38;5;241;43m.\u001B[39;49m\u001B[43m_send_request\u001B[49m\u001B[43m(\u001B[49m\u001B[43mmethod\u001B[49m\u001B[43m,\u001B[49m\u001B[43m \u001B[49m\u001B[43murl\u001B[49m\u001B[43m,\u001B[49m\u001B[43m \u001B[49m\u001B[43mbody\u001B[49m\u001B[43m,\u001B[49m\u001B[43m \u001B[49m\u001B[43mheaders\u001B[49m\u001B[43m,\u001B[49m\u001B[43m \u001B[49m\u001B[43mencode_chunked\u001B[49m\u001B[43m)\u001B[49m\n",
      "File \u001B[0;32m/home1/wangd/miniconda3/envs/deeplc/lib/python3.10/http/client.py:1329\u001B[0m, in \u001B[0;36mHTTPConnection._send_request\u001B[0;34m(self, method, url, body, headers, encode_chunked)\u001B[0m\n\u001B[1;32m   1328\u001B[0m     body \u001B[38;5;241m=\u001B[39m _encode(body, \u001B[38;5;124m'\u001B[39m\u001B[38;5;124mbody\u001B[39m\u001B[38;5;124m'\u001B[39m)\n\u001B[0;32m-> 1329\u001B[0m \u001B[38;5;28;43mself\u001B[39;49m\u001B[38;5;241;43m.\u001B[39;49m\u001B[43mendheaders\u001B[49m\u001B[43m(\u001B[49m\u001B[43mbody\u001B[49m\u001B[43m,\u001B[49m\u001B[43m \u001B[49m\u001B[43mencode_chunked\u001B[49m\u001B[38;5;241;43m=\u001B[39;49m\u001B[43mencode_chunked\u001B[49m\u001B[43m)\u001B[49m\n",
      "File \u001B[0;32m/home1/wangd/miniconda3/envs/deeplc/lib/python3.10/http/client.py:1278\u001B[0m, in \u001B[0;36mHTTPConnection.endheaders\u001B[0;34m(self, message_body, encode_chunked)\u001B[0m\n\u001B[1;32m   1277\u001B[0m     \u001B[38;5;28;01mraise\u001B[39;00m CannotSendHeader()\n\u001B[0;32m-> 1278\u001B[0m \u001B[38;5;28;43mself\u001B[39;49m\u001B[38;5;241;43m.\u001B[39;49m\u001B[43m_send_output\u001B[49m\u001B[43m(\u001B[49m\u001B[43mmessage_body\u001B[49m\u001B[43m,\u001B[49m\u001B[43m \u001B[49m\u001B[43mencode_chunked\u001B[49m\u001B[38;5;241;43m=\u001B[39;49m\u001B[43mencode_chunked\u001B[49m\u001B[43m)\u001B[49m\n",
      "File \u001B[0;32m/home1/wangd/miniconda3/envs/deeplc/lib/python3.10/http/client.py:1038\u001B[0m, in \u001B[0;36mHTTPConnection._send_output\u001B[0;34m(self, message_body, encode_chunked)\u001B[0m\n\u001B[1;32m   1037\u001B[0m \u001B[38;5;28;01mdel\u001B[39;00m \u001B[38;5;28mself\u001B[39m\u001B[38;5;241m.\u001B[39m_buffer[:]\n\u001B[0;32m-> 1038\u001B[0m \u001B[38;5;28;43mself\u001B[39;49m\u001B[38;5;241;43m.\u001B[39;49m\u001B[43msend\u001B[49m\u001B[43m(\u001B[49m\u001B[43mmsg\u001B[49m\u001B[43m)\u001B[49m\n\u001B[1;32m   1040\u001B[0m \u001B[38;5;28;01mif\u001B[39;00m message_body \u001B[38;5;129;01mis\u001B[39;00m \u001B[38;5;129;01mnot\u001B[39;00m \u001B[38;5;28;01mNone\u001B[39;00m:\n\u001B[1;32m   1041\u001B[0m \n\u001B[1;32m   1042\u001B[0m     \u001B[38;5;66;03m# create a consistent interface to message_body\u001B[39;00m\n",
      "File \u001B[0;32m/home1/wangd/miniconda3/envs/deeplc/lib/python3.10/http/client.py:976\u001B[0m, in \u001B[0;36mHTTPConnection.send\u001B[0;34m(self, data)\u001B[0m\n\u001B[1;32m    975\u001B[0m \u001B[38;5;28;01mif\u001B[39;00m \u001B[38;5;28mself\u001B[39m\u001B[38;5;241m.\u001B[39mauto_open:\n\u001B[0;32m--> 976\u001B[0m     \u001B[38;5;28;43mself\u001B[39;49m\u001B[38;5;241;43m.\u001B[39;49m\u001B[43mconnect\u001B[49m\u001B[43m(\u001B[49m\u001B[43m)\u001B[49m\n\u001B[1;32m    977\u001B[0m \u001B[38;5;28;01melse\u001B[39;00m:\n",
      "File \u001B[0;32m/home1/wangd/miniconda3/envs/deeplc/lib/python3.10/http/client.py:1448\u001B[0m, in \u001B[0;36mHTTPSConnection.connect\u001B[0;34m(self)\u001B[0m\n\u001B[1;32m   1446\u001B[0m \u001B[38;5;124m\"\u001B[39m\u001B[38;5;124mConnect to a host on a given (SSL) port.\u001B[39m\u001B[38;5;124m\"\u001B[39m\n\u001B[0;32m-> 1448\u001B[0m \u001B[38;5;28;43msuper\u001B[39;49m\u001B[43m(\u001B[49m\u001B[43m)\u001B[49m\u001B[38;5;241;43m.\u001B[39;49m\u001B[43mconnect\u001B[49m\u001B[43m(\u001B[49m\u001B[43m)\u001B[49m\n\u001B[1;32m   1450\u001B[0m \u001B[38;5;28;01mif\u001B[39;00m \u001B[38;5;28mself\u001B[39m\u001B[38;5;241m.\u001B[39m_tunnel_host:\n",
      "File \u001B[0;32m/home1/wangd/miniconda3/envs/deeplc/lib/python3.10/http/client.py:942\u001B[0m, in \u001B[0;36mHTTPConnection.connect\u001B[0;34m(self)\u001B[0m\n\u001B[1;32m    941\u001B[0m sys\u001B[38;5;241m.\u001B[39maudit(\u001B[38;5;124m\"\u001B[39m\u001B[38;5;124mhttp.client.connect\u001B[39m\u001B[38;5;124m\"\u001B[39m, \u001B[38;5;28mself\u001B[39m, \u001B[38;5;28mself\u001B[39m\u001B[38;5;241m.\u001B[39mhost, \u001B[38;5;28mself\u001B[39m\u001B[38;5;241m.\u001B[39mport)\n\u001B[0;32m--> 942\u001B[0m \u001B[38;5;28mself\u001B[39m\u001B[38;5;241m.\u001B[39msock \u001B[38;5;241m=\u001B[39m \u001B[38;5;28;43mself\u001B[39;49m\u001B[38;5;241;43m.\u001B[39;49m\u001B[43m_create_connection\u001B[49m\u001B[43m(\u001B[49m\n\u001B[1;32m    943\u001B[0m \u001B[43m    \u001B[49m\u001B[43m(\u001B[49m\u001B[38;5;28;43mself\u001B[39;49m\u001B[38;5;241;43m.\u001B[39;49m\u001B[43mhost\u001B[49m\u001B[43m,\u001B[49m\u001B[38;5;28;43mself\u001B[39;49m\u001B[38;5;241;43m.\u001B[39;49m\u001B[43mport\u001B[49m\u001B[43m)\u001B[49m\u001B[43m,\u001B[49m\u001B[43m \u001B[49m\u001B[38;5;28;43mself\u001B[39;49m\u001B[38;5;241;43m.\u001B[39;49m\u001B[43mtimeout\u001B[49m\u001B[43m,\u001B[49m\u001B[43m \u001B[49m\u001B[38;5;28;43mself\u001B[39;49m\u001B[38;5;241;43m.\u001B[39;49m\u001B[43msource_address\u001B[49m\u001B[43m)\u001B[49m\n\u001B[1;32m    944\u001B[0m \u001B[38;5;66;03m# Might fail in OSs that don't implement TCP_NODELAY\u001B[39;00m\n",
      "File \u001B[0;32m/home1/wangd/miniconda3/envs/deeplc/lib/python3.10/socket.py:845\u001B[0m, in \u001B[0;36mcreate_connection\u001B[0;34m(address, timeout, source_address)\u001B[0m\n\u001B[1;32m    844\u001B[0m \u001B[38;5;28;01mtry\u001B[39;00m:\n\u001B[0;32m--> 845\u001B[0m     \u001B[38;5;28;01mraise\u001B[39;00m err\n\u001B[1;32m    846\u001B[0m \u001B[38;5;28;01mfinally\u001B[39;00m:\n\u001B[1;32m    847\u001B[0m     \u001B[38;5;66;03m# Break explicitly a reference cycle\u001B[39;00m\n",
      "File \u001B[0;32m/home1/wangd/miniconda3/envs/deeplc/lib/python3.10/socket.py:833\u001B[0m, in \u001B[0;36mcreate_connection\u001B[0;34m(address, timeout, source_address)\u001B[0m\n\u001B[1;32m    832\u001B[0m     sock\u001B[38;5;241m.\u001B[39mbind(source_address)\n\u001B[0;32m--> 833\u001B[0m \u001B[43msock\u001B[49m\u001B[38;5;241;43m.\u001B[39;49m\u001B[43mconnect\u001B[49m\u001B[43m(\u001B[49m\u001B[43msa\u001B[49m\u001B[43m)\u001B[49m\n\u001B[1;32m    834\u001B[0m \u001B[38;5;66;03m# Break explicitly a reference cycle\u001B[39;00m\n",
      "\u001B[0;31mTimeoutError\u001B[0m: [Errno 110] Connection timed out",
      "\nDuring handling of the above exception, another exception occurred:\n",
      "\u001B[0;31mURLError\u001B[0m                                  Traceback (most recent call last)",
      "Cell \u001B[0;32mIn[37], line 2\u001B[0m\n\u001B[1;32m      1\u001B[0m \u001B[38;5;66;03m# obtain three models for deeplc\u001B[39;00m\n\u001B[0;32m----> 2\u001B[0m \u001B[43murllib\u001B[49m\u001B[38;5;241;43m.\u001B[39;49m\u001B[43mrequest\u001B[49m\u001B[38;5;241;43m.\u001B[39;49m\u001B[43murlretrieve\u001B[49m\u001B[43m(\u001B[49m\n\u001B[1;32m      3\u001B[0m \u001B[43m    \u001B[49m\u001B[38;5;124;43m\"\u001B[39;49m\u001B[38;5;124;43mhttps://github.com/compomics/DeepLC/raw/master/deeplc/mods/full_hc_hela_hf_psms_aligned_1fd8363d9af9dcad3be7553c39396960.hdf5\u001B[39;49m\u001B[38;5;124;43m\"\u001B[39;49m\u001B[43m,\u001B[49m\n\u001B[1;32m      4\u001B[0m \u001B[43m    \u001B[49m\u001B[38;5;124;43m\"\u001B[39;49m\u001B[38;5;124;43mfull_hc_train_pxd001468_1fd8363d9af9dcad3be7553c39396960.hdf5\u001B[39;49m\u001B[38;5;124;43m\"\u001B[39;49m\n\u001B[1;32m      5\u001B[0m \u001B[43m)\u001B[49m\n\u001B[1;32m      7\u001B[0m urllib\u001B[38;5;241m.\u001B[39mrequest\u001B[38;5;241m.\u001B[39murlretrieve(\n\u001B[1;32m      8\u001B[0m     \u001B[38;5;124m\"\u001B[39m\u001B[38;5;124mhttps://github.com/compomics/DeepLC/raw/master/deeplc/mods/full_hc_hela_hf_psms_aligned_8c22d89667368f2f02ad996469ba157e.hdf5\u001B[39m\u001B[38;5;124m\"\u001B[39m,\n\u001B[1;32m      9\u001B[0m     \u001B[38;5;124m\"\u001B[39m\u001B[38;5;124mfull_hc_train_pxd001468_8c22d89667368f2f02ad996469ba157e.hdf5\u001B[39m\u001B[38;5;124m\"\u001B[39m\n\u001B[1;32m     10\u001B[0m )\n\u001B[1;32m     12\u001B[0m urllib\u001B[38;5;241m.\u001B[39mrequest\u001B[38;5;241m.\u001B[39murlretrieve(\n\u001B[1;32m     13\u001B[0m     \u001B[38;5;124m\"\u001B[39m\u001B[38;5;124mhttps://github.com/compomics/DeepLC/raw/master/deeplc/mods/full_hc_hela_hf_psms_aligned_cb975cfdd4105f97efa0b3afffe075cc.hdf5\u001B[39m\u001B[38;5;124m\"\u001B[39m,\n\u001B[1;32m     14\u001B[0m     \u001B[38;5;124m\"\u001B[39m\u001B[38;5;124mfull_hc_train_pxd001468_cb975cfdd4105f97efa0b3afffe075cc.hdf5\u001B[39m\u001B[38;5;124m\"\u001B[39m\n\u001B[1;32m     15\u001B[0m )\n",
      "File \u001B[0;32m/home1/wangd/miniconda3/envs/deeplc/lib/python3.10/urllib/request.py:241\u001B[0m, in \u001B[0;36murlretrieve\u001B[0;34m(url, filename, reporthook, data)\u001B[0m\n\u001B[1;32m    224\u001B[0m \u001B[38;5;250m\u001B[39m\u001B[38;5;124;03m\"\"\"\u001B[39;00m\n\u001B[1;32m    225\u001B[0m \u001B[38;5;124;03mRetrieve a URL into a temporary location on disk.\u001B[39;00m\n\u001B[1;32m    226\u001B[0m \n\u001B[0;32m   (...)\u001B[0m\n\u001B[1;32m    237\u001B[0m \u001B[38;5;124;03mdata file as well as the resulting HTTPMessage object.\u001B[39;00m\n\u001B[1;32m    238\u001B[0m \u001B[38;5;124;03m\"\"\"\u001B[39;00m\n\u001B[1;32m    239\u001B[0m url_type, path \u001B[38;5;241m=\u001B[39m _splittype(url)\n\u001B[0;32m--> 241\u001B[0m \u001B[38;5;28;01mwith\u001B[39;00m contextlib\u001B[38;5;241m.\u001B[39mclosing(\u001B[43murlopen\u001B[49m\u001B[43m(\u001B[49m\u001B[43murl\u001B[49m\u001B[43m,\u001B[49m\u001B[43m \u001B[49m\u001B[43mdata\u001B[49m\u001B[43m)\u001B[49m) \u001B[38;5;28;01mas\u001B[39;00m fp:\n\u001B[1;32m    242\u001B[0m     headers \u001B[38;5;241m=\u001B[39m fp\u001B[38;5;241m.\u001B[39minfo()\n\u001B[1;32m    244\u001B[0m     \u001B[38;5;66;03m# Just return the local path and the \"headers\" for file://\u001B[39;00m\n\u001B[1;32m    245\u001B[0m     \u001B[38;5;66;03m# URLs. No sense in performing a copy unless requested.\u001B[39;00m\n",
      "File \u001B[0;32m/home1/wangd/miniconda3/envs/deeplc/lib/python3.10/urllib/request.py:216\u001B[0m, in \u001B[0;36murlopen\u001B[0;34m(url, data, timeout, cafile, capath, cadefault, context)\u001B[0m\n\u001B[1;32m    214\u001B[0m \u001B[38;5;28;01melse\u001B[39;00m:\n\u001B[1;32m    215\u001B[0m     opener \u001B[38;5;241m=\u001B[39m _opener\n\u001B[0;32m--> 216\u001B[0m \u001B[38;5;28;01mreturn\u001B[39;00m \u001B[43mopener\u001B[49m\u001B[38;5;241;43m.\u001B[39;49m\u001B[43mopen\u001B[49m\u001B[43m(\u001B[49m\u001B[43murl\u001B[49m\u001B[43m,\u001B[49m\u001B[43m \u001B[49m\u001B[43mdata\u001B[49m\u001B[43m,\u001B[49m\u001B[43m \u001B[49m\u001B[43mtimeout\u001B[49m\u001B[43m)\u001B[49m\n",
      "File \u001B[0;32m/home1/wangd/miniconda3/envs/deeplc/lib/python3.10/urllib/request.py:519\u001B[0m, in \u001B[0;36mOpenerDirector.open\u001B[0;34m(self, fullurl, data, timeout)\u001B[0m\n\u001B[1;32m    516\u001B[0m     req \u001B[38;5;241m=\u001B[39m meth(req)\n\u001B[1;32m    518\u001B[0m sys\u001B[38;5;241m.\u001B[39maudit(\u001B[38;5;124m'\u001B[39m\u001B[38;5;124murllib.Request\u001B[39m\u001B[38;5;124m'\u001B[39m, req\u001B[38;5;241m.\u001B[39mfull_url, req\u001B[38;5;241m.\u001B[39mdata, req\u001B[38;5;241m.\u001B[39mheaders, req\u001B[38;5;241m.\u001B[39mget_method())\n\u001B[0;32m--> 519\u001B[0m response \u001B[38;5;241m=\u001B[39m \u001B[38;5;28;43mself\u001B[39;49m\u001B[38;5;241;43m.\u001B[39;49m\u001B[43m_open\u001B[49m\u001B[43m(\u001B[49m\u001B[43mreq\u001B[49m\u001B[43m,\u001B[49m\u001B[43m \u001B[49m\u001B[43mdata\u001B[49m\u001B[43m)\u001B[49m\n\u001B[1;32m    521\u001B[0m \u001B[38;5;66;03m# post-process response\u001B[39;00m\n\u001B[1;32m    522\u001B[0m meth_name \u001B[38;5;241m=\u001B[39m protocol\u001B[38;5;241m+\u001B[39m\u001B[38;5;124m\"\u001B[39m\u001B[38;5;124m_response\u001B[39m\u001B[38;5;124m\"\u001B[39m\n",
      "File \u001B[0;32m/home1/wangd/miniconda3/envs/deeplc/lib/python3.10/urllib/request.py:536\u001B[0m, in \u001B[0;36mOpenerDirector._open\u001B[0;34m(self, req, data)\u001B[0m\n\u001B[1;32m    533\u001B[0m     \u001B[38;5;28;01mreturn\u001B[39;00m result\n\u001B[1;32m    535\u001B[0m protocol \u001B[38;5;241m=\u001B[39m req\u001B[38;5;241m.\u001B[39mtype\n\u001B[0;32m--> 536\u001B[0m result \u001B[38;5;241m=\u001B[39m \u001B[38;5;28;43mself\u001B[39;49m\u001B[38;5;241;43m.\u001B[39;49m\u001B[43m_call_chain\u001B[49m\u001B[43m(\u001B[49m\u001B[38;5;28;43mself\u001B[39;49m\u001B[38;5;241;43m.\u001B[39;49m\u001B[43mhandle_open\u001B[49m\u001B[43m,\u001B[49m\u001B[43m \u001B[49m\u001B[43mprotocol\u001B[49m\u001B[43m,\u001B[49m\u001B[43m \u001B[49m\u001B[43mprotocol\u001B[49m\u001B[43m \u001B[49m\u001B[38;5;241;43m+\u001B[39;49m\n\u001B[1;32m    537\u001B[0m \u001B[43m                          \u001B[49m\u001B[38;5;124;43m'\u001B[39;49m\u001B[38;5;124;43m_open\u001B[39;49m\u001B[38;5;124;43m'\u001B[39;49m\u001B[43m,\u001B[49m\u001B[43m \u001B[49m\u001B[43mreq\u001B[49m\u001B[43m)\u001B[49m\n\u001B[1;32m    538\u001B[0m \u001B[38;5;28;01mif\u001B[39;00m result:\n\u001B[1;32m    539\u001B[0m     \u001B[38;5;28;01mreturn\u001B[39;00m result\n",
      "File \u001B[0;32m/home1/wangd/miniconda3/envs/deeplc/lib/python3.10/urllib/request.py:496\u001B[0m, in \u001B[0;36mOpenerDirector._call_chain\u001B[0;34m(self, chain, kind, meth_name, *args)\u001B[0m\n\u001B[1;32m    494\u001B[0m \u001B[38;5;28;01mfor\u001B[39;00m handler \u001B[38;5;129;01min\u001B[39;00m handlers:\n\u001B[1;32m    495\u001B[0m     func \u001B[38;5;241m=\u001B[39m \u001B[38;5;28mgetattr\u001B[39m(handler, meth_name)\n\u001B[0;32m--> 496\u001B[0m     result \u001B[38;5;241m=\u001B[39m \u001B[43mfunc\u001B[49m\u001B[43m(\u001B[49m\u001B[38;5;241;43m*\u001B[39;49m\u001B[43margs\u001B[49m\u001B[43m)\u001B[49m\n\u001B[1;32m    497\u001B[0m     \u001B[38;5;28;01mif\u001B[39;00m result \u001B[38;5;129;01mis\u001B[39;00m \u001B[38;5;129;01mnot\u001B[39;00m \u001B[38;5;28;01mNone\u001B[39;00m:\n\u001B[1;32m    498\u001B[0m         \u001B[38;5;28;01mreturn\u001B[39;00m result\n",
      "File \u001B[0;32m/home1/wangd/miniconda3/envs/deeplc/lib/python3.10/urllib/request.py:1391\u001B[0m, in \u001B[0;36mHTTPSHandler.https_open\u001B[0;34m(self, req)\u001B[0m\n\u001B[1;32m   1390\u001B[0m \u001B[38;5;28;01mdef\u001B[39;00m \u001B[38;5;21mhttps_open\u001B[39m(\u001B[38;5;28mself\u001B[39m, req):\n\u001B[0;32m-> 1391\u001B[0m     \u001B[38;5;28;01mreturn\u001B[39;00m \u001B[38;5;28;43mself\u001B[39;49m\u001B[38;5;241;43m.\u001B[39;49m\u001B[43mdo_open\u001B[49m\u001B[43m(\u001B[49m\u001B[43mhttp\u001B[49m\u001B[38;5;241;43m.\u001B[39;49m\u001B[43mclient\u001B[49m\u001B[38;5;241;43m.\u001B[39;49m\u001B[43mHTTPSConnection\u001B[49m\u001B[43m,\u001B[49m\u001B[43m \u001B[49m\u001B[43mreq\u001B[49m\u001B[43m,\u001B[49m\n\u001B[1;32m   1392\u001B[0m \u001B[43m        \u001B[49m\u001B[43mcontext\u001B[49m\u001B[38;5;241;43m=\u001B[39;49m\u001B[38;5;28;43mself\u001B[39;49m\u001B[38;5;241;43m.\u001B[39;49m\u001B[43m_context\u001B[49m\u001B[43m,\u001B[49m\u001B[43m \u001B[49m\u001B[43mcheck_hostname\u001B[49m\u001B[38;5;241;43m=\u001B[39;49m\u001B[38;5;28;43mself\u001B[39;49m\u001B[38;5;241;43m.\u001B[39;49m\u001B[43m_check_hostname\u001B[49m\u001B[43m)\u001B[49m\n",
      "File \u001B[0;32m/home1/wangd/miniconda3/envs/deeplc/lib/python3.10/urllib/request.py:1351\u001B[0m, in \u001B[0;36mAbstractHTTPHandler.do_open\u001B[0;34m(self, http_class, req, **http_conn_args)\u001B[0m\n\u001B[1;32m   1348\u001B[0m         h\u001B[38;5;241m.\u001B[39mrequest(req\u001B[38;5;241m.\u001B[39mget_method(), req\u001B[38;5;241m.\u001B[39mselector, req\u001B[38;5;241m.\u001B[39mdata, headers,\n\u001B[1;32m   1349\u001B[0m                   encode_chunked\u001B[38;5;241m=\u001B[39mreq\u001B[38;5;241m.\u001B[39mhas_header(\u001B[38;5;124m'\u001B[39m\u001B[38;5;124mTransfer-encoding\u001B[39m\u001B[38;5;124m'\u001B[39m))\n\u001B[1;32m   1350\u001B[0m     \u001B[38;5;28;01mexcept\u001B[39;00m \u001B[38;5;167;01mOSError\u001B[39;00m \u001B[38;5;28;01mas\u001B[39;00m err: \u001B[38;5;66;03m# timeout error\u001B[39;00m\n\u001B[0;32m-> 1351\u001B[0m         \u001B[38;5;28;01mraise\u001B[39;00m URLError(err)\n\u001B[1;32m   1352\u001B[0m     r \u001B[38;5;241m=\u001B[39m h\u001B[38;5;241m.\u001B[39mgetresponse()\n\u001B[1;32m   1353\u001B[0m \u001B[38;5;28;01mexcept\u001B[39;00m:\n",
      "\u001B[0;31mURLError\u001B[0m: <urlopen error [Errno 110] Connection timed out>"
     ]
    }
   ],
   "source": [
    "# obtain three models for deeplc\n",
    "urllib.request.urlretrieve(\n",
    "    \"https://github.com/compomics/DeepLC/raw/master/deeplc/mods/full_hc_hela_hf_psms_aligned_1fd8363d9af9dcad3be7553c39396960.hdf5\",\n",
    "    \"full_hc_train_pxd001468_1fd8363d9af9dcad3be7553c39396960.hdf5\"\n",
    ")\n",
    "\n",
    "urllib.request.urlretrieve(\n",
    "    \"https://github.com/compomics/DeepLC/raw/master/deeplc/mods/full_hc_hela_hf_psms_aligned_8c22d89667368f2f02ad996469ba157e.hdf5\",\n",
    "    \"full_hc_train_pxd001468_8c22d89667368f2f02ad996469ba157e.hdf5\"\n",
    ")\n",
    "\n",
    "urllib.request.urlretrieve(\n",
    "    \"https://github.com/compomics/DeepLC/raw/master/deeplc/mods/full_hc_hela_hf_psms_aligned_cb975cfdd4105f97efa0b3afffe075cc.hdf5\",\n",
    "    \"full_hc_train_pxd001468_cb975cfdd4105f97efa0b3afffe075cc.hdf5\"\n",
    ")"
   ],
   "metadata": {
    "collapsed": false,
    "pycharm": {
     "name": "#%%\n"
    }
   }
  },
  {
   "cell_type": "markdown",
   "source": [
    "#### Transfer learning"
   ],
   "metadata": {
    "collapsed": false,
    "pycharm": {
     "name": "#%% md\n"
    }
   }
  },
  {
   "cell_type": "code",
   "execution_count": null,
   "outputs": [],
   "source": [
    "%%capture\n",
    "\n",
    "# The following code is not required in most cases, but here it is used to clear variables that might cause problems\n",
    "_ = tf.Variable([1])\n",
    "\n",
    "context._context = None\n",
    "context._create_context()\n",
    "\n",
    "tf.config.threading.set_inter_op_parallelism_threads(1)\n",
    "\n",
    "# For training new models we need to use a file, so write the train df to a file\n",
    "grch.to_csv(\"grch.csv\",index=False)\n",
    "df_train_file = \"grch.csv\"\n",
    "\n",
    "# Here we will apply transfer learning we specify previously trained models in the 'mods_transfer_learning'\n",
    "models = deeplcretrainer.retrain(\n",
    "    [df_train_file],\n",
    "    mods_transfer_learning=[\"full_hc_hela_hf_psms_aligned_1fd8363d9af9dcad3be7553c39396960.hdf5\",\n",
    "                            \"full_hc_hela_hf_psms_aligned_8c22d89667368f2f02ad996469ba157e.hdf5\",\"full_hc_hela_hf_psms_aligned_cb975cfdd4105f97efa0b3afffe075cc.hdf5\"],\n",
    "    freeze_layers=True,\n",
    "    n_epochs=10,\n",
    "    freeze_after_concat=1\n",
    ");\n",
    "\n",
    "# The following code is not required in most cases, but here it is used to clear variables that might cause problems\n",
    "_ = tf.Variable([1])\n",
    "\n",
    "context._context = None\n",
    "context._create_context()\n",
    "\n",
    "tf.config.threading.set_inter_op_parallelism_threads(1)\n",
    "\n",
    "# Make a DeepLC object with the models trained previously\n",
    "dlc = DeepLC(\n",
    "        path_model=models,\n",
    "        batch_num=1024000,\n",
    "        pygam_calibration=False\n",
    ")\n",
    "\n",
    "# Perform calibration, make predictions and calculate metrics\n",
    "dlc.calibrate_preds(seq_df=grch)\n",
    "preds_transflearn = dlc.make_preds(seq_df=gca)\n",
    "\n",
    "mae_transflearn = sum(abs(gca[\"tr\"]-preds_transflearn))/len(gca[\"tr\"].index)\n",
    "perc95_transflearn = np.percentile(abs(gca[\"tr\"]-preds_transflearn),95)*2\n",
    "cor_transflearn = pearsonr(gca[\"tr\"],preds_transflearn)[0]"
   ],
   "metadata": {
    "collapsed": false,
    "pycharm": {
     "name": "#%%\n"
    }
   }
  },
  {
   "cell_type": "code",
   "execution_count": null,
   "outputs": [],
   "source": [
    "gca['pred_rt'] = preds_transflearn"
   ],
   "metadata": {
    "collapsed": false,
    "pycharm": {
     "name": "#%%\n"
    }
   }
  },
  {
   "cell_type": "code",
   "execution_count": null,
   "outputs": [],
   "source": [
    "gca.to_csv('gca.tsv',sep='\\t', index=False)\n",
    "grch.to_csv('grch.tsv',sep='\\t', index=False)"
   ],
   "metadata": {
    "collapsed": false,
    "pycharm": {
     "name": "#%%\n"
    }
   }
  },
  {
   "cell_type": "markdown",
   "source": [],
   "metadata": {
    "collapsed": false,
    "pycharm": {
     "name": "#%% md\n"
    }
   }
  }
 ],
 "metadata": {
  "kernelspec": {
   "display_name": "Python 3 (ipykernel)",
   "language": "python",
   "name": "python3"
  },
  "language_info": {
   "codemirror_mode": {
    "name": "ipython",
    "version": 3
   },
   "file_extension": ".py",
   "mimetype": "text/x-python",
   "name": "python",
   "nbconvert_exporter": "python",
   "pygments_lexer": "ipython3",
   "version": "3.11.5"
  }
 },
 "nbformat": 4,
 "nbformat_minor": 5
}