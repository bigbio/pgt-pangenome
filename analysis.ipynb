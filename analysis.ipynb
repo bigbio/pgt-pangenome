{
 "cells": [
  {
   "cell_type": "code",
   "execution_count": 3,
   "id": "683806bf",
   "metadata": {},
   "outputs": [],
   "source": [
    "import pyarrow as pa\n",
    "import pyarrow.parquet as pq\n",
    "import pandas as pd"
   ]
  },
  {
   "cell_type": "markdown",
   "id": "12808b4c",
   "metadata": {},
   "source": [
    "## Analysis of Canonical Peptides"
   ]
  },
  {
   "cell_type": "code",
   "execution_count": null,
   "id": "03ccdb24",
   "metadata": {},
   "outputs": [],
   "source": [
    "can_parq_file = \"../PXD010154-pangenome-canonical-0.01.parquet\"\n",
    "can_table = pq.read_table(can_parq_file)\n",
    "can_df = can_table.to_pandas()"
   ]
  },
  {
   "cell_type": "code",
   "execution_count": 5,
   "id": "c8839a2a",
   "metadata": {},
   "outputs": [
    {
     "data": {
      "text/plain": [
       "15590886"
      ]
     },
     "execution_count": 5,
     "metadata": {},
     "output_type": "execute_result"
    }
   ],
   "source": [
    "len(can_df)"
   ]
  },
  {
   "cell_type": "markdown",
   "id": "e827dbf1",
   "metadata": {},
   "source": [
    "## Analysis of Canonical and Non-canonical Peptides"
   ]
  },
  {
   "cell_type": "code",
   "execution_count": 9,
   "id": "a3052b05",
   "metadata": {},
   "outputs": [],
   "source": [
    "noncan_parq_file = \"../PXD010154-pangenome-noncanonical-0.01.parquet\"\n",
    "noncan_table = pq.read_table(noncan_parq_file)\n",
    "noncan_df = noncan_table.to_pandas()"
   ]
  },
  {
   "cell_type": "code",
   "execution_count": 10,
   "id": "8c4315c0",
   "metadata": {},
   "outputs": [
    {
     "data": {
      "text/plain": [
       "14650219"
      ]
     },
     "execution_count": 10,
     "metadata": {},
     "output_type": "execute_result"
    }
   ],
   "source": [
    "len(noncan_df)"
   ]
  }
 ],
 "metadata": {
  "kernelspec": {
   "display_name": "pgt",
   "language": "python",
   "name": "python3"
  },
  "language_info": {
   "codemirror_mode": {
    "name": "ipython",
    "version": 3
   },
   "file_extension": ".py",
   "mimetype": "text/x-python",
   "name": "python",
   "nbconvert_exporter": "python",
   "pygments_lexer": "ipython3",
   "version": "3.11.5"
  }
 },
 "nbformat": 4,
 "nbformat_minor": 5
}
