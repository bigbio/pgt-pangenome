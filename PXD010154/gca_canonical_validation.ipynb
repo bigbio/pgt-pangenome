{
 "cells": [
  {
   "cell_type": "code",
   "execution_count": 1,
   "id": "753fe94b",
   "metadata": {
    "jupyter": {
     "outputs_hidden": false
    },
    "pycharm": {
     "name": "#%%\n"
    }
   },
   "outputs": [],
   "source": [
    "# install Jupyter dependencies\n",
    "# !pip install pandas seaborn biopython pyarrow wget tqdm"
   ]
  },
  {
   "cell_type": "code",
   "execution_count": 1,
   "id": "683806bf",
   "metadata": {
    "pycharm": {
     "name": "#%%\n"
    }
   },
   "outputs": [],
   "source": [
    "import pyarrow.parquet as pq\n",
    "import pandas as pd\n",
    "import ahocorasick\n",
    "from Bio import SeqIO\n",
    "import seaborn as sns\n",
    "import matplotlib.pyplot as plt\n",
    "import re\n",
    "import datetime\n",
    "from tqdm import tqdm\n",
    "import warnings\n",
    "warnings.filterwarnings('ignore')\n",
    "tqdm.pandas()"
   ]
  },
  {
   "cell_type": "markdown",
   "id": "6f5ad59f-b56a-4ba0-af40-a92072095c6a",
   "metadata": {
    "pycharm": {
     "name": "#%% md\n"
    }
   },
   "source": [
    "The parquet files for the canonical peptides including the GCA proteins and GRCh38 can be downloaded from: \n",
    "http://ftp.pride.ebi.ac.uk/pub/databases/pride/resources/proteomes/proteogenomics/noncanonical-tissues-2023/PXD010154-1de73bcb-ee3e-4d19-9d8d-da72f11d5fac.psm.parquet \n"
   ]
  },
  {
   "cell_type": "code",
   "execution_count": 2,
   "id": "03ccdb24",
   "metadata": {
    "pycharm": {
     "is_executing": true,
     "name": "#%%\n"
    }
   },
   "outputs": [],
   "source": [
    "import wget\n",
    "import os\n",
    "if not os.path.isfile('PXD010154-1de73bcb-ee3e-4d19-9d8d-da72f11d5fac.psm.parquet'):\n",
    "   wget.download('http://ftp.pride.ebi.ac.uk/pub/databases/pride/resources/proteomes/proteogenomics/noncanonical-tissues-2023/PXD010154-1de73bcb-ee3e-4d19-9d8d-da72f11d5fac.psm.parquet')\n",
    "parq_file = \"PXD010154-1de73bcb-ee3e-4d19-9d8d-da72f11d5fac.psm.parquet\"\n",
    "table = pq.read_table(parq_file)\n",
    "original_df = table.to_pandas()"
   ]
  },
  {
   "cell_type": "code",
   "execution_count": 3,
   "id": "c8839a2a",
   "metadata": {
    "pycharm": {
     "is_executing": true,
     "name": "#%%\n"
    }
   },
   "outputs": [
    {
     "name": "stdout",
     "output_type": "stream",
     "text": [
      "Number of PSMs in the file =  16294599\n"
     ]
    }
   ],
   "source": [
    "print('Number of PSMs in the file = ', len(original_df))"
   ]
  },
  {
   "cell_type": "code",
   "execution_count": 11,
   "id": "529df143-7a82-4d82-ae7a-b7e5072fc9bc",
   "metadata": {
    "pycharm": {
     "is_executing": true,
     "name": "#%%\n"
    }
   },
   "outputs": [
    {
     "data": {
      "text/plain": [
       "['adrenal gland',\n",
       " 'appendix',\n",
       " 'bone marrow',\n",
       " 'brain',\n",
       " 'colon',\n",
       " 'duodenum',\n",
       " 'esophagus',\n",
       " 'fallopian tube',\n",
       " 'fat adipose tissue',\n",
       " 'gallbladder',\n",
       " 'heart',\n",
       " 'kidney',\n",
       " 'liver',\n",
       " 'lung',\n",
       " 'lymph node',\n",
       " 'ovary',\n",
       " 'pancreas',\n",
       " 'pituitary hypophysis',\n",
       " 'placenta',\n",
       " 'prostate',\n",
       " 'rectum',\n",
       " 'salivary gland',\n",
       " 'small intestine',\n",
       " 'smooth muscle',\n",
       " 'spleen',\n",
       " 'stomach',\n",
       " 'testis',\n",
       " 'thyroid',\n",
       " 'urinary bladder',\n",
       " 'uterine endometrium']"
      ]
     },
     "execution_count": 11,
     "metadata": {},
     "output_type": "execute_result"
    }
   ],
   "source": [
    "## Add sample accessions, **NOTE it will work only for LFQ experiments**\n",
    "sdrf = pd.read_csv(\"PXD010154.sdrf.tsv\", sep = \"\\t\")\n",
    "sdrf_total = sdrf\n",
    "sdrf = sdrf[['source name', 'comment[data file]']]\n",
    "sdrf.rename(columns={\"comment[data file]\": \"reference_file_name\", \"source name\": \"sample_id\"}, inplace=True)\n",
    "sdrf['reference_file_name'] = sdrf['reference_file_name'].str.replace('.raw', '', regex=False)\n",
    "#sdrf\n",
    "list(sdrf_total['characteristics[organism part]'].unique())"
   ]
  },
  {
   "cell_type": "code",
   "execution_count": 6,
   "id": "0cc0923d-e240-4cd0-9a88-c76c71f331bc",
   "metadata": {
    "pycharm": {
     "is_executing": true,
     "name": "#%%\n"
    }
   },
   "outputs": [],
   "source": [
    "#Convert array values in the accession to list\n",
    "def join_vals(x):\n",
    "    return ','.join(x.astype(str).tolist())\n",
    "\n",
    "original_df['protein_accessions'] = original_df['protein_accessions'].apply(join_vals)"
   ]
  },
  {
   "cell_type": "markdown",
   "id": "80a9420a",
   "metadata": {
    "jupyter": {
     "outputs_hidden": false
    },
    "pycharm": {
     "name": "#%% md\n"
    }
   },
   "source": [
    "#### Blast GCA with canonical\n",
    "\n",
    "In this step, we need to take all the PSMs from the search and blast them against canonical databases including ENSEMBL protein database and Uniprot proteomes. This step is important because some non-canonical peptides may be identified in the GCA proteins but they also are found in reference databases. \n"
   ]
  },
  {
   "cell_type": "code",
   "execution_count": 7,
   "id": "0bbe4b66-a8b7-4df8-b658-6fc2f3fce346",
   "metadata": {
    "pycharm": {
     "name": "#%%\n"
    }
   },
   "outputs": [],
   "source": [
    "#Download the reference databases.\n",
    "import gzip, shutil\n",
    "\n",
    "ensembl_db = \"https://ftp.ensembl.org/pub/release-110/fasta/homo_sapiens/pep/Homo_sapiens.GRCh38.pep.all.fa.gz\"\n",
    "if not os.path.isfile(\"Homo_sapiens.GRCh38.pep.all.fa\"):\n",
    "   wget.download(ensembl_db)\n",
    "   with gzip.open(\"Homo_sapiens.GRCh38.pep.all.fa.gz\", 'r') as f_in, open('Homo_sapiens.GRCh38.pep.all.fa', 'wb') as f_out:\n",
    "      shutil.copyfileobj(f_in, f_out)\n",
    "\n",
    "uniprot_db = \"https://ftp.uniprot.org/pub/databases/uniprot/knowledgebase/reference_proteomes/Eukaryota/UP000005640/UP000005640_9606_additional.fasta.gz\"\n",
    "if not os.path.isfile(\"UP000005640_9606_additional.fasta\"):\n",
    "   wget.download(uniprot_db)\n",
    "   with gzip.open(\"UP000005640_9606_additional.fasta.gz\", 'r') as f_in, open('UP000005640_9606_additional.fasta', 'wb') as f_out:\n",
    "      shutil.copyfileobj(f_in, f_out)\n"
   ]
  },
  {
   "cell_type": "code",
   "execution_count": 8,
   "id": "44578bbd",
   "metadata": {
    "jupyter": {
     "outputs_hidden": false
    },
    "pycharm": {
     "is_executing": true,
     "name": "#%%\n"
    }
   },
   "outputs": [],
   "source": [
    "fa_set = set()\n",
    "for j in SeqIO.parse(\"Homo_sapiens.GRCh38.pep.all.fa\", \"fasta\"):\n",
    "    fa_set.add(str(j.seq))\n",
    "for j in SeqIO.parse(\"UP000005640_9606_additional.fasta\", \"fasta\"):\n",
    "    fa_set.add(str(j.seq))"
   ]
  },
  {
   "cell_type": "code",
   "execution_count": 9,
   "id": "7666883c",
   "metadata": {
    "jupyter": {
     "outputs_hidden": false
    },
    "pycharm": {
     "is_executing": true,
     "name": "#%%\n"
    }
   },
   "outputs": [],
   "source": [
    "def blast_with_canonical_fasta(peptide):\n",
    "    for fasta in fa_set:\n",
    "        if peptide in fasta:\n",
    "            return \"GRCh38\"\n",
    "    return \"GCA\""
   ]
  },
  {
   "cell_type": "code",
   "execution_count": 10,
   "id": "68b0cbe1",
   "metadata": {
    "jupyter": {
     "outputs_hidden": false
    },
    "pycharm": {
     "is_executing": true,
     "name": "#%%\n"
    }
   },
   "outputs": [
    {
     "name": "stdout",
     "output_type": "stream",
     "text": [
      "2024-04-23 06:25:15.636385\n"
     ]
    },
    {
     "name": "stderr",
     "output_type": "stream",
     "text": [
      "100%|██████████| 103747/103747 [00:04<00:00, 23557.33it/s]"
     ]
    },
    {
     "name": "stdout",
     "output_type": "stream",
     "text": [
      "End time : 2024-04-23 06:25:22.449921\n",
      "Time consumption : 0:00:06.813536\n",
      "GCA: 92621\n",
      "GRCh38: 416219\n"
     ]
    },
    {
     "name": "stderr",
     "output_type": "stream",
     "text": [
      "\n"
     ]
    }
   ],
   "source": [
    "start_time = datetime.datetime.now()\n",
    "print(start_time)\n",
    "\n",
    "seq_set = set(original_df[\"sequence\"].to_list())\n",
    "\n",
    "auto = ahocorasick.Automaton()\n",
    "seq_dict = dict()\n",
    "for seq_peptide in seq_set:\n",
    "    auto.add_word(seq_peptide, seq_peptide)\n",
    "    seq_dict[seq_peptide] = \"GCA\"\n",
    "\n",
    "auto.make_automaton()\n",
    "\n",
    "for protein_seq in tqdm(fa_set):\n",
    "    for end_ind, found in auto.iter(protein_seq):\n",
    "        seq_dict[found]= \"GRCh38\"\n",
    "\n",
    "end_time = datetime.datetime.now()\n",
    "print(\"End time :\", end_time)\n",
    "set_time_taken = end_time - start_time\n",
    "print(\"Time consumption :\", set_time_taken)\n",
    "\n",
    "print(\"GCA: {}\".format(sum(1 for v in seq_dict.values() if v == \"GCA\")))\n",
    "print(\"GRCh38: {}\".format(sum(1 for v in seq_dict.values() if v == \"GRCh38\")))\n"
   ]
  },
  {
   "cell_type": "code",
   "execution_count": 11,
   "id": "76ac0a28-213f-4fe6-9853-c7da5d3682ac",
   "metadata": {
    "pycharm": {
     "name": "#%%\n"
    }
   },
   "outputs": [],
   "source": [
    "#shorten accessions to save memory\n",
    "def get_source(accessions):\n",
    "    accessions = accessions.split(',')\n",
    "\n",
    "    for acc in accessions:\n",
    "        if acc.startswith('DECOY_CONTAMINANT'):\n",
    "            return 'DECOY_CONTAMINANT'\n",
    "    for acc in accessions:\n",
    "        if acc.startswith('CONTAMINANT'):\n",
    "            return 'CONTAMINANT'\n",
    "    \n",
    "    for acc in accessions:\n",
    "        if acc.startswith('DECOY_GRCh38'):\n",
    "            return 'DECOY_GRCh38'\n",
    "    \n",
    "    for acc in accessions:\n",
    "        if acc.startswith('DECOY_GCA'):\n",
    "            return 'DECOY_GCA'\n",
    "\n",
    "    for acc in accessions:\n",
    "        if acc.startswith('GRCh38'):\n",
    "            return 'GRCh38'\n",
    "    \n",
    "    for acc in accessions:\n",
    "        if acc.startswith('GCA'):\n",
    "            return 'GCA'\n",
    "    \n",
    "    return accessions"
   ]
  },
  {
   "cell_type": "code",
   "execution_count": 12,
   "id": "5711f6bf-204a-47b0-87df-20970e9865f0",
   "metadata": {
    "pycharm": {
     "name": "#%%\n"
    }
   },
   "outputs": [
    {
     "name": "stderr",
     "output_type": "stream",
     "text": [
      "100%|██████████| 16294599/16294599 [00:23<00:00, 684726.94it/s]\n"
     ]
    }
   ],
   "source": [
    "original_df['prot_source'] = original_df['protein_accessions'].progress_apply(get_source)"
   ]
  },
  {
   "cell_type": "code",
   "execution_count": 13,
   "id": "086e0e21",
   "metadata": {
    "jupyter": {
     "outputs_hidden": false
    },
    "pycharm": {
     "is_executing": true,
     "name": "#%%\n"
    }
   },
   "outputs": [
    {
     "name": "stderr",
     "output_type": "stream",
     "text": [
      "100%|██████████| 16294599/16294599 [02:41<00:00, 101035.52it/s]\n"
     ]
    }
   ],
   "source": [
    "original_df['prot_source'] = original_df.progress_apply(lambda x: seq_dict.get(x['sequence']) if x['prot_source'] == 'GCA' else x['prot_source'], axis=1)"
   ]
  },
  {
   "cell_type": "code",
   "execution_count": 14,
   "id": "b3dc6689",
   "metadata": {
    "jupyter": {
     "outputs_hidden": false
    },
    "pycharm": {
     "is_executing": true,
     "name": "#%%\n"
    }
   },
   "outputs": [
    {
     "data": {
      "text/plain": [
       "GRCh38               15353327\n",
       "CONTAMINANT            606683\n",
       "GCA                    173255\n",
       "DECOY_GCA              107166\n",
       "DECOY_GRCh38            53107\n",
       "DECOY_CONTAMINANT        1061\n",
       "Name: prot_source, dtype: int64"
      ]
     },
     "execution_count": 14,
     "metadata": {},
     "output_type": "execute_result"
    }
   ],
   "source": [
    "original_df['prot_source'].value_counts()"
   ]
  },
  {
   "cell_type": "code",
   "execution_count": 15,
   "id": "2a143556-e62f-49e1-a1e6-26b60b96d9c2",
   "metadata": {
    "pycharm": {
     "name": "#%%\n"
    }
   },
   "outputs": [
    {
     "data": {
      "text/plain": [
       "<matplotlib.legend.Legend at 0x7fea81680f90>"
      ]
     },
     "execution_count": 15,
     "metadata": {},
     "output_type": "execute_result"
    },
    {
     "data": {
      "image/png": "[encoded data removed]",
      "text/plain": [
       "<Figure size 1440x720 with 1 Axes>"
      ]
     },
     "metadata": {
      "needs_background": "light"
     },
     "output_type": "display_data"
    }
   ],
   "source": [
    "df2 = original_df[original_df['posterior_error_probability']<0.01]\n",
    "\n",
    "gca = df2.loc[df2.prot_source.str.startswith(\"GCA\")==True]\n",
    "grch = df2.loc[df2.prot_source.str.startswith(\"GRCh38\")==True]\n",
    "decoy_grch = df2.loc[df2.prot_source.str.startswith(\"DECOY_GRCh38\")==True]\n",
    "decoy_gca = df2.loc[df2.prot_source.str.startswith(\"DECOY_GCA\")==True]\n",
    "\n",
    "#sns.df['posterior_error_probability']\n",
    "\n",
    "plt.figure(figsize=(20, 10))\n",
    "sns.distplot(gca['posterior_error_probability'], \n",
    "             hist=True, kde=True, label='GCA', color='blue')\n",
    "sns.distplot(grch['posterior_error_probability'], \n",
    "             hist=True, kde=True, label='GRCh38', color='green')\n",
    "sns.distplot(decoy_gca['posterior_error_probability'], \n",
    "             hist=True, kde=True, label='DECOY_GCA', color='red')\n",
    "sns.distplot(decoy_grch['posterior_error_probability'], \n",
    "             hist=True, kde=True, label='DECOY_GRCh38', color='yellow')\n",
    "\n",
    "plt.legend()"
   ]
  },
  {
   "cell_type": "code",
   "execution_count": 16,
   "id": "f16de313-de7a-402c-a93f-699f11aef13d",
   "metadata": {},
   "outputs": [
    {
     "data": {
      "image/png": "[encoded data removed]",
      "text/plain": [
       "<Figure size 1152x576 with 1 Axes>"
      ]
     },
     "metadata": {
      "needs_background": "light"
     },
     "output_type": "display_data"
    }
   ],
   "source": [
    "plt.figure(figsize=(16, 8))\n",
    "\n",
    "sns.set_style(\"whitegrid\")\n",
    "\n",
    "sns.violinplot(\n",
    "    data=df2, x=\"prot_source\", y=\"posterior_error_probability\", fill=\"prot_source\",\n",
    "    width=.6, palette=\"vlag\"\n",
    ")\n",
    "\n",
    "count_data = df2[\"prot_source\"].value_counts()\n",
    "for idx, count in enumerate(count_data):\n",
    "    plt.text(idx, df2[\"posterior_error_probability\"].max() + 0.003, f'Count: {count}', \n",
    "             ha='center', va='bottom', fontsize=12) \n",
    "\n",
    "plt.xticks(rotation=0, fontsize=12)  \n",
    "plt.xlabel(\"prot_source\", fontsize=16)  \n",
    "plt.ylabel(\"posterior_error_probability\", fontsize=16)  \n",
    "plt.yticks(fontsize=14)  \n",
    "plt.tick_params(axis='both', which='both', labelsize=12) \n",
    "plt.grid(False) \n",
    "plt.savefig(\"plots/quantms-scores-plots/pep_violin_distributions.svg\", format=\"svg\")\n",
    "plt.show()"
   ]
  },
  {
   "cell_type": "code",
   "execution_count": 17,
   "id": "7660f38c-e9bb-4c64-adf9-0659ed5b06f6",
   "metadata": {
    "pycharm": {
     "name": "#%%\n"
    }
   },
   "outputs": [
    {
     "data": {
      "text/plain": [
       "GRCh38               13696790\n",
       "CONTAMINANT            542514\n",
       "GCA                    128910\n",
       "DECOY_GCA                6711\n",
       "DECOY_GRCh38             3148\n",
       "DECOY_CONTAMINANT          46\n",
       "Name: prot_source, dtype: int64"
      ]
     },
     "execution_count": 17,
     "metadata": {},
     "output_type": "execute_result"
    }
   ],
   "source": [
    "original_df[original_df['posterior_error_probability']<0.01]['prot_source'].value_counts()"
   ]
  },
  {
   "cell_type": "code",
   "execution_count": 18,
   "id": "b151b59d-9049-4071-b2cc-a30f6e2c4c41",
   "metadata": {
    "pycharm": {
     "name": "#%%\n"
    }
   },
   "outputs": [
    {
     "name": "stdout",
     "output_type": "stream",
     "text": [
      "Number of unique peptide sequences from\n",
      " GCA: 7142\n",
      " canonical: 340914\n",
      "union 348056\n",
      "intesect 0\n"
     ]
    }
   ],
   "source": [
    "print('Number of unique peptide sequences from\\n GCA: {}\\n canonical: {}'.format(len(gca.sequence.unique()), len(grch.sequence.unique())))\n",
    "print('union', len(set(grch.sequence).union(set(gca.sequence))))\n",
    "print('intesect', len(set(grch.sequence).intersection(set(gca.sequence))))"
   ]
  },
  {
   "cell_type": "code",
   "execution_count": 19,
   "id": "d5151650-0110-4ad4-ac4d-1becbb3e4cd8",
   "metadata": {
    "pycharm": {
     "name": "#%%\n"
    }
   },
   "outputs": [
    {
     "data": {
      "text/plain": [
       "7142"
      ]
     },
     "execution_count": 19,
     "metadata": {},
     "output_type": "execute_result"
    }
   ],
   "source": [
    "def rep(x):\n",
    "    return re.sub('{[^}]*}', '', x.replace('(','{').replace(')', '}').replace('.',''))\n",
    "\n",
    "gca_seqs = list(set([rep(x) for x in gca['sequence'].tolist()]))\n",
    "\n",
    "len(gca_seqs)"
   ]
  },
  {
   "cell_type": "markdown",
   "id": "13d424af",
   "metadata": {
    "jupyter": {
     "outputs_hidden": false
    },
    "pycharm": {
     "name": "#%% md\n"
    }
   },
   "source": [
    "#### To DeepLC"
   ]
  },
  {
   "cell_type": "code",
   "execution_count": 20,
   "id": "7d1724c5-2811-4253-980c-028a4de93340",
   "metadata": {
    "pycharm": {
     "name": "#%%\n"
    }
   },
   "outputs": [],
   "source": [
    "mod_rep = {\"UNIMOD:4\":\"Carbamidomethyl\",\"UNIMOD:7\":\"Deamidated\",\"UNIMOD:35\":\"Oxidation\",\"UNIMOD:1\":\"Acetyl\"}\n",
    "def replace_mod(x):\n",
    "    s = \"\"\n",
    "    for mod in x:\n",
    "        nums = mod.split(\"-\")[0]\n",
    "        m = mod.split(\"-\")[1]\n",
    "        for n in nums.split(\"|\"):\n",
    "            if s:\n",
    "                s += \"|\"\n",
    "            s += n + \"|\" + mod_rep.get(m)\n",
    "    return s\n",
    "\n",
    "# convert modifications and add the rt and sequence fields\n",
    "gca.loc[:,\"seq\"] = gca.apply(lambda x : x[\"sequence\"],axis = 1)\n",
    "gca.loc[:,\"modifications\"] = gca.apply(lambda x : replace_mod(x[\"modifications\"]) if x[\"modifications\"] is not None else \"\", axis = 1)\n",
    "gca.loc[:,\"tr\"] = gca.apply(lambda x : x[\"retention_time\"],axis = 1)\n",
    "\n",
    "grch.loc[:,\"seq\"] = grch.apply(lambda x : x[\"sequence\"],axis = 1)\n",
    "grch.loc[:,\"modifications\"] = grch.apply(lambda x : replace_mod(x[\"modifications\"]) if x[\"modifications\"] is not None else \"\", axis = 1)\n",
    "grch.loc[:,\"tr\"] = grch.apply(lambda x : x[\"retention_time\"],axis = 1)"
   ]
  },
  {
   "cell_type": "markdown",
   "id": "c61b0fda",
   "metadata": {},
   "source": [
    "#### Redundancy removal"
   ]
  },
  {
   "cell_type": "code",
   "execution_count": 21,
   "id": "cb503efc",
   "metadata": {
    "jupyter": {
     "outputs_hidden": false
    },
    "pycharm": {
     "name": "#%%\n"
    }
   },
   "outputs": [],
   "source": [
    "def extract_keys_values(id_scores):\n",
    "    # Split each pair by colon and create a dictionary\n",
    "    key_value_dict = {}\n",
    "    for kv in id_scores:\n",
    "       if kv is None:\n",
    "          print(\"The score is None\")\n",
    "       else:\n",
    "          score_string = kv.split(\":\")\n",
    "          if len(score_string) == 2:\n",
    "            key_value_dict[score_string[0]] = score_string[1]\n",
    "          elif len(score_string) > 2:\n",
    "            key_value_dict[\":\".join(score_string[:-1])] = score_string[-1]\n",
    "          else:\n",
    "            print.warning(\"The score is not in the right format score: value\")\n",
    "    return pd.Series(key_value_dict)  "
   ]
  },
  {
   "cell_type": "code",
   "execution_count": 22,
   "id": "8853cdff",
   "metadata": {
    "jupyter": {
     "outputs_hidden": false
    },
    "pycharm": {
     "name": "#%%\n"
    }
   },
   "outputs": [],
   "source": [
    "# Apply the function to create new columns\n",
    "sdrf_dic = sdrf.set_index('reference_file_name').to_dict()['sample_id']"
   ]
  },
  {
   "cell_type": "code",
   "execution_count": null,
   "id": "f4b77dc5-c7b1-4c93-8aaa-0a1b28f8a968",
   "metadata": {
    "pycharm": {
     "name": "#%%\n"
    }
   },
   "outputs": [
    {
     "name": "stderr",
     "output_type": "stream",
     "text": [
      "100%|██████████| 13696790/13696790 [42:04<00:00, 11827.80it/s] "
     ]
    }
   ],
   "source": [
    "new_columns = grch.progress_apply(lambda x: extract_keys_values(x[\"id_scores\"]), axis=1)\n",
    "\n",
    "# Concatenate the new columns with the original DataFrame\n",
    "grch_deeplc = pd.concat([grch[['seq', 'tr', 'modifications', 'reference_file_name','sequence','protein_accessions','charge','scan_number','peptidoform', 'posterior_error_probability']], new_columns], axis=1)\n",
    "grch_deeplc = pd.merge(grch_deeplc, sdrf, on=['reference_file_name'], how='left')\n",
    "grch_deeplc['posterior_error_probability'] = grch_deeplc['posterior_error_probability'].astype(float)\n",
    "grch_deeplc.sort_values('posterior_error_probability', inplace=True)\n",
    "project = \"PXD010154\"\n",
    "grch_deeplc[\"usi\"] = \"mzspec:\" + project + \":\" + grch_deeplc[\"reference_file_name\"] + \":scan:\" + grch_deeplc[\"scan_number\"].astype(str) + \":\" + grch_deeplc[\"peptidoform\"] + \"/\" + grch_deeplc[\"charge\"].astype(str)"
   ]
  },
  {
   "cell_type": "code",
   "execution_count": null,
   "id": "e9b4fc6f-c5fd-41f8-8036-35b73d813c89",
   "metadata": {
    "pycharm": {
     "name": "#%%\n"
    }
   },
   "outputs": [],
   "source": [
    "new_columns = gca.apply(lambda x: extract_keys_values(x[\"id_scores\"]), axis=1)\n",
    "# Concatenate the new columns with the original DataFrame\n",
    "gca_deeplc = pd.concat([gca[['seq', 'tr', 'modifications', 'reference_file_name','sequence','protein_accessions','charge','scan_number','peptidoform', 'posterior_error_probability']], new_columns], axis=1)\n",
    "gca_deeplc = pd.merge(gca_deeplc, sdrf, on=['reference_file_name'], how='left')\n",
    "gca_deeplc['posterior_error_probability'] = gca_deeplc['posterior_error_probability'].astype(float)\n",
    "gca_deeplc.sort_values('posterior_error_probability', inplace=True)\n",
    "project = \"PXD010154\"\n",
    "gca_deeplc[\"usi\"] = \"mzspec:\" + project + \":\" + gca_deeplc[\"reference_file_name\"] + \":scan:\" + gca_deeplc[\"scan_number\"].astype(str) + \":\" + gca_deeplc['peptidoform'] + \"/\" + gca_deeplc[\"charge\"].astype(str)\n",
    "gca_deeplc"
   ]
  },
  {
   "cell_type": "markdown",
   "id": "dc86f4b9",
   "metadata": {},
   "source": [
    "#### Final save"
   ]
  },
  {
   "cell_type": "code",
   "execution_count": null,
   "id": "be57159c-cd98-4efa-9bec-44b781bf769f",
   "metadata": {
    "pycharm": {
     "name": "#%%\n"
    }
   },
   "outputs": [],
   "source": [
    "gca_deeplc.to_csv('tables/to-ms2pip-snr-tables/gca_peptides_for_deeplc.csv.gz', index=False, compression=\"gzip\")\n",
    "grch_deeplc.to_csv('tables/to-ms2pip-snr-tables/grch_peptides_for_deeplc.csv.gz', index=False, compression=\"gzip\")"
   ]
  },
  {
   "cell_type": "markdown",
   "id": "8acf6d4a",
   "metadata": {},
   "source": [
    "**Remove Redundancy**"
   ]
  },
  {
   "cell_type": "code",
   "execution_count": null,
   "id": "dd0879f9",
   "metadata": {},
   "outputs": [],
   "source": [
    "# grch_deeplc = grch_deeplc.drop_duplicates([\"seq\", \"modifications\"], keep=\"first\")\n",
    "# gca_deeplc = gca_deeplc.drop_duplicates([\"seq\", \"modifications\"], keep=\"first\")\n",
    "\n",
    "# gca_deeplc.to_csv('tables/to-ms2pip-snr-tables/gca_peptides_for_deeplc_unique.csv.gz', index=False, compression=\"gzip\")\n",
    "# grch_deeplc.to_csv('tables/to-ms2pip-snr-tables/grch_peptides_for_deeplc_unique.csv.gz', index=False, compression=\"gzip\")"
   ]
  }
 ],
 "metadata": {
  "kernelspec": {
   "display_name": "Python 3",
   "language": "python",
   "name": "python3"
  },
  "language_info": {
   "codemirror_mode": {
    "name": "ipython",
    "version": 3
   },
   "file_extension": ".py",
   "mimetype": "text/x-python",
   "name": "python",
   "nbconvert_exporter": "python",
   "pygments_lexer": "ipython3",
   "version": "3.7.16"
  }
 },
 "nbformat": 4,
 "nbformat_minor": 5
}
