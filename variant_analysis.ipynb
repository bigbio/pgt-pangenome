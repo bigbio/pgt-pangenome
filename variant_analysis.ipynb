{
 "cells": [
  {
   "cell_type": "code",
   "execution_count": 34,
   "id": "d7d3b7ef-a8d8-450e-9901-4deb61dcb045",
   "metadata": {},
   "outputs": [],
   "source": [
    "import pandas as pd\n",
    "import numpy as np\n",
    "from glob import glob\n",
    "import ahocorasick\n",
    "import os\n",
    "import sys\n",
    "import seaborn as sn\n",
    "import matplotlib.pyplot as plt\n",
    "import re"
   ]
  },
  {
   "cell_type": "code",
   "execution_count": 51,
   "id": "89436559-80ca-47bd-bfe7-fdedaa8f2b64",
   "metadata": {},
   "outputs": [
    {
     "name": "stdout",
     "output_type": "stream",
     "text": [
      "4991\n",
      "4991\n"
     ]
    }
   ],
   "source": [
    "def get_info(files):\n",
    "    peps_tissues = {}\n",
    "    for f in files:\n",
    "        tissue_peps = [x.strip() for x in open(f, 'r').readlines()]\n",
    "    \n",
    "        for tissue_pep in tissue_peps[1::]:\n",
    "            tissue = tissue_pep.split('\\t')[0].lower()\n",
    "            peps  = tissue_pep.split('\\t')[1].upper()\n",
    "            for pep in peps.split(','):\n",
    "                try:\n",
    "                    peps_tissues[pep].add(tissue)\n",
    "                except KeyError:\n",
    "                    peps_tissues[pep] = set([tissue])\n",
    "    return peps_tissues\n",
    "\n",
    "peps_tissues = get_info(['count-tables/PXD016999-tissue_peps.tsv', 'count-tables/PXD010154-tissue_peps.tsv'])\n",
    "peps_samples = get_info(['count-tables/sample_peps.tsv'])\n",
    "print(len(peps_samples))\n",
    "print(len(peps_tissues))\n",
    "\n"
   ]
  },
  {
   "cell_type": "code",
   "execution_count": 56,
   "id": "4e583f2a-bd4c-4fcf-bc91-526c41cef195",
   "metadata": {},
   "outputs": [
    {
     "name": "stdout",
     "output_type": "stream",
     "text": [
      "4766\n"
     ]
    }
   ],
   "source": [
    "peps_file = 'blast_canonical-count-tables/1-2mismatches_peptides_match_info/peptide_gene_symbol_protein_matching_info_add.tsv'\n",
    "peps_header = [x.strip().split('\\t') for x in open(peps_file, 'r').readlines()][0]\n",
    "peps_all = [x.strip().split('\\t') for x in open(peps_file, 'r').readlines()][1::]\n",
    "\n",
    "pep_var_info = {}\n",
    "for i, pep_line in enumerate(peps_all):\n",
    "    pep_seq = pep_line[peps_header.index('peptide')]\n",
    "    prot_id = pep_line[peps_header.index('canonical_protein_ID')]\n",
    "    variant_info = pep_line[peps_header.index('mismatch_info')]\n",
    "    gene_symbol = pep_line[peps_header.index('gene_symbol')]\n",
    "    \n",
    "    var = re.sub('[0-9]+', '', variant_info)\n",
    "    var_pos = re.sub('[A-Z]', '', variant_info).strip('>')\n",
    "    #print('found {} in {} {} {}'.format(pep_seq, prot_id, var, var_pos))\n",
    "    \n",
    "    samples = pep_line[peps_header.index('GCA_protein_seq')].split('[')[3].split(']')[0].replace(\" \", \"\").replace(\"'\", \"\").split(\",\")\n",
    "    tissues = set()\n",
    "    try:\n",
    "        tissues = set(peps_tissues[pep_seq])\n",
    "    except KeyError:\n",
    "        pass\n",
    "    \n",
    "    try:\n",
    "        pep_var_info[pep_seq][0].append(var)\n",
    "        pep_var_info[pep_seq][1].append(variant_info)\n",
    "        pep_var_info[pep_seq][2].union(samples)\n",
    "        pep_var_info[pep_seq][3].union(tissues)\n",
    "        pep_var_info[pep_seq][3].union(prot_id.split(','))\n",
    "        pep_var_info[pep_seq][3].union(set(gene_symbol.split(',')))\n",
    "    except KeyError:\n",
    "        pep_var_info[pep_seq] = [[var], [variant_info], set(samples), set(tissues), set(prot_id.split(',')), set(gene_symbol.split(','))]\n",
    "print(len(pep_var_info))\n"
   ]
  },
  {
   "cell_type": "code",
   "execution_count": 57,
   "id": "e5f105d2-d7bc-41cd-86b8-181daf22bcbc",
   "metadata": {},
   "outputs": [
    {
     "name": "stdout",
     "output_type": "stream",
     "text": [
      "3780\n"
     ]
    }
   ],
   "source": [
    "pep_var_info_sorted = {}\n",
    "for k in sorted(pep_var_info, key=len, reverse=True):\n",
    "    pep_var_info_sorted[k] = pep_var_info[k]\n",
    "\n",
    "inserted_pairs = {}\n",
    "matching_peps = {}\n",
    "for pep_seq in pep_var_info_sorted.keys():\n",
    "    p1 = pep_seq\n",
    "    for s in matching_peps.keys():\n",
    "        if pep_seq in s:# and pep_var_info_sorted[pep_seq][0]==pep_var_info_sorted[s][0]:\n",
    "            p1 = s\n",
    "            break\n",
    "    \n",
    "    if p1==pep_seq:\n",
    "        for pep in pep_var_info_sorted.keys():\n",
    "            if ((pep_seq in pep) and pep_var_info_sorted[pep_seq][0]==pep_var_info_sorted[pep][0]):\n",
    "                p1 = pep\n",
    "                break\n",
    "    \n",
    "    try:\n",
    "        matching_peps[p1].append(pep_seq)\n",
    "    except KeyError:\n",
    "        matching_peps[p1] = [pep_seq]\n",
    "\n",
    "print(len(matching_peps))\n",
    "#print(matching_peps)\n",
    "\n"
   ]
  },
  {
   "cell_type": "code",
   "execution_count": 54,
   "id": "85129d3a-8c64-4784-8005-5a218ed2306d",
   "metadata": {},
   "outputs": [],
   "source": [
    "matching_peps_merged = {}\n",
    "for pep_key, peps in matching_peps.items(): \n",
    "    var  = pep_var_info_sorted[pep_key][0]\n",
    "    gene = pep_var_info_sorted[pep_key][-1]\n",
    "    \n",
    "    for p in matching_peps.keys():\n",
    "        if p == pep_key or pep_key in matching_peps_merged.values():\n",
    "            continue\n",
    "        if ( pep_var_info_sorted[p][0] == pep_var_info_sorted[pep_key][0] and\n",
    "            (set(pep_var_info_sorted[p][1]).issubset(set(pep_var_info_sorted[pep_key][1])) or \n",
    "            set(pep_var_info_sorted[pep_key][1]).issubset(set(pep_var_info_sorted[p][1]))) and\n",
    "            pep_var_info_sorted[p][-1] == pep_var_info_sorted[pep_key][-1] ):\n",
    "            if len(set(pep_key).intersection(set(p)))>3:\n",
    "                try:\n",
    "                    matching_peps_merged[pep_key].extend(matching_peps[p])\n",
    "                except KeyError:\n",
    "                    matching_peps_merged[pep_key]= matching_peps[pep_key][0::]\n",
    "                    matching_peps_merged[pep_key].extend(matching_peps[p])\n",
    "\n",
    "for pep_key in matching_peps.keys():\n",
    "    keys = matching_peps_merged.keys()\n",
    "    items = matching_peps_merged.values()\n",
    "    \n",
    "    if pep_key not in items and pep_key not in keys:\n",
    "        matching_peps_merged[pep_key] = matching_peps[pep_key]\n",
    "    \n"
   ]
  },
  {
   "cell_type": "code",
   "execution_count": 60,
   "id": "a33c6779-2b95-4442-a6e9-f3cca2b2b599",
   "metadata": {},
   "outputs": [],
   "source": [
    "samples_var_dict = {} \n",
    "genes_var_dict = {}\n",
    "tissues_var_dict = {}\n",
    "items_added = []\n",
    "\n",
    "with open('blast_canonical-count-tables/1-2mismatches_peptides_match_info/peps_merged_vars.tsv', 'w') as out:\n",
    "    for pep_key, peps in matching_peps_merged.items():\n",
    "        peps_u = set(sorted(peps))\n",
    "        if peps_u in items_added:\n",
    "            continue\n",
    "        items_added.append(peps_u)\n",
    "        \n",
    "        var = []\n",
    "        for v in pep_var_info_sorted[pep_key][0]:\n",
    "            var.extend(v.split(','))\n",
    "        out.write('{}\\t{}\\t{}\\t{}\\t{}\\t{}\\t{}\\t{}\\n'.format(pep_key, len(peps_u), len(set(samples)), len(set(tissues)), ','.join(set(var)), ','.join(set(gene)), ','.join(peps_u), ','.join(set(tissues)), ))\n",
    "        \n",
    "        genes = []\n",
    "        tissues = []\n",
    "        samples = []\n",
    "        for pep in peps_u:\n",
    "            samples.extend(pep_var_info_sorted[pep][2])\n",
    "            tissues.extend(pep_var_info_sorted[pep][3])\n",
    "            genes.extend(pep_var_info_sorted[pep][-1])\n",
    "        \n",
    "        for s in set(samples):\n",
    "            try:\n",
    "                samples_var_dict[s][0].extend(var)\n",
    "                samples_var_dict[s][1].extend(list(peps_u))\n",
    "            except KeyError:\n",
    "                samples_var_dict[s] = [var, list(peps_u)]\n",
    "\n",
    "        for s in set(tissues):\n",
    "            try:\n",
    "                tissues_var_dict[s][0].extend(var)\n",
    "                tissues_var_dict[s][1].extend(list(peps_u))\n",
    "            except KeyError:\n",
    "                tissues_var_dict[s] = [var, list(peps_u)]\n",
    "        \n",
    "        for s in set(genes):\n",
    "            try:\n",
    "                genes_var_dict[s][0].extend(var)\n",
    "                genes_var_dict[s][1].extend(list(peps_u))\n",
    "            except KeyError:\n",
    "                genes_var_dict[s] = [var, list(peps_u)]\n",
    "\n",
    "\n",
    "\n",
    "#make a sample file, number of variants per sample\n",
    "with open('blast_canonical-count-tables/1-2mismatches_peptides_match_info/samples_merged_pep_vars.tsv', 'w') as outs:\n",
    "    for s, i in samples_var_dict.items():\n",
    "        outs.write('{}\\t{}\\t{}\\t{}\\t{}\\n'.format(s, len(set(i[0])), len(set(i[1])), ','.join(set(i[0])), ','.join(set(i[1])) ))\n",
    "\n",
    "#make a gene file, number of variants per gene, supprted by #PSMs and peptides\n",
    "with open('blast_canonical-count-tables/1-2mismatches_peptides_match_info/genes_merged_pep_vars.tsv', 'w') as outg:\n",
    "    for s, i in genes_var_dict.items():\n",
    "        outg.write('{}\\t{}\\t{}\\t{}\\t{}\\n'.format(s, len(set(i[0])), len(set(i[1])), ','.join(set(i[0])), ','.join(set(i[1])) ))\n",
    "\n",
    "#make a tissue file, number of variatns and number of gene variants per tissue\n",
    "with open('blast_canonical-count-tables/1-2mismatches_peptides_match_info/tissues_merged_pep_vars.tsv', 'w') as outg:\n",
    "    for s, i in tissues_var_dict.items():\n",
    "        outg.write('{}\\t{}\\t{}\\t{}\\t{}\\n'.format(s, len(set(i[0])), len(set(i[1])), ','.join(set(i[0])), ','.join(set(i[1])) ))\n"
   ]
  },
  {
   "cell_type": "code",
   "execution_count": null,
   "id": "0ca13699-33b2-4075-a44a-5e27bc691c97",
   "metadata": {},
   "outputs": [],
   "source": []
  }
 ],
 "metadata": {
  "kernelspec": {
   "display_name": "Python 3 (ipykernel)",
   "language": "python",
   "name": "python3"
  },
  "language_info": {
   "codemirror_mode": {
    "name": "ipython",
    "version": 3
   },
   "file_extension": ".py",
   "mimetype": "text/x-python",
   "name": "python",
   "nbconvert_exporter": "python",
   "pygments_lexer": "ipython3",
   "version": "3.11.5"
  }
 },
 "nbformat": 4,
 "nbformat_minor": 5
}
