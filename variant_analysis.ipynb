{
 "cells": [
  {
   "cell_type": "code",
   "execution_count": 19,
   "id": "d7d3b7ef-a8d8-450e-9901-4deb61dcb045",
   "metadata": {},
   "outputs": [],
   "source": [
    "import pandas as pd\n",
    "import numpy as np\n",
    "from glob import glob\n",
    "import ahocorasick\n",
    "import os\n",
    "import sys\n",
    "import seaborn as sns\n",
    "import matplotlib.pyplot as plt\n",
    "import re"
   ]
  },
  {
   "cell_type": "code",
   "execution_count": 20,
   "id": "89436559-80ca-47bd-bfe7-fdedaa8f2b64",
   "metadata": {},
   "outputs": [
    {
     "name": "stdout",
     "output_type": "stream",
     "text": [
      "4991\n",
      "4991\n"
     ]
    }
   ],
   "source": [
    "def get_info(files):\n",
    "    peps_tissues = {}\n",
    "    for f in files:\n",
    "        tissue_peps = [x.strip() for x in open(f, 'r').readlines()]\n",
    "    \n",
    "        for tissue_pep in tissue_peps[1::]:\n",
    "            tissue = tissue_pep.split('\\t')[0].lower()\n",
    "            peps  = tissue_pep.split('\\t')[1].upper()\n",
    "            for pep in peps.split(','):\n",
    "                try:\n",
    "                    peps_tissues[pep].add(tissue)\n",
    "                except KeyError:\n",
    "                    peps_tissues[pep] = set([tissue])\n",
    "    return peps_tissues\n",
    "\n",
    "peps_tissues = get_info(['count-tables/PXD016999-tissue_peps.tsv', 'count-tables/PXD010154-tissue_peps.tsv'])\n",
    "peps_samples = get_info(['count-tables/sample_peps.tsv'])\n",
    "print(len(peps_samples))\n",
    "print(len(peps_tissues))\n",
    "\n"
   ]
  },
  {
   "cell_type": "code",
   "execution_count": 21,
   "id": "4e583f2a-bd4c-4fcf-bc91-526c41cef195",
   "metadata": {},
   "outputs": [
    {
     "name": "stdout",
     "output_type": "stream",
     "text": [
      "4766\n"
     ]
    }
   ],
   "source": [
    "peps_file = 'blast_canonical-count-tables/1-2mismatches_peptides_match_info/peptide_gene_symbol_protein_matching_info_add.tsv'\n",
    "peps_header = [x.strip().split('\\t') for x in open(peps_file, 'r').readlines()][0]\n",
    "peps_all = [x.strip().split('\\t') for x in open(peps_file, 'r').readlines()][1::]\n",
    "\n",
    "pep_var_info = {}\n",
    "for i, pep_line in enumerate(peps_all):\n",
    "    pep_seq = pep_line[peps_header.index('peptide')]\n",
    "    prot_id = pep_line[peps_header.index('canonical_protein_ID')]\n",
    "    variant_info = pep_line[peps_header.index('mismatch_info')]\n",
    "    gene_symbol = pep_line[peps_header.index('gene_symbol')]\n",
    "    var = re.sub('[0-9]+', '', variant_info)\n",
    "    var_pos = re.sub('[A-Z]', '', variant_info).strip('>')\n",
    "    #print('found {} in {} {} {}'.format(pep_seq, prot_id, var, var_pos))\n",
    "    \n",
    "    samples = pep_line[peps_header.index('GCA_protein_seq')].split('[')[3].split(']')[0].replace(\" \", \"\").replace(\"'\", \"\").split(\",\")\n",
    "    tissues = set()\n",
    "    try:\n",
    "        tissues = set(peps_tissues[pep_seq])\n",
    "    except KeyError:\n",
    "        pass\n",
    "    \n",
    "    try:\n",
    "        pep_var_info[pep_seq][0].append(var)\n",
    "        pep_var_info[pep_seq][1].append(variant_info)\n",
    "        pep_var_info[pep_seq][2].union(samples)\n",
    "        pep_var_info[pep_seq][3].union(tissues)\n",
    "        pep_var_info[pep_seq][3].union(prot_id.split(','))\n",
    "        pep_var_info[pep_seq][3].union(set(gene_symbol.split(',')))\n",
    "    except KeyError:\n",
    "        pep_var_info[pep_seq] = [[var], [variant_info], set(samples), set(tissues), set(prot_id.split(',')), set(gene_symbol.split(','))]\n",
    "print(len(pep_var_info))\n"
   ]
  },
  {
   "cell_type": "code",
   "execution_count": 22,
   "id": "e5f105d2-d7bc-41cd-86b8-181daf22bcbc",
   "metadata": {},
   "outputs": [
    {
     "name": "stdout",
     "output_type": "stream",
     "text": [
      "3780\n"
     ]
    }
   ],
   "source": [
    "#identify peptides that are substrings of each other\n",
    "pep_var_info_sorted = {}\n",
    "for k in sorted(pep_var_info, key=len, reverse=True):\n",
    "    pep_var_info_sorted[k] = pep_var_info[k]\n",
    "\n",
    "inserted_pairs = {}\n",
    "matching_peps = {}\n",
    "for pep_seq in pep_var_info_sorted.keys():\n",
    "    p1 = pep_seq\n",
    "    for s in matching_peps.keys():\n",
    "        if pep_seq in s:# and pep_var_info_sorted[pep_seq][0]==pep_var_info_sorted[s][0]:\n",
    "            p1 = s\n",
    "            break\n",
    "    \n",
    "    if p1==pep_seq:\n",
    "        for pep in pep_var_info_sorted.keys():\n",
    "            if ((pep_seq in pep) and pep_var_info_sorted[pep_seq][0]==pep_var_info_sorted[pep][0]):\n",
    "                p1 = pep\n",
    "                break\n",
    "    \n",
    "    try:\n",
    "        matching_peps[p1].append(pep_seq)\n",
    "    except KeyError:\n",
    "        matching_peps[p1] = [pep_seq]\n",
    "\n",
    "print(len(matching_peps))\n",
    "#print(matching_peps)\n",
    "\n"
   ]
  },
  {
   "cell_type": "code",
   "execution_count": 32,
   "id": "85129d3a-8c64-4784-8005-5a218ed2306d",
   "metadata": {},
   "outputs": [
    {
     "name": "stdout",
     "output_type": "stream",
     "text": [
      "3780\n"
     ]
    }
   ],
   "source": [
    "#Merge peptides with their overlapping ones (missed cleavage)\n",
    "matching_peps_merged = {}\n",
    "for pep_key, peps in matching_peps.items(): \n",
    "    \n",
    "    for p in matching_peps.keys():\n",
    "        if p == pep_key or pep_key in matching_peps_merged.values():\n",
    "            continue\n",
    "        if ( pep_var_info_sorted[p][0] == pep_var_info_sorted[pep_key][0] and\n",
    "            (set(pep_var_info_sorted[p][1]).issubset(set(pep_var_info_sorted[pep_key][1])) or \n",
    "            set(pep_var_info_sorted[pep_key][1]).issubset(set(pep_var_info_sorted[p][1]))) and\n",
    "            pep_var_info_sorted[p][-1] == pep_var_info_sorted[pep_key][-1] ):\n",
    "            if len(set(pep_key).intersection(set(p)))>3:\n",
    "                try:\n",
    "                    matching_peps_merged[pep_key].extend(matching_peps[p])\n",
    "                except KeyError:\n",
    "                    matching_peps_merged[pep_key]= matching_peps[pep_key][0::]\n",
    "                    matching_peps_merged[pep_key].extend(matching_peps[p])\n",
    "\n",
    "for pep_key in matching_peps.keys():\n",
    "    keys = matching_peps_merged.keys()\n",
    "    items = matching_peps_merged.values()\n",
    "    \n",
    "    if pep_key not in items and pep_key not in keys:\n",
    "        matching_peps_merged[pep_key] = matching_peps[pep_key]\n",
    "\n",
    "print(len(matching_peps_merged))"
   ]
  },
  {
   "cell_type": "code",
   "execution_count": 24,
   "id": "a33c6779-2b95-4442-a6e9-f3cca2b2b599",
   "metadata": {},
   "outputs": [
    {
     "name": "stdout",
     "output_type": "stream",
     "text": [
      "variants and peptides associated to CHGB gene\n",
      " {'R>Q', 'K>N', 'P>L', 'S>T', 'N>H', 'A>G', 'T>A', 'D>N'} \n",
      " {'DPADASEAHESSSRGEAGAPGEEDIQGPTNADTEK', 'DPADATEAHESSSRGEAGAPGEEDIQGPTK', 'GYPGVQGPEDLEWERYR', 'GEQGEDSSEEKHLEEPGETQNAFLNERK', 'LLRDPADASEAHESSSRGEAGAPGEEDIQGPTNADTEK', 'HLEEPGETQNAFLHER', 'GEQGEDSSEEKHLEEPGETQNAFLNER', 'ERADEPQWSLYPSNSQVSEEVKTR', 'ADEPQWSLYPSNSQVSEEVK', 'LLRDPADATEAHESSSR', 'SSQESGEEAGSQENHPQESK', 'GYPGVQGPEDLEWER', 'EKSSQESGEEAGSQENHPQESK', 'GEQGEDSSEEK', 'EKSSQESGEEAGSQENHPQESKGQPR', 'LLRDPADATEAHESSSRGEAGAPGEEDIQGPTK', 'ASEEEPEYGEEIKGYPGVQGPEDLEWER', 'EDEEEEEGENYQKGEQGEDSSEEK', 'ADEPQWSLYPSNSQVSEEVKTR', 'DHHSTHYRASEEEPEYGEEIKGYPGVQGPEDLEWER', 'GQPQSQEESEEGEEDATSEVDK', 'MAHGYGEESEEERGLELGK', 'DPADATEAHESSSR', 'DPADATEAHESSSRGEAGAPGEEDIQGPTKADTEK', 'ERADEPQWSLYPSNSQVSEEVK', 'GEAGAPGEEDIQGPTNADTEK'}\n"
     ]
    }
   ],
   "source": [
    "samples_var_dict = {} \n",
    "genes_var_dict = {}\n",
    "tissues_var_dict = {}\n",
    "items_added = []\n",
    "header = []\n",
    "with open('blast_canonical-count-tables/1-2mismatches_peptides_match_info/peps_merged_vars.tsv', 'w') as out:\n",
    "    for pep_key, peps in matching_peps_merged.items():\n",
    "        peps_u = set(sorted(peps))\n",
    "        if peps_u in items_added:\n",
    "            continue\n",
    "            \n",
    "        items_added.append(peps_u)\n",
    "        \n",
    "        var = []\n",
    "        out.write('{}\\n'.format('\\t'.join('Peptide,num_unique_peptides,num_samples,num_tissues,variants,genes,overlapping_peptides,tissues'.split(','))))\n",
    "        for v in pep_var_info_sorted[pep_key][0]:\n",
    "            var.extend(v.split(','))\n",
    "        \n",
    "        genes = []\n",
    "        tissues = []\n",
    "        samples = []\n",
    "        for pep in peps_u:\n",
    "            samples.extend(pep_var_info_sorted[pep][2])\n",
    "            tissues.extend(pep_var_info_sorted[pep][3])\n",
    "            genes.extend(pep_var_info_sorted[pep][-1])\n",
    "\n",
    "        out.write('{}\\t{}\\t{}\\t{}\\t{}\\t{}\\t{}\\t{}\\n'.format(pep_key, len(peps_u), len(set(samples)), \n",
    "                                                            len(set(tissues)), ','.join(set(var)), \n",
    "                                                            ','.join(set(genes)), ','.join(peps_u), ','.join(set(tissues)), ))\n",
    "\n",
    "        for s in set(samples):\n",
    "            try:\n",
    "                samples_var_dict[s][0].extend(var[::])\n",
    "                samples_var_dict[s][1].extend(list(peps_u))\n",
    "            except KeyError:\n",
    "                samples_var_dict[s] = [var[::], list(peps_u)]\n",
    "\n",
    "        for t in set(tissues):\n",
    "            try:\n",
    "                tissues_var_dict[t][0].extend(var[::])\n",
    "                tissues_var_dict[t][1].extend(list(peps_u))\n",
    "            except KeyError:\n",
    "                tissues_var_dict[t] = [var[::], list(peps_u)]\n",
    "        \n",
    "        for g in set(genes):\n",
    "            try:\n",
    "                genes_var_dict[g][0].extend(var[::])\n",
    "                genes_var_dict[g][1].extend(list(peps_u))\n",
    "                genes_var_dict[g][2].extend(tissues[::])\n",
    "                genes_var_dict[g][3].extend(samples[::])\n",
    "                \n",
    "            except KeyError:\n",
    "                genes_var_dict[g] = [var[::], list(peps_u), tissues[::], samples[::]]\n",
    "\n",
    "\n",
    "print(\"variants and peptides associated to CHGB gene\\n\", set(genes_var_dict['CHGB'][0]), '\\n', set(genes_var_dict['CHGB'][1]))\n",
    "\n",
    "#make a sample file, number of variants per sample\n",
    "with open('blast_canonical-count-tables/1-2mismatches_peptides_match_info/samples_merged_pep_vars.tsv', 'w') as outs:\n",
    "    outs.write('{}\\n'.format('\\t'.join('sample,num_vars,num_peptides,variants,peptides,'.split(','))))\n",
    "    for s, i in samples_var_dict.items():\n",
    "        outs.write('{}\\t{}\\t{}\\t{}\\t{}\\n'.format(s, len(set(i[0])), len(set(i[1])), ','.join(set(i[0])), ','.join(set(i[1])) ))\n",
    "\n",
    "#make a gene file, number of variants per gene, supprted by #PSMs and peptides\n",
    "with open('blast_canonical-count-tables/1-2mismatches_peptides_match_info/genes_merged_pep_vars.tsv', 'w') as outg:\n",
    "    outg.write('{}\\n'.format('\\t'.join('gene,num_vars,num_peptides,num_tissues,num_samples,variants,peptides,tissues,samples'.split(','))))\n",
    "    for g, i in genes_var_dict.items():\n",
    "        outg.write('{}\\t{}\\t{}\\t{}\\t{}\\t{}\\t{}\\t{}\\t{}\\n'.format(g, len(set(i[0])), len(set(i[1])), len(set(i[2])), len(set(i[3])), \n",
    "                                                 ','.join(set(i[0])), ','.join(set(i[1])), ','.join(set(i[2])), ','.join(set(i[3])) ))\n",
    "\n",
    "#make a tissue file, number of variatns and number of gene variants per tissue\n",
    "with open('blast_canonical-count-tables/1-2mismatches_peptides_match_info/tissues_merged_pep_vars.tsv', 'w') as outt:\n",
    "    outt.write('{}\\n'.format('\\t'.join('tissue,num_vars,num_peptides,variants,peptides,'.split(','))))\n",
    "    for t, i in tissues_var_dict.items():\n",
    "        outt.write('{}\\t{}\\t{}\\t{}\\t{}\\n'.format(t, len(set(i[0])), len(set(i[1])), ','.join(set(i[0])), ','.join(set(i[1])) ))\n"
   ]
  },
  {
   "cell_type": "code",
   "execution_count": 25,
   "id": "9b6d1c69-a842-475f-b5d5-5876a1cd59ac",
   "metadata": {},
   "outputs": [
    {
     "data": {
      "text/plain": [
       "Index(['gene', 'num_vars', 'num_peptides', 'num_tissues', 'num_samples',\n",
       "       'variants', 'peptides', 'tissues', 'samples'],\n",
       "      dtype='object')"
      ]
     },
     "execution_count": 25,
     "metadata": {},
     "output_type": "execute_result"
    }
   ],
   "source": [
    "genes_df = pd.read_csv('blast_canonical-count-tables/1-2mismatches_peptides_match_info/genes_merged_pep_vars.tsv', sep='\\t')\n",
    "genes_df.columns"
   ]
  },
  {
   "cell_type": "code",
   "execution_count": 62,
   "id": "f34ecc37-2e28-4f5f-a2b9-42aeb6a38144",
   "metadata": {},
   "outputs": [
    {
     "data": {
      "image/png": "[encoded data removed]",
      "text/plain": [
       "<Figure size 360x360 with 1 Axes>"
      ]
     },
     "metadata": {
      "needs_background": "light"
     },
     "output_type": "display_data"
    }
   ],
   "source": [
    "# use the scatterplot function to build the bubble map\n",
    "genes_df_filtered = genes_df[(genes_df.num_vars>5)]\n",
    "plt.figure(figsize=(5, 5))\n",
    "plot = sns.scatterplot(\n",
    "    data=genes_df_filtered,\n",
    "    x=\"num_vars\",\n",
    "    y=\"num_peptides\",\n",
    "    size=\"num_samples\",\n",
    "    legend=True,\n",
    "    sizes=(5, 400)\n",
    ")\n",
    "for i,g in enumerate(genes_df_filtered.gene.tolist()):\n",
    "    plot.annotate(g, (genes_df_filtered.num_vars.tolist()[i], genes_df_filtered.num_peptides.tolist()[i]))\n",
    "plt.title('Genes with more than 5 variants')\n",
    "plt.xlabel('Number of Variants')\n",
    "# Set y-axis label\n",
    "plt.ylabel('Number of peptides')\n",
    "# plt.tight_layout()\n",
    "\n",
    "sns.despine()\n",
    "plt.savefig('genes_num_vars_peps_samples.svg')"
   ]
  },
  {
   "cell_type": "code",
   "execution_count": 61,
   "id": "d443994b",
   "metadata": {},
   "outputs": [
    {
     "name": "stderr",
     "output_type": "stream",
     "text": [
      "/Users/yperez/miniconda3/envs/jupyterlab/lib/python3.7/site-packages/ipykernel_launcher.py:2: UserWarning: \n",
      "\n",
      "`distplot` is a deprecated function and will be removed in seaborn v0.14.0.\n",
      "\n",
      "Please adapt your code to use either `displot` (a figure-level function with\n",
      "similar flexibility) or `histplot` (an axes-level function for histograms).\n",
      "\n",
      "For a guide to updating your code to use the new functions, please see\n",
      "https://gist.github.com/mwaskom/de44147ed2974457ad6372750bbe5751\n",
      "\n",
      "  \n"
     ]
    },
    {
     "data": {
      "image/png": "[encoded data removed]",
      "text/plain": [
       "<Figure size 504x504 with 1 Axes>"
      ]
     },
     "metadata": {
      "needs_background": "light"
     },
     "output_type": "display_data"
    }
   ],
   "source": [
    "plt.figure(figsize=(7, 7))\n",
    "plot = sns.distplot(genes_df[\"num_vars\"].astype(float))\n",
    "plt.title('Distributions of number of variants per gene')\n",
    "plt.xlabel('Number of Variants')\n",
    "# Set y-axis label\n",
    "plt.ylabel('Number of peptides')\n",
    "# plt.tight_layout()\n",
    "\n",
    "sns.despine()\n",
    "plt.savefig('dist_genes_num_vars.svg')\n"
   ]
  },
  {
   "cell_type": "code",
   "execution_count": null,
   "id": "1cfbeea3",
   "metadata": {},
   "outputs": [],
   "source": []
  }
 ],
 "metadata": {
  "kernelspec": {
   "display_name": "Python 3",
   "language": "python",
   "name": "python3"
  },
  "language_info": {
   "codemirror_mode": {
    "name": "ipython",
    "version": 3
   },
   "file_extension": ".py",
   "mimetype": "text/x-python",
   "name": "python",
   "nbconvert_exporter": "python",
   "pygments_lexer": "ipython3",
   "version": "3.7.16"
  }
 },
 "nbformat": 4,
 "nbformat_minor": 5
}
