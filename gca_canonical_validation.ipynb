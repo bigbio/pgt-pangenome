{
 "cells": [
  {
   "cell_type": "code",
   "execution_count": 20,
   "id": "c76241c4-349d-4847-8676-bbf06c00bbd6",
   "metadata": {},
   "outputs": [
    {
     "name": "stdout",
     "output_type": "stream",
     "text": [
      "Requirement already satisfied: pandas in /Users/yperez/local-apps/miniconda3/envs/jupyter-env/lib/python3.12/site-packages (2.1.2)\n",
      "Requirement already satisfied: seaborn in /Users/yperez/local-apps/miniconda3/envs/jupyter-env/lib/python3.12/site-packages (0.13.0)\n",
      "Requirement already satisfied: biopython in /Users/yperez/local-apps/miniconda3/envs/jupyter-env/lib/python3.12/site-packages (1.81)\n",
      "Requirement already satisfied: pyarrow in /Users/yperez/local-apps/miniconda3/envs/jupyter-env/lib/python3.12/site-packages (14.0.0)\n",
      "Requirement already satisfied: ahocorasick-python in /Users/yperez/local-apps/miniconda3/envs/jupyter-env/lib/python3.12/site-packages (0.0.9)\n",
      "Requirement already satisfied: wget in /Users/yperez/local-apps/miniconda3/envs/jupyter-env/lib/python3.12/site-packages (3.2)\n",
      "Requirement already satisfied: tqdm in /Users/yperez/local-apps/miniconda3/envs/jupyter-env/lib/python3.12/site-packages (4.66.1)\n",
      "Requirement already satisfied: numpy<2,>=1.26.0 in /Users/yperez/local-apps/miniconda3/envs/jupyter-env/lib/python3.12/site-packages (from pandas) (1.26.1)\n",
      "Requirement already satisfied: python-dateutil>=2.8.2 in /Users/yperez/local-apps/miniconda3/envs/jupyter-env/lib/python3.12/site-packages (from pandas) (2.8.2)\n",
      "Requirement already satisfied: pytz>=2020.1 in /Users/yperez/local-apps/miniconda3/envs/jupyter-env/lib/python3.12/site-packages (from pandas) (2023.3.post1)\n",
      "Requirement already satisfied: tzdata>=2022.1 in /Users/yperez/local-apps/miniconda3/envs/jupyter-env/lib/python3.12/site-packages (from pandas) (2023.3)\n",
      "Requirement already satisfied: matplotlib!=3.6.1,>=3.3 in /Users/yperez/local-apps/miniconda3/envs/jupyter-env/lib/python3.12/site-packages (from seaborn) (3.8.1)\n",
      "Requirement already satisfied: contourpy>=1.0.1 in /Users/yperez/local-apps/miniconda3/envs/jupyter-env/lib/python3.12/site-packages (from matplotlib!=3.6.1,>=3.3->seaborn) (1.2.0)\n",
      "Requirement already satisfied: cycler>=0.10 in /Users/yperez/local-apps/miniconda3/envs/jupyter-env/lib/python3.12/site-packages (from matplotlib!=3.6.1,>=3.3->seaborn) (0.12.1)\n",
      "Requirement already satisfied: fonttools>=4.22.0 in /Users/yperez/local-apps/miniconda3/envs/jupyter-env/lib/python3.12/site-packages (from matplotlib!=3.6.1,>=3.3->seaborn) (4.44.0)\n",
      "Requirement already satisfied: kiwisolver>=1.3.1 in /Users/yperez/local-apps/miniconda3/envs/jupyter-env/lib/python3.12/site-packages (from matplotlib!=3.6.1,>=3.3->seaborn) (1.4.5)\n",
      "Requirement already satisfied: packaging>=20.0 in /Users/yperez/local-apps/miniconda3/envs/jupyter-env/lib/python3.12/site-packages (from matplotlib!=3.6.1,>=3.3->seaborn) (23.2)\n",
      "Requirement already satisfied: pillow>=8 in /Users/yperez/local-apps/miniconda3/envs/jupyter-env/lib/python3.12/site-packages (from matplotlib!=3.6.1,>=3.3->seaborn) (10.1.0)\n",
      "Requirement already satisfied: pyparsing>=2.3.1 in /Users/yperez/local-apps/miniconda3/envs/jupyter-env/lib/python3.12/site-packages (from matplotlib!=3.6.1,>=3.3->seaborn) (3.1.1)\n",
      "Requirement already satisfied: six>=1.5 in /Users/yperez/local-apps/miniconda3/envs/jupyter-env/lib/python3.12/site-packages (from python-dateutil>=2.8.2->pandas) (1.16.0)\n"
     ]
    }
   ],
   "source": [
    "# install Jupyter dependencies\n",
    "!pip install pandas seaborn biopython pyarrow ahocorasick-python wget tqdm"
   ]
  },
  {
   "cell_type": "code",
   "execution_count": 2,
   "id": "683806bf",
   "metadata": {
    "pycharm": {
     "name": "#%%\n"
    }
   },
   "outputs": [],
   "source": [
    "import pyarrow as pa\n",
    "import pyarrow.parquet as pq\n",
    "import pandas as pd\n",
    "from Bio import SeqIO\n",
    "import seaborn as sns\n",
    "import matplotlib.pyplot as plt\n",
    "import pyarrow.compute as pc\n",
    "import pyarrow.dataset as ds\n",
    "import math\n",
    "import re\n",
    "import ahocorasick\n",
    "import datetime\n",
    "from tqdm import tqdm"
   ]
  },
  {
   "cell_type": "markdown",
   "id": "12808b4c",
   "metadata": {
    "pycharm": {
     "name": "#%% md\n"
    }
   },
   "source": [
    "## Analysis of Canonical Peptides"
   ]
  },
  {
   "cell_type": "markdown",
   "id": "6f5ad59f-b56a-4ba0-af40-a92072095c6a",
   "metadata": {
    "pycharm": {
     "name": "#%% md\n"
    }
   },
   "source": [
    "The parquet files for the canonical peptides including the GCA proteins and GRCh38 can be downloaded from: \n",
    "http://ftp.pride.ebi.ac.uk/pub/databases/pride/resources/proteomes/proteogenomics/noncanonical-tissues-2023/PXD010154-1de73bcb-ee3e-4d19-9d8d-da72f11d5fac.psm.parquet \n"
   ]
  },
  {
   "cell_type": "code",
   "execution_count": 18,
   "id": "b91bcd8b-d41e-46c0-abea-2b52bc3be26d",
   "metadata": {},
   "outputs": [
    {
     "name": "stdout",
     "output_type": "stream",
     "text": [
      "100% [....................................................................] 1349132713 / 1349132713"
     ]
    }
   ],
   "source": [
    "import wget\n",
    "import os\n",
    "if not os.path.isfile('PXD010154-1de73bcb-ee3e-4d19-9d8d-da72f11d5fac.psm.parquet'):\n",
    "    wget.download('http://ftp.pride.ebi.ac.uk/pub/databases/pride/resources/proteomes/proteogenomics/noncanonical-tissues-2023/PXD010154-1de73bcb-ee3e-4d19-9d8d-da72f11d5fac.psm.parquet')"
   ]
  },
  {
   "cell_type": "code",
   "execution_count": 19,
   "id": "03ccdb24",
   "metadata": {
    "pycharm": {
     "name": "#%%\n"
    }
   },
   "outputs": [],
   "source": [
    "parq_file = \"PXD010154-1de73bcb-ee3e-4d19-9d8d-da72f11d5fac.psm.parquet\"\n",
    "table = pq.read_table(parq_file)\n",
    "df = table.to_pandas()"
   ]
  },
  {
   "cell_type": "code",
   "execution_count": 21,
   "id": "813bd48a",
   "metadata": {
    "collapsed": false,
    "jupyter": {
     "outputs_hidden": false
    },
    "pycharm": {
     "name": "#%%\n"
    }
   },
   "outputs": [
    {
     "data": {
      "text/html": [
       "<div>\n",
       "<style scoped>\n",
       "    .dataframe tbody tr th:only-of-type {\n",
       "        vertical-align: middle;\n",
       "    }\n",
       "\n",
       "    .dataframe tbody tr th {\n",
       "        vertical-align: top;\n",
       "    }\n",
       "\n",
       "    .dataframe thead th {\n",
       "        text-align: right;\n",
       "    }\n",
       "</style>\n",
       "<table border=\"1\" class=\"dataframe\">\n",
       "  <thead>\n",
       "    <tr style=\"text-align: right;\">\n",
       "      <th></th>\n",
       "      <th>sequence</th>\n",
       "      <th>protein_accessions</th>\n",
       "      <th>protein_start_positions</th>\n",
       "      <th>protein_end_positions</th>\n",
       "      <th>protein_global_qvalue</th>\n",
       "      <th>unique</th>\n",
       "      <th>modifications</th>\n",
       "      <th>retention_time</th>\n",
       "      <th>charge</th>\n",
       "      <th>exp_mass_to_charge</th>\n",
       "      <th>...</th>\n",
       "      <th>is_decoy</th>\n",
       "      <th>id_scores</th>\n",
       "      <th>consensus_support</th>\n",
       "      <th>reference_file_name</th>\n",
       "      <th>scan_number</th>\n",
       "      <th>mz_array</th>\n",
       "      <th>intensity_array</th>\n",
       "      <th>num_peaks</th>\n",
       "      <th>gene_accessions</th>\n",
       "      <th>gene_names</th>\n",
       "    </tr>\n",
       "  </thead>\n",
       "  <tbody>\n",
       "    <tr>\n",
       "      <th>0</th>\n",
       "      <td>GAGGAGSGGCCCCVLGWLGVALCGLALLSGLVLGLLVGR</td>\n",
       "      <td>[DECOY_GCA_315848]</td>\n",
       "      <td>[115]</td>\n",
       "      <td>[153]</td>\n",
       "      <td>0.383534</td>\n",
       "      <td>1</td>\n",
       "      <td>[10|11|12|13|23-UNIMOD:4]</td>\n",
       "      <td>182368.1280</td>\n",
       "      <td>4</td>\n",
       "      <td>958.501276</td>\n",
       "      <td>...</td>\n",
       "      <td>1</td>\n",
       "      <td>['OpenMS:Target-decoy PSM q-value': 0.00704929...</td>\n",
       "      <td>NaN</td>\n",
       "      <td>01524_A01_P015424_S00_N01_R1</td>\n",
       "      <td>12179</td>\n",
       "      <td>None</td>\n",
       "      <td>None</td>\n",
       "      <td>NaN</td>\n",
       "      <td>None</td>\n",
       "      <td>None</td>\n",
       "    </tr>\n",
       "    <tr>\n",
       "      <th>1</th>\n",
       "      <td>EYLGAICSCTCFGGQR</td>\n",
       "      <td>[GCA_131462]</td>\n",
       "      <td>[2311]</td>\n",
       "      <td>[2326]</td>\n",
       "      <td>0.000556</td>\n",
       "      <td>1</td>\n",
       "      <td>[7|9|11-UNIMOD:4]</td>\n",
       "      <td>200494.1280</td>\n",
       "      <td>2</td>\n",
       "      <td>939.900626</td>\n",
       "      <td>...</td>\n",
       "      <td>0</td>\n",
       "      <td>['OpenMS:Target-decoy PSM q-value': 0.00366430...</td>\n",
       "      <td>NaN</td>\n",
       "      <td>01524_A01_P015424_S00_N01_R1</td>\n",
       "      <td>14522</td>\n",
       "      <td>None</td>\n",
       "      <td>None</td>\n",
       "      <td>NaN</td>\n",
       "      <td>None</td>\n",
       "      <td>None</td>\n",
       "    </tr>\n",
       "    <tr>\n",
       "      <th>2</th>\n",
       "      <td>TCVADESAENCDK</td>\n",
       "      <td>[GRCh38_78290, GCA_14814, CONTAMINANT_P02768-1...</td>\n",
       "      <td>[76, 76, 76, 76]</td>\n",
       "      <td>[88, 88, 88, 88]</td>\n",
       "      <td>0.000556</td>\n",
       "      <td>0</td>\n",
       "      <td>[2|11-UNIMOD:4]</td>\n",
       "      <td>83191.5960</td>\n",
       "      <td>2</td>\n",
       "      <td>749.796626</td>\n",
       "      <td>...</td>\n",
       "      <td>0</td>\n",
       "      <td>['OpenMS:Target-decoy PSM q-value': 0.00383706...</td>\n",
       "      <td>NaN</td>\n",
       "      <td>01524_A01_P015424_S00_N01_R1</td>\n",
       "      <td>4604</td>\n",
       "      <td>None</td>\n",
       "      <td>None</td>\n",
       "      <td>NaN</td>\n",
       "      <td>None</td>\n",
       "      <td>None</td>\n",
       "    </tr>\n",
       "    <tr>\n",
       "      <th>3</th>\n",
       "      <td>AAAFEEQENETVVVK</td>\n",
       "      <td>[GRCh38_64703]</td>\n",
       "      <td>[2494]</td>\n",
       "      <td>[2508]</td>\n",
       "      <td>0.000556</td>\n",
       "      <td>1</td>\n",
       "      <td>None</td>\n",
       "      <td>158287.7040</td>\n",
       "      <td>2</td>\n",
       "      <td>832.412626</td>\n",
       "      <td>...</td>\n",
       "      <td>0</td>\n",
       "      <td>['OpenMS:Target-decoy PSM q-value': 0.00106247...</td>\n",
       "      <td>NaN</td>\n",
       "      <td>01524_A01_P015424_S00_N01_R1</td>\n",
       "      <td>9826</td>\n",
       "      <td>None</td>\n",
       "      <td>None</td>\n",
       "      <td>NaN</td>\n",
       "      <td>None</td>\n",
       "      <td>None</td>\n",
       "    </tr>\n",
       "    <tr>\n",
       "      <th>4</th>\n",
       "      <td>KVADALTNAVAHVDDMPNALSALSDLHAHK</td>\n",
       "      <td>[GRCh38_28602, GCA_72537]</td>\n",
       "      <td>[62, 62]</td>\n",
       "      <td>[91, 91]</td>\n",
       "      <td>0.000556</td>\n",
       "      <td>0</td>\n",
       "      <td>[8|18-UNIMOD:7]</td>\n",
       "      <td>4640.3813</td>\n",
       "      <td>6</td>\n",
       "      <td>522.103821</td>\n",
       "      <td>...</td>\n",
       "      <td>0</td>\n",
       "      <td>['OpenMS:Target-decoy PSM q-value': 0.00055787...</td>\n",
       "      <td>NaN</td>\n",
       "      <td>01524_A01_P015424_S00_N01_R1</td>\n",
       "      <td>27647</td>\n",
       "      <td>None</td>\n",
       "      <td>None</td>\n",
       "      <td>NaN</td>\n",
       "      <td>None</td>\n",
       "      <td>None</td>\n",
       "    </tr>\n",
       "    <tr>\n",
       "      <th>...</th>\n",
       "      <td>...</td>\n",
       "      <td>...</td>\n",
       "      <td>...</td>\n",
       "      <td>...</td>\n",
       "      <td>...</td>\n",
       "      <td>...</td>\n",
       "      <td>...</td>\n",
       "      <td>...</td>\n",
       "      <td>...</td>\n",
       "      <td>...</td>\n",
       "      <td>...</td>\n",
       "      <td>...</td>\n",
       "      <td>...</td>\n",
       "      <td>...</td>\n",
       "      <td>...</td>\n",
       "      <td>...</td>\n",
       "      <td>...</td>\n",
       "      <td>...</td>\n",
       "      <td>...</td>\n",
       "      <td>...</td>\n",
       "      <td>...</td>\n",
       "    </tr>\n",
       "    <tr>\n",
       "      <th>16294594</th>\n",
       "      <td>YFEITEEPPYIHFLNTFTSK</td>\n",
       "      <td>[GRCh38_46198, GCA_99552]</td>\n",
       "      <td>[294, 294]</td>\n",
       "      <td>[313, 313]</td>\n",
       "      <td>0.000556</td>\n",
       "      <td>0</td>\n",
       "      <td>None</td>\n",
       "      <td>5652.1924</td>\n",
       "      <td>3</td>\n",
       "      <td>826.076477</td>\n",
       "      <td>...</td>\n",
       "      <td>0</td>\n",
       "      <td>['OpenMS:Target-decoy PSM q-value': 2.65999930...</td>\n",
       "      <td>NaN</td>\n",
       "      <td>01307_D05_P013386_S00_N36_R1</td>\n",
       "      <td>43638</td>\n",
       "      <td>None</td>\n",
       "      <td>None</td>\n",
       "      <td>NaN</td>\n",
       "      <td>None</td>\n",
       "      <td>None</td>\n",
       "    </tr>\n",
       "    <tr>\n",
       "      <th>16294595</th>\n",
       "      <td>SGKLDAFLVLEQLR</td>\n",
       "      <td>[GRCh38_7521, GCA_100434, GCA_246681]</td>\n",
       "      <td>[687, 687, 687]</td>\n",
       "      <td>[700, 700, 700]</td>\n",
       "      <td>0.000556</td>\n",
       "      <td>0</td>\n",
       "      <td>None</td>\n",
       "      <td>5012.8022</td>\n",
       "      <td>3</td>\n",
       "      <td>530.308350</td>\n",
       "      <td>...</td>\n",
       "      <td>0</td>\n",
       "      <td>['OpenMS:Target-decoy PSM q-value': 0.00012527...</td>\n",
       "      <td>NaN</td>\n",
       "      <td>01307_D05_P013386_S00_N36_R1</td>\n",
       "      <td>38274</td>\n",
       "      <td>None</td>\n",
       "      <td>None</td>\n",
       "      <td>NaN</td>\n",
       "      <td>None</td>\n",
       "      <td>None</td>\n",
       "    </tr>\n",
       "    <tr>\n",
       "      <th>16294596</th>\n",
       "      <td>QVYEEEYGSSLEDDVVGDTSGYYQR</td>\n",
       "      <td>[GRCh38_32181, GCA_15045]</td>\n",
       "      <td>[127, 127]</td>\n",
       "      <td>[151, 151]</td>\n",
       "      <td>0.000556</td>\n",
       "      <td>0</td>\n",
       "      <td>None</td>\n",
       "      <td>4054.3008</td>\n",
       "      <td>3</td>\n",
       "      <td>963.751770</td>\n",
       "      <td>...</td>\n",
       "      <td>0</td>\n",
       "      <td>['OpenMS:Target-decoy PSM q-value': 1.82972572...</td>\n",
       "      <td>NaN</td>\n",
       "      <td>01307_D05_P013386_S00_N36_R1</td>\n",
       "      <td>30154</td>\n",
       "      <td>None</td>\n",
       "      <td>None</td>\n",
       "      <td>NaN</td>\n",
       "      <td>None</td>\n",
       "      <td>None</td>\n",
       "    </tr>\n",
       "    <tr>\n",
       "      <th>16294597</th>\n",
       "      <td>LTRPGSSYFNLNPFEVLQIDPEVTDEEIK</td>\n",
       "      <td>[GRCh38_25113, GCA_58373]</td>\n",
       "      <td>[46, 46]</td>\n",
       "      <td>[74, 74]</td>\n",
       "      <td>0.000556</td>\n",
       "      <td>0</td>\n",
       "      <td>None</td>\n",
       "      <td>6023.4970</td>\n",
       "      <td>3</td>\n",
       "      <td>1117.563232</td>\n",
       "      <td>...</td>\n",
       "      <td>0</td>\n",
       "      <td>['OpenMS:Target-decoy PSM q-value': 0.00108037...</td>\n",
       "      <td>NaN</td>\n",
       "      <td>01307_D05_P013386_S00_N36_R1</td>\n",
       "      <td>46678</td>\n",
       "      <td>None</td>\n",
       "      <td>None</td>\n",
       "      <td>NaN</td>\n",
       "      <td>None</td>\n",
       "      <td>None</td>\n",
       "    </tr>\n",
       "    <tr>\n",
       "      <th>16294598</th>\n",
       "      <td>YFEEYALVNQDILENK</td>\n",
       "      <td>[GCA_308872]</td>\n",
       "      <td>[222]</td>\n",
       "      <td>[237]</td>\n",
       "      <td>0.000556</td>\n",
       "      <td>1</td>\n",
       "      <td>[9|10|15-UNIMOD:7]</td>\n",
       "      <td>4669.2130</td>\n",
       "      <td>2</td>\n",
       "      <td>995.959290</td>\n",
       "      <td>...</td>\n",
       "      <td>0</td>\n",
       "      <td>['OpenMS:Target-decoy PSM q-value': 0.00737441...</td>\n",
       "      <td>NaN</td>\n",
       "      <td>01307_D05_P013386_S00_N36_R1</td>\n",
       "      <td>35313</td>\n",
       "      <td>None</td>\n",
       "      <td>None</td>\n",
       "      <td>NaN</td>\n",
       "      <td>None</td>\n",
       "      <td>None</td>\n",
       "    </tr>\n",
       "  </tbody>\n",
       "</table>\n",
       "<p>16294599 rows × 24 columns</p>\n",
       "</div>"
      ],
      "text/plain": [
       "                                         sequence  \\\n",
       "0         GAGGAGSGGCCCCVLGWLGVALCGLALLSGLVLGLLVGR   \n",
       "1                                EYLGAICSCTCFGGQR   \n",
       "2                                   TCVADESAENCDK   \n",
       "3                                 AAAFEEQENETVVVK   \n",
       "4                  KVADALTNAVAHVDDMPNALSALSDLHAHK   \n",
       "...                                           ...   \n",
       "16294594                     YFEITEEPPYIHFLNTFTSK   \n",
       "16294595                           SGKLDAFLVLEQLR   \n",
       "16294596                QVYEEEYGSSLEDDVVGDTSGYYQR   \n",
       "16294597            LTRPGSSYFNLNPFEVLQIDPEVTDEEIK   \n",
       "16294598                         YFEEYALVNQDILENK   \n",
       "\n",
       "                                         protein_accessions  \\\n",
       "0                                        [DECOY_GCA_315848]   \n",
       "1                                              [GCA_131462]   \n",
       "2         [GRCh38_78290, GCA_14814, CONTAMINANT_P02768-1...   \n",
       "3                                            [GRCh38_64703]   \n",
       "4                                 [GRCh38_28602, GCA_72537]   \n",
       "...                                                     ...   \n",
       "16294594                          [GRCh38_46198, GCA_99552]   \n",
       "16294595              [GRCh38_7521, GCA_100434, GCA_246681]   \n",
       "16294596                          [GRCh38_32181, GCA_15045]   \n",
       "16294597                          [GRCh38_25113, GCA_58373]   \n",
       "16294598                                       [GCA_308872]   \n",
       "\n",
       "         protein_start_positions protein_end_positions  protein_global_qvalue  \\\n",
       "0                          [115]                 [153]               0.383534   \n",
       "1                         [2311]                [2326]               0.000556   \n",
       "2               [76, 76, 76, 76]      [88, 88, 88, 88]               0.000556   \n",
       "3                         [2494]                [2508]               0.000556   \n",
       "4                       [62, 62]              [91, 91]               0.000556   \n",
       "...                          ...                   ...                    ...   \n",
       "16294594              [294, 294]            [313, 313]               0.000556   \n",
       "16294595         [687, 687, 687]       [700, 700, 700]               0.000556   \n",
       "16294596              [127, 127]            [151, 151]               0.000556   \n",
       "16294597                [46, 46]              [74, 74]               0.000556   \n",
       "16294598                   [222]                 [237]               0.000556   \n",
       "\n",
       "          unique              modifications  retention_time  charge  \\\n",
       "0              1  [10|11|12|13|23-UNIMOD:4]     182368.1280       4   \n",
       "1              1          [7|9|11-UNIMOD:4]     200494.1280       2   \n",
       "2              0            [2|11-UNIMOD:4]      83191.5960       2   \n",
       "3              1                       None     158287.7040       2   \n",
       "4              0            [8|18-UNIMOD:7]       4640.3813       6   \n",
       "...          ...                        ...             ...     ...   \n",
       "16294594       0                       None       5652.1924       3   \n",
       "16294595       0                       None       5012.8022       3   \n",
       "16294596       0                       None       4054.3008       3   \n",
       "16294597       0                       None       6023.4970       3   \n",
       "16294598       1         [9|10|15-UNIMOD:7]       4669.2130       2   \n",
       "\n",
       "          exp_mass_to_charge  ...  is_decoy  \\\n",
       "0                 958.501276  ...         1   \n",
       "1                 939.900626  ...         0   \n",
       "2                 749.796626  ...         0   \n",
       "3                 832.412626  ...         0   \n",
       "4                 522.103821  ...         0   \n",
       "...                      ...  ...       ...   \n",
       "16294594          826.076477  ...         0   \n",
       "16294595          530.308350  ...         0   \n",
       "16294596          963.751770  ...         0   \n",
       "16294597         1117.563232  ...         0   \n",
       "16294598          995.959290  ...         0   \n",
       "\n",
       "                                                  id_scores  \\\n",
       "0         ['OpenMS:Target-decoy PSM q-value': 0.00704929...   \n",
       "1         ['OpenMS:Target-decoy PSM q-value': 0.00366430...   \n",
       "2         ['OpenMS:Target-decoy PSM q-value': 0.00383706...   \n",
       "3         ['OpenMS:Target-decoy PSM q-value': 0.00106247...   \n",
       "4         ['OpenMS:Target-decoy PSM q-value': 0.00055787...   \n",
       "...                                                     ...   \n",
       "16294594  ['OpenMS:Target-decoy PSM q-value': 2.65999930...   \n",
       "16294595  ['OpenMS:Target-decoy PSM q-value': 0.00012527...   \n",
       "16294596  ['OpenMS:Target-decoy PSM q-value': 1.82972572...   \n",
       "16294597  ['OpenMS:Target-decoy PSM q-value': 0.00108037...   \n",
       "16294598  ['OpenMS:Target-decoy PSM q-value': 0.00737441...   \n",
       "\n",
       "          consensus_support           reference_file_name  scan_number  \\\n",
       "0                       NaN  01524_A01_P015424_S00_N01_R1        12179   \n",
       "1                       NaN  01524_A01_P015424_S00_N01_R1        14522   \n",
       "2                       NaN  01524_A01_P015424_S00_N01_R1         4604   \n",
       "3                       NaN  01524_A01_P015424_S00_N01_R1         9826   \n",
       "4                       NaN  01524_A01_P015424_S00_N01_R1        27647   \n",
       "...                     ...                           ...          ...   \n",
       "16294594                NaN  01307_D05_P013386_S00_N36_R1        43638   \n",
       "16294595                NaN  01307_D05_P013386_S00_N36_R1        38274   \n",
       "16294596                NaN  01307_D05_P013386_S00_N36_R1        30154   \n",
       "16294597                NaN  01307_D05_P013386_S00_N36_R1        46678   \n",
       "16294598                NaN  01307_D05_P013386_S00_N36_R1        35313   \n",
       "\n",
       "         mz_array  intensity_array num_peaks gene_accessions gene_names  \n",
       "0            None             None       NaN            None       None  \n",
       "1            None             None       NaN            None       None  \n",
       "2            None             None       NaN            None       None  \n",
       "3            None             None       NaN            None       None  \n",
       "4            None             None       NaN            None       None  \n",
       "...           ...              ...       ...             ...        ...  \n",
       "16294594     None             None       NaN            None       None  \n",
       "16294595     None             None       NaN            None       None  \n",
       "16294596     None             None       NaN            None       None  \n",
       "16294597     None             None       NaN            None       None  \n",
       "16294598     None             None       NaN            None       None  \n",
       "\n",
       "[16294599 rows x 24 columns]"
      ]
     },
     "execution_count": 21,
     "metadata": {},
     "output_type": "execute_result"
    }
   ],
   "source": [
    "df"
   ]
  },
  {
   "cell_type": "code",
   "execution_count": 23,
   "id": "c8839a2a",
   "metadata": {
    "pycharm": {
     "name": "#%%\n"
    }
   },
   "outputs": [
    {
     "name": "stdout",
     "output_type": "stream",
     "text": [
      "Number of PSMs in the file =  16294599\n"
     ]
    }
   ],
   "source": [
    "print('Number of PSMs in the file = ', len(df))"
   ]
  },
  {
   "cell_type": "code",
   "execution_count": 24,
   "id": "0cc0923d-e240-4cd0-9a88-c76c71f331bc",
   "metadata": {
    "pycharm": {
     "name": "#%%\n"
    }
   },
   "outputs": [],
   "source": [
    "#Convert array values in the accession to list\n",
    "def join_vals(x):\n",
    "    return ','.join(x.astype(str).tolist())"
   ]
  },
  {
   "cell_type": "code",
   "execution_count": 25,
   "id": "3bc7770f-cbe2-4e4f-af67-fb89cd440ef4",
   "metadata": {
    "pycharm": {
     "name": "#%%\n"
    }
   },
   "outputs": [],
   "source": [
    "df['protein_accessions'] = df['protein_accessions'].apply(join_vals)"
   ]
  },
  {
   "cell_type": "code",
   "execution_count": 26,
   "id": "bfdfa1bb",
   "metadata": {
    "collapsed": false,
    "jupyter": {
     "outputs_hidden": false
    },
    "pycharm": {
     "name": "#%%\n"
    }
   },
   "outputs": [
    {
     "data": {
      "text/html": [
       "<div>\n",
       "<style scoped>\n",
       "    .dataframe tbody tr th:only-of-type {\n",
       "        vertical-align: middle;\n",
       "    }\n",
       "\n",
       "    .dataframe tbody tr th {\n",
       "        vertical-align: top;\n",
       "    }\n",
       "\n",
       "    .dataframe thead th {\n",
       "        text-align: right;\n",
       "    }\n",
       "</style>\n",
       "<table border=\"1\" class=\"dataframe\">\n",
       "  <thead>\n",
       "    <tr style=\"text-align: right;\">\n",
       "      <th></th>\n",
       "      <th>sequence</th>\n",
       "      <th>protein_accessions</th>\n",
       "      <th>protein_start_positions</th>\n",
       "      <th>protein_end_positions</th>\n",
       "      <th>protein_global_qvalue</th>\n",
       "      <th>unique</th>\n",
       "      <th>modifications</th>\n",
       "      <th>retention_time</th>\n",
       "      <th>charge</th>\n",
       "      <th>exp_mass_to_charge</th>\n",
       "      <th>...</th>\n",
       "      <th>is_decoy</th>\n",
       "      <th>id_scores</th>\n",
       "      <th>consensus_support</th>\n",
       "      <th>reference_file_name</th>\n",
       "      <th>scan_number</th>\n",
       "      <th>mz_array</th>\n",
       "      <th>intensity_array</th>\n",
       "      <th>num_peaks</th>\n",
       "      <th>gene_accessions</th>\n",
       "      <th>gene_names</th>\n",
       "    </tr>\n",
       "  </thead>\n",
       "  <tbody>\n",
       "    <tr>\n",
       "      <th>0</th>\n",
       "      <td>GAGGAGSGGCCCCVLGWLGVALCGLALLSGLVLGLLVGR</td>\n",
       "      <td>DECOY_GCA_315848</td>\n",
       "      <td>[115]</td>\n",
       "      <td>[153]</td>\n",
       "      <td>0.383534</td>\n",
       "      <td>1</td>\n",
       "      <td>[10|11|12|13|23-UNIMOD:4]</td>\n",
       "      <td>182368.1280</td>\n",
       "      <td>4</td>\n",
       "      <td>958.501276</td>\n",
       "      <td>...</td>\n",
       "      <td>1</td>\n",
       "      <td>['OpenMS:Target-decoy PSM q-value': 0.00704929...</td>\n",
       "      <td>NaN</td>\n",
       "      <td>01524_A01_P015424_S00_N01_R1</td>\n",
       "      <td>12179</td>\n",
       "      <td>None</td>\n",
       "      <td>None</td>\n",
       "      <td>NaN</td>\n",
       "      <td>None</td>\n",
       "      <td>None</td>\n",
       "    </tr>\n",
       "    <tr>\n",
       "      <th>1</th>\n",
       "      <td>EYLGAICSCTCFGGQR</td>\n",
       "      <td>GCA_131462</td>\n",
       "      <td>[2311]</td>\n",
       "      <td>[2326]</td>\n",
       "      <td>0.000556</td>\n",
       "      <td>1</td>\n",
       "      <td>[7|9|11-UNIMOD:4]</td>\n",
       "      <td>200494.1280</td>\n",
       "      <td>2</td>\n",
       "      <td>939.900626</td>\n",
       "      <td>...</td>\n",
       "      <td>0</td>\n",
       "      <td>['OpenMS:Target-decoy PSM q-value': 0.00366430...</td>\n",
       "      <td>NaN</td>\n",
       "      <td>01524_A01_P015424_S00_N01_R1</td>\n",
       "      <td>14522</td>\n",
       "      <td>None</td>\n",
       "      <td>None</td>\n",
       "      <td>NaN</td>\n",
       "      <td>None</td>\n",
       "      <td>None</td>\n",
       "    </tr>\n",
       "    <tr>\n",
       "      <th>2</th>\n",
       "      <td>TCVADESAENCDK</td>\n",
       "      <td>GRCh38_78290,GCA_14814,CONTAMINANT_P02768-1,CO...</td>\n",
       "      <td>[76, 76, 76, 76]</td>\n",
       "      <td>[88, 88, 88, 88]</td>\n",
       "      <td>0.000556</td>\n",
       "      <td>0</td>\n",
       "      <td>[2|11-UNIMOD:4]</td>\n",
       "      <td>83191.5960</td>\n",
       "      <td>2</td>\n",
       "      <td>749.796626</td>\n",
       "      <td>...</td>\n",
       "      <td>0</td>\n",
       "      <td>['OpenMS:Target-decoy PSM q-value': 0.00383706...</td>\n",
       "      <td>NaN</td>\n",
       "      <td>01524_A01_P015424_S00_N01_R1</td>\n",
       "      <td>4604</td>\n",
       "      <td>None</td>\n",
       "      <td>None</td>\n",
       "      <td>NaN</td>\n",
       "      <td>None</td>\n",
       "      <td>None</td>\n",
       "    </tr>\n",
       "    <tr>\n",
       "      <th>3</th>\n",
       "      <td>AAAFEEQENETVVVK</td>\n",
       "      <td>GRCh38_64703</td>\n",
       "      <td>[2494]</td>\n",
       "      <td>[2508]</td>\n",
       "      <td>0.000556</td>\n",
       "      <td>1</td>\n",
       "      <td>None</td>\n",
       "      <td>158287.7040</td>\n",
       "      <td>2</td>\n",
       "      <td>832.412626</td>\n",
       "      <td>...</td>\n",
       "      <td>0</td>\n",
       "      <td>['OpenMS:Target-decoy PSM q-value': 0.00106247...</td>\n",
       "      <td>NaN</td>\n",
       "      <td>01524_A01_P015424_S00_N01_R1</td>\n",
       "      <td>9826</td>\n",
       "      <td>None</td>\n",
       "      <td>None</td>\n",
       "      <td>NaN</td>\n",
       "      <td>None</td>\n",
       "      <td>None</td>\n",
       "    </tr>\n",
       "    <tr>\n",
       "      <th>4</th>\n",
       "      <td>KVADALTNAVAHVDDMPNALSALSDLHAHK</td>\n",
       "      <td>GRCh38_28602,GCA_72537</td>\n",
       "      <td>[62, 62]</td>\n",
       "      <td>[91, 91]</td>\n",
       "      <td>0.000556</td>\n",
       "      <td>0</td>\n",
       "      <td>[8|18-UNIMOD:7]</td>\n",
       "      <td>4640.3813</td>\n",
       "      <td>6</td>\n",
       "      <td>522.103821</td>\n",
       "      <td>...</td>\n",
       "      <td>0</td>\n",
       "      <td>['OpenMS:Target-decoy PSM q-value': 0.00055787...</td>\n",
       "      <td>NaN</td>\n",
       "      <td>01524_A01_P015424_S00_N01_R1</td>\n",
       "      <td>27647</td>\n",
       "      <td>None</td>\n",
       "      <td>None</td>\n",
       "      <td>NaN</td>\n",
       "      <td>None</td>\n",
       "      <td>None</td>\n",
       "    </tr>\n",
       "    <tr>\n",
       "      <th>...</th>\n",
       "      <td>...</td>\n",
       "      <td>...</td>\n",
       "      <td>...</td>\n",
       "      <td>...</td>\n",
       "      <td>...</td>\n",
       "      <td>...</td>\n",
       "      <td>...</td>\n",
       "      <td>...</td>\n",
       "      <td>...</td>\n",
       "      <td>...</td>\n",
       "      <td>...</td>\n",
       "      <td>...</td>\n",
       "      <td>...</td>\n",
       "      <td>...</td>\n",
       "      <td>...</td>\n",
       "      <td>...</td>\n",
       "      <td>...</td>\n",
       "      <td>...</td>\n",
       "      <td>...</td>\n",
       "      <td>...</td>\n",
       "      <td>...</td>\n",
       "    </tr>\n",
       "    <tr>\n",
       "      <th>16294594</th>\n",
       "      <td>YFEITEEPPYIHFLNTFTSK</td>\n",
       "      <td>GRCh38_46198,GCA_99552</td>\n",
       "      <td>[294, 294]</td>\n",
       "      <td>[313, 313]</td>\n",
       "      <td>0.000556</td>\n",
       "      <td>0</td>\n",
       "      <td>None</td>\n",
       "      <td>5652.1924</td>\n",
       "      <td>3</td>\n",
       "      <td>826.076477</td>\n",
       "      <td>...</td>\n",
       "      <td>0</td>\n",
       "      <td>['OpenMS:Target-decoy PSM q-value': 2.65999930...</td>\n",
       "      <td>NaN</td>\n",
       "      <td>01307_D05_P013386_S00_N36_R1</td>\n",
       "      <td>43638</td>\n",
       "      <td>None</td>\n",
       "      <td>None</td>\n",
       "      <td>NaN</td>\n",
       "      <td>None</td>\n",
       "      <td>None</td>\n",
       "    </tr>\n",
       "    <tr>\n",
       "      <th>16294595</th>\n",
       "      <td>SGKLDAFLVLEQLR</td>\n",
       "      <td>GRCh38_7521,GCA_100434,GCA_246681</td>\n",
       "      <td>[687, 687, 687]</td>\n",
       "      <td>[700, 700, 700]</td>\n",
       "      <td>0.000556</td>\n",
       "      <td>0</td>\n",
       "      <td>None</td>\n",
       "      <td>5012.8022</td>\n",
       "      <td>3</td>\n",
       "      <td>530.308350</td>\n",
       "      <td>...</td>\n",
       "      <td>0</td>\n",
       "      <td>['OpenMS:Target-decoy PSM q-value': 0.00012527...</td>\n",
       "      <td>NaN</td>\n",
       "      <td>01307_D05_P013386_S00_N36_R1</td>\n",
       "      <td>38274</td>\n",
       "      <td>None</td>\n",
       "      <td>None</td>\n",
       "      <td>NaN</td>\n",
       "      <td>None</td>\n",
       "      <td>None</td>\n",
       "    </tr>\n",
       "    <tr>\n",
       "      <th>16294596</th>\n",
       "      <td>QVYEEEYGSSLEDDVVGDTSGYYQR</td>\n",
       "      <td>GRCh38_32181,GCA_15045</td>\n",
       "      <td>[127, 127]</td>\n",
       "      <td>[151, 151]</td>\n",
       "      <td>0.000556</td>\n",
       "      <td>0</td>\n",
       "      <td>None</td>\n",
       "      <td>4054.3008</td>\n",
       "      <td>3</td>\n",
       "      <td>963.751770</td>\n",
       "      <td>...</td>\n",
       "      <td>0</td>\n",
       "      <td>['OpenMS:Target-decoy PSM q-value': 1.82972572...</td>\n",
       "      <td>NaN</td>\n",
       "      <td>01307_D05_P013386_S00_N36_R1</td>\n",
       "      <td>30154</td>\n",
       "      <td>None</td>\n",
       "      <td>None</td>\n",
       "      <td>NaN</td>\n",
       "      <td>None</td>\n",
       "      <td>None</td>\n",
       "    </tr>\n",
       "    <tr>\n",
       "      <th>16294597</th>\n",
       "      <td>LTRPGSSYFNLNPFEVLQIDPEVTDEEIK</td>\n",
       "      <td>GRCh38_25113,GCA_58373</td>\n",
       "      <td>[46, 46]</td>\n",
       "      <td>[74, 74]</td>\n",
       "      <td>0.000556</td>\n",
       "      <td>0</td>\n",
       "      <td>None</td>\n",
       "      <td>6023.4970</td>\n",
       "      <td>3</td>\n",
       "      <td>1117.563232</td>\n",
       "      <td>...</td>\n",
       "      <td>0</td>\n",
       "      <td>['OpenMS:Target-decoy PSM q-value': 0.00108037...</td>\n",
       "      <td>NaN</td>\n",
       "      <td>01307_D05_P013386_S00_N36_R1</td>\n",
       "      <td>46678</td>\n",
       "      <td>None</td>\n",
       "      <td>None</td>\n",
       "      <td>NaN</td>\n",
       "      <td>None</td>\n",
       "      <td>None</td>\n",
       "    </tr>\n",
       "    <tr>\n",
       "      <th>16294598</th>\n",
       "      <td>YFEEYALVNQDILENK</td>\n",
       "      <td>GCA_308872</td>\n",
       "      <td>[222]</td>\n",
       "      <td>[237]</td>\n",
       "      <td>0.000556</td>\n",
       "      <td>1</td>\n",
       "      <td>[9|10|15-UNIMOD:7]</td>\n",
       "      <td>4669.2130</td>\n",
       "      <td>2</td>\n",
       "      <td>995.959290</td>\n",
       "      <td>...</td>\n",
       "      <td>0</td>\n",
       "      <td>['OpenMS:Target-decoy PSM q-value': 0.00737441...</td>\n",
       "      <td>NaN</td>\n",
       "      <td>01307_D05_P013386_S00_N36_R1</td>\n",
       "      <td>35313</td>\n",
       "      <td>None</td>\n",
       "      <td>None</td>\n",
       "      <td>NaN</td>\n",
       "      <td>None</td>\n",
       "      <td>None</td>\n",
       "    </tr>\n",
       "  </tbody>\n",
       "</table>\n",
       "<p>16294599 rows × 24 columns</p>\n",
       "</div>"
      ],
      "text/plain": [
       "                                         sequence  \\\n",
       "0         GAGGAGSGGCCCCVLGWLGVALCGLALLSGLVLGLLVGR   \n",
       "1                                EYLGAICSCTCFGGQR   \n",
       "2                                   TCVADESAENCDK   \n",
       "3                                 AAAFEEQENETVVVK   \n",
       "4                  KVADALTNAVAHVDDMPNALSALSDLHAHK   \n",
       "...                                           ...   \n",
       "16294594                     YFEITEEPPYIHFLNTFTSK   \n",
       "16294595                           SGKLDAFLVLEQLR   \n",
       "16294596                QVYEEEYGSSLEDDVVGDTSGYYQR   \n",
       "16294597            LTRPGSSYFNLNPFEVLQIDPEVTDEEIK   \n",
       "16294598                         YFEEYALVNQDILENK   \n",
       "\n",
       "                                         protein_accessions  \\\n",
       "0                                          DECOY_GCA_315848   \n",
       "1                                                GCA_131462   \n",
       "2         GRCh38_78290,GCA_14814,CONTAMINANT_P02768-1,CO...   \n",
       "3                                              GRCh38_64703   \n",
       "4                                    GRCh38_28602,GCA_72537   \n",
       "...                                                     ...   \n",
       "16294594                             GRCh38_46198,GCA_99552   \n",
       "16294595                  GRCh38_7521,GCA_100434,GCA_246681   \n",
       "16294596                             GRCh38_32181,GCA_15045   \n",
       "16294597                             GRCh38_25113,GCA_58373   \n",
       "16294598                                         GCA_308872   \n",
       "\n",
       "         protein_start_positions protein_end_positions  protein_global_qvalue  \\\n",
       "0                          [115]                 [153]               0.383534   \n",
       "1                         [2311]                [2326]               0.000556   \n",
       "2               [76, 76, 76, 76]      [88, 88, 88, 88]               0.000556   \n",
       "3                         [2494]                [2508]               0.000556   \n",
       "4                       [62, 62]              [91, 91]               0.000556   \n",
       "...                          ...                   ...                    ...   \n",
       "16294594              [294, 294]            [313, 313]               0.000556   \n",
       "16294595         [687, 687, 687]       [700, 700, 700]               0.000556   \n",
       "16294596              [127, 127]            [151, 151]               0.000556   \n",
       "16294597                [46, 46]              [74, 74]               0.000556   \n",
       "16294598                   [222]                 [237]               0.000556   \n",
       "\n",
       "          unique              modifications  retention_time  charge  \\\n",
       "0              1  [10|11|12|13|23-UNIMOD:4]     182368.1280       4   \n",
       "1              1          [7|9|11-UNIMOD:4]     200494.1280       2   \n",
       "2              0            [2|11-UNIMOD:4]      83191.5960       2   \n",
       "3              1                       None     158287.7040       2   \n",
       "4              0            [8|18-UNIMOD:7]       4640.3813       6   \n",
       "...          ...                        ...             ...     ...   \n",
       "16294594       0                       None       5652.1924       3   \n",
       "16294595       0                       None       5012.8022       3   \n",
       "16294596       0                       None       4054.3008       3   \n",
       "16294597       0                       None       6023.4970       3   \n",
       "16294598       1         [9|10|15-UNIMOD:7]       4669.2130       2   \n",
       "\n",
       "          exp_mass_to_charge  ...  is_decoy  \\\n",
       "0                 958.501276  ...         1   \n",
       "1                 939.900626  ...         0   \n",
       "2                 749.796626  ...         0   \n",
       "3                 832.412626  ...         0   \n",
       "4                 522.103821  ...         0   \n",
       "...                      ...  ...       ...   \n",
       "16294594          826.076477  ...         0   \n",
       "16294595          530.308350  ...         0   \n",
       "16294596          963.751770  ...         0   \n",
       "16294597         1117.563232  ...         0   \n",
       "16294598          995.959290  ...         0   \n",
       "\n",
       "                                                  id_scores  \\\n",
       "0         ['OpenMS:Target-decoy PSM q-value': 0.00704929...   \n",
       "1         ['OpenMS:Target-decoy PSM q-value': 0.00366430...   \n",
       "2         ['OpenMS:Target-decoy PSM q-value': 0.00383706...   \n",
       "3         ['OpenMS:Target-decoy PSM q-value': 0.00106247...   \n",
       "4         ['OpenMS:Target-decoy PSM q-value': 0.00055787...   \n",
       "...                                                     ...   \n",
       "16294594  ['OpenMS:Target-decoy PSM q-value': 2.65999930...   \n",
       "16294595  ['OpenMS:Target-decoy PSM q-value': 0.00012527...   \n",
       "16294596  ['OpenMS:Target-decoy PSM q-value': 1.82972572...   \n",
       "16294597  ['OpenMS:Target-decoy PSM q-value': 0.00108037...   \n",
       "16294598  ['OpenMS:Target-decoy PSM q-value': 0.00737441...   \n",
       "\n",
       "          consensus_support           reference_file_name  scan_number  \\\n",
       "0                       NaN  01524_A01_P015424_S00_N01_R1        12179   \n",
       "1                       NaN  01524_A01_P015424_S00_N01_R1        14522   \n",
       "2                       NaN  01524_A01_P015424_S00_N01_R1         4604   \n",
       "3                       NaN  01524_A01_P015424_S00_N01_R1         9826   \n",
       "4                       NaN  01524_A01_P015424_S00_N01_R1        27647   \n",
       "...                     ...                           ...          ...   \n",
       "16294594                NaN  01307_D05_P013386_S00_N36_R1        43638   \n",
       "16294595                NaN  01307_D05_P013386_S00_N36_R1        38274   \n",
       "16294596                NaN  01307_D05_P013386_S00_N36_R1        30154   \n",
       "16294597                NaN  01307_D05_P013386_S00_N36_R1        46678   \n",
       "16294598                NaN  01307_D05_P013386_S00_N36_R1        35313   \n",
       "\n",
       "         mz_array  intensity_array num_peaks gene_accessions gene_names  \n",
       "0            None             None       NaN            None       None  \n",
       "1            None             None       NaN            None       None  \n",
       "2            None             None       NaN            None       None  \n",
       "3            None             None       NaN            None       None  \n",
       "4            None             None       NaN            None       None  \n",
       "...           ...              ...       ...             ...        ...  \n",
       "16294594     None             None       NaN            None       None  \n",
       "16294595     None             None       NaN            None       None  \n",
       "16294596     None             None       NaN            None       None  \n",
       "16294597     None             None       NaN            None       None  \n",
       "16294598     None             None       NaN            None       None  \n",
       "\n",
       "[16294599 rows x 24 columns]"
      ]
     },
     "execution_count": 26,
     "metadata": {},
     "output_type": "execute_result"
    }
   ],
   "source": [
    "df"
   ]
  },
  {
   "cell_type": "markdown",
   "id": "80a9420a",
   "metadata": {
    "collapsed": false,
    "jupyter": {
     "outputs_hidden": false
    },
    "pycharm": {
     "name": "#%% md\n"
    }
   },
   "source": [
    "#### Blast GCA with canonical\n",
    "\n",
    "In this step, we need to take all the PSMs from the search and blast them against canonical databases including ENSEMBL protein database and Uniprot proteomes. This step is important because some non-canonical peptides may be identified in the GCA proteins but they also are found in reference databases. \n"
   ]
  },
  {
   "cell_type": "code",
   "execution_count": 37,
   "id": "0bbe4b66-a8b7-4df8-b658-6fc2f3fce346",
   "metadata": {},
   "outputs": [],
   "source": [
    "# Download the reference databases. \n",
    "import gzip, shutil\n",
    "\n",
    "ensembl_db = \"https://ftp.ensembl.org/pub/release-110/fasta/homo_sapiens/pep/Homo_sapiens.GRCh38.pep.all.fa.gz\"\n",
    "if not os.path.isfile(\"Homo_sapiens.GRCh38.pep.all.fa\"):\n",
    "   wget.download(ensembl_db)\n",
    "   with gzip.open(\"Homo_sapiens.GRCh38.pep.all.fa.gz\", 'r') as f_in, open('Homo_sapiens.GRCh38.pep.all.fa', 'wb') as f_out:\n",
    "      shutil.copyfileobj(f_in, f_out)\n",
    "\n",
    "uniprot_db = \"https://ftp.uniprot.org/pub/databases/uniprot/knowledgebase/reference_proteomes/Eukaryota/UP000005640/UP000005640_9606_additional.fasta.gz\"\n",
    "if not os.path.isfile(\"UP000005640_9606_additional.fasta\"):\n",
    "   wget.download(uniprot_db)\n",
    "   with gzip.open(\"UP000005640_9606_additional.fasta.gz\", 'r') as f_in, open('UP000005640_9606_additional.fasta', 'wb') as f_out:\n",
    "      shutil.copyfileobj(f_in, f_out)\n"
   ]
  },
  {
   "cell_type": "code",
   "execution_count": 38,
   "id": "44578bbd",
   "metadata": {
    "collapsed": false,
    "jupyter": {
     "outputs_hidden": false
    },
    "pycharm": {
     "name": "#%%\n"
    }
   },
   "outputs": [],
   "source": [
    "fa_set = set()\n",
    "for j in SeqIO.parse(\"Homo_sapiens.GRCh38.pep.all.fa\", \"fasta\"):\n",
    "    fa_set.add(str(j.seq))\n",
    "for j in SeqIO.parse(\"UP000005640_9606_additional.fasta\", \"fasta\"):\n",
    "    fa_set.add(str(j.seq))"
   ]
  },
  {
   "cell_type": "code",
   "execution_count": 39,
   "id": "7666883c",
   "metadata": {
    "collapsed": false,
    "jupyter": {
     "outputs_hidden": false
    },
    "pycharm": {
     "name": "#%%\n"
    }
   },
   "outputs": [],
   "source": [
    "def blast_with_caonical_fasta(peptide):\n",
    "    for fasta in fa_set:\n",
    "        if peptide in fasta:\n",
    "            return \"GRCh38\"\n",
    "    return \"GCA\""
   ]
  },
  {
   "cell_type": "code",
   "execution_count": 40,
   "id": "68b0cbe1",
   "metadata": {
    "collapsed": false,
    "jupyter": {
     "outputs_hidden": false
    },
    "pycharm": {
     "name": "#%%\n"
    }
   },
   "outputs": [
    {
     "name": "stdout",
     "output_type": "stream",
     "text": [
      "2023-11-06 15:01:43.974679\n"
     ]
    },
    {
     "name": "stderr",
     "output_type": "stream",
     "text": [
      "100%|█████████████████████████████████████████████████████████████████████████████████████████████████████████████████████████████| 508840/508840 [3:43:18<00:00, 37.98it/s]"
     ]
    },
    {
     "name": "stdout",
     "output_type": "stream",
     "text": [
      "End time : 2023-11-06 18:45:04.946170\n",
      "Time consumption : 3:43:20.971491\n"
     ]
    },
    {
     "name": "stderr",
     "output_type": "stream",
     "text": [
      "\n"
     ]
    }
   ],
   "source": [
    "start_time = datetime.datetime.now()\n",
    "print(start_time)\n",
    "\n",
    "seq_set = set(df[\"sequence\"].to_list())\n",
    "seq_dict = dict()\n",
    "for i in tqdm(seq_set):\n",
    "    seq_dict[i] = blast_with_caonical_fasta(i)\n",
    "\n",
    "end_time = datetime.datetime.now()\n",
    "print(\"End time :\", end_time)\n",
    "set_time_taken = end_time - start_time\n",
    "print(\"Time consumption :\", set_time_taken)"
   ]
  },
  {
   "cell_type": "code",
   "execution_count": 43,
   "id": "76ac0a28-213f-4fe6-9853-c7da5d3682ac",
   "metadata": {},
   "outputs": [],
   "source": [
    "#shorten accessions to save memory\n",
    "def get_source(accessions):\n",
    "    accessions = accessions.split(',')\n",
    "\n",
    "    for acc in accessions:\n",
    "        if acc.startswith('DECOY_CONTAMINANT'):\n",
    "            return 'DECOY_CONTAMINANT'\n",
    "    for acc in accessions:\n",
    "        if acc.startswith('CONTAMINANT'):\n",
    "            return 'CONTAMINANT'\n",
    "    \n",
    "    for acc in accessions:\n",
    "        if acc.startswith('DECOY_GRCh38'):\n",
    "            return 'DECOY_GRCh38'\n",
    "    \n",
    "    for acc in accessions:\n",
    "        if acc.startswith('DECOY_GCA'):\n",
    "            return 'DECOY_GCA'\n",
    "\n",
    "    for acc in accessions:\n",
    "        if acc.startswith('GRCh38'):\n",
    "            return 'GRCh38'\n",
    "    \n",
    "    for acc in accessions:\n",
    "        if acc.startswith('GCA'):\n",
    "            return 'GCA'\n",
    "    \n",
    "    return accessions"
   ]
  },
  {
   "cell_type": "code",
   "execution_count": 44,
   "id": "5711f6bf-204a-47b0-87df-20970e9865f0",
   "metadata": {},
   "outputs": [],
   "source": [
    "df['prot_source'] = df['protein_accessions'].apply(get_source)"
   ]
  },
  {
   "cell_type": "code",
   "execution_count": 45,
   "id": "086e0e21",
   "metadata": {
    "collapsed": false,
    "jupyter": {
     "outputs_hidden": false
    },
    "pycharm": {
     "name": "#%%\n"
    }
   },
   "outputs": [],
   "source": [
    "df['prot_source'] = df.apply(lambda x: seq_dict.get(x['sequence']) if x['prot_source'] == 'GCA' else x['prot_source'], axis=1)"
   ]
  },
  {
   "cell_type": "code",
   "execution_count": 46,
   "id": "b3dc6689",
   "metadata": {
    "collapsed": false,
    "jupyter": {
     "outputs_hidden": false
    },
    "pycharm": {
     "name": "#%%\n"
    }
   },
   "outputs": [
    {
     "data": {
      "text/plain": [
       "prot_source\n",
       "GRCh38               15353338\n",
       "CONTAMINANT            606683\n",
       "GCA                    173244\n",
       "DECOY_GCA              107166\n",
       "DECOY_GRCh38            53107\n",
       "DECOY_CONTAMINANT        1061\n",
       "Name: count, dtype: int64"
      ]
     },
     "execution_count": 46,
     "metadata": {},
     "output_type": "execute_result"
    }
   ],
   "source": [
    "df['prot_source'].value_counts()"
   ]
  },
  {
   "cell_type": "code",
   "execution_count": 47,
   "id": "2a143556-e62f-49e1-a1e6-26b60b96d9c2",
   "metadata": {
    "pycharm": {
     "name": "#%%\n"
    }
   },
   "outputs": [
    {
     "name": "stderr",
     "output_type": "stream",
     "text": [
      "/var/folders/r_/b2xtff5d3j3c3tn51td6lxwx19cbq9/T/ipykernel_11933/2754138578.py:11: UserWarning: \n",
      "\n",
      "`distplot` is a deprecated function and will be removed in seaborn v0.14.0.\n",
      "\n",
      "Please adapt your code to use either `displot` (a figure-level function with\n",
      "similar flexibility) or `histplot` (an axes-level function for histograms).\n",
      "\n",
      "For a guide to updating your code to use the new functions, please see\n",
      "https://gist.github.com/mwaskom/de44147ed2974457ad6372750bbe5751\n",
      "\n",
      "  sns.distplot(gca['posterior_error_probability'],\n",
      "/var/folders/r_/b2xtff5d3j3c3tn51td6lxwx19cbq9/T/ipykernel_11933/2754138578.py:13: UserWarning: \n",
      "\n",
      "`distplot` is a deprecated function and will be removed in seaborn v0.14.0.\n",
      "\n",
      "Please adapt your code to use either `displot` (a figure-level function with\n",
      "similar flexibility) or `histplot` (an axes-level function for histograms).\n",
      "\n",
      "For a guide to updating your code to use the new functions, please see\n",
      "https://gist.github.com/mwaskom/de44147ed2974457ad6372750bbe5751\n",
      "\n",
      "  sns.distplot(grch['posterior_error_probability'],\n",
      "/var/folders/r_/b2xtff5d3j3c3tn51td6lxwx19cbq9/T/ipykernel_11933/2754138578.py:15: UserWarning: \n",
      "\n",
      "`distplot` is a deprecated function and will be removed in seaborn v0.14.0.\n",
      "\n",
      "Please adapt your code to use either `displot` (a figure-level function with\n",
      "similar flexibility) or `histplot` (an axes-level function for histograms).\n",
      "\n",
      "For a guide to updating your code to use the new functions, please see\n",
      "https://gist.github.com/mwaskom/de44147ed2974457ad6372750bbe5751\n",
      "\n",
      "  sns.distplot(decoy_gca['posterior_error_probability'],\n",
      "/var/folders/r_/b2xtff5d3j3c3tn51td6lxwx19cbq9/T/ipykernel_11933/2754138578.py:17: UserWarning: \n",
      "\n",
      "`distplot` is a deprecated function and will be removed in seaborn v0.14.0.\n",
      "\n",
      "Please adapt your code to use either `displot` (a figure-level function with\n",
      "similar flexibility) or `histplot` (an axes-level function for histograms).\n",
      "\n",
      "For a guide to updating your code to use the new functions, please see\n",
      "https://gist.github.com/mwaskom/de44147ed2974457ad6372750bbe5751\n",
      "\n",
      "  sns.distplot(decoy_grch['posterior_error_probability'],\n"
     ]
    },
    {
     "data": {
      "text/plain": [
       "<matplotlib.legend.Legend at 0x4316ce690>"
      ]
     },
     "execution_count": 47,
     "metadata": {},
     "output_type": "execute_result"
    },
    {
     "data": {
      "image/png": "[encoded data removed]",
      "text/plain": [
       "<Figure size 2000x1000 with 1 Axes>"
      ]
     },
     "metadata": {},
     "output_type": "display_data"
    }
   ],
   "source": [
    "df2 = df[df['posterior_error_probability']<0.01]\n",
    "\n",
    "gca = df2.loc[df2.prot_source.str.startswith(\"GCA\")==True]\n",
    "grch = df2.loc[df2.prot_source.str.startswith(\"GRCh38\")==True]\n",
    "decoy_grch = df2.loc[df2.prot_source.str.startswith(\"DECOY_GRCh38\")==True]\n",
    "decoy_gca = df2.loc[df2.prot_source.str.startswith(\"DECOY_GCA\")==True]\n",
    "\n",
    "#sns.df['posterior_error_probability']\n",
    "\n",
    "plt.figure(figsize=(20, 10))\n",
    "sns.distplot(gca['posterior_error_probability'], \n",
    "             hist=True, kde=True, label='GCA', color='blue')\n",
    "sns.distplot(grch['posterior_error_probability'], \n",
    "             hist=True, kde=True, label='GRCh38', color='green')\n",
    "sns.distplot(decoy_gca['posterior_error_probability'], \n",
    "             hist=True, kde=True, label='DECOY_GCA', color='red')\n",
    "sns.distplot(decoy_grch['posterior_error_probability'], \n",
    "             hist=True, kde=True, label='DECOY_GRCh38', color='yellow')\n",
    "\n",
    "plt.legend()"
   ]
  },
  {
   "cell_type": "code",
   "execution_count": 60,
   "id": "10b0c4f2-05d5-4d7a-8616-a58ea17e1231",
   "metadata": {
    "pycharm": {
     "name": "#%%\n"
    }
   },
   "outputs": [
    {
     "name": "stderr",
     "output_type": "stream",
     "text": [
      "/var/folders/r_/b2xtff5d3j3c3tn51td6lxwx19cbq9/T/ipykernel_11933/795821690.py:5: FutureWarning: \n",
      "\n",
      "Passing `palette` without assigning `hue` is deprecated and will be removed in v0.14.0. Assign the `x` variable to `hue` and set `legend=False` for the same effect.\n",
      "\n",
      "  sns.violinplot(\n"
     ]
    },
    {
     "data": {
      "text/plain": [
       "([0, 1, 2, 3, 4, 5],\n",
       " [Text(0, 0, 'GRCh38'),\n",
       "  Text(1, 0, 'CONTAMINANT'),\n",
       "  Text(2, 0, 'GCA'),\n",
       "  Text(3, 0, 'DECOY_GCA'),\n",
       "  Text(4, 0, 'DECOY_GRCh38'),\n",
       "  Text(5, 0, 'DECOY_CONTAMINANT')])"
      ]
     },
     "execution_count": 60,
     "metadata": {},
     "output_type": "execute_result"
    },
    {
     "data": {
      "image/png": "[encoded data removed]",
      "text/plain": [
       "<Figure size 2000x1000 with 1 Axes>"
      ]
     },
     "metadata": {},
     "output_type": "display_data"
    }
   ],
   "source": [
    "plt.figure(figsize=(20, 10))\n",
    "\n",
    "sns.set_style(\"whitegrid\")\n",
    "\n",
    "sns.violinplot(\n",
    "    data=df2, x=\"prot_source\", y=\"posterior_error_probability\", fill=\"prot_source\",\n",
    "    width=.6, palette=\"vlag\"\n",
    ")\n",
    "plt.xticks(rotation=90) "
   ]
  },
  {
   "cell_type": "code",
   "execution_count": 51,
   "id": "7660f38c-e9bb-4c64-adf9-0659ed5b06f6",
   "metadata": {
    "pycharm": {
     "name": "#%%\n"
    }
   },
   "outputs": [
    {
     "data": {
      "text/plain": [
       "prot_source\n",
       "GRCh38               13696791\n",
       "CONTAMINANT            542514\n",
       "GCA                    128909\n",
       "DECOY_GCA                6711\n",
       "DECOY_GRCh38             3148\n",
       "DECOY_CONTAMINANT          46\n",
       "Name: count, dtype: int64"
      ]
     },
     "execution_count": 51,
     "metadata": {},
     "output_type": "execute_result"
    }
   ],
   "source": [
    "df[df['posterior_error_probability']<0.01]['prot_source'].value_counts()"
   ]
  },
  {
   "cell_type": "code",
   "execution_count": 61,
   "id": "b151b59d-9049-4071-b2cc-a30f6e2c4c41",
   "metadata": {
    "pycharm": {
     "name": "#%%\n"
    }
   },
   "outputs": [
    {
     "name": "stdout",
     "output_type": "stream",
     "text": [
      "Number of unique peptide sequences from\n",
      " GCA: 7141\n",
      " canonical: 340915\n",
      "union 348056\n",
      "intesect 0\n"
     ]
    }
   ],
   "source": [
    "print('Number of unique peptide sequences from\\n GCA: {}\\n canonical: {}'.format(len(gca.sequence.unique()), len(grch.sequence.unique())))\n",
    "print('union', len(set(grch.sequence).union(set(gca.sequence))))\n",
    "print('intesect', len(set(grch.sequence).intersection(set(gca.sequence))))"
   ]
  },
  {
   "cell_type": "code",
   "execution_count": 62,
   "id": "d5151650-0110-4ad4-ac4d-1becbb3e4cd8",
   "metadata": {
    "pycharm": {
     "name": "#%%\n"
    }
   },
   "outputs": [],
   "source": [
    "def rep(x):\n",
    "    return re.sub('{[^}]*}', '', x.replace('(','{').replace(')', '}').replace('.',''))"
   ]
  },
  {
   "cell_type": "code",
   "execution_count": 63,
   "id": "6602bbbf-4763-458a-b4ff-6da86e162b9b",
   "metadata": {
    "pycharm": {
     "name": "#%%\n"
    }
   },
   "outputs": [],
   "source": [
    "gca_seqs = list(set([rep(x) for x in gca['sequence'].tolist()]))"
   ]
  },
  {
   "cell_type": "code",
   "execution_count": 64,
   "id": "8319ee33-589a-4021-955c-4c3f640bc891",
   "metadata": {
    "pycharm": {
     "name": "#%%\n"
    }
   },
   "outputs": [
    {
     "data": {
      "text/plain": [
       "7141"
      ]
     },
     "execution_count": 64,
     "metadata": {},
     "output_type": "execute_result"
    }
   ],
   "source": [
    "len(gca_seqs)"
   ]
  },
  {
   "cell_type": "code",
   "execution_count": 67,
   "id": "fce4c089-e639-47e1-984a-c7c741ba2317",
   "metadata": {
    "pycharm": {
     "name": "#%%\n"
    }
   },
   "outputs": [
    {
     "name": "stdout",
     "output_type": "stream",
     "text": [
      "128909\n"
     ]
    }
   ],
   "source": [
    "gca_novel = gca[gca['sequence'].apply(rep).isin(gca_found_peps)==False]\n",
    "print(len(gca_novel))"
   ]
  },
  {
   "cell_type": "code",
   "execution_count": 68,
   "id": "f66e3bc9",
   "metadata": {
    "collapsed": false,
    "jupyter": {
     "outputs_hidden": false
    },
    "pycharm": {
     "name": "#%%\n"
    }
   },
   "outputs": [
    {
     "name": "stdout",
     "output_type": "stream",
     "text": [
      "7141\n"
     ]
    }
   ],
   "source": [
    "print(len(set(gca_novel['sequence'].apply(rep).to_list())))"
   ]
  },
  {
   "cell_type": "markdown",
   "id": "13d424af",
   "metadata": {
    "collapsed": false,
    "jupyter": {
     "outputs_hidden": false
    },
    "pycharm": {
     "name": "#%% md\n"
    }
   },
   "source": [
    "#### To DeepLC"
   ]
  },
  {
   "cell_type": "code",
   "execution_count": null,
   "id": "cb503efc",
   "metadata": {
    "collapsed": false,
    "jupyter": {
     "outputs_hidden": false
    },
    "pycharm": {
     "name": "#%%\n"
    }
   },
   "outputs": [],
   "source": [
    "gca"
   ]
  },
  {
   "cell_type": "code",
   "execution_count": null,
   "id": "8853cdff",
   "metadata": {
    "collapsed": false,
    "jupyter": {
     "outputs_hidden": false
    },
    "pycharm": {
     "name": "#%%\n"
    }
   },
   "outputs": [],
   "source": [
    "grch"
   ]
  },
  {
   "cell_type": "code",
   "execution_count": 69,
   "id": "572ee41e",
   "metadata": {
    "collapsed": false,
    "jupyter": {
     "outputs_hidden": false
    },
    "pycharm": {
     "name": "#%%\n"
    }
   },
   "outputs": [],
   "source": [
    "mod_rep = {\"UNIMOD:4\":\"Carbamidomethyl\",\"UNIMOD:7\":\"Deamidated\",\"UNIMOD:35\":\"Oxidation\",\"UNIMOD:1\":\"Acetyl\"}\n",
    "def replace_mod(x):\n",
    "    s = \"\"\n",
    "    for mod in x:\n",
    "        nums = mod.split(\"-\")[0]\n",
    "        m = mod.split(\"-\")[1]\n",
    "        for n in nums.split(\"|\"):\n",
    "            if s:\n",
    "                s += \"|\"\n",
    "            s += n + \"|\" + mod_rep.get(m)\n",
    "    return s"
   ]
  },
  {
   "cell_type": "code",
   "execution_count": 70,
   "id": "09bf4d26",
   "metadata": {
    "collapsed": false,
    "jupyter": {
     "outputs_hidden": false
    },
    "pycharm": {
     "name": "#%%\n"
    }
   },
   "outputs": [
    {
     "name": "stderr",
     "output_type": "stream",
     "text": [
      "/var/folders/r_/b2xtff5d3j3c3tn51td6lxwx19cbq9/T/ipykernel_11933/1856042134.py:3: SettingWithCopyWarning: \n",
      "A value is trying to be set on a copy of a slice from a DataFrame.\n",
      "Try using .loc[row_indexer,col_indexer] = value instead\n",
      "\n",
      "See the caveats in the documentation: https://pandas.pydata.org/pandas-docs/stable/user_guide/indexing.html#returning-a-view-versus-a-copy\n",
      "  gca.loc[:,\"tr\"] = gca.apply(lambda x : x[\"retention_time\"],axis = 1)\n"
     ]
    }
   ],
   "source": [
    "gca.loc[:,\"seq\"] = gca.apply(lambda x : x[\"sequence\"],axis = 1)\n",
    "gca.loc[:,\"modifications\"] = gca.apply(lambda x : replace_mod(x[\"modifications\"]) if x[\"modifications\"] is not None else \"\", axis = 1)\n",
    "gca.loc[:,\"tr\"] = gca.apply(lambda x : x[\"retention_time\"],axis = 1)"
   ]
  },
  {
   "cell_type": "code",
   "execution_count": 71,
   "id": "925399dd",
   "metadata": {
    "collapsed": false,
    "jupyter": {
     "outputs_hidden": false
    },
    "pycharm": {
     "name": "#%%\n"
    }
   },
   "outputs": [
    {
     "name": "stderr",
     "output_type": "stream",
     "text": [
      "/var/folders/r_/b2xtff5d3j3c3tn51td6lxwx19cbq9/T/ipykernel_11933/1364912704.py:3: SettingWithCopyWarning: \n",
      "A value is trying to be set on a copy of a slice from a DataFrame.\n",
      "Try using .loc[row_indexer,col_indexer] = value instead\n",
      "\n",
      "See the caveats in the documentation: https://pandas.pydata.org/pandas-docs/stable/user_guide/indexing.html#returning-a-view-versus-a-copy\n",
      "  grch.loc[:,\"tr\"] = grch.apply(lambda x : x[\"retention_time\"],axis = 1)\n"
     ]
    }
   ],
   "source": [
    "grch.loc[:,\"seq\"] = grch.apply(lambda x : x[\"sequence\"],axis = 1)\n",
    "grch.loc[:,\"modifications\"] = grch.apply(lambda x : replace_mod(x[\"modifications\"]) if x[\"modifications\"] is not None else \"\", axis = 1)\n",
    "grch.loc[:,\"tr\"] = grch.apply(lambda x : x[\"retention_time\"],axis = 1)"
   ]
  },
  {
   "cell_type": "code",
   "execution_count": null,
   "id": "5f83ce51",
   "metadata": {
    "collapsed": false,
    "jupyter": {
     "outputs_hidden": false
    },
    "pycharm": {
     "name": "#%%\n"
    }
   },
   "outputs": [],
   "source": [
    "gca.drop_duplicates(subset=[\"seq\",\"modifications\"],keep=\"first\",inplace=True)\n",
    "grch.drop_duplicates(subset=[\"seq\",\"modifications\"],keep=\"first\",inplace=True)\n",
    "gca['modifications'] = gca['modifications'].fillna(\"\")\n",
    "grch['modifications'] = grch['modifications'].fillna(\"\")"
   ]
  },
  {
   "cell_type": "code",
   "execution_count": 76,
   "id": "be57159c-cd98-4efa-9bec-44b781bf769f",
   "metadata": {},
   "outputs": [
    {
     "name": "stderr",
     "output_type": "stream",
     "text": [
      "/var/folders/r_/b2xtff5d3j3c3tn51td6lxwx19cbq9/T/ipykernel_11933/3508760913.py:2: SettingWithCopyWarning: \n",
      "A value is trying to be set on a copy of a slice from a DataFrame.\n",
      "Try using .loc[row_indexer,col_indexer] = value instead\n",
      "\n",
      "See the caveats in the documentation: https://pandas.pydata.org/pandas-docs/stable/user_guide/indexing.html#returning-a-view-versus-a-copy\n",
      "  gca[\"tr\"] = gca[\"retention_time\"]\n",
      "/var/folders/r_/b2xtff5d3j3c3tn51td6lxwx19cbq9/T/ipykernel_11933/3508760913.py:5: SettingWithCopyWarning: \n",
      "A value is trying to be set on a copy of a slice from a DataFrame.\n",
      "Try using .loc[row_indexer,col_indexer] = value instead\n",
      "\n",
      "See the caveats in the documentation: https://pandas.pydata.org/pandas-docs/stable/user_guide/indexing.html#returning-a-view-versus-a-copy\n",
      "  grch[\"tr\"] = grch[\"retention_time\"]\n"
     ]
    }
   ],
   "source": [
    "# Save to files for DeepLC \n",
    "gca[\"tr\"] = gca[\"retention_time\"]\n",
    "gca.to_csv('gca_peptides_for_deeplc.csv', index=False, columns = [\"sequence\", \"modifications\", \"tr\"])\n",
    "\n",
    "grch[\"tr\"] = grch[\"retention_time\"]\n",
    "grch.to_csv('grch_peptides_for_deeplc.csv', index=False, columns = [\"sequence\", \"modifications\", \"tr\"])\n"
   ]
  },
  {
   "cell_type": "code",
   "execution_count": 17,
   "id": "1f11f106",
   "metadata": {
    "collapsed": false,
    "jupyter": {
     "outputs_hidden": false
    },
    "pycharm": {
     "name": "#%%\n"
    }
   },
   "outputs": [
    {
     "name": "stdout",
     "output_type": "stream",
     "text": [
      "Predicted sequences:128909\n",
      "Original sequences:128909\n"
     ]
    }
   ],
   "source": [
    "# Read the prediction from files\n",
    "import numpy as np\n",
    "from scipy.stats import pearsonr\n",
    "\n",
    "gca_deeplc_predic = pd.read_csv(\"gca_peptides_for_deeplc_deeplc_predictions.csv\")\n",
    "gca_deeplc_predic\n",
    "print(\"Predicted sequences:\" + str(len(gca_deeplc_predic)))\n",
    "\n",
    "# Read the original retention time from file \n",
    "gca_rt_file = pd.read_csv(\"gca_peptides_for_deeplc.csv\")\n",
    "gca_rt_file\n",
    "print(\"Original sequences:\" + str(len(gca_rt_file)))"
   ]
  },
  {
   "cell_type": "code",
   "execution_count": 19,
   "id": "5804b094-80c4-49b0-bd5c-9d2a775fd78e",
   "metadata": {},
   "outputs": [],
   "source": [
    "mae_calib = sum(abs(gca_rt_file[\"tr\"]-gca_deeplc_predic[\"predicted retention time\"]))/len(gca_rt_file[\"tr\"].index)\n",
    "perc95_calib = np.percentile(abs(gca_rt_file[\"tr\"]-gca_deeplc_predic[\"predicted retention time\"]),95)*2\n",
    "cor_calib = pearsonr(gca_rt_file[\"tr\"],gca_deeplc_predic[\"predicted retention time\"])[0]"
   ]
  },
  {
   "cell_type": "code",
   "execution_count": 27,
   "id": "23cc985c-b6ac-4fdf-bcc7-b17b33cf4272",
   "metadata": {},
   "outputs": [
    {
     "data": {
      "image/png": "[encoded data removed]",
      "text/plain": [
       "<Figure size 640x480 with 1 Axes>"
      ]
     },
     "metadata": {},
     "output_type": "display_data"
    }
   ],
   "source": [
    "%matplotlib inline\n",
    "\n",
    "plt.title(f\"MAE: {round(mae_calib,2)} 95th percentile: {round(perc95_calib,2)} R: {round(cor_calib,3)}\")\n",
    "plt.scatter(gca_rt_file[\"tr\"],gca_deeplc_predic[\"predicted retention time\"],s=1,alpha=0.5)\n",
    "plt.plot([0,6000],[4,10],c=\"grey\")\n",
    "plt.show()"
   ]
  },
  {
   "cell_type": "code",
   "execution_count": null,
   "id": "e8d88122-816a-4e99-be82-940ed9dc9e37",
   "metadata": {},
   "outputs": [],
   "source": []
  }
 ],
 "metadata": {
  "kernelspec": {
   "display_name": "Python 3 (ipykernel)",
   "language": "python",
   "name": "python3"
  },
  "language_info": {
   "codemirror_mode": {
    "name": "ipython",
    "version": 3
   },
   "file_extension": ".py",
   "mimetype": "text/x-python",
   "name": "python",
   "nbconvert_exporter": "python",
   "pygments_lexer": "ipython3",
   "version": "3.12.0"
  }
 },
 "nbformat": 4,
 "nbformat_minor": 5
}
