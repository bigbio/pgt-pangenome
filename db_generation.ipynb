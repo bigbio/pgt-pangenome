{
 "cells": [
  {
   "cell_type": "markdown",
   "id": "e2b3ef59",
   "metadata": {},
   "source": [
    "# Generation of protein file for pan-genome sample files\n",
    "\n",
    "### Import Modules"
   ]
  },
  {
   "cell_type": "code",
   "execution_count": 1,
   "id": "2d27c531",
   "metadata": {},
   "outputs": [],
   "source": [
    "import pypgatk\n",
    "import shutil\n",
    "import os\n",
    "import sys\n",
    "from collections import Counter\n",
    "import matplotlib.pyplot as plt\n",
    "import seaborn as sns\n",
    "from supervenn import supervenn\n",
    "from glob import glob\n",
    "import urllib.request\n",
    "import ftplib\n",
    "\n",
    "from Bio import BiopythonWarning\n",
    "import warnings\n",
    "with warnings.catch_warnings():\n",
    "    warnings.simplefilter('ignore', BiopythonWarning)\n",
    "    from Bio import SeqIO"
   ]
  },
  {
   "cell_type": "markdown",
   "id": "acadee34",
   "metadata": {},
   "source": [
    "### Define directories and parameters"
   ]
  },
  {
   "cell_type": "code",
   "execution_count": 2,
   "id": "fdb49930",
   "metadata": {},
   "outputs": [],
   "source": [
    "cdna_dir = 'cdna_files'\n",
    "try:\n",
    "    os.mkdir(cdna_dir)\n",
    "except FileExistsError:\n",
    "    pass\n",
    "\n",
    "prot_dir = 'prot_files'\n",
    "try:\n",
    "    os.mkdir(prot_dir)\n",
    "except FileExistsError:\n",
    "    pass\n",
    "\n",
    "pep_dir = 'pep_files'\n",
    "try:\n",
    "    os.mkdir(pep_dir)\n",
    "except FileExistsError:\n",
    "    pass\n",
    "\n",
    "tryptic_pep_dir = 'tryptic_pep_files'\n",
    "try:\n",
    "    os.mkdir(tryptic_pep_dir)\n",
    "except FileExistsError:\n",
    "    pass\n",
    "\n",
    "min_pep_len = 7\n"
   ]
  },
  {
   "cell_type": "markdown",
   "id": "d02e2d23",
   "metadata": {},
   "source": [
    "### Download reference fasta files "
   ]
  },
  {
   "cell_type": "code",
   "execution_count": null,
   "id": "42d08040",
   "metadata": {},
   "outputs": [],
   "source": [
    "!wget https://ftp.ensembl.org/pub/release-110/fasta/homo_sapiens/ncrna/Homo_sapiens.GRCh38.ncrna.fa.gz\n",
    "!wget https://ftp.ensembl.org/pub/release-110/fasta/homo_sapiens/cdna/Homo_sapiens.GRCh38.cdna.all.fa.gz\n",
    "!zcat Homo_sapiens.GRCh38.ncrna.fa.gz Homo_sapiens.GRCh38.cdna.all.fa.gz > cdna_files/Homo_sapiens-GRCh38_ENS.110-20230422_ncrna-cdna.fa"
   ]
  },
  {
   "cell_type": "markdown",
   "id": "3a0aef95",
   "metadata": {},
   "source": [
    "### Define required functions"
   ]
  },
  {
   "cell_type": "code",
   "execution_count": 3,
   "id": "df50e52c",
   "metadata": {},
   "outputs": [],
   "source": [
    "#function to digest proteins\n",
    "\n",
    "def trypsin_digestion(proseq_incl_stop, miss_cleavage=0, min_len=1):\n",
    "    \"digest peptides using the tryptic rule, allowing for miss cleavages\"\n",
    "    all_peptides = []\n",
    "    for protseq in proseq_incl_stop.split('*'):\n",
    "        if len(protseq)<min_len:\n",
    "            continue\n",
    "        peptides = []\n",
    "        peptide = ''\n",
    "        \"remove the first K/R if in the begining of a reading frame\"\n",
    "        protseq_updated = protseq[0::]\n",
    "        if protseq[0]=='K' or protseq[0]=='R' and len(protseq)>0:\n",
    "            protseq_updated = protseq[1::]\n",
    "\n",
    "        for c, aa in enumerate(protseq_updated):\n",
    "            peptide += aa\n",
    "            next_aa = ''\n",
    "            try:\n",
    "                next_aa = protseq_updated[c + 1]\n",
    "            except IndexError:\n",
    "                pass\n",
    "\n",
    "            if aa in ['K', 'R'] and next_aa != 'P':  # for trypsin peptides\n",
    "                if len(peptide) >= min_len:\n",
    "                    peptides.append(peptide)\n",
    "                peptide = ''\n",
    "                continue\n",
    "\n",
    "        if len(peptide) >= min_len:\n",
    "            peptides.append(peptide)\n",
    "\n",
    "        peptides_with_miss_cleavage = []\n",
    "        for i in range(1, miss_cleavage + 1):\n",
    "            for j, pep in enumerate(peptides):\n",
    "                if j + i < len(peptides):\n",
    "                    peptide = ''.join([x for x in (peptides[j:j + i + 1])])\n",
    "                    if len(peptide) >= min_len:\n",
    "                        peptides_with_miss_cleavage.append(peptide)\n",
    "\n",
    "        peptides.extend(peptides_with_miss_cleavage)\n",
    "        all_peptides.extend(peptides)\n",
    "\n",
    "    return all_peptides\n",
    "\n"
   ]
  },
  {
   "cell_type": "markdown",
   "id": "c891d2f3",
   "metadata": {},
   "source": [
    "### Download files from ftp server"
   ]
  },
  {
   "cell_type": "code",
   "execution_count": 4,
   "id": "27f5725c",
   "metadata": {},
   "outputs": [
    {
     "name": "stdout",
     "output_type": "stream",
     "text": [
      "Number of Samples completed: 97\n"
     ]
    }
   ],
   "source": [
    "# Download CDNA files from the pan-genomes hub and put them under cdna_files directory\n",
    "base_url = 'ftp.ensembl.org'\n",
    "samples_dir = '/pub/rapid-release/species/Homo_sapiens/'\n",
    "\n",
    "samples_list = []\n",
    "#Get list of samples\n",
    "try:\n",
    "    ftp = ftplib.FTP(base_url, timeout=3600)\n",
    "    ftp.login()\n",
    "    ftplib.FTP.maxline = 100000\n",
    "    ftp.cwd(samples_dir)\n",
    "    samples_list = ftp.nlst()\n",
    "except ftplib.all_errors:\n",
    "    print('Failed to connect to the ftp site')\n",
    "\n",
    "print(\"Number of Samples completed: \" + str(len(samples_list)))\n"
   ]
  },
  {
   "cell_type": "code",
   "execution_count": 6,
   "id": "9fffa5fc",
   "metadata": {},
   "outputs": [],
   "source": [
    "#get protein files from the ftp link\n",
    "years = ['2022']\n",
    "months = ['0'+str(x) if len(str(x))==1 else str(x) for x in range(0,13) ]\n",
    "samples = []\n",
    "file_downloaded = 0\n",
    "for sample in samples_list:\n",
    "    sample_genes_dir = '{id}/ensembl/geneset'.format(id=sample)\n",
    "    \n",
    "    ftp.cwd(sample_genes_dir)\n",
    "    sample_genes_files = ftp.nlst()\n",
    "    file_url, file_name = '', ''\n",
    "    \n",
    "    for year in years[::-1]:\n",
    "        for month in months[::-1]:\n",
    "            #try to get the latest month release\n",
    "            if '{}_{}'.format(year, month) in sample_genes_files:\n",
    "                file_url = '{}_{}/'.format(year, month)\n",
    "                file_name_cdna = 'Homo_sapiens-{}-{}_{}-cdna.fa.gz'.format(sample, year, month)\n",
    "                file_name_pep = 'Homo_sapiens-{}-{}_{}-pep.fa.gz'.format(sample, year, month)\n",
    "                break\n",
    "\n",
    "    try:\n",
    "        cdna_file = '{}/{}'.format(cdna_dir, file_name_cdna)\n",
    "        pep_file = '{}/{}'.format(pep_dir, file_name_pep)\n",
    "        if not os.path.isfile(cdna_file.replace('.gz', '')):\n",
    "            print('Downloading: {}'.format(cdna_file))\n",
    "            ftp.retrbinary('RETR {}/{}'.format(file_url, file_name_cdna), \n",
    "                     open(cdna_file, 'wb').write)\n",
    "            os.system('gunzip {}'.format(cdna_file))\n",
    "        #download pep files\n",
    "        if not os.path.isfile(pep_file.replace('.gz', '')):\n",
    "            print('Downloading: {}'.format(pep_file))\n",
    "            ftp.retrbinary('RETR {}/{}'.format(file_url, file_name_pep), \n",
    "                     open(pep_file, 'wb').write)\n",
    "            os.system('gunzip {}'.format(pep_file))\n",
    "\n",
    "    except ftplib.error_perm as e:\n",
    "        print('Skipped downloading for sample {}, error: {}'.format(sample, e))\n",
    "\n",
    "    ftp.cwd(samples_dir)\n",
    "    "
   ]
  },
  {
   "cell_type": "markdown",
   "id": "6ee7a3c2",
   "metadata": {},
   "source": [
    "### Translation of CDNA files into protein sequences"
   ]
  },
  {
   "cell_type": "code",
   "execution_count": 7,
   "id": "c425844e",
   "metadata": {},
   "outputs": [
    {
     "name": "stdout",
     "output_type": "stream",
     "text": [
      "Translating 98 CDNA files into protein sequences (skipped if exists already).\n"
     ]
    }
   ],
   "source": [
    "cdna_files = glob(cdna_dir + '/*cdna.fa')\n",
    "print('Translating {} CDNA files into protein sequences (skipped if exists already).'.format(len(cdna_files)))\n",
    "\n",
    "for cdna_file in cdna_files:\n",
    "    prot_file = prot_dir + '/' + '-'.join(cdna_file.split('/')[-1].split('-')[0:-1])+'-prots.fa'\n",
    "    prefix = cdna_file.split('/')[-1].split('-')[1] + '_'\n",
    "    \n",
    "    if not os.path.isfile(prot_file):\n",
    "        print('Translating: ', cdna_file)\n",
    "        os.system(\"pypgatk_cli.py dnaseq-to-proteindb --input_fasta {} --output_proteindb {} --include_biotypes 'all' --protein_prefix {}\".format(\n",
    "            cdna_file, prot_file, prefix))\n",
    "\n",
    "        if os.path.isfile(prot_file):\n",
    "            print('Number of protein sequences: {}'.format(list(Counter(['_'.join(x.split('_')[0:2]) for x in list(SeqIO.index(prot_file, \"fasta\").keys())]).items())))\n",
    "        else:\n",
    "            print('Failed to generate {}'.format(prot_file))\n",
    "\n"
   ]
  },
  {
   "cell_type": "markdown",
   "id": "fa2a2a29",
   "metadata": {},
   "source": [
    "## Unifiy sequences and concatenate"
   ]
  },
  {
   "cell_type": "code",
   "execution_count": 9,
   "id": "94ae5f12",
   "metadata": {},
   "outputs": [],
   "source": [
    "def merge_prot_files(input_files, output_dir, merged_prots_suffix, min_pep_len, accepted_projs):\n",
    "    prots = {}\n",
    "    generated_files = []\n",
    "\n",
    "    merged_prot_exists = True\n",
    "    for proj in accepted_projs:\n",
    "        if not os.path.isfile('{}/{}'.format(output_dir, proj + merged_prots_suffix)):\n",
    "            print('{}/{}'.format(output_dir, proj + merged_prots_suffix))\n",
    "            merged_prot_exists = False\n",
    "            break\n",
    "\n",
    "    if not merged_prot_exists:\n",
    "        print(\"Unifying {} protein sequences and splitting by stop codon.\".format(len(input_files)))\n",
    "        for prot_file in input_files:\n",
    "            print(\"Processing: {}\".format(prot_file))\n",
    "            proj = prot_file.split('/')[-1].split('-')[1].split('_')[0]\n",
    "            for n, record in enumerate(SeqIO.parse(prot_file, 'fasta')):\n",
    "                if ';transcript_biotype:' in str(record.description):\n",
    "                    desc = str(record.description).split(' ')[-1].split(';')\n",
    "                else:\n",
    "                    desc = str(record.description).split(' ')\n",
    "                transcript_biotype = ''.join([x.split(':')[1] for x in desc if x.startswith('transcript_biotype')])\n",
    "                seqs = str(record.seq).split('*')\n",
    "                for seq in seqs:\n",
    "                    if len(seq)<min_pep_len:\n",
    "                        continue\n",
    "                    try:\n",
    "                        prots[proj][seq]['transcript_biotype'].add(transcript_biotype)\n",
    "                    except KeyError:\n",
    "                        try:\n",
    "                            prots[proj][seq] = {'transcript_biotype': {transcript_biotype}}\n",
    "                        except KeyError:\n",
    "                            prots[proj] = {seq: {'transcript_biotype': {transcript_biotype}} }\n",
    "\n",
    "        #write all merged proteins in prots dict into output file(s) by proj\n",
    "        for proj in prots.keys():\n",
    "            output_file = '{}/{}'.format(output_dir, proj + merged_prots_suffix)\n",
    "            generated_files.append(output_file)\n",
    "            with open(output_file, 'w') as merged_prots:\n",
    "                n = 0\n",
    "                for seq, item in prots[proj].items():\n",
    "                    n+=1\n",
    "                    merged_prots.write(\n",
    "                        '>{}_{} {}\\n{}\\n'.format(\n",
    "                            proj, n, ','.join(item['transcript_biotype']), seq))\n",
    "                print('Wrote {} {}/{}'.format(n, output_dir, proj + merged_prots_suffix))\n",
    "\n",
    "    else:\n",
    "        for proj in accepted_projs:\n",
    "            output_file = '{}/{}'.format(output_dir, proj + merged_prots_suffix)\n",
    "            if os.path.isfile(output_file):\n",
    "                generated_files.append(output_file)\n",
    "                print('File exists: {}/{}{} and contains {} protein sequences:\\n'.format(\n",
    "                    output_dir, proj, merged_prots_suffix, len([x for x in SeqIO.parse(output_file, 'fasta')])))\n",
    "            else:\n",
    "                print('Failed to generate: {}/{}{}'.format(output_dir, proj, merged_prots_suffix))\n",
    "    return generated_files"
   ]
  },
  {
   "cell_type": "code",
   "execution_count": 10,
   "id": "b73b2d72",
   "metadata": {},
   "outputs": [
    {
     "name": "stdout",
     "output_type": "stream",
     "text": [
      "File exists: prot_files/GCA_proteins_19Jul23.fa and contains 8538763 protein sequences:\n",
      "\n",
      "File exists: prot_files/GRCh38_proteins_19Jul23.fa and contains 5549568 protein sequences:\n",
      "\n",
      "File exists: pep_files/GCA_coding_proteins_19Jul23.fa and contains 319593 protein sequences:\n",
      "\n",
      "File exists: pep_files/GRCh38_coding_proteins_19Jul23.fa and contains 96136 protein sequences:\n",
      "\n"
     ]
    }
   ],
   "source": [
    "accepted_projs = ['GCA', 'GRCh38']\n",
    "\n",
    "#concatenate all pan-genome protein files into one (unique seqs and biotype). write all to output regardless biotype\n",
    "gen_prot_files = merge_prot_files(glob(prot_dir + '/*-prots.fa'), 'prot_files', '_proteins_19Jul23.fa', 7, accepted_projs)\n",
    "gen_coding_prot_files = merge_prot_files(glob(pep_dir + '/*-pep.fa'), 'pep_files', '_coding_proteins_19Jul23.fa', 1, accepted_projs)\n",
    "\n"
   ]
  },
  {
   "cell_type": "markdown",
   "id": "96b98214",
   "metadata": {},
   "source": [
    "### Write prots to output file, set the file suffix according to the selected biotypes"
   ]
  },
  {
   "cell_type": "code",
   "execution_count": 13,
   "id": "d9999942",
   "metadata": {},
   "outputs": [],
   "source": [
    "def get_tryptic_peps(pep_dir, prot_files, min_pep_len):\n",
    "    peptides = {}\n",
    "\n",
    "    for prot_file in prot_files:\n",
    "        pep_file_name = '{}/{}_{}-peps.fa'.format(\n",
    "                pep_dir, prot_file.split('/')[-1].replace('.fa', ''), min_pep_len)\n",
    "        \n",
    "        for record in SeqIO.parse(prot_file, 'fasta'):\n",
    "            prot_type = str(record.id).split('_')[0]\n",
    "\n",
    "            if os.path.isfile(pep_file_name):\n",
    "                peptides[prot_type] = set([x.strip() for x in open(pep_file_name).readlines()])\n",
    "                break\n",
    "\n",
    "            try:\n",
    "                peptides[prot_type].extend(trypsin_digestion(str(record.seq), min_len=min_pep_len))\n",
    "            except KeyError:\n",
    "                peptides[prot_type] = trypsin_digestion(str(record.seq), min_len=min_pep_len)\n",
    "\n",
    "        peptides[prot_type] = set(peptides[prot_type])\n",
    "\n",
    "        with open(pep_file_name, 'w') as pep_file:\n",
    "            pep_file.write('\\n'.join(peptides[prot_type]) + '\\n')\n",
    "\n",
    "    return peptides"
   ]
  },
  {
   "cell_type": "markdown",
   "id": "d77bc915",
   "metadata": {},
   "source": [
    "### Translation of protein sequences into tryptic peptides (for visualization only, comment first line to run)"
   ]
  },
  {
   "cell_type": "code",
   "execution_count": 15,
   "id": "0ded660b",
   "metadata": {
    "scrolled": true
   },
   "outputs": [
    {
     "name": "stdout",
     "output_type": "stream",
     "text": [
      "Number of tryptic peptides per type:\n",
      " GCA = 892614\n",
      "GRCh38 = 782775\n"
     ]
    }
   ],
   "source": [
    "peptides = get_tryptic_peps(tryptic_pep_dir, gen_coding_prot_files, 1)\n",
    "print('Number of tryptic peptides per type:\\n', '\\n'.join([k+' = '+str(len(items)) for k,items in peptides.items()]))\n"
   ]
  },
  {
   "cell_type": "code",
   "execution_count": 16,
   "id": "45a1ad13",
   "metadata": {
    "scrolled": true
   },
   "outputs": [
    {
     "data": {
      "image/png": "[encoded data removed]",
      "text/plain": [
       "<Figure size 2000x1000 with 3 Axes>"
      ]
     },
     "metadata": {},
     "output_type": "display_data"
    }
   ],
   "source": [
    "# Plot the overlap between the samples and the GRCH38 reference\n",
    "labels = list(peptides.keys())\n",
    "sets = [set(peptides[x]) for x in peptides.keys()]\n",
    "\n",
    "plt.figure(figsize=(20, 10))\n",
    "supervenn(sets, labels, min_width_for_annotation=10000, rotate_col_annotations=True, \n",
    "          side_plots='right', chunks_ordering='occurrence', alternating_background= False)\n",
    "\n",
    "plt.grid(False)\n",
    "plt.savefig('coding_baroverlap.pdf')\n"
   ]
  },
  {
   "cell_type": "code",
   "execution_count": 17,
   "id": "e7c00327",
   "metadata": {},
   "outputs": [
    {
     "name": "stdout",
     "output_type": "stream",
     "text": [
      "Number of tryptic peptides per type:\n",
      " GCA = 9791203\n",
      "GRCh38 = 8084394\n"
     ]
    }
   ],
   "source": [
    "peptides = get_tryptic_peps(tryptic_pep_dir, gen_prot_files, min_pep_len)\n",
    "print('Number of tryptic peptides per type:\\n', '\\n'.join([k+' = '+str(len(items)) for k,items in peptides.items()]))\n"
   ]
  },
  {
   "cell_type": "code",
   "execution_count": 18,
   "id": "d78a73dd",
   "metadata": {},
   "outputs": [
    {
     "data": {
      "image/png": "[encoded data removed]",
      "text/plain": [
       "<Figure size 2000x1000 with 3 Axes>"
      ]
     },
     "metadata": {},
     "output_type": "display_data"
    }
   ],
   "source": [
    "# Plot the overlap between the samples and the GRCH38 reference\n",
    "labels = list(peptides.keys())\n",
    "sets = [set(peptides[x]) for x in peptides.keys()]\n",
    "\n",
    "plt.figure(figsize=(20, 10))\n",
    "supervenn(sets, labels, min_width_for_annotation=10000, rotate_col_annotations=True, \n",
    "          side_plots='right', chunks_ordering='occurrence', alternating_background= False)\n",
    "\n",
    "plt.grid(False)\n",
    "plt.savefig('noncan_baroverlap.pdf')\n"
   ]
  }
 ],
 "metadata": {
  "kernelspec": {
   "display_name": "Python 3 (ipykernel)",
   "language": "python",
   "name": "python3"
  },
  "language_info": {
   "codemirror_mode": {
    "name": "ipython",
    "version": 3
   },
   "file_extension": ".py",
   "mimetype": "text/x-python",
   "name": "python",
   "nbconvert_exporter": "python",
   "pygments_lexer": "ipython3",
   "version": "3.10.8"
  }
 },
 "nbformat": 4,
 "nbformat_minor": 5
}
