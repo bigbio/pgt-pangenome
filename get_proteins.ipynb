{
 "cells": [
  {
   "cell_type": "code",
   "execution_count": 1,
   "id": "5b60a017-18ce-44db-840e-eb318aa954c3",
   "metadata": {},
   "outputs": [],
   "source": [
    "import os\n",
    "import ftplib\n",
    "import pandas as pd\n",
    "from glob import glob\n",
    "import ahocorasick\n",
    "from Bio import SeqIO"
   ]
  },
  {
   "cell_type": "code",
   "execution_count": 2,
   "id": "fb1926b3",
   "metadata": {},
   "outputs": [],
   "source": [
    "os.chdir('/mnt/nfs/wangd/project/paper_db/')"
   ]
  },
  {
   "cell_type": "code",
   "execution_count": 3,
   "id": "95426d92-8292-4463-9e77-e97e364d681f",
   "metadata": {},
   "outputs": [
    {
     "name": "stdout",
     "output_type": "stream",
     "text": [
      "['sequence_x', 'protein_accessions', 'charge', 'scan_number', 'peptidoform', 'exp_mass_to_charge', 'calc_mass_to_charge', 'seq', 'tr', 'modifications', 'reference_file_name', \"'OpenMS:Target-decoy PSM q-value'\", 'Posterior error probability', 'sample_id', 'preds_tr', 'error', 'abserror', 'error_percentile', 'PeptideAtlas_observations', 'GPMDB_observations', 'Uniprot_Extended_PE', 'delta_mass', 'usi', 'number_misscleavages', 'pearsonr_B', 'pearsonr_Y', 'dot_product', 'count_B', 'count_Y', 'corrected_pearsonr_B', 'corrected_pearsonr_Y', 'corrected_dot_product', 'total_ions', 'number_peaks', 'signal_to_noise', 'diff_highest_lowest']\n",
      "8553\n"
     ]
    }
   ],
   "source": [
    "filtered_peps_input_file = '/mnt/nfs/wangd/project/10154parquet/res/gca_peptides_for_deeplc_95thperc_observations_ms2pip_by_filtered.tsv'\n",
    "filtered_peps = [l.strip().split('\\t') for l in open(filtered_peps_input_file).readlines()]\n",
    "header = filtered_peps[0]\n",
    "peps = filtered_peps[1::]\n",
    "\n",
    "print(header)\n",
    "print(len(peps))\n",
    "pep_seqs = set([x[header.index('sequence_x')] for x in peps])\n"
   ]
  },
  {
   "cell_type": "code",
   "execution_count": 4,
   "id": "40b74a50-88d8-4f8f-a14a-4074f3f40db3",
   "metadata": {},
   "outputs": [],
   "source": [
    "#create automator for the peptides\n",
    "auto = ahocorasick.Automaton()\n",
    "\n",
    "for seq in pep_seqs:\n",
    "    auto.add_word(seq, seq)\n",
    "\n",
    "auto.make_automaton()"
   ]
  },
  {
   "cell_type": "code",
   "execution_count": 5,
   "id": "8c46a17e-22f9-45a0-ba0f-a8df44c30aa5",
   "metadata": {},
   "outputs": [
    {
     "name": "stdout",
     "output_type": "stream",
     "text": [
      "Total number of unique protein sequences = 89491 in the fasta file: pep_files/Homo_sapiens-GCA_009914755.4-2022_07-pep.fa\n",
      "Total number of unique protein sequences = 89193 in the fasta file: pep_files/Homo_sapiens-GCA_018466835.1-2022_07-pep.fa\n",
      "Total number of unique protein sequences = 89067 in the fasta file: pep_files/Homo_sapiens-GCA_018466845.1-2022_07-pep.fa\n",
      "Total number of unique protein sequences = 89141 in the fasta file: pep_files/Homo_sapiens-GCA_018466855.1-2022_07-pep.fa\n",
      "Total number of unique protein sequences = 89177 in the fasta file: pep_files/Homo_sapiens-GCA_018466985.1-2022_07-pep.fa\n",
      "Total number of unique protein sequences = 86464 in the fasta file: pep_files/Homo_sapiens-GCA_018467005.1-2022_07-pep.fa\n",
      "Total number of unique protein sequences = 89069 in the fasta file: pep_files/Homo_sapiens-GCA_018467015.1-2022_07-pep.fa\n",
      "Total number of unique protein sequences = 89126 in the fasta file: pep_files/Homo_sapiens-GCA_018467155.1-2022_07-pep.fa\n",
      "Total number of unique protein sequences = 89176 in the fasta file: pep_files/Homo_sapiens-GCA_018467165.1-2022_07-pep.fa\n",
      "Total number of unique protein sequences = 89104 in the fasta file: pep_files/Homo_sapiens-GCA_018469405.1-2022_07-pep.fa\n",
      "Total number of unique protein sequences = 89228 in the fasta file: pep_files/Homo_sapiens-GCA_018469415.1-2022_07-pep.fa\n",
      "Total number of unique protein sequences = 89230 in the fasta file: pep_files/Homo_sapiens-GCA_018469425.1-2022_07-pep.fa\n",
      "Total number of unique protein sequences = 89137 in the fasta file: pep_files/Homo_sapiens-GCA_018469665.1-2022_07-pep.fa\n",
      "Total number of unique protein sequences = 86401 in the fasta file: pep_files/Homo_sapiens-GCA_018469675.1-2022_07-pep.fa\n",
      "Total number of unique protein sequences = 89146 in the fasta file: pep_files/Homo_sapiens-GCA_018469685.1-2022_07-pep.fa\n",
      "Total number of unique protein sequences = 89152 in the fasta file: pep_files/Homo_sapiens-GCA_018469695.1-2022_07-pep.fa\n",
      "Total number of unique protein sequences = 89211 in the fasta file: pep_files/Homo_sapiens-GCA_018469705.1-2022_07-pep.fa\n",
      "Total number of unique protein sequences = 89184 in the fasta file: pep_files/Homo_sapiens-GCA_018469865.1-2022_07-pep.fa\n",
      "Total number of unique protein sequences = 89144 in the fasta file: pep_files/Homo_sapiens-GCA_018469875.1-2022_07-pep.fa\n",
      "Total number of unique protein sequences = 89224 in the fasta file: pep_files/Homo_sapiens-GCA_018469925.1-2022_07-pep.fa\n",
      "Total number of unique protein sequences = 89090 in the fasta file: pep_files/Homo_sapiens-GCA_018469935.1-2022_07-pep.fa\n",
      "Total number of unique protein sequences = 89094 in the fasta file: pep_files/Homo_sapiens-GCA_018469945.1-2022_07-pep.fa\n",
      "Total number of unique protein sequences = 89133 in the fasta file: pep_files/Homo_sapiens-GCA_018469955.1-2022_07-pep.fa\n",
      "Total number of unique protein sequences = 86500 in the fasta file: pep_files/Homo_sapiens-GCA_018469965.1-2022_07-pep.fa\n",
      "Total number of unique protein sequences = 86504 in the fasta file: pep_files/Homo_sapiens-GCA_018470425.1-2022_07-pep.fa\n",
      "Total number of unique protein sequences = 85900 in the fasta file: pep_files/Homo_sapiens-GCA_018470435.1-2022_07-pep.fa\n",
      "Total number of unique protein sequences = 88530 in the fasta file: pep_files/Homo_sapiens-GCA_018470445.1-2022_07-pep.fa\n",
      "Total number of unique protein sequences = 89160 in the fasta file: pep_files/Homo_sapiens-GCA_018470455.1-2022_07-pep.fa\n",
      "Total number of unique protein sequences = 89084 in the fasta file: pep_files/Homo_sapiens-GCA_018470465.1-2022_07-pep.fa\n",
      "Total number of unique protein sequences = 89078 in the fasta file: pep_files/Homo_sapiens-GCA_018471065.1-2022_08-pep.fa\n",
      "Total number of unique protein sequences = 86629 in the fasta file: pep_files/Homo_sapiens-GCA_018471075.1-2022_08-pep.fa\n",
      "Total number of unique protein sequences = 89040 in the fasta file: pep_files/Homo_sapiens-GCA_018471085.1-2022_08-pep.fa\n",
      "Total number of unique protein sequences = 89184 in the fasta file: pep_files/Homo_sapiens-GCA_018471095.1-2022_08-pep.fa\n",
      "Total number of unique protein sequences = 89192 in the fasta file: pep_files/Homo_sapiens-GCA_018471105.1-2022_08-pep.fa\n",
      "Total number of unique protein sequences = 89181 in the fasta file: pep_files/Homo_sapiens-GCA_018471345.1-2022_08-pep.fa\n",
      "Total number of unique protein sequences = 89225 in the fasta file: pep_files/Homo_sapiens-GCA_018471515.1-2022_08-pep.fa\n",
      "Total number of unique protein sequences = 89198 in the fasta file: pep_files/Homo_sapiens-GCA_018471525.1-2022_08-pep.fa\n",
      "Total number of unique protein sequences = 89239 in the fasta file: pep_files/Homo_sapiens-GCA_018471535.1-2022_08-pep.fa\n",
      "Total number of unique protein sequences = 89251 in the fasta file: pep_files/Homo_sapiens-GCA_018471545.1-2022_08-pep.fa\n",
      "Total number of unique protein sequences = 86448 in the fasta file: pep_files/Homo_sapiens-GCA_018471555.1-2022_08-pep.fa\n",
      "Total number of unique protein sequences = 89293 in the fasta file: pep_files/Homo_sapiens-GCA_018472565.1-2022_08-pep.fa\n",
      "Total number of unique protein sequences = 86513 in the fasta file: pep_files/Homo_sapiens-GCA_018472575.1-2022_08-pep.fa\n",
      "Total number of unique protein sequences = 86527 in the fasta file: pep_files/Homo_sapiens-GCA_018472585.1-2022_08-pep.fa\n",
      "Total number of unique protein sequences = 89199 in the fasta file: pep_files/Homo_sapiens-GCA_018472595.1-2022_08-pep.fa\n",
      "Total number of unique protein sequences = 89135 in the fasta file: pep_files/Homo_sapiens-GCA_018472605.1-2022_08-pep.fa\n",
      "Total number of unique protein sequences = 89173 in the fasta file: pep_files/Homo_sapiens-GCA_018472685.1-2022_08-pep.fa\n",
      "Total number of unique protein sequences = 89133 in the fasta file: pep_files/Homo_sapiens-GCA_018472695.1-2022_08-pep.fa\n",
      "Total number of unique protein sequences = 86381 in the fasta file: pep_files/Homo_sapiens-GCA_018472705.1-2022_08-pep.fa\n",
      "Total number of unique protein sequences = 89177 in the fasta file: pep_files/Homo_sapiens-GCA_018472715.1-2022_08-pep.fa\n",
      "Total number of unique protein sequences = 88984 in the fasta file: pep_files/Homo_sapiens-GCA_018472725.1-2022_08-pep.fa\n",
      "Total number of unique protein sequences = 89206 in the fasta file: pep_files/Homo_sapiens-GCA_018472765.1-2022_08-pep.fa\n",
      "Total number of unique protein sequences = 89183 in the fasta file: pep_files/Homo_sapiens-GCA_018472825.1-2022_08-pep.fa\n",
      "Total number of unique protein sequences = 86542 in the fasta file: pep_files/Homo_sapiens-GCA_018472835.1-2022_08-pep.fa\n",
      "Total number of unique protein sequences = 89239 in the fasta file: pep_files/Homo_sapiens-GCA_018472845.1-2022_08-pep.fa\n",
      "Total number of unique protein sequences = 89255 in the fasta file: pep_files/Homo_sapiens-GCA_018472855.1-2022_08-pep.fa\n",
      "Total number of unique protein sequences = 89168 in the fasta file: pep_files/Homo_sapiens-GCA_018472865.1-2022_08-pep.fa\n",
      "Total number of unique protein sequences = 89023 in the fasta file: pep_files/Homo_sapiens-GCA_018473295.1-2022_08-pep.fa\n",
      "Total number of unique protein sequences = 89288 in the fasta file: pep_files/Homo_sapiens-GCA_018473305.1-2022_08-pep.fa\n",
      "Total number of unique protein sequences = 89095 in the fasta file: pep_files/Homo_sapiens-GCA_018473315.1-2022_08-pep.fa\n",
      "Total number of unique protein sequences = 89213 in the fasta file: pep_files/Homo_sapiens-GCA_018503245.1-2022_07-pep.fa\n",
      "Total number of unique protein sequences = 89193 in the fasta file: pep_files/Homo_sapiens-GCA_018503255.1-2022_07-pep.fa\n",
      "Total number of unique protein sequences = 89175 in the fasta file: pep_files/Homo_sapiens-GCA_018503265.1-2022_07-pep.fa\n",
      "Total number of unique protein sequences = 89196 in the fasta file: pep_files/Homo_sapiens-GCA_018503275.1-2022_07-pep.fa\n",
      "Total number of unique protein sequences = 89240 in the fasta file: pep_files/Homo_sapiens-GCA_018503285.1-2022_07-pep.fa\n",
      "Total number of unique protein sequences = 89238 in the fasta file: pep_files/Homo_sapiens-GCA_018503525.1-2022_07-pep.fa\n",
      "Total number of unique protein sequences = 89062 in the fasta file: pep_files/Homo_sapiens-GCA_018503575.1-2022_07-pep.fa\n",
      "Total number of unique protein sequences = 89013 in the fasta file: pep_files/Homo_sapiens-GCA_018503585.1-2022_07-pep.fa\n",
      "Total number of unique protein sequences = 86427 in the fasta file: pep_files/Homo_sapiens-GCA_018504045.1-2022_07-pep.fa\n"
     ]
    },
    {
     "name": "stdout",
     "output_type": "stream",
     "text": [
      "Total number of unique protein sequences = 89147 in the fasta file: pep_files/Homo_sapiens-GCA_018504055.1-2022_07-pep.fa\n",
      "Total number of unique protein sequences = 89142 in the fasta file: pep_files/Homo_sapiens-GCA_018504065.1-2022_07-pep.fa\n",
      "Total number of unique protein sequences = 89059 in the fasta file: pep_files/Homo_sapiens-GCA_018504075.1-2022_07-pep.fa\n",
      "Total number of unique protein sequences = 89108 in the fasta file: pep_files/Homo_sapiens-GCA_018504085.1-2022_07-pep.fa\n",
      "Total number of unique protein sequences = 89128 in the fasta file: pep_files/Homo_sapiens-GCA_018504365.1-2022_07-pep.fa\n",
      "Total number of unique protein sequences = 89088 in the fasta file: pep_files/Homo_sapiens-GCA_018504375.1-2022_07-pep.fa\n",
      "Total number of unique protein sequences = 89167 in the fasta file: pep_files/Homo_sapiens-GCA_018504625.1-2022_07-pep.fa\n",
      "Total number of unique protein sequences = 89145 in the fasta file: pep_files/Homo_sapiens-GCA_018504635.1-2022_07-pep.fa\n",
      "Total number of unique protein sequences = 86510 in the fasta file: pep_files/Homo_sapiens-GCA_018504645.1-2022_07-pep.fa\n",
      "Total number of unique protein sequences = 89143 in the fasta file: pep_files/Homo_sapiens-GCA_018504655.1-2022_07-pep.fa\n",
      "Total number of unique protein sequences = 89170 in the fasta file: pep_files/Homo_sapiens-GCA_018504665.1-2022_07-pep.fa\n",
      "Total number of unique protein sequences = 89032 in the fasta file: pep_files/Homo_sapiens-GCA_018505825.1-2022_07-pep.fa\n",
      "Total number of unique protein sequences = 86532 in the fasta file: pep_files/Homo_sapiens-GCA_018505835.1-2022_07-pep.fa\n",
      "Total number of unique protein sequences = 89155 in the fasta file: pep_files/Homo_sapiens-GCA_018505845.1-2022_07-pep.fa\n",
      "Total number of unique protein sequences = 86469 in the fasta file: pep_files/Homo_sapiens-GCA_018505855.1-2022_07-pep.fa\n",
      "Total number of unique protein sequences = 89143 in the fasta file: pep_files/Homo_sapiens-GCA_018505865.1-2022_07-pep.fa\n",
      "Total number of unique protein sequences = 89162 in the fasta file: pep_files/Homo_sapiens-GCA_018506125.1-2022_07-pep.fa\n",
      "Total number of unique protein sequences = 86385 in the fasta file: pep_files/Homo_sapiens-GCA_018506155.1-2022_07-pep.fa\n",
      "Total number of unique protein sequences = 89168 in the fasta file: pep_files/Homo_sapiens-GCA_018506165.1-2022_07-pep.fa\n",
      "Total number of unique protein sequences = 86457 in the fasta file: pep_files/Homo_sapiens-GCA_018506945.1-2022_07-pep.fa\n",
      "Total number of unique protein sequences = 89201 in the fasta file: pep_files/Homo_sapiens-GCA_018506955.1-2022_07-pep.fa\n",
      "Total number of unique protein sequences = 89185 in the fasta file: pep_files/Homo_sapiens-GCA_018506965.1-2022_07-pep.fa\n",
      "Total number of unique protein sequences = 89153 in the fasta file: pep_files/Homo_sapiens-GCA_018506975.1-2022_07-pep.fa\n",
      "Total number of unique protein sequences = 89017 in the fasta file: pep_files/Homo_sapiens-GCA_018852585.1-2022_07-pep.fa\n",
      "Total number of unique protein sequences = 86463 in the fasta file: pep_files/Homo_sapiens-GCA_018852595.1-2022_07-pep.fa\n",
      "Total number of unique protein sequences = 86598 in the fasta file: pep_files/Homo_sapiens-GCA_018852605.1-2022_07-pep.fa\n",
      "Total number of unique protein sequences = 89223 in the fasta file: pep_files/Homo_sapiens-GCA_018852615.1-2022_07-pep.fa\n",
      "Total number of unique protein sequences = 86627 in the fasta file: pep_files/Homo_sapiens-GCA_021950905.1-2022_07-pep.fa\n",
      "Total number of unique protein sequences = 89265 in the fasta file: pep_files/Homo_sapiens-GCA_021951015.1-2022_07-pep.fa\n",
      "Numner of peptides found in the protein files 4981 and number of peptides 8553\n"
     ]
    }
   ],
   "source": [
    "#search each protein file and report proteins that contain the peptides\n",
    "peps_prots = {}\n",
    "for prot_file in glob('pep_files/*.fa'):\n",
    "    prot_seqs = set()\n",
    "    prots_dict = {}\n",
    "    parsed_file = SeqIO.parse(prot_file, 'fasta')\n",
    "    sample_name = prot_file.split('/')[-1].split('-')[1]\n",
    "\n",
    "    for record in parsed_file:\n",
    "        try:\n",
    "            prots_dict[str(record.seq)].append(sample_name + ' ' +  str(record.id) + ' ' + str(record.description))\n",
    "        except KeyError:\n",
    "            prots_dict[str(record.seq)] = [sample_name + ' ' + str(record.id) + ' ' + str(record.description)]\n",
    "    print('Total number of unique protein sequences = {} in the fasta file: {}'.format(len(prots_dict.keys()), prot_file))\n",
    "\n",
    "    #get non-canonical peptides that are found in canonical proteins from ensembl\n",
    "    found_prots = set()\n",
    "    \n",
    "    for prot_seq in prots_dict.keys():\n",
    "        for end_ind, found in auto.iter(prot_seq):\n",
    "            found_prots.add(found)\n",
    "            try:\n",
    "                peps_prots[found].append(prots_dict[prot_seq])\n",
    "            except KeyError:\n",
    "                peps_prots[found] = [prots_dict[prot_seq]]\n",
    "\n",
    "print('Numner of peptides found in the protein files {} and number of peptides {}'.format(len(peps_prots), len(peps)))\n"
   ]
  },
  {
   "cell_type": "markdown",
   "id": "35bb909d",
   "metadata": {},
   "source": [
    "#### 1. info_to_set"
   ]
  },
  {
   "cell_type": "code",
   "execution_count": 6,
   "id": "a673c51f-f2ce-4b12-be02-8ca8c2ca243f",
   "metadata": {},
   "outputs": [],
   "source": [
    "pep_gene_info = {}\n",
    "sample_pep_info = {}\n",
    "gene_pep_info = {}\n",
    "prot_pep_info = {}\n",
    "transcripts_pep_info = {}\n",
    "for pep in set([x[0] for x in filtered_peps[1::]]):\n",
    "    prots = [x.split(' ') for xs in peps_prots[pep] for x in xs]\n",
    "    samples, proteins, genes, gene_symbols, transcripts, gene_biotypes = set(), set(), set(), set(), set(), set()\n",
    "    \n",
    "    for prot in prots:\n",
    "        samples.add(prot[0])\n",
    "        proteins.add(prot[1])\n",
    "        genes.add([x for x in prot if x.startswith('gene:')][0].split(':')[-1])\n",
    "        transcripts.add([x for x in prot if x.startswith('transcript:')][0].split(':')[-1])\n",
    "        gene_biotypes.add([x for x in prot if x.startswith('gene_biotype:')][0].split(':')[-1])\n",
    "        \n",
    "        try:\n",
    "            gene_symbols.add([x for x in prot if x.startswith('gene_symbol:')][0].split(':')[-1])\n",
    "        except IndexError:\n",
    "            pass\n",
    "\n",
    "    for sample in samples:\n",
    "        try:\n",
    "            sample_pep_info[sample].add(pep)\n",
    "        except KeyError:\n",
    "            sample_pep_info[sample] = set()\n",
    "            sample_pep_info[sample].add(pep)\n",
    "    \n",
    "    for gene in genes:\n",
    "        try:\n",
    "            gene_pep_info[gene].add(pep)\n",
    "        except KeyError:\n",
    "            gene_pep_info[gene] = set()\n",
    "            gene_pep_info[gene].add(pep)\n",
    "\n",
    "    for prot_id in proteins:\n",
    "        try:\n",
    "            prot_pep_info[prot_id].add(pep)\n",
    "        except KeyError:\n",
    "            prot_pep_info[prot_id] = set()\n",
    "            prot_pep_info[prot_id].add(pep)\n",
    "    \n",
    "    for transcript in transcripts:\n",
    "        try:\n",
    "            transcripts_pep_info[transcript].add(pep)\n",
    "        except KeyError:\n",
    "            transcripts_pep_info[transcript] = set()\n",
    "            transcripts_pep_info[transcript].add(pep)\n",
    "    \n",
    "    pep_gene_info[pep] = [','.join(gene_symbols), ','.join(gene_biotypes), ','.join(samples), ','.join(proteins), ','.join(genes), ','.join(transcripts)]"
   ]
  },
  {
   "cell_type": "code",
   "execution_count": 7,
   "id": "cf12a75a",
   "metadata": {},
   "outputs": [],
   "source": [
    "with open('peps_all_info_to_set.tsv', 'w') as peps_out:\n",
    "    \n",
    "    peps_out.write('\\t'.join(header) + '\\t' + '\\t'.join(['gene_symbols', 'gene_biotypes', 'samples', 'proteins', 'genes', 'transcripts']) + '\\n')\n",
    "    for pep in filtered_peps[1::]:\n",
    "        try:\n",
    "            peps_out.write('\\t'.join(pep) + '\\t' + '\\t'.join(pep_gene_info[pep[0]])+'\\n')\n",
    "        except KeyError:\n",
    "            print('{} not found in any prot file'.format(pep[0]))"
   ]
  },
  {
   "cell_type": "code",
   "execution_count": 8,
   "id": "bee30c12",
   "metadata": {},
   "outputs": [],
   "source": [
    "def create_info_table(info_dict, index, out_file):\n",
    "    df = pd.DataFrame({'peps': [','.join(values) for values in info_dict.values()],\n",
    "                'Count': [len(values) for values in info_dict.values()]},index=info_dict.keys())\n",
    "    df.index.name = index\n",
    "    df.to_csv(out_file, header=1, sep=\"\\t\")"
   ]
  },
  {
   "cell_type": "code",
   "execution_count": 9,
   "id": "b230906a",
   "metadata": {},
   "outputs": [],
   "source": [
    "create_info_table(sample_pep_info,\"sample\",\"count/sample_peps.tsv\")\n",
    "create_info_table(gene_pep_info,\"gene\",\"count/gene_peps.tsv\")\n",
    "create_info_table(prot_pep_info,\"protein\",\"count/protein_peps.tsv\")\n",
    "create_info_table(transcripts_pep_info,\"transcripts\",\"count/transcripts_peps.tsv\")"
   ]
  },
  {
   "cell_type": "code",
   "execution_count": 10,
   "id": "968e6926",
   "metadata": {},
   "outputs": [],
   "source": [
    "res_set = pd.read_table(\"peps_all_info_to_set.tsv\")\n",
    "res_set.drop_duplicates([\"sequence_x\"])\n",
    "\n",
    "def get_count(info_str):\n",
    "    return len(info_str.split(\",\"))\n",
    "res_set[\"samples_count\"] = res_set[\"samples\"].apply(get_count)\n",
    "res_set[\"proteins_count\"] = res_set[\"proteins\"].apply(get_count)\n",
    "res_set[\"genes_count\"] = res_set[\"genes\"].apply(get_count)\n",
    "res_set[\"transcripts_count\"] = res_set[\"transcripts\"].apply(get_count)\n",
    "res_set = res_set[[\"seq\",\"samples\",\"samples_count\",\"proteins\",\"proteins_count\",\"genes\",\"genes_count\",\"transcripts\",\"transcripts_count\"]]\n",
    "res_set.to_csv(\"count/peps_others_count.tsv\", header=1, sep=\"\\t\",index = None)"
   ]
  },
  {
   "cell_type": "markdown",
   "id": "c0c0c336",
   "metadata": {},
   "source": [
    "#### 2. info_to_list"
   ]
  },
  {
   "cell_type": "code",
   "execution_count": 11,
   "id": "a1f582ff",
   "metadata": {},
   "outputs": [],
   "source": [
    "pep_gene_info = {}\n",
    "for pep in set([x[0] for x in filtered_peps[1::]]):\n",
    "    prots = [x.split(' ') for xs in peps_prots[pep] for x in xs]\n",
    "    samples, proteins, genes, gene_symbols, transcripts, gene_biotypes = list(), list(), list(), list(), list(), list()\n",
    "\n",
    "    for prot in prots:\n",
    "        samples.append(prot[0])\n",
    "        proteins.append(prot[1])\n",
    "        genes.append([x for x in prot if x.startswith('gene:')][0].split(':')[-1])\n",
    "        transcripts.append([x for x in prot if x.startswith('transcript:')][0].split(':')[-1])\n",
    "        gene_biotypes.append([x for x in prot if x.startswith('gene_biotype:')][0].split(':')[-1])\n",
    "        \n",
    "        try:\n",
    "            gene_symbols.append([x for x in prot if x.startswith('gene_symbol:')][0].split(':')[-1])\n",
    "        except IndexError:\n",
    "            pass\n",
    "    \n",
    "    pep_gene_info[pep] = [','.join(gene_symbols), ','.join(gene_biotypes), ','.join(samples), ','.join(proteins), ','.join(genes), ','.join(transcripts)]"
   ]
  },
  {
   "cell_type": "code",
   "execution_count": 12,
   "id": "3a9c3bd1",
   "metadata": {},
   "outputs": [],
   "source": [
    "with open('peps_all_info_to_list.tsv', 'w') as peps_out:\n",
    "    \n",
    "    peps_out.write('\\t'.join(header) + '\\t' + '\\t'.join(['gene_symbols', 'gene_biotypes', 'samples', 'proteins', 'genes', 'transcripts']) + '\\n')\n",
    "    for pep in filtered_peps[1::]:\n",
    "        try:\n",
    "            peps_out.write('\\t'.join(pep) + '\\t' + '\\t'.join(pep_gene_info[pep[0]])+'\\n')\n",
    "        except KeyError:\n",
    "            print('{} not found in any prot file'.format(pep[0]))"
   ]
  },
  {
   "cell_type": "markdown",
   "id": "2de33d68",
   "metadata": {},
   "source": [
    "#### 3. info_to_str"
   ]
  },
  {
   "cell_type": "code",
   "execution_count": 13,
   "id": "d8524008",
   "metadata": {},
   "outputs": [],
   "source": [
    "pep_gene_info = {}\n",
    "for pep in set([x[0] for x in filtered_peps[1::]]):\n",
    "    prots = [x.split(' ') for xs in peps_prots[pep] for x in xs]\n",
    "#     samples, proteins, genes, gene_symbols, transcripts, gene_biotypes = list(), list(), list(), list(), list(), list()\n",
    "    infos = []\n",
    "    for prot in prots:\n",
    "        info = []\n",
    "        info.append(prot[0])\n",
    "        info.append(prot[1])\n",
    "        info.append([x for x in prot if x.startswith('gene:')][0].split(':')[-1])\n",
    "        info.append([x for x in prot if x.startswith('transcript:')][0].split(':')[-1])\n",
    "        info.append([x for x in prot if x.startswith('gene_biotype:')][0].split(':')[-1])\n",
    "        \n",
    "        try:\n",
    "            info.append([x for x in prot if x.startswith('gene_symbol:')][0].split(':')[-1])\n",
    "        except IndexError:\n",
    "            pass\n",
    "        infos.append(','.join(info))\n",
    "    \n",
    "    pep_gene_info[pep] = ';'.join(infos)"
   ]
  },
  {
   "cell_type": "code",
   "execution_count": 14,
   "id": "5f682578",
   "metadata": {},
   "outputs": [],
   "source": [
    "with open('peps_all_info_to_str.tsv', 'w') as peps_out:\n",
    "    \n",
    "    peps_out.write('\\t'.join(header) + '\\t' + 'all_info'+ '\\n')\n",
    "    for pep in filtered_peps[1::]:\n",
    "        try:\n",
    "            peps_out.write('\\t'.join(pep) + '\\t' + pep_gene_info[pep[0]] +'\\n')\n",
    "        except KeyError:\n",
    "            print('{} not found in any prot file'.format(pep[0]))\n"
   ]
  },
  {
   "cell_type": "code",
   "execution_count": null,
   "id": "8014935c",
   "metadata": {},
   "outputs": [],
   "source": []
  }
 ],
 "metadata": {
  "kernelspec": {
   "display_name": "Python 3 (ipykernel)",
   "language": "python",
   "name": "python3"
  },
  "language_info": {
   "codemirror_mode": {
    "name": "ipython",
    "version": 3
   },
   "file_extension": ".py",
   "mimetype": "text/x-python",
   "name": "python",
   "nbconvert_exporter": "python",
   "pygments_lexer": "ipython3",
   "version": "3.8.17"
  }
 },
 "nbformat": 4,
 "nbformat_minor": 5
}
