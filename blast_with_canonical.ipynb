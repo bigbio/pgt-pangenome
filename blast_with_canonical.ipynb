{
 "cells": [
  {
   "cell_type": "code",
   "execution_count": 3,
   "id": "eeec318b",
   "metadata": {},
   "outputs": [
    {
     "name": "stderr",
     "output_type": "stream",
     "text": [
      "D:\\Pythoncode\\venv3.7.9\\lib\\site-packages\\Bio\\pairwise2.py:283: BiopythonDeprecationWarning: Bio.pairwise2 has been deprecated, and we intend to remove it in a future release of Biopython. As an alternative, please consider using Bio.Align.PairwiseAligner as a replacement, and contact the Biopython developers if you still need the Bio.pairwise2 module.\n",
      "  BiopythonDeprecationWarning,\n"
     ]
    }
   ],
   "source": [
    "import pandas as pd\n",
    "from glob import glob\n",
    "import ahocorasick\n",
    "from Bio import pairwise2,SeqIO\n",
    "from tqdm import tqdm"
   ]
  },
  {
   "cell_type": "code",
   "execution_count": 4,
   "id": "6d0dfd0a",
   "metadata": {},
   "outputs": [],
   "source": [
    "# final_pep_gene_symbol = pd.read_table(\"/mnt/nfs/wangd/project/paper_db/count/peps_gene_symbol.tsv\")\n",
    "final_pep_gene_symbol = pd.read_table(\"F:\\HPC\\paper_db\\count\\peps_gene_symbol.tsv\")"
   ]
  },
  {
   "cell_type": "code",
   "execution_count": 5,
   "id": "060f7fce",
   "metadata": {},
   "outputs": [
    {
     "data": {
      "text/plain": "                               sequence_x     protein_accessions  \\\n0           AAAAAAAAAPAAAATAATTAATTAATAAQ             GCA_109298   \n1                            AAAAPAPPAGPR             GCA_161748   \n2        AAAGDLGGDHLAFSCDVAKEHDVQNTFEEMEK              GCA_60405   \n3        AAAGDLGGDHLAFSCDVAKEHDVQNTFEEMEK              GCA_60405   \n4        AAAGDLGGDHLAFSCDVAKEHDVQNTFEEMEK              GCA_60405   \n...                                   ...                    ...   \n6203  YWCNDGKNPGAVNACHLSCSALLQDNIADAVACAK             GCA_170013   \n6204  YWCNDGKNPGAVNACHLSCSALLQDNIADAVACAK             GCA_170013   \n6205  YWCNDGKNPGAVNACHLSCSALLQDNIADAVACAK             GCA_170013   \n6206         YWMHFCGGSLIHPQWVLTAAHCLGPDVK  GCA_284206,GCA_284208   \n6207                          YYNAKTEDKVR             GCA_154212   \n\n                                            peptidoform gene_symbol  \n0                         AAAAAAAAAPAAAATAATTAATTAATAAQ       SRP14  \n1                                          AAAAPAPPAGPR        PLK3  \n2     AAAGDLGGDHLAFSC[Carbamidomethyl]DVAKEHDVQNTFEEMEK        CBR4  \n3     AAAGDLGGDHLAFSC[Carbamidomethyl]DVAKEHDVQ[Deam...        CBR4  \n4     AAAGDLGGDHLAFSC[Carbamidomethyl]DVAKEHDVQ[Deam...        CBR4  \n...                                                 ...         ...  \n6203  YWC[Carbamidomethyl]NDGKN[Deamidated]PGAVNAC[C...         LYZ  \n6204  YWC[Carbamidomethyl]NDGKN[Deamidated]PGAVN[Dea...         LYZ  \n6205  YWC[Carbamidomethyl]NDGKN[Deamidated]PGAVNAC[C...         LYZ  \n6206  YWM[Oxidation]HFC[Carbamidomethyl]GGSLIHPQ[Dea...      TPSAB1  \n6207                            YYN[Deamidated]AKTEDKVR       CASP4  \n\n[6208 rows x 4 columns]",
      "text/html": "<div>\n<style scoped>\n    .dataframe tbody tr th:only-of-type {\n        vertical-align: middle;\n    }\n\n    .dataframe tbody tr th {\n        vertical-align: top;\n    }\n\n    .dataframe thead th {\n        text-align: right;\n    }\n</style>\n<table border=\"1\" class=\"dataframe\">\n  <thead>\n    <tr style=\"text-align: right;\">\n      <th></th>\n      <th>sequence_x</th>\n      <th>protein_accessions</th>\n      <th>peptidoform</th>\n      <th>gene_symbol</th>\n    </tr>\n  </thead>\n  <tbody>\n    <tr>\n      <th>0</th>\n      <td>AAAAAAAAAPAAAATAATTAATTAATAAQ</td>\n      <td>GCA_109298</td>\n      <td>AAAAAAAAAPAAAATAATTAATTAATAAQ</td>\n      <td>SRP14</td>\n    </tr>\n    <tr>\n      <th>1</th>\n      <td>AAAAPAPPAGPR</td>\n      <td>GCA_161748</td>\n      <td>AAAAPAPPAGPR</td>\n      <td>PLK3</td>\n    </tr>\n    <tr>\n      <th>2</th>\n      <td>AAAGDLGGDHLAFSCDVAKEHDVQNTFEEMEK</td>\n      <td>GCA_60405</td>\n      <td>AAAGDLGGDHLAFSC[Carbamidomethyl]DVAKEHDVQNTFEEMEK</td>\n      <td>CBR4</td>\n    </tr>\n    <tr>\n      <th>3</th>\n      <td>AAAGDLGGDHLAFSCDVAKEHDVQNTFEEMEK</td>\n      <td>GCA_60405</td>\n      <td>AAAGDLGGDHLAFSC[Carbamidomethyl]DVAKEHDVQ[Deam...</td>\n      <td>CBR4</td>\n    </tr>\n    <tr>\n      <th>4</th>\n      <td>AAAGDLGGDHLAFSCDVAKEHDVQNTFEEMEK</td>\n      <td>GCA_60405</td>\n      <td>AAAGDLGGDHLAFSC[Carbamidomethyl]DVAKEHDVQ[Deam...</td>\n      <td>CBR4</td>\n    </tr>\n    <tr>\n      <th>...</th>\n      <td>...</td>\n      <td>...</td>\n      <td>...</td>\n      <td>...</td>\n    </tr>\n    <tr>\n      <th>6203</th>\n      <td>YWCNDGKNPGAVNACHLSCSALLQDNIADAVACAK</td>\n      <td>GCA_170013</td>\n      <td>YWC[Carbamidomethyl]NDGKN[Deamidated]PGAVNAC[C...</td>\n      <td>LYZ</td>\n    </tr>\n    <tr>\n      <th>6204</th>\n      <td>YWCNDGKNPGAVNACHLSCSALLQDNIADAVACAK</td>\n      <td>GCA_170013</td>\n      <td>YWC[Carbamidomethyl]NDGKN[Deamidated]PGAVN[Dea...</td>\n      <td>LYZ</td>\n    </tr>\n    <tr>\n      <th>6205</th>\n      <td>YWCNDGKNPGAVNACHLSCSALLQDNIADAVACAK</td>\n      <td>GCA_170013</td>\n      <td>YWC[Carbamidomethyl]NDGKN[Deamidated]PGAVNAC[C...</td>\n      <td>LYZ</td>\n    </tr>\n    <tr>\n      <th>6206</th>\n      <td>YWMHFCGGSLIHPQWVLTAAHCLGPDVK</td>\n      <td>GCA_284206,GCA_284208</td>\n      <td>YWM[Oxidation]HFC[Carbamidomethyl]GGSLIHPQ[Dea...</td>\n      <td>TPSAB1</td>\n    </tr>\n    <tr>\n      <th>6207</th>\n      <td>YYNAKTEDKVR</td>\n      <td>GCA_154212</td>\n      <td>YYN[Deamidated]AKTEDKVR</td>\n      <td>CASP4</td>\n    </tr>\n  </tbody>\n</table>\n<p>6208 rows × 4 columns</p>\n</div>"
     },
     "execution_count": 5,
     "metadata": {},
     "output_type": "execute_result"
    }
   ],
   "source": [
    "final_pep_gene_symbol"
   ]
  },
  {
   "cell_type": "code",
   "execution_count": 6,
   "outputs": [],
   "source": [
    "all_res_peps = set(final_pep_gene_symbol[\"sequence_x\"])"
   ],
   "metadata": {
    "collapsed": false
   }
  },
  {
   "cell_type": "code",
   "execution_count": 7,
   "id": "ae7fbe8b",
   "metadata": {},
   "outputs": [],
   "source": [
    "gene_symbol_proteins = {}\n",
    "# for record in SeqIO.parse(\"/mnt/nfs/wangd/project/paper_db/pep_files/save_tmp/Homo_sapiens-GRCh38_all-pep.fa\", 'fasta'):\n",
    "for record in SeqIO.parse(\"F:\\HPC\\paper_db\\pep_files\\save_tmp\\Homo_sapiens-GRCh38_all-pep.fa\", 'fasta'):\n",
    "    gene_symbol_list = [x for x in record.description.split(\" \") if x.startswith('gene_symbol:')]\n",
    "    if gene_symbol_list:\n",
    "        gene_symbol = gene_symbol_list[0].split(':')[-1]\n",
    "    else:\n",
    "        continue\n",
    "    try:\n",
    "        gene_symbol_proteins[gene_symbol].append(str(record.seq) + ';' + str(record.description))\n",
    "    except KeyError:\n",
    "        gene_symbol_proteins[gene_symbol] = [str(record.seq) + ';' + str(record.description)]"
   ]
  },
  {
   "cell_type": "code",
   "execution_count": 8,
   "outputs": [
    {
     "name": "stdout",
     "output_type": "stream",
     "text": [
      "There are 25 peptides with no corresponding gene symbol found.\n",
      "NTLYHQMNSLRAEDTAVYYCAR\n",
      "LSCAASGFTFSTYGMHWVR\n",
      "DLCPLLSEHGLQCSLEPHLNSNLCVYCCK\n",
      "AEDTAVYFCAK\n",
      "ASQSISTWLAWYQQKPGK\n",
      "KTPESFLGPNAALVDLDSLVSRPGPTLPGAK\n",
      "TGEVVLTQSPGTLSLSPGER\n",
      "YKSDSDNQQGSGVPSR\n",
      "SSPVFQIPKNDNIPEQDSLGLSNLQK\n",
      "LEEECEGREPGLETGTQAADCKDAPLK\n",
      "ASGYTFTNNGITWVR\n",
      "ANGGTTDYAAPVK\n",
      "DTSISTAYMDLSR\n",
      "ESGPVLVKPTETLTLTCTISGFSLSNAR\n",
      "SAGGGTYYADSVK\n",
      "SKANGGTTDYAAPVK\n",
      "LEWMGWINTGNGNTK\n",
      "ASGYTYTDYYMHWVR\n",
      "TPESFLGPNAALVDLDSLVSRPGPTLPGAK\n",
      "VLIYGASSLQSGVPSR\n",
      "LLIFGASTR\n",
      "LSCAVSGFTFSSYAMHWVR\n",
      "NQVVLTMTNMNPVDTATYYCAR\n",
      "LEEECEGREPGLETGTQAADCK\n",
      "NDNIPEQDSLGLSNLQK\n"
     ]
    }
   ],
   "source": [
    "seq_gene_symbol_set = set()\n",
    "seq_no_gene_symbol_set = set()\n",
    "for index,row in final_pep_gene_symbol.iterrows():\n",
    "    try:\n",
    "        gene_symbols = row[\"gene_symbol\"].split(\",\")\n",
    "        for gene_symbol in gene_symbols:\n",
    "            seq_gene_symbol_set.add(row[\"sequence_x\"] + '+' + gene_symbol)\n",
    "    except AttributeError:\n",
    "        seq_no_gene_symbol_set.add(row[\"sequence_x\"])\n",
    "\n",
    "print(\"There are {} peptides with no corresponding gene symbol found.\".format(len(seq_no_gene_symbol_set)))\n",
    "for seq in seq_no_gene_symbol_set:\n",
    "    print(seq)"
   ],
   "metadata": {
    "collapsed": false
   }
  },
  {
   "cell_type": "code",
   "execution_count": 9,
   "outputs": [],
   "source": [
    "gene_symbol_set = set()\n",
    "for i in seq_gene_symbol_set:\n",
    "    if i.split(\"+\")[1]:\n",
    "        gene_symbol_set.add(i.split(\"+\")[1])"
   ],
   "metadata": {
    "collapsed": false
   }
  },
  {
   "cell_type": "code",
   "execution_count": 10,
   "outputs": [
    {
     "data": {
      "text/plain": "1951"
     },
     "execution_count": 10,
     "metadata": {},
     "output_type": "execute_result"
    }
   ],
   "source": [
    "len(gene_symbol_set)"
   ],
   "metadata": {
    "collapsed": false
   }
  },
  {
   "cell_type": "code",
   "execution_count": 11,
   "id": "69b9843a",
   "metadata": {},
   "outputs": [
    {
     "name": "stderr",
     "output_type": "stream",
     "text": [
      "100%|██████████| 3537/3537 [00:12<00:00, 279.53it/s]"
     ]
    },
    {
     "name": "stdout",
     "output_type": "stream",
     "text": [
      "There are 14 gene_symbols with no corresponding canonical protein sequence found.\n",
      "DDX58\n",
      "UHRF1BP1\n",
      "FAM207A\n",
      "FAM160B1\n",
      "apol1\n",
      "GBA\n",
      "srpk1a\n",
      "H2BS1\n",
      "WDR92\n",
      "CBWD2\n",
      "FAM160B2\n",
      "EEF1AKNMT\n",
      "Pwp2\n",
      "SKIV2L\n"
     ]
    },
    {
     "name": "stderr",
     "output_type": "stream",
     "text": [
      "\n"
     ]
    }
   ],
   "source": [
    "blast_infos = dict()\n",
    "gene_symbol_no_protein_set = set()\n",
    "for seq_gene_symbol in tqdm(seq_gene_symbol_set):\n",
    "    pep_seq = seq_gene_symbol.split(\"+\")[0]\n",
    "    gene_symbol = seq_gene_symbol.split(\"+\")[1]\n",
    "    if gene_symbol in gene_symbol_proteins.keys():\n",
    "        for info in gene_symbol_proteins[gene_symbol]:\n",
    "            prot_seq = info.split(\";\")[0]\n",
    "            prot_info = info.split(\";\")[1]\n",
    "\n",
    "            alignments_score = pairwise2.align.localms(sequenceA = prot_seq,sequenceB = pep_seq,match = 1,mismatch = -1,open = -1,extend = -1,score_only = True)\n",
    "            if alignments_score >= len(pep_seq) - 4:\n",
    "                try:\n",
    "                    blast_infos[seq_gene_symbol].append(info)\n",
    "                except KeyError:\n",
    "                    blast_infos[seq_gene_symbol] = [info]\n",
    "    else:\n",
    "        gene_symbol_no_protein_set.add(gene_symbol)\n",
    "print(\"There are {} gene_symbols with no corresponding canonical protein sequence found.\".format(len(gene_symbol_no_protein_set)))        \n",
    "for gene_symbol in gene_symbol_no_protein_set:\n",
    "    print(gene_symbol)"
   ]
  },
  {
   "cell_type": "markdown",
   "source": [
    "#### Peptide + gene_symbol + protein"
   ],
   "metadata": {
    "collapsed": false
   }
  },
  {
   "cell_type": "code",
   "execution_count": 12,
   "id": "9b167de9",
   "metadata": {},
   "outputs": [],
   "source": [
    "peptide_gene_symbol_protein = dict()\n",
    "for key, value in blast_infos.items():\n",
    "    prot_set = set()\n",
    "    \n",
    "    pep_seq = key.split(\"+\")[0]\n",
    "    gene_symbol = key.split(\"+\")[1]\n",
    "    \n",
    "    for info in value:\n",
    "        prot_set.add(info.split(\";\")[0])\n",
    "\n",
    "    if peptide_gene_symbol_protein.get(pep_seq):\n",
    "        peptide_gene_symbol_protein[pep_seq][gene_symbol] = prot_set\n",
    "    else:\n",
    "        peptide_gene_symbol_protein[pep_seq] = {gene_symbol:prot_set}"
   ]
  },
  {
   "cell_type": "code",
   "execution_count": 13,
   "id": "04859806",
   "metadata": {},
   "outputs": [],
   "source": [
    "df = pd.DataFrame([(peptide, gene_symbol, \",\".join(protein)) for peptide, inner_dict in peptide_gene_symbol_protein.items() for gene_symbol, protein in inner_dict.items()], \n",
    "                  columns=['peptide', 'gene_symbol', 'protein'])\n",
    "# df.to_csv(\"/mnt/nfs/wangd/project/paper_db/count/blast_canonical_count/peptide_gene_symbol_protein.tsv\", header=1, sep=\"\\t\", index = None)\n",
    "df.to_csv(r\"F:\\HPC\\paper_db\\count\\blast_canonical_count\\peptide_gene_symbol_protein1.tsv\", header=1, sep=\"\\t\", index = None)"
   ]
  },
  {
   "cell_type": "code",
   "execution_count": 14,
   "outputs": [
    {
     "data": {
      "text/plain": "                                peptide gene_symbol  \\\n0                        LDNLFLEQEDEEEK        CUL9   \n1                          FSQPELSEHPQK       PRAM1   \n2     AHTTSTGLWGLINNAGHNEVVADAELSPVATFR     HSD11B2   \n3                TSGLAGEPEGELSKEDHGNTEK        MIA3   \n4                             VLDEHIQER       CEP57   \n...                                 ...         ...   \n3450                         TQLHEDLLPR      PTPRN2   \n3451                    QCQQLQTAIAEVEQR       KRT79   \n3452      NLHMAEAPANLEQPTSSFHVGTCFANAQR       LAMA2   \n3453                   HPPPPPFQNQQRPPQR        PRR4   \n3454                       AYQYHSYNGWNR     DNAJC10   \n\n                                                protein  \n0     MVGERHAGDLMVPLGPRLQAYPEELIRQRPGHDGHPEYLIRWSVLK...  \n1     MAHHLPAAMESHQDFRSIKAKFQASQPEPSDLPKKPPKPEFGKLKK...  \n2     MERWPWPSGGAWLLVAARALLQLLRSDLRLGRPLLAALALLAALDW...  \n3     XLVPDSKQGKPQSATDYSDPDNVDDGLFIVDIPKTNNDKEVNAEHH...  \n4     MVRHSSSPYVVYPSDKPFLNSDLRRSPSKPTLAYPESNSRAIFSAL...  \n...                                                 ...  \n3450  MGPPLPLLLLLLLLLPPRVLPAAPSSVPRGRQLPGRLDGVFGRCQK...  \n3451  MRSSVSRQTYSTKGGFSSNSASGGSGSQARTSFSSVTVSRSSGSGG...  \n3452  MQNLTVEQPIEVKKLFVGGAPPEFQPSPLRNIPPFEGCIWNLVINS...  \n3453  MWRGIDSIYPYELLQKNILPAGTCCIYSRVEVFTDVNYEDFTFTIP...  \n3454  MAILVGTDQDFYSLLGVSKTASSREIRQAFKKLALKLHPDKNPNNP...  \n\n[3455 rows x 3 columns]",
      "text/html": "<div>\n<style scoped>\n    .dataframe tbody tr th:only-of-type {\n        vertical-align: middle;\n    }\n\n    .dataframe tbody tr th {\n        vertical-align: top;\n    }\n\n    .dataframe thead th {\n        text-align: right;\n    }\n</style>\n<table border=\"1\" class=\"dataframe\">\n  <thead>\n    <tr style=\"text-align: right;\">\n      <th></th>\n      <th>peptide</th>\n      <th>gene_symbol</th>\n      <th>protein</th>\n    </tr>\n  </thead>\n  <tbody>\n    <tr>\n      <th>0</th>\n      <td>LDNLFLEQEDEEEK</td>\n      <td>CUL9</td>\n      <td>MVGERHAGDLMVPLGPRLQAYPEELIRQRPGHDGHPEYLIRWSVLK...</td>\n    </tr>\n    <tr>\n      <th>1</th>\n      <td>FSQPELSEHPQK</td>\n      <td>PRAM1</td>\n      <td>MAHHLPAAMESHQDFRSIKAKFQASQPEPSDLPKKPPKPEFGKLKK...</td>\n    </tr>\n    <tr>\n      <th>2</th>\n      <td>AHTTSTGLWGLINNAGHNEVVADAELSPVATFR</td>\n      <td>HSD11B2</td>\n      <td>MERWPWPSGGAWLLVAARALLQLLRSDLRLGRPLLAALALLAALDW...</td>\n    </tr>\n    <tr>\n      <th>3</th>\n      <td>TSGLAGEPEGELSKEDHGNTEK</td>\n      <td>MIA3</td>\n      <td>XLVPDSKQGKPQSATDYSDPDNVDDGLFIVDIPKTNNDKEVNAEHH...</td>\n    </tr>\n    <tr>\n      <th>4</th>\n      <td>VLDEHIQER</td>\n      <td>CEP57</td>\n      <td>MVRHSSSPYVVYPSDKPFLNSDLRRSPSKPTLAYPESNSRAIFSAL...</td>\n    </tr>\n    <tr>\n      <th>...</th>\n      <td>...</td>\n      <td>...</td>\n      <td>...</td>\n    </tr>\n    <tr>\n      <th>3450</th>\n      <td>TQLHEDLLPR</td>\n      <td>PTPRN2</td>\n      <td>MGPPLPLLLLLLLLLPPRVLPAAPSSVPRGRQLPGRLDGVFGRCQK...</td>\n    </tr>\n    <tr>\n      <th>3451</th>\n      <td>QCQQLQTAIAEVEQR</td>\n      <td>KRT79</td>\n      <td>MRSSVSRQTYSTKGGFSSNSASGGSGSQARTSFSSVTVSRSSGSGG...</td>\n    </tr>\n    <tr>\n      <th>3452</th>\n      <td>NLHMAEAPANLEQPTSSFHVGTCFANAQR</td>\n      <td>LAMA2</td>\n      <td>MQNLTVEQPIEVKKLFVGGAPPEFQPSPLRNIPPFEGCIWNLVINS...</td>\n    </tr>\n    <tr>\n      <th>3453</th>\n      <td>HPPPPPFQNQQRPPQR</td>\n      <td>PRR4</td>\n      <td>MWRGIDSIYPYELLQKNILPAGTCCIYSRVEVFTDVNYEDFTFTIP...</td>\n    </tr>\n    <tr>\n      <th>3454</th>\n      <td>AYQYHSYNGWNR</td>\n      <td>DNAJC10</td>\n      <td>MAILVGTDQDFYSLLGVSKTASSREIRQAFKKLALKLHPDKNPNNP...</td>\n    </tr>\n  </tbody>\n</table>\n<p>3455 rows × 3 columns</p>\n</div>"
     },
     "execution_count": 14,
     "metadata": {},
     "output_type": "execute_result"
    }
   ],
   "source": [
    "df"
   ],
   "metadata": {
    "collapsed": false
   }
  },
  {
   "cell_type": "markdown",
   "source": [
    "#### Protein + gene_symbol + peptide"
   ],
   "metadata": {
    "collapsed": false
   }
  },
  {
   "cell_type": "code",
   "execution_count": 15,
   "id": "b84dfbb9",
   "metadata": {},
   "outputs": [],
   "source": [
    "protein_gene_symbol_peptide = dict()\n",
    "for key, value in blast_infos.items():\n",
    "    pep_seq = key.split(\"+\")[0]\n",
    "    gene_symbol = key.split(\"+\")[1]\n",
    "    \n",
    "    for info in value:\n",
    "        prot_seq = info.split(\";\")[0]\n",
    "        \n",
    "        if protein_gene_symbol_peptide.get(prot_seq):\n",
    "            if protein_gene_symbol_peptide.get(prot_seq).get(gene_symbol):\n",
    "                protein_gene_symbol_peptide[prot_seq][gene_symbol].add(pep_seq)\n",
    "            else:\n",
    "                protein_gene_symbol_peptide[prot_seq][gene_symbol] = {pep_seq}\n",
    "        else:\n",
    "            protein_gene_symbol_peptide[prot_seq] = {gene_symbol:{pep_seq}} "
   ]
  },
  {
   "cell_type": "code",
   "execution_count": 16,
   "id": "3d18347f",
   "metadata": {},
   "outputs": [],
   "source": [
    "df = pd.DataFrame([(protein, gene_symbol, \",\".join(peptide)) for protein, inner_dict in protein_gene_symbol_peptide.items() for gene_symbol, peptide in inner_dict.items()], \n",
    "                  columns=['protein', 'gene_symbol', 'peptide'])\n",
    "# df.to_csv(\"/mnt/nfs/wangd/project/paper_db/count/blast_canonical_count/protein_gene_symbol_peptide.tsv\", header=1, sep=\"\\t\", index = None)\n",
    "df.to_csv(r\"F:\\HPC\\paper_db\\count\\blast_canonical_count\\protein_gene_symbol_peptide1.tsv\", header=1, sep=\"\\t\", index = None)"
   ]
  },
  {
   "cell_type": "code",
   "execution_count": 17,
   "id": "0a12585b",
   "metadata": {},
   "outputs": [
    {
     "data": {
      "text/plain": "                                                protein gene_symbol  \\\n0     MVGERHAGDLMVPLGPRLQAYPEELIRQRPGHDGHPEYLIRWSVLK...        CUL9   \n1     MVGERHAGDLMVPLGPRLQAYPEELIRQRPGHDGHPEYLIRWSVLK...        CUL9   \n2     CFPNRLPQLMLQSLSTSEELQRQFHLFQLQRLDKLFLEQEDEEEKR...        CUL9   \n3     MAHHLPAAMESHQDFRSIKAKFQASQPEPSDLPKKPPKPEFGKLKK...       PRAM1   \n4     MAHHLPAAMESHQDFRSIKAKFQASQPEPSDLPKKPPKPEFGKLKK...       PRAM1   \n...                                                 ...         ...   \n6544  MSDSKEPRVQQLGLLGCLGHGALVLQLLSFMLLAGVLVAILVQVSK...      CLEC4M   \n6545  MSDSKEPRVQQLGLLGCLGHGALVLQLLSFMLLAGVLVAILVQVSK...      CLEC4M   \n6546  MSDSKEPRVQQLGLLEEDPTTSGIRLFPRDFQFQQIHGHKSSTGCL...      CLEC4M   \n6547  MLLVLLSVVLLALSSAQSTDNDVNYEDFTFTIPDVEDSSQRPDQGP...        PRR4   \n6548  MWRGIDSIYPYELLQKNILPAGTCCIYSRVEVFTDVNYEDFTFTIP...        PRR4   \n\n                         peptide  \n0                 LDNLFLEQEDEEEK  \n1                 LDNLFLEQEDEEEK  \n2                 LDNLFLEQEDEEEK  \n3     FSQPELSEHPQK,KFSQPELSEHPQK  \n4     FSQPELSEHPQK,KFSQPELSEHPQK  \n...                          ...  \n6544               NWHNSVTACQEVR  \n6545               NWHNSVTACQEVR  \n6546               NWHNSVTACQEVR  \n6547            HPPPPPFQNQQRPPQR  \n6548            HPPPPPFQNQQRPPQR  \n\n[6549 rows x 3 columns]",
      "text/html": "<div>\n<style scoped>\n    .dataframe tbody tr th:only-of-type {\n        vertical-align: middle;\n    }\n\n    .dataframe tbody tr th {\n        vertical-align: top;\n    }\n\n    .dataframe thead th {\n        text-align: right;\n    }\n</style>\n<table border=\"1\" class=\"dataframe\">\n  <thead>\n    <tr style=\"text-align: right;\">\n      <th></th>\n      <th>protein</th>\n      <th>gene_symbol</th>\n      <th>peptide</th>\n    </tr>\n  </thead>\n  <tbody>\n    <tr>\n      <th>0</th>\n      <td>MVGERHAGDLMVPLGPRLQAYPEELIRQRPGHDGHPEYLIRWSVLK...</td>\n      <td>CUL9</td>\n      <td>LDNLFLEQEDEEEK</td>\n    </tr>\n    <tr>\n      <th>1</th>\n      <td>MVGERHAGDLMVPLGPRLQAYPEELIRQRPGHDGHPEYLIRWSVLK...</td>\n      <td>CUL9</td>\n      <td>LDNLFLEQEDEEEK</td>\n    </tr>\n    <tr>\n      <th>2</th>\n      <td>CFPNRLPQLMLQSLSTSEELQRQFHLFQLQRLDKLFLEQEDEEEKR...</td>\n      <td>CUL9</td>\n      <td>LDNLFLEQEDEEEK</td>\n    </tr>\n    <tr>\n      <th>3</th>\n      <td>MAHHLPAAMESHQDFRSIKAKFQASQPEPSDLPKKPPKPEFGKLKK...</td>\n      <td>PRAM1</td>\n      <td>FSQPELSEHPQK,KFSQPELSEHPQK</td>\n    </tr>\n    <tr>\n      <th>4</th>\n      <td>MAHHLPAAMESHQDFRSIKAKFQASQPEPSDLPKKPPKPEFGKLKK...</td>\n      <td>PRAM1</td>\n      <td>FSQPELSEHPQK,KFSQPELSEHPQK</td>\n    </tr>\n    <tr>\n      <th>...</th>\n      <td>...</td>\n      <td>...</td>\n      <td>...</td>\n    </tr>\n    <tr>\n      <th>6544</th>\n      <td>MSDSKEPRVQQLGLLGCLGHGALVLQLLSFMLLAGVLVAILVQVSK...</td>\n      <td>CLEC4M</td>\n      <td>NWHNSVTACQEVR</td>\n    </tr>\n    <tr>\n      <th>6545</th>\n      <td>MSDSKEPRVQQLGLLGCLGHGALVLQLLSFMLLAGVLVAILVQVSK...</td>\n      <td>CLEC4M</td>\n      <td>NWHNSVTACQEVR</td>\n    </tr>\n    <tr>\n      <th>6546</th>\n      <td>MSDSKEPRVQQLGLLEEDPTTSGIRLFPRDFQFQQIHGHKSSTGCL...</td>\n      <td>CLEC4M</td>\n      <td>NWHNSVTACQEVR</td>\n    </tr>\n    <tr>\n      <th>6547</th>\n      <td>MLLVLLSVVLLALSSAQSTDNDVNYEDFTFTIPDVEDSSQRPDQGP...</td>\n      <td>PRR4</td>\n      <td>HPPPPPFQNQQRPPQR</td>\n    </tr>\n    <tr>\n      <th>6548</th>\n      <td>MWRGIDSIYPYELLQKNILPAGTCCIYSRVEVFTDVNYEDFTFTIP...</td>\n      <td>PRR4</td>\n      <td>HPPPPPFQNQQRPPQR</td>\n    </tr>\n  </tbody>\n</table>\n<p>6549 rows × 3 columns</p>\n</div>"
     },
     "execution_count": 17,
     "metadata": {},
     "output_type": "execute_result"
    }
   ],
   "source": [
    "df"
   ]
  },
  {
   "cell_type": "markdown",
   "source": [
    "#### Gene_symbol + peptide + protein"
   ],
   "metadata": {
    "collapsed": false
   }
  },
  {
   "cell_type": "code",
   "execution_count": 18,
   "id": "27f797e5",
   "metadata": {},
   "outputs": [],
   "source": [
    "gene_symbol_peptide_protein = dict()\n",
    "for key, value in blast_infos.items():\n",
    "    prot_set = set()\n",
    "    \n",
    "    pep_seq = key.split(\"+\")[0]\n",
    "    gene_symbol = key.split(\"+\")[1]\n",
    "    \n",
    "    for info in value:\n",
    "        prot_set.add(info.split(\";\")[0])\n",
    "\n",
    "    if gene_symbol_peptide_protein.get(gene_symbol):\n",
    "        gene_symbol_peptide_protein[gene_symbol][pep_seq] = prot_set\n",
    "    else:\n",
    "        gene_symbol_peptide_protein[gene_symbol] = {pep_seq:prot_set}"
   ]
  },
  {
   "cell_type": "code",
   "execution_count": 19,
   "id": "de16423b",
   "metadata": {},
   "outputs": [],
   "source": [
    "gene_symbol_peptide = dict()\n",
    "gene_symbol_protein = dict()\n",
    "for gene_symbol,value in gene_symbol_peptide_protein.items():\n",
    "    for peptide,protein in value.items():\n",
    "        if gene_symbol_peptide.get(gene_symbol):\n",
    "            gene_symbol_peptide[gene_symbol].add(peptide)\n",
    "        else:\n",
    "            gene_symbol_peptide[gene_symbol] = {peptide}\n",
    "        \n",
    "        if gene_symbol_protein.get(gene_symbol):\n",
    "            gene_symbol_protein[gene_symbol].union(protein)\n",
    "        else:\n",
    "            gene_symbol_protein[gene_symbol] = protein\n",
    "            \n",
    "gene_symbol_peptide_str = {key: ','.join(value) for key, value in gene_symbol_peptide.items()}\n",
    "gene_symbol_protein_str = {key: ','.join(value) for key, value in gene_symbol_protein.items()}"
   ]
  },
  {
   "cell_type": "code",
   "execution_count": 20,
   "id": "6ec9d2a2",
   "metadata": {},
   "outputs": [],
   "source": [
    "df = pd.DataFrame({'gene_symbol': list(gene_symbol_peptide.keys()),\n",
    "                   'peptide': list(gene_symbol_peptide_str.values()),\n",
    "                   'protein': list(gene_symbol_protein_str.values())})\n",
    "# df.to_csv(\"/mnt/nfs/wangd/project/paper_db/count/blast_canonical_count/gene_symbol_peptide_protein.tsv\", header=1, sep=\"\\t\", index = None)\n",
    "df.to_csv(r\"F:\\HPC\\paper_db\\count\\blast_canonical_count\\gene_symbol_peptide_protein1.tsv\", header=1, sep=\"\\t\", index = None)"
   ]
  },
  {
   "cell_type": "code",
   "execution_count": 21,
   "id": "4d19321a",
   "metadata": {},
   "outputs": [
    {
     "data": {
      "text/plain": "     gene_symbol                                            peptide  \\\n0           CUL9                                     LDNLFLEQEDEEEK   \n1          PRAM1                         FSQPELSEHPQK,KFSQPELSEHPQK   \n2        HSD11B2                  AHTTSTGLWGLINNAGHNEVVADAELSPVATFR   \n3           MIA3  TSGLAGEPEGELSKEDHGNTEK,DSVEGDALVNGAR,GLVQDETEL...   \n4          CEP57                                          VLDEHIQER   \n...          ...                                                ...   \n1909       DMAC2                                       LGAAVAPEGSQK   \n1910         FGA                                 VELQDWAGNEAYAEYHFR   \n1911       ITPKB                             QDSDALPSPELLPQDQDKPFLR   \n1912      CLEC4M                                      NWHNSVTACQEVR   \n1913        PRR4                                   HPPPPPFQNQQRPPQR   \n\n                                                protein  \n0     MVGERHAGDLMVPLGPRLQAYPEELIRQRPGHDGHPEYLIRWSVLK...  \n1     MAHHLPAAMESHQDFRSIKAKFQASQPEPSDLPKKPPKPEFGKLKK...  \n2     MERWPWPSGGAWLLVAARALLQLLRSDLRLGRPLLAALALLAALDW...  \n3     XLVPDSKQGKPQSATDYSDPDNVDDGLFIVDIPKTNNDKEVNAEHH...  \n4     MVRHSSSPYVVYPSDKPFLNSDLRRSPSKPTLAYPESNSRAIFSAL...  \n...                                                 ...  \n1909  MAAPWASLRLVAPMWNGRIRGIHRLGAAVAPEGNQKKKRTILQFLT...  \n1910  MFSMRIVCLVLSVVGTAWTADSGEGDFLAEGGGVRGPRVVERHQSA...  \n1911  MAVYCYALNSLVIMNSANEMKSGGGPGPSGSETPPPPRRAVLSPGS...  \n1912  MSDSKEPRVQQLGLLEEDPTTSGIRLFPRDFQFQQIHGHKSSTVSK...  \n1913  MWRGIDSIYPYELLQKNILPAGTCCIYSRVEVFTDVNYEDFTFTIP...  \n\n[1914 rows x 3 columns]",
      "text/html": "<div>\n<style scoped>\n    .dataframe tbody tr th:only-of-type {\n        vertical-align: middle;\n    }\n\n    .dataframe tbody tr th {\n        vertical-align: top;\n    }\n\n    .dataframe thead th {\n        text-align: right;\n    }\n</style>\n<table border=\"1\" class=\"dataframe\">\n  <thead>\n    <tr style=\"text-align: right;\">\n      <th></th>\n      <th>gene_symbol</th>\n      <th>peptide</th>\n      <th>protein</th>\n    </tr>\n  </thead>\n  <tbody>\n    <tr>\n      <th>0</th>\n      <td>CUL9</td>\n      <td>LDNLFLEQEDEEEK</td>\n      <td>MVGERHAGDLMVPLGPRLQAYPEELIRQRPGHDGHPEYLIRWSVLK...</td>\n    </tr>\n    <tr>\n      <th>1</th>\n      <td>PRAM1</td>\n      <td>FSQPELSEHPQK,KFSQPELSEHPQK</td>\n      <td>MAHHLPAAMESHQDFRSIKAKFQASQPEPSDLPKKPPKPEFGKLKK...</td>\n    </tr>\n    <tr>\n      <th>2</th>\n      <td>HSD11B2</td>\n      <td>AHTTSTGLWGLINNAGHNEVVADAELSPVATFR</td>\n      <td>MERWPWPSGGAWLLVAARALLQLLRSDLRLGRPLLAALALLAALDW...</td>\n    </tr>\n    <tr>\n      <th>3</th>\n      <td>MIA3</td>\n      <td>TSGLAGEPEGELSKEDHGNTEK,DSVEGDALVNGAR,GLVQDETEL...</td>\n      <td>XLVPDSKQGKPQSATDYSDPDNVDDGLFIVDIPKTNNDKEVNAEHH...</td>\n    </tr>\n    <tr>\n      <th>4</th>\n      <td>CEP57</td>\n      <td>VLDEHIQER</td>\n      <td>MVRHSSSPYVVYPSDKPFLNSDLRRSPSKPTLAYPESNSRAIFSAL...</td>\n    </tr>\n    <tr>\n      <th>...</th>\n      <td>...</td>\n      <td>...</td>\n      <td>...</td>\n    </tr>\n    <tr>\n      <th>1909</th>\n      <td>DMAC2</td>\n      <td>LGAAVAPEGSQK</td>\n      <td>MAAPWASLRLVAPMWNGRIRGIHRLGAAVAPEGNQKKKRTILQFLT...</td>\n    </tr>\n    <tr>\n      <th>1910</th>\n      <td>FGA</td>\n      <td>VELQDWAGNEAYAEYHFR</td>\n      <td>MFSMRIVCLVLSVVGTAWTADSGEGDFLAEGGGVRGPRVVERHQSA...</td>\n    </tr>\n    <tr>\n      <th>1911</th>\n      <td>ITPKB</td>\n      <td>QDSDALPSPELLPQDQDKPFLR</td>\n      <td>MAVYCYALNSLVIMNSANEMKSGGGPGPSGSETPPPPRRAVLSPGS...</td>\n    </tr>\n    <tr>\n      <th>1912</th>\n      <td>CLEC4M</td>\n      <td>NWHNSVTACQEVR</td>\n      <td>MSDSKEPRVQQLGLLEEDPTTSGIRLFPRDFQFQQIHGHKSSTVSK...</td>\n    </tr>\n    <tr>\n      <th>1913</th>\n      <td>PRR4</td>\n      <td>HPPPPPFQNQQRPPQR</td>\n      <td>MWRGIDSIYPYELLQKNILPAGTCCIYSRVEVFTDVNYEDFTFTIP...</td>\n    </tr>\n  </tbody>\n</table>\n<p>1914 rows × 3 columns</p>\n</div>"
     },
     "execution_count": 21,
     "metadata": {},
     "output_type": "execute_result"
    }
   ],
   "source": [
    "df"
   ]
  },
  {
   "cell_type": "markdown",
   "source": [
    "#### All Peptides Info Count"
   ],
   "metadata": {
    "collapsed": false
   }
  },
  {
   "cell_type": "code",
   "execution_count": 22,
   "id": "81849105",
   "metadata": {},
   "outputs": [],
   "source": [
    "all_peptide = set()\n",
    "all_gene_symbol = set()\n",
    "all_protein = set()\n",
    "all_transcript = set()\n",
    "for key, value in blast_infos.items(): \n",
    "    pep_seq = key.split(\"+\")[0]\n",
    "    all_peptide.add(pep_seq)\n",
    "    \n",
    "    gene_symbol = key.split(\"+\")[1]\n",
    "    all_gene_symbol.add(gene_symbol)\n",
    "    \n",
    "    for info in value:\n",
    "        all_protein.add(info.split(\";\")[0])\n",
    "        all_transcript.add([x for x in info.split(\" \") if x.startswith('transcript:')][0].split(':')[-1])"
   ]
  },
  {
   "cell_type": "code",
   "execution_count": 23,
   "id": "11e34eb1",
   "metadata": {},
   "outputs": [
    {
     "name": "stdout",
     "output_type": "stream",
     "text": [
      "Number of peptides: 3413\n",
      "Number of gene_symbols: 1914\n",
      "Number of transcript ids: 8400\n",
      "Number of protein seqs: 6546\n"
     ]
    }
   ],
   "source": [
    "print(\"Number of peptides: {}\".format(len(all_peptide)))\n",
    "print(\"Number of gene_symbols: {}\".format(len(all_gene_symbol)))\n",
    "print(\"Number of transcript ids: {}\".format(len(all_transcript)))\n",
    "print(\"Number of protein seqs: {}\".format(len(all_protein)))"
   ]
  },
  {
   "cell_type": "markdown",
   "source": [
    "### Novel Peptides"
   ],
   "metadata": {
    "collapsed": false
   }
  },
  {
   "cell_type": "code",
   "execution_count": 24,
   "id": "b7055791",
   "metadata": {},
   "outputs": [],
   "source": [
    "fail_peps = all_res_peps - all_peptide"
   ]
  },
  {
   "cell_type": "code",
   "execution_count": 131,
   "outputs": [
    {
     "data": {
      "text/plain": "97"
     },
     "execution_count": 131,
     "metadata": {},
     "output_type": "execute_result"
    }
   ],
   "source": [
    "len(fail_peps)"
   ],
   "metadata": {
    "collapsed": false
   }
  },
  {
   "cell_type": "code",
   "execution_count": 132,
   "outputs": [
    {
     "data": {
      "text/plain": "                                  sequence_x protein_accessions  \\\n27                        AAGFEEIEQDLTQRFEEK         GCA_170981   \n118                              AEDMALYYCAK         GCA_264940   \n123                              AEDTAVYFCAK         GCA_294782   \n166   AEQQQQQQQQQQQQQQHQHQQQQQQQQQQQQQQQHLSR         GCA_207623   \n167   AEQQQQQQQQQQQQQQHQHQQQQQQQQQQQQQQQHLSR         GCA_207623   \n...                                      ...                ...   \n6088                         YFSTSVSWPGRGEPR          GCA_61687   \n6122                YIQQQKQQQQQQQQQQQQQQQQQR         GCA_231481   \n6127                        YKSDSDNQQGSGVPSR         GCA_310162   \n6128                        YKSDSDNQQGSGVPSR         GCA_310162   \n6129                        YKSDSDNQQGSGVPSR         GCA_310162   \n\n                                            peptidoform gene_symbol  \n27                                   AAGFEEIEQDLTQRFEEK       DDX58  \n118             AEDM[Oxidation]ALYYC[Carbamidomethyl]AK   IGHV3-64D  \n123                        AEDTAVYFC[Carbamidomethyl]AK         NaN  \n166   AEQQQQQQQQQQQQQQHQHQQQQQQQQQQQQ[Deamidated]QQQ...       ATXN1  \n167   AEQQQQQ[Deamidated]QQQQQQQQQHQHQQQQQQQQQQQ[Dea...       ATXN1  \n...                                                 ...         ...  \n6088                                    YFSTSVSWPGRGEPR       HLA-C  \n6122               YIQQQKQQQQQQQQQ[Deamidated]QQQQQQQQR       ATXN3  \n6127                                   YKSDSDNQQGSGVPSR         NaN  \n6128                       YKSDSDN[Deamidated]QQGSGVPSR         NaN  \n6129                       YKSDSDNQ[Deamidated]QGSGVPSR         NaN  \n\n[161 rows x 4 columns]",
      "text/html": "<div>\n<style scoped>\n    .dataframe tbody tr th:only-of-type {\n        vertical-align: middle;\n    }\n\n    .dataframe tbody tr th {\n        vertical-align: top;\n    }\n\n    .dataframe thead th {\n        text-align: right;\n    }\n</style>\n<table border=\"1\" class=\"dataframe\">\n  <thead>\n    <tr style=\"text-align: right;\">\n      <th></th>\n      <th>sequence_x</th>\n      <th>protein_accessions</th>\n      <th>peptidoform</th>\n      <th>gene_symbol</th>\n    </tr>\n  </thead>\n  <tbody>\n    <tr>\n      <th>27</th>\n      <td>AAGFEEIEQDLTQRFEEK</td>\n      <td>GCA_170981</td>\n      <td>AAGFEEIEQDLTQRFEEK</td>\n      <td>DDX58</td>\n    </tr>\n    <tr>\n      <th>118</th>\n      <td>AEDMALYYCAK</td>\n      <td>GCA_264940</td>\n      <td>AEDM[Oxidation]ALYYC[Carbamidomethyl]AK</td>\n      <td>IGHV3-64D</td>\n    </tr>\n    <tr>\n      <th>123</th>\n      <td>AEDTAVYFCAK</td>\n      <td>GCA_294782</td>\n      <td>AEDTAVYFC[Carbamidomethyl]AK</td>\n      <td>NaN</td>\n    </tr>\n    <tr>\n      <th>166</th>\n      <td>AEQQQQQQQQQQQQQQHQHQQQQQQQQQQQQQQQHLSR</td>\n      <td>GCA_207623</td>\n      <td>AEQQQQQQQQQQQQQQHQHQQQQQQQQQQQQ[Deamidated]QQQ...</td>\n      <td>ATXN1</td>\n    </tr>\n    <tr>\n      <th>167</th>\n      <td>AEQQQQQQQQQQQQQQHQHQQQQQQQQQQQQQQQHLSR</td>\n      <td>GCA_207623</td>\n      <td>AEQQQQQ[Deamidated]QQQQQQQQQHQHQQQQQQQQQQQ[Dea...</td>\n      <td>ATXN1</td>\n    </tr>\n    <tr>\n      <th>...</th>\n      <td>...</td>\n      <td>...</td>\n      <td>...</td>\n      <td>...</td>\n    </tr>\n    <tr>\n      <th>6088</th>\n      <td>YFSTSVSWPGRGEPR</td>\n      <td>GCA_61687</td>\n      <td>YFSTSVSWPGRGEPR</td>\n      <td>HLA-C</td>\n    </tr>\n    <tr>\n      <th>6122</th>\n      <td>YIQQQKQQQQQQQQQQQQQQQQQR</td>\n      <td>GCA_231481</td>\n      <td>YIQQQKQQQQQQQQQ[Deamidated]QQQQQQQQR</td>\n      <td>ATXN3</td>\n    </tr>\n    <tr>\n      <th>6127</th>\n      <td>YKSDSDNQQGSGVPSR</td>\n      <td>GCA_310162</td>\n      <td>YKSDSDNQQGSGVPSR</td>\n      <td>NaN</td>\n    </tr>\n    <tr>\n      <th>6128</th>\n      <td>YKSDSDNQQGSGVPSR</td>\n      <td>GCA_310162</td>\n      <td>YKSDSDN[Deamidated]QQGSGVPSR</td>\n      <td>NaN</td>\n    </tr>\n    <tr>\n      <th>6129</th>\n      <td>YKSDSDNQQGSGVPSR</td>\n      <td>GCA_310162</td>\n      <td>YKSDSDNQ[Deamidated]QGSGVPSR</td>\n      <td>NaN</td>\n    </tr>\n  </tbody>\n</table>\n<p>161 rows × 4 columns</p>\n</div>"
     },
     "execution_count": 132,
     "metadata": {},
     "output_type": "execute_result"
    }
   ],
   "source": [
    "df_fail_peps = final_pep_gene_symbol[final_pep_gene_symbol[\"sequence_x\"].isin(fail_peps)]\n",
    "df_fail_peps"
   ],
   "metadata": {
    "collapsed": false
   }
  },
  {
   "cell_type": "code",
   "execution_count": 133,
   "outputs": [
    {
     "data": {
      "text/plain": "                           sequence_x protein_accessions  \\\n123                       AEDTAVYFCAK         GCA_294782   \n359                     ANGGTTDYAAPVK          GCA_82883   \n360                     ANGGTTDYAAPVK          GCA_82883   \n468                   ASGYTFTNNGITWVR         GCA_197511   \n469                   ASGYTYTDYYMHWVR         GCA_152779   \n470                   ASGYTYTDYYMHWVR         GCA_152779   \n491                ASQSISTWLAWYQQKPGK         GCA_213376   \n492                ASQSISTWLAWYQQKPGK         GCA_213376   \n493                ASQSISTWLAWYQQKPGK         GCA_213376   \n870     DLCPLLSEHGLQCSLEPHLNSNLCVYCCK         GCA_125675   \n871     DLCPLLSEHGLQCSLEPHLNSNLCVYCCK         GCA_125675   \n872     DLCPLLSEHGLQCSLEPHLNSNLCVYCCK         GCA_125675   \n1041                    DTSISTAYMDLSR         GCA_152779   \n1591     ESGPVLVKPTETLTLTCTISGFSLSNAR         GCA_188341   \n2943  KTPESFLGPNAALVDLDSLVSRPGPTLPGAK         GCA_217037   \n2944  KTPESFLGPNAALVDLDSLVSRPGPTLPGAK         GCA_217037   \n3052           LEEECEGREPGLETGTQAADCK         GCA_150561   \n3053           LEEECEGREPGLETGTQAADCK         GCA_150561   \n3054      LEEECEGREPGLETGTQAADCKDAPLK         GCA_150561   \n3118                  LEWMGWINTGNGNTK         GCA_280519   \n3291                        LLIFGASTR         GCA_157295   \n3499              LSCAASGFTFSTYGMHWVR         GCA_294782   \n3500              LSCAVSGFTFSSYAMHWVR         GCA_218596   \n3874                NDNIPEQDSLGLSNLQK         GCA_121408   \n3875                NDNIPEQDSLGLSNLQK         GCA_121408   \n3876                NDNIPEQDSLGLSNLQK         GCA_121408   \n3877                NDNIPEQDSLGLSNLQK         GCA_121408   \n3878                NDNIPEQDSLGLSNLQK         GCA_121408   \n4057           NQVVLTMTNMNPVDTATYYCAR         GCA_149168   \n4058           NQVVLTMTNMNPVDTATYYCAR         GCA_149168   \n4059           NQVVLTMTNMNPVDTATYYCAR         GCA_149168   \n4060           NQVVLTMTNMNPVDTATYYCAR         GCA_149168   \n4116           NTLYHQMNSLRAEDTAVYYCAR         GCA_274675   \n4117           NTLYHQMNSLRAEDTAVYYCAR         GCA_274675   \n4710                    SAGGGTYYADSVK         GCA_134310   \n4833                  SKANGGTTDYAAPVK          GCA_82883   \n4834                  SKANGGTTDYAAPVK          GCA_82883   \n5065       SSPVFQIPKNDNIPEQDSLGLSNLQK         GCA_121408   \n5066       SSPVFQIPKNDNIPEQDSLGLSNLQK         GCA_121408   \n5067       SSPVFQIPKNDNIPEQDSLGLSNLQK         GCA_121408   \n5068       SSPVFQIPKNDNIPEQDSLGLSNLQK         GCA_121408   \n5069       SSPVFQIPKNDNIPEQDSLGLSNLQK         GCA_121408   \n5285             TGEVVLTQSPGTLSLSPGER         GCA_262675   \n5401   TPESFLGPNAALVDLDSLVSRPGPTLPGAK         GCA_217037   \n5402   TPESFLGPNAALVDLDSLVSRPGPTLPGAK         GCA_217037   \n5740                 VLIYGASSLQSGVPSR         GCA_161637   \n5741                 VLIYGASSLQSGVPSR         GCA_161637   \n6127                 YKSDSDNQQGSGVPSR         GCA_310162   \n6128                 YKSDSDNQQGSGVPSR         GCA_310162   \n6129                 YKSDSDNQQGSGVPSR         GCA_310162   \n\n                                            peptidoform gene_symbol  \n123                        AEDTAVYFC[Carbamidomethyl]AK         NaN  \n359                                       ANGGTTDYAAPVK         NaN  \n360                           AN[Deamidated]GGTTDYAAPVK         NaN  \n468                                     ASGYTFTNNGITWVR         NaN  \n469                                     ASGYTYTDYYMHWVR         NaN  \n470                          ASGYTYTDYYM[Oxidation]HWVR         NaN  \n491                                  ASQSISTWLAWYQQKPGK         NaN  \n492          ASQSISTWLAWYQ[Deamidated]Q[Deamidated]KPGK         NaN  \n493   ASQ[Deamidated]SISTWLAWYQ[Deamidated]Q[Deamida...         NaN  \n870   DLC[Carbamidomethyl]PLLSEHGLQ[Deamidated]C[Car...         NaN  \n871   DLC[Carbamidomethyl]PLLSEHGLQ[Deamidated]C[Car...         NaN  \n872   DLC[Carbamidomethyl]PLLSEHGLQC[Carbamidomethyl...         NaN  \n1041                                      DTSISTAYMDLSR         NaN  \n1591  ESGPVLVKPTETLTLTC[Carbamidomethyl]TISGFSLSN[De...         NaN  \n2943                    KTPESFLGPNAALVDLDSLVSRPGPTLPGAK         NaN  \n2944        KTPESFLGPN[Deamidated]AALVDLDSLVSRPGPTLPGAK         NaN  \n3052  LEEEC[Carbamidomethyl]EGREPGLETGTQAADC[Carbami...         NaN  \n3053  LEEEC[Carbamidomethyl]EGREPGLETGTQ[Deamidated]...         NaN  \n3054  LEEEC[Carbamidomethyl]EGREPGLETGTQAADC[Carbami...         NaN  \n3118                                    LEWMGWINTGNGNTK         NaN  \n3291                                          LLIFGASTR         NaN  \n3499    LSC[Carbamidomethyl]AASGFTFSTYGM[Oxidation]HWVR         NaN  \n3500    LSC[Carbamidomethyl]AVSGFTFSSYAM[Oxidation]HWVR         NaN  \n3874                                  NDNIPEQDSLGLSNLQK         NaN  \n3875                      N[Deamidated]DNIPEQDSLGLSNLQK         NaN  \n3876          N[Deamidated]DN[Deamidated]IPEQDSLGLSNLQK         NaN  \n3877          N[Deamidated]DNIPEQ[Deamidated]DSLGLSNLQK         NaN  \n3878                      NDN[Deamidated]IPEQDSLGLSNLQK         NaN  \n4057  NQVVLTMTNM[Oxidation]N[Deamidated]PVDTATYYC[Ca...         NaN  \n4058  NQVVLTMTNMN[Deamidated]PVDTATYYC[Carbamidometh...         NaN  \n4059  NQVVLTM[Oxidation]TNMN[Deamidated]PVDTATYYC[Ca...         NaN  \n4060  NQVVLTMTN[Deamidated]MN[Deamidated]PVDTATYYC[C...         NaN  \n4116  NTLYHQM[Oxidation]NSLRAEDTAVYYC[Carbamidomethy...         NaN  \n4117  NTLYHQM[Oxidation]N[Deamidated]SLRAEDTAVYYC[Ca...         NaN  \n4710                                      SAGGGTYYADSVK         NaN  \n4833                                    SKANGGTTDYAAPVK         NaN  \n4834                        SKAN[Deamidated]GGTTDYAAPVK         NaN  \n5065             SSPVFQIPKN[Deamidated]DNIPEQDSLGLSNLQK         NaN  \n5066             SSPVFQIPKNDN[Deamidated]IPEQDSLGLSNLQK         NaN  \n5067  SSPVFQIPKNDN[Deamidated]IPEQ[Deamidated]DSLGLS...         NaN  \n5068  SSPVFQ[Deamidated]IPKN[Deamidated]DNIPEQDSLGLS...         NaN  \n5069  SSPVFQ[Deamidated]IPKN[Deamidated]DN[Deamidate...         NaN  \n5285                               TGEVVLTQSPGTLSLSPGER         NaN  \n5401                     TPESFLGPNAALVDLDSLVSRPGPTLPGAK         NaN  \n5402         TPESFLGPN[Deamidated]AALVDLDSLVSRPGPTLPGAK         NaN  \n5740                                   VLIYGASSLQSGVPSR         NaN  \n5741                       VLIYGASSLQ[Deamidated]SGVPSR         NaN  \n6127                                   YKSDSDNQQGSGVPSR         NaN  \n6128                       YKSDSDN[Deamidated]QQGSGVPSR         NaN  \n6129                       YKSDSDNQ[Deamidated]QGSGVPSR         NaN  ",
      "text/html": "<div>\n<style scoped>\n    .dataframe tbody tr th:only-of-type {\n        vertical-align: middle;\n    }\n\n    .dataframe tbody tr th {\n        vertical-align: top;\n    }\n\n    .dataframe thead th {\n        text-align: right;\n    }\n</style>\n<table border=\"1\" class=\"dataframe\">\n  <thead>\n    <tr style=\"text-align: right;\">\n      <th></th>\n      <th>sequence_x</th>\n      <th>protein_accessions</th>\n      <th>peptidoform</th>\n      <th>gene_symbol</th>\n    </tr>\n  </thead>\n  <tbody>\n    <tr>\n      <th>123</th>\n      <td>AEDTAVYFCAK</td>\n      <td>GCA_294782</td>\n      <td>AEDTAVYFC[Carbamidomethyl]AK</td>\n      <td>NaN</td>\n    </tr>\n    <tr>\n      <th>359</th>\n      <td>ANGGTTDYAAPVK</td>\n      <td>GCA_82883</td>\n      <td>ANGGTTDYAAPVK</td>\n      <td>NaN</td>\n    </tr>\n    <tr>\n      <th>360</th>\n      <td>ANGGTTDYAAPVK</td>\n      <td>GCA_82883</td>\n      <td>AN[Deamidated]GGTTDYAAPVK</td>\n      <td>NaN</td>\n    </tr>\n    <tr>\n      <th>468</th>\n      <td>ASGYTFTNNGITWVR</td>\n      <td>GCA_197511</td>\n      <td>ASGYTFTNNGITWVR</td>\n      <td>NaN</td>\n    </tr>\n    <tr>\n      <th>469</th>\n      <td>ASGYTYTDYYMHWVR</td>\n      <td>GCA_152779</td>\n      <td>ASGYTYTDYYMHWVR</td>\n      <td>NaN</td>\n    </tr>\n    <tr>\n      <th>470</th>\n      <td>ASGYTYTDYYMHWVR</td>\n      <td>GCA_152779</td>\n      <td>ASGYTYTDYYM[Oxidation]HWVR</td>\n      <td>NaN</td>\n    </tr>\n    <tr>\n      <th>491</th>\n      <td>ASQSISTWLAWYQQKPGK</td>\n      <td>GCA_213376</td>\n      <td>ASQSISTWLAWYQQKPGK</td>\n      <td>NaN</td>\n    </tr>\n    <tr>\n      <th>492</th>\n      <td>ASQSISTWLAWYQQKPGK</td>\n      <td>GCA_213376</td>\n      <td>ASQSISTWLAWYQ[Deamidated]Q[Deamidated]KPGK</td>\n      <td>NaN</td>\n    </tr>\n    <tr>\n      <th>493</th>\n      <td>ASQSISTWLAWYQQKPGK</td>\n      <td>GCA_213376</td>\n      <td>ASQ[Deamidated]SISTWLAWYQ[Deamidated]Q[Deamida...</td>\n      <td>NaN</td>\n    </tr>\n    <tr>\n      <th>870</th>\n      <td>DLCPLLSEHGLQCSLEPHLNSNLCVYCCK</td>\n      <td>GCA_125675</td>\n      <td>DLC[Carbamidomethyl]PLLSEHGLQ[Deamidated]C[Car...</td>\n      <td>NaN</td>\n    </tr>\n    <tr>\n      <th>871</th>\n      <td>DLCPLLSEHGLQCSLEPHLNSNLCVYCCK</td>\n      <td>GCA_125675</td>\n      <td>DLC[Carbamidomethyl]PLLSEHGLQ[Deamidated]C[Car...</td>\n      <td>NaN</td>\n    </tr>\n    <tr>\n      <th>872</th>\n      <td>DLCPLLSEHGLQCSLEPHLNSNLCVYCCK</td>\n      <td>GCA_125675</td>\n      <td>DLC[Carbamidomethyl]PLLSEHGLQC[Carbamidomethyl...</td>\n      <td>NaN</td>\n    </tr>\n    <tr>\n      <th>1041</th>\n      <td>DTSISTAYMDLSR</td>\n      <td>GCA_152779</td>\n      <td>DTSISTAYMDLSR</td>\n      <td>NaN</td>\n    </tr>\n    <tr>\n      <th>1591</th>\n      <td>ESGPVLVKPTETLTLTCTISGFSLSNAR</td>\n      <td>GCA_188341</td>\n      <td>ESGPVLVKPTETLTLTC[Carbamidomethyl]TISGFSLSN[De...</td>\n      <td>NaN</td>\n    </tr>\n    <tr>\n      <th>2943</th>\n      <td>KTPESFLGPNAALVDLDSLVSRPGPTLPGAK</td>\n      <td>GCA_217037</td>\n      <td>KTPESFLGPNAALVDLDSLVSRPGPTLPGAK</td>\n      <td>NaN</td>\n    </tr>\n    <tr>\n      <th>2944</th>\n      <td>KTPESFLGPNAALVDLDSLVSRPGPTLPGAK</td>\n      <td>GCA_217037</td>\n      <td>KTPESFLGPN[Deamidated]AALVDLDSLVSRPGPTLPGAK</td>\n      <td>NaN</td>\n    </tr>\n    <tr>\n      <th>3052</th>\n      <td>LEEECEGREPGLETGTQAADCK</td>\n      <td>GCA_150561</td>\n      <td>LEEEC[Carbamidomethyl]EGREPGLETGTQAADC[Carbami...</td>\n      <td>NaN</td>\n    </tr>\n    <tr>\n      <th>3053</th>\n      <td>LEEECEGREPGLETGTQAADCK</td>\n      <td>GCA_150561</td>\n      <td>LEEEC[Carbamidomethyl]EGREPGLETGTQ[Deamidated]...</td>\n      <td>NaN</td>\n    </tr>\n    <tr>\n      <th>3054</th>\n      <td>LEEECEGREPGLETGTQAADCKDAPLK</td>\n      <td>GCA_150561</td>\n      <td>LEEEC[Carbamidomethyl]EGREPGLETGTQAADC[Carbami...</td>\n      <td>NaN</td>\n    </tr>\n    <tr>\n      <th>3118</th>\n      <td>LEWMGWINTGNGNTK</td>\n      <td>GCA_280519</td>\n      <td>LEWMGWINTGNGNTK</td>\n      <td>NaN</td>\n    </tr>\n    <tr>\n      <th>3291</th>\n      <td>LLIFGASTR</td>\n      <td>GCA_157295</td>\n      <td>LLIFGASTR</td>\n      <td>NaN</td>\n    </tr>\n    <tr>\n      <th>3499</th>\n      <td>LSCAASGFTFSTYGMHWVR</td>\n      <td>GCA_294782</td>\n      <td>LSC[Carbamidomethyl]AASGFTFSTYGM[Oxidation]HWVR</td>\n      <td>NaN</td>\n    </tr>\n    <tr>\n      <th>3500</th>\n      <td>LSCAVSGFTFSSYAMHWVR</td>\n      <td>GCA_218596</td>\n      <td>LSC[Carbamidomethyl]AVSGFTFSSYAM[Oxidation]HWVR</td>\n      <td>NaN</td>\n    </tr>\n    <tr>\n      <th>3874</th>\n      <td>NDNIPEQDSLGLSNLQK</td>\n      <td>GCA_121408</td>\n      <td>NDNIPEQDSLGLSNLQK</td>\n      <td>NaN</td>\n    </tr>\n    <tr>\n      <th>3875</th>\n      <td>NDNIPEQDSLGLSNLQK</td>\n      <td>GCA_121408</td>\n      <td>N[Deamidated]DNIPEQDSLGLSNLQK</td>\n      <td>NaN</td>\n    </tr>\n    <tr>\n      <th>3876</th>\n      <td>NDNIPEQDSLGLSNLQK</td>\n      <td>GCA_121408</td>\n      <td>N[Deamidated]DN[Deamidated]IPEQDSLGLSNLQK</td>\n      <td>NaN</td>\n    </tr>\n    <tr>\n      <th>3877</th>\n      <td>NDNIPEQDSLGLSNLQK</td>\n      <td>GCA_121408</td>\n      <td>N[Deamidated]DNIPEQ[Deamidated]DSLGLSNLQK</td>\n      <td>NaN</td>\n    </tr>\n    <tr>\n      <th>3878</th>\n      <td>NDNIPEQDSLGLSNLQK</td>\n      <td>GCA_121408</td>\n      <td>NDN[Deamidated]IPEQDSLGLSNLQK</td>\n      <td>NaN</td>\n    </tr>\n    <tr>\n      <th>4057</th>\n      <td>NQVVLTMTNMNPVDTATYYCAR</td>\n      <td>GCA_149168</td>\n      <td>NQVVLTMTNM[Oxidation]N[Deamidated]PVDTATYYC[Ca...</td>\n      <td>NaN</td>\n    </tr>\n    <tr>\n      <th>4058</th>\n      <td>NQVVLTMTNMNPVDTATYYCAR</td>\n      <td>GCA_149168</td>\n      <td>NQVVLTMTNMN[Deamidated]PVDTATYYC[Carbamidometh...</td>\n      <td>NaN</td>\n    </tr>\n    <tr>\n      <th>4059</th>\n      <td>NQVVLTMTNMNPVDTATYYCAR</td>\n      <td>GCA_149168</td>\n      <td>NQVVLTM[Oxidation]TNMN[Deamidated]PVDTATYYC[Ca...</td>\n      <td>NaN</td>\n    </tr>\n    <tr>\n      <th>4060</th>\n      <td>NQVVLTMTNMNPVDTATYYCAR</td>\n      <td>GCA_149168</td>\n      <td>NQVVLTMTN[Deamidated]MN[Deamidated]PVDTATYYC[C...</td>\n      <td>NaN</td>\n    </tr>\n    <tr>\n      <th>4116</th>\n      <td>NTLYHQMNSLRAEDTAVYYCAR</td>\n      <td>GCA_274675</td>\n      <td>NTLYHQM[Oxidation]NSLRAEDTAVYYC[Carbamidomethy...</td>\n      <td>NaN</td>\n    </tr>\n    <tr>\n      <th>4117</th>\n      <td>NTLYHQMNSLRAEDTAVYYCAR</td>\n      <td>GCA_274675</td>\n      <td>NTLYHQM[Oxidation]N[Deamidated]SLRAEDTAVYYC[Ca...</td>\n      <td>NaN</td>\n    </tr>\n    <tr>\n      <th>4710</th>\n      <td>SAGGGTYYADSVK</td>\n      <td>GCA_134310</td>\n      <td>SAGGGTYYADSVK</td>\n      <td>NaN</td>\n    </tr>\n    <tr>\n      <th>4833</th>\n      <td>SKANGGTTDYAAPVK</td>\n      <td>GCA_82883</td>\n      <td>SKANGGTTDYAAPVK</td>\n      <td>NaN</td>\n    </tr>\n    <tr>\n      <th>4834</th>\n      <td>SKANGGTTDYAAPVK</td>\n      <td>GCA_82883</td>\n      <td>SKAN[Deamidated]GGTTDYAAPVK</td>\n      <td>NaN</td>\n    </tr>\n    <tr>\n      <th>5065</th>\n      <td>SSPVFQIPKNDNIPEQDSLGLSNLQK</td>\n      <td>GCA_121408</td>\n      <td>SSPVFQIPKN[Deamidated]DNIPEQDSLGLSNLQK</td>\n      <td>NaN</td>\n    </tr>\n    <tr>\n      <th>5066</th>\n      <td>SSPVFQIPKNDNIPEQDSLGLSNLQK</td>\n      <td>GCA_121408</td>\n      <td>SSPVFQIPKNDN[Deamidated]IPEQDSLGLSNLQK</td>\n      <td>NaN</td>\n    </tr>\n    <tr>\n      <th>5067</th>\n      <td>SSPVFQIPKNDNIPEQDSLGLSNLQK</td>\n      <td>GCA_121408</td>\n      <td>SSPVFQIPKNDN[Deamidated]IPEQ[Deamidated]DSLGLS...</td>\n      <td>NaN</td>\n    </tr>\n    <tr>\n      <th>5068</th>\n      <td>SSPVFQIPKNDNIPEQDSLGLSNLQK</td>\n      <td>GCA_121408</td>\n      <td>SSPVFQ[Deamidated]IPKN[Deamidated]DNIPEQDSLGLS...</td>\n      <td>NaN</td>\n    </tr>\n    <tr>\n      <th>5069</th>\n      <td>SSPVFQIPKNDNIPEQDSLGLSNLQK</td>\n      <td>GCA_121408</td>\n      <td>SSPVFQ[Deamidated]IPKN[Deamidated]DN[Deamidate...</td>\n      <td>NaN</td>\n    </tr>\n    <tr>\n      <th>5285</th>\n      <td>TGEVVLTQSPGTLSLSPGER</td>\n      <td>GCA_262675</td>\n      <td>TGEVVLTQSPGTLSLSPGER</td>\n      <td>NaN</td>\n    </tr>\n    <tr>\n      <th>5401</th>\n      <td>TPESFLGPNAALVDLDSLVSRPGPTLPGAK</td>\n      <td>GCA_217037</td>\n      <td>TPESFLGPNAALVDLDSLVSRPGPTLPGAK</td>\n      <td>NaN</td>\n    </tr>\n    <tr>\n      <th>5402</th>\n      <td>TPESFLGPNAALVDLDSLVSRPGPTLPGAK</td>\n      <td>GCA_217037</td>\n      <td>TPESFLGPN[Deamidated]AALVDLDSLVSRPGPTLPGAK</td>\n      <td>NaN</td>\n    </tr>\n    <tr>\n      <th>5740</th>\n      <td>VLIYGASSLQSGVPSR</td>\n      <td>GCA_161637</td>\n      <td>VLIYGASSLQSGVPSR</td>\n      <td>NaN</td>\n    </tr>\n    <tr>\n      <th>5741</th>\n      <td>VLIYGASSLQSGVPSR</td>\n      <td>GCA_161637</td>\n      <td>VLIYGASSLQ[Deamidated]SGVPSR</td>\n      <td>NaN</td>\n    </tr>\n    <tr>\n      <th>6127</th>\n      <td>YKSDSDNQQGSGVPSR</td>\n      <td>GCA_310162</td>\n      <td>YKSDSDNQQGSGVPSR</td>\n      <td>NaN</td>\n    </tr>\n    <tr>\n      <th>6128</th>\n      <td>YKSDSDNQQGSGVPSR</td>\n      <td>GCA_310162</td>\n      <td>YKSDSDN[Deamidated]QQGSGVPSR</td>\n      <td>NaN</td>\n    </tr>\n    <tr>\n      <th>6129</th>\n      <td>YKSDSDNQQGSGVPSR</td>\n      <td>GCA_310162</td>\n      <td>YKSDSDNQ[Deamidated]QGSGVPSR</td>\n      <td>NaN</td>\n    </tr>\n  </tbody>\n</table>\n</div>"
     },
     "execution_count": 133,
     "metadata": {},
     "output_type": "execute_result"
    }
   ],
   "source": [
    "df_fail_peps_no_gene_symbol = df_fail_peps[df_fail_peps[\"gene_symbol\"].isna()]\n",
    "df_fail_peps_no_gene_symbol"
   ],
   "metadata": {
    "collapsed": false
   }
  },
  {
   "cell_type": "code",
   "execution_count": 135,
   "outputs": [
    {
     "data": {
      "text/plain": "25"
     },
     "execution_count": 135,
     "metadata": {},
     "output_type": "execute_result"
    }
   ],
   "source": [
    "len(set(df_fail_peps_no_gene_symbol[\"sequence_x\"]))"
   ],
   "metadata": {
    "collapsed": false
   }
  },
  {
   "cell_type": "code",
   "execution_count": 26,
   "outputs": [],
   "source": [
    "auto = ahocorasick.Automaton()\n",
    "\n",
    "for seq in fail_peps:\n",
    "    auto.add_word(seq, seq)\n",
    "\n",
    "auto.make_automaton()"
   ],
   "metadata": {
    "collapsed": false
   }
  },
  {
   "cell_type": "code",
   "execution_count": 27,
   "outputs": [
    {
     "name": "stderr",
     "output_type": "stream",
     "text": [
      "100%|██████████| 97/97 [06:28<00:00,  4.00s/it]\n"
     ]
    }
   ],
   "source": [
    "peps_prots = {}\n",
    "# for prot_file in tqdm(glob('/mnt/nfs/wangd/project/paper_db/pep_files/*.fa')):\n",
    "for prot_file in tqdm(glob('F:\\HPC\\paper_db\\pep_files\\*.fa')):\n",
    "    prot_seqs = set()\n",
    "    prots_dict = {}\n",
    "    parsed_file = SeqIO.parse(prot_file, 'fasta')\n",
    "    sample_name = prot_file.split('/')[-1].split('-')[1]\n",
    "\n",
    "    for record in parsed_file:\n",
    "        try:\n",
    "            prots_dict[str(record.seq)].append(sample_name + ' ' +  str(record.id) + ' ' +  str(record.seq) + ' ' + str(record.description))\n",
    "        except KeyError:\n",
    "            prots_dict[str(record.seq)] = [sample_name + ' ' + str(record.id) + ' ' +  str(record.seq) + ' ' + str(record.description)]\n",
    "#     print('Total number of unique protein sequences = {} in the fasta file: {}'.format(len(prots_dict.keys()), prot_file))\n",
    "\n",
    "    #get non-canonical peptides that are found in canonical proteins from ensembl\n",
    "    found_prots = set()\n",
    "\n",
    "    for prot_seq in prots_dict.keys():\n",
    "        for end_ind, found in auto.iter(prot_seq):\n",
    "            found_prots.add(found)\n",
    "            try:\n",
    "                peps_prots[found].append(prots_dict[prot_seq])\n",
    "            except KeyError:\n",
    "                peps_prots[found] = [prots_dict[prot_seq]]\n",
    "\n",
    "# print('Numner of peptides found in the protein files {} and number of peptides {}'.format(len(peps_prots), len(peps)))"
   ],
   "metadata": {
    "collapsed": false
   }
  },
  {
   "cell_type": "code",
   "execution_count": 28,
   "outputs": [
    {
     "name": "stderr",
     "output_type": "stream",
     "text": [
      "100%|██████████| 97/97 [00:00<00:00, 769.55it/s]\n"
     ]
    }
   ],
   "source": [
    "sample_peps= {}\n",
    "gene_ID_peps = {}\n",
    "protein_ID_peps = {}\n",
    "protein_Seq_peps = {}\n",
    "transcript_ID_peps = {}\n",
    "gene_symbol_peps = {}\n",
    "peps_infos = {}\n",
    "res_infos = {}\n",
    "for pep in tqdm(fail_peps):\n",
    "    prots = [x.split(' ') for xs in peps_prots[pep] for x in xs]\n",
    "    samples, proteins, proteins_seq, genes, gene_symbols, transcripts, gene_biotypes = set(), set(), set(), set(), set(), set(), set()\n",
    "\n",
    "    for prot in prots:\n",
    "        samples.add(prot[0])\n",
    "        proteins.add(prot[1])\n",
    "        proteins_seq.add(prot[2])\n",
    "        genes.add([x for x in prot if x.startswith('gene:')][0].split(':')[-1])\n",
    "        transcripts.add([x for x in prot if x.startswith('transcript:')][0].split(':')[-1])\n",
    "        gene_biotypes.add([x for x in prot if x.startswith('gene_biotype:')][0].split(':')[-1])\n",
    "\n",
    "        if res_infos.get(prot[2]):\n",
    "            res_infos[prot[2]][0].add(pep)\n",
    "            res_infos[prot[2]][1].add(prot[0])\n",
    "        else:\n",
    "            res_infos[prot[2]] = [{pep},{prot[0]},set()]\n",
    "\n",
    "        try:\n",
    "            gene_symbols.add([x for x in prot if x.startswith('gene_symbol:')][0].split(':')[-1])\n",
    "            res_infos[prot[2]][2].add([x for x in prot if x.startswith('gene_symbol:')][0].split(':')[-1])\n",
    "        except IndexError:\n",
    "            pass\n",
    "\n",
    "    peps_infos[pep] = [','.join(gene_symbols), ','.join(gene_biotypes), ','.join(samples), ','.join(proteins), ','.join(proteins_seq), ','.join(genes), ','.join(transcripts)]\n",
    "\n",
    "    for sample in samples:\n",
    "        try:\n",
    "            sample_peps[sample].add(pep)\n",
    "        except KeyError:\n",
    "            sample_peps[sample] = set()\n",
    "            sample_peps[sample].add(pep)\n",
    "\n",
    "    for gene in genes:\n",
    "        try:\n",
    "            gene_ID_peps[gene].add(pep)\n",
    "        except KeyError:\n",
    "            gene_ID_peps[gene] = set()\n",
    "            gene_ID_peps[gene].add(pep)\n",
    "\n",
    "    for prot_id in proteins:\n",
    "        try:\n",
    "            protein_ID_peps[prot_id].add(pep)\n",
    "        except KeyError:\n",
    "            protein_ID_peps[prot_id] = set()\n",
    "            protein_ID_peps[prot_id].add(pep)\n",
    "\n",
    "    for prot_seq in proteins_seq:\n",
    "        try:\n",
    "            protein_Seq_peps[prot_seq].add(pep)\n",
    "        except KeyError:\n",
    "            protein_Seq_peps[prot_seq] = set()\n",
    "            protein_Seq_peps[prot_seq].add(pep)\n",
    "\n",
    "    for transcript in transcripts:\n",
    "        try:\n",
    "            transcript_ID_peps[transcript].add(pep)\n",
    "        except KeyError:\n",
    "            transcript_ID_peps[transcript] = set()\n",
    "            transcript_ID_peps[transcript].add(pep)\n",
    "\n",
    "    for gene_symbol in gene_symbols:\n",
    "        try:\n",
    "            gene_symbol_peps[gene_symbol].add(pep)\n",
    "        except KeyError:\n",
    "            gene_symbol_peps[gene_symbol] = set()\n",
    "            gene_symbol_peps[gene_symbol].add(pep)"
   ],
   "metadata": {
    "collapsed": false
   }
  },
  {
   "cell_type": "markdown",
   "source": [
    "#### peptide_gca_proteins.tsv"
   ],
   "metadata": {
    "collapsed": false
   }
  },
  {
   "cell_type": "code",
   "execution_count": 29,
   "outputs": [],
   "source": [
    "peptide_gca_proteins = pd.DataFrame.from_dict(res_infos, orient='index')\n",
    "peptide_gca_proteins.columns = [\"matching_peptides\",\"sample names\",\"gene_symbol of matching protein\"]\n",
    "peptide_gca_proteins.index.name = \"matching_protein_sequence\"\n",
    "\n",
    "# peptide_gca_proteins[\"peptides_nums\"] =  peptide_gca_proteins[\"matching_peptides\"].apply(lambda x: len(x))\n",
    "# peptide_gca_proteins[\"sample_nums\"] =  peptide_gca_proteins[\"sample names\"].apply(lambda x: len(x))\n",
    "# peptide_gca_proteins[\"gene_symbol of matching protein_nums\"] =  peptide_gca_proteins[\"gene_symbol of matching protein\"].apply(lambda x: len(x))\n",
    "peptide_gca_proteins[\"matching_peptides\"] =  peptide_gca_proteins[\"matching_peptides\"].apply(lambda x: \",\".join(x))\n",
    "peptide_gca_proteins[\"sample names\"] =  peptide_gca_proteins[\"sample names\"].apply(lambda x: \",\".join(x))\n",
    "peptide_gca_proteins[\"gene_symbol of matching protein\"] =  peptide_gca_proteins[\"gene_symbol of matching protein\"].apply(lambda x: \",\".join(x))"
   ],
   "metadata": {
    "collapsed": false
   }
  },
  {
   "cell_type": "code",
   "execution_count": 30,
   "outputs": [],
   "source": [
    "peptide_gca_proteins.to_csv(r\"F:\\HPC\\paper_db\\count\\blast_canonical_count\\peptide_gca_proteins.tsv\", header=1, sep=\"\\t\")"
   ],
   "metadata": {
    "collapsed": false
   }
  },
  {
   "cell_type": "markdown",
   "source": [
    "#### matching_gca_canoical_proteins.tsv"
   ],
   "metadata": {
    "collapsed": false
   }
  },
  {
   "cell_type": "code",
   "execution_count": 89,
   "outputs": [],
   "source": [
    "matching_gca_canoical_proteins = pd.read_table(r\"F:\\HPC\\paper_db\\count\\blast_canonical_count\\peptide_gca_proteins.tsv\")"
   ],
   "metadata": {
    "collapsed": false
   }
  },
  {
   "cell_type": "code",
   "execution_count": 90,
   "outputs": [
    {
     "data": {
      "text/plain": "                             matching_protein_sequence  \\\n0    MKVEACTWAGYSGLYEAIESWDFKKIEKLEEYRLLLKRLQPEFKTR...   \n1    MTTEQRRSLQAFQDYIRKTLDPTYILSYMAPWFREEEVQYIQAEKN...   \n2    MTTEQRRSLQAFQDYIRKTLDPTYILSYMAPWFREGYSGLYEAIES...   \n3    MFSKFTSILQHAVEALAPSLPLQEDFVYHWKAITHYYIETSDDKAP...   \n4    MFSKFTSILQHAVEALAPSLPLQEDFVYHWKAITHYYIETSDDKAP...   \n..                                                 ...   \n549  MTPGTQSPFFLLLLLTVLTVVTGSGHASSTPGGEKETSATQRSSVP...   \n550  MLCGFQEDATPPPPPRLRRLHRRLPRPEEVGMLSLPPGLLTASGSA...   \n551  MLCGFQEDATPPPPPRPRRLHRRLPRPEEVGMLSLPPGLLTVSGSA...   \n552  MLCGFQEDATPPPPPRPRRLHRRLPRPEEVGMLSLPPGLLTVSGSA...   \n553  MLCGFQEDATPPPPPRLRRLHRRLPRPEEVGMLSLPPGLLTASGSA...   \n\n               matching_peptides  \\\n0             AAGFEEIEQDLTQRFEEK   \n1             AAGFEEIEQDLTQRFEEK   \n2             AAGFEEIEQDLTQRFEEK   \n3    FFTGVMEPQLMQTSEMGILTSTALLHR   \n4    FFTGVMEPQLMQTSEMGILTSTALLHR   \n..                           ...   \n549         CHLGPGHQAGPGLHRPPSPR   \n550        ASSGDIGSLDYQEFVVDIESR   \n551        ASSGDIGSLDYQEFVVDIESR   \n552        ASSGDIGSLDYQEFVVDIESR   \n553        ASSGDIGSLDYQEFVVDIESR   \n\n                                          sample names  \\\n0    GCA_018469665.1,GCA_018852605.1,GCA_018469875....   \n1    GCA_018469665.1,GCA_018852605.1,GCA_018469875....   \n2    GCA_018469665.1,GCA_018852605.1,GCA_018469875....   \n3                                      GCA_018469935.1   \n4                                      GCA_018469935.1   \n..                                                 ...   \n549                    GCA_021950905.1,GCA_018852605.1   \n550  GCA_018471095.1,GCA_018505825.1,GCA_018504085....   \n551  GCA_018471065.1,GCA_018503585.1,GCA_018503525....   \n552  GCA_018466855.1,GCA_018504365.1,GCA_018469875....   \n553                                    GCA_018503245.1   \n\n    gene_symbol of matching protein  \n0                             DDX58  \n1                             DDX58  \n2                             DDX58  \n3                          FAM160B1  \n4                          FAM160B1  \n..                              ...  \n549                            MUC1  \n550                           BNIP2  \n551                           BNIP2  \n552                           BNIP2  \n553                           BNIP2  \n\n[554 rows x 4 columns]",
      "text/html": "<div>\n<style scoped>\n    .dataframe tbody tr th:only-of-type {\n        vertical-align: middle;\n    }\n\n    .dataframe tbody tr th {\n        vertical-align: top;\n    }\n\n    .dataframe thead th {\n        text-align: right;\n    }\n</style>\n<table border=\"1\" class=\"dataframe\">\n  <thead>\n    <tr style=\"text-align: right;\">\n      <th></th>\n      <th>matching_protein_sequence</th>\n      <th>matching_peptides</th>\n      <th>sample names</th>\n      <th>gene_symbol of matching protein</th>\n    </tr>\n  </thead>\n  <tbody>\n    <tr>\n      <th>0</th>\n      <td>MKVEACTWAGYSGLYEAIESWDFKKIEKLEEYRLLLKRLQPEFKTR...</td>\n      <td>AAGFEEIEQDLTQRFEEK</td>\n      <td>GCA_018469665.1,GCA_018852605.1,GCA_018469875....</td>\n      <td>DDX58</td>\n    </tr>\n    <tr>\n      <th>1</th>\n      <td>MTTEQRRSLQAFQDYIRKTLDPTYILSYMAPWFREEEVQYIQAEKN...</td>\n      <td>AAGFEEIEQDLTQRFEEK</td>\n      <td>GCA_018469665.1,GCA_018852605.1,GCA_018469875....</td>\n      <td>DDX58</td>\n    </tr>\n    <tr>\n      <th>2</th>\n      <td>MTTEQRRSLQAFQDYIRKTLDPTYILSYMAPWFREGYSGLYEAIES...</td>\n      <td>AAGFEEIEQDLTQRFEEK</td>\n      <td>GCA_018469665.1,GCA_018852605.1,GCA_018469875....</td>\n      <td>DDX58</td>\n    </tr>\n    <tr>\n      <th>3</th>\n      <td>MFSKFTSILQHAVEALAPSLPLQEDFVYHWKAITHYYIETSDDKAP...</td>\n      <td>FFTGVMEPQLMQTSEMGILTSTALLHR</td>\n      <td>GCA_018469935.1</td>\n      <td>FAM160B1</td>\n    </tr>\n    <tr>\n      <th>4</th>\n      <td>MFSKFTSILQHAVEALAPSLPLQEDFVYHWKAITHYYIETSDDKAP...</td>\n      <td>FFTGVMEPQLMQTSEMGILTSTALLHR</td>\n      <td>GCA_018469935.1</td>\n      <td>FAM160B1</td>\n    </tr>\n    <tr>\n      <th>...</th>\n      <td>...</td>\n      <td>...</td>\n      <td>...</td>\n      <td>...</td>\n    </tr>\n    <tr>\n      <th>549</th>\n      <td>MTPGTQSPFFLLLLLTVLTVVTGSGHASSTPGGEKETSATQRSSVP...</td>\n      <td>CHLGPGHQAGPGLHRPPSPR</td>\n      <td>GCA_021950905.1,GCA_018852605.1</td>\n      <td>MUC1</td>\n    </tr>\n    <tr>\n      <th>550</th>\n      <td>MLCGFQEDATPPPPPRLRRLHRRLPRPEEVGMLSLPPGLLTASGSA...</td>\n      <td>ASSGDIGSLDYQEFVVDIESR</td>\n      <td>GCA_018471095.1,GCA_018505825.1,GCA_018504085....</td>\n      <td>BNIP2</td>\n    </tr>\n    <tr>\n      <th>551</th>\n      <td>MLCGFQEDATPPPPPRPRRLHRRLPRPEEVGMLSLPPGLLTVSGSA...</td>\n      <td>ASSGDIGSLDYQEFVVDIESR</td>\n      <td>GCA_018471065.1,GCA_018503585.1,GCA_018503525....</td>\n      <td>BNIP2</td>\n    </tr>\n    <tr>\n      <th>552</th>\n      <td>MLCGFQEDATPPPPPRPRRLHRRLPRPEEVGMLSLPPGLLTVSGSA...</td>\n      <td>ASSGDIGSLDYQEFVVDIESR</td>\n      <td>GCA_018466855.1,GCA_018504365.1,GCA_018469875....</td>\n      <td>BNIP2</td>\n    </tr>\n    <tr>\n      <th>553</th>\n      <td>MLCGFQEDATPPPPPRLRRLHRRLPRPEEVGMLSLPPGLLTASGSA...</td>\n      <td>ASSGDIGSLDYQEFVVDIESR</td>\n      <td>GCA_018503245.1</td>\n      <td>BNIP2</td>\n    </tr>\n  </tbody>\n</table>\n<p>554 rows × 4 columns</p>\n</div>"
     },
     "execution_count": 90,
     "metadata": {},
     "output_type": "execute_result"
    }
   ],
   "source": [
    "matching_gca_canoical_proteins"
   ],
   "metadata": {
    "collapsed": false
   }
  },
  {
   "cell_type": "code",
   "execution_count": 104,
   "outputs": [],
   "source": [
    "def get_blast_canonical_info(x):\n",
    "    blast_res = {}\n",
    "    non_canonical_seq = x[\"matching_protein_sequence\"]\n",
    "\n",
    "    if gene_symbol_proteins.get(x[\"gene_symbol of matching protein\"]):\n",
    "        canonical_seqs = gene_symbol_proteins[x[\"gene_symbol of matching protein\"]]\n",
    "\n",
    "        for canonical_seq in canonical_seqs:\n",
    "            seq = canonical_seq.split(\";\")[0]\n",
    "            alignments = pairwise2.align.globalms(sequenceA = seq,sequenceB = non_canonical_seq, match = 1,mismatch = -1,open = -2,extend = -1,one_alignment_only=True)\n",
    "            alignment = alignments[0]\n",
    "            score = alignment.score\n",
    "            if blast_res:\n",
    "                for value in blast_res.values():\n",
    "                    if value.score > score:\n",
    "                        continue\n",
    "                    elif value == score:\n",
    "                        blast_res[canonical_seq] = alignment\n",
    "                    else:\n",
    "                        blast_res = {canonical_seq:alignment}\n",
    "            else:\n",
    "                blast_res = {canonical_seq:alignment}\n",
    "\n",
    "        final_res = []\n",
    "        for key,value in blast_res.items():\n",
    "            res = []\n",
    "            i = 0\n",
    "            j = 0\n",
    "            for AA1, AA2 in zip(value.seqA, value.seqB):\n",
    "                i += 1\n",
    "                j += 1\n",
    "                if AA1 == AA2:\n",
    "                    continue\n",
    "                if AA1 == '-' and AA2 != '-':\n",
    "                    # insertion\n",
    "                    res.append(str(i) + \"-\" + \">\" + AA2)\n",
    "                    i -= 1\n",
    "                elif AA2 == '-' and AA1 != '-':\n",
    "                    # deletion\n",
    "                    res.append(str(i) + AA1 + \">\" + \"-\")\n",
    "                    j -= 1\n",
    "                else:\n",
    "                    # substitution\n",
    "                    res.append(str(i) + AA1 + \">\" + AA2)\n",
    "\n",
    "            final_res.append({key:res})\n",
    "\n",
    "        return final_res\n",
    "    else:\n",
    "        return \"\""
   ],
   "metadata": {
    "collapsed": false
   }
  },
  {
   "cell_type": "code",
   "execution_count": 105,
   "outputs": [
    {
     "name": "stderr",
     "output_type": "stream",
     "text": [
      "100%|██████████| 554/554 [10:31<00:00,  1.14s/it]\n"
     ]
    }
   ],
   "source": [
    "tqdm.pandas()\n",
    "matching_gca_canoical_proteins[\"match_info\"] = matching_gca_canoical_proteins.progress_apply( get_blast_canonical_info,axis=1)"
   ],
   "metadata": {
    "collapsed": false
   }
  },
  {
   "cell_type": "code",
   "execution_count": 112,
   "outputs": [
    {
     "data": {
      "text/plain": "                             matching_protein_sequence  \\\n0    MKVEACTWAGYSGLYEAIESWDFKKIEKLEEYRLLLKRLQPEFKTR...   \n1    MTTEQRRSLQAFQDYIRKTLDPTYILSYMAPWFREEEVQYIQAEKN...   \n2    MTTEQRRSLQAFQDYIRKTLDPTYILSYMAPWFREGYSGLYEAIES...   \n3    MFSKFTSILQHAVEALAPSLPLQEDFVYHWKAITHYYIETSDDKAP...   \n4    MFSKFTSILQHAVEALAPSLPLQEDFVYHWKAITHYYIETSDDKAP...   \n..                                                 ...   \n549  MTPGTQSPFFLLLLLTVLTVVTGSGHASSTPGGEKETSATQRSSVP...   \n550  MLCGFQEDATPPPPPRLRRLHRRLPRPEEVGMLSLPPGLLTASGSA...   \n551  MLCGFQEDATPPPPPRPRRLHRRLPRPEEVGMLSLPPGLLTVSGSA...   \n552  MLCGFQEDATPPPPPRPRRLHRRLPRPEEVGMLSLPPGLLTVSGSA...   \n553  MLCGFQEDATPPPPPRLRRLHRRLPRPEEVGMLSLPPGLLTASGSA...   \n\n               matching_peptides  \\\n0             AAGFEEIEQDLTQRFEEK   \n1             AAGFEEIEQDLTQRFEEK   \n2             AAGFEEIEQDLTQRFEEK   \n3    FFTGVMEPQLMQTSEMGILTSTALLHR   \n4    FFTGVMEPQLMQTSEMGILTSTALLHR   \n..                           ...   \n549         CHLGPGHQAGPGLHRPPSPR   \n550        ASSGDIGSLDYQEFVVDIESR   \n551        ASSGDIGSLDYQEFVVDIESR   \n552        ASSGDIGSLDYQEFVVDIESR   \n553        ASSGDIGSLDYQEFVVDIESR   \n\n                                          sample names  \\\n0    GCA_018469665.1,GCA_018852605.1,GCA_018469875....   \n1    GCA_018469665.1,GCA_018852605.1,GCA_018469875....   \n2    GCA_018469665.1,GCA_018852605.1,GCA_018469875....   \n3                                      GCA_018469935.1   \n4                                      GCA_018469935.1   \n..                                                 ...   \n549                    GCA_021950905.1,GCA_018852605.1   \n550  GCA_018471095.1,GCA_018505825.1,GCA_018504085....   \n551  GCA_018471065.1,GCA_018503585.1,GCA_018503525....   \n552  GCA_018466855.1,GCA_018504365.1,GCA_018469875....   \n553                                    GCA_018503245.1   \n\n    gene_symbol of matching protein  \\\n0                             DDX58   \n1                             DDX58   \n2                             DDX58   \n3                          FAM160B1   \n4                          FAM160B1   \n..                              ...   \n549                            MUC1   \n550                           BNIP2   \n551                           BNIP2   \n552                           BNIP2   \n553                           BNIP2   \n\n                                            match_info  infonum  \n0                                                             0  \n1                                                             0  \n2                                                             0  \n3                                                             0  \n4                                                             0  \n..                                                 ...      ...  \n549  {'MTPGTQSPFFLLLLLTVLTVVTGSGHASSTPGGEKETSATQRSS...        1  \n550  {'MEGVELKEEWQDEDFPIPLPEDDSIEADILAITGPEDQPGSLEV...        1  \n551  {'MEGVELKEEWQDEDFPIPLPEDDSIEADILAITGPEDQPGSLEV...        1  \n552  {'MEGVELKEEWQDEDFPIPLPEDDSIEADILAITGPEDQPGSLEV...        1  \n553  {'MEGVELKEEWQDEDFPIPLPEDDSIEADILAITGPEDQPGSLEV...        1  \n\n[554 rows x 6 columns]",
      "text/html": "<div>\n<style scoped>\n    .dataframe tbody tr th:only-of-type {\n        vertical-align: middle;\n    }\n\n    .dataframe tbody tr th {\n        vertical-align: top;\n    }\n\n    .dataframe thead th {\n        text-align: right;\n    }\n</style>\n<table border=\"1\" class=\"dataframe\">\n  <thead>\n    <tr style=\"text-align: right;\">\n      <th></th>\n      <th>matching_protein_sequence</th>\n      <th>matching_peptides</th>\n      <th>sample names</th>\n      <th>gene_symbol of matching protein</th>\n      <th>match_info</th>\n      <th>infonum</th>\n    </tr>\n  </thead>\n  <tbody>\n    <tr>\n      <th>0</th>\n      <td>MKVEACTWAGYSGLYEAIESWDFKKIEKLEEYRLLLKRLQPEFKTR...</td>\n      <td>AAGFEEIEQDLTQRFEEK</td>\n      <td>GCA_018469665.1,GCA_018852605.1,GCA_018469875....</td>\n      <td>DDX58</td>\n      <td></td>\n      <td>0</td>\n    </tr>\n    <tr>\n      <th>1</th>\n      <td>MTTEQRRSLQAFQDYIRKTLDPTYILSYMAPWFREEEVQYIQAEKN...</td>\n      <td>AAGFEEIEQDLTQRFEEK</td>\n      <td>GCA_018469665.1,GCA_018852605.1,GCA_018469875....</td>\n      <td>DDX58</td>\n      <td></td>\n      <td>0</td>\n    </tr>\n    <tr>\n      <th>2</th>\n      <td>MTTEQRRSLQAFQDYIRKTLDPTYILSYMAPWFREGYSGLYEAIES...</td>\n      <td>AAGFEEIEQDLTQRFEEK</td>\n      <td>GCA_018469665.1,GCA_018852605.1,GCA_018469875....</td>\n      <td>DDX58</td>\n      <td></td>\n      <td>0</td>\n    </tr>\n    <tr>\n      <th>3</th>\n      <td>MFSKFTSILQHAVEALAPSLPLQEDFVYHWKAITHYYIETSDDKAP...</td>\n      <td>FFTGVMEPQLMQTSEMGILTSTALLHR</td>\n      <td>GCA_018469935.1</td>\n      <td>FAM160B1</td>\n      <td></td>\n      <td>0</td>\n    </tr>\n    <tr>\n      <th>4</th>\n      <td>MFSKFTSILQHAVEALAPSLPLQEDFVYHWKAITHYYIETSDDKAP...</td>\n      <td>FFTGVMEPQLMQTSEMGILTSTALLHR</td>\n      <td>GCA_018469935.1</td>\n      <td>FAM160B1</td>\n      <td></td>\n      <td>0</td>\n    </tr>\n    <tr>\n      <th>...</th>\n      <td>...</td>\n      <td>...</td>\n      <td>...</td>\n      <td>...</td>\n      <td>...</td>\n      <td>...</td>\n    </tr>\n    <tr>\n      <th>549</th>\n      <td>MTPGTQSPFFLLLLLTVLTVVTGSGHASSTPGGEKETSATQRSSVP...</td>\n      <td>CHLGPGHQAGPGLHRPPSPR</td>\n      <td>GCA_021950905.1,GCA_018852605.1</td>\n      <td>MUC1</td>\n      <td>{'MTPGTQSPFFLLLLLTVLTVVTGSGHASSTPGGEKETSATQRSS...</td>\n      <td>1</td>\n    </tr>\n    <tr>\n      <th>550</th>\n      <td>MLCGFQEDATPPPPPRLRRLHRRLPRPEEVGMLSLPPGLLTASGSA...</td>\n      <td>ASSGDIGSLDYQEFVVDIESR</td>\n      <td>GCA_018471095.1,GCA_018505825.1,GCA_018504085....</td>\n      <td>BNIP2</td>\n      <td>{'MEGVELKEEWQDEDFPIPLPEDDSIEADILAITGPEDQPGSLEV...</td>\n      <td>1</td>\n    </tr>\n    <tr>\n      <th>551</th>\n      <td>MLCGFQEDATPPPPPRPRRLHRRLPRPEEVGMLSLPPGLLTVSGSA...</td>\n      <td>ASSGDIGSLDYQEFVVDIESR</td>\n      <td>GCA_018471065.1,GCA_018503585.1,GCA_018503525....</td>\n      <td>BNIP2</td>\n      <td>{'MEGVELKEEWQDEDFPIPLPEDDSIEADILAITGPEDQPGSLEV...</td>\n      <td>1</td>\n    </tr>\n    <tr>\n      <th>552</th>\n      <td>MLCGFQEDATPPPPPRPRRLHRRLPRPEEVGMLSLPPGLLTVSGSA...</td>\n      <td>ASSGDIGSLDYQEFVVDIESR</td>\n      <td>GCA_018466855.1,GCA_018504365.1,GCA_018469875....</td>\n      <td>BNIP2</td>\n      <td>{'MEGVELKEEWQDEDFPIPLPEDDSIEADILAITGPEDQPGSLEV...</td>\n      <td>1</td>\n    </tr>\n    <tr>\n      <th>553</th>\n      <td>MLCGFQEDATPPPPPRLRRLHRRLPRPEEVGMLSLPPGLLTASGSA...</td>\n      <td>ASSGDIGSLDYQEFVVDIESR</td>\n      <td>GCA_018503245.1</td>\n      <td>BNIP2</td>\n      <td>{'MEGVELKEEWQDEDFPIPLPEDDSIEADILAITGPEDQPGSLEV...</td>\n      <td>1</td>\n    </tr>\n  </tbody>\n</table>\n<p>554 rows × 6 columns</p>\n</div>"
     },
     "execution_count": 112,
     "metadata": {},
     "output_type": "execute_result"
    }
   ],
   "source": [
    "matching_gca_canoical_proteins"
   ],
   "metadata": {
    "collapsed": false
   }
  },
  {
   "cell_type": "code",
   "execution_count": 107,
   "outputs": [],
   "source": [
    "matching_gca_canoical_proteins = matching_gca_canoical_proteins.explode(\"match_info\", ignore_index=True)"
   ],
   "metadata": {
    "collapsed": false
   }
  },
  {
   "cell_type": "code",
   "execution_count": 115,
   "outputs": [
    {
     "data": {
      "text/plain": "                             matching_protein_sequence  \\\n0    MKVEACTWAGYSGLYEAIESWDFKKIEKLEEYRLLLKRLQPEFKTR...   \n1    MTTEQRRSLQAFQDYIRKTLDPTYILSYMAPWFREEEVQYIQAEKN...   \n2    MTTEQRRSLQAFQDYIRKTLDPTYILSYMAPWFREGYSGLYEAIES...   \n3    MFSKFTSILQHAVEALAPSLPLQEDFVYHWKAITHYYIETSDDKAP...   \n4    MFSKFTSILQHAVEALAPSLPLQEDFVYHWKAITHYYIETSDDKAP...   \n..                                                 ...   \n549  MTPGTQSPFFLLLLLTVLTVVTGSGHASSTPGGEKETSATQRSSVP...   \n550  MLCGFQEDATPPPPPRLRRLHRRLPRPEEVGMLSLPPGLLTASGSA...   \n551  MLCGFQEDATPPPPPRPRRLHRRLPRPEEVGMLSLPPGLLTVSGSA...   \n552  MLCGFQEDATPPPPPRPRRLHRRLPRPEEVGMLSLPPGLLTVSGSA...   \n553  MLCGFQEDATPPPPPRLRRLHRRLPRPEEVGMLSLPPGLLTASGSA...   \n\n               matching_peptides  \\\n0             AAGFEEIEQDLTQRFEEK   \n1             AAGFEEIEQDLTQRFEEK   \n2             AAGFEEIEQDLTQRFEEK   \n3    FFTGVMEPQLMQTSEMGILTSTALLHR   \n4    FFTGVMEPQLMQTSEMGILTSTALLHR   \n..                           ...   \n549         CHLGPGHQAGPGLHRPPSPR   \n550        ASSGDIGSLDYQEFVVDIESR   \n551        ASSGDIGSLDYQEFVVDIESR   \n552        ASSGDIGSLDYQEFVVDIESR   \n553        ASSGDIGSLDYQEFVVDIESR   \n\n                                          sample names  \\\n0    GCA_018469665.1,GCA_018852605.1,GCA_018469875....   \n1    GCA_018469665.1,GCA_018852605.1,GCA_018469875....   \n2    GCA_018469665.1,GCA_018852605.1,GCA_018469875....   \n3                                      GCA_018469935.1   \n4                                      GCA_018469935.1   \n..                                                 ...   \n549                    GCA_021950905.1,GCA_018852605.1   \n550  GCA_018471095.1,GCA_018505825.1,GCA_018504085....   \n551  GCA_018471065.1,GCA_018503585.1,GCA_018503525....   \n552  GCA_018466855.1,GCA_018504365.1,GCA_018469875....   \n553                                    GCA_018503245.1   \n\n    gene_symbol of matching protein  \\\n0                             DDX58   \n1                             DDX58   \n2                             DDX58   \n3                          FAM160B1   \n4                          FAM160B1   \n..                              ...   \n549                            MUC1   \n550                           BNIP2   \n551                           BNIP2   \n552                           BNIP2   \n553                           BNIP2   \n\n                                            match_info  infonum  \n0                                                             0  \n1                                                             0  \n2                                                             0  \n3                                                             0  \n4                                                             0  \n..                                                 ...      ...  \n549  {'MTPGTQSPFFLLLLLTVLTVVTGSGHASSTPGGEKETSATQRSS...        1  \n550  {'MEGVELKEEWQDEDFPIPLPEDDSIEADILAITGPEDQPGSLEV...        1  \n551  {'MEGVELKEEWQDEDFPIPLPEDDSIEADILAITGPEDQPGSLEV...        1  \n552  {'MEGVELKEEWQDEDFPIPLPEDDSIEADILAITGPEDQPGSLEV...        1  \n553  {'MEGVELKEEWQDEDFPIPLPEDDSIEADILAITGPEDQPGSLEV...        1  \n\n[554 rows x 6 columns]",
      "text/html": "<div>\n<style scoped>\n    .dataframe tbody tr th:only-of-type {\n        vertical-align: middle;\n    }\n\n    .dataframe tbody tr th {\n        vertical-align: top;\n    }\n\n    .dataframe thead th {\n        text-align: right;\n    }\n</style>\n<table border=\"1\" class=\"dataframe\">\n  <thead>\n    <tr style=\"text-align: right;\">\n      <th></th>\n      <th>matching_protein_sequence</th>\n      <th>matching_peptides</th>\n      <th>sample names</th>\n      <th>gene_symbol of matching protein</th>\n      <th>match_info</th>\n      <th>infonum</th>\n    </tr>\n  </thead>\n  <tbody>\n    <tr>\n      <th>0</th>\n      <td>MKVEACTWAGYSGLYEAIESWDFKKIEKLEEYRLLLKRLQPEFKTR...</td>\n      <td>AAGFEEIEQDLTQRFEEK</td>\n      <td>GCA_018469665.1,GCA_018852605.1,GCA_018469875....</td>\n      <td>DDX58</td>\n      <td></td>\n      <td>0</td>\n    </tr>\n    <tr>\n      <th>1</th>\n      <td>MTTEQRRSLQAFQDYIRKTLDPTYILSYMAPWFREEEVQYIQAEKN...</td>\n      <td>AAGFEEIEQDLTQRFEEK</td>\n      <td>GCA_018469665.1,GCA_018852605.1,GCA_018469875....</td>\n      <td>DDX58</td>\n      <td></td>\n      <td>0</td>\n    </tr>\n    <tr>\n      <th>2</th>\n      <td>MTTEQRRSLQAFQDYIRKTLDPTYILSYMAPWFREGYSGLYEAIES...</td>\n      <td>AAGFEEIEQDLTQRFEEK</td>\n      <td>GCA_018469665.1,GCA_018852605.1,GCA_018469875....</td>\n      <td>DDX58</td>\n      <td></td>\n      <td>0</td>\n    </tr>\n    <tr>\n      <th>3</th>\n      <td>MFSKFTSILQHAVEALAPSLPLQEDFVYHWKAITHYYIETSDDKAP...</td>\n      <td>FFTGVMEPQLMQTSEMGILTSTALLHR</td>\n      <td>GCA_018469935.1</td>\n      <td>FAM160B1</td>\n      <td></td>\n      <td>0</td>\n    </tr>\n    <tr>\n      <th>4</th>\n      <td>MFSKFTSILQHAVEALAPSLPLQEDFVYHWKAITHYYIETSDDKAP...</td>\n      <td>FFTGVMEPQLMQTSEMGILTSTALLHR</td>\n      <td>GCA_018469935.1</td>\n      <td>FAM160B1</td>\n      <td></td>\n      <td>0</td>\n    </tr>\n    <tr>\n      <th>...</th>\n      <td>...</td>\n      <td>...</td>\n      <td>...</td>\n      <td>...</td>\n      <td>...</td>\n      <td>...</td>\n    </tr>\n    <tr>\n      <th>549</th>\n      <td>MTPGTQSPFFLLLLLTVLTVVTGSGHASSTPGGEKETSATQRSSVP...</td>\n      <td>CHLGPGHQAGPGLHRPPSPR</td>\n      <td>GCA_021950905.1,GCA_018852605.1</td>\n      <td>MUC1</td>\n      <td>{'MTPGTQSPFFLLLLLTVLTVVTGSGHASSTPGGEKETSATQRSS...</td>\n      <td>1</td>\n    </tr>\n    <tr>\n      <th>550</th>\n      <td>MLCGFQEDATPPPPPRLRRLHRRLPRPEEVGMLSLPPGLLTASGSA...</td>\n      <td>ASSGDIGSLDYQEFVVDIESR</td>\n      <td>GCA_018471095.1,GCA_018505825.1,GCA_018504085....</td>\n      <td>BNIP2</td>\n      <td>{'MEGVELKEEWQDEDFPIPLPEDDSIEADILAITGPEDQPGSLEV...</td>\n      <td>1</td>\n    </tr>\n    <tr>\n      <th>551</th>\n      <td>MLCGFQEDATPPPPPRPRRLHRRLPRPEEVGMLSLPPGLLTVSGSA...</td>\n      <td>ASSGDIGSLDYQEFVVDIESR</td>\n      <td>GCA_018471065.1,GCA_018503585.1,GCA_018503525....</td>\n      <td>BNIP2</td>\n      <td>{'MEGVELKEEWQDEDFPIPLPEDDSIEADILAITGPEDQPGSLEV...</td>\n      <td>1</td>\n    </tr>\n    <tr>\n      <th>552</th>\n      <td>MLCGFQEDATPPPPPRPRRLHRRLPRPEEVGMLSLPPGLLTVSGSA...</td>\n      <td>ASSGDIGSLDYQEFVVDIESR</td>\n      <td>GCA_018466855.1,GCA_018504365.1,GCA_018469875....</td>\n      <td>BNIP2</td>\n      <td>{'MEGVELKEEWQDEDFPIPLPEDDSIEADILAITGPEDQPGSLEV...</td>\n      <td>1</td>\n    </tr>\n    <tr>\n      <th>553</th>\n      <td>MLCGFQEDATPPPPPRLRRLHRRLPRPEEVGMLSLPPGLLTASGSA...</td>\n      <td>ASSGDIGSLDYQEFVVDIESR</td>\n      <td>GCA_018503245.1</td>\n      <td>BNIP2</td>\n      <td>{'MEGVELKEEWQDEDFPIPLPEDDSIEADILAITGPEDQPGSLEV...</td>\n      <td>1</td>\n    </tr>\n  </tbody>\n</table>\n<p>554 rows × 6 columns</p>\n</div>"
     },
     "execution_count": 115,
     "metadata": {},
     "output_type": "execute_result"
    }
   ],
   "source": [
    "matching_gca_canoical_proteins"
   ],
   "metadata": {
    "collapsed": false
   }
  },
  {
   "cell_type": "code",
   "execution_count": 126,
   "outputs": [],
   "source": [
    "matching_gca_canoical_proteins[\"canonical_protein_seq\"] = matching_gca_canoical_proteins[\"match_info\"].apply(lambda x: list(x.keys())[0].split(\";\")[0] if x and list(x.keys())[0] != \"\" else None)\n",
    "matching_gca_canoical_proteins[\"number_mismatches\"] = matching_gca_canoical_proteins[\"match_info\"].apply(lambda x: len(list(x.values())[0]) if x and list(x.values())[0] != \"\" else None)\n",
    "matching_gca_canoical_proteins[\"mismatch_info\"] = matching_gca_canoical_proteins[\"match_info\"].apply(lambda x: \",\".join(list(x.values())[0]) if x and list(x.values())[0] != \"\" else None)\n",
    "matching_gca_canoical_proteins[\"canonical_protein_ID\"] = matching_gca_canoical_proteins[\"match_info\"].apply(lambda x: list(x.keys())[0].split(\";\")[1].split(\" \")[0] if x and list(x.keys())[0] != \"\" else None)\n",
    "matching_gca_canoical_proteins[\"canonical_transcript_ID\"] = matching_gca_canoical_proteins[\"match_info\"].apply(lambda x: [x for x in list(x.keys())[0].split(\" \") if x.startswith('transcript:')][0].split(':')[-1] if x and list(x.keys())[0] != \"\" else None)"
   ],
   "metadata": {
    "collapsed": false
   }
  },
  {
   "cell_type": "code",
   "execution_count": 128,
   "outputs": [],
   "source": [
    "matching_gca_canoical_proteins = matching_gca_canoical_proteins.drop(\"match_info\", axis=1)"
   ],
   "metadata": {
    "collapsed": false
   }
  },
  {
   "cell_type": "code",
   "execution_count": 130,
   "outputs": [],
   "source": [
    "matching_gca_canoical_proteins.to_csv(r\"F:\\HPC\\paper_db\\count\\blast_canonical_count\\matching_gca_canoical_proteins.tsv\", header=1, sep=\"\\t\",index = None)"
   ],
   "metadata": {
    "collapsed": false
   }
  },
  {
   "cell_type": "markdown",
   "source": [
    "#### Novel Peptides Info Count"
   ],
   "metadata": {
    "collapsed": false
   }
  },
  {
   "cell_type": "code",
   "execution_count": 37,
   "outputs": [
    {
     "name": "stdout",
     "output_type": "stream",
     "text": [
      "Number of peptides: 97\n",
      "Number of GCA samples matched: 97\n",
      "Number of gene ids matched: 1327\n",
      "Number of transcript ids matched: 3290\n",
      "Number of protein ids matched: 3290\n",
      "Number of protein seqs matched: 554\n",
      "Number of gene_symbols matched: 56\n"
     ]
    }
   ],
   "source": [
    "print(\"Number of peptides: {}\".format(len(fail_peps)))\n",
    "print(\"Number of GCA samples matched: {}\".format(len(sample_peps)))\n",
    "print(\"Number of gene ids matched: {}\".format(len(gene_ID_peps)))\n",
    "print(\"Number of transcript ids matched: {}\".format(len(transcript_ID_peps)))\n",
    "print(\"Number of protein ids matched: {}\".format(len(protein_ID_peps)))\n",
    "print(\"Number of protein seqs matched: {}\".format(len(protein_Seq_peps)))\n",
    "print(\"Number of gene_symbols matched: {}\".format(len(gene_symbol_peps)))"
   ],
   "metadata": {
    "collapsed": false
   }
  },
  {
   "cell_type": "markdown",
   "source": [
    "#### Protein_with_two_peptides"
   ],
   "metadata": {
    "collapsed": false
   }
  },
  {
   "cell_type": "code",
   "execution_count": 38,
   "outputs": [],
   "source": [
    "protein_with_two_peptides = {}\n",
    "for protein_seq, peptide_seqs in protein_Seq_peps.items():\n",
    "    if len(peptide_seqs) > 1:\n",
    "        protein_with_two_peptides[protein_seq] = \",\".join(peptide_seqs)"
   ],
   "metadata": {
    "collapsed": false
   }
  },
  {
   "cell_type": "code",
   "execution_count": 39,
   "outputs": [
    {
     "data": {
      "text/plain": "44"
     },
     "execution_count": 39,
     "metadata": {},
     "output_type": "execute_result"
    }
   ],
   "source": [
    "len(protein_with_two_peptides)"
   ],
   "metadata": {
    "collapsed": false
   }
  },
  {
   "cell_type": "code",
   "execution_count": 40,
   "outputs": [],
   "source": [
    "df_protein_with_two_peptides = pd.DataFrame(list(protein_with_two_peptides.items()), columns=['protein_seq', 'peptides'])"
   ],
   "metadata": {
    "collapsed": false
   }
  },
  {
   "cell_type": "code",
   "execution_count": 41,
   "outputs": [],
   "source": [
    "df_protein_with_two_peptides.to_csv(r\"F:\\HPC\\paper_db\\count\\blast_canonical_count\\protein_with_two_peptides.tsv\", header=1, sep=\"\\t\",index = None)"
   ],
   "metadata": {
    "collapsed": false
   }
  },
  {
   "cell_type": "code",
   "execution_count": 42,
   "outputs": [
    {
     "data": {
      "text/plain": "                                          protein_seq  \\\n0   MGKVRGLRARVHQAAVRPKGEAAPGPAPPAPEATLPPASAAGKDWA...   \n1   MGKVRGLRARVHQAAVRPKGEAAPGPAPPAPEATPPPASAAGKDWA...   \n2   MGKVRGLRARVHQAAVRPKGEAAPGPAPPAPEATPPPASAAGKDWA...   \n3   MGKVRGLRARVHQAAVRPKGEAAPGPAPPAPEATLPPASAAGKDWA...   \n4   MDWTWRILFLVAAATGAHSQVQLVQSGAEVKKPGASVKVSCKASGY...   \n5   MSTSSLRRQMKNIVHNYSEAEIKVREATSNDPWGPSSSLMSEIADL...   \n6   MSTSSLRRQMKNIVHNYSEAEIKVREATSNDPWGPSSSLMSEIADL...   \n7   MGDQSWLWNQAAPGVRSPVFACSVEKGNVPLVLSEHLAHSRDPGSG...   \n8   MVFRRFVEVGRVAYVSFGPHAGKLVAIVDVIDQNRALVDGPCTQVR...   \n9   MGCHSSKSTTVAAESQKLEEECEGREPGLETGTQAADCKDAPLKDG...   \n10  MKLLTGLVFCSLVLGVSSRSFFSFLGEAFDGARDMWRAYSDMREAN...   \n11  MKLLTGLVFCSLVLGVSSRSFFSFLGEAFDGARDMWRAYSDMREAN...   \n12  MKLLTGLVFCSLVLGVSSRSFFSFLGEAFDGARDMWRAYSDMREAN...   \n13  MKLLTGLVFCSLVLGVSSRSFFSFLGEAFDGARDMWRAYSDMREAN...   \n14  MEFGLSWVFLVALLRGVQCQVQLVESGGGVVQPGRSLRLSCAASGF...   \n15  MSLRNLWRDYKVLVVMVPLVGLIHLGWYRIKSSPVFQIPKNDNIPE...   \n16  MELGLSWIFLLAILKGVQCEVQLVESGGGLVQPGRSLRLSCAASGF...   \n17  AILKGVQCEVQLVESAGGLVQPGGSLRLSCAASGFTCSNAWMSWVR...   \n18  AILKGVQCEVQLVESAGGLVQPGGSLRLSCAASGFTCSNAWMSWVR...   \n19  MTPGTQSPFFLLLLLTVLTVVTGSGHASSTPGGEKETSATQRSSVP...   \n20  MTPGTQSPFFLLLLLTVLTVVTGSGHASSTPGGEKETSATQRSSVP...   \n21  MTPGTQSPFFLLLLLTVLTVVTGSGHASSTPGGEKETSATQRSSVP...   \n22  MTPGTQSPFFLLLLLTVLTVVTGSGHASSTPGGEKETSATQRSSVP...   \n23  MTPGTQSPFFLLLLLTVLTVVTGSGHASSTPGGEKETSATQRSSVP...   \n24  MTPGTQSPFFLLLLLTVLTVVTGSGHASSTPGGEKETSATQRSSVP...   \n25  MTPGTQSPFFLLLLLTVLTVVTGSGHASSTPGGEKETSATQRSSVP...   \n26  MTPGTQSPFFLLLLLTVLTVVTGSGHASSTPGGEKETSATQRSSVP...   \n27  MTPGTQSPFFLLLLLTVLTVVTGSGHASSTPGGEKETSATQRSSVP...   \n28  XRVMAPRTLILLLSGALALTETWAGSHSMRYFSTSVSWPGRGEPRF...   \n29  MRVMAPRTLILLLSGALALTETWAGSHSMRYFSTSVSWPGRGEPRF...   \n30  MRVMAPRTLILLLSGALALTETWAGSHSMRYFSTSVSWPGRGEPRF...   \n31  MRVMAPRTLILLLSGALALTETWAGSHSMRYFSTSVSWPGRGEPRF...   \n32  MTPGTQSPFFLLLLLTVLTVVTGSGHASSTPGGEKETSATQRSSVP...   \n33  MTPGTQSPFFLLLLLTVLTVVTGSGHASSTPGGEKETSATQRSSVP...   \n34  MTPGTQSPFFLLLLLTVLTVVTGSGHASSTPGGEKETSATQRSSVP...   \n35  MTPGTQSPFFLLLLLTVLTVVTGSGHASSTPGGEKETSATQRSSVP...   \n36  MTPGTQSPFFLLLLLTVLTVVTGSGHASSTPGGEKETSATQRSSVP...   \n37  MTPGTQSPFFLLLLLTVLTVVTGSGHASSTPGGEKETSATQRSSVP...   \n38  MTPGTQSPFFLLLLLTVLTVVTGSGHASSTPGGEKETSATQRSSVP...   \n39  MTPGTQSPFFLLLLLTVLTVVTGSGHASSTPGGEKETSATQRSSVP...   \n40  MTPGTQSPFFLLLLLTVLTVVTGSGHASSTPGGEKETSATQRSSVP...   \n41  MTPGTQSPFFLLLLLTVLTVVTGSGHASSTPGGEKETSATQRSSVP...   \n42  XSTKGPSVFPLAPCSRSTSGGTAALGCLVKDYFPEPVTVSWNSGAL...   \n43  XSTKGPSVFPLAPCSRSTSGGTAALGCLVKDYFPEPVTVSWNSGAL...   \n\n                                             peptides  \n0                        DALPELLGLEAGIR,ASPLLAIGQTLAR  \n1                        DALPELLGLEAGIR,ASPLLAIGQTLAR  \n2                        DALPELLGLEAGIR,ASPLLAIGQTLAR  \n3                        DALPELLGLEAGIR,ASPLLAIGQTLAR  \n4                       DTSISTAYMDLSR,ASGYTYTDYYMHWVR  \n5   KTPESFLGPNAALVDLDSLVSRPGPTLPGAK,TPESFLGPNAALVD...  \n6   KTPESFLGPNAALVDLDSLVSRPGPTLPGAK,TPESFLGPNAALVD...  \n7   KTPESFLGPNAALVDLDSLVSRPGPTLPGAK,TPESFLGPNAALVD...  \n8   KAPGTKGTAAAAAAAAAAAAAAAK,GTAAAAAAAAAAAAAAAK,GT...  \n9   LEEECEGREPGLETGTQAADCKDAPLK,LEEECEGREPGLETGTQA...  \n10  GNYDAAKRGPGGVWAAEAISDAR,GPGGVWAAEAISDARENIQR,R...  \n11  GNYDAAKRGPGGVWAAEAISDAR,GPGGVWAAEAISDARENIQR,R...  \n12  GNYDAAKRGPGGVWAAEAISDAR,GPGGVWAAEAISDARENIQR,R...  \n13  GNYDAAKRGPGGVWAAEAISDAR,GPGGVWAAEAISDARENIQR,R...  \n14                    AEDTAVYFCAK,LSCAASGFTFSTYGMHWVR  \n15       SSPVFQIPKNDNIPEQDSLGLSNLQK,NDNIPEQDSLGLSNLQK  \n16                 AEDMALYYCAK,GLEWVSGISWNSGSIGYADSVK  \n17                      ANGGTTDYAAPVK,SKANGGTTDYAAPVK  \n18                      ANGGTTDYAAPVK,SKANGGTTDYAAPVK  \n19               CHLGPGEQAGPGLHR,CHLGPGHQAGPGLHRPPSPR  \n20               CHLGPGEQAGPGLHR,CHLGPGHQAGPGLHRPPSPR  \n21               CHLGPGEQAGPGLHR,CHLGPGHQAGPGLHRPPSPR  \n22  PAPGSTAPAAHGVTSAPESR,CHLGPGEQAGPGLHR,CHLGPGHQA...  \n23  PAPGSTAPAAHGVTSAPESR,CHLGPGEQAGPGLHR,CHLGPGHQA...  \n24  PAPGSTAPAAHGVTSAPESR,CHLGPGEQAGPGLHR,CHLGPGHQA...  \n25  PAPGSTAPAAHGVTSAPESR,CHLGPGEQAGPGLHR,CHLGPGHQA...  \n26  PAPGSTAPAAHGVTSAPESR,CHLGPGEQAGPGLHR,CHLGPGHQA...  \n27  PAPGSTAPAAHGVTSAPESR,CHLGPGEQAGPGLHR,CHLGPGHQA...  \n28                        YFSTSVSWPGRGEPR,YFSTSVSWPGR  \n29                        YFSTSVSWPGRGEPR,YFSTSVSWPGR  \n30                        YFSTSVSWPGRGEPR,YFSTSVSWPGR  \n31                        YFSTSVSWPGRGEPR,YFSTSVSWPGR  \n32          PAPGSTAPAAHGVTSAPESR,CHLGPGHQAGPGLHRPPSPR  \n33          PAPGSTAPAAHGVTSAPESR,CHLGPGHQAGPGLHRPPSPR  \n34          PAPGSTAPAAHGVTSAPESR,CHLGPGHQAGPGLHRPPSPR  \n35          PAPGSTAPAAHGVTSAPESR,CHLGPGHQAGPGLHRPPSPR  \n36          PAPGSTAPAAHGVTSAPESR,CHLGPGHQAGPGLHRPPSPR  \n37          PAPGSTAPAAHGVTSAPESR,CHLGPGHQAGPGLHRPPSPR  \n38          PAPGSTAPAAHGVTSAPESR,CHLGPGHQAGPGLHRPPSPR  \n39          PAPGSTAPAAHGVTSAPESR,CHLGPGHQAGPGLHRPPSPR  \n40          PAPGSTAPAAHGVTSAPESR,CHLGPGHQAGPGLHRPPSPR  \n41          PAPGSTAPAAHGVTSAPESR,CHLGPGHQAGPGLHRPPSPR  \n42  PAQASPSSSSSSSAPELLGGPSVFLFPPKPK,CPGKPAQASPSSSS...  \n43  PAQASPSSSSSSSAPELLGGPSVFLFPPKPK,CPGKPAQASPSSSS...  ",
      "text/html": "<div>\n<style scoped>\n    .dataframe tbody tr th:only-of-type {\n        vertical-align: middle;\n    }\n\n    .dataframe tbody tr th {\n        vertical-align: top;\n    }\n\n    .dataframe thead th {\n        text-align: right;\n    }\n</style>\n<table border=\"1\" class=\"dataframe\">\n  <thead>\n    <tr style=\"text-align: right;\">\n      <th></th>\n      <th>protein_seq</th>\n      <th>peptides</th>\n    </tr>\n  </thead>\n  <tbody>\n    <tr>\n      <th>0</th>\n      <td>MGKVRGLRARVHQAAVRPKGEAAPGPAPPAPEATLPPASAAGKDWA...</td>\n      <td>DALPELLGLEAGIR,ASPLLAIGQTLAR</td>\n    </tr>\n    <tr>\n      <th>1</th>\n      <td>MGKVRGLRARVHQAAVRPKGEAAPGPAPPAPEATPPPASAAGKDWA...</td>\n      <td>DALPELLGLEAGIR,ASPLLAIGQTLAR</td>\n    </tr>\n    <tr>\n      <th>2</th>\n      <td>MGKVRGLRARVHQAAVRPKGEAAPGPAPPAPEATPPPASAAGKDWA...</td>\n      <td>DALPELLGLEAGIR,ASPLLAIGQTLAR</td>\n    </tr>\n    <tr>\n      <th>3</th>\n      <td>MGKVRGLRARVHQAAVRPKGEAAPGPAPPAPEATLPPASAAGKDWA...</td>\n      <td>DALPELLGLEAGIR,ASPLLAIGQTLAR</td>\n    </tr>\n    <tr>\n      <th>4</th>\n      <td>MDWTWRILFLVAAATGAHSQVQLVQSGAEVKKPGASVKVSCKASGY...</td>\n      <td>DTSISTAYMDLSR,ASGYTYTDYYMHWVR</td>\n    </tr>\n    <tr>\n      <th>5</th>\n      <td>MSTSSLRRQMKNIVHNYSEAEIKVREATSNDPWGPSSSLMSEIADL...</td>\n      <td>KTPESFLGPNAALVDLDSLVSRPGPTLPGAK,TPESFLGPNAALVD...</td>\n    </tr>\n    <tr>\n      <th>6</th>\n      <td>MSTSSLRRQMKNIVHNYSEAEIKVREATSNDPWGPSSSLMSEIADL...</td>\n      <td>KTPESFLGPNAALVDLDSLVSRPGPTLPGAK,TPESFLGPNAALVD...</td>\n    </tr>\n    <tr>\n      <th>7</th>\n      <td>MGDQSWLWNQAAPGVRSPVFACSVEKGNVPLVLSEHLAHSRDPGSG...</td>\n      <td>KTPESFLGPNAALVDLDSLVSRPGPTLPGAK,TPESFLGPNAALVD...</td>\n    </tr>\n    <tr>\n      <th>8</th>\n      <td>MVFRRFVEVGRVAYVSFGPHAGKLVAIVDVIDQNRALVDGPCTQVR...</td>\n      <td>KAPGTKGTAAAAAAAAAAAAAAAK,GTAAAAAAAAAAAAAAAK,GT...</td>\n    </tr>\n    <tr>\n      <th>9</th>\n      <td>MGCHSSKSTTVAAESQKLEEECEGREPGLETGTQAADCKDAPLKDG...</td>\n      <td>LEEECEGREPGLETGTQAADCKDAPLK,LEEECEGREPGLETGTQA...</td>\n    </tr>\n    <tr>\n      <th>10</th>\n      <td>MKLLTGLVFCSLVLGVSSRSFFSFLGEAFDGARDMWRAYSDMREAN...</td>\n      <td>GNYDAAKRGPGGVWAAEAISDAR,GPGGVWAAEAISDARENIQR,R...</td>\n    </tr>\n    <tr>\n      <th>11</th>\n      <td>MKLLTGLVFCSLVLGVSSRSFFSFLGEAFDGARDMWRAYSDMREAN...</td>\n      <td>GNYDAAKRGPGGVWAAEAISDAR,GPGGVWAAEAISDARENIQR,R...</td>\n    </tr>\n    <tr>\n      <th>12</th>\n      <td>MKLLTGLVFCSLVLGVSSRSFFSFLGEAFDGARDMWRAYSDMREAN...</td>\n      <td>GNYDAAKRGPGGVWAAEAISDAR,GPGGVWAAEAISDARENIQR,R...</td>\n    </tr>\n    <tr>\n      <th>13</th>\n      <td>MKLLTGLVFCSLVLGVSSRSFFSFLGEAFDGARDMWRAYSDMREAN...</td>\n      <td>GNYDAAKRGPGGVWAAEAISDAR,GPGGVWAAEAISDARENIQR,R...</td>\n    </tr>\n    <tr>\n      <th>14</th>\n      <td>MEFGLSWVFLVALLRGVQCQVQLVESGGGVVQPGRSLRLSCAASGF...</td>\n      <td>AEDTAVYFCAK,LSCAASGFTFSTYGMHWVR</td>\n    </tr>\n    <tr>\n      <th>15</th>\n      <td>MSLRNLWRDYKVLVVMVPLVGLIHLGWYRIKSSPVFQIPKNDNIPE...</td>\n      <td>SSPVFQIPKNDNIPEQDSLGLSNLQK,NDNIPEQDSLGLSNLQK</td>\n    </tr>\n    <tr>\n      <th>16</th>\n      <td>MELGLSWIFLLAILKGVQCEVQLVESGGGLVQPGRSLRLSCAASGF...</td>\n      <td>AEDMALYYCAK,GLEWVSGISWNSGSIGYADSVK</td>\n    </tr>\n    <tr>\n      <th>17</th>\n      <td>AILKGVQCEVQLVESAGGLVQPGGSLRLSCAASGFTCSNAWMSWVR...</td>\n      <td>ANGGTTDYAAPVK,SKANGGTTDYAAPVK</td>\n    </tr>\n    <tr>\n      <th>18</th>\n      <td>AILKGVQCEVQLVESAGGLVQPGGSLRLSCAASGFTCSNAWMSWVR...</td>\n      <td>ANGGTTDYAAPVK,SKANGGTTDYAAPVK</td>\n    </tr>\n    <tr>\n      <th>19</th>\n      <td>MTPGTQSPFFLLLLLTVLTVVTGSGHASSTPGGEKETSATQRSSVP...</td>\n      <td>CHLGPGEQAGPGLHR,CHLGPGHQAGPGLHRPPSPR</td>\n    </tr>\n    <tr>\n      <th>20</th>\n      <td>MTPGTQSPFFLLLLLTVLTVVTGSGHASSTPGGEKETSATQRSSVP...</td>\n      <td>CHLGPGEQAGPGLHR,CHLGPGHQAGPGLHRPPSPR</td>\n    </tr>\n    <tr>\n      <th>21</th>\n      <td>MTPGTQSPFFLLLLLTVLTVVTGSGHASSTPGGEKETSATQRSSVP...</td>\n      <td>CHLGPGEQAGPGLHR,CHLGPGHQAGPGLHRPPSPR</td>\n    </tr>\n    <tr>\n      <th>22</th>\n      <td>MTPGTQSPFFLLLLLTVLTVVTGSGHASSTPGGEKETSATQRSSVP...</td>\n      <td>PAPGSTAPAAHGVTSAPESR,CHLGPGEQAGPGLHR,CHLGPGHQA...</td>\n    </tr>\n    <tr>\n      <th>23</th>\n      <td>MTPGTQSPFFLLLLLTVLTVVTGSGHASSTPGGEKETSATQRSSVP...</td>\n      <td>PAPGSTAPAAHGVTSAPESR,CHLGPGEQAGPGLHR,CHLGPGHQA...</td>\n    </tr>\n    <tr>\n      <th>24</th>\n      <td>MTPGTQSPFFLLLLLTVLTVVTGSGHASSTPGGEKETSATQRSSVP...</td>\n      <td>PAPGSTAPAAHGVTSAPESR,CHLGPGEQAGPGLHR,CHLGPGHQA...</td>\n    </tr>\n    <tr>\n      <th>25</th>\n      <td>MTPGTQSPFFLLLLLTVLTVVTGSGHASSTPGGEKETSATQRSSVP...</td>\n      <td>PAPGSTAPAAHGVTSAPESR,CHLGPGEQAGPGLHR,CHLGPGHQA...</td>\n    </tr>\n    <tr>\n      <th>26</th>\n      <td>MTPGTQSPFFLLLLLTVLTVVTGSGHASSTPGGEKETSATQRSSVP...</td>\n      <td>PAPGSTAPAAHGVTSAPESR,CHLGPGEQAGPGLHR,CHLGPGHQA...</td>\n    </tr>\n    <tr>\n      <th>27</th>\n      <td>MTPGTQSPFFLLLLLTVLTVVTGSGHASSTPGGEKETSATQRSSVP...</td>\n      <td>PAPGSTAPAAHGVTSAPESR,CHLGPGEQAGPGLHR,CHLGPGHQA...</td>\n    </tr>\n    <tr>\n      <th>28</th>\n      <td>XRVMAPRTLILLLSGALALTETWAGSHSMRYFSTSVSWPGRGEPRF...</td>\n      <td>YFSTSVSWPGRGEPR,YFSTSVSWPGR</td>\n    </tr>\n    <tr>\n      <th>29</th>\n      <td>MRVMAPRTLILLLSGALALTETWAGSHSMRYFSTSVSWPGRGEPRF...</td>\n      <td>YFSTSVSWPGRGEPR,YFSTSVSWPGR</td>\n    </tr>\n    <tr>\n      <th>30</th>\n      <td>MRVMAPRTLILLLSGALALTETWAGSHSMRYFSTSVSWPGRGEPRF...</td>\n      <td>YFSTSVSWPGRGEPR,YFSTSVSWPGR</td>\n    </tr>\n    <tr>\n      <th>31</th>\n      <td>MRVMAPRTLILLLSGALALTETWAGSHSMRYFSTSVSWPGRGEPRF...</td>\n      <td>YFSTSVSWPGRGEPR,YFSTSVSWPGR</td>\n    </tr>\n    <tr>\n      <th>32</th>\n      <td>MTPGTQSPFFLLLLLTVLTVVTGSGHASSTPGGEKETSATQRSSVP...</td>\n      <td>PAPGSTAPAAHGVTSAPESR,CHLGPGHQAGPGLHRPPSPR</td>\n    </tr>\n    <tr>\n      <th>33</th>\n      <td>MTPGTQSPFFLLLLLTVLTVVTGSGHASSTPGGEKETSATQRSSVP...</td>\n      <td>PAPGSTAPAAHGVTSAPESR,CHLGPGHQAGPGLHRPPSPR</td>\n    </tr>\n    <tr>\n      <th>34</th>\n      <td>MTPGTQSPFFLLLLLTVLTVVTGSGHASSTPGGEKETSATQRSSVP...</td>\n      <td>PAPGSTAPAAHGVTSAPESR,CHLGPGHQAGPGLHRPPSPR</td>\n    </tr>\n    <tr>\n      <th>35</th>\n      <td>MTPGTQSPFFLLLLLTVLTVVTGSGHASSTPGGEKETSATQRSSVP...</td>\n      <td>PAPGSTAPAAHGVTSAPESR,CHLGPGHQAGPGLHRPPSPR</td>\n    </tr>\n    <tr>\n      <th>36</th>\n      <td>MTPGTQSPFFLLLLLTVLTVVTGSGHASSTPGGEKETSATQRSSVP...</td>\n      <td>PAPGSTAPAAHGVTSAPESR,CHLGPGHQAGPGLHRPPSPR</td>\n    </tr>\n    <tr>\n      <th>37</th>\n      <td>MTPGTQSPFFLLLLLTVLTVVTGSGHASSTPGGEKETSATQRSSVP...</td>\n      <td>PAPGSTAPAAHGVTSAPESR,CHLGPGHQAGPGLHRPPSPR</td>\n    </tr>\n    <tr>\n      <th>38</th>\n      <td>MTPGTQSPFFLLLLLTVLTVVTGSGHASSTPGGEKETSATQRSSVP...</td>\n      <td>PAPGSTAPAAHGVTSAPESR,CHLGPGHQAGPGLHRPPSPR</td>\n    </tr>\n    <tr>\n      <th>39</th>\n      <td>MTPGTQSPFFLLLLLTVLTVVTGSGHASSTPGGEKETSATQRSSVP...</td>\n      <td>PAPGSTAPAAHGVTSAPESR,CHLGPGHQAGPGLHRPPSPR</td>\n    </tr>\n    <tr>\n      <th>40</th>\n      <td>MTPGTQSPFFLLLLLTVLTVVTGSGHASSTPGGEKETSATQRSSVP...</td>\n      <td>PAPGSTAPAAHGVTSAPESR,CHLGPGHQAGPGLHRPPSPR</td>\n    </tr>\n    <tr>\n      <th>41</th>\n      <td>MTPGTQSPFFLLLLLTVLTVVTGSGHASSTPGGEKETSATQRSSVP...</td>\n      <td>PAPGSTAPAAHGVTSAPESR,CHLGPGHQAGPGLHRPPSPR</td>\n    </tr>\n    <tr>\n      <th>42</th>\n      <td>XSTKGPSVFPLAPCSRSTSGGTAALGCLVKDYFPEPVTVSWNSGAL...</td>\n      <td>PAQASPSSSSSSSAPELLGGPSVFLFPPKPK,CPGKPAQASPSSSS...</td>\n    </tr>\n    <tr>\n      <th>43</th>\n      <td>XSTKGPSVFPLAPCSRSTSGGTAALGCLVKDYFPEPVTVSWNSGAL...</td>\n      <td>PAQASPSSSSSSSAPELLGGPSVFLFPPKPK,CPGKPAQASPSSSS...</td>\n    </tr>\n  </tbody>\n</table>\n</div>"
     },
     "execution_count": 42,
     "metadata": {},
     "output_type": "execute_result"
    }
   ],
   "source": [
    "df_protein_with_two_peptides"
   ],
   "metadata": {
    "collapsed": false
   }
  },
  {
   "cell_type": "code",
   "execution_count": 42,
   "outputs": [],
   "source": [],
   "metadata": {
    "collapsed": false
   }
  },
  {
   "cell_type": "code",
   "execution_count": 42,
   "outputs": [],
   "source": [],
   "metadata": {
    "collapsed": false
   }
  }
 ],
 "metadata": {
  "kernelspec": {
   "display_name": "Python 3 (ipykernel)",
   "language": "python",
   "name": "python3"
  },
  "language_info": {
   "codemirror_mode": {
    "name": "ipython",
    "version": 3
   },
   "file_extension": ".py",
   "mimetype": "text/x-python",
   "name": "python",
   "nbconvert_exporter": "python",
   "pygments_lexer": "ipython3",
   "version": "3.8.17"
  }
 },
 "nbformat": 4,
 "nbformat_minor": 5
}
