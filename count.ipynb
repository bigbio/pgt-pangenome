{
 "cells": [
  {
   "cell_type": "code",
   "execution_count": 6,
   "id": "852e28dd",
   "metadata": {},
   "outputs": [],
   "source": [
    "import pandas as pd\n",
    "# import pyarrow.parquet as pq\n",
    "from glob import glob\n",
    "import ahocorasick\n",
    "from Bio import SeqIO\n",
    "from tqdm import tqdm\n",
    "import matplotlib.pyplot as plt"
   ]
  },
  {
   "cell_type": "code",
   "execution_count": 7,
   "id": "0337c116",
   "metadata": {},
   "outputs": [],
   "source": [
    "gca_validate_res = pd.read_table(\"/mnt/nfs/wangd/project/10154parquet/res/spectrumAI/all_GCA_valiadate_out.tsv\")"
   ]
  },
  {
   "cell_type": "code",
   "execution_count": 8,
   "id": "6f0134cb",
   "metadata": {},
   "outputs": [
    {
     "data": {
      "text/html": [
       "<div>\n",
       "<style scoped>\n",
       "    .dataframe tbody tr th:only-of-type {\n",
       "        vertical-align: middle;\n",
       "    }\n",
       "\n",
       "    .dataframe tbody tr th {\n",
       "        vertical-align: top;\n",
       "    }\n",
       "\n",
       "    .dataframe thead th {\n",
       "        text-align: right;\n",
       "    }\n",
       "</style>\n",
       "<table border=\"1\" class=\"dataframe\">\n",
       "  <thead>\n",
       "    <tr style=\"text-align: right;\">\n",
       "      <th></th>\n",
       "      <th>sequence</th>\n",
       "      <th>protein_accessions</th>\n",
       "      <th>protein_start_positions</th>\n",
       "      <th>protein_end_positions</th>\n",
       "      <th>protein_global_qvalue</th>\n",
       "      <th>unique</th>\n",
       "      <th>modifications</th>\n",
       "      <th>retention_time</th>\n",
       "      <th>charge</th>\n",
       "      <th>exp_mass_to_charge</th>\n",
       "      <th>...</th>\n",
       "      <th>sum.supportions.intensity</th>\n",
       "      <th>flanking_ions_support</th>\n",
       "      <th>flanking_ions</th>\n",
       "      <th>sum.flanking.ions.intensity</th>\n",
       "      <th>matched_ions</th>\n",
       "      <th>sum.matchedions.intensity</th>\n",
       "      <th>sum.fragmentions.intensity</th>\n",
       "      <th>maxintensity</th>\n",
       "      <th>average_intensity</th>\n",
       "      <th>median_intensity</th>\n",
       "    </tr>\n",
       "  </thead>\n",
       "  <tbody>\n",
       "    <tr>\n",
       "      <th>0</th>\n",
       "      <td>ALLEGESNPEIVIWAEHIENMPSEFR</td>\n",
       "      <td>GCA_171427</td>\n",
       "      <td>[313]</td>\n",
       "      <td>[338]</td>\n",
       "      <td>0.000556</td>\n",
       "      <td>1</td>\n",
       "      <td>['8-UNIMOD:7']</td>\n",
       "      <td>6139.0</td>\n",
       "      <td>3</td>\n",
       "      <td>1004.828918</td>\n",
       "      <td>...</td>\n",
       "      <td>5424.297363</td>\n",
       "      <td>NO</td>\n",
       "      <td>NaN</td>\n",
       "      <td>0.000000</td>\n",
       "      <td>b3,b4,y5,y12,y13</td>\n",
       "      <td>19431.125000</td>\n",
       "      <td>1.420868e+05</td>\n",
       "      <td>14834.776367</td>\n",
       "      <td>5074.530273</td>\n",
       "      <td>2864.845703</td>\n",
       "    </tr>\n",
       "    <tr>\n",
       "      <th>1</th>\n",
       "      <td>SMGSKEDLIWELLNQAQEHFGK</td>\n",
       "      <td>GCA_181600</td>\n",
       "      <td>[274]</td>\n",
       "      <td>[295]</td>\n",
       "      <td>0.000556</td>\n",
       "      <td>1</td>\n",
       "      <td>['2-UNIMOD:35' '14-UNIMOD:7']</td>\n",
       "      <td>5621.1</td>\n",
       "      <td>4</td>\n",
       "      <td>645.313949</td>\n",
       "      <td>...</td>\n",
       "      <td>0.000000</td>\n",
       "      <td>NO</td>\n",
       "      <td>NaN</td>\n",
       "      <td>0.000000</td>\n",
       "      <td>y2,b2,y3,y4,y5,y6,y7,y8</td>\n",
       "      <td>176022.937500</td>\n",
       "      <td>1.215564e+06</td>\n",
       "      <td>56165.175781</td>\n",
       "      <td>7150.376465</td>\n",
       "      <td>3683.201416</td>\n",
       "    </tr>\n",
       "    <tr>\n",
       "      <th>2</th>\n",
       "      <td>DVGEWQHEEFYR</td>\n",
       "      <td>GCA_227150</td>\n",
       "      <td>[305]</td>\n",
       "      <td>[316]</td>\n",
       "      <td>0.000556</td>\n",
       "      <td>1</td>\n",
       "      <td>NaN</td>\n",
       "      <td>2782.0</td>\n",
       "      <td>2</td>\n",
       "      <td>798.354431</td>\n",
       "      <td>...</td>\n",
       "      <td>2190.888916</td>\n",
       "      <td>NO</td>\n",
       "      <td>b2</td>\n",
       "      <td>2689.917236</td>\n",
       "      <td>y1,b2,b4,y4,y5,y6,y7,y8</td>\n",
       "      <td>28311.791016</td>\n",
       "      <td>1.445844e+05</td>\n",
       "      <td>22369.044922</td>\n",
       "      <td>4252.482422</td>\n",
       "      <td>2313.378906</td>\n",
       "    </tr>\n",
       "    <tr>\n",
       "      <th>3</th>\n",
       "      <td>LLNLLADLVER</td>\n",
       "      <td>GCA_168207</td>\n",
       "      <td>[104]</td>\n",
       "      <td>[114]</td>\n",
       "      <td>0.000556</td>\n",
       "      <td>1</td>\n",
       "      <td>NaN</td>\n",
       "      <td>6258.8</td>\n",
       "      <td>2</td>\n",
       "      <td>634.884277</td>\n",
       "      <td>...</td>\n",
       "      <td>12204.037109</td>\n",
       "      <td>YES</td>\n",
       "      <td>y7,b4,b3,y8</td>\n",
       "      <td>33771.050781</td>\n",
       "      <td>y1,b2,b3,b4,y5,y6,y7,y8,y9</td>\n",
       "      <td>70609.812500</td>\n",
       "      <td>2.927408e+05</td>\n",
       "      <td>33524.777344</td>\n",
       "      <td>5629.630859</td>\n",
       "      <td>2589.843018</td>\n",
       "    </tr>\n",
       "    <tr>\n",
       "      <th>4</th>\n",
       "      <td>VLEMTGNIDETEWEWK</td>\n",
       "      <td>GCA_162724</td>\n",
       "      <td>[557]</td>\n",
       "      <td>[572]</td>\n",
       "      <td>0.000556</td>\n",
       "      <td>1</td>\n",
       "      <td>NaN</td>\n",
       "      <td>4556.1</td>\n",
       "      <td>2</td>\n",
       "      <td>990.460021</td>\n",
       "      <td>...</td>\n",
       "      <td>15181.633057</td>\n",
       "      <td>NO</td>\n",
       "      <td>y5</td>\n",
       "      <td>2300.426025</td>\n",
       "      <td>b2,y2,b3,y4,y5,y8,y11,y12</td>\n",
       "      <td>30067.097656</td>\n",
       "      <td>7.241734e+04</td>\n",
       "      <td>8992.703125</td>\n",
       "      <td>3017.388916</td>\n",
       "      <td>2341.654297</td>\n",
       "    </tr>\n",
       "    <tr>\n",
       "      <th>...</th>\n",
       "      <td>...</td>\n",
       "      <td>...</td>\n",
       "      <td>...</td>\n",
       "      <td>...</td>\n",
       "      <td>...</td>\n",
       "      <td>...</td>\n",
       "      <td>...</td>\n",
       "      <td>...</td>\n",
       "      <td>...</td>\n",
       "      <td>...</td>\n",
       "      <td>...</td>\n",
       "      <td>...</td>\n",
       "      <td>...</td>\n",
       "      <td>...</td>\n",
       "      <td>...</td>\n",
       "      <td>...</td>\n",
       "      <td>...</td>\n",
       "      <td>...</td>\n",
       "      <td>...</td>\n",
       "      <td>...</td>\n",
       "      <td>...</td>\n",
       "    </tr>\n",
       "    <tr>\n",
       "      <th>134614</th>\n",
       "      <td>MVHLTPVEKSAVTALWGKVNVDEVGGEALGR</td>\n",
       "      <td>GCA_195928</td>\n",
       "      <td>[1]</td>\n",
       "      <td>[31]</td>\n",
       "      <td>0.000556</td>\n",
       "      <td>1</td>\n",
       "      <td>['0-UNIMOD:1']</td>\n",
       "      <td>5149.1</td>\n",
       "      <td>3</td>\n",
       "      <td>1102.561340</td>\n",
       "      <td>...</td>\n",
       "      <td>0.000000</td>\n",
       "      <td>NO</td>\n",
       "      <td>NaN</td>\n",
       "      <td>0.000000</td>\n",
       "      <td>y1,y2,y4,y7,y8,y9,y10,y11,y12,y13,y15</td>\n",
       "      <td>196562.046875</td>\n",
       "      <td>5.019112e+06</td>\n",
       "      <td>583439.250000</td>\n",
       "      <td>29698.890625</td>\n",
       "      <td>11760.503906</td>\n",
       "    </tr>\n",
       "    <tr>\n",
       "      <th>134615</th>\n",
       "      <td>MGTPVLEALGDGEFVK</td>\n",
       "      <td>GCA_260523</td>\n",
       "      <td>[176]</td>\n",
       "      <td>[191]</td>\n",
       "      <td>0.000556</td>\n",
       "      <td>1</td>\n",
       "      <td>NaN</td>\n",
       "      <td>5237.3</td>\n",
       "      <td>2</td>\n",
       "      <td>832.431335</td>\n",
       "      <td>...</td>\n",
       "      <td>400644.178223</td>\n",
       "      <td>YES</td>\n",
       "      <td>y7,b8,y8,b9</td>\n",
       "      <td>158911.046875</td>\n",
       "      <td>y1,b2,y2,b3,y3,b5,y4,y5,b6,y6,b7,y7,b8,y8,b9,y...</td>\n",
       "      <td>684696.625000</td>\n",
       "      <td>2.556515e+06</td>\n",
       "      <td>98870.000000</td>\n",
       "      <td>11673.584961</td>\n",
       "      <td>4779.719727</td>\n",
       "    </tr>\n",
       "    <tr>\n",
       "      <th>134616</th>\n",
       "      <td>DIQNMNFLLKAEVQKLQALANEQAAAAHQLEK</td>\n",
       "      <td>GCA_302792</td>\n",
       "      <td>[639]</td>\n",
       "      <td>[670]</td>\n",
       "      <td>0.000556</td>\n",
       "      <td>1</td>\n",
       "      <td>['14|29-UNIMOD:7']</td>\n",
       "      <td>6078.3</td>\n",
       "      <td>4</td>\n",
       "      <td>895.723083</td>\n",
       "      <td>...</td>\n",
       "      <td>46776.661133</td>\n",
       "      <td>NO</td>\n",
       "      <td>NaN</td>\n",
       "      <td>0.000000</td>\n",
       "      <td>y1,b2,b3,b4,b5,y6,y7,y8,y9,y10</td>\n",
       "      <td>72686.656250</td>\n",
       "      <td>8.544083e+05</td>\n",
       "      <td>59814.476562</td>\n",
       "      <td>6946.409180</td>\n",
       "      <td>4314.445312</td>\n",
       "    </tr>\n",
       "    <tr>\n",
       "      <th>134617</th>\n",
       "      <td>AGALNSNDAFVLKTPSAAYLWVGTGASEAEKMGAQELLR</td>\n",
       "      <td>GCA_170374</td>\n",
       "      <td>[585]</td>\n",
       "      <td>[623]</td>\n",
       "      <td>0.000556</td>\n",
       "      <td>1</td>\n",
       "      <td>['5|7|35-UNIMOD:7']</td>\n",
       "      <td>5424.9</td>\n",
       "      <td>4</td>\n",
       "      <td>1011.025024</td>\n",
       "      <td>...</td>\n",
       "      <td>12058.218750</td>\n",
       "      <td>YES</td>\n",
       "      <td>y7,y8</td>\n",
       "      <td>15308.806641</td>\n",
       "      <td>b2,y1,b3,b4,y7,y8</td>\n",
       "      <td>75547.062500</td>\n",
       "      <td>3.069368e+06</td>\n",
       "      <td>108006.968750</td>\n",
       "      <td>13230.037109</td>\n",
       "      <td>6523.543945</td>\n",
       "    </tr>\n",
       "    <tr>\n",
       "      <th>134618</th>\n",
       "      <td>SEGALQVLYGEVGSLDGTPQTR</td>\n",
       "      <td>GCA_218416</td>\n",
       "      <td>[280]</td>\n",
       "      <td>[301]</td>\n",
       "      <td>0.000556</td>\n",
       "      <td>1</td>\n",
       "      <td>['6-UNIMOD:7']</td>\n",
       "      <td>5540.7</td>\n",
       "      <td>2</td>\n",
       "      <td>1140.078552</td>\n",
       "      <td>...</td>\n",
       "      <td>69234.718750</td>\n",
       "      <td>YES</td>\n",
       "      <td>y14,b8,y13</td>\n",
       "      <td>115353.273438</td>\n",
       "      <td>y1,b3,b4,b5,y4,b6,y5,y6,b7,y7,b8,y8,y9,y10,y11...</td>\n",
       "      <td>421405.000000</td>\n",
       "      <td>1.597938e+06</td>\n",
       "      <td>70805.515625</td>\n",
       "      <td>12014.571289</td>\n",
       "      <td>5129.191406</td>\n",
       "    </tr>\n",
       "  </tbody>\n",
       "</table>\n",
       "<p>134619 rows × 45 columns</p>\n",
       "</div>"
      ],
      "text/plain": [
       "                                       sequence protein_accessions  \\\n",
       "0                    ALLEGESNPEIVIWAEHIENMPSEFR         GCA_171427   \n",
       "1                        SMGSKEDLIWELLNQAQEHFGK         GCA_181600   \n",
       "2                                  DVGEWQHEEFYR         GCA_227150   \n",
       "3                                   LLNLLADLVER         GCA_168207   \n",
       "4                              VLEMTGNIDETEWEWK         GCA_162724   \n",
       "...                                         ...                ...   \n",
       "134614          MVHLTPVEKSAVTALWGKVNVDEVGGEALGR         GCA_195928   \n",
       "134615                         MGTPVLEALGDGEFVK         GCA_260523   \n",
       "134616         DIQNMNFLLKAEVQKLQALANEQAAAAHQLEK         GCA_302792   \n",
       "134617  AGALNSNDAFVLKTPSAAYLWVGTGASEAEKMGAQELLR         GCA_170374   \n",
       "134618                   SEGALQVLYGEVGSLDGTPQTR         GCA_218416   \n",
       "\n",
       "       protein_start_positions protein_end_positions  protein_global_qvalue  \\\n",
       "0                        [313]                 [338]               0.000556   \n",
       "1                        [274]                 [295]               0.000556   \n",
       "2                        [305]                 [316]               0.000556   \n",
       "3                        [104]                 [114]               0.000556   \n",
       "4                        [557]                 [572]               0.000556   \n",
       "...                        ...                   ...                    ...   \n",
       "134614                     [1]                  [31]               0.000556   \n",
       "134615                   [176]                 [191]               0.000556   \n",
       "134616                   [639]                 [670]               0.000556   \n",
       "134617                   [585]                 [623]               0.000556   \n",
       "134618                   [280]                 [301]               0.000556   \n",
       "\n",
       "        unique                  modifications  retention_time  charge  \\\n",
       "0            1                 ['8-UNIMOD:7']          6139.0       3   \n",
       "1            1  ['2-UNIMOD:35' '14-UNIMOD:7']          5621.1       4   \n",
       "2            1                            NaN          2782.0       2   \n",
       "3            1                            NaN          6258.8       2   \n",
       "4            1                            NaN          4556.1       2   \n",
       "...        ...                            ...             ...     ...   \n",
       "134614       1                 ['0-UNIMOD:1']          5149.1       3   \n",
       "134615       1                            NaN          5237.3       2   \n",
       "134616       1             ['14|29-UNIMOD:7']          6078.3       4   \n",
       "134617       1            ['5|7|35-UNIMOD:7']          5424.9       4   \n",
       "134618       1                 ['6-UNIMOD:7']          5540.7       2   \n",
       "\n",
       "        exp_mass_to_charge  ...  sum.supportions.intensity  \\\n",
       "0              1004.828918  ...                5424.297363   \n",
       "1               645.313949  ...                   0.000000   \n",
       "2               798.354431  ...                2190.888916   \n",
       "3               634.884277  ...               12204.037109   \n",
       "4               990.460021  ...               15181.633057   \n",
       "...                    ...  ...                        ...   \n",
       "134614         1102.561340  ...                   0.000000   \n",
       "134615          832.431335  ...              400644.178223   \n",
       "134616          895.723083  ...               46776.661133   \n",
       "134617         1011.025024  ...               12058.218750   \n",
       "134618         1140.078552  ...               69234.718750   \n",
       "\n",
       "       flanking_ions_support  flanking_ions  sum.flanking.ions.intensity  \\\n",
       "0                         NO            NaN                     0.000000   \n",
       "1                         NO            NaN                     0.000000   \n",
       "2                         NO             b2                  2689.917236   \n",
       "3                        YES    y7,b4,b3,y8                 33771.050781   \n",
       "4                         NO             y5                  2300.426025   \n",
       "...                      ...            ...                          ...   \n",
       "134614                    NO            NaN                     0.000000   \n",
       "134615                   YES    y7,b8,y8,b9                158911.046875   \n",
       "134616                    NO            NaN                     0.000000   \n",
       "134617                   YES          y7,y8                 15308.806641   \n",
       "134618                   YES     y14,b8,y13                115353.273438   \n",
       "\n",
       "                                             matched_ions  \\\n",
       "0                                        b3,b4,y5,y12,y13   \n",
       "1                                 y2,b2,y3,y4,y5,y6,y7,y8   \n",
       "2                                 y1,b2,b4,y4,y5,y6,y7,y8   \n",
       "3                              y1,b2,b3,b4,y5,y6,y7,y8,y9   \n",
       "4                               b2,y2,b3,y4,y5,y8,y11,y12   \n",
       "...                                                   ...   \n",
       "134614              y1,y2,y4,y7,y8,y9,y10,y11,y12,y13,y15   \n",
       "134615  y1,b2,y2,b3,y3,b5,y4,y5,b6,y6,b7,y7,b8,y8,b9,y...   \n",
       "134616                     y1,b2,b3,b4,b5,y6,y7,y8,y9,y10   \n",
       "134617                                  b2,y1,b3,b4,y7,y8   \n",
       "134618  y1,b3,b4,b5,y4,b6,y5,y6,b7,y7,b8,y8,y9,y10,y11...   \n",
       "\n",
       "       sum.matchedions.intensity  sum.fragmentions.intensity   maxintensity  \\\n",
       "0                   19431.125000                1.420868e+05   14834.776367   \n",
       "1                  176022.937500                1.215564e+06   56165.175781   \n",
       "2                   28311.791016                1.445844e+05   22369.044922   \n",
       "3                   70609.812500                2.927408e+05   33524.777344   \n",
       "4                   30067.097656                7.241734e+04    8992.703125   \n",
       "...                          ...                         ...            ...   \n",
       "134614             196562.046875                5.019112e+06  583439.250000   \n",
       "134615             684696.625000                2.556515e+06   98870.000000   \n",
       "134616              72686.656250                8.544083e+05   59814.476562   \n",
       "134617              75547.062500                3.069368e+06  108006.968750   \n",
       "134618             421405.000000                1.597938e+06   70805.515625   \n",
       "\n",
       "        average_intensity  median_intensity  \n",
       "0             5074.530273       2864.845703  \n",
       "1             7150.376465       3683.201416  \n",
       "2             4252.482422       2313.378906  \n",
       "3             5629.630859       2589.843018  \n",
       "4             3017.388916       2341.654297  \n",
       "...                   ...               ...  \n",
       "134614       29698.890625      11760.503906  \n",
       "134615       11673.584961       4779.719727  \n",
       "134616        6946.409180       4314.445312  \n",
       "134617       13230.037109       6523.543945  \n",
       "134618       12014.571289       5129.191406  \n",
       "\n",
       "[134619 rows x 45 columns]"
      ]
     },
     "execution_count": 8,
     "metadata": {},
     "output_type": "execute_result"
    }
   ],
   "source": [
    "gca_validate_res"
   ]
  },
  {
   "cell_type": "code",
   "execution_count": 4,
   "id": "b6bf1168",
   "metadata": {},
   "outputs": [],
   "source": [
    "def to_set(x):\n",
    "    return set(x.to_list())"
   ]
  },
  {
   "cell_type": "markdown",
   "id": "31a28757",
   "metadata": {},
   "source": [
    "### Before DeepLC+ms2pip"
   ]
  },
  {
   "cell_type": "markdown",
   "id": "65737c13",
   "metadata": {},
   "source": [
    "#### SpectrumAI"
   ]
  },
  {
   "cell_type": "code",
   "execution_count": 5,
   "id": "f75623e9",
   "metadata": {},
   "outputs": [],
   "source": [
    "before_saav = gca_validate_res[gca_validate_res[\"position\"].str.isdigit()]\n",
    "before_novel = gca_validate_res[gca_validate_res[\"position\"]==\"non-canonical\"]\n",
    "before_saav_spectrumAI = before_saav[before_saav[\"flanking_ions_support\"]==\"YES\"]"
   ]
  },
  {
   "cell_type": "code",
   "execution_count": 6,
   "id": "6f402651",
   "metadata": {},
   "outputs": [],
   "source": [
    "before_all_set = to_set(gca_validate_res[\"sequence\"])\n",
    "before_saav_set = to_set(before_saav[\"sequence\"])\n",
    "before_novel_set = to_set(before_novel[\"sequence\"])\n",
    "before_saav_spectrumAI_set =  to_set(before_saav_spectrumAI[\"sequence\"])\n",
    "before_all_spectrumAI_set = before_saav_spectrumAI_set.union(before_novel_set)"
   ]
  },
  {
   "cell_type": "code",
   "execution_count": 7,
   "id": "9b276749",
   "metadata": {},
   "outputs": [
    {
     "name": "stdout",
     "output_type": "stream",
     "text": [
      "----------Before SpectrumAI----------\n",
      "Number of all GCA peptides: 7141, of which saav: 6660, of which novel: 481\n",
      "----------After SpectrumAI----------\n",
      "Number of all GCA peptides: 4612, of which saav: 4131, of which novel: 481\n"
     ]
    }
   ],
   "source": [
    "print(\"----------Before SpectrumAI----------\")\n",
    "print(\"Number of all GCA peptides: {}, of which saav: {}, of which novel: {}\".format(len(before_all_set),len(before_saav_set),len(before_novel_set)))\n",
    "print(\"----------After SpectrumAI----------\")\n",
    "print(\"Number of all GCA peptides: {}, of which saav: {}, of which novel: {}\".format(len(before_all_spectrumAI_set),len(before_saav_spectrumAI_set),len(before_novel_set)))   "
   ]
  },
  {
   "cell_type": "markdown",
   "id": "2625caae",
   "metadata": {},
   "source": [
    "#### Blast Infos"
   ]
  },
  {
   "cell_type": "code",
   "execution_count": 8,
   "id": "f4134890",
   "metadata": {},
   "outputs": [],
   "source": [
    "auto = ahocorasick.Automaton()\n",
    "\n",
    "for seq in before_all_set:\n",
    "    auto.add_word(seq, seq)\n",
    "\n",
    "auto.make_automaton()"
   ]
  },
  {
   "cell_type": "code",
   "execution_count": 9,
   "id": "9bdfb348",
   "metadata": {},
   "outputs": [
    {
     "name": "stderr",
     "output_type": "stream",
     "text": [
      "100%|██████████| 97/97 [03:40<00:00,  2.28s/it]\n"
     ]
    }
   ],
   "source": [
    "peps_prots = {}\n",
    "for prot_file in tqdm(glob('/mnt/nfs/wangd/project/paper_db/pep_files/*.fa')):\n",
    "    prot_seqs = set()\n",
    "    prots_dict = {}\n",
    "    parsed_file = SeqIO.parse(prot_file, 'fasta')\n",
    "    sample_name = prot_file.split('/')[-1].split('-')[1]\n",
    "\n",
    "    for record in parsed_file:\n",
    "        try:\n",
    "            prots_dict[str(record.seq)].append(sample_name + ' ' +  str(record.id) + ' ' +  str(record.seq) + ' ' + str(record.description))\n",
    "        except KeyError:\n",
    "            prots_dict[str(record.seq)] = [sample_name + ' ' + str(record.id) + ' ' +  str(record.seq) + ' ' + str(record.description)]\n",
    "#     print('Total number of unique protein sequences = {} in the fasta file: {}'.format(len(prots_dict.keys()), prot_file))\n",
    "\n",
    "    #get non-canonical peptides that are found in canonical proteins from ensembl\n",
    "    found_prots = set()\n",
    "    \n",
    "    for prot_seq in prots_dict.keys():\n",
    "        for end_ind, found in auto.iter(prot_seq):\n",
    "            found_prots.add(found)\n",
    "            try:\n",
    "                peps_prots[found].append(prots_dict[prot_seq])\n",
    "            except KeyError:\n",
    "                peps_prots[found] = [prots_dict[prot_seq]]\n",
    "\n",
    "# print('Numner of peptides found in the protein files {} and number of peptides {}'.format(len(peps_prots), len(peps)))"
   ]
  },
  {
   "cell_type": "code",
   "execution_count": 10,
   "id": "ed02279a",
   "metadata": {},
   "outputs": [
    {
     "name": "stderr",
     "output_type": "stream",
     "text": [
      "100%|██████████| 7141/7141 [00:07<00:00, 957.14it/s] \n"
     ]
    }
   ],
   "source": [
    "sample_peps= {}\n",
    "gene_ID_peps = {}\n",
    "protein_ID_peps = {}\n",
    "protein_Seq_peps = {}\n",
    "transcript_ID_peps = {}\n",
    "gene_symbol_peps = {}\n",
    "for pep in tqdm(before_all_set):\n",
    "    prots = [x.split(' ') for xs in peps_prots[pep] for x in xs]\n",
    "    samples, proteins, proteins_seq, genes, gene_symbols, transcripts, gene_biotypes = set(), set(), set(), set(), set(), set(),set() \n",
    "    \n",
    "    for prot in prots:\n",
    "        samples.add(prot[0])\n",
    "        proteins.add(prot[1])\n",
    "        proteins_seq.add(prot[2])\n",
    "        genes.add([x for x in prot if x.startswith('gene:')][0].split(':')[-1])\n",
    "        transcripts.add([x for x in prot if x.startswith('transcript:')][0].split(':')[-1])\n",
    "        gene_biotypes.add([x for x in prot if x.startswith('gene_biotype:')][0].split(':')[-1])\n",
    "        \n",
    "        try:\n",
    "            gene_symbols.add([x for x in prot if x.startswith('gene_symbol:')][0].split(':')[-1])\n",
    "        except IndexError:\n",
    "            pass\n",
    "\n",
    "    for sample in samples:\n",
    "        try:\n",
    "            sample_peps[sample].add(pep)\n",
    "        except KeyError:\n",
    "            sample_peps[sample] = set()\n",
    "            sample_peps[sample].add(pep)\n",
    "    \n",
    "    for gene in genes:\n",
    "        try:\n",
    "            gene_ID_peps[gene].add(pep)\n",
    "        except KeyError:\n",
    "            gene_ID_peps[gene] = set()\n",
    "            gene_ID_peps[gene].add(pep)\n",
    "\n",
    "    for prot_id in proteins:\n",
    "        try:\n",
    "            protein_ID_peps[prot_id].add(pep)\n",
    "        except KeyError:\n",
    "            protein_ID_peps[prot_id] = set()\n",
    "            protein_ID_peps[prot_id].add(pep)\n",
    "    \n",
    "    for prot_seq in proteins_seq:\n",
    "        try:\n",
    "            protein_Seq_peps[prot_seq].add(pep)\n",
    "        except KeyError:\n",
    "            protein_Seq_peps[prot_seq] = set()\n",
    "            protein_Seq_peps[prot_seq].add(pep)\n",
    "            \n",
    "    for transcript in transcripts:\n",
    "        try:\n",
    "            transcript_ID_peps[transcript].add(pep)\n",
    "        except KeyError:\n",
    "            transcript_ID_peps[transcript] = set()\n",
    "            transcript_ID_peps[transcript].add(pep)\n",
    "            \n",
    "    for gene_symbol in gene_symbols:\n",
    "        try:\n",
    "            gene_symbol_peps[gene_symbol].add(pep)\n",
    "        except KeyError:\n",
    "            gene_symbol_peps[gene_symbol] = set()\n",
    "            gene_symbol_peps[gene_symbol].add(pep)"
   ]
  },
  {
   "cell_type": "code",
   "execution_count": 11,
   "id": "118f0428",
   "metadata": {},
   "outputs": [
    {
     "name": "stdout",
     "output_type": "stream",
     "text": [
      "Number of peptides: 7141\n",
      "Number of GCA samples matched: 97\n",
      "Number of gene ids matched: 100157\n",
      "Number of transcript ids matched: 328619\n",
      "Number of protein ids matched: 328544\n",
      "Number of protein seqs matched: 35182\n",
      "Number of gene_symbols matched: 3413\n"
     ]
    }
   ],
   "source": [
    "print(\"Number of peptides: {}\".format(len(before_all_set)))\n",
    "print(\"Number of GCA samples matched: {}\".format(len(sample_peps)))\n",
    "print(\"Number of gene ids matched: {}\".format(len(gene_ID_peps)))\n",
    "print(\"Number of transcript ids matched: {}\".format(len(transcript_ID_peps)))\n",
    "print(\"Number of protein ids matched: {}\".format(len(protein_ID_peps)))\n",
    "print(\"Number of protein seqs matched: {}\".format(len(protein_Seq_peps)))\n",
    "print(\"Number of gene_symbols matched: {}\".format(len(gene_symbol_peps)))"
   ]
  },
  {
   "cell_type": "markdown",
   "id": "30c6554d",
   "metadata": {},
   "source": [
    "### After DeepLC+ms2pip"
   ]
  },
  {
   "cell_type": "markdown",
   "id": "59091af1",
   "metadata": {},
   "source": [
    "#### SpectrumAI"
   ]
  },
  {
   "cell_type": "code",
   "execution_count": 13,
   "id": "a636adbf",
   "metadata": {},
   "outputs": [],
   "source": [
    "filtered_peps = pd.read_table(\"/mnt/nfs/wangd/project/10154parquet/res/gca_peptides_for_deeplc_95thperc_observations_ms2pip_by_filtered.tsv\")"
   ]
  },
  {
   "cell_type": "code",
   "execution_count": 14,
   "id": "4d12c4bd",
   "metadata": {},
   "outputs": [],
   "source": [
    "after_all_set = to_set(filtered_peps[\"sequence_x\"])\n",
    "after_saav_set = after_all_set.intersection(before_saav_set)\n",
    "after_novel_set = after_all_set.intersection(before_novel_set)\n",
    "after_saav_spectrumAI_set =  after_all_set.intersection(before_saav_spectrumAI_set)\n",
    "after_all_spectrumAI_set = after_saav_spectrumAI_set.union(after_novel_set)"
   ]
  },
  {
   "cell_type": "code",
   "execution_count": 15,
   "id": "525ff4c6",
   "metadata": {},
   "outputs": [
    {
     "name": "stdout",
     "output_type": "stream",
     "text": [
      "----------Before SpectrumAI----------\n",
      "Number of all GCA peptides: 4981,of which saav: 4754, of which novel: 227\n",
      "----------After SpectrumAI----------\n",
      "Number of all GCA peptides: 3510,of which saav: 3283, of which novel: 227\n"
     ]
    }
   ],
   "source": [
    "print(\"----------Before SpectrumAI----------\")\n",
    "print(\"Number of all GCA peptides: {},of which saav: {}, of which novel: {}\".format(len(after_all_set),len(after_saav_set),len(after_novel_set)))\n",
    "print(\"----------After SpectrumAI----------\")\n",
    "print(\"Number of all GCA peptides: {},of which saav: {}, of which novel: {}\".format(len(after_all_spectrumAI_set),len(after_saav_spectrumAI_set),len(after_novel_set)))"
   ]
  },
  {
   "cell_type": "markdown",
   "id": "8d47e120",
   "metadata": {},
   "source": [
    "### Final Result"
   ]
  },
  {
   "cell_type": "code",
   "execution_count": 21,
   "id": "d49163d2",
   "metadata": {},
   "outputs": [],
   "source": [
    "passed_spectrumAI = filtered_peps[filtered_peps[\"sequence_x\"].isin(after_all_spectrumAI_set)]"
   ]
  },
  {
   "cell_type": "code",
   "execution_count": 22,
   "id": "943151b0",
   "metadata": {},
   "outputs": [
    {
     "data": {
      "text/plain": [
       "6208"
      ]
     },
     "execution_count": 22,
     "metadata": {},
     "output_type": "execute_result"
    }
   ],
   "source": [
    "len(passed_spectrumAI)"
   ]
  },
  {
   "cell_type": "markdown",
   "id": "39709121",
   "metadata": {},
   "source": [
    "#### Blast Infos"
   ]
  },
  {
   "cell_type": "code",
   "execution_count": 16,
   "id": "e3845c94",
   "metadata": {},
   "outputs": [],
   "source": [
    "auto = ahocorasick.Automaton()\n",
    "\n",
    "for seq in after_all_spectrumAI_set:\n",
    "    auto.add_word(seq, seq)\n",
    "\n",
    "auto.make_automaton()"
   ]
  },
  {
   "cell_type": "code",
   "execution_count": 17,
   "id": "7e5a677b",
   "metadata": {},
   "outputs": [
    {
     "name": "stderr",
     "output_type": "stream",
     "text": [
      "100%|██████████| 97/97 [03:34<00:00,  2.21s/it]\n"
     ]
    }
   ],
   "source": [
    "peps_prots = {}\n",
    "for prot_file in tqdm(glob('/mnt/nfs/wangd/project/paper_db/pep_files/*.fa')):\n",
    "    prot_seqs = set()\n",
    "    prots_dict = {}\n",
    "    parsed_file = SeqIO.parse(prot_file, 'fasta')\n",
    "    sample_name = prot_file.split('/')[-1].split('-')[1]\n",
    "\n",
    "    for record in parsed_file:\n",
    "        try:\n",
    "            prots_dict[str(record.seq)].append(sample_name + ' ' +  str(record.id) + ' ' +  str(record.seq) + ' ' + str(record.description))\n",
    "        except KeyError:\n",
    "            prots_dict[str(record.seq)] = [sample_name + ' ' + str(record.id) + ' ' +  str(record.seq) + ' ' + str(record.description)]\n",
    "#     print('Total number of unique protein sequences = {} in the fasta file: {}'.format(len(prots_dict.keys()), prot_file))\n",
    "\n",
    "    #get non-canonical peptides that are found in canonical proteins from ensembl\n",
    "    found_prots = set()\n",
    "    \n",
    "    for prot_seq in prots_dict.keys():\n",
    "        for end_ind, found in auto.iter(prot_seq):\n",
    "            found_prots.add(found)\n",
    "            try:\n",
    "                peps_prots[found].append(prots_dict[prot_seq])\n",
    "            except KeyError:\n",
    "                peps_prots[found] = [prots_dict[prot_seq]]\n",
    "\n",
    "# print('Numner of peptides found in the protein files {} and number of peptides {}'.format(len(peps_prots), len(peps)))"
   ]
  },
  {
   "cell_type": "code",
   "execution_count": 25,
   "id": "a53cede8",
   "metadata": {},
   "outputs": [
    {
     "name": "stderr",
     "output_type": "stream",
     "text": [
      "100%|██████████| 3510/3510 [00:04<00:00, 758.30it/s]\n"
     ]
    }
   ],
   "source": [
    "sample_peps= {}\n",
    "gene_ID_peps = {}\n",
    "protein_ID_peps = {}\n",
    "protein_Seq_peps = {}\n",
    "transcript_ID_peps = {}\n",
    "gene_symbol_peps = {}\n",
    "peps_infos = {}\n",
    "for pep in tqdm(after_all_spectrumAI_set):\n",
    "    prots = [x.split(' ') for xs in peps_prots[pep] for x in xs]\n",
    "    samples, proteins, proteins_seq, genes, gene_symbols, transcripts, gene_biotypes = set(), set(), set(), set(), set(), set(),set() \n",
    "    \n",
    "    for prot in prots:\n",
    "        samples.add(prot[0])\n",
    "        proteins.add(prot[1])\n",
    "        proteins_seq.add(prot[2])\n",
    "        genes.add([x for x in prot if x.startswith('gene:')][0].split(':')[-1])\n",
    "        transcripts.add([x for x in prot if x.startswith('transcript:')][0].split(':')[-1])\n",
    "        gene_biotypes.add([x for x in prot if x.startswith('gene_biotype:')][0].split(':')[-1])\n",
    "        \n",
    "        try:\n",
    "            gene_symbols.add([x for x in prot if x.startswith('gene_symbol:')][0].split(':')[-1])\n",
    "        except IndexError:\n",
    "            pass\n",
    "    peps_infos[pep] = [','.join(gene_symbols), ','.join(gene_biotypes), ','.join(samples), ','.join(proteins), ','.join(genes), ','.join(transcripts)]\n",
    "\n",
    "    for sample in samples:\n",
    "        try:\n",
    "            sample_peps[sample].add(pep)\n",
    "        except KeyError:\n",
    "            sample_peps[sample] = set()\n",
    "            sample_peps[sample].add(pep)\n",
    "    \n",
    "    for gene in genes:\n",
    "        try:\n",
    "            gene_ID_peps[gene].add(pep)\n",
    "        except KeyError:\n",
    "            gene_ID_peps[gene] = set()\n",
    "            gene_ID_peps[gene].add(pep)\n",
    "\n",
    "    for prot_id in proteins:\n",
    "        try:\n",
    "            protein_ID_peps[prot_id].add(pep)\n",
    "        except KeyError:\n",
    "            protein_ID_peps[prot_id] = set()\n",
    "            protein_ID_peps[prot_id].add(pep)\n",
    "    \n",
    "    for prot_seq in proteins_seq:\n",
    "        try:\n",
    "            protein_Seq_peps[prot_seq].add(pep)\n",
    "        except KeyError:\n",
    "            protein_Seq_peps[prot_seq] = set()\n",
    "            protein_Seq_peps[prot_seq].add(pep)\n",
    "            \n",
    "    for transcript in transcripts:\n",
    "        try:\n",
    "            transcript_ID_peps[transcript].add(pep)\n",
    "        except KeyError:\n",
    "            transcript_ID_peps[transcript] = set()\n",
    "            transcript_ID_peps[transcript].add(pep)\n",
    "            \n",
    "    for gene_symbol in gene_symbols:\n",
    "        try:\n",
    "            gene_symbol_peps[gene_symbol].add(pep)\n",
    "        except KeyError:\n",
    "            gene_symbol_peps[gene_symbol] = set()\n",
    "            gene_symbol_peps[gene_symbol].add(pep)\n",
    "            \n",
    "    "
   ]
  },
  {
   "cell_type": "code",
   "execution_count": 24,
   "id": "5092ad70",
   "metadata": {},
   "outputs": [
    {
     "name": "stdout",
     "output_type": "stream",
     "text": [
      "Number of peptides: 3510\n",
      "Number of GCA samples matched: 97\n",
      "Number of gene ids matched: 67916\n",
      "Number of transcript ids matched: 231795\n",
      "Number of protein ids matched: 231754\n",
      "Number of protein seqs matched: 23657\n",
      "Number of gene_symbols matched: 1951\n"
     ]
    }
   ],
   "source": [
    "print(\"Number of peptides: {}\".format(len(after_all_spectrumAI_set)))\n",
    "print(\"Number of GCA samples matched: {}\".format(len(sample_peps)))\n",
    "print(\"Number of gene ids matched: {}\".format(len(gene_ID_peps)))\n",
    "print(\"Number of transcript ids matched: {}\".format(len(transcript_ID_peps)))\n",
    "print(\"Number of protein ids matched: {}\".format(len(protein_ID_peps)))\n",
    "print(\"Number of protein seqs matched: {}\".format(len(protein_Seq_peps)))\n",
    "print(\"Number of gene_symbols matched: {}\".format(len(gene_symbol_peps)))"
   ]
  },
  {
   "cell_type": "code",
   "execution_count": 29,
   "id": "02d91797",
   "metadata": {},
   "outputs": [
    {
     "name": "stderr",
     "output_type": "stream",
     "text": [
      "/tmp/ipykernel_368442/661287178.py:4: SettingWithCopyWarning: \n",
      "A value is trying to be set on a copy of a slice from a DataFrame.\n",
      "Try using .loc[row_indexer,col_indexer] = value instead\n",
      "\n",
      "See the caveats in the documentation: https://pandas.pydata.org/pandas-docs/stable/user_guide/indexing.html#returning-a-view-versus-a-copy\n",
      "  passed_spectrumAI[\"gene_symbol\"] = passed_spectrumAI[\"sequence_x\"].apply(get_gene_symbol)\n"
     ]
    }
   ],
   "source": [
    "def get_gene_symbol(pep):\n",
    "    infos = peps_infos.get(pep)\n",
    "    return infos[0]\n",
    "passed_spectrumAI[\"gene_symbol\"] = passed_spectrumAI[\"sequence_x\"].apply(get_gene_symbol)"
   ]
  },
  {
   "cell_type": "code",
   "execution_count": 33,
   "id": "cee7d312",
   "metadata": {},
   "outputs": [],
   "source": [
    "passed_spectrumAI[[\"sequence_x\",\"protein_accessions\",\"peptidoform\",\"gene_symbol\"]].to_csv(\"/mnt/nfs/wangd/project/paper_db/count/peps_gene_symbol.tsv\", header=1, sep=\"\\t\",index = None)"
   ]
  },
  {
   "cell_type": "markdown",
   "id": "b177e151",
   "metadata": {},
   "source": [
    "####  Save Infos"
   ]
  },
  {
   "cell_type": "code",
   "execution_count": 25,
   "id": "6bc926b9",
   "metadata": {},
   "outputs": [],
   "source": [
    "def create_info_table(info_dict, index, out_file):\n",
    "    df = pd.DataFrame({'peps': [','.join(values) for values in info_dict.values()],\n",
    "                'Count': [len(values) for values in info_dict.values()]},index=info_dict.keys())\n",
    "    df.index.name = index\n",
    "    df.to_csv(out_file, header=1, sep=\"\\t\")"
   ]
  },
  {
   "cell_type": "code",
   "execution_count": 26,
   "id": "a9b53976",
   "metadata": {},
   "outputs": [],
   "source": [
    "create_info_table(sample_peps,\"sample\",\"/mnt/nfs/wangd/project/paper_db/count/sample_peps.tsv\")\n",
    "create_info_table(gene_ID_peps,\"gene_ID\",\"/mnt/nfs/wangd/project/paper_db/count/gene_ID_peps.tsv\")\n",
    "create_info_table(transcript_ID_peps,\"transcript_ID\",\"/mnt/nfs/wangd/project/paper_db/count/transcript_ID_peps.tsv\")\n",
    "create_info_table(protein_ID_peps,\"protein_ID\",\"/mnt/nfs/wangd/project/paper_db/count/protein_ID_peps.tsv\")\n",
    "create_info_table(protein_Seq_peps,\"protein_Seq\",\"/mnt/nfs/wangd/project/paper_db/count/protein_Seq_peps.tsv\")\n",
    "create_info_table(gene_symbol_peps,\"gene_symbol\",\"/mnt/nfs/wangd/project/paper_db/count/gene_symbol_peps.tsv\")"
   ]
  },
  {
   "cell_type": "markdown",
   "id": "843c48ff",
   "metadata": {},
   "source": [
    "### Variation Type Count"
   ]
  },
  {
   "cell_type": "code",
   "execution_count": 29,
   "id": "8a9ad95a",
   "metadata": {},
   "outputs": [],
   "source": [
    "variation_type = {\"substitution\":set(),\"insertion\":set(),\"deletion\":set(),\"novel\":set()}\n",
    "for index,row in gca_validate_res.iterrows():\n",
    "    variation_type[row[\"Variation type\"]].add(row[\"sequence\"])"
   ]
  },
  {
   "cell_type": "code",
   "execution_count": 30,
   "id": "5c20feb6",
   "metadata": {},
   "outputs": [
    {
     "name": "stdout",
     "output_type": "stream",
     "text": [
      "Number of substitution: 3248\n",
      "Number of insertion: 42\n",
      "Number of deletion: 15\n",
      "Number of novel: 227\n"
     ]
    }
   ],
   "source": [
    "substitution_nums = 0\n",
    "insertion_nums = 0\n",
    "deletion_nums = 0\n",
    "novel_nums = 0\n",
    "for pep in set(passed_spectrumAI[\"sequence_x\"].to_list()):\n",
    "    if pep in variation_type[\"substitution\"]:\n",
    "        substitution_nums+=1\n",
    "    if pep in variation_type[\"insertion\"]:\n",
    "        insertion_nums+=1\n",
    "    if pep in variation_type[\"deletion\"]:\n",
    "        deletion_nums+=1\n",
    "    if pep in variation_type[\"novel\"]:\n",
    "        novel_nums+=1\n",
    "print(\"Number of substitution: {}\".format(substitution_nums))\n",
    "print(\"Number of insertion: {}\".format(insertion_nums))\n",
    "print(\"Number of deletion: {}\".format(deletion_nums))\n",
    "print(\"Number of novel: {}\".format(novel_nums))"
   ]
  },
  {
   "cell_type": "code",
   "execution_count": 32,
   "id": "ce7a3b5f",
   "metadata": {},
   "outputs": [],
   "source": [
    "create_info_table(variation_type,\"VariationType\",\"/mnt/nfs/wangd/project/paper_db/count/variation_type_peps.tsv\")"
   ]
  },
  {
   "cell_type": "code",
   "execution_count": 31,
   "id": "41e89ac9",
   "metadata": {},
   "outputs": [
    {
     "data": {
      "image/png": "[encoded data removed]",
      "text/plain": [
       "<Figure size 640x480 with 1 Axes>"
      ]
     },
     "metadata": {},
     "output_type": "display_data"
    }
   ],
   "source": [
    "all_variation_nums = substitution_nums + insertion_nums + deletion_nums + novel_nums\n",
    "\n",
    "sizes = [substitution_nums / all_variation_nums * 360, \n",
    "         novel_nums / all_variation_nums * 360,\n",
    "         insertion_nums / all_variation_nums * 360, \n",
    "         deletion_nums / all_variation_nums * 360]\n",
    "labels = ['Substitution: \\n{}'.format(\"{:.2%}\".format(substitution_nums / all_variation_nums)), \n",
    "          'Novel: \\n{}'.format(\"{:.2%}\".format(novel_nums / all_variation_nums)),\n",
    "          'Insertion: \\n{}'.format(\"{:.2%}\".format(insertion_nums / all_variation_nums)),  \n",
    "          'Deletion: \\n{}'.format(\"{:.2%}\".format(deletion_nums / all_variation_nums))]\n",
    "\n",
    "colors = ['lightcoral', 'lightblue', 'lightsalmon', 'lightgreen']\n",
    "plt.pie(sizes, startangle=90, colors=colors)\n",
    "\n",
    "plt.legend(labels, loc='upper left', bbox_to_anchor=(0.9, 1))\n",
    "\n",
    "plt.title('Variation Type Count')\n",
    "plt.savefig('/mnt/nfs/wangd/project/paper_db/count/count-plot/Variation_Type_Count-peps-plot.svg', format='svg')"
   ]
  },
  {
   "cell_type": "markdown",
   "id": "703e9c48",
   "metadata": {},
   "source": [
    "### Filter Count"
   ]
  },
  {
   "cell_type": "code",
   "execution_count": 49,
   "id": "37404720",
   "metadata": {},
   "outputs": [
    {
     "data": {
      "image/png": "[encoded data removed]",
      "text/plain": [
       "<Figure size 800x600 with 1 Axes>"
      ]
     },
     "metadata": {},
     "output_type": "display_data"
    }
   ],
   "source": [
    "filter_dict = {'Total GCA PSMs': 13643, 'DeepLC': 10856, 'SNR': 9003, 'MS2PIP': 8553, 'SpectrumAI': len(passed_spectrumAI)}\n",
    "\n",
    "labels = list(filter_dict.keys())\n",
    "values = list(filter_dict.values())\n",
    "\n",
    "plt.figure(figsize=(8,6))\n",
    "bar_width = 0.9\n",
    "bars = plt.bar(range(len(filter_dict)), values, width=bar_width, align='center')\n",
    "\n",
    "plt.title('Number of PMSs after each filtering tool/step')\n",
    "plt.xlabel('Validation Tool/Step')\n",
    "plt.ylabel('Number of PMSs')\n",
    "\n",
    "plt.xticks(range(len(filter_dict)), labels)\n",
    "\n",
    "\n",
    "for i,bar in enumerate(bars):\n",
    "    num = bar.get_height()\n",
    "    if i == 0:\n",
    "        s = \"{},{}\".format(\"{:.1%}\".format(1),num)\n",
    "        pre = num\n",
    "    else:\n",
    "        percentile = (pre - num)/pre \n",
    "        s = \"{},{}\".format(\"{:.1%}\".format(percentile),num)\n",
    "        pre = num\n",
    "        \n",
    "    plt.text(bar.get_x() + bar.get_width()/2, num, s, ha='center', va='bottom')\n",
    "\n",
    "plt.savefig('/mnt/nfs/wangd/project/paper_db/count/count-plot/Filter_Count-plot.svg', format='svg')"
   ]
  },
  {
   "cell_type": "markdown",
   "id": "61f85377",
   "metadata": {},
   "source": [
    "### Protein Count"
   ]
  },
  {
   "cell_type": "code",
   "execution_count": 36,
   "id": "5240f853",
   "metadata": {},
   "outputs": [],
   "source": [
    "proteins_count = passed_spectrumAI"
   ]
  },
  {
   "cell_type": "code",
   "execution_count": 37,
   "id": "6d91ce31",
   "metadata": {},
   "outputs": [
    {
     "name": "stderr",
     "output_type": "stream",
     "text": [
      "/tmp/ipykernel_380758/1312289842.py:1: SettingWithCopyWarning: \n",
      "A value is trying to be set on a copy of a slice from a DataFrame.\n",
      "Try using .loc[row_indexer,col_indexer] = value instead\n",
      "\n",
      "See the caveats in the documentation: https://pandas.pydata.org/pandas-docs/stable/user_guide/indexing.html#returning-a-view-versus-a-copy\n",
      "  proteins_count[\"protein_accessions\"] = proteins_count[\"protein_accessions\"].str.split(\",\")\n"
     ]
    }
   ],
   "source": [
    "proteins_count[\"protein_accessions\"] = proteins_count[\"protein_accessions\"].str.split(\",\")"
   ]
  },
  {
   "cell_type": "code",
   "execution_count": 38,
   "id": "781094b2",
   "metadata": {},
   "outputs": [],
   "source": [
    "proteins_dict = {}\n",
    "for index,row in proteins_count.iterrows():\n",
    "    for protein in row[\"protein_accessions\"]:\n",
    "        if proteins_dict.get(protein):\n",
    "            proteins_dict[protein].add(row[\"sequence_x\"])\n",
    "        else:\n",
    "            proteins_dict[protein] = {row[\"sequence_x\"]}"
   ]
  },
  {
   "cell_type": "code",
   "execution_count": 39,
   "id": "fcbab2f9",
   "metadata": {},
   "outputs": [],
   "source": [
    "proteins_twoPeptides_dict = {}\n",
    "for key,value in proteins_dict.items():\n",
    "    if len(value)>1:\n",
    "        proteins_twoPeptides_dict[key] = value"
   ]
  },
  {
   "cell_type": "code",
   "execution_count": 40,
   "id": "de8d6d3e",
   "metadata": {},
   "outputs": [],
   "source": [
    "peptides = set(proteins_count[\"sequence_x\"].to_list())\n",
    "proteins = proteins_dict.keys()\n",
    "proteins_twoPeptides = proteins_twoPeptides_dict.keys()"
   ]
  },
  {
   "cell_type": "code",
   "execution_count": 41,
   "id": "4e89b207",
   "metadata": {},
   "outputs": [
    {
     "name": "stdout",
     "output_type": "stream",
     "text": [
      "Number of peptides: 3510\n",
      "Number of proteins: 3071\n",
      "Number of proteins with more than two peptides: 767\n"
     ]
    }
   ],
   "source": [
    "print(\"Number of peptides: {}\".format(len(peptides)))\n",
    "print(\"Number of proteins: {}\".format(len(proteins)))\n",
    "print(\"Number of proteins with more than two peptides: {}\".format(len(proteins_twoPeptides)))"
   ]
  },
  {
   "cell_type": "markdown",
   "id": "3df1f72a",
   "metadata": {},
   "source": [
    "### Tissue Count"
   ]
  },
  {
   "cell_type": "code",
   "execution_count": 42,
   "id": "d2cbc230",
   "metadata": {},
   "outputs": [],
   "source": [
    "sdrf = pd.read_table(\"/mnt/nfs/wangd/project/10154parquet/PXD010154.sdrf.tsv\")\n",
    "sdrf[\"reference_file_name\"] = sdrf['comment[data file]'].str.split(\".\", expand=True)[0]\n",
    "file_tissue_map = sdrf[[\"characteristics[organism part]\",\"source name\",\"reference_file_name\"]].set_index('reference_file_name').to_dict()\n",
    "tissue_files = sdrf[[\"characteristics[organism part]\",\"reference_file_name\"]].drop_duplicates()[\"characteristics[organism part]\"].value_counts()\n",
    "tissue_samples = sdrf[[\"characteristics[organism part]\",\"source name\"]].drop_duplicates()[\"characteristics[organism part]\"].value_counts()"
   ]
  },
  {
   "cell_type": "code",
   "execution_count": 43,
   "id": "a543caf4",
   "metadata": {},
   "outputs": [],
   "source": [
    "reference_file_pep_info = {}\n",
    "tissue_pep_info = {}\n",
    "for index,row in proteins_count.iterrows():\n",
    "    seq = row[\"sequence_x\"]\n",
    "    reference_file = row[\"reference_file_name\"]\n",
    "    tissue = file_tissue_map[\"characteristics[organism part]\"][reference_file]\n",
    "    \n",
    "    if reference_file_pep_info.get(reference_file):\n",
    "        reference_file_pep_info[reference_file].add(seq)\n",
    "    else:\n",
    "        reference_file_pep_info[reference_file]= set()\n",
    "        reference_file_pep_info[reference_file].add(seq)\n",
    "    \n",
    "    if tissue_pep_info.get(tissue):\n",
    "        tissue_pep_info[tissue].add(seq)\n",
    "    else:\n",
    "        tissue_pep_info[tissue]= set()\n",
    "        tissue_pep_info[tissue].add(seq)"
   ]
  },
  {
   "cell_type": "code",
   "execution_count": 44,
   "id": "a935721f",
   "metadata": {},
   "outputs": [],
   "source": [
    "create_info_table(reference_file_pep_info,\"reference_file\",\"/mnt/nfs/wangd/project/paper_db/count/reference_file_peps.tsv\")\n",
    "create_info_table(tissue_pep_info,\"Tissue\",\"/mnt/nfs/wangd/project/paper_db/count/tissue_peps.tsv\")\n",
    "\n",
    "tissue_pep = pd.read_table(\"/mnt/nfs/wangd/project/paper_db/count/tissue_peps.tsv\")\n",
    "tissue_pep[\"sample_nums\"] = tissue_pep[\"Tissue\"].map(tissue_samples)\n",
    "tissue_pep[\"files_nums\"] = tissue_pep[\"Tissue\"].map(tissue_files)\n",
    "tissue_pep.sort_values(\"Count\",ascending=False,inplace=True)\n",
    "tissue_pep.to_csv(\"/mnt/nfs/wangd/project/paper_db/count/tissue_peps.tsv\", header=1, sep=\"\\t\",index = None)"
   ]
  },
  {
   "cell_type": "code",
   "execution_count": 45,
   "id": "7cfaa26f",
   "metadata": {},
   "outputs": [
    {
     "data": {
      "image/png": "[encoded data removed]",
      "text/plain": [
       "<Figure size 1200x900 with 1 Axes>"
      ]
     },
     "metadata": {},
     "output_type": "display_data"
    }
   ],
   "source": [
    "df = pd.read_table(\"/mnt/nfs/wangd/project/paper_db/count/tissue_peps.tsv\")\n",
    "index = df.columns[0]\n",
    "df = df.sort_values('Count', ascending=False)\n",
    "\n",
    "plt.figure(figsize=(12,9))\n",
    "bar_width = 0.9\n",
    "plt.bar(df[index], df['Count'], width=bar_width, align='center')\n",
    "plt.xlabel(index)\n",
    "plt.ylabel('Count')\n",
    "plt.title('Peptide_Count')\n",
    "plt.xticks(rotation='vertical')  \n",
    "plt.tight_layout()  \n",
    "for i, (count, num) in enumerate(zip(df['Count'], df['sample_nums'])):\n",
    "    plt.text(i, count, f\"{count}({num})\", ha='center', va='bottom', fontsize=7)\n",
    "plt.savefig('/mnt/nfs/wangd/project/paper_db/count/count-plot/' + index + '-peps-plot.svg', format='svg')"
   ]
  },
  {
   "cell_type": "markdown",
   "id": "8061bdff",
   "metadata": {},
   "source": [
    "### gene_symbol Count（Contains only genes greater than 10）"
   ]
  },
  {
   "cell_type": "code",
   "execution_count": 46,
   "id": "099b4f00",
   "metadata": {},
   "outputs": [
    {
     "data": {
      "image/png": "[encoded data removed]",
      "text/plain": [
       "<Figure size 640x480 with 1 Axes>"
      ]
     },
     "metadata": {},
     "output_type": "display_data"
    }
   ],
   "source": [
    "df = pd.read_table(\"/mnt/nfs/wangd/project/paper_db/count/gene_symbol_peps.tsv\")\n",
    "index = df.columns[0]\n",
    "\n",
    "df = df.sort_values('Count', ascending=False)\n",
    "# df = df[df[\"Count\"]>10]\n",
    "\n",
    "bar_width = 1\n",
    "plt.bar(df[index], df['Count'],width=bar_width)\n",
    "plt.xlabel(index)\n",
    "plt.ylabel('Count')\n",
    "plt.title('Peptide_Count')\n",
    "\n",
    "# plt.xticks(rotation='vertical')  \n",
    "plt.xticks([])\n",
    "plt.tight_layout()  \n",
    "\n",
    "# for i, count in enumerate(df['Count']):\n",
    "#     plt.text(i, count, str(count), ha='center', va='bottom', fontsize=7)\n",
    "\n",
    "plt.savefig('/mnt/nfs/wangd/project/paper_db/count/count-plot/gene_symbol-plot.svg', format='svg')"
   ]
  },
  {
   "cell_type": "markdown",
   "id": "e43ef94f",
   "metadata": {},
   "source": [
    "### Reference File Count"
   ]
  },
  {
   "cell_type": "code",
   "execution_count": 47,
   "id": "ce75f03f",
   "metadata": {},
   "outputs": [
    {
     "data": {
      "image/png": "[encoded data removed]",
      "text/plain": [
       "<Figure size 640x480 with 1 Axes>"
      ]
     },
     "metadata": {},
     "output_type": "display_data"
    }
   ],
   "source": [
    "df = pd.read_table(\"/mnt/nfs/wangd/project/paper_db/count/reference_file_peps.tsv\")\n",
    "index = df.columns[0]\n",
    "\n",
    "df = df.sort_values('Count', ascending=False)\n",
    "\n",
    "bar_width = 0.99\n",
    "plt.bar(df[index], df['Count'],width=bar_width)\n",
    "plt.xlabel(index)\n",
    "plt.ylabel('Count')\n",
    "plt.title('Peptide_Count')\n",
    "plt.xticks([])\n",
    "plt.tight_layout()  \n",
    "\n",
    "plt.savefig('/mnt/nfs/wangd/project/paper_db/count/count-plot/reference_file-plot.svg', format='svg')"
   ]
  },
  {
   "cell_type": "markdown",
   "id": "cf4d46d1",
   "metadata": {},
   "source": [
    "### GCA Sample Count"
   ]
  },
  {
   "cell_type": "code",
   "execution_count": 48,
   "id": "fdce726a",
   "metadata": {},
   "outputs": [
    {
     "data": {
      "image/png": "[encoded data removed]",
      "text/plain": [
       "<Figure size 640x480 with 1 Axes>"
      ]
     },
     "metadata": {},
     "output_type": "display_data"
    }
   ],
   "source": [
    "df = pd.read_table(\"/mnt/nfs/wangd/project/paper_db/count/sample_peps.tsv\")\n",
    "index = df.columns[0]\n",
    "\n",
    "df = df.sort_values('Count', ascending=False)\n",
    "\n",
    "bar_width = 0.9\n",
    "plt.bar(df[index], df['Count'],width=bar_width)\n",
    "plt.xlabel(index)\n",
    "plt.ylabel('Count')\n",
    "plt.title('Peptide_Count')\n",
    "plt.xticks([])\n",
    "plt.tight_layout()  \n",
    "\n",
    "plt.savefig('/mnt/nfs/wangd/project/paper_db/count/count-plot/gca_sample-plot.svg', format='svg')"
   ]
  },
  {
   "cell_type": "code",
   "execution_count": null,
   "id": "809ac857",
   "metadata": {},
   "outputs": [],
   "source": []
  }
 ],
 "metadata": {
  "kernelspec": {
   "display_name": "Python 3 (ipykernel)",
   "language": "python",
   "name": "python3"
  },
  "language_info": {
   "codemirror_mode": {
    "name": "ipython",
    "version": 3
   },
   "file_extension": ".py",
   "mimetype": "text/x-python",
   "name": "python",
   "nbconvert_exporter": "python",
   "pygments_lexer": "ipython3",
   "version": "3.8.17"
  }
 },
 "nbformat": 4,
 "nbformat_minor": 5
}
